{
 "cells": [
  {
   "cell_type": "code",
   "execution_count": 3,
   "id": "5562b5e3",
   "metadata": {},
   "outputs": [
    {
     "name": "stdout",
     "output_type": "stream",
     "text": [
      "The autoreload extension is already loaded. To reload it, use:\n",
      "  %reload_ext autoreload\n"
     ]
    }
   ],
   "source": [
    "%load_ext autoreload\n",
    "%autoreload 2"
   ]
  },
  {
   "cell_type": "code",
   "execution_count": 4,
   "id": "cf19ae89",
   "metadata": {},
   "outputs": [],
   "source": [
    "import sys\n",
    "sys.path.append(\"./..\")"
   ]
  },
  {
   "cell_type": "code",
   "execution_count": 5,
   "id": "3a5bbdb6",
   "metadata": {},
   "outputs": [
    {
     "name": "stderr",
     "output_type": "stream",
     "text": [
      "No GPU/TPU found, falling back to CPU. (Set TF_CPP_MIN_LOG_LEVEL=0 and rerun for more info.)\n"
     ]
    }
   ],
   "source": [
    "from src.numerical_methods import *"
   ]
  },
  {
   "cell_type": "code",
   "execution_count": 6,
   "id": "c4a06838",
   "metadata": {},
   "outputs": [],
   "source": [
    "import json\n",
    "\n",
    "import torch\n",
    "from torch.utils.data import DataLoader, Dataset\n",
    "import torchvision\n",
    "from torchvision.models.resnet import resnet50\n",
    "\n",
    "\n",
    "from architectures import get_architecture\n",
    "from datasets import get_dataset, DATASETS, get_num_classes, get_normalize_layer"
   ]
  },
  {
   "cell_type": "code",
   "execution_count": 16,
   "id": "19ff4702",
   "metadata": {},
   "outputs": [],
   "source": [
    "from src.certification_utils import *\n",
    "from src.smoothing_and_attacks import *\n",
    "from src.utils import *"
   ]
  },
  {
   "cell_type": "code",
   "execution_count": 7,
   "id": "e9906fa7",
   "metadata": {},
   "outputs": [],
   "source": [
    "rng = jax.random.PRNGKey(33)\n",
    "rng, key = jax.random.split(rng)"
   ]
  },
  {
   "cell_type": "code",
   "execution_count": 8,
   "id": "c5b6d6e0",
   "metadata": {},
   "outputs": [],
   "source": [
    "ns = 10_000\n",
    "normal_samples = jax.random.normal(key, [100_000])"
   ]
  },
  {
   "cell_type": "code",
   "execution_count": 9,
   "id": "47e4ae84",
   "metadata": {},
   "outputs": [],
   "source": [
    "def norm_to_exp(c, lam):\n",
    "    print(c.shape)\n",
    "    idx = np.random.randint(0, len(normal_samples), (c.shape[0], 4))\n",
    "    q = normal_samples[idx]\n",
    "    \n",
    "    return jax.numpy.abs(q[:, 0] * q[:, 1] - q[:, 2] * q[:, 3]) / lam\n",
    "    \n",
    "    \n",
    "def norm_to_ray(c, sigma):\n",
    "    idx = np.random.randint(0, len(normal_samples), (c.shape[0], 2))\n",
    "    c01 = normal_samples[idx] * sigma \n",
    "#     c = c * sigma\n",
    "    return jnp.sqrt(c01[:, 0] ** 2 + c01[:, 1] ** 2)"
   ]
  },
  {
   "cell_type": "code",
   "execution_count": 10,
   "id": "27d3603c",
   "metadata": {},
   "outputs": [],
   "source": [
    "def norm_to_exp_1d(c, lam):\n",
    "\n",
    "    idx = np.random.randint(0, len(normal_samples), 4)\n",
    "    q = normal_samples[idx]\n",
    "    \n",
    "    return jax.numpy.abs(q[0] * q[1] - q[2] * q[3]) / lam\n",
    "    \n",
    "    \n",
    "def norm_to_ray_1d(c, sigma):\n",
    "    idx = np.random.randint(0, len(normal_samples), 2)\n",
    "    c01 = normal_samples[idx] * sigma \n",
    "    c = c * sigma\n",
    "    return jnp.sqrt(c ** 2 + c01[1] ** 2)"
   ]
  },
  {
   "cell_type": "code",
   "execution_count": 11,
   "id": "9af489e6",
   "metadata": {},
   "outputs": [],
   "source": [
    "def norm_to_exp_torch(s, lam):\n",
    "    norm1 = torch.randn(s)\n",
    "    norm2 = torch.randn(s)\n",
    "    norm3 = torch.randn(s)\n",
    "    norm4 = torch.randn(s)\n",
    "    return torch.abs(norm1 * norm2 - norm3 * norm4) / lam\n",
    "    "
   ]
  },
  {
   "cell_type": "code",
   "execution_count": 12,
   "id": "8fbdf0d6",
   "metadata": {},
   "outputs": [],
   "source": [
    "sigma_b = None\n",
    "sigma_c = None\n",
    "sigma_tr = None\n",
    "sigma_gamma = None\n",
    "sigma_blur = None\n",
    "\n",
    "def gamma(x, b, c, tr_type:str):\n",
    "\n",
    "    \n",
    "    if tr_type == 'ct': \n",
    "        \n",
    "        c0 = c[0] / DEFAULT_SIGMA *sigma_c\n",
    "        c1 = c[1] / DEFAULT_SIGMA *sigma_tr\n",
    "        c2 = c[2] / DEFAULT_SIGMA *sigma_tr\n",
    "        \n",
    "        \n",
    "        b0 = b[0]*norm_to_lognorm(c0)\n",
    "        b1 = b[1] + c1\n",
    "        b2 = b[2] + c2\n",
    "\n",
    "        return jnp.array([b0,b1,b2])\n",
    "    \n",
    "    if tr_type == 'cbt': #\n",
    "        c0 = norm_to_lognorm(c[0]*sigma_c)\n",
    "        c1 = c[1]*sigma_b\n",
    "        c2 = c[2]*sigma_tr\n",
    "        c3 = c[3]*sigma_tr\n",
    "\n",
    "\n",
    "\n",
    "        b0 = c0*b[0]\n",
    "        b1 = b[1]*c0 +c1\n",
    "        b2 = b[2] +c2\n",
    "        b3 = b[3] + c3\n",
    "\n",
    "        return jnp.array([b0,b1, b2, b3])\n",
    "    \n",
    "    if tr_type == 'tbbc': #translation -  -Blur- Brightness - Contrast\n",
    "        # Norm(0, 1) -> Laplace(1/sigma_blur) -> Exp(sigma_blur)\n",
    "        c0 = c[0] / DEFAULT_SIGMA * sigma_tr\n",
    "        c1 = c[1] / DEFAULT_SIGMA * sigma_tr\n",
    "        c2 = c[2] / DEFAULT_SIGMA #* sigma_blur\n",
    "        c3 = c[3] / DEFAULT_SIGMA * sigma_b\n",
    "        c4 = c[5] / DEFAULT_SIGMA * sigma_c\n",
    "\n",
    "        x2 = jax.random.normal(key)\n",
    "        x3 = jax.random.normal(key)\n",
    "        x4 = jax.random.normal(key)\n",
    "        c2 = norm_to_exp_1d(c2, sigma_blur)\n",
    "        b0 = b[0] + c0\n",
    "        b1 = b[1] + c1\n",
    "#         b2 = b[2] + norm_to_exp(c2) * sigma_blur\n",
    "        b2 = b[2] + c2\n",
    "        b3 = b[3] + c3 / b[4]\n",
    "        b4 = norm_to_lognorm(c4)*b[4]\n",
    "\n",
    "        return jnp.array([b0,b1,b2,b3,b4])\n",
    "\n",
    "    if tr_type == 'tbbc_ray': #translation -  -Blur- Brightness - Contrast\n",
    "\n",
    "        c0 = c[0] / DEFAULT_SIGMA * sigma_tr\n",
    "        c1 = c[1] / DEFAULT_SIGMA * sigma_tr\n",
    "        c2 = c[2] / DEFAULT_SIGMA\n",
    "        c3 = c[3] / DEFAULT_SIGMA * sigma_b\n",
    "        c4 = c[5] / DEFAULT_SIGMA * sigma_c\n",
    "\n",
    "\n",
    "\n",
    "        c2 = norm_to_ray_1d(c2, sigma_blur)\n",
    "\n",
    "        b0 = b[0] + c0\n",
    "        b1 = b[1] + c1\n",
    "        b2 = b[2] + c2\n",
    "        b3 = b[3] + c3 / b[4]\n",
    "        b4 = norm_to_lognorm(c4)*b[4]\n",
    "\n",
    "        return jnp.array([b0,b1,b2,b3,b4])\n"
   ]
  },
  {
   "cell_type": "code",
   "execution_count": 14,
   "id": "fc3a9aca",
   "metadata": {},
   "outputs": [],
   "source": [
    "device = torch.device(\"cuda:7\")\n",
    "\n",
    "n0 = 200\n",
    "maxn = 1000\n",
    "adaptive=False # whether to stop certification procedure earlier\n",
    "alpha = 1e-3 # confidence"
   ]
  },
  {
   "cell_type": "code",
   "execution_count": 15,
   "id": "d01ac8aa",
   "metadata": {},
   "outputs": [
    {
     "name": "stderr",
     "output_type": "stream",
     "text": [
      "/opt/conda/lib/python3.8/site-packages/torchvision/transforms/transforms.py:285: UserWarning: The use of the transforms.Scale transform is deprecated, please use transforms.Resize instead.\n",
      "  warnings.warn(\"The use of the transforms.Scale transform is deprecated, \" +\n",
      "  0%|          | 2/500 [00:00<00:32, 15.23it/s]"
     ]
    },
    {
     "name": "stdout",
     "output_type": "stream",
     "text": [
      "[79433 22205 62675 30311 70770 87664 78293 73279 49127 88153]\n"
     ]
    },
    {
     "name": "stderr",
     "output_type": "stream",
     "text": [
      "100%|██████████| 500/500 [00:28<00:00, 17.75it/s]\n"
     ]
    },
    {
     "ename": "NameError",
     "evalue": "name 'CustomAudioDataset' is not defined",
     "output_type": "error",
     "traceback": [
      "\u001b[0;31m---------------------------------------------------------------------------\u001b[0m",
      "\u001b[0;31mNameError\u001b[0m                                 Traceback (most recent call last)",
      "\u001b[0;32m<ipython-input-15-df1340cd9e50>\u001b[0m in \u001b[0;36m<module>\u001b[0;34m\u001b[0m\n\u001b[1;32m     23\u001b[0m \u001b[0mprint\u001b[0m\u001b[0;34m(\u001b[0m\u001b[0midxes\u001b[0m\u001b[0;34m[\u001b[0m\u001b[0;34m:\u001b[0m\u001b[0;36m10\u001b[0m\u001b[0;34m]\u001b[0m\u001b[0;34m)\u001b[0m\u001b[0;34m\u001b[0m\u001b[0;34m\u001b[0m\u001b[0m\n\u001b[1;32m     24\u001b[0m \u001b[0;34m\u001b[0m\u001b[0m\n\u001b[0;32m---> 25\u001b[0;31m \u001b[0mourdataset100\u001b[0m \u001b[0;34m=\u001b[0m \u001b[0mmake_our_dataset_v2\u001b[0m\u001b[0;34m(\u001b[0m\u001b[0mtest_dataset\u001b[0m\u001b[0;34m,\u001b[0m \u001b[0midxes\u001b[0m\u001b[0;34m)\u001b[0m\u001b[0;34m\u001b[0m\u001b[0;34m\u001b[0m\u001b[0m\n\u001b[0m\u001b[1;32m     26\u001b[0m \u001b[0;34m\u001b[0m\u001b[0m\n\u001b[1;32m     27\u001b[0m dataloader100 = DataLoader(ourdataset100, shuffle=False, batch_size=1,\n",
      "\u001b[0;32m<ipython-input-15-df1340cd9e50>\u001b[0m in \u001b[0;36mmake_our_dataset_v2\u001b[0;34m(data, idxes)\u001b[0m\n\u001b[1;32m     11\u001b[0m     \u001b[0mimages\u001b[0m \u001b[0;34m=\u001b[0m \u001b[0mnp\u001b[0m\u001b[0;34m.\u001b[0m\u001b[0marray\u001b[0m\u001b[0;34m(\u001b[0m\u001b[0mimages\u001b[0m\u001b[0;34m)\u001b[0m\u001b[0;34m\u001b[0m\u001b[0;34m\u001b[0m\u001b[0m\n\u001b[1;32m     12\u001b[0m     \u001b[0mlabels\u001b[0m \u001b[0;34m=\u001b[0m \u001b[0mnp\u001b[0m\u001b[0;34m.\u001b[0m\u001b[0marray\u001b[0m\u001b[0;34m(\u001b[0m\u001b[0mlabels\u001b[0m\u001b[0;34m)\u001b[0m\u001b[0;34m\u001b[0m\u001b[0;34m\u001b[0m\u001b[0m\n\u001b[0;32m---> 13\u001b[0;31m     \u001b[0mdataset\u001b[0m \u001b[0;34m=\u001b[0m \u001b[0mCustomAudioDataset\u001b[0m\u001b[0;34m(\u001b[0m\u001b[0mimages\u001b[0m\u001b[0;34m,\u001b[0m \u001b[0mlabels\u001b[0m\u001b[0;34m)\u001b[0m\u001b[0;34m\u001b[0m\u001b[0;34m\u001b[0m\u001b[0m\n\u001b[0m\u001b[1;32m     14\u001b[0m     \u001b[0;32mreturn\u001b[0m \u001b[0mdataset\u001b[0m\u001b[0;34m\u001b[0m\u001b[0;34m\u001b[0m\u001b[0m\n\u001b[1;32m     15\u001b[0m \u001b[0;34m\u001b[0m\u001b[0m\n",
      "\u001b[0;31mNameError\u001b[0m: name 'CustomAudioDataset' is not defined"
     ]
    }
   ],
   "source": [
    "def make_our_dataset_v2(data, idxes):\n",
    "    images = []\n",
    "    labels = []\n",
    "    k = 0\n",
    "    for i in tqdm(range(len(idxes))):\n",
    "        image, label = data[idxes[i]]\n",
    "        images.append(image.numpy())\n",
    "        \n",
    "        labels.append(label)\n",
    "\n",
    "    images = np.array(images)\n",
    "    labels = np.array(labels)\n",
    "    dataset = CustomAudioDataset(images, labels)\n",
    "    return dataset\n",
    "\n",
    "test_dataset = get_dataset('imagenet', 'test')\n",
    "pin_memory = False  # ('imagenet' == \"imagenet\")\n",
    "bs = 64\n",
    "\n",
    "NUM_IMAGES_FOR_TEST = 500\n",
    "idxes = np.random.choice(len(test_dataset), NUM_IMAGES_FOR_TEST , replace=False)\n",
    "\n",
    "print(idxes[:10])\n"
   ]
  },
  {
   "cell_type": "code",
   "execution_count": 17,
   "id": "6dc8c90a",
   "metadata": {},
   "outputs": [
    {
     "name": "stderr",
     "output_type": "stream",
     "text": [
      "100%|██████████| 500/500 [00:28<00:00, 17.57it/s]\n"
     ]
    }
   ],
   "source": [
    "ourdataset100 = make_our_dataset_v2(test_dataset, idxes)\n",
    "\n",
    "dataloader100 = DataLoader(ourdataset100, shuffle=False, batch_size=1,\n",
    "                         num_workers=6, pin_memory=False)"
   ]
  },
  {
   "cell_type": "markdown",
   "id": "14e9a1cb",
   "metadata": {},
   "source": [
    "# CT"
   ]
  },
  {
   "cell_type": "code",
   "execution_count": 18,
   "id": "c691ca2e",
   "metadata": {},
   "outputs": [],
   "source": [
    "sigma_c = 0.4\n",
    "sigma_tr = 30\n"
   ]
  },
  {
   "cell_type": "code",
   "execution_count": 19,
   "id": "7576cc08",
   "metadata": {},
   "outputs": [
    {
     "name": "stderr",
     "output_type": "stream",
     "text": [
      "100%|██████████| 3468/3468 [03:48<00:00, 15.16it/s]\n"
     ]
    },
    {
     "name": "stdout",
     "output_type": "stream",
     "text": [
      "(3468, 20000)\n",
      "(3468,)\n",
      "(20000,)\n"
     ]
    },
    {
     "data": {
      "image/png": "[encoded data removed]",
      "text/plain": [
       "<Figure size 432x288 with 1 Axes>"
      ]
     },
     "metadata": {
      "needs_background": "light"
     },
     "output_type": "display_data"
    },
    {
     "data": {
      "image/png": "[encoded data removed]",
      "text/plain": [
       "<Figure size 432x288 with 1 Axes>"
      ]
     },
     "metadata": {
      "needs_background": "light"
     },
     "output_type": "display_data"
    },
    {
     "data": {
      "image/png": "[encoded data removed]",
      "text/plain": [
       "<Figure size 432x288 with 1 Axes>"
      ]
     },
     "metadata": {
      "needs_background": "light"
     },
     "output_type": "display_data"
    }
   ],
   "source": [
    "ns = 20000\n",
    "x0 = jnp.array([1.1,0.3, -10]) # WHATEVER \n",
    "d = 3\n",
    "b_zero = jnp.array([1.0, 0.0, 0.0])\n",
    "\n",
    "betas1 = jnp.linspace(0.4, 2.2, 12) ## set a bit larger range than you want to certify\n",
    "betas2 = jnp.linspace(-60, 60, 17)\n",
    "betas3 = jnp.linspace(-60, 60, 17)\n",
    "betas = jnp.asarray(list(map(jnp.array, itertools.product(betas1, betas2, betas3)))) \n",
    "\n",
    "type_of_transform = 'ct'\n",
    "bounds, p, g = compute_normed_bounds(compute_bound, x0, gamma, b_zero, betas, key, ns, d, type_of_transform)\n",
    "\n",
    "x, xi = pxi_to_xi(p)\n",
    "\n",
    "for b in bounds[:1000]:\n",
    "    plt.plot(b)\n",
    "plt.show()\n",
    "\n",
    "plt.plot(g)\n",
    "plt.show()\n",
    "\n",
    "plt.plot(p)\n",
    "plt.show()\n",
    "\n",
    "\n"
   ]
  },
  {
   "cell_type": "code",
   "execution_count": 20,
   "id": "1260ae71",
   "metadata": {},
   "outputs": [
    {
     "name": "stderr",
     "output_type": "stream",
     "text": [
      "100%|██████████| 3468/3468 [01:14<00:00, 46.70it/s]\n"
     ]
    }
   ],
   "source": [
    "betas_list = [betas1, betas2, betas3]\n",
    "shape = [b.shape[0] for b in betas_list]\n",
    "z = csaps(betas_list, g.reshape(shape))\n",
    "\n",
    "hg = []\n",
    "\n",
    "for beta in tqdm(betas):\n",
    "    hat_g = g_to_hat_g(z, beta, b_zero)\n",
    "    hg.append(hat_g)\n",
    "\n",
    "hat_g = jnp.asarray(hg)\n",
    "\n",
    "hatg_int = csaps(betas_list, hat_g.reshape(shape)) #"
   ]
  },
  {
   "cell_type": "code",
   "execution_count": 21,
   "id": "61694639",
   "metadata": {},
   "outputs": [],
   "source": [
    "xs = np.linspace(0.5,1-1e-4,100)\n",
    "r_our = lambda h: -xi(1-h)+xi(0.5)\n",
    "# r_tss_bc= lambda h: 1/2*(xi(h) - xi(1-h))"
   ]
  },
  {
   "cell_type": "code",
   "execution_count": 22,
   "id": "1cefb54b",
   "metadata": {},
   "outputs": [
    {
     "data": {
      "image/png": "[encoded data removed]",
      "text/plain": [
       "<Figure size 720x480 with 1 Axes>"
      ]
     },
     "metadata": {
      "needs_background": "light"
     },
     "output_type": "display_data"
    }
   ],
   "source": [
    "plt.figure(dpi=120)\n",
    "plt.plot(xs, xi(xs), label='our just xi')\n",
    "plt.plot(xs, r_our(xs), label='our r')\n",
    "# plt.plot(xs, r_tss_bc(xs), '--', label='tss')\n",
    "# plt.yscale('log')\n",
    "plt.legend()\n",
    "plt.show()\n"
   ]
  },
  {
   "cell_type": "code",
   "execution_count": null,
   "id": "c9700eb8",
   "metadata": {},
   "outputs": [],
   "source": []
  },
  {
   "cell_type": "code",
   "execution_count": 23,
   "id": "51c567f0",
   "metadata": {},
   "outputs": [],
   "source": [
    "# checkpoint = torch.load('ReportResults/ContrasttTrans_08_40_checkpoint.pth.tar')\n",
    "checkpoint = torch.load('../checkpoints/trans_blur_bright_contrast/TransBrightBlurContrast_40_04_10_04_checkpoint.pth.tar')\n",
    "model = torchvision.models.resnet50(pretrained=False).to(device)#.cuda()\n",
    "normalize_layer = get_normalize_layer('imagenet', device).to(device)#.cuda()\n",
    "model = torch.nn.Sequential(normalize_layer, model)\n",
    "model.load_state_dict(checkpoint['state_dict'])\n",
    "model.eval()\n",
    "model = model.to(device)"
   ]
  },
  {
   "cell_type": "code",
   "execution_count": 24,
   "id": "80f3f340",
   "metadata": {},
   "outputs": [],
   "source": [
    "# test_dataset = get_dataset('imagenet', 'test')\n",
    "# pin_memory = False  # ('imagenet' == \"imagenet\")\n",
    "# bs = 64\n",
    "\n",
    "\n",
    "# testloader1 = DataLoader(test_dataset, shuffle=False, batch_size=1, num_workers=6, pin_memory=False)\n",
    "\n",
    "\n",
    "# ourdataset100 = make_our_dataset(testloader1, 100)\n",
    "\n",
    "# dataloader100  = DataLoader(ourdataset100, shuffle=False, batch_size=1,\n",
    "#                          num_workers=6, pin_memory=False)"
   ]
  },
  {
   "cell_type": "code",
   "execution_count": 25,
   "id": "b1b92227",
   "metadata": {},
   "outputs": [
    {
     "name": "stderr",
     "output_type": "stream",
     "text": [
      "  0%|          | 0/500 [00:00<?, ?it/s]/opt/conda/lib/python3.8/site-packages/torch/nn/functional.py:718: UserWarning: Named tensors and all their associated APIs are an experimental feature and subject to change. Please do not use them for anything important until they are released as stable. (Triggered internally at  /pytorch/c10/core/TensorImpl.h:1156.)\n",
      "  return torch.max_pool2d(input, kernel_size, stride, padding, dilation, ceil_mode)\n",
      "100%|██████████| 500/500 [00:07<00:00, 63.60it/s]"
     ]
    },
    {
     "name": "stdout",
     "output_type": "stream",
     "text": [
      "0.348\n"
     ]
    },
    {
     "name": "stderr",
     "output_type": "stream",
     "text": [
      "\n"
     ]
    }
   ],
   "source": [
    "iscor = Accuracy(model, loader=dataloader100, device=device) # Accuracy of non-smoothed model on original images"
   ]
  },
  {
   "cell_type": "code",
   "execution_count": 26,
   "id": "ae531468",
   "metadata": {},
   "outputs": [],
   "source": [
    "Phi = construct_phi(type_of_transform, device, sigma_c=sigma_c, sigma_tr=sigma_tr)\n",
    "attack = attack_ct_torch"
   ]
  },
  {
   "cell_type": "code",
   "execution_count": 27,
   "id": "efc0bde2",
   "metadata": {},
   "outputs": [],
   "source": []
  },
  {
   "cell_type": "code",
   "execution_count": 28,
   "id": "15f6f302",
   "metadata": {},
   "outputs": [
    {
     "name": "stderr",
     "output_type": "stream",
     "text": [
      "100%|██████████| 500/500 [09:24<00:00,  1.13s/it]\n"
     ]
    }
   ],
   "source": [
    "pas_ct = pa_isOk_collector(model, loader=dataloader100, Phi=Phi, device=device, n0=n0, maxn=maxn, alpha=alpha, batch_size=256, adaptive=adaptive)\n",
    "paCP, isOkCP = pas_ct # Clopper - Pearson"
   ]
  },
  {
   "cell_type": "code",
   "execution_count": 29,
   "id": "57782fe9",
   "metadata": {
    "scrolled": true
   },
   "outputs": [
    {
     "name": "stdout",
     "output_type": "stream",
     "text": [
      "Ordinary accuracy of Smoothed Classiifer 0.298\n"
     ]
    }
   ],
   "source": [
    "print('Ordinary accuracy of Smoothed Classiifer', np.mean(isOkCP))"
   ]
  },
  {
   "cell_type": "code",
   "execution_count": 30,
   "id": "e39f8315",
   "metadata": {},
   "outputs": [
    {
     "data": {
      "text/plain": [
       "(array([ 43.,  68., 127., 132.,  50.,  15.,  18.,  18.,  14.,  15.]),\n",
       " array([0.07379453, 0.16173982, 0.2496851 , 0.33763039, 0.42557567,\n",
       "        0.51352096, 0.60146624, 0.68941153, 0.77735681, 0.8653021 ,\n",
       "        0.95324738]),\n",
       " <BarContainer object of 10 artists>)"
      ]
     },
     "execution_count": 30,
     "metadata": {},
     "output_type": "execute_result"
    },
    {
     "data": {
      "image/png": "[encoded data removed]",
      "text/plain": [
       "<Figure size 432x288 with 1 Axes>"
      ]
     },
     "metadata": {
      "needs_background": "light"
     },
     "output_type": "display_data"
    }
   ],
   "source": [
    "plt.hist(paCP)"
   ]
  },
  {
   "cell_type": "code",
   "execution_count": 42,
   "id": "c250e208",
   "metadata": {},
   "outputs": [],
   "source": [
    "betas1a = jnp.linspace(0.8, 1.2, 10) ## set a bit larger range than you want to certify\n",
    "betas2a = jnp.linspace(-25, 25, 11)\n",
    "betas3a = jnp.linspace(-25, 25, 11)\n",
    "betas_attack = jnp.asarray(list(map(jnp.array, itertools.product(betas1a, betas2a, betas3a))))\n",
    "\n"
   ]
  },
  {
   "cell_type": "code",
   "execution_count": 43,
   "id": "d6d3d094",
   "metadata": {
    "scrolled": true
   },
   "outputs": [
    {
     "name": "stderr",
     "output_type": "stream",
     "text": [
      "  0%|          | 0/1210 [00:00<?, ?it/s]\n",
      "  0%|          | 0/1210 [00:00<?, ?it/s]\n",
      "  0%|          | 0/1210 [00:00<?, ?it/s]\n",
      "  0%|          | 0/1210 [00:00<?, ?it/s]\n",
      "  0%|          | 0/1210 [00:00<?, ?it/s]\n",
      "  0%|          | 0/1210 [00:00<?, ?it/s]\n",
      "  0%|          | 0/1210 [00:00<?, ?it/s]\n",
      "  0%|          | 0/1210 [00:00<?, ?it/s]\n",
      "  0%|          | 0/1210 [00:00<?, ?it/s]\n",
      "  0%|          | 0/1210 [00:00<?, ?it/s]\n",
      "  0%|          | 0/1210 [00:00<?, ?it/s]\n",
      "  0%|          | 0/1210 [00:00<?, ?it/s]\n",
      "  0%|          | 0/1210 [00:00<?, ?it/s]\n",
      "  0%|          | 0/1210 [00:00<?, ?it/s]\n",
      "  0%|          | 0/1210 [00:00<?, ?it/s]\n",
      "  0%|          | 0/1210 [00:00<?, ?it/s]\n",
      "  0%|          | 0/1210 [00:00<?, ?it/s]\n",
      "  0%|          | 0/1210 [00:00<?, ?it/s]\n",
      "  0%|          | 0/1210 [00:00<?, ?it/s]\n",
      "  0%|          | 0/1210 [00:00<?, ?it/s]\n",
      "  0%|          | 0/1210 [00:00<?, ?it/s]\n",
      "  0%|          | 0/1210 [00:00<?, ?it/s]\n",
      "  0%|          | 0/1210 [00:00<?, ?it/s]\n",
      "  0%|          | 0/1210 [00:00<?, ?it/s]\n",
      "  0%|          | 0/1210 [00:00<?, ?it/s]\n",
      "  0%|          | 0/1210 [00:00<?, ?it/s]\n",
      "  0%|          | 0/1210 [00:00<?, ?it/s]\n",
      "  0%|          | 0/1210 [00:00<?, ?it/s]\n",
      "  0%|          | 0/1210 [00:00<?, ?it/s]\n",
      "  0%|          | 0/1210 [00:00<?, ?it/s]\n",
      "  0%|          | 0/1210 [00:00<?, ?it/s]\n",
      "  0%|          | 0/1210 [00:00<?, ?it/s]\n",
      "  0%|          | 0/1210 [00:00<?, ?it/s]\n",
      "  0%|          | 0/1210 [00:00<?, ?it/s]\n",
      "  0%|          | 0/1210 [00:00<?, ?it/s]\n",
      "  0%|          | 0/1210 [00:00<?, ?it/s]\n",
      "  0%|          | 0/1210 [00:00<?, ?it/s]\n",
      "  0%|          | 0/1210 [00:00<?, ?it/s]\n",
      "  0%|          | 0/1210 [00:00<?, ?it/s]\n",
      "  0%|          | 0/1210 [00:00<?, ?it/s]\n",
      "  0%|          | 0/1210 [00:00<?, ?it/s]\n",
      "  0%|          | 0/1210 [00:00<?, ?it/s]\n",
      "  0%|          | 0/1210 [00:00<?, ?it/s]\n",
      "  0%|          | 0/1210 [00:00<?, ?it/s]\n",
      "  0%|          | 0/1210 [00:00<?, ?it/s]\n",
      "  0%|          | 0/1210 [00:00<?, ?it/s]\n",
      "  0%|          | 0/1210 [00:00<?, ?it/s]\n",
      "  0%|          | 0/1210 [00:00<?, ?it/s]\n",
      "  0%|          | 0/1210 [00:00<?, ?it/s]\n",
      "  0%|          | 0/1210 [00:00<?, ?it/s]\n",
      "  0%|          | 0/1210 [00:00<?, ?it/s]\n",
      "  0%|          | 0/1210 [00:00<?, ?it/s]\n",
      "  0%|          | 0/1210 [00:00<?, ?it/s]\n",
      "  0%|          | 0/1210 [00:00<?, ?it/s]\n",
      "  0%|          | 0/1210 [00:00<?, ?it/s]\n",
      "  0%|          | 0/1210 [00:00<?, ?it/s]\n",
      "  0%|          | 0/1210 [00:00<?, ?it/s]\n",
      "  0%|          | 0/1210 [00:00<?, ?it/s]\n",
      "  0%|          | 0/1210 [00:00<?, ?it/s]\n",
      "  0%|          | 0/1210 [00:00<?, ?it/s]\n",
      "  0%|          | 0/1210 [00:00<?, ?it/s]\n",
      "  0%|          | 0/1210 [00:00<?, ?it/s]\n",
      "  0%|          | 0/1210 [00:00<?, ?it/s]\n",
      "  0%|          | 0/1210 [00:00<?, ?it/s]\n",
      "  0%|          | 0/1210 [00:00<?, ?it/s]\n",
      "  0%|          | 0/1210 [00:00<?, ?it/s]\n",
      "  0%|          | 0/1210 [00:00<?, ?it/s]\n",
      "  0%|          | 0/1210 [00:00<?, ?it/s]\n",
      "  0%|          | 0/1210 [00:00<?, ?it/s]\n",
      "  0%|          | 0/1210 [00:00<?, ?it/s]\n",
      "  0%|          | 0/1210 [00:00<?, ?it/s]\n",
      "  0%|          | 0/1210 [00:00<?, ?it/s]\n",
      "  0%|          | 0/1210 [00:00<?, ?it/s]\n",
      "  0%|          | 0/1210 [00:00<?, ?it/s]\n",
      "  0%|          | 0/1210 [00:00<?, ?it/s]\n",
      "  0%|          | 0/1210 [00:00<?, ?it/s]\n",
      "  0%|          | 0/1210 [00:00<?, ?it/s]\n",
      "  0%|          | 0/1210 [00:00<?, ?it/s]\n",
      "  0%|          | 0/1210 [00:00<?, ?it/s]\n",
      "  0%|          | 0/1210 [00:00<?, ?it/s]\n",
      "  0%|          | 0/1210 [00:00<?, ?it/s]\n",
      "  0%|          | 0/1210 [00:00<?, ?it/s]\n",
      "  0%|          | 0/1210 [00:00<?, ?it/s]\n",
      "  0%|          | 0/1210 [00:00<?, ?it/s]\n",
      "  0%|          | 0/1210 [00:00<?, ?it/s]\n",
      "  0%|          | 0/1210 [00:00<?, ?it/s]\n",
      "  0%|          | 0/1210 [00:00<?, ?it/s]\n",
      "  0%|          | 0/1210 [00:00<?, ?it/s]\n",
      "  0%|          | 0/1210 [00:00<?, ?it/s]\n",
      "  0%|          | 0/1210 [00:00<?, ?it/s]\n",
      "  0%|          | 0/1210 [00:00<?, ?it/s]\n",
      "  0%|          | 0/1210 [00:00<?, ?it/s]\n",
      "  0%|          | 0/1210 [00:00<?, ?it/s]\n",
      "  0%|          | 0/1210 [00:00<?, ?it/s]\n",
      "  0%|          | 0/1210 [00:00<?, ?it/s]\n",
      "  0%|          | 0/1210 [00:00<?, ?it/s]\n",
      "  0%|          | 0/1210 [00:00<?, ?it/s]\n",
      "  0%|          | 0/1210 [00:00<?, ?it/s]\n",
      "  0%|          | 0/1210 [00:00<?, ?it/s]\n",
      "  0%|          | 0/1210 [00:00<?, ?it/s]\n",
      "  0%|          | 0/1210 [00:00<?, ?it/s]\n",
      "  0%|          | 0/1210 [00:00<?, ?it/s]\n",
      "  0%|          | 0/1210 [00:00<?, ?it/s]\n",
      "  0%|          | 0/1210 [00:00<?, ?it/s]\n",
      "  0%|          | 0/1210 [00:00<?, ?it/s]\n",
      "  0%|          | 0/1210 [00:00<?, ?it/s]\n",
      "  0%|          | 0/1210 [00:00<?, ?it/s]\n",
      "  0%|          | 0/1210 [00:00<?, ?it/s]\n",
      "  0%|          | 0/1210 [00:00<?, ?it/s]\n",
      "  0%|          | 0/1210 [00:00<?, ?it/s]\n",
      "  0%|          | 0/1210 [00:00<?, ?it/s]\n",
      "  0%|          | 0/1210 [00:00<?, ?it/s]\n",
      "  0%|          | 0/1210 [00:00<?, ?it/s]\n",
      "  0%|          | 0/1210 [00:00<?, ?it/s]\n",
      "  0%|          | 0/1210 [00:00<?, ?it/s]\n",
      "  0%|          | 0/1210 [00:00<?, ?it/s]\n",
      "  0%|          | 0/1210 [00:00<?, ?it/s]\n",
      "  0%|          | 0/1210 [00:00<?, ?it/s]\n",
      "  0%|          | 0/1210 [00:00<?, ?it/s]\n",
      "  0%|          | 0/1210 [00:00<?, ?it/s]\n",
      "  0%|          | 0/1210 [00:00<?, ?it/s]\n",
      "  0%|          | 0/1210 [00:00<?, ?it/s]\n",
      "  0%|          | 0/1210 [00:00<?, ?it/s]\n",
      "  0%|          | 0/1210 [00:00<?, ?it/s]\n",
      "  0%|          | 0/1210 [00:00<?, ?it/s]\n",
      "  0%|          | 0/1210 [00:00<?, ?it/s]\n",
      "  0%|          | 0/1210 [00:00<?, ?it/s]\n",
      "  0%|          | 0/1210 [00:00<?, ?it/s]\n",
      "  0%|          | 0/1210 [00:00<?, ?it/s]\n",
      "  0%|          | 0/1210 [00:00<?, ?it/s]\n",
      "  0%|          | 0/1210 [00:00<?, ?it/s]\n",
      "  0%|          | 0/1210 [00:00<?, ?it/s]\n",
      "  0%|          | 0/1210 [00:00<?, ?it/s]\n",
      "  0%|          | 0/1210 [00:00<?, ?it/s]\n",
      "  0%|          | 0/1210 [00:00<?, ?it/s]\n",
      "  0%|          | 0/1210 [00:00<?, ?it/s]\n",
      "  0%|          | 0/1210 [00:00<?, ?it/s]\n",
      "  0%|          | 0/1210 [00:00<?, ?it/s]\n",
      "  0%|          | 0/1210 [00:00<?, ?it/s]\n",
      "  0%|          | 0/1210 [00:00<?, ?it/s]\n",
      "  0%|          | 0/1210 [00:00<?, ?it/s]\n",
      "  0%|          | 0/1210 [00:00<?, ?it/s]\n",
      "  0%|          | 0/1210 [00:00<?, ?it/s]\n",
      "  0%|          | 0/1210 [00:00<?, ?it/s]\n",
      "  0%|          | 0/1210 [00:00<?, ?it/s]\n",
      "  0%|          | 0/1210 [00:00<?, ?it/s]\n",
      "  0%|          | 0/1210 [00:00<?, ?it/s]\n",
      "  0%|          | 0/1210 [00:00<?, ?it/s]\n",
      "  0%|          | 0/1210 [00:00<?, ?it/s]\n",
      "  0%|          | 0/1210 [00:00<?, ?it/s]\n",
      "  0%|          | 0/1210 [00:00<?, ?it/s]\n",
      "  0%|          | 0/1210 [00:00<?, ?it/s]\n",
      "  1%|          | 10/1210 [00:00<00:02, 553.49it/s]\n",
      "100%|██████████| 1210/1210 [00:01<00:00, 792.79it/s]"
     ]
    },
    {
     "name": "stdout",
     "output_type": "stream",
     "text": [
      "Cert Acc ct our 0.024 h_min is 0.7558528428093645\n"
     ]
    },
    {
     "name": "stderr",
     "output_type": "stream",
     "text": [
      "\n"
     ]
    }
   ],
   "source": [
    "# hlist = [0.2, 0.5, 0.53,0.55, 0.6, 0.62, 0.65, 0.66, 0.67, 0.68, 0.7, 0.8,0.83, 0.85, 0.87 ,0.9, 0.93]\n",
    "hlist = np.linspace(0.5, 1, 300)\n",
    "hmin = CertAccChecker(safe_beta, betas=betas_attack, hlist=hlist, xi=xi, hatg_int=hatg_int)\n",
    "cert_acc_within_betas_bounds = ((paCP>hmin).astype('int')*isOkCP).mean()\n",
    "print(f'Cert Acc {type_of_transform} our', cert_acc_within_betas_bounds, 'h_min is', hmin)"
   ]
  },
  {
   "cell_type": "code",
   "execution_count": 45,
   "id": "acdf112b",
   "metadata": {},
   "outputs": [
    {
     "data": {
      "text/plain": [
       "0.07"
      ]
     },
     "execution_count": 45,
     "metadata": {},
     "output_type": "execute_result"
    }
   ],
   "source": [
    "((paCP>hmin)).mean()"
   ]
  },
  {
   "cell_type": "code",
   "execution_count": null,
   "id": "b2887001",
   "metadata": {},
   "outputs": [],
   "source": []
  },
  {
   "cell_type": "code",
   "execution_count": 52,
   "id": "dc7dc344",
   "metadata": {},
   "outputs": [],
   "source": [
    "def make_accuracy_df_3D_to_2D_trans(betas, hs, correct, hatg_int, safe_beta = safe_beta,\n",
    "                                    ifTSS = False, ifOURnew=False, extent = [0, 80.0, 0.5, 2.0], name = 'Certified accuracy for composition of Contrast and Translation'):\n",
    "    beta_d = {'c': list(), 't1':list(), 't2':list()}\n",
    "    accuracy = np.zeros(len(betas))\n",
    "\n",
    "    for i, beta in enumerate(tqdm(betas)):\n",
    "        beta_d['c'].append(beta[0])\n",
    "        beta_d['t1'].append(beta[1])\n",
    "        beta_d['t2'].append(beta[2])\n",
    "        \n",
    "        if ifOURnew:\n",
    "            for h1, isOk in zip(hs, correct):\n",
    "                accuracy[i] += (safe_beta(xi, h1, hatg_int, (beta[0],beta[1], beta[1])).item() * isOk) #, beta[2]\n",
    "        elif ifTSS:\n",
    "            for h1, isOk in zip(hs, correct):\n",
    "                accuracy[i] += (safe_beta(xi_tss, h1, [*beta]).item() * isOk) #, beta[2]\n",
    "\n",
    "        accuracy[i] /= len(correct)\n",
    "\n",
    "    \n",
    "    tn = []\n",
    "    cs = []\n",
    "    accs = []\n",
    "    all_params = []\n",
    "\n",
    "    for i, (c, t1, t2) in enumerate(zip(beta_d['c'], beta_d['t1'], beta_d['t2'])):\n",
    "        t_norm = jnp.linalg.norm([t1, t2]).item()\n",
    "        c_ = c.item()\n",
    "        tn.append(t_norm)\n",
    "        cs.append(c_)\n",
    "        accs.append(accuracy[i])\n",
    "\n",
    "\n",
    "    tns = []\n",
    "    css = []\n",
    "    acc_d = {}\n",
    "    for x,y,z in zip(tn, cs, accs):\n",
    "        if not x in tns:\n",
    "            tns.append(x)\n",
    "        if not y in css:\n",
    "            css.append(y)\n",
    "        acc_d[x,y] = z\n",
    "        \n",
    "    accdf = pd.DataFrame(data = jnp.array(list(acc_d.values())).reshape(len(css), len(tns)), index=css, columns=tns)\n",
    "    accdf = accdf.reindex(sorted(accdf.columns), axis=1)\n",
    "    clps = []\n",
    "    for x in accdf.values:\n",
    "        z = (np.asarray(list(map(np.array, x))))\n",
    "        clps.append(z)\n",
    "\n",
    "    plt.figure(figsize=(12,7))\n",
    "    plt.imshow(clps, extent=extent, aspect='auto')\n",
    "    #plt.set_ylabel([1., 11.])\n",
    "    plt.title(name, fontsize=15)\n",
    "    plt.xlabel(r'||v|| of translation parameter v', fontsize=15)\n",
    "    plt.ylabel(r'$b$ contrast transform', fontsize=15)\n",
    "    plt.colorbar();\n",
    "    if ifOURnew:\n",
    "        plt.savefig(dirname+'ct_our.png')\n",
    "    else:\n",
    "        plt.savefig(dirname+'ct_tss.png')\n",
    "    return accdf, clps, acc_d"
   ]
  },
  {
   "cell_type": "code",
   "execution_count": 54,
   "id": "51077c8a",
   "metadata": {},
   "outputs": [],
   "source": [
    "# accdf, clps, acc_d = make_accuracy_df_3D_to_2D_trans(betas, paCP, isOkCP, hatg_int, safe_beta = safe_beta, ifTSS = False, ifOURnew=True, extent = [0, 80.0, 0.5, 2.0])\n",
    "\n",
    "\n",
    "\n",
    "# min(list(acc_d.values()))"
   ]
  },
  {
   "cell_type": "code",
   "execution_count": null,
   "id": "0da2bdde",
   "metadata": {
    "scrolled": true
   },
   "outputs": [],
   "source": []
  },
  {
   "cell_type": "markdown",
   "id": "d9867e98",
   "metadata": {},
   "source": [
    "# Contrast + Brightnest + Translation"
   ]
  },
  {
   "cell_type": "code",
   "execution_count": 46,
   "id": "f620fbd9",
   "metadata": {},
   "outputs": [],
   "source": [
    "sigma_tr = 50\n",
    "sigma_c = 0.8\n",
    "sigma_b = 0.8"
   ]
  },
  {
   "cell_type": "code",
   "execution_count": 47,
   "id": "334d1541",
   "metadata": {},
   "outputs": [
    {
     "name": "stderr",
     "output_type": "stream",
     "text": [
      "100%|██████████| 1225/1225 [02:13<00:00,  9.19it/s]\n"
     ]
    },
    {
     "name": "stdout",
     "output_type": "stream",
     "text": [
      "(1225, 10000)\n",
      "(1225,)\n",
      "(10000,)\n"
     ]
    },
    {
     "data": {
      "image/png": "[encoded data removed]",
      "text/plain": [
       "<Figure size 432x288 with 1 Axes>"
      ]
     },
     "metadata": {
      "needs_background": "light"
     },
     "output_type": "display_data"
    },
    {
     "data": {
      "image/png": "[encoded data removed]",
      "text/plain": [
       "<Figure size 432x288 with 1 Axes>"
      ]
     },
     "metadata": {
      "needs_background": "light"
     },
     "output_type": "display_data"
    },
    {
     "data": {
      "image/png": "[encoded data removed]",
      "text/plain": [
       "<Figure size 432x288 with 1 Axes>"
      ]
     },
     "metadata": {
      "needs_background": "light"
     },
     "output_type": "display_data"
    },
    {
     "name": "stderr",
     "output_type": "stream",
     "text": [
      "100%|██████████| 1225/1225 [00:29<00:00, 41.58it/s]\n"
     ]
    }
   ],
   "source": [
    "ns = 10000\n",
    "x0 = jnp.array([0.0,0.0, 3., 21])\n",
    "d = 4\n",
    "b_zero = jnp.array([1.0, 0.0, 0.0, 0.0])\n",
    "\n",
    "betas1 = jnp.linspace(0.7, 1.6, 5)\n",
    "betas2 = jnp.linspace(-0.3, 0.3, 5)\n",
    "betas3 = jnp.linspace(-30.0, 30.0, 7).astype(int)# * 1.0 # set more steps\n",
    "betas4 = jnp.linspace(-30.0, 30.0, 7).astype(int) * 1.0\n",
    "betas_list = [betas1, betas2, betas3, betas4]\n",
    "type_of_transform = 'cbt'\n",
    "\n",
    "betas = jnp.asarray(list(map(jnp.array, itertools.product(betas1, betas2, betas3, betas4)))) \n",
    "\n",
    "bounds, p, g = compute_normed_bounds(compute_bound, x0, gamma, b_zero, betas, key, ns, d, type_of_transform)\n",
    "\n",
    "x, xi = pxi_to_xi(p)\n",
    "\n",
    "for b in bounds[:1000]:\n",
    "    plt.plot(b)\n",
    "plt.show()\n",
    "\n",
    "plt.plot(g)\n",
    "plt.show()\n",
    "\n",
    "plt.plot(p)\n",
    "plt.show()\n",
    "\n",
    "shape = [b.shape[0] for b in betas_list]\n",
    "z = csaps(betas_list, g.reshape(shape))\n",
    "\n",
    "hg = []\n",
    "\n",
    "for beta in tqdm(betas):\n",
    "    hat_g = g_to_hat_g(z, beta, b_zero)\n",
    "    hg.append(hat_g)\n",
    "\n",
    "hat_g = jnp.asarray(hg)\n",
    "\n",
    "hatg_int = csaps(betas_list, hat_g.reshape(shape)) #\n"
   ]
  },
  {
   "cell_type": "code",
   "execution_count": 48,
   "id": "ad19d7c8",
   "metadata": {},
   "outputs": [],
   "source": [
    "checkpoint = torch.load('../checkpoints/trans_blur_bright_contrast/TransBrightBlurContrast_40_04_10_04_checkpoint.pth.tar')\n",
    "model = torchvision.models.resnet50(pretrained=False).to(device)#.cuda()\n",
    "normalize_layer = get_normalize_layer('imagenet', device).to(device)#.cuda()\n",
    "model = torch.nn.Sequential(normalize_layer, model)\n",
    "model.load_state_dict(checkpoint['state_dict'])\n",
    "model.eval()\n",
    "model = model.to(device)"
   ]
  },
  {
   "cell_type": "code",
   "execution_count": 49,
   "id": "785e6c9c",
   "metadata": {},
   "outputs": [],
   "source": [
    "Phi = construct_phi(type_of_transform, device, sigma_c=sigma_c, sigma_b=sigma_b, sigma_tr=sigma_tr)\n",
    "attack = attack_cbt_torch"
   ]
  },
  {
   "cell_type": "code",
   "execution_count": 50,
   "id": "dc1b903f",
   "metadata": {},
   "outputs": [
    {
     "name": "stderr",
     "output_type": "stream",
     "text": [
      "100%|██████████| 500/500 [09:19<00:00,  1.12s/it]\n"
     ]
    }
   ],
   "source": [
    "pas_cbt = pa_isOk_collector(model, loader=dataloader100, Phi=Phi, device=device, n0=n0, maxn=maxn, alpha=alpha, batch_size=256, adaptive=adaptive)\n",
    "paCP, isOkCP = pas_cbt # Clopper - Pearson"
   ]
  },
  {
   "cell_type": "code",
   "execution_count": 51,
   "id": "0cc61f69",
   "metadata": {},
   "outputs": [],
   "source": [
    "betas1a = jnp.linspace(0.8, 1.5, 5)\n",
    "betas2a = jnp.linspace(-0.2, 0.2, 5)\n",
    "betas3a = jnp.linspace(-25.0, 25.0, 5).astype(int) * 1.0 # set more steps\n",
    "betas4a = jnp.linspace(-25.0, 25.0, 5).astype(int) * 1.0\n",
    "\n",
    "betas_attack = jnp.asarray(list(map(jnp.array, itertools.product(betas1a, betas2a, betas3a, betas4a)))) "
   ]
  },
  {
   "cell_type": "code",
   "execution_count": 52,
   "id": "41e0a8f6",
   "metadata": {},
   "outputs": [
    {
     "name": "stdout",
     "output_type": "stream",
     "text": [
      "Ordinary accuracy of Smoothed Classiifer 0.314\n"
     ]
    }
   ],
   "source": [
    "print('Ordinary accuracy of Smoothed Classiifer', np.mean(isOkCP))"
   ]
  },
  {
   "cell_type": "code",
   "execution_count": 53,
   "id": "1015a3a2",
   "metadata": {},
   "outputs": [
    {
     "name": "stderr",
     "output_type": "stream",
     "text": [
      "  0%|          | 0/625 [00:00<?, ?it/s]\n",
      "  0%|          | 0/625 [00:00<?, ?it/s]\n",
      "  0%|          | 0/625 [00:00<?, ?it/s]\n",
      "  0%|          | 0/625 [00:00<?, ?it/s]\n",
      "  0%|          | 0/625 [00:00<?, ?it/s]\n",
      "  0%|          | 0/625 [00:00<?, ?it/s]\n",
      "  0%|          | 0/625 [00:00<?, ?it/s]\n",
      "  0%|          | 0/625 [00:00<?, ?it/s]\n",
      "  0%|          | 0/625 [00:00<?, ?it/s]\n",
      "  0%|          | 0/625 [00:00<?, ?it/s]\n",
      "  0%|          | 0/625 [00:00<?, ?it/s]\n",
      "  0%|          | 0/625 [00:00<?, ?it/s]\n",
      "  0%|          | 0/625 [00:00<?, ?it/s]\n",
      "  0%|          | 0/625 [00:00<?, ?it/s]\n",
      "  0%|          | 0/625 [00:00<?, ?it/s]\n",
      "  0%|          | 0/625 [00:00<?, ?it/s]\n",
      "  0%|          | 0/625 [00:00<?, ?it/s]\n",
      "  0%|          | 0/625 [00:00<?, ?it/s]\n",
      "  0%|          | 0/625 [00:00<?, ?it/s]\n",
      "  0%|          | 0/625 [00:00<?, ?it/s]\n",
      "  0%|          | 0/625 [00:00<?, ?it/s]\n",
      "  0%|          | 0/625 [00:00<?, ?it/s]\n",
      "  0%|          | 0/625 [00:00<?, ?it/s]\n",
      "  0%|          | 0/625 [00:00<?, ?it/s]\n",
      "  0%|          | 0/625 [00:00<?, ?it/s]\n",
      "  0%|          | 0/625 [00:00<?, ?it/s]\n",
      "  0%|          | 0/625 [00:00<?, ?it/s]\n",
      "  0%|          | 0/625 [00:00<?, ?it/s]\n",
      "  0%|          | 0/625 [00:00<?, ?it/s]\n",
      "  0%|          | 0/625 [00:00<?, ?it/s]\n",
      "  0%|          | 0/625 [00:00<?, ?it/s]\n",
      "  0%|          | 0/625 [00:00<?, ?it/s]\n",
      "  0%|          | 0/625 [00:00<?, ?it/s]\n",
      "  0%|          | 0/625 [00:00<?, ?it/s]\n",
      "  0%|          | 0/625 [00:00<?, ?it/s]\n",
      "  0%|          | 0/625 [00:00<?, ?it/s]\n",
      "  0%|          | 0/625 [00:00<?, ?it/s]\n",
      "  0%|          | 0/625 [00:00<?, ?it/s]\n",
      "  0%|          | 0/625 [00:00<?, ?it/s]\n",
      "  0%|          | 0/625 [00:00<?, ?it/s]\n",
      "  0%|          | 0/625 [00:00<?, ?it/s]\n",
      "  0%|          | 0/625 [00:00<?, ?it/s]\n",
      "  0%|          | 0/625 [00:00<?, ?it/s]\n",
      "  0%|          | 0/625 [00:00<?, ?it/s]\n",
      "  0%|          | 0/625 [00:00<?, ?it/s]\n",
      "  0%|          | 0/625 [00:00<?, ?it/s]\n",
      "  0%|          | 0/625 [00:00<?, ?it/s]\n",
      "  0%|          | 0/625 [00:00<?, ?it/s]\n",
      "  0%|          | 0/625 [00:00<?, ?it/s]\n",
      "  0%|          | 0/625 [00:00<?, ?it/s]\n",
      "  0%|          | 0/625 [00:00<?, ?it/s]\n",
      "  0%|          | 0/625 [00:00<?, ?it/s]\n",
      "  0%|          | 0/625 [00:00<?, ?it/s]\n",
      "  0%|          | 0/625 [00:00<?, ?it/s]\n",
      "  0%|          | 0/625 [00:00<?, ?it/s]\n",
      "  0%|          | 0/625 [00:00<?, ?it/s]\n",
      "  0%|          | 0/625 [00:00<?, ?it/s]\n",
      "  0%|          | 0/625 [00:00<?, ?it/s]\n",
      "  0%|          | 0/625 [00:00<?, ?it/s]\n",
      "  0%|          | 0/625 [00:00<?, ?it/s]\n",
      "  0%|          | 0/625 [00:00<?, ?it/s]\n",
      "  0%|          | 0/625 [00:00<?, ?it/s]\n",
      "  0%|          | 0/625 [00:00<?, ?it/s]\n",
      "  0%|          | 0/625 [00:00<?, ?it/s]\n",
      "  0%|          | 0/625 [00:00<?, ?it/s]\n",
      "  0%|          | 0/625 [00:00<?, ?it/s]\n",
      "  0%|          | 0/625 [00:00<?, ?it/s]\n",
      "  0%|          | 0/625 [00:00<?, ?it/s]\n",
      "  0%|          | 0/625 [00:00<?, ?it/s]\n",
      "  0%|          | 0/625 [00:00<?, ?it/s]\n",
      "  0%|          | 0/625 [00:00<?, ?it/s]\n",
      "  0%|          | 0/625 [00:00<?, ?it/s]\n",
      "  0%|          | 0/625 [00:00<?, ?it/s]\n",
      "  0%|          | 0/625 [00:00<?, ?it/s]\n",
      "  0%|          | 0/625 [00:00<?, ?it/s]\n",
      "  0%|          | 0/625 [00:00<?, ?it/s]\n",
      "  0%|          | 0/625 [00:00<?, ?it/s]\n",
      "  0%|          | 0/625 [00:00<?, ?it/s]\n",
      "  0%|          | 0/625 [00:00<?, ?it/s]\n",
      "  0%|          | 0/625 [00:00<?, ?it/s]\n",
      "  0%|          | 0/625 [00:00<?, ?it/s]\n",
      "  0%|          | 0/625 [00:00<?, ?it/s]\n",
      "  0%|          | 0/625 [00:00<?, ?it/s]\n",
      "  0%|          | 0/625 [00:00<?, ?it/s]\n",
      "  0%|          | 0/625 [00:00<?, ?it/s]\n",
      "  0%|          | 0/625 [00:00<?, ?it/s]\n",
      "  0%|          | 0/625 [00:00<?, ?it/s]\n",
      "  0%|          | 0/625 [00:00<?, ?it/s]\n",
      "  0%|          | 0/625 [00:00<?, ?it/s]\n",
      "  0%|          | 0/625 [00:00<?, ?it/s]\n",
      "  0%|          | 0/625 [00:00<?, ?it/s]\n",
      "  0%|          | 0/625 [00:00<?, ?it/s]\n",
      "  0%|          | 0/625 [00:00<?, ?it/s]\n",
      "  0%|          | 0/625 [00:00<?, ?it/s]\n",
      "  0%|          | 0/625 [00:00<?, ?it/s]\n",
      "  0%|          | 0/625 [00:00<?, ?it/s]\n",
      "  0%|          | 0/625 [00:00<?, ?it/s]\n",
      "  0%|          | 0/625 [00:00<?, ?it/s]\n",
      "  0%|          | 0/625 [00:00<?, ?it/s]\n",
      "  0%|          | 0/625 [00:00<?, ?it/s]\n",
      "  0%|          | 0/625 [00:00<?, ?it/s]\n",
      "  0%|          | 0/625 [00:00<?, ?it/s]\n",
      "  0%|          | 0/625 [00:00<?, ?it/s]\n",
      "  0%|          | 0/625 [00:00<?, ?it/s]\n",
      "  0%|          | 0/625 [00:00<?, ?it/s]\n",
      "  0%|          | 0/625 [00:00<?, ?it/s]\n",
      "  0%|          | 0/625 [00:00<?, ?it/s]\n",
      "  0%|          | 0/625 [00:00<?, ?it/s]\n",
      "  0%|          | 0/625 [00:00<?, ?it/s]\n",
      "  0%|          | 0/625 [00:00<?, ?it/s]\n",
      "  0%|          | 0/625 [00:00<?, ?it/s]\n",
      "  0%|          | 0/625 [00:00<?, ?it/s]\n",
      "  0%|          | 0/625 [00:00<?, ?it/s]\n",
      "  0%|          | 0/625 [00:00<?, ?it/s]\n",
      "  0%|          | 0/625 [00:00<?, ?it/s]\n",
      "  0%|          | 0/625 [00:00<?, ?it/s]\n",
      "  0%|          | 0/625 [00:00<?, ?it/s]\n",
      "  0%|          | 0/625 [00:00<?, ?it/s]\n",
      "  0%|          | 0/625 [00:00<?, ?it/s]\n",
      "  0%|          | 0/625 [00:00<?, ?it/s]\n",
      "  0%|          | 0/625 [00:00<?, ?it/s]\n",
      "  0%|          | 0/625 [00:00<?, ?it/s]\n",
      "  0%|          | 0/625 [00:00<?, ?it/s]\n",
      "  0%|          | 0/625 [00:00<?, ?it/s]\n",
      "  0%|          | 0/625 [00:00<?, ?it/s]\n",
      "100%|██████████| 625/625 [00:00<00:00, 727.88it/s]"
     ]
    },
    {
     "name": "stdout",
     "output_type": "stream",
     "text": [
      "Cert Acc cbt our 0.02 h_min is 0.7090301003344481\n"
     ]
    },
    {
     "name": "stderr",
     "output_type": "stream",
     "text": [
      "\n"
     ]
    }
   ],
   "source": [
    "# hlist = [0.2, 0.5, 0.53,0.55, 0.6, 0.62, 0.65, 0.66, 0.67, 0.68, 0.7, 0.8,0.83, 0.85, 0.87 ,0.9, 0.93]\n",
    "hlist = np.linspace(0.5, 1, 300)\n",
    "hmin = CertAccChecker(safe_beta, betas=betas_attack, hlist=hlist, xi=xi, hatg_int=hatg_int)\n",
    "cert_acc_within_betas_bounds = ((paCP>hmin).astype('int')*isOkCP).mean()\n",
    "print(f'Cert Acc {type_of_transform} our', cert_acc_within_betas_bounds, 'h_min is', hmin)"
   ]
  },
  {
   "cell_type": "code",
   "execution_count": 54,
   "id": "bc7542ba",
   "metadata": {},
   "outputs": [],
   "source": [
    "cert_acc_cbt = cert_acc_within_betas_bounds"
   ]
  },
  {
   "cell_type": "markdown",
   "id": "8f38f757",
   "metadata": {},
   "source": [
    "# TRANS BLUR BRIGHT CONTRAST"
   ]
  },
  {
   "cell_type": "code",
   "execution_count": 55,
   "id": "c8af9fa8",
   "metadata": {},
   "outputs": [],
   "source": [
    "sigma_tr = 30\n",
    "sigma_blur = 4\n",
    "sigma_b = 0.8\n",
    "sigma_c = 0.8"
   ]
  },
  {
   "cell_type": "code",
   "execution_count": 56,
   "id": "3fef1170",
   "metadata": {},
   "outputs": [
    {
     "name": "stderr",
     "output_type": "stream",
     "text": [
      "100%|██████████| 3750/3750 [07:29<00:00,  8.34it/s]\n"
     ]
    },
    {
     "name": "stdout",
     "output_type": "stream",
     "text": [
      "(3750, 10000)\n",
      "(3750,)\n",
      "(10000,)\n"
     ]
    }
   ],
   "source": [
    "ns = 10000\n",
    "x0 = jnp.array([1.0,3.0, 3., 1, 1.1]) # WHATEVER \n",
    "d = 5\n",
    "b_zero = jnp.array([0.0, 0.0, 0.0,0.0, 1.0])\n",
    "\n",
    "betas1 = jnp.linspace(-5, 5, 5) ## set a bit larger range than you want to certify\n",
    "betas2 = jnp.linspace(-5, 5, 5)\n",
    "betas3 = jnp.linspace(0, 3, 6)\n",
    "betas4 = jnp.linspace(-0.2, 0.2, 5)\n",
    "betas5 = jnp.linspace(0.9, 1.1, 5)\n",
    "betas = jnp.asarray(list(map(jnp.array, itertools.product(betas1, betas2, betas3, betas4, betas5)))) \n",
    "\n",
    "\n",
    "\n",
    "type_of_transform = 'tbbc_ray'\n",
    "bounds, p, g = compute_normed_bounds(compute_bound, x0, gamma, b_zero, betas, key, ns, d, type_of_transform)\n",
    "\n",
    "x, xi = pxi_to_xi(p)\n"
   ]
  },
  {
   "cell_type": "code",
   "execution_count": 57,
   "id": "cabcafac",
   "metadata": {},
   "outputs": [
    {
     "data": {
      "image/png": "[encoded data removed]",
      "text/plain": [
       "<Figure size 432x288 with 1 Axes>"
      ]
     },
     "metadata": {
      "needs_background": "light"
     },
     "output_type": "display_data"
    },
    {
     "data": {
      "image/png": "[encoded data removed]",
      "text/plain": [
       "<Figure size 432x288 with 1 Axes>"
      ]
     },
     "metadata": {
      "needs_background": "light"
     },
     "output_type": "display_data"
    },
    {
     "data": {
      "image/png": "[encoded data removed]",
      "text/plain": [
       "<Figure size 432x288 with 1 Axes>"
      ]
     },
     "metadata": {
      "needs_background": "light"
     },
     "output_type": "display_data"
    }
   ],
   "source": [
    "for b in bounds[:1000]:\n",
    "    plt.plot(b)\n",
    "plt.show()\n",
    "\n",
    "plt.plot(g)\n",
    "plt.show()\n",
    "\n",
    "plt.plot(p)\n",
    "plt.show()"
   ]
  },
  {
   "cell_type": "code",
   "execution_count": 58,
   "id": "3c9c0ec8",
   "metadata": {},
   "outputs": [
    {
     "name": "stderr",
     "output_type": "stream",
     "text": [
      "100%|██████████| 3750/3750 [08:40<00:00,  7.21it/s]\n"
     ]
    }
   ],
   "source": [
    "z = csaps([betas1, betas2, betas3, betas4, betas5], g.reshape(*betas1.shape, *betas2.shape, *betas3.shape, *betas4.shape, *betas5.shape)) # interpolate\n",
    "\n",
    "\n",
    "hg = []\n",
    "\n",
    "for beta in tqdm(betas):\n",
    "    hat_g = g_to_hat_g(z, beta, b_zero)\n",
    "    hg.append(hat_g)\n",
    "    \n",
    "hat_g = jnp.asarray(hg)\n",
    "\n",
    "hatg_int = csaps([betas1, betas2, betas3, betas4, betas5], hat_g.reshape(*betas1.shape, *betas2.shape, *betas3.shape, *betas4.shape, *betas5.shape)) #intterpolation of Integral g(beta)"
   ]
  },
  {
   "cell_type": "code",
   "execution_count": 63,
   "id": "c87ea132",
   "metadata": {},
   "outputs": [
    {
     "name": "stderr",
     "output_type": "stream",
     "text": [
      "[autoreload of cv2.load_config_py3 failed: Traceback (most recent call last):\n",
      "  File \"/opt/conda/lib/python3.8/site-packages/IPython/extensions/autoreload.py\", line 245, in check\n",
      "    superreload(m, reload, self.old_objects)\n",
      "  File \"/opt/conda/lib/python3.8/site-packages/IPython/extensions/autoreload.py\", line 394, in superreload\n",
      "    module = reload(module)\n",
      "  File \"/opt/conda/lib/python3.8/imp.py\", line 314, in reload\n",
      "    return importlib.reload(module)\n",
      "  File \"/opt/conda/lib/python3.8/importlib/__init__.py\", line 159, in reload\n",
      "    raise ImportError(msg.format(parent_name),\n",
      "ImportError: parent 'cv2' not in sys.modules\n",
      "]\n",
      "[autoreload of cv2.data failed: Traceback (most recent call last):\n",
      "  File \"/opt/conda/lib/python3.8/site-packages/IPython/extensions/autoreload.py\", line 245, in check\n",
      "    superreload(m, reload, self.old_objects)\n",
      "  File \"/opt/conda/lib/python3.8/site-packages/IPython/extensions/autoreload.py\", line 394, in superreload\n",
      "    module = reload(module)\n",
      "  File \"/opt/conda/lib/python3.8/imp.py\", line 314, in reload\n",
      "    return importlib.reload(module)\n",
      "  File \"/opt/conda/lib/python3.8/importlib/__init__.py\", line 159, in reload\n",
      "    raise ImportError(msg.format(parent_name),\n",
      "ImportError: parent 'cv2' not in sys.modules\n",
      "]\n",
      "[autoreload of cv2.utils failed: Traceback (most recent call last):\n",
      "  File \"/opt/conda/lib/python3.8/site-packages/IPython/extensions/autoreload.py\", line 245, in check\n",
      "    superreload(m, reload, self.old_objects)\n",
      "  File \"/opt/conda/lib/python3.8/site-packages/IPython/extensions/autoreload.py\", line 394, in superreload\n",
      "    module = reload(module)\n",
      "  File \"/opt/conda/lib/python3.8/imp.py\", line 314, in reload\n",
      "    return importlib.reload(module)\n",
      "  File \"/opt/conda/lib/python3.8/importlib/__init__.py\", line 159, in reload\n",
      "    raise ImportError(msg.format(parent_name),\n",
      "ImportError: parent 'cv2' not in sys.modules\n",
      "]\n"
     ]
    }
   ],
   "source": [
    "import cv2 \n",
    "import math\n",
    "\n",
    "class Gaussian:\n",
    "    # it adopts uniform distribution\n",
    "    def __init__(self, sigma):\n",
    "        self.sigma = sigma\n",
    "        self.sigma2 = sigma ** 2.0\n",
    "\n",
    "    def gen_param(self):\n",
    "        r = random.uniform(0.0, self.sigma2)\n",
    "        return r\n",
    "\n",
    "    def proc(self, input, r2):\n",
    "        if (abs(r2) < 1e-6):\n",
    "            return input\n",
    "        input = input.cpu().numpy()\n",
    "        out = cv2.GaussianBlur(input.transpose(1, 2, 0), (0, 0), math.sqrt(r2), borderType=cv2.BORDER_REFLECT101)\n",
    "        if out.ndim == 2:\n",
    "            out = np.expand_dims(out, 2)\n",
    "        out = torch.from_numpy(out.transpose(2, 0, 1))\n",
    "        return out #.cuda()\n",
    "    \n",
    "    def proc_new(self, input, r2):\n",
    "        if (abs(r2) < 1e-6):\n",
    "            return input\n",
    "#         print(input.shape)\n",
    "        input = input.cpu().numpy()\n",
    "#         print(input.shape)\n",
    "        out = cv2.GaussianBlur(input.transpose(1, 2, 0), (0, 0), math.sqrt(r2), borderType=cv2.BORDER_REFLECT101)\n",
    "        if out.ndim == 2:\n",
    "            out = np.expand_dims(out, 2)\n",
    "        out = torch.from_numpy(out.transpose(2, 0, 1))\n",
    "        \n",
    "        return out #.cuda()\n",
    "\n",
    "    def batch_proc(self, inputs):\n",
    "        outs = torch.zeros_like(inputs)\n",
    "        for i in range(len(inputs)):\n",
    "            outs[i] = self.proc(inputs[i], self.gen_param())\n",
    "        return outs\n",
    "    \n",
    "class ExpGaussian(Gaussian):\n",
    "    # it adopts exponential distribution\n",
    "    # where the sigma is actually lambda in exponential distribution Exp(1/lambda)\n",
    "    def __init__(self, sigma):\n",
    "        super(ExpGaussian, self).__init__(sigma)\n",
    "        self.sigma = sigma\n",
    "\n",
    "    def gen_param(self):\n",
    "#         r = - self.sigma * math.log(random.uniform(0.0, 1.0))\n",
    "        r = np.random.exponential(scale=self.sigma)\n",
    "        r = r#.to(device)\n",
    "        return r\n",
    "    \n",
    "class RayGaussian(Gaussian):\n",
    "    # it adopts exponential distribution\n",
    "    # where the sigma is actually lambda in exponential distribution Exp(1/lambda)\n",
    "    def __init__(self, sigma):\n",
    "        super(RayGaussian, self).__init__(sigma)\n",
    "        self.sigma = sigma\n",
    "\n",
    "    def gen_param(self):\n",
    "#         r = - self.sigma * math.log(random.uniform(0.0, 1.0))\n",
    "        r = np.random.rayleigh(scale=self.sigma)\n",
    "        return r\n",
    "    "
   ]
  },
  {
   "cell_type": "code",
   "execution_count": 64,
   "id": "92396dbd",
   "metadata": {},
   "outputs": [],
   "source": [
    "def norm_to_exp_torch(s, lam):\n",
    "    norm1 = torch.randn(s)\n",
    "    norm2 = torch.randn(s)\n",
    "    norm3 = torch.randn(s)\n",
    "    norm4 = torch.randn(s)\n",
    "    return torch.abs(norm1 * norm2 - norm3 * norm4) / lam\n",
    "    "
   ]
  },
  {
   "cell_type": "code",
   "execution_count": 65,
   "id": "68146ff7",
   "metadata": {},
   "outputs": [],
   "source": [
    "def attack_blur_cv2(x, b):\n",
    "    r = b \n",
    "    input = x[0].cpu().numpy()\n",
    "    r = r.item()\n",
    "    out = cv2.GaussianBlur(input.transpose(1, 2, 0), (0, 0), np.sqrt(r), borderType=cv2.BORDER_REFLECT101)\n",
    "    out = torch.from_numpy(out.transpose(2, 0, 1))\n",
    "    return out[None, :].to(device)\n",
    "    \n",
    "\n",
    "def phi_blur_torch_batch_and_noise(x, sigma_blur = sigma_blur):\n",
    "    \n",
    "    if not exp_smoothing:\n",
    "        norm1 = torch.randn(len(x))\n",
    "        norm2 = torch.randn(len(x))\n",
    "        ray = torch.sqrt(norm1**2 + norm2**2)\n",
    "        exp = ray ** 2\n",
    "        blur_radii = sigma_blur * exp\n",
    "    else:\n",
    "        blur_radii = norm_to_exp_torch(len(x), sigma_blur)\n",
    "\n",
    "#     blur_radii = sigma_blur * norm_to_exp_torch(torch.randn(len(x)))\n",
    "    for i in range(len(x)):\n",
    "        x[i] = attack_blur_cv2(x[i][None, :], blur_radii[i])\n",
    "    return x.to(device)"
   ]
  },
  {
   "cell_type": "code",
   "execution_count": 66,
   "id": "49f23f25",
   "metadata": {},
   "outputs": [],
   "source": [
    "def attack_tbbc_torch(x, b):  # tr bl br c\n",
    "\n",
    "    x = x.to(device)\n",
    "    translation = torch.tensor([[b[0].item(), b[1].item()]]).to(torch.float).to(device) \n",
    "    x = kornia.geometry.transform.translate(x, translation, padding_mode='reflection')\n",
    "    x = attack_blur_cv2(x, b = b[2])\n",
    "    x = x + torch.tensor(b[3].item())\n",
    "    x = torch.tensor(b[4].item())*x\n",
    "    return x\n",
    "\n",
    "\n",
    "\n",
    "def phi_tbbc_torch_batch_and_noise(x): \n",
    "    x = x.to(device)\n",
    "    \n",
    "    c1 = (torch.randn(len(x)) * sigma_tr).long()*1.0\n",
    "    c2 = (torch.randn(len(x)) * sigma_tr).long()*1.0\n",
    "    t = torch.tensor([1,0])\n",
    "    T = t.expand(len(x), *t.shape).clone()\n",
    "    T[:, 0] = c1.squeeze().clone()\n",
    "    T[:, 1] = c2.squeeze().clone()\n",
    "    x = kornia.geometry.transform.translate(x.to(device), T.float().to(device), padding_mode='reflection')\n",
    "    \n",
    "    x = phi_blur_torch_batch_and_noise(x)\n",
    "    if exp_smoothing:\n",
    "        blur = ExpGaussian(sigma_blur)\n",
    "    else:\n",
    "        blur = RayGaussian(sigma_blur)\n",
    "    x = blur.batch_proc(x)\n",
    "    \n",
    "    b = (torch.randn(len(x)) * sigma_b)[:, None, None, None].to(device)\n",
    "    x = x + b\n",
    "    \n",
    "    c = torch.exp(torch.randn(len(x)) * sigma_c)[:, None, None, None].to(device)\n",
    "    x = c * x\n",
    "    \n",
    "    return x"
   ]
  },
  {
   "cell_type": "code",
   "execution_count": 67,
   "id": "c34a204b",
   "metadata": {},
   "outputs": [],
   "source": [
    "checkpoint = torch.load('../checkpoints/trans_blur_bright_contrast/TransBrightBlurContrast_40_04_10_04_checkpoint.pth.tar')\n",
    "model = torchvision.models.resnet50(pretrained=False).to(device)#.cuda()\n",
    "normalize_layer = get_normalize_layer('imagenet', device).to(device)#.cuda()\n",
    "model = torch.nn.Sequential(normalize_layer, model)\n",
    "model.load_state_dict(checkpoint['state_dict'])\n",
    "model.eval()\n",
    "model = model.to(device)"
   ]
  },
  {
   "cell_type": "code",
   "execution_count": 68,
   "id": "f37bd0ed",
   "metadata": {},
   "outputs": [],
   "source": [
    "exp_smoothing = False"
   ]
  },
  {
   "cell_type": "code",
   "execution_count": 69,
   "id": "b5df901e",
   "metadata": {},
   "outputs": [],
   "source": [
    "betas1a = jnp.linspace(-3, 3, 5) ## set a bit larger range than you want to certify\n",
    "betas2a = jnp.linspace(-3, 3, 5)\n",
    "betas3a = jnp.linspace(1, 3, 3)\n",
    "betas4a = jnp.linspace(-0.1, 0.1, 7)\n",
    "betas5a = jnp.linspace(0.95, 1.05, 5)\n",
    "betas_attack = jnp.asarray(list(map(jnp.array, itertools.product(betas1a, betas2a, betas3a, betas4a, betas5a)))) "
   ]
  },
  {
   "cell_type": "code",
   "execution_count": 70,
   "id": "bd583568",
   "metadata": {},
   "outputs": [
    {
     "name": "stderr",
     "output_type": "stream",
     "text": [
      "100%|██████████| 500/500 [00:06<00:00, 77.66it/s]"
     ]
    },
    {
     "name": "stdout",
     "output_type": "stream",
     "text": [
      "0.348\n"
     ]
    },
    {
     "name": "stderr",
     "output_type": "stream",
     "text": [
      "\n"
     ]
    },
    {
     "data": {
      "text/plain": [
       "array([[False],\n",
       "       [ True],\n",
       "       [False],\n",
       "       [ True],\n",
       "       [False],\n",
       "       [False],\n",
       "       [False],\n",
       "       [False],\n",
       "       [ True],\n",
       "       [False],\n",
       "       [False],\n",
       "       [False],\n",
       "       [False],\n",
       "       [False],\n",
       "       [False],\n",
       "       [ True],\n",
       "       [False],\n",
       "       [False],\n",
       "       [ True],\n",
       "       [False],\n",
       "       [False],\n",
       "       [False],\n",
       "       [False],\n",
       "       [False],\n",
       "       [False],\n",
       "       [False],\n",
       "       [False],\n",
       "       [False],\n",
       "       [ True],\n",
       "       [False],\n",
       "       [False],\n",
       "       [False],\n",
       "       [False],\n",
       "       [ True],\n",
       "       [ True],\n",
       "       [False],\n",
       "       [ True],\n",
       "       [ True],\n",
       "       [ True],\n",
       "       [False],\n",
       "       [False],\n",
       "       [False],\n",
       "       [False],\n",
       "       [False],\n",
       "       [False],\n",
       "       [ True],\n",
       "       [ True],\n",
       "       [ True],\n",
       "       [False],\n",
       "       [ True],\n",
       "       [ True],\n",
       "       [False],\n",
       "       [False],\n",
       "       [False],\n",
       "       [ True],\n",
       "       [False],\n",
       "       [ True],\n",
       "       [False],\n",
       "       [ True],\n",
       "       [False],\n",
       "       [ True],\n",
       "       [False],\n",
       "       [False],\n",
       "       [ True],\n",
       "       [ True],\n",
       "       [False],\n",
       "       [False],\n",
       "       [False],\n",
       "       [ True],\n",
       "       [False],\n",
       "       [False],\n",
       "       [ True],\n",
       "       [False],\n",
       "       [False],\n",
       "       [False],\n",
       "       [False],\n",
       "       [ True],\n",
       "       [False],\n",
       "       [ True],\n",
       "       [False],\n",
       "       [False],\n",
       "       [False],\n",
       "       [False],\n",
       "       [False],\n",
       "       [ True],\n",
       "       [ True],\n",
       "       [False],\n",
       "       [False],\n",
       "       [False],\n",
       "       [ True],\n",
       "       [ True],\n",
       "       [False],\n",
       "       [ True],\n",
       "       [ True],\n",
       "       [False],\n",
       "       [False],\n",
       "       [ True],\n",
       "       [ True],\n",
       "       [ True],\n",
       "       [False],\n",
       "       [False],\n",
       "       [ True],\n",
       "       [False],\n",
       "       [False],\n",
       "       [ True],\n",
       "       [False],\n",
       "       [ True],\n",
       "       [False],\n",
       "       [False],\n",
       "       [False],\n",
       "       [False],\n",
       "       [False],\n",
       "       [False],\n",
       "       [False],\n",
       "       [False],\n",
       "       [False],\n",
       "       [ True],\n",
       "       [False],\n",
       "       [False],\n",
       "       [ True],\n",
       "       [False],\n",
       "       [False],\n",
       "       [False],\n",
       "       [False],\n",
       "       [False],\n",
       "       [False],\n",
       "       [False],\n",
       "       [False],\n",
       "       [ True],\n",
       "       [ True],\n",
       "       [ True],\n",
       "       [False],\n",
       "       [False],\n",
       "       [False],\n",
       "       [False],\n",
       "       [False],\n",
       "       [ True],\n",
       "       [ True],\n",
       "       [False],\n",
       "       [False],\n",
       "       [False],\n",
       "       [False],\n",
       "       [False],\n",
       "       [ True],\n",
       "       [False],\n",
       "       [False],\n",
       "       [ True],\n",
       "       [ True],\n",
       "       [False],\n",
       "       [False],\n",
       "       [ True],\n",
       "       [ True],\n",
       "       [False],\n",
       "       [False],\n",
       "       [ True],\n",
       "       [False],\n",
       "       [False],\n",
       "       [ True],\n",
       "       [False],\n",
       "       [ True],\n",
       "       [False],\n",
       "       [False],\n",
       "       [ True],\n",
       "       [ True],\n",
       "       [False],\n",
       "       [False],\n",
       "       [False],\n",
       "       [ True],\n",
       "       [False],\n",
       "       [False],\n",
       "       [ True],\n",
       "       [ True],\n",
       "       [False],\n",
       "       [False],\n",
       "       [False],\n",
       "       [ True],\n",
       "       [ True],\n",
       "       [ True],\n",
       "       [False],\n",
       "       [False],\n",
       "       [ True],\n",
       "       [False],\n",
       "       [False],\n",
       "       [ True],\n",
       "       [False],\n",
       "       [ True],\n",
       "       [False],\n",
       "       [False],\n",
       "       [ True],\n",
       "       [False],\n",
       "       [False],\n",
       "       [False],\n",
       "       [False],\n",
       "       [False],\n",
       "       [False],\n",
       "       [False],\n",
       "       [False],\n",
       "       [False],\n",
       "       [False],\n",
       "       [False],\n",
       "       [False],\n",
       "       [False],\n",
       "       [ True],\n",
       "       [False],\n",
       "       [False],\n",
       "       [False],\n",
       "       [False],\n",
       "       [False],\n",
       "       [False],\n",
       "       [ True],\n",
       "       [ True],\n",
       "       [False],\n",
       "       [False],\n",
       "       [False],\n",
       "       [ True],\n",
       "       [ True],\n",
       "       [False],\n",
       "       [False],\n",
       "       [False],\n",
       "       [False],\n",
       "       [False],\n",
       "       [ True],\n",
       "       [ True],\n",
       "       [ True],\n",
       "       [ True],\n",
       "       [False],\n",
       "       [False],\n",
       "       [False],\n",
       "       [ True],\n",
       "       [False],\n",
       "       [False],\n",
       "       [ True],\n",
       "       [False],\n",
       "       [ True],\n",
       "       [ True],\n",
       "       [False],\n",
       "       [False],\n",
       "       [False],\n",
       "       [ True],\n",
       "       [False],\n",
       "       [False],\n",
       "       [ True],\n",
       "       [False],\n",
       "       [False],\n",
       "       [False],\n",
       "       [False],\n",
       "       [False],\n",
       "       [ True],\n",
       "       [False],\n",
       "       [False],\n",
       "       [ True],\n",
       "       [ True],\n",
       "       [ True],\n",
       "       [False],\n",
       "       [False],\n",
       "       [ True],\n",
       "       [ True],\n",
       "       [False],\n",
       "       [False],\n",
       "       [ True],\n",
       "       [False],\n",
       "       [False],\n",
       "       [False],\n",
       "       [ True],\n",
       "       [ True],\n",
       "       [False],\n",
       "       [False],\n",
       "       [False],\n",
       "       [False],\n",
       "       [False],\n",
       "       [False],\n",
       "       [ True],\n",
       "       [ True],\n",
       "       [False],\n",
       "       [False],\n",
       "       [False],\n",
       "       [False],\n",
       "       [False],\n",
       "       [ True],\n",
       "       [False],\n",
       "       [False],\n",
       "       [False],\n",
       "       [ True],\n",
       "       [False],\n",
       "       [False],\n",
       "       [False],\n",
       "       [ True],\n",
       "       [ True],\n",
       "       [False],\n",
       "       [ True],\n",
       "       [ True],\n",
       "       [ True],\n",
       "       [False],\n",
       "       [False],\n",
       "       [ True],\n",
       "       [False],\n",
       "       [False],\n",
       "       [ True],\n",
       "       [False],\n",
       "       [ True],\n",
       "       [False],\n",
       "       [False],\n",
       "       [ True],\n",
       "       [False],\n",
       "       [ True],\n",
       "       [False],\n",
       "       [ True],\n",
       "       [False],\n",
       "       [False],\n",
       "       [ True],\n",
       "       [False],\n",
       "       [ True],\n",
       "       [False],\n",
       "       [False],\n",
       "       [ True],\n",
       "       [False],\n",
       "       [False],\n",
       "       [ True],\n",
       "       [ True],\n",
       "       [False],\n",
       "       [False],\n",
       "       [False],\n",
       "       [False],\n",
       "       [False],\n",
       "       [ True],\n",
       "       [False],\n",
       "       [False],\n",
       "       [ True],\n",
       "       [False],\n",
       "       [False],\n",
       "       [ True],\n",
       "       [ True],\n",
       "       [False],\n",
       "       [False],\n",
       "       [False],\n",
       "       [False],\n",
       "       [ True],\n",
       "       [False],\n",
       "       [ True],\n",
       "       [ True],\n",
       "       [False],\n",
       "       [False],\n",
       "       [False],\n",
       "       [False],\n",
       "       [ True],\n",
       "       [ True],\n",
       "       [False],\n",
       "       [False],\n",
       "       [ True],\n",
       "       [False],\n",
       "       [ True],\n",
       "       [ True],\n",
       "       [False],\n",
       "       [False],\n",
       "       [False],\n",
       "       [False],\n",
       "       [False],\n",
       "       [False],\n",
       "       [ True],\n",
       "       [ True],\n",
       "       [False],\n",
       "       [ True],\n",
       "       [False],\n",
       "       [False],\n",
       "       [False],\n",
       "       [ True],\n",
       "       [False],\n",
       "       [ True],\n",
       "       [False],\n",
       "       [ True],\n",
       "       [False],\n",
       "       [False],\n",
       "       [False],\n",
       "       [False],\n",
       "       [ True],\n",
       "       [False],\n",
       "       [ True],\n",
       "       [False],\n",
       "       [False],\n",
       "       [False],\n",
       "       [False],\n",
       "       [False],\n",
       "       [False],\n",
       "       [False],\n",
       "       [False],\n",
       "       [False],\n",
       "       [False],\n",
       "       [ True],\n",
       "       [ True],\n",
       "       [False],\n",
       "       [ True],\n",
       "       [ True],\n",
       "       [False],\n",
       "       [False],\n",
       "       [False],\n",
       "       [ True],\n",
       "       [ True],\n",
       "       [False],\n",
       "       [False],\n",
       "       [False],\n",
       "       [ True],\n",
       "       [ True],\n",
       "       [False],\n",
       "       [ True],\n",
       "       [False],\n",
       "       [ True],\n",
       "       [ True],\n",
       "       [False],\n",
       "       [ True],\n",
       "       [False],\n",
       "       [ True],\n",
       "       [False],\n",
       "       [ True],\n",
       "       [False],\n",
       "       [ True],\n",
       "       [ True],\n",
       "       [ True],\n",
       "       [False],\n",
       "       [ True],\n",
       "       [ True],\n",
       "       [False],\n",
       "       [ True],\n",
       "       [ True],\n",
       "       [False],\n",
       "       [ True],\n",
       "       [ True],\n",
       "       [ True],\n",
       "       [False],\n",
       "       [False],\n",
       "       [False],\n",
       "       [False],\n",
       "       [ True],\n",
       "       [ True],\n",
       "       [False],\n",
       "       [False],\n",
       "       [False],\n",
       "       [ True],\n",
       "       [False],\n",
       "       [ True],\n",
       "       [False],\n",
       "       [False],\n",
       "       [False],\n",
       "       [ True],\n",
       "       [ True],\n",
       "       [False],\n",
       "       [False],\n",
       "       [False],\n",
       "       [ True],\n",
       "       [False],\n",
       "       [False],\n",
       "       [False],\n",
       "       [False],\n",
       "       [False],\n",
       "       [ True],\n",
       "       [False],\n",
       "       [False],\n",
       "       [ True],\n",
       "       [False],\n",
       "       [False],\n",
       "       [False],\n",
       "       [False],\n",
       "       [False],\n",
       "       [ True],\n",
       "       [False],\n",
       "       [False],\n",
       "       [False],\n",
       "       [ True],\n",
       "       [False],\n",
       "       [False],\n",
       "       [ True],\n",
       "       [False],\n",
       "       [False],\n",
       "       [False],\n",
       "       [False],\n",
       "       [ True],\n",
       "       [False],\n",
       "       [False],\n",
       "       [ True],\n",
       "       [ True],\n",
       "       [False],\n",
       "       [ True],\n",
       "       [ True],\n",
       "       [False],\n",
       "       [False],\n",
       "       [False],\n",
       "       [ True],\n",
       "       [False],\n",
       "       [ True],\n",
       "       [False],\n",
       "       [False],\n",
       "       [False],\n",
       "       [False],\n",
       "       [False],\n",
       "       [False],\n",
       "       [False],\n",
       "       [False],\n",
       "       [ True],\n",
       "       [False],\n",
       "       [ True],\n",
       "       [False]])"
      ]
     },
     "execution_count": 70,
     "metadata": {},
     "output_type": "execute_result"
    }
   ],
   "source": [
    "Accuracy(model, dataloader100, device)\n",
    "# 0.65"
   ]
  },
  {
   "cell_type": "code",
   "execution_count": 71,
   "id": "f6adbdab",
   "metadata": {},
   "outputs": [],
   "source": [
    "Phi = phi_tbbc_torch_batch_and_noise\n",
    "attack = attack_tbbc_torch"
   ]
  },
  {
   "cell_type": "code",
   "execution_count": 72,
   "id": "480fa20e",
   "metadata": {},
   "outputs": [
    {
     "name": "stderr",
     "output_type": "stream",
     "text": [
      "100%|██████████| 500/500 [3:12:39<00:00, 23.12s/it]  \n"
     ]
    }
   ],
   "source": [
    "pas_tbbc = pa_isOk_collector(model, loader=dataloader100, Phi=Phi, device=device, n0=n0, maxn=maxn, alpha=alpha, batch_size=256, adaptive=adaptive)\n",
    "paCP, isOkCP = pas_tbbc # Clopper - Pearson"
   ]
  },
  {
   "cell_type": "code",
   "execution_count": 73,
   "id": "3b2554e7",
   "metadata": {},
   "outputs": [
    {
     "name": "stderr",
     "output_type": "stream",
     "text": [
      "  0%|          | 0/2625 [00:00<?, ?it/s]\n",
      "  0%|          | 0/2625 [00:00<?, ?it/s]\n",
      "  0%|          | 0/2625 [00:00<?, ?it/s]\n",
      "  0%|          | 0/2625 [00:00<?, ?it/s]\n",
      "  0%|          | 0/2625 [00:00<?, ?it/s]\n",
      "  0%|          | 0/2625 [00:00<?, ?it/s]\n",
      "  0%|          | 0/2625 [00:00<?, ?it/s]\n",
      "  0%|          | 0/2625 [00:00<?, ?it/s]\n",
      "  0%|          | 0/2625 [00:00<?, ?it/s]\n",
      "  0%|          | 0/2625 [00:00<?, ?it/s]\n",
      "  0%|          | 0/2625 [00:00<?, ?it/s]\n",
      "  0%|          | 0/2625 [00:00<?, ?it/s]\n",
      "  1%|▏         | 35/2625 [00:00<00:15, 172.30it/s]\n",
      "  1%|▏         | 35/2625 [00:00<00:14, 178.37it/s]\n",
      "  1%|▏         | 35/2625 [00:00<00:14, 177.67it/s]\n",
      "  1%|▏         | 35/2625 [00:00<00:14, 175.44it/s]\n",
      "  3%|▎         | 70/2625 [00:00<00:15, 169.81it/s]\n",
      "  3%|▎         | 70/2625 [00:00<00:13, 184.55it/s]\n",
      "  3%|▎         | 70/2625 [00:00<00:14, 176.95it/s]\n",
      "  3%|▎         | 70/2625 [00:00<00:15, 167.97it/s]\n",
      "100%|██████████| 2625/2625 [00:14<00:00, 179.60it/s]"
     ]
    },
    {
     "name": "stdout",
     "output_type": "stream",
     "text": [
      "Cert Acc tbbc_ray our 0.202 h_min is 0.6\n"
     ]
    },
    {
     "name": "stderr",
     "output_type": "stream",
     "text": [
      "\n"
     ]
    }
   ],
   "source": [
    "hlist = np.linspace(0.5, 1, 101)\n",
    "hmin = CertAccChecker(safe_beta, betas=betas_attack, hlist=hlist, xi=xi, hatg_int=hatg_int)\n",
    "cert_acc_within_betas_bounds = ((paCP>hmin).astype('int')*isOkCP).mean()\n",
    "print(f'Cert Acc {type_of_transform} our', cert_acc_within_betas_bounds, 'h_min is', hmin)"
   ]
  },
  {
   "cell_type": "code",
   "execution_count": 90,
   "id": "6fae3b81",
   "metadata": {},
   "outputs": [],
   "source": [
    "# for exponential smoothing TSS has the result"
   ]
  },
  {
   "cell_type": "markdown",
   "id": "88e168b7",
   "metadata": {},
   "source": [
    "$\\tilde{p}_A>1-\\exp \\left(-\\lambda_B \\alpha_B\\right)\\left(1-\\Phi\\left(\\sqrt{\\frac{\\alpha_k^2}{\\sigma_k^2}+\\frac{\\alpha_b^2}{e^{-2 \\alpha_k} \\sigma_b^2}+\\frac{\\alpha_{T x}^2+\\alpha_{T y}^2}{\\sigma_T^2}}\\right)\\right) .$"
   ]
  },
  {
   "cell_type": "code",
   "execution_count": 74,
   "id": "f53ee9e1",
   "metadata": {},
   "outputs": [],
   "source": [
    "# sigma_b = 0.3\n",
    "# sigma_c = 0.3\n",
    "# sigma_tr = 10\n",
    "# sigma_blur = 3\n",
    "# safe_beta_tss(xi, h, [*beta]).item():\n",
    "def safe_beta_tss_tbbc(xi, h, bs):\n",
    "    Tx = bs[0]\n",
    "    Ty = bs[1]\n",
    "    B = bs[2]\n",
    "    b = bs[3]\n",
    "    k = np.log(bs[4])\n",
    "    q = k**2/sigma_c**2 + b**2/(np.exp(-2*k) * sigma_b**2) + (Tx**2+Ty**2)/(sigma_tr**2)\n",
    "    q = scipy.stats.norm.cdf(q)\n",
    "    q = 1-q\n",
    "    sb = 1  # sigma_blur\n",
    "    q1 = np.exp(-B/sigma_blur)\n",
    "    \n",
    "    return h>(1-q1*q)\n",
    "    \n",
    "    "
   ]
  },
  {
   "cell_type": "code",
   "execution_count": 75,
   "id": "42a96931",
   "metadata": {},
   "outputs": [],
   "source": [
    "xi_tss = scipy.stats.norm.ppf"
   ]
  },
  {
   "cell_type": "code",
   "execution_count": 76,
   "id": "c58d761c",
   "metadata": {},
   "outputs": [
    {
     "name": "stderr",
     "output_type": "stream",
     "text": [
      "  0%|          | 0/2625 [00:00<?, ?it/s]\n",
      "  0%|          | 0/2625 [00:00<?, ?it/s]\n",
      "  0%|          | 0/2625 [00:00<?, ?it/s]\n",
      "  0%|          | 0/2625 [00:00<?, ?it/s]\n",
      "  0%|          | 0/2625 [00:00<?, ?it/s]\n",
      "  0%|          | 0/2625 [00:00<?, ?it/s]\n",
      "  0%|          | 0/2625 [00:00<?, ?it/s]\n",
      "  0%|          | 0/2625 [00:00<?, ?it/s]\n",
      "  0%|          | 0/2625 [00:00<?, ?it/s]\n",
      "  0%|          | 0/2625 [00:00<?, ?it/s]\n",
      "  0%|          | 0/2625 [00:00<?, ?it/s]\n",
      "  0%|          | 0/2625 [00:00<?, ?it/s]\n",
      "  0%|          | 0/2625 [00:00<?, ?it/s]\n",
      "  0%|          | 0/2625 [00:00<?, ?it/s]\n",
      "  0%|          | 0/2625 [00:00<?, ?it/s]\n",
      "  0%|          | 0/2625 [00:00<?, ?it/s]\n",
      "  0%|          | 0/2625 [00:00<?, ?it/s]\n",
      "  0%|          | 0/2625 [00:00<?, ?it/s]\n",
      "  0%|          | 0/2625 [00:00<?, ?it/s]\n",
      "  0%|          | 0/2625 [00:00<?, ?it/s]\n",
      "  0%|          | 0/2625 [00:00<?, ?it/s]\n",
      "  0%|          | 0/2625 [00:00<?, ?it/s]\n",
      "  0%|          | 0/2625 [00:00<?, ?it/s]\n",
      "  0%|          | 0/2625 [00:00<?, ?it/s]\n",
      "  0%|          | 0/2625 [00:00<?, ?it/s]\n",
      "  1%|▏         | 35/2625 [00:00<00:04, 635.59it/s]\n",
      "  1%|▏         | 35/2625 [00:00<00:04, 562.78it/s]\n",
      "  1%|▏         | 35/2625 [00:00<00:03, 694.94it/s]\n",
      "  1%|▏         | 35/2625 [00:00<00:04, 552.93it/s]\n",
      "  1%|▏         | 35/2625 [00:00<00:04, 643.81it/s]\n",
      "  1%|▏         | 35/2625 [00:00<00:04, 625.68it/s]\n",
      "  1%|▏         | 35/2625 [00:00<00:04, 606.74it/s]\n",
      "  1%|▏         | 35/2625 [00:00<00:03, 650.50it/s]\n",
      "  1%|▏         | 35/2625 [00:00<00:04, 557.46it/s]\n",
      "  1%|▏         | 35/2625 [00:00<00:03, 802.87it/s]\n",
      "  1%|▏         | 35/2625 [00:00<00:04, 573.10it/s]\n",
      "  1%|▏         | 35/2625 [00:00<00:03, 727.06it/s]\n",
      "  1%|▏         | 35/2625 [00:00<00:04, 612.22it/s]\n",
      "  1%|▏         | 35/2625 [00:00<00:03, 652.37it/s]\n",
      "  1%|▏         | 35/2625 [00:00<00:03, 682.18it/s]\n",
      "  1%|▏         | 35/2625 [00:00<00:04, 624.71it/s]\n",
      "  1%|▏         | 35/2625 [00:00<00:03, 722.65it/s]\n",
      "  3%|▎         | 70/2625 [00:00<00:03, 674.89it/s]\n",
      "  3%|▎         | 70/2625 [00:00<00:03, 666.91it/s]\n",
      "  3%|▎         | 70/2625 [00:00<00:03, 662.90it/s]\n",
      "  3%|▎         | 70/2625 [00:00<00:03, 671.02it/s]\n",
      "  3%|▎         | 70/2625 [00:00<00:03, 675.93it/s]\n",
      "  3%|▎         | 70/2625 [00:00<00:03, 672.54it/s]\n",
      "  3%|▎         | 70/2625 [00:00<00:03, 669.55it/s]\n",
      "  3%|▎         | 70/2625 [00:00<00:03, 666.42it/s]\n",
      "  3%|▎         | 70/2625 [00:00<00:03, 673.24it/s]\n",
      "  3%|▎         | 70/2625 [00:00<00:03, 668.72it/s]\n",
      "  3%|▎         | 70/2625 [00:00<00:03, 675.29it/s]\n",
      "  3%|▎         | 70/2625 [00:00<00:03, 695.66it/s]\n",
      "  3%|▎         | 70/2625 [00:00<00:03, 690.61it/s]\n",
      "100%|██████████| 2625/2625 [00:03<00:00, 713.20it/s]"
     ]
    },
    {
     "name": "stdout",
     "output_type": "stream",
     "text": [
      "Cert Acc CB TSS 0.142 h_min is 0.775\n"
     ]
    },
    {
     "name": "stderr",
     "output_type": "stream",
     "text": [
      "\n"
     ]
    }
   ],
   "source": [
    "hlist = np.linspace(0.5, 1, 101)\n",
    "hmin = CertAccCheckerTSS(betas=betas_attack, hlist=hlist, xi=xi_tss, safe_beta_tss=safe_beta_tss_tbbc)\n",
    "cert_acc_within_betas_bounds = ((paCP>hmin)*isOkCP).mean()\n",
    "print('Cert Acc CB TSS', cert_acc_within_betas_bounds, 'h_min is', hmin)"
   ]
  },
  {
   "cell_type": "code",
   "execution_count": null,
   "id": "a592b1d9",
   "metadata": {},
   "outputs": [],
   "source": [
    "2-2"
   ]
  },
  {
   "cell_type": "code",
   "execution_count": null,
   "id": "07321f17",
   "metadata": {},
   "outputs": [],
   "source": []
  },
  {
   "cell_type": "code",
   "execution_count": null,
   "id": "ccdf0e00",
   "metadata": {},
   "outputs": [],
   "source": []
  },
  {
   "cell_type": "code",
   "execution_count": null,
   "id": "1a7c27a3",
   "metadata": {},
   "outputs": [],
   "source": []
  }
 ],
 "metadata": {
  "kernelspec": {
   "display_name": "Python 3 (ipykernel)",
   "language": "python",
   "name": "python3"
  },
  "language_info": {
   "codemirror_mode": {
    "name": "ipython",
    "version": 3
   },
   "file_extension": ".py",
   "mimetype": "text/x-python",
   "name": "python",
   "nbconvert_exporter": "python",
   "pygments_lexer": "ipython3",
   "version": "3.8.12"
  }
 },
 "nbformat": 4,
 "nbformat_minor": 5
}
