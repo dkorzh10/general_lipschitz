{
 "cells": [
  {
   "cell_type": "code",
   "execution_count": 1,
   "id": "52733468",
   "metadata": {},
   "outputs": [],
   "source": [
    "%load_ext autoreload\n",
    "%autoreload 2"
   ]
  },
  {
   "cell_type": "code",
   "execution_count": 2,
   "id": "b0d1d7d6",
   "metadata": {},
   "outputs": [],
   "source": [
    "import sys\n",
    "sys.path.append(\"./..\")"
   ]
  },
  {
   "cell_type": "code",
   "execution_count": 3,
   "id": "4151001d",
   "metadata": {},
   "outputs": [
    {
     "name": "stderr",
     "output_type": "stream",
     "text": [
      "No GPU/TPU found, falling back to CPU. (Set TF_CPP_MIN_LOG_LEVEL=0 and rerun for more info.)\n"
     ]
    }
   ],
   "source": [
    "from src.numerical_methods import *"
   ]
  },
  {
   "cell_type": "code",
   "execution_count": 4,
   "id": "4dcad623",
   "metadata": {},
   "outputs": [],
   "source": [
    "import json\n",
    "\n",
    "import torch\n",
    "from torch.utils.data import DataLoader, Dataset\n",
    "import torchvision\n",
    "from torchvision.models.resnet import resnet50\n",
    "\n",
    "\n",
    "from architectures import get_architecture\n",
    "from datasets import get_dataset, DATASETS, get_num_classes, get_normalize_layer"
   ]
  },
  {
   "cell_type": "code",
   "execution_count": 5,
   "id": "fdc9193c",
   "metadata": {},
   "outputs": [],
   "source": [
    "rng = jax.random.PRNGKey(33)\n",
    "rng, key = jax.random.split(rng)"
   ]
  },
  {
   "cell_type": "code",
   "execution_count": 7,
   "id": "9e40fc56",
   "metadata": {},
   "outputs": [],
   "source": [
    "ns = 10_000\n",
    "normal_samples = jax.random.normal(key, [100_000])"
   ]
  },
  {
   "cell_type": "code",
   "execution_count": 6,
   "id": "2d0114a6",
   "metadata": {},
   "outputs": [],
   "source": [
    "def norm_to_exp(c, lam):\n",
    "    print(c.shape)\n",
    "    idx = np.random.randint(0, len(normal_samples), (c.shape[0], 4))\n",
    "    q = normal_samples[idx]\n",
    "    \n",
    "    return jax.numpy.abs(q[:, 0] * q[:, 1] - q[:, 2] * q[:, 3]) / lam\n",
    "    \n",
    "    \n",
    "def norm_to_ray(c, sigma):\n",
    "    idx = np.random.randint(0, len(normal_samples), (c.shape[0], 2))\n",
    "    c01 = normal_samples[idx] * sigma \n",
    "#     c = c * sigma\n",
    "    return jnp.sqrt(c01[:, 0] ** 2 + c01[:, 1] ** 2)"
   ]
  },
  {
   "cell_type": "code",
   "execution_count": 7,
   "id": "da3b3def",
   "metadata": {},
   "outputs": [],
   "source": [
    "def norm_to_exp_1d(c, lam):\n",
    "\n",
    "    idx = np.random.randint(0, len(normal_samples), 4)\n",
    "    q = normal_samples[idx]\n",
    "    \n",
    "    return jax.numpy.abs(q[0] * q[1] - q[2] * q[3]) / lam\n",
    "    \n",
    "    \n",
    "def norm_to_ray_1d(c, sigma):\n",
    "    idx = np.random.randint(0, len(normal_samples), 2)\n",
    "    c01 = normal_samples[idx] * sigma \n",
    "    c = c * sigma\n",
    "    return jnp.sqrt(c ** 2 + c01[1] ** 2)"
   ]
  },
  {
   "cell_type": "code",
   "execution_count": 8,
   "id": "06e6be85",
   "metadata": {},
   "outputs": [],
   "source": [
    "def norm_to_exp_torch(s, lam):\n",
    "    norm1 = torch.randn(s)\n",
    "    norm2 = torch.randn(s)\n",
    "    norm3 = torch.randn(s)\n",
    "    norm4 = torch.randn(s)\n",
    "    return torch.abs(norm1 * norm2 - norm3 * norm4) / lam\n",
    "    "
   ]
  },
  {
   "cell_type": "code",
   "execution_count": 72,
   "id": "ffd3345d",
   "metadata": {},
   "outputs": [],
   "source": [
    "sigma_b = None\n",
    "sigma_c = None\n",
    "sigma_tr = None\n",
    "sigma_gamma = None\n",
    "sigma_blur = None\n",
    "\n",
    "def gamma(x, b, c, tr_type:str):\n",
    "\n",
    "    \n",
    "    if tr_type == 'ct': \n",
    "        \n",
    "        c0 = c[0] / DEFAULT_SIGMA *sigma_c\n",
    "        c1 = c[1] / DEFAULT_SIGMA *sigma_tr\n",
    "        c2 = c[2] / DEFAULT_SIGMA *sigma_tr\n",
    "        \n",
    "        \n",
    "        b0 = b[0]*norm_to_lognorm(c0)\n",
    "        b1 = b[1] + c1\n",
    "        b2 = b[2] + c2\n",
    "\n",
    "        return jnp.array([b0,b1,b2])\n",
    "    \n",
    "    if tr_type == 'cbt': #\n",
    "        c0 = norm_to_lognorm(c[0]*sigma_c)\n",
    "        c1 = c[1]*sigma_b\n",
    "        c2 = c[2]*sigma_tr\n",
    "        c3 = c[3]*sigma_tr\n",
    "\n",
    "\n",
    "\n",
    "        b0 = c0*b[0]\n",
    "        b1 = b[1]*c0 +c1\n",
    "        b2 = b[2] +c2\n",
    "        b3 = b[3] + c3\n",
    "\n",
    "        return jnp.array([b0,b1, b2, b3])\n",
    "    \n",
    "    if tr_type == 'tbbc': #translation -  -Blur- Brightness - Contrast\n",
    "        # Norm(0, 1) -> Laplace(1/sigma_blur) -> Exp(sigma_blur)\n",
    "        c0 = c[0] / DEFAULT_SIGMA * sigma_tr\n",
    "        c1 = c[1] / DEFAULT_SIGMA * sigma_tr\n",
    "        c2 = c[2] / DEFAULT_SIGMA #* sigma_blur\n",
    "        c3 = c[3] / DEFAULT_SIGMA * sigma_b\n",
    "        c4 = c[5] / DEFAULT_SIGMA * sigma_c\n",
    "\n",
    "        x2 = jax.random.normal(key)\n",
    "        x3 = jax.random.normal(key)\n",
    "        x4 = jax.random.normal(key)\n",
    "        c2 = norm_to_exp_1d(c2, sigma_blur)\n",
    "        b0 = b[0] + c0\n",
    "        b1 = b[1] + c1\n",
    "#         b2 = b[2] + norm_to_exp(c2) * sigma_blur\n",
    "        b2 = b[2] + c2\n",
    "        b3 = b[3] + c3 / b[4]\n",
    "        b4 = norm_to_lognorm(c4)*b[4]\n",
    "\n",
    "        return jnp.array([b0,b1,b2,b3,b4])\n",
    "\n",
    "    if tr_type == 'tbbc_ray': #translation -  -Blur- Brightness - Contrast\n",
    "\n",
    "        c0 = c[0] / DEFAULT_SIGMA * sigma_tr\n",
    "        c1 = c[1] / DEFAULT_SIGMA * sigma_tr\n",
    "        c2 = c[2] / DEFAULT_SIGMA\n",
    "        c3 = c[3] / DEFAULT_SIGMA * sigma_b\n",
    "        c4 = c[5] / DEFAULT_SIGMA * sigma_c\n",
    "\n",
    "\n",
    "\n",
    "        c2 = norm_to_ray_1d(c2, sigma_blur)\n",
    "\n",
    "        b0 = b[0] + c0\n",
    "        b1 = b[1] + c1\n",
    "        b2 = b[2] + c2\n",
    "        b3 = b[3] + c3 / b[4]\n",
    "        b4 = norm_to_lognorm(c4)*b[4]\n",
    "\n",
    "        return jnp.array([b0,b1,b2,b3,b4])\n"
   ]
  },
  {
   "cell_type": "code",
   "execution_count": 31,
   "id": "f7c7d6c4",
   "metadata": {},
   "outputs": [],
   "source": [
    "device = torch.device(\"cuda:4\")\n",
    "\n",
    "n0 = 200\n",
    "maxn = 1000\n",
    "adaptive=False # whether to stop certification procedure earlier\n",
    "alpha = 1e-3 # confidence"
   ]
  },
  {
   "cell_type": "markdown",
   "id": "f9c7df18",
   "metadata": {},
   "source": [
    "# CT"
   ]
  },
  {
   "cell_type": "code",
   "execution_count": 39,
   "id": "c37402a7",
   "metadata": {},
   "outputs": [],
   "source": [
    "sigma_c = 0.4\n",
    "sigma_tr = 30\n"
   ]
  },
  {
   "cell_type": "code",
   "execution_count": 41,
   "id": "01ace71c",
   "metadata": {},
   "outputs": [
    {
     "name": "stderr",
     "output_type": "stream",
     "text": [
      "100%|██████████████████████████████████████████████████████████████████████████████████| 3468/3468 [03:27<00:00, 16.73it/s]\n"
     ]
    },
    {
     "name": "stdout",
     "output_type": "stream",
     "text": [
      "(3468, 20000)\n",
      "(3468,)\n",
      "(20000,)\n"
     ]
    },
    {
     "data": {
      "image/png": "[encoded data removed]",
      "text/plain": [
       "<Figure size 432x288 with 1 Axes>"
      ]
     },
     "metadata": {
      "needs_background": "light"
     },
     "output_type": "display_data"
    },
    {
     "data": {
      "image/png": "[encoded data removed]",
      "text/plain": [
       "<Figure size 432x288 with 1 Axes>"
      ]
     },
     "metadata": {
      "needs_background": "light"
     },
     "output_type": "display_data"
    },
    {
     "data": {
      "image/png": "[encoded data removed]",
      "text/plain": [
       "<Figure size 432x288 with 1 Axes>"
      ]
     },
     "metadata": {
      "needs_background": "light"
     },
     "output_type": "display_data"
    }
   ],
   "source": [
    "ns = 20000\n",
    "x0 = jnp.array([1.1,0.3, -10]) # WHATEVER \n",
    "d = 3\n",
    "b_zero = jnp.array([1.0, 0.0, 0.0])\n",
    "\n",
    "betas1 = jnp.linspace(0.4, 2.2, 12) ## set a bit larger range than you want to certify\n",
    "betas2 = jnp.linspace(-60, 60, 17)\n",
    "betas3 = jnp.linspace(-60, 60, 17)\n",
    "betas = jnp.asarray(list(map(jnp.array, itertools.product(betas1, betas2, betas3)))) \n",
    "\n",
    "type_of_transform = 'ct'\n",
    "bounds, p, g = compute_normed_bounds(compute_bound, x0, gamma, b_zero, betas, key, ns, d, type_of_transform)\n",
    "\n",
    "x, xi = pxi_to_xi(p)\n",
    "\n",
    "for b in bounds[:1000]:\n",
    "    plt.plot(b)\n",
    "plt.show()\n",
    "\n",
    "plt.plot(g)\n",
    "plt.show()\n",
    "\n",
    "plt.plot(p)\n",
    "plt.show()\n",
    "\n",
    "\n"
   ]
  },
  {
   "cell_type": "code",
   "execution_count": 42,
   "id": "11af1d8e",
   "metadata": {},
   "outputs": [
    {
     "name": "stderr",
     "output_type": "stream",
     "text": [
      "100%|██████████████████████████████████████████████████████████████████████████████████| 3468/3468 [01:05<00:00, 52.76it/s]\n"
     ]
    }
   ],
   "source": [
    "betas_list = [betas1, betas2, betas3]\n",
    "shape = [b.shape[0] for b in betas_list]\n",
    "z = csaps(betas_list, g.reshape(shape))\n",
    "\n",
    "hg = []\n",
    "\n",
    "for beta in tqdm(betas):\n",
    "    hat_g = g_to_hat_g(z, beta, b_zero)\n",
    "    hg.append(hat_g)\n",
    "\n",
    "hat_g = jnp.asarray(hg)\n",
    "\n",
    "hatg_int = csaps(betas_list, hat_g.reshape(shape)) #"
   ]
  },
  {
   "cell_type": "code",
   "execution_count": 43,
   "id": "1cb7e517",
   "metadata": {},
   "outputs": [],
   "source": [
    "from src.certification_utils import *\n",
    "from src.smoothing_and_attacks import *\n",
    "from src.utils import *"
   ]
  },
  {
   "cell_type": "code",
   "execution_count": 44,
   "id": "abe95226",
   "metadata": {},
   "outputs": [],
   "source": [
    "xs = np.linspace(0.5,1-1e-4,100)\n",
    "r_our = lambda h: -xi(1-h)+xi(0.5)\n",
    "# r_tss_bc= lambda h: 1/2*(xi(h) - xi(1-h))"
   ]
  },
  {
   "cell_type": "code",
   "execution_count": 45,
   "id": "73e14262",
   "metadata": {},
   "outputs": [
    {
     "data": {
      "image/png": "[encoded data removed]",
      "text/plain": [
       "<Figure size 720x480 with 1 Axes>"
      ]
     },
     "metadata": {
      "needs_background": "light"
     },
     "output_type": "display_data"
    }
   ],
   "source": [
    "plt.figure(dpi=120)\n",
    "plt.plot(xs, xi(xs), label='our just xi')\n",
    "plt.plot(xs, r_our(xs), label='our r')\n",
    "# plt.plot(xs, r_tss_bc(xs), '--', label='tss')\n",
    "# plt.yscale('log')\n",
    "plt.legend()\n",
    "plt.show()\n"
   ]
  },
  {
   "cell_type": "code",
   "execution_count": null,
   "id": "435c7ce4",
   "metadata": {},
   "outputs": [],
   "source": []
  },
  {
   "cell_type": "code",
   "execution_count": 24,
   "id": "359906b7",
   "metadata": {},
   "outputs": [],
   "source": [
    "# checkpoint = torch.load('ReportResults/ContrasttTrans_08_40_checkpoint.pth.tar')\n",
    "checkpoint = torch.load('../checkpoints/trans_blur_bright_contrast/TransBrightBlurContrast_40_04_10_04_checkpoint.pth.tar')\n",
    "model = torchvision.models.resnet50(pretrained=False).to(device)#.cuda()\n",
    "normalize_layer = get_normalize_layer('imagenet', device).to(device)#.cuda()\n",
    "model = torch.nn.Sequential(normalize_layer, model)\n",
    "model.load_state_dict(checkpoint['state_dict'])\n",
    "model.eval()\n",
    "model = model.to(device)"
   ]
  },
  {
   "cell_type": "code",
   "execution_count": 22,
   "id": "9987124d",
   "metadata": {},
   "outputs": [
    {
     "name": "stderr",
     "output_type": "stream",
     "text": [
      "/opt/conda/lib/python3.8/site-packages/torchvision/transforms/transforms.py:312: UserWarning: The use of the transforms.Scale transform is deprecated, please use transforms.Resize instead.\n",
      "  warnings.warn(\"The use of the transforms.Scale transform is deprecated, \" +\n",
      "100%|███████████████████████████████████████████████████████████████████████████████| 50000/50000 [01:47<00:00, 467.24it/s]\n"
     ]
    }
   ],
   "source": [
    "test_dataset = get_dataset('imagenet', 'test')\n",
    "pin_memory = False  # ('imagenet' == \"imagenet\")\n",
    "bs = 64\n",
    "\n",
    "\n",
    "testloader1 = DataLoader(test_dataset, shuffle=False, batch_size=1, num_workers=6, pin_memory=False)\n",
    "\n",
    "\n",
    "ourdataset100 = make_our_dataset(testloader1, 100)\n",
    "\n",
    "dataloader100  = DataLoader(ourdataset100, shuffle=False, batch_size=1,\n",
    "                         num_workers=6, pin_memory=False)"
   ]
  },
  {
   "cell_type": "code",
   "execution_count": 25,
   "id": "58dd9bd8",
   "metadata": {},
   "outputs": [
    {
     "name": "stderr",
     "output_type": "stream",
     "text": [
      "  0%|                                                                                              | 0/100 [00:00<?, ?it/s]/opt/conda/lib/python3.8/site-packages/torch/nn/functional.py:718: UserWarning: Named tensors and all their associated APIs are an experimental feature and subject to change. Please do not use them for anything important until they are released as stable. (Triggered internally at  /pytorch/c10/core/TensorImpl.h:1156.)\n",
      "  return torch.max_pool2d(input, kernel_size, stride, padding, dilation, ceil_mode)\n",
      "100%|████████████████████████████████████████████████████████████████████████████████████| 100/100 [00:02<00:00, 46.53it/s]"
     ]
    },
    {
     "name": "stdout",
     "output_type": "stream",
     "text": [
      "0.65\n"
     ]
    },
    {
     "name": "stderr",
     "output_type": "stream",
     "text": [
      "\n"
     ]
    }
   ],
   "source": [
    "iscor = Accuracy(model, loader=dataloader100, device=device) # Accuracy of non-smoothed model on original images"
   ]
  },
  {
   "cell_type": "code",
   "execution_count": 46,
   "id": "7c163768",
   "metadata": {},
   "outputs": [],
   "source": [
    "Phi = construct_phi(type_of_transform, device, sigma_c=sigma_c, sigma_tr=sigma_tr)\n",
    "attack = attack_ct_torch"
   ]
  },
  {
   "cell_type": "code",
   "execution_count": 51,
   "id": "d666e4d8",
   "metadata": {},
   "outputs": [],
   "source": [
    "betas1a = jnp.linspace(0.8, 1.2, 10) ## set a bit larger range than you want to certify\n",
    "betas2a = jnp.linspace(-25, 25, 11)\n",
    "betas3a = jnp.linspace(-25, 25, 11)\n",
    "betas_attack = jnp.asarray(list(map(jnp.array, itertools.product(betas1a, betas2a, betas3a))))\n",
    "\n",
    "\n",
    "\n",
    "\n"
   ]
  },
  {
   "cell_type": "code",
   "execution_count": 47,
   "id": "caa36ac1",
   "metadata": {},
   "outputs": [
    {
     "name": "stderr",
     "output_type": "stream",
     "text": [
      "100%|████████████████████████████████████████████████████████████████████████████████████| 100/100 [01:43<00:00,  1.03s/it]\n"
     ]
    }
   ],
   "source": [
    "pas_ct = pa_isOk_collector(model, loader=dataloader100, Phi=Phi, device=device, n0=n0, maxn=maxn, alpha=alpha, batch_size=256, adaptive=adaptive)\n",
    "paCP, isOkCP = pas_ct # Clopper - Pearson"
   ]
  },
  {
   "cell_type": "code",
   "execution_count": 48,
   "id": "dfe173ae",
   "metadata": {
    "scrolled": true
   },
   "outputs": [
    {
     "name": "stdout",
     "output_type": "stream",
     "text": [
      "Ordinary accuracy of Smoothed Classiifer 0.53\n"
     ]
    }
   ],
   "source": [
    "print('Ordinary accuracy of Smoothed Classiifer', np.mean(isOkCP))"
   ]
  },
  {
   "cell_type": "code",
   "execution_count": 49,
   "id": "d4b505b4",
   "metadata": {},
   "outputs": [
    {
     "data": {
      "text/plain": [
       "(array([ 5., 19., 23., 27.,  7.,  5.,  5.,  4.,  3.,  2.]),\n",
       " array([0.07986702, 0.16645089, 0.25303477, 0.33961865, 0.42620253,\n",
       "        0.51278641, 0.59937028, 0.68595416, 0.77253804, 0.85912192,\n",
       "        0.9457058 ]),\n",
       " <BarContainer object of 10 artists>)"
      ]
     },
     "execution_count": 49,
     "metadata": {},
     "output_type": "execute_result"
    },
    {
     "data": {
      "image/png": "[encoded data removed]",
      "text/plain": [
       "<Figure size 432x288 with 1 Axes>"
      ]
     },
     "metadata": {
      "needs_background": "light"
     },
     "output_type": "display_data"
    }
   ],
   "source": [
    "plt.hist(paCP)"
   ]
  },
  {
   "cell_type": "code",
   "execution_count": 50,
   "id": "6a7599c5",
   "metadata": {
    "scrolled": true
   },
   "outputs": [
    {
     "name": "stderr",
     "output_type": "stream",
     "text": [
      "  0%|                                                                                             | 0/1210 [00:00<?, ?it/s]\n",
      "  0%|                                                                                             | 0/1210 [00:00<?, ?it/s]\n",
      "  0%|                                                                                             | 0/1210 [00:00<?, ?it/s]\n",
      "  0%|                                                                                             | 0/1210 [00:00<?, ?it/s]\n",
      "  0%|                                                                                             | 0/1210 [00:00<?, ?it/s]\n",
      "  0%|                                                                                             | 0/1210 [00:00<?, ?it/s]\n",
      "  0%|                                                                                             | 0/1210 [00:00<?, ?it/s]\n",
      "  0%|                                                                                             | 0/1210 [00:00<?, ?it/s]\n",
      "  0%|                                                                                             | 0/1210 [00:00<?, ?it/s]\n",
      "  0%|                                                                                             | 0/1210 [00:00<?, ?it/s]\n",
      "  0%|                                                                                             | 0/1210 [00:00<?, ?it/s]\n",
      "  0%|                                                                                             | 0/1210 [00:00<?, ?it/s]\n",
      "  0%|                                                                                             | 0/1210 [00:00<?, ?it/s]\n",
      "  0%|                                                                                             | 0/1210 [00:00<?, ?it/s]\n",
      "  0%|                                                                                             | 0/1210 [00:00<?, ?it/s]\n",
      "  0%|                                                                                             | 0/1210 [00:00<?, ?it/s]\n",
      "  0%|                                                                                             | 0/1210 [00:00<?, ?it/s]\n",
      "  0%|                                                                                             | 0/1210 [00:00<?, ?it/s]\n",
      "  0%|                                                                                             | 0/1210 [00:00<?, ?it/s]\n",
      "  0%|                                                                                             | 0/1210 [00:00<?, ?it/s]\n",
      "  0%|                                                                                             | 0/1210 [00:00<?, ?it/s]\n",
      "  0%|                                                                                             | 0/1210 [00:00<?, ?it/s]\n",
      "  0%|                                                                                             | 0/1210 [00:00<?, ?it/s]\n",
      "  0%|                                                                                             | 0/1210 [00:00<?, ?it/s]\n",
      "  0%|                                                                                             | 0/1210 [00:00<?, ?it/s]\n",
      "  0%|                                                                                             | 0/1210 [00:00<?, ?it/s]\n",
      "  0%|                                                                                             | 0/1210 [00:00<?, ?it/s]\n",
      "  0%|                                                                                             | 0/1210 [00:00<?, ?it/s]\n",
      "  0%|                                                                                             | 0/1210 [00:00<?, ?it/s]\n",
      "  0%|                                                                                             | 0/1210 [00:00<?, ?it/s]\n",
      "  0%|                                                                                             | 0/1210 [00:00<?, ?it/s]\n",
      "  0%|                                                                                             | 0/1210 [00:00<?, ?it/s]\n",
      "  0%|                                                                                             | 0/1210 [00:00<?, ?it/s]\n",
      "  0%|                                                                                             | 0/1210 [00:00<?, ?it/s]\n",
      "  0%|                                                                                             | 0/1210 [00:00<?, ?it/s]\n",
      "  0%|                                                                                             | 0/1210 [00:00<?, ?it/s]\n",
      "  0%|                                                                                             | 0/1210 [00:00<?, ?it/s]\n",
      "  0%|                                                                                             | 0/1210 [00:00<?, ?it/s]\n",
      "  0%|                                                                                             | 0/1210 [00:00<?, ?it/s]\n",
      "  0%|                                                                                             | 0/1210 [00:00<?, ?it/s]\n",
      "  0%|                                                                                             | 0/1210 [00:00<?, ?it/s]\n",
      "  0%|                                                                                             | 0/1210 [00:00<?, ?it/s]\n",
      "  0%|                                                                                             | 0/1210 [00:00<?, ?it/s]\n",
      "  0%|                                                                                             | 0/1210 [00:00<?, ?it/s]\n",
      "  0%|                                                                                             | 0/1210 [00:00<?, ?it/s]\n",
      "  0%|                                                                                             | 0/1210 [00:00<?, ?it/s]\n",
      "  0%|                                                                                             | 0/1210 [00:00<?, ?it/s]\n",
      "  0%|                                                                                             | 0/1210 [00:00<?, ?it/s]\n",
      "  0%|                                                                                             | 0/1210 [00:00<?, ?it/s]\n",
      "  0%|                                                                                             | 0/1210 [00:00<?, ?it/s]\n",
      "  0%|                                                                                             | 0/1210 [00:00<?, ?it/s]\n",
      "  0%|                                                                                             | 0/1210 [00:00<?, ?it/s]\n",
      "  0%|                                                                                             | 0/1210 [00:00<?, ?it/s]\n",
      "  0%|                                                                                             | 0/1210 [00:00<?, ?it/s]\n",
      "  0%|                                                                                             | 0/1210 [00:00<?, ?it/s]\n",
      "  0%|                                                                                             | 0/1210 [00:00<?, ?it/s]\n",
      "  0%|                                                                                             | 0/1210 [00:00<?, ?it/s]\n",
      "  0%|                                                                                             | 0/1210 [00:00<?, ?it/s]\n",
      "  0%|                                                                                             | 0/1210 [00:00<?, ?it/s]\n",
      "  0%|                                                                                             | 0/1210 [00:00<?, ?it/s]\n",
      "  0%|                                                                                             | 0/1210 [00:00<?, ?it/s]\n",
      "  0%|                                                                                             | 0/1210 [00:00<?, ?it/s]\n",
      "  0%|                                                                                             | 0/1210 [00:00<?, ?it/s]\n",
      "  0%|                                                                                             | 0/1210 [00:00<?, ?it/s]\n",
      "  0%|                                                                                             | 0/1210 [00:00<?, ?it/s]\n",
      "  0%|                                                                                             | 0/1210 [00:00<?, ?it/s]\n",
      "  0%|                                                                                             | 0/1210 [00:00<?, ?it/s]\n",
      "  0%|                                                                                             | 0/1210 [00:00<?, ?it/s]\n",
      "  0%|                                                                                             | 0/1210 [00:00<?, ?it/s]\n",
      "  0%|                                                                                             | 0/1210 [00:00<?, ?it/s]\n",
      "  0%|                                                                                             | 0/1210 [00:00<?, ?it/s]\n",
      "  0%|                                                                                             | 0/1210 [00:00<?, ?it/s]\n",
      "  0%|                                                                                             | 0/1210 [00:00<?, ?it/s]\n",
      "  0%|                                                                                             | 0/1210 [00:00<?, ?it/s]\n",
      "  0%|                                                                                             | 0/1210 [00:00<?, ?it/s]\n",
      "  0%|                                                                                             | 0/1210 [00:00<?, ?it/s]\n",
      "  0%|                                                                                             | 0/1210 [00:00<?, ?it/s]\n",
      "  0%|                                                                                             | 0/1210 [00:00<?, ?it/s]\n",
      "  0%|                                                                                             | 0/1210 [00:00<?, ?it/s]\n",
      "  0%|                                                                                             | 0/1210 [00:00<?, ?it/s]\n",
      "  0%|                                                                                             | 0/1210 [00:00<?, ?it/s]\n",
      "  0%|                                                                                             | 0/1210 [00:00<?, ?it/s]\n",
      "  0%|                                                                                             | 0/1210 [00:00<?, ?it/s]\n",
      "  0%|                                                                                             | 0/1210 [00:00<?, ?it/s]\n",
      "  0%|                                                                                             | 0/1210 [00:00<?, ?it/s]\n",
      "  0%|                                                                                             | 0/1210 [00:00<?, ?it/s]\n",
      "  0%|                                                                                             | 0/1210 [00:00<?, ?it/s]\n",
      "  0%|                                                                                             | 0/1210 [00:00<?, ?it/s]\n",
      "  0%|                                                                                             | 0/1210 [00:00<?, ?it/s]\n",
      "  0%|                                                                                             | 0/1210 [00:00<?, ?it/s]\n",
      "  0%|                                                                                             | 0/1210 [00:00<?, ?it/s]\n",
      "  0%|                                                                                             | 0/1210 [00:00<?, ?it/s]\n",
      "  0%|                                                                                             | 0/1210 [00:00<?, ?it/s]\n",
      "  0%|                                                                                             | 0/1210 [00:00<?, ?it/s]\n",
      "  0%|                                                                                             | 0/1210 [00:00<?, ?it/s]\n",
      "  0%|                                                                                             | 0/1210 [00:00<?, ?it/s]\n",
      "  0%|                                                                                             | 0/1210 [00:00<?, ?it/s]\n",
      "  0%|                                                                                             | 0/1210 [00:00<?, ?it/s]\n",
      "  0%|                                                                                             | 0/1210 [00:00<?, ?it/s]\n",
      "  0%|                                                                                             | 0/1210 [00:00<?, ?it/s]\n",
      "  0%|                                                                                             | 0/1210 [00:00<?, ?it/s]\n",
      "  0%|                                                                                             | 0/1210 [00:00<?, ?it/s]\n",
      "  0%|                                                                                             | 0/1210 [00:00<?, ?it/s]\n",
      "  0%|                                                                                             | 0/1210 [00:00<?, ?it/s]\n",
      "  0%|                                                                                             | 0/1210 [00:00<?, ?it/s]\n",
      "  0%|                                                                                             | 0/1210 [00:00<?, ?it/s]\n",
      "  0%|                                                                                             | 0/1210 [00:00<?, ?it/s]\n",
      "  0%|                                                                                             | 0/1210 [00:00<?, ?it/s]\n",
      "  0%|                                                                                             | 0/1210 [00:00<?, ?it/s]\n",
      "  0%|                                                                                             | 0/1210 [00:00<?, ?it/s]\n",
      "  0%|                                                                                             | 0/1210 [00:00<?, ?it/s]\n",
      "  0%|                                                                                             | 0/1210 [00:00<?, ?it/s]\n",
      "  0%|                                                                                             | 0/1210 [00:00<?, ?it/s]\n",
      "  0%|                                                                                             | 0/1210 [00:00<?, ?it/s]\n",
      "  0%|                                                                                             | 0/1210 [00:00<?, ?it/s]\n",
      "  0%|                                                                                             | 0/1210 [00:00<?, ?it/s]\n",
      "  0%|                                                                                             | 0/1210 [00:00<?, ?it/s]\n",
      "  0%|                                                                                             | 0/1210 [00:00<?, ?it/s]\n",
      "  0%|                                                                                             | 0/1210 [00:00<?, ?it/s]\n",
      "  0%|                                                                                             | 0/1210 [00:00<?, ?it/s]\n",
      "  0%|                                                                                             | 0/1210 [00:00<?, ?it/s]\n",
      "  0%|                                                                                             | 0/1210 [00:00<?, ?it/s]\n",
      "  0%|                                                                                             | 0/1210 [00:00<?, ?it/s]\n",
      "  0%|                                                                                             | 0/1210 [00:00<?, ?it/s]\n",
      "  0%|                                                                                             | 0/1210 [00:00<?, ?it/s]\n",
      "  0%|                                                                                             | 0/1210 [00:00<?, ?it/s]\n",
      "  0%|                                                                                             | 0/1210 [00:00<?, ?it/s]\n",
      "  0%|                                                                                             | 0/1210 [00:00<?, ?it/s]\n",
      "  0%|                                                                                             | 0/1210 [00:00<?, ?it/s]\n",
      "  0%|                                                                                             | 0/1210 [00:00<?, ?it/s]\n",
      "  0%|                                                                                             | 0/1210 [00:00<?, ?it/s]\n",
      "  0%|                                                                                             | 0/1210 [00:00<?, ?it/s]\n",
      "  0%|                                                                                             | 0/1210 [00:00<?, ?it/s]\n",
      "  0%|                                                                                             | 0/1210 [00:00<?, ?it/s]\n",
      "  0%|                                                                                             | 0/1210 [00:00<?, ?it/s]\n",
      "  0%|                                                                                             | 0/1210 [00:00<?, ?it/s]\n",
      "  0%|                                                                                             | 0/1210 [00:00<?, ?it/s]\n",
      "  0%|                                                                                             | 0/1210 [00:00<?, ?it/s]\n",
      "  0%|                                                                                             | 0/1210 [00:00<?, ?it/s]\n",
      "  0%|                                                                                             | 0/1210 [00:00<?, ?it/s]\n",
      "  0%|                                                                                             | 0/1210 [00:00<?, ?it/s]\n",
      "  0%|                                                                                             | 0/1210 [00:00<?, ?it/s]\n",
      "  0%|                                                                                             | 0/1210 [00:00<?, ?it/s]\n",
      "  0%|                                                                                             | 0/1210 [00:00<?, ?it/s]\n",
      "  0%|                                                                                             | 0/1210 [00:00<?, ?it/s]\n",
      "  0%|                                                                                             | 0/1210 [00:00<?, ?it/s]\n",
      "  0%|                                                                                             | 0/1210 [00:00<?, ?it/s]\n",
      "  0%|                                                                                             | 0/1210 [00:00<?, ?it/s]\n",
      "  0%|                                                                                             | 0/1210 [00:00<?, ?it/s]\n",
      "  0%|                                                                                             | 0/1210 [00:00<?, ?it/s]\n",
      "  0%|                                                                                             | 0/1210 [00:00<?, ?it/s]\n",
      "  0%|                                                                                             | 0/1210 [00:00<?, ?it/s]\n",
      "  0%|                                                                                             | 0/1210 [00:00<?, ?it/s]\n",
      "  0%|                                                                                             | 0/1210 [00:00<?, ?it/s]\n",
      "  0%|                                                                                             | 0/1210 [00:00<?, ?it/s]\n",
      "  0%|                                                                                             | 0/1210 [00:00<?, ?it/s]\n",
      "  0%|                                                                                             | 0/1210 [00:00<?, ?it/s]\n",
      "  0%|                                                                                             | 0/1210 [00:00<?, ?it/s]\n",
      "  0%|                                                                                             | 0/1210 [00:00<?, ?it/s]\n",
      "  0%|                                                                                             | 0/1210 [00:00<?, ?it/s]\n",
      "  0%|                                                                                             | 0/1210 [00:00<?, ?it/s]\n",
      "  0%|                                                                                             | 0/1210 [00:00<?, ?it/s]\n",
      "  0%|                                                                                             | 0/1210 [00:00<?, ?it/s]\n",
      "  0%|                                                                                             | 0/1210 [00:00<?, ?it/s]\n",
      "  0%|                                                                                             | 0/1210 [00:00<?, ?it/s]\n",
      "  0%|                                                                                             | 0/1210 [00:00<?, ?it/s]\n",
      "  0%|                                                                                             | 0/1210 [00:00<?, ?it/s]\n",
      "  0%|                                                                                             | 0/1210 [00:00<?, ?it/s]\n",
      "  0%|                                                                                             | 0/1210 [00:00<?, ?it/s]\n",
      "  0%|                                                                                             | 0/1210 [00:00<?, ?it/s]\n",
      "  0%|                                                                                             | 0/1210 [00:00<?, ?it/s]\n",
      "  0%|                                                                                             | 0/1210 [00:00<?, ?it/s]\n",
      "  0%|                                                                                             | 0/1210 [00:00<?, ?it/s]\n",
      "  0%|                                                                                             | 0/1210 [00:00<?, ?it/s]\n",
      "  0%|                                                                                             | 0/1210 [00:00<?, ?it/s]\n",
      "  0%|                                                                                             | 0/1210 [00:00<?, ?it/s]\n",
      "  0%|                                                                                             | 0/1210 [00:00<?, ?it/s]\n",
      "  0%|                                                                                             | 0/1210 [00:00<?, ?it/s]\n",
      "  0%|                                                                                             | 0/1210 [00:00<?, ?it/s]\n",
      "  0%|                                                                                             | 0/1210 [00:00<?, ?it/s]\n",
      "  0%|                                                                                             | 0/1210 [00:00<?, ?it/s]\n",
      "  0%|                                                                                             | 0/1210 [00:00<?, ?it/s]\n",
      "  0%|                                                                                             | 0/1210 [00:00<?, ?it/s]\n",
      "  0%|                                                                                             | 0/1210 [00:00<?, ?it/s]\n",
      "  0%|                                                                                             | 0/1210 [00:00<?, ?it/s]\n",
      "  0%|                                                                                             | 0/1210 [00:00<?, ?it/s]\n",
      "  0%|                                                                                             | 0/1210 [00:00<?, ?it/s]\n",
      "  0%|                                                                                             | 0/1210 [00:00<?, ?it/s]\n",
      "  0%|                                                                                             | 0/1210 [00:00<?, ?it/s]\n",
      "  0%|                                                                                             | 0/1210 [00:00<?, ?it/s]\n",
      "  0%|                                                                                             | 0/1210 [00:00<?, ?it/s]\n",
      "  0%|                                                                                             | 0/1210 [00:00<?, ?it/s]\n",
      "  0%|                                                                                             | 0/1210 [00:00<?, ?it/s]\n",
      "  0%|                                                                                             | 0/1210 [00:00<?, ?it/s]\n",
      "  0%|                                                                                             | 0/1210 [00:00<?, ?it/s]\n",
      "  0%|                                                                                             | 0/1210 [00:00<?, ?it/s]\n",
      "  0%|                                                                                             | 0/1210 [00:00<?, ?it/s]\n",
      "  0%|                                                                                             | 0/1210 [00:00<?, ?it/s]\n",
      "  0%|                                                                                             | 0/1210 [00:00<?, ?it/s]\n",
      "  0%|                                                                                             | 0/1210 [00:00<?, ?it/s]\n",
      "  0%|                                                                                             | 0/1210 [00:00<?, ?it/s]\n",
      "  0%|                                                                                             | 0/1210 [00:00<?, ?it/s]\n",
      "  0%|                                                                                             | 0/1210 [00:00<?, ?it/s]\n",
      "  0%|                                                                                             | 0/1210 [00:00<?, ?it/s]\n",
      "  0%|                                                                                             | 0/1210 [00:00<?, ?it/s]\n",
      "  0%|                                                                                             | 0/1210 [00:00<?, ?it/s]\n",
      "  0%|                                                                                             | 0/1210 [00:00<?, ?it/s]\n",
      "  0%|                                                                                             | 0/1210 [00:00<?, ?it/s]\n",
      "  0%|                                                                                             | 0/1210 [00:00<?, ?it/s]\n",
      "  0%|                                                                                             | 0/1210 [00:00<?, ?it/s]\n",
      "  0%|                                                                                             | 0/1210 [00:00<?, ?it/s]\n",
      "  0%|                                                                                             | 0/1210 [00:00<?, ?it/s]\n",
      "  0%|                                                                                             | 0/1210 [00:00<?, ?it/s]\n",
      "  0%|                                                                                             | 0/1210 [00:00<?, ?it/s]\n",
      "  0%|                                                                                             | 0/1210 [00:00<?, ?it/s]\n",
      "  0%|                                                                                             | 0/1210 [00:00<?, ?it/s]\n",
      "  0%|                                                                                             | 0/1210 [00:00<?, ?it/s]\n",
      "  0%|                                                                                             | 0/1210 [00:00<?, ?it/s]\n",
      "  0%|                                                                                             | 0/1210 [00:00<?, ?it/s]\n",
      "  0%|                                                                                             | 0/1210 [00:00<?, ?it/s]\n",
      "  0%|                                                                                             | 0/1210 [00:00<?, ?it/s]\n",
      "  0%|                                                                                             | 0/1210 [00:00<?, ?it/s]\n",
      "  0%|                                                                                             | 0/1210 [00:00<?, ?it/s]\n",
      "  0%|                                                                                             | 0/1210 [00:00<?, ?it/s]\n",
      "  0%|                                                                                             | 0/1210 [00:00<?, ?it/s]\n",
      "  0%|                                                                                             | 0/1210 [00:00<?, ?it/s]\n",
      "  0%|                                                                                             | 0/1210 [00:00<?, ?it/s]\n",
      "  0%|                                                                                             | 0/1210 [00:00<?, ?it/s]\n",
      "  0%|                                                                                             | 0/1210 [00:00<?, ?it/s]\n",
      "  0%|                                                                                             | 0/1210 [00:00<?, ?it/s]\n",
      "  0%|                                                                                             | 0/1210 [00:00<?, ?it/s]\n",
      "  0%|                                                                                             | 0/1210 [00:00<?, ?it/s]\n",
      "  0%|                                                                                             | 0/1210 [00:00<?, ?it/s]\n",
      "  0%|                                                                                             | 0/1210 [00:00<?, ?it/s]\n",
      "  0%|                                                                                             | 0/1210 [00:00<?, ?it/s]\n",
      "  0%|                                                                                             | 0/1210 [00:00<?, ?it/s]\n",
      "  0%|                                                                                             | 0/1210 [00:00<?, ?it/s]\n",
      "  0%|                                                                                             | 0/1210 [00:00<?, ?it/s]\n",
      "  0%|                                                                                             | 0/1210 [00:00<?, ?it/s]\n",
      "  0%|                                                                                             | 0/1210 [00:00<?, ?it/s]\n",
      "  0%|                                                                                             | 0/1210 [00:00<?, ?it/s]\n",
      "  0%|                                                                                             | 0/1210 [00:00<?, ?it/s]\n",
      "  0%|                                                                                             | 0/1210 [00:00<?, ?it/s]\n",
      "  0%|                                                                                             | 0/1210 [00:00<?, ?it/s]\n",
      "  0%|                                                                                             | 0/1210 [00:00<?, ?it/s]\n",
      "  0%|                                                                                             | 0/1210 [00:00<?, ?it/s]\n",
      "  0%|                                                                                             | 0/1210 [00:00<?, ?it/s]\n",
      "  0%|                                                                                             | 0/1210 [00:00<?, ?it/s]\n",
      "  0%|                                                                                             | 0/1210 [00:00<?, ?it/s]\n",
      "  0%|                                                                                             | 0/1210 [00:00<?, ?it/s]\n",
      "  0%|                                                                                             | 0/1210 [00:00<?, ?it/s]\n",
      "  0%|                                                                                             | 0/1210 [00:00<?, ?it/s]\n",
      "  0%|                                                                                             | 0/1210 [00:00<?, ?it/s]\n",
      "  0%|                                                                                             | 0/1210 [00:00<?, ?it/s]\n",
      "  0%|                                                                                             | 0/1210 [00:00<?, ?it/s]\n",
      "  0%|                                                                                             | 0/1210 [00:00<?, ?it/s]\n",
      "  0%|                                                                                             | 0/1210 [00:00<?, ?it/s]\n",
      "100%|█████████████████████████████████████████████████████████████████████████████████| 1210/1210 [00:01<00:00, 937.86it/s]"
     ]
    },
    {
     "name": "stdout",
     "output_type": "stream",
     "text": [
      "Cert Acc ct our 0.01 h_min is 0.9297658862876255\n"
     ]
    },
    {
     "name": "stderr",
     "output_type": "stream",
     "text": [
      "\n"
     ]
    }
   ],
   "source": [
    "# hlist = [0.2, 0.5, 0.53,0.55, 0.6, 0.62, 0.65, 0.66, 0.67, 0.68, 0.7, 0.8,0.83, 0.85, 0.87 ,0.9, 0.93]\n",
    "hlist = np.linspace(0.5, 1, 300)\n",
    "hmin = CertAccChecker(safe_beta, betas=betas_attack, hlist=hlist, xi=xi, hatg_int=hatg_int)\n",
    "cert_acc_within_betas_bounds = ((paCP>hmin).astype('int')*isOkCP).mean()\n",
    "print(f'Cert Acc {type_of_transform} our', cert_acc_within_betas_bounds, 'h_min is', hmin)"
   ]
  },
  {
   "cell_type": "code",
   "execution_count": 52,
   "id": "b1939828",
   "metadata": {},
   "outputs": [],
   "source": [
    "def make_accuracy_df_3D_to_2D_trans(betas, hs, correct, hatg_int, safe_beta = safe_beta,\n",
    "                                    ifTSS = False, ifOURnew=False, extent = [0, 80.0, 0.5, 2.0], name = 'Certified accuracy for composition of Contrast and Translation'):\n",
    "    beta_d = {'c': list(), 't1':list(), 't2':list()}\n",
    "    accuracy = np.zeros(len(betas))\n",
    "\n",
    "    for i, beta in enumerate(tqdm(betas)):\n",
    "        beta_d['c'].append(beta[0])\n",
    "        beta_d['t1'].append(beta[1])\n",
    "        beta_d['t2'].append(beta[2])\n",
    "        \n",
    "        if ifOURnew:\n",
    "            for h1, isOk in zip(hs, correct):\n",
    "                accuracy[i] += (safe_beta(xi, h1, hatg_int, (beta[0],beta[1], beta[1])).item() * isOk) #, beta[2]\n",
    "        elif ifTSS:\n",
    "            for h1, isOk in zip(hs, correct):\n",
    "                accuracy[i] += (safe_beta(xi_tss, h1, [*beta]).item() * isOk) #, beta[2]\n",
    "\n",
    "        accuracy[i] /= len(correct)\n",
    "\n",
    "    \n",
    "    tn = []\n",
    "    cs = []\n",
    "    accs = []\n",
    "    all_params = []\n",
    "\n",
    "    for i, (c, t1, t2) in enumerate(zip(beta_d['c'], beta_d['t1'], beta_d['t2'])):\n",
    "        t_norm = jnp.linalg.norm([t1, t2]).item()\n",
    "        c_ = c.item()\n",
    "        tn.append(t_norm)\n",
    "        cs.append(c_)\n",
    "        accs.append(accuracy[i])\n",
    "\n",
    "\n",
    "    tns = []\n",
    "    css = []\n",
    "    acc_d = {}\n",
    "    for x,y,z in zip(tn, cs, accs):\n",
    "        if not x in tns:\n",
    "            tns.append(x)\n",
    "        if not y in css:\n",
    "            css.append(y)\n",
    "        acc_d[x,y] = z\n",
    "        \n",
    "    accdf = pd.DataFrame(data = jnp.array(list(acc_d.values())).reshape(len(css), len(tns)), index=css, columns=tns)\n",
    "    accdf = accdf.reindex(sorted(accdf.columns), axis=1)\n",
    "    clps = []\n",
    "    for x in accdf.values:\n",
    "        z = (np.asarray(list(map(np.array, x))))\n",
    "        clps.append(z)\n",
    "\n",
    "    plt.figure(figsize=(12,7))\n",
    "    plt.imshow(clps, extent=extent, aspect='auto')\n",
    "    #plt.set_ylabel([1., 11.])\n",
    "    plt.title(name, fontsize=15)\n",
    "    plt.xlabel(r'||v|| of translation parameter v', fontsize=15)\n",
    "    plt.ylabel(r'$b$ contrast transform', fontsize=15)\n",
    "    plt.colorbar();\n",
    "    if ifOURnew:\n",
    "        plt.savefig(dirname+'ct_our.png')\n",
    "    else:\n",
    "        plt.savefig(dirname+'ct_tss.png')\n",
    "    return accdf, clps, acc_d"
   ]
  },
  {
   "cell_type": "code",
   "execution_count": 54,
   "id": "211540a8",
   "metadata": {},
   "outputs": [],
   "source": [
    "# accdf, clps, acc_d = make_accuracy_df_3D_to_2D_trans(betas, paCP, isOkCP, hatg_int, safe_beta = safe_beta, ifTSS = False, ifOURnew=True, extent = [0, 80.0, 0.5, 2.0])\n",
    "\n",
    "\n",
    "\n",
    "# min(list(acc_d.values()))"
   ]
  },
  {
   "cell_type": "code",
   "execution_count": null,
   "id": "8a37b77d",
   "metadata": {
    "scrolled": true
   },
   "outputs": [],
   "source": []
  },
  {
   "cell_type": "markdown",
   "id": "16b11245",
   "metadata": {},
   "source": [
    "# Contrast + Brightnest + Translation"
   ]
  },
  {
   "cell_type": "code",
   "execution_count": 57,
   "id": "72632e9d",
   "metadata": {},
   "outputs": [],
   "source": [
    "sigma_tr = 50\n",
    "sigma_c = 0.8\n",
    "sigma_b = 0.8"
   ]
  },
  {
   "cell_type": "code",
   "execution_count": 59,
   "id": "9fd33f6b",
   "metadata": {},
   "outputs": [
    {
     "name": "stderr",
     "output_type": "stream",
     "text": [
      "100%|██████████████████████████████████████████████████████████████████████████████████| 1225/1225 [01:50<00:00, 11.06it/s]\n"
     ]
    },
    {
     "name": "stdout",
     "output_type": "stream",
     "text": [
      "(1225, 10000)\n",
      "(1225,)\n",
      "(10000,)\n"
     ]
    },
    {
     "data": {
      "image/png": "[encoded data removed]",
      "text/plain": [
       "<Figure size 432x288 with 1 Axes>"
      ]
     },
     "metadata": {
      "needs_background": "light"
     },
     "output_type": "display_data"
    },
    {
     "data": {
      "image/png": "[encoded data removed]",
      "text/plain": [
       "<Figure size 432x288 with 1 Axes>"
      ]
     },
     "metadata": {
      "needs_background": "light"
     },
     "output_type": "display_data"
    },
    {
     "data": {
      "image/png": "[encoded data removed]",
      "text/plain": [
       "<Figure size 432x288 with 1 Axes>"
      ]
     },
     "metadata": {
      "needs_background": "light"
     },
     "output_type": "display_data"
    },
    {
     "name": "stderr",
     "output_type": "stream",
     "text": [
      "100%|██████████████████████████████████████████████████████████████████████████████████| 1225/1225 [00:20<00:00, 60.58it/s]\n"
     ]
    }
   ],
   "source": [
    "ns = 10000\n",
    "x0 = jnp.array([0.0,0.0, 3., 21])\n",
    "d = 4\n",
    "b_zero = jnp.array([1.0, 0.0, 0.0, 0.0])\n",
    "\n",
    "betas1 = jnp.linspace(0.7, 1.6, 5)\n",
    "betas2 = jnp.linspace(-0.3, 0.3, 5)\n",
    "betas3 = jnp.linspace(-30.0, 30.0, 7).astype(int)# * 1.0 # set more steps\n",
    "betas4 = jnp.linspace(-30.0, 30.0, 7).astype(int) * 1.0\n",
    "betas_list = [betas1, betas2, betas3, betas4]\n",
    "type_of_transform = 'cbt'\n",
    "\n",
    "betas = jnp.asarray(list(map(jnp.array, itertools.product(betas1, betas2, betas3, betas4)))) \n",
    "\n",
    "bounds, p, g = compute_normed_bounds(compute_bound, x0, gamma, b_zero, betas, key, ns, d, type_of_transform)\n",
    "\n",
    "x, xi = pxi_to_xi(p)\n",
    "\n",
    "for b in bounds[:1000]:\n",
    "    plt.plot(b)\n",
    "plt.show()\n",
    "\n",
    "plt.plot(g)\n",
    "plt.show()\n",
    "\n",
    "plt.plot(p)\n",
    "plt.show()\n",
    "\n",
    "shape = [b.shape[0] for b in betas_list]\n",
    "z = csaps(betas_list, g.reshape(shape))\n",
    "\n",
    "hg = []\n",
    "\n",
    "for beta in tqdm(betas):\n",
    "    hat_g = g_to_hat_g(z, beta, b_zero)\n",
    "    hg.append(hat_g)\n",
    "\n",
    "hat_g = jnp.asarray(hg)\n",
    "\n",
    "hatg_int = csaps(betas_list, hat_g.reshape(shape)) #\n"
   ]
  },
  {
   "cell_type": "code",
   "execution_count": 60,
   "id": "aff81057",
   "metadata": {},
   "outputs": [],
   "source": [
    "checkpoint = torch.load('../checkpoints/trans_blur_bright_contrast/TransBrightBlurContrast_40_04_10_04_checkpoint.pth.tar')\n",
    "model = torchvision.models.resnet50(pretrained=False).to(device)#.cuda()\n",
    "normalize_layer = get_normalize_layer('imagenet', device).to(device)#.cuda()\n",
    "model = torch.nn.Sequential(normalize_layer, model)\n",
    "model.load_state_dict(checkpoint['state_dict'])\n",
    "model.eval()\n",
    "model = model.to(device)"
   ]
  },
  {
   "cell_type": "code",
   "execution_count": 63,
   "id": "346a2c0a",
   "metadata": {},
   "outputs": [],
   "source": [
    "Phi = construct_phi(type_of_transform, device, sigma_c=sigma_c, sigma_b=sigma_b, sigma_tr=sigma_tr)\n",
    "attack = attack_cbt_torch"
   ]
  },
  {
   "cell_type": "code",
   "execution_count": 64,
   "id": "c072456a",
   "metadata": {},
   "outputs": [
    {
     "name": "stderr",
     "output_type": "stream",
     "text": [
      "100%|████████████████████████████████████████████████████████████████████████████████████| 100/100 [01:43<00:00,  1.03s/it]\n"
     ]
    }
   ],
   "source": [
    "pas_cbt = pa_isOk_collector(model, loader=dataloader100, Phi=Phi, device=device, n0=n0, maxn=maxn, alpha=alpha, batch_size=256, adaptive=adaptive)\n",
    "paCP, isOkCP = pas_cbt # Clopper - Pearson"
   ]
  },
  {
   "cell_type": "code",
   "execution_count": 65,
   "id": "d07f234f",
   "metadata": {},
   "outputs": [],
   "source": [
    "betas1a = jnp.linspace(0.8, 1.5, 5)\n",
    "betas2a = jnp.linspace(-0.2, 0.2, 5)\n",
    "betas3a = jnp.linspace(-25.0, 25.0, 5).astype(int) * 1.0 # set more steps\n",
    "betas4a = jnp.linspace(-25.0, 25.0, 5).astype(int) * 1.0\n",
    "\n",
    "betas_attack = jnp.asarray(list(map(jnp.array, itertools.product(betas1a, betas2a, betas3a, betas4a)))) "
   ]
  },
  {
   "cell_type": "code",
   "execution_count": 66,
   "id": "6190d31b",
   "metadata": {},
   "outputs": [
    {
     "name": "stdout",
     "output_type": "stream",
     "text": [
      "Ordinary accuracy of Smoothed Classiifer 0.57\n"
     ]
    }
   ],
   "source": [
    "print('Ordinary accuracy of Smoothed Classiifer', np.mean(isOkCP))"
   ]
  },
  {
   "cell_type": "code",
   "execution_count": 67,
   "id": "84f57c8d",
   "metadata": {},
   "outputs": [
    {
     "name": "stderr",
     "output_type": "stream",
     "text": [
      "  0%|                                                                                              | 0/625 [00:00<?, ?it/s]\n",
      "  0%|                                                                                              | 0/625 [00:00<?, ?it/s]\n",
      "  0%|                                                                                              | 0/625 [00:00<?, ?it/s]\n",
      "  0%|                                                                                              | 0/625 [00:00<?, ?it/s]\n",
      "  0%|                                                                                              | 0/625 [00:00<?, ?it/s]\n",
      "  0%|                                                                                              | 0/625 [00:00<?, ?it/s]\n",
      "  0%|                                                                                              | 0/625 [00:00<?, ?it/s]\n",
      "  0%|                                                                                              | 0/625 [00:00<?, ?it/s]\n",
      "  0%|                                                                                              | 0/625 [00:00<?, ?it/s]\n",
      "  0%|                                                                                              | 0/625 [00:00<?, ?it/s]\n",
      "  0%|                                                                                              | 0/625 [00:00<?, ?it/s]\n",
      "  0%|                                                                                              | 0/625 [00:00<?, ?it/s]\n",
      "  0%|                                                                                              | 0/625 [00:00<?, ?it/s]\n",
      "  0%|                                                                                              | 0/625 [00:00<?, ?it/s]\n",
      "  0%|                                                                                              | 0/625 [00:00<?, ?it/s]\n",
      "  0%|                                                                                              | 0/625 [00:00<?, ?it/s]\n",
      "  0%|                                                                                              | 0/625 [00:00<?, ?it/s]\n",
      "  0%|                                                                                              | 0/625 [00:00<?, ?it/s]\n",
      "  0%|                                                                                              | 0/625 [00:00<?, ?it/s]\n",
      "  0%|                                                                                              | 0/625 [00:00<?, ?it/s]\n",
      "  0%|                                                                                              | 0/625 [00:00<?, ?it/s]\n",
      "  0%|                                                                                              | 0/625 [00:00<?, ?it/s]\n",
      "  0%|                                                                                              | 0/625 [00:00<?, ?it/s]\n",
      "  0%|                                                                                              | 0/625 [00:00<?, ?it/s]\n",
      "  0%|                                                                                              | 0/625 [00:00<?, ?it/s]\n",
      "  0%|                                                                                              | 0/625 [00:00<?, ?it/s]\n",
      "  0%|                                                                                              | 0/625 [00:00<?, ?it/s]\n",
      "  0%|                                                                                              | 0/625 [00:00<?, ?it/s]\n",
      "  0%|                                                                                              | 0/625 [00:00<?, ?it/s]\n",
      "  0%|                                                                                              | 0/625 [00:00<?, ?it/s]\n",
      "  0%|                                                                                              | 0/625 [00:00<?, ?it/s]\n",
      "  0%|                                                                                              | 0/625 [00:00<?, ?it/s]\n",
      "  0%|                                                                                              | 0/625 [00:00<?, ?it/s]\n",
      "  0%|                                                                                              | 0/625 [00:00<?, ?it/s]\n",
      "  0%|                                                                                              | 0/625 [00:00<?, ?it/s]\n",
      "  0%|                                                                                              | 0/625 [00:00<?, ?it/s]\n",
      "  0%|                                                                                              | 0/625 [00:00<?, ?it/s]\n",
      "  0%|                                                                                              | 0/625 [00:00<?, ?it/s]\n",
      "  0%|                                                                                              | 0/625 [00:00<?, ?it/s]\n",
      "  0%|                                                                                              | 0/625 [00:00<?, ?it/s]\n",
      "  0%|                                                                                              | 0/625 [00:00<?, ?it/s]\n",
      "  0%|                                                                                              | 0/625 [00:00<?, ?it/s]\n",
      "  0%|                                                                                              | 0/625 [00:00<?, ?it/s]\n",
      "  0%|                                                                                              | 0/625 [00:00<?, ?it/s]\n",
      "  0%|                                                                                              | 0/625 [00:00<?, ?it/s]\n",
      "  0%|                                                                                              | 0/625 [00:00<?, ?it/s]\n",
      "  0%|                                                                                              | 0/625 [00:00<?, ?it/s]\n",
      "  0%|                                                                                              | 0/625 [00:00<?, ?it/s]\n",
      "  0%|                                                                                              | 0/625 [00:00<?, ?it/s]\n",
      "  0%|                                                                                              | 0/625 [00:00<?, ?it/s]\n",
      "  0%|                                                                                              | 0/625 [00:00<?, ?it/s]\n",
      "  0%|                                                                                              | 0/625 [00:00<?, ?it/s]\n",
      "  0%|                                                                                              | 0/625 [00:00<?, ?it/s]\n",
      "  0%|                                                                                              | 0/625 [00:00<?, ?it/s]\n",
      "  0%|                                                                                              | 0/625 [00:00<?, ?it/s]\n",
      "  0%|                                                                                              | 0/625 [00:00<?, ?it/s]\n",
      "  0%|                                                                                              | 0/625 [00:00<?, ?it/s]\n",
      "  0%|                                                                                              | 0/625 [00:00<?, ?it/s]\n",
      "  0%|                                                                                              | 0/625 [00:00<?, ?it/s]\n",
      "  0%|                                                                                              | 0/625 [00:00<?, ?it/s]\n",
      "  0%|                                                                                              | 0/625 [00:00<?, ?it/s]\n",
      "  0%|                                                                                              | 0/625 [00:00<?, ?it/s]\n",
      "  0%|                                                                                              | 0/625 [00:00<?, ?it/s]\n",
      "  0%|                                                                                              | 0/625 [00:00<?, ?it/s]\n",
      "  0%|                                                                                              | 0/625 [00:00<?, ?it/s]\n",
      "  0%|                                                                                              | 0/625 [00:00<?, ?it/s]\n",
      "  0%|                                                                                              | 0/625 [00:00<?, ?it/s]\n",
      "  0%|                                                                                              | 0/625 [00:00<?, ?it/s]\n",
      "  0%|                                                                                              | 0/625 [00:00<?, ?it/s]\n",
      "  0%|                                                                                              | 0/625 [00:00<?, ?it/s]\n",
      "  0%|                                                                                              | 0/625 [00:00<?, ?it/s]\n",
      "  0%|                                                                                              | 0/625 [00:00<?, ?it/s]\n",
      "  0%|                                                                                              | 0/625 [00:00<?, ?it/s]\n",
      "  0%|                                                                                              | 0/625 [00:00<?, ?it/s]\n",
      "  0%|                                                                                              | 0/625 [00:00<?, ?it/s]\n",
      "  0%|                                                                                              | 0/625 [00:00<?, ?it/s]\n",
      "  0%|                                                                                              | 0/625 [00:00<?, ?it/s]\n",
      "  0%|                                                                                              | 0/625 [00:00<?, ?it/s]\n",
      "  0%|                                                                                              | 0/625 [00:00<?, ?it/s]\n",
      "  0%|                                                                                              | 0/625 [00:00<?, ?it/s]\n",
      "  0%|                                                                                              | 0/625 [00:00<?, ?it/s]\n",
      "  0%|                                                                                              | 0/625 [00:00<?, ?it/s]\n",
      "  0%|                                                                                              | 0/625 [00:00<?, ?it/s]\n",
      "  0%|                                                                                              | 0/625 [00:00<?, ?it/s]\n",
      "  0%|                                                                                              | 0/625 [00:00<?, ?it/s]\n",
      "  0%|                                                                                              | 0/625 [00:00<?, ?it/s]\n",
      "  0%|                                                                                              | 0/625 [00:00<?, ?it/s]\n",
      "  0%|                                                                                              | 0/625 [00:00<?, ?it/s]\n",
      "  0%|                                                                                              | 0/625 [00:00<?, ?it/s]\n",
      "  0%|                                                                                              | 0/625 [00:00<?, ?it/s]\n",
      "  0%|                                                                                              | 0/625 [00:00<?, ?it/s]\n",
      "  0%|                                                                                              | 0/625 [00:00<?, ?it/s]\n",
      "  0%|                                                                                              | 0/625 [00:00<?, ?it/s]\n",
      "  0%|                                                                                              | 0/625 [00:00<?, ?it/s]\n",
      "  0%|                                                                                              | 0/625 [00:00<?, ?it/s]\n",
      "  0%|                                                                                              | 0/625 [00:00<?, ?it/s]\n",
      "  0%|                                                                                              | 0/625 [00:00<?, ?it/s]\n",
      "  0%|                                                                                              | 0/625 [00:00<?, ?it/s]\n",
      "  0%|                                                                                              | 0/625 [00:00<?, ?it/s]\n",
      "  0%|                                                                                              | 0/625 [00:00<?, ?it/s]\n",
      "  0%|                                                                                              | 0/625 [00:00<?, ?it/s]\n",
      "  0%|                                                                                              | 0/625 [00:00<?, ?it/s]\n",
      "  0%|                                                                                              | 0/625 [00:00<?, ?it/s]\n",
      "  0%|                                                                                              | 0/625 [00:00<?, ?it/s]\n",
      "  0%|                                                                                              | 0/625 [00:00<?, ?it/s]\n",
      "  0%|                                                                                              | 0/625 [00:00<?, ?it/s]\n",
      "  0%|                                                                                              | 0/625 [00:00<?, ?it/s]\n",
      "  0%|                                                                                              | 0/625 [00:00<?, ?it/s]\n",
      "  0%|                                                                                              | 0/625 [00:00<?, ?it/s]\n",
      "  0%|                                                                                              | 0/625 [00:00<?, ?it/s]\n",
      "  0%|                                                                                              | 0/625 [00:00<?, ?it/s]\n",
      "  0%|                                                                                              | 0/625 [00:00<?, ?it/s]\n",
      "  0%|                                                                                              | 0/625 [00:00<?, ?it/s]\n",
      "  0%|                                                                                              | 0/625 [00:00<?, ?it/s]\n",
      "  0%|                                                                                              | 0/625 [00:00<?, ?it/s]\n",
      "  0%|                                                                                              | 0/625 [00:00<?, ?it/s]\n",
      "  0%|                                                                                              | 0/625 [00:00<?, ?it/s]\n",
      "  0%|                                                                                              | 0/625 [00:00<?, ?it/s]\n",
      "  0%|                                                                                              | 0/625 [00:00<?, ?it/s]\n",
      "  0%|                                                                                              | 0/625 [00:00<?, ?it/s]\n",
      "  0%|                                                                                              | 0/625 [00:00<?, ?it/s]\n",
      "  0%|                                                                                              | 0/625 [00:00<?, ?it/s]\n",
      "  0%|                                                                                              | 0/625 [00:00<?, ?it/s]\n",
      "  0%|                                                                                              | 0/625 [00:00<?, ?it/s]\n",
      "  0%|                                                                                              | 0/625 [00:00<?, ?it/s]\n",
      "100%|███████████████████████████████████████████████████████████████████████████████████| 625/625 [00:00<00:00, 850.35it/s]"
     ]
    },
    {
     "name": "stdout",
     "output_type": "stream",
     "text": [
      "Cert Acc cbt our 0.04 h_min is 0.7090301003344481\n"
     ]
    },
    {
     "name": "stderr",
     "output_type": "stream",
     "text": [
      "\n"
     ]
    }
   ],
   "source": [
    "# hlist = [0.2, 0.5, 0.53,0.55, 0.6, 0.62, 0.65, 0.66, 0.67, 0.68, 0.7, 0.8,0.83, 0.85, 0.87 ,0.9, 0.93]\n",
    "hlist = np.linspace(0.5, 1, 300)\n",
    "hmin = CertAccChecker(safe_beta, betas=betas_attack, hlist=hlist, xi=xi, hatg_int=hatg_int)\n",
    "cert_acc_within_betas_bounds = ((paCP>hmin).astype('int')*isOkCP).mean()\n",
    "print(f'Cert Acc {type_of_transform} our', cert_acc_within_betas_bounds, 'h_min is', hmin)"
   ]
  },
  {
   "cell_type": "markdown",
   "id": "f7775a79",
   "metadata": {},
   "source": [
    "# TRANS BLUR BRIGHT CONTRAST"
   ]
  },
  {
   "cell_type": "code",
   "execution_count": 74,
   "id": "962ecaee",
   "metadata": {},
   "outputs": [],
   "source": [
    "sigma_tr = 30\n",
    "sigma_blur = 4\n",
    "sigma_b = 0.8\n",
    "sigma_c = 0.8"
   ]
  },
  {
   "cell_type": "code",
   "execution_count": 75,
   "id": "367d0b4e",
   "metadata": {},
   "outputs": [
    {
     "name": "stderr",
     "output_type": "stream",
     "text": [
      "100%|██████████████████████████████████████████████████████████████████████████████████| 3750/3750 [06:03<00:00, 10.31it/s]\n"
     ]
    },
    {
     "name": "stdout",
     "output_type": "stream",
     "text": [
      "(3750, 10000)\n",
      "(3750,)\n",
      "(10000,)\n"
     ]
    }
   ],
   "source": [
    "ns = 10000\n",
    "x0 = jnp.array([1.0,3.0, 3., 1, 1.1]) # WHATEVER \n",
    "d = 5\n",
    "b_zero = jnp.array([0.0, 0.0, 0.0,0.0, 1.0])\n",
    "\n",
    "betas1 = jnp.linspace(-5, 5, 5) ## set a bit larger range than you want to certify\n",
    "betas2 = jnp.linspace(-5, 5, 5)\n",
    "betas3 = jnp.linspace(0, 3, 6)\n",
    "betas4 = jnp.linspace(-0.2, 0.2, 5)\n",
    "betas5 = jnp.linspace(0.9, 1.1, 5)\n",
    "betas = jnp.asarray(list(map(jnp.array, itertools.product(betas1, betas2, betas3, betas4, betas5)))) \n",
    "\n",
    "\n",
    "\n",
    "type_of_transform = 'tbbc_ray'\n",
    "bounds, p, g = compute_normed_bounds(compute_bound, x0, gamma, b_zero, betas, key, ns, d, type_of_transform)\n",
    "\n",
    "x, xi = pxi_to_xi(p)\n"
   ]
  },
  {
   "cell_type": "code",
   "execution_count": 76,
   "id": "094f4064",
   "metadata": {},
   "outputs": [
    {
     "data": {
      "image/png": "[encoded data removed]",
      "text/plain": [
       "<Figure size 432x288 with 1 Axes>"
      ]
     },
     "metadata": {
      "needs_background": "light"
     },
     "output_type": "display_data"
    },
    {
     "data": {
      "image/png": "[encoded data removed]",
      "text/plain": [
       "<Figure size 432x288 with 1 Axes>"
      ]
     },
     "metadata": {
      "needs_background": "light"
     },
     "output_type": "display_data"
    },
    {
     "data": {
      "image/png": "[encoded data removed]",
      "text/plain": [
       "<Figure size 432x288 with 1 Axes>"
      ]
     },
     "metadata": {
      "needs_background": "light"
     },
     "output_type": "display_data"
    }
   ],
   "source": [
    "for b in bounds[:1000]:\n",
    "    plt.plot(b)\n",
    "plt.show()\n",
    "\n",
    "plt.plot(g)\n",
    "plt.show()\n",
    "\n",
    "plt.plot(p)\n",
    "plt.show()"
   ]
  },
  {
   "cell_type": "code",
   "execution_count": 77,
   "id": "9703532a",
   "metadata": {},
   "outputs": [
    {
     "name": "stderr",
     "output_type": "stream",
     "text": [
      "100%|██████████████████████████████████████████████████████████████████████████████████| 3750/3750 [06:55<00:00,  9.03it/s]\n"
     ]
    }
   ],
   "source": [
    "z = csaps([betas1, betas2, betas3, betas4, betas5], g.reshape(*betas1.shape, *betas2.shape, *betas3.shape, *betas4.shape, *betas5.shape)) # interpolate\n",
    "\n",
    "\n",
    "hg = []\n",
    "\n",
    "for beta in tqdm(betas):\n",
    "    hat_g = g_to_hat_g(z, beta, b_zero)\n",
    "    hg.append(hat_g)\n",
    "    \n",
    "hat_g = jnp.asarray(hg)\n",
    "\n",
    "hatg_int = csaps([betas1, betas2, betas3, betas4, betas5], hat_g.reshape(*betas1.shape, *betas2.shape, *betas3.shape, *betas4.shape, *betas5.shape)) #intterpolation of Integral g(beta)"
   ]
  },
  {
   "cell_type": "code",
   "execution_count": 78,
   "id": "9ff46b14",
   "metadata": {},
   "outputs": [],
   "source": [
    "import cv2 \n",
    "import math\n",
    "\n",
    "class Gaussian:\n",
    "    # it adopts uniform distribution\n",
    "    def __init__(self, sigma):\n",
    "        self.sigma = sigma\n",
    "        self.sigma2 = sigma ** 2.0\n",
    "\n",
    "    def gen_param(self):\n",
    "        r = random.uniform(0.0, self.sigma2)\n",
    "        return r\n",
    "\n",
    "    def proc(self, input, r2):\n",
    "        if (abs(r2) < 1e-6):\n",
    "            return input\n",
    "        input = input.cpu().numpy()\n",
    "        out = cv2.GaussianBlur(input.transpose(1, 2, 0), (0, 0), math.sqrt(r2), borderType=cv2.BORDER_REFLECT101)\n",
    "        if out.ndim == 2:\n",
    "            out = np.expand_dims(out, 2)\n",
    "        out = torch.from_numpy(out.transpose(2, 0, 1))\n",
    "        return out #.cuda()\n",
    "    \n",
    "    def proc_new(self, input, r2):\n",
    "        if (abs(r2) < 1e-6):\n",
    "            return input\n",
    "#         print(input.shape)\n",
    "        input = input.cpu().numpy()\n",
    "#         print(input.shape)\n",
    "        out = cv2.GaussianBlur(input.transpose(1, 2, 0), (0, 0), math.sqrt(r2), borderType=cv2.BORDER_REFLECT101)\n",
    "        if out.ndim == 2:\n",
    "            out = np.expand_dims(out, 2)\n",
    "        out = torch.from_numpy(out.transpose(2, 0, 1))\n",
    "        \n",
    "        return out #.cuda()\n",
    "\n",
    "    def batch_proc(self, inputs):\n",
    "        outs = torch.zeros_like(inputs)\n",
    "        for i in range(len(inputs)):\n",
    "            outs[i] = self.proc(inputs[i], self.gen_param())\n",
    "        return outs\n",
    "    \n",
    "class ExpGaussian(Gaussian):\n",
    "    # it adopts exponential distribution\n",
    "    # where the sigma is actually lambda in exponential distribution Exp(1/lambda)\n",
    "    def __init__(self, sigma):\n",
    "        super(ExpGaussian, self).__init__(sigma)\n",
    "        self.sigma = sigma\n",
    "\n",
    "    def gen_param(self):\n",
    "#         r = - self.sigma * math.log(random.uniform(0.0, 1.0))\n",
    "        r = np.random.exponential(scale=self.sigma)\n",
    "        r = r#.to(device)\n",
    "        return r\n",
    "    \n",
    "class RayGaussian(Gaussian):\n",
    "    # it adopts exponential distribution\n",
    "    # where the sigma is actually lambda in exponential distribution Exp(1/lambda)\n",
    "    def __init__(self, sigma):\n",
    "        super(RayGaussian, self).__init__(sigma)\n",
    "        self.sigma = sigma\n",
    "\n",
    "    def gen_param(self):\n",
    "#         r = - self.sigma * math.log(random.uniform(0.0, 1.0))\n",
    "        r = np.random.rayleigh(scale=self.sigma)\n",
    "        return r\n",
    "    "
   ]
  },
  {
   "cell_type": "code",
   "execution_count": 79,
   "id": "b7a186f9",
   "metadata": {},
   "outputs": [],
   "source": [
    "def norm_to_exp_torch(s, lam):\n",
    "    norm1 = torch.randn(s)\n",
    "    norm2 = torch.randn(s)\n",
    "    norm3 = torch.randn(s)\n",
    "    norm4 = torch.randn(s)\n",
    "    return torch.abs(norm1 * norm2 - norm3 * norm4) / lam\n",
    "    "
   ]
  },
  {
   "cell_type": "code",
   "execution_count": 80,
   "id": "51d3de99",
   "metadata": {},
   "outputs": [],
   "source": [
    "def attack_blur_cv2(x, b):\n",
    "    r = b \n",
    "    input = x[0].cpu().numpy()\n",
    "    r = r.item()\n",
    "    out = cv2.GaussianBlur(input.transpose(1, 2, 0), (0, 0), np.sqrt(r), borderType=cv2.BORDER_REFLECT101)\n",
    "    out = torch.from_numpy(out.transpose(2, 0, 1))\n",
    "    return out[None, :].to(device)\n",
    "    \n",
    "\n",
    "def phi_blur_torch_batch_and_noise(x, sigma_blur = sigma_blur):\n",
    "    \n",
    "    if not exp_smoothing:\n",
    "        norm1 = torch.randn(len(x))\n",
    "        norm2 = torch.randn(len(x))\n",
    "        ray = torch.sqrt(norm1**2 + norm2**2)\n",
    "        exp = ray ** 2\n",
    "        blur_radii = sigma_blur * exp\n",
    "    else:\n",
    "        blur_radii = norm_to_exp_torch(len(x), sigma_blur)\n",
    "\n",
    "#     blur_radii = sigma_blur * norm_to_exp_torch(torch.randn(len(x)))\n",
    "    for i in range(len(x)):\n",
    "        x[i] = attack_blur_cv2(x[i][None, :], blur_radii[i])\n",
    "    return x.to(device)"
   ]
  },
  {
   "cell_type": "code",
   "execution_count": 81,
   "id": "4a475aa0",
   "metadata": {},
   "outputs": [],
   "source": [
    "def attack_tbbc_torch(x, b):  # tr bl br c\n",
    "\n",
    "    x = x.to(device)\n",
    "    translation = torch.tensor([[b[0].item(), b[1].item()]]).to(torch.float).to(device) \n",
    "    x = kornia.geometry.transform.translate(x, translation, padding_mode='reflection')\n",
    "    x = attack_blur_cv2(x, b = b[2])\n",
    "    x = x + torch.tensor(b[3].item())\n",
    "    x = torch.tensor(b[4].item())*x\n",
    "    return x\n",
    "\n",
    "\n",
    "\n",
    "def phi_tbbc_torch_batch_and_noise(x): \n",
    "    x = x.to(device)\n",
    "    \n",
    "    c1 = (torch.randn(len(x)) * sigma_tr).long()*1.0\n",
    "    c2 = (torch.randn(len(x)) * sigma_tr).long()*1.0\n",
    "    t = torch.tensor([1,0])\n",
    "    T = t.expand(len(x), *t.shape).clone()\n",
    "    T[:, 0] = c1.squeeze().clone()\n",
    "    T[:, 1] = c2.squeeze().clone()\n",
    "    x = kornia.geometry.transform.translate(x.to(device), T.float().to(device), padding_mode='reflection')\n",
    "    \n",
    "    x = phi_blur_torch_batch_and_noise(x)\n",
    "    if exp_smoothing:\n",
    "        blur = ExpGaussian(sigma_blur)\n",
    "    else:\n",
    "        blur = RayGaussian(sigma_blur)\n",
    "    x = blur.batch_proc(x)\n",
    "    \n",
    "    b = (torch.randn(len(x)) * sigma_b)[:, None, None, None].to(device)\n",
    "    x = x + b\n",
    "    \n",
    "    c = torch.exp(torch.randn(len(x)) * sigma_c)[:, None, None, None].to(device)\n",
    "    x = c * x\n",
    "    \n",
    "    return x"
   ]
  },
  {
   "cell_type": "code",
   "execution_count": 82,
   "id": "26eb182e",
   "metadata": {},
   "outputs": [],
   "source": [
    "checkpoint = torch.load('../checkpoints/trans_blur_bright_contrast/TransBrightBlurContrast_40_04_10_04_checkpoint.pth.tar')\n",
    "model = torchvision.models.resnet50(pretrained=False).to(device)#.cuda()\n",
    "normalize_layer = get_normalize_layer('imagenet', device).to(device)#.cuda()\n",
    "model = torch.nn.Sequential(normalize_layer, model)\n",
    "model.load_state_dict(checkpoint['state_dict'])\n",
    "model.eval()\n",
    "model = model.to(device)"
   ]
  },
  {
   "cell_type": "code",
   "execution_count": 83,
   "id": "768f54c3",
   "metadata": {},
   "outputs": [],
   "source": [
    "exp_smoothing = False"
   ]
  },
  {
   "cell_type": "code",
   "execution_count": 84,
   "id": "1c26a97d",
   "metadata": {},
   "outputs": [],
   "source": [
    "betas1a = jnp.linspace(-3, 3, 5) ## set a bit larger range than you want to certify\n",
    "betas2a = jnp.linspace(-3, 3, 5)\n",
    "betas3a = jnp.linspace(1, 3, 3)\n",
    "betas4a = jnp.linspace(-0.1, 0.1, 7)\n",
    "betas5a = jnp.linspace(0.95, 1.05, 5)\n",
    "betas_attack = jnp.asarray(list(map(jnp.array, itertools.product(betas1a, betas2a, betas3a, betas4a, betas5a)))) "
   ]
  },
  {
   "cell_type": "code",
   "execution_count": 85,
   "id": "b1bd3a88",
   "metadata": {},
   "outputs": [
    {
     "name": "stderr",
     "output_type": "stream",
     "text": [
      "100%|████████████████████████████████████████████████████████████████████████████████████| 100/100 [00:02<00:00, 48.44it/s]"
     ]
    },
    {
     "name": "stdout",
     "output_type": "stream",
     "text": [
      "0.65\n"
     ]
    },
    {
     "name": "stderr",
     "output_type": "stream",
     "text": [
      "\n"
     ]
    },
    {
     "data": {
      "text/plain": [
       "array([[[False]],\n",
       "\n",
       "       [[ True]],\n",
       "\n",
       "       [[ True]],\n",
       "\n",
       "       [[ True]],\n",
       "\n",
       "       [[False]],\n",
       "\n",
       "       [[ True]],\n",
       "\n",
       "       [[False]],\n",
       "\n",
       "       [[ True]],\n",
       "\n",
       "       [[ True]],\n",
       "\n",
       "       [[ True]],\n",
       "\n",
       "       [[ True]],\n",
       "\n",
       "       [[ True]],\n",
       "\n",
       "       [[ True]],\n",
       "\n",
       "       [[ True]],\n",
       "\n",
       "       [[ True]],\n",
       "\n",
       "       [[False]],\n",
       "\n",
       "       [[ True]],\n",
       "\n",
       "       [[False]],\n",
       "\n",
       "       [[False]],\n",
       "\n",
       "       [[ True]],\n",
       "\n",
       "       [[ True]],\n",
       "\n",
       "       [[ True]],\n",
       "\n",
       "       [[ True]],\n",
       "\n",
       "       [[ True]],\n",
       "\n",
       "       [[False]],\n",
       "\n",
       "       [[False]],\n",
       "\n",
       "       [[ True]],\n",
       "\n",
       "       [[ True]],\n",
       "\n",
       "       [[ True]],\n",
       "\n",
       "       [[ True]],\n",
       "\n",
       "       [[ True]],\n",
       "\n",
       "       [[ True]],\n",
       "\n",
       "       [[ True]],\n",
       "\n",
       "       [[ True]],\n",
       "\n",
       "       [[ True]],\n",
       "\n",
       "       [[ True]],\n",
       "\n",
       "       [[ True]],\n",
       "\n",
       "       [[ True]],\n",
       "\n",
       "       [[ True]],\n",
       "\n",
       "       [[ True]],\n",
       "\n",
       "       [[False]],\n",
       "\n",
       "       [[ True]],\n",
       "\n",
       "       [[False]],\n",
       "\n",
       "       [[ True]],\n",
       "\n",
       "       [[ True]],\n",
       "\n",
       "       [[ True]],\n",
       "\n",
       "       [[False]],\n",
       "\n",
       "       [[False]],\n",
       "\n",
       "       [[False]],\n",
       "\n",
       "       [[ True]],\n",
       "\n",
       "       [[ True]],\n",
       "\n",
       "       [[ True]],\n",
       "\n",
       "       [[ True]],\n",
       "\n",
       "       [[False]],\n",
       "\n",
       "       [[ True]],\n",
       "\n",
       "       [[False]],\n",
       "\n",
       "       [[ True]],\n",
       "\n",
       "       [[False]],\n",
       "\n",
       "       [[False]],\n",
       "\n",
       "       [[ True]],\n",
       "\n",
       "       [[ True]],\n",
       "\n",
       "       [[False]],\n",
       "\n",
       "       [[False]],\n",
       "\n",
       "       [[False]],\n",
       "\n",
       "       [[ True]],\n",
       "\n",
       "       [[False]],\n",
       "\n",
       "       [[ True]],\n",
       "\n",
       "       [[ True]],\n",
       "\n",
       "       [[ True]],\n",
       "\n",
       "       [[ True]],\n",
       "\n",
       "       [[ True]],\n",
       "\n",
       "       [[False]],\n",
       "\n",
       "       [[False]],\n",
       "\n",
       "       [[False]],\n",
       "\n",
       "       [[False]],\n",
       "\n",
       "       [[False]],\n",
       "\n",
       "       [[False]],\n",
       "\n",
       "       [[ True]],\n",
       "\n",
       "       [[False]],\n",
       "\n",
       "       [[False]],\n",
       "\n",
       "       [[ True]],\n",
       "\n",
       "       [[False]],\n",
       "\n",
       "       [[ True]],\n",
       "\n",
       "       [[ True]],\n",
       "\n",
       "       [[ True]],\n",
       "\n",
       "       [[ True]],\n",
       "\n",
       "       [[False]],\n",
       "\n",
       "       [[ True]],\n",
       "\n",
       "       [[ True]],\n",
       "\n",
       "       [[ True]],\n",
       "\n",
       "       [[ True]],\n",
       "\n",
       "       [[False]],\n",
       "\n",
       "       [[False]],\n",
       "\n",
       "       [[ True]],\n",
       "\n",
       "       [[False]],\n",
       "\n",
       "       [[ True]],\n",
       "\n",
       "       [[ True]],\n",
       "\n",
       "       [[False]],\n",
       "\n",
       "       [[ True]],\n",
       "\n",
       "       [[ True]]])"
      ]
     },
     "execution_count": 85,
     "metadata": {},
     "output_type": "execute_result"
    }
   ],
   "source": [
    "Accuracy(model, dataloader100, device)\n",
    "# 0.65"
   ]
  },
  {
   "cell_type": "code",
   "execution_count": 87,
   "id": "a84cb906",
   "metadata": {},
   "outputs": [],
   "source": [
    "Phi = phi_tbbc_torch_batch_and_noise\n",
    "attack = attack_tbbc_torch"
   ]
  },
  {
   "cell_type": "code",
   "execution_count": 88,
   "id": "9dab560d",
   "metadata": {},
   "outputs": [
    {
     "name": "stderr",
     "output_type": "stream",
     "text": [
      "100%|████████████████████████████████████████████████████████████████████████████████████| 100/100 [34:10<00:00, 20.51s/it]\n"
     ]
    }
   ],
   "source": [
    "pas_tbbc = pa_isOk_collector(model, loader=dataloader100, Phi=Phi, device=device, n0=n0, maxn=maxn, alpha=alpha, batch_size=256, adaptive=adaptive)\n",
    "paCP, isOkCP = pas_tbbc # Clopper - Pearson"
   ]
  },
  {
   "cell_type": "code",
   "execution_count": 89,
   "id": "a56ef54a",
   "metadata": {},
   "outputs": [
    {
     "name": "stderr",
     "output_type": "stream",
     "text": [
      "  0%|                                                                                             | 0/2625 [00:00<?, ?it/s]\n",
      "  0%|                                                                                             | 0/2625 [00:00<?, ?it/s]\n",
      "  0%|                                                                                             | 0/2625 [00:00<?, ?it/s]\n",
      "  0%|                                                                                             | 0/2625 [00:00<?, ?it/s]\n",
      "  0%|                                                                                             | 0/2625 [00:00<?, ?it/s]\n",
      "  0%|                                                                                             | 0/2625 [00:00<?, ?it/s]\n",
      "  0%|                                                                                             | 0/2625 [00:00<?, ?it/s]\n",
      "  0%|                                                                                             | 0/2625 [00:00<?, ?it/s]\n",
      "  0%|                                                                                             | 0/2625 [00:00<?, ?it/s]\n",
      "  0%|                                                                                             | 0/2625 [00:00<?, ?it/s]\n",
      "  0%|                                                                                             | 0/2625 [00:00<?, ?it/s]\n",
      "  1%|█                                                                                  | 35/2625 [00:00<00:14, 175.62it/s]\n",
      "  1%|█                                                                                  | 35/2625 [00:00<00:14, 175.68it/s]\n",
      "  3%|██▏                                                                                | 70/2625 [00:00<00:14, 179.35it/s]\n",
      "  3%|██▏                                                                                | 70/2625 [00:00<00:14, 177.98it/s]\n",
      "100%|█████████████████████████████████████████████████████████████████████████████████| 2625/2625 [00:14<00:00, 185.87it/s]"
     ]
    },
    {
     "name": "stdout",
     "output_type": "stream",
     "text": [
      "Cert Acc tbbc_ray our 0.4 h_min is 0.575\n"
     ]
    },
    {
     "name": "stderr",
     "output_type": "stream",
     "text": [
      "\n"
     ]
    }
   ],
   "source": [
    "hlist = np.linspace(0.5, 1, 101)\n",
    "hmin = CertAccChecker(safe_beta, betas=betas_attack, hlist=hlist, xi=xi, hatg_int=hatg_int)\n",
    "cert_acc_within_betas_bounds = ((paCP>hmin).astype('int')*isOkCP).mean()\n",
    "print(f'Cert Acc {type_of_transform} our', cert_acc_within_betas_bounds, 'h_min is', hmin)"
   ]
  },
  {
   "cell_type": "code",
   "execution_count": 90,
   "id": "dc476c5c",
   "metadata": {},
   "outputs": [],
   "source": [
    "# for exponential smoothing TSS has the result"
   ]
  },
  {
   "cell_type": "markdown",
   "id": "c5f2db95",
   "metadata": {},
   "source": [
    "$\\tilde{p}_A>1-\\exp \\left(-\\lambda_B \\alpha_B\\right)\\left(1-\\Phi\\left(\\sqrt{\\frac{\\alpha_k^2}{\\sigma_k^2}+\\frac{\\alpha_b^2}{e^{-2 \\alpha_k} \\sigma_b^2}+\\frac{\\alpha_{T x}^2+\\alpha_{T y}^2}{\\sigma_T^2}}\\right)\\right) .$"
   ]
  },
  {
   "cell_type": "code",
   "execution_count": 93,
   "id": "24eeb715",
   "metadata": {},
   "outputs": [],
   "source": [
    "# sigma_b = 0.3\n",
    "# sigma_c = 0.3\n",
    "# sigma_tr = 10\n",
    "# sigma_blur = 3\n",
    "# safe_beta_tss(xi, h, [*beta]).item():\n",
    "def safe_beta_tss_tbbc(xi, h, bs):\n",
    "    Tx = bs[0]\n",
    "    Ty = bs[1]\n",
    "    B = bs[2]\n",
    "    b = bs[3]\n",
    "    k = np.log(bs[4])\n",
    "    q = k**2/sigma_c**2 + b**2/(np.exp(-2*k) * sigma_b**2) + (Tx**2+Ty**2)/(sigma_tr**2)\n",
    "    q = scipy.stats.norm.cdf(q)\n",
    "    q = 1-q\n",
    "    sb = 1  # sigma_blur\n",
    "    q1 = np.exp(-B/sigma_blur)\n",
    "    \n",
    "    return h>(1-q1*q)\n",
    "    \n",
    "    "
   ]
  },
  {
   "cell_type": "code",
   "execution_count": 95,
   "id": "96e03206",
   "metadata": {},
   "outputs": [],
   "source": [
    "xi_tss = scipy.stats.norm.ppf"
   ]
  },
  {
   "cell_type": "code",
   "execution_count": 97,
   "id": "0b8f78bd",
   "metadata": {},
   "outputs": [
    {
     "name": "stderr",
     "output_type": "stream",
     "text": [
      "  0%|                                                                                             | 0/2625 [00:00<?, ?it/s]\n",
      "  0%|                                                                                             | 0/2625 [00:00<?, ?it/s]\n",
      "  0%|                                                                                             | 0/2625 [00:00<?, ?it/s]\n",
      "  0%|                                                                                             | 0/2625 [00:00<?, ?it/s]\n",
      "  0%|                                                                                             | 0/2625 [00:00<?, ?it/s]\n",
      "  0%|                                                                                             | 0/2625 [00:00<?, ?it/s]\n",
      "  0%|                                                                                             | 0/2625 [00:00<?, ?it/s]\n",
      "  0%|                                                                                             | 0/2625 [00:00<?, ?it/s]\n",
      "  0%|                                                                                             | 0/2625 [00:00<?, ?it/s]\n",
      "  0%|                                                                                             | 0/2625 [00:00<?, ?it/s]\n",
      "  0%|                                                                                             | 0/2625 [00:00<?, ?it/s]\n",
      "  0%|                                                                                             | 0/2625 [00:00<?, ?it/s]\n",
      "  0%|                                                                                             | 0/2625 [00:00<?, ?it/s]\n",
      "  0%|                                                                                             | 0/2625 [00:00<?, ?it/s]\n",
      "  0%|                                                                                             | 0/2625 [00:00<?, ?it/s]\n",
      "  0%|                                                                                             | 0/2625 [00:00<?, ?it/s]\n",
      "  0%|                                                                                             | 0/2625 [00:00<?, ?it/s]\n",
      "  0%|                                                                                             | 0/2625 [00:00<?, ?it/s]\n",
      "  0%|                                                                                             | 0/2625 [00:00<?, ?it/s]\n",
      "  0%|                                                                                             | 0/2625 [00:00<?, ?it/s]\n",
      "  0%|                                                                                             | 0/2625 [00:00<?, ?it/s]\n",
      "  0%|                                                                                             | 0/2625 [00:00<?, ?it/s]\n",
      "  0%|                                                                                             | 0/2625 [00:00<?, ?it/s]\n",
      "  0%|                                                                                             | 0/2625 [00:00<?, ?it/s]\n",
      "  0%|                                                                                             | 0/2625 [00:00<?, ?it/s]\n",
      "  1%|█                                                                                  | 35/2625 [00:00<00:03, 794.57it/s]\n",
      "  1%|█                                                                                  | 35/2625 [00:00<00:03, 782.35it/s]\n",
      "  1%|█                                                                                  | 35/2625 [00:00<00:03, 775.90it/s]\n",
      "  1%|█                                                                                  | 35/2625 [00:00<00:03, 665.48it/s]\n",
      "  1%|█                                                                                  | 35/2625 [00:00<00:03, 806.60it/s]\n",
      "  1%|█                                                                                  | 35/2625 [00:00<00:03, 690.68it/s]\n",
      "  1%|█                                                                                  | 35/2625 [00:00<00:03, 801.35it/s]\n",
      "  1%|█                                                                                  | 35/2625 [00:00<00:03, 685.75it/s]\n",
      "  1%|█                                                                                  | 35/2625 [00:00<00:03, 767.43it/s]\n",
      "  1%|█                                                                                  | 35/2625 [00:00<00:03, 669.08it/s]\n",
      "  1%|█                                                                                  | 35/2625 [00:00<00:03, 787.20it/s]\n",
      "  1%|█                                                                                  | 35/2625 [00:00<00:03, 686.55it/s]\n",
      "  1%|█                                                                                  | 35/2625 [00:00<00:03, 793.26it/s]\n",
      "  1%|█                                                                                  | 35/2625 [00:00<00:03, 698.76it/s]\n",
      "  1%|█                                                                                  | 35/2625 [00:00<00:03, 802.63it/s]\n",
      "  1%|█                                                                                  | 35/2625 [00:00<00:03, 737.75it/s]\n",
      "  1%|█                                                                                  | 35/2625 [00:00<00:02, 910.14it/s]\n",
      "  3%|██▏                                                                                | 70/2625 [00:00<00:03, 842.37it/s]\n",
      "  3%|██▏                                                                                | 70/2625 [00:00<00:03, 836.04it/s]\n",
      "  3%|██▏                                                                                | 70/2625 [00:00<00:03, 825.40it/s]\n",
      "  3%|██▏                                                                                | 70/2625 [00:00<00:02, 931.66it/s]\n",
      "  3%|██▏                                                                                | 70/2625 [00:00<00:03, 822.33it/s]\n",
      "  3%|██▏                                                                                | 70/2625 [00:00<00:03, 830.34it/s]\n",
      "  3%|██▏                                                                                | 70/2625 [00:00<00:02, 862.37it/s]\n",
      "  3%|██▏                                                                                | 70/2625 [00:00<00:03, 829.45it/s]\n",
      "  3%|██▏                                                                                | 70/2625 [00:00<00:03, 834.24it/s]\n",
      "  3%|██▏                                                                                | 70/2625 [00:00<00:02, 856.69it/s]\n",
      "  3%|██▏                                                                                | 70/2625 [00:00<00:02, 931.18it/s]\n",
      "  3%|██▏                                                                                | 70/2625 [00:00<00:02, 854.58it/s]\n",
      "  3%|██▏                                                                                | 70/2625 [00:00<00:03, 841.41it/s]\n",
      "100%|█████████████████████████████████████████████████████████████████████████████████| 2625/2625 [00:03<00:00, 863.11it/s]"
     ]
    },
    {
     "name": "stdout",
     "output_type": "stream",
     "text": [
      "Cert Acc CB TSS 0.28 h_min is 0.775\n"
     ]
    },
    {
     "name": "stderr",
     "output_type": "stream",
     "text": [
      "\n"
     ]
    }
   ],
   "source": [
    "hlist = np.linspace(0.5, 1, 101)\n",
    "hmin = CertAccCheckerTSS(betas=betas_attack, hlist=hlist, xi=xi_tss, safe_beta_tss=safe_beta_tss_tbbc)\n",
    "cert_acc_within_betas_bounds = ((paCP>hmin)*isOkCP).mean()\n",
    "print('Cert Acc CB TSS', cert_acc_within_betas_bounds, 'h_min is', hmin)"
   ]
  },
  {
   "cell_type": "code",
   "execution_count": null,
   "id": "79a56ec7",
   "metadata": {},
   "outputs": [],
   "source": [
    "2-2"
   ]
  },
  {
   "cell_type": "code",
   "execution_count": null,
   "id": "dac15038",
   "metadata": {},
   "outputs": [],
   "source": []
  },
  {
   "cell_type": "code",
   "execution_count": null,
   "id": "7409965b",
   "metadata": {},
   "outputs": [],
   "source": []
  },
  {
   "cell_type": "code",
   "execution_count": null,
   "id": "bb575c95",
   "metadata": {},
   "outputs": [],
   "source": []
  }
 ],
 "metadata": {
  "kernelspec": {
   "display_name": "Python 3 (ipykernel)",
   "language": "python",
   "name": "python3"
  },
  "language_info": {
   "codemirror_mode": {
    "name": "ipython",
    "version": 3
   },
   "file_extension": ".py",
   "mimetype": "text/x-python",
   "name": "python",
   "nbconvert_exporter": "python",
   "pygments_lexer": "ipython3",
   "version": "3.8.12"
  }
 },
 "nbformat": 4,
 "nbformat_minor": 5
}
