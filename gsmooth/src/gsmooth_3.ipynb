{
 "cells": [
  {
   "cell_type": "code",
   "execution_count": 1,
   "id": "1cdee4a3",
   "metadata": {},
   "outputs": [],
   "source": [
    "import sys\n",
    "sys.path.append('./..')\n",
    "sys.path.append('./img2img')\n",
    "\n",
    "import argparse\n",
    "import os\n",
    "# import setGPU\n",
    "from src.datasets import get_dataset, DATASETS, get_num_classes, get_corrupted_dataset, load_parallel_model\n",
    "from src.img2img.img2img_models import img2img_get_model, get_size\n",
    "from src.core import Smooth, TSmooth\n",
    "from time import time\n",
    "# from src.grad2n import gradnorm_batch, gradnorm_batch_reduced\n",
    "from collections import OrderedDict\n",
    "from src.img2img.corruption import Corruption\n",
    "# from src.analyze import plot_certified_accuracy, Line, ApproximateAccuracy\n",
    "import torch\n",
    "import datetime\n",
    "from src.architectures import get_architecture\n",
    "import numpy as np\n",
    "from tqdm import tqdm"
   ]
  },
  {
   "cell_type": "code",
   "execution_count": 2,
   "id": "f1a2177e",
   "metadata": {},
   "outputs": [],
   "source": [
    "sys.path.append('./../..')\n",
    "from architectures import get_architecture"
   ]
  },
  {
   "cell_type": "code",
   "execution_count": 3,
   "id": "38eeaa25",
   "metadata": {},
   "outputs": [],
   "source": [
    "# smoothed_classifier = TSmooth(base_classifier, None, corruptor, get_num_classes(args.dataset),args.noise_dst,args.noise_sd, args.add_noise)"
   ]
  },
  {
   "cell_type": "code",
   "execution_count": 4,
   "id": "7d7b6a3f",
   "metadata": {},
   "outputs": [
    {
     "name": "stdout",
     "output_type": "stream",
     "text": [
      "env: CUDA_VISIBLE_DEVICES=2\n",
      "env: CUDA_LAUNCH_BLOCKING=1\n"
     ]
    }
   ],
   "source": [
    "%env CUDA_VISIBLE_DEVICES=2\n",
    "%env CUDA_LAUNCH_BLOCKING=1"
   ]
  },
  {
   "cell_type": "code",
   "execution_count": 5,
   "id": "943e1140",
   "metadata": {},
   "outputs": [],
   "source": [
    "%load_ext autoreload\n",
    "%autoreload 2"
   ]
  },
  {
   "cell_type": "code",
   "execution_count": 6,
   "id": "275feca7",
   "metadata": {},
   "outputs": [],
   "source": [
    "parser = argparse.ArgumentParser(description='Certify many examples')\n",
    "parser.add_argument(\"--dataset\",\n",
    "                    default='cifar10',choices=DATASETS, help=\"which dataset\")\n",
    "parser.add_argument(\"--base_classifier\", type=str,\n",
    "\n",
    "                    default=None,\n",
    "                    help=\"path to saved pytorch model of base classifier\")\n",
    "# parser.add_argument(\"sigma\", type=float, help=\"noise hyperparameter\")\n",
    "parser.add_argument(\"--outfile\", type=str,\n",
    "                    default='./logs/certify_results',\n",
    "                    help=\"output file\")\n",
    "\n",
    "\n",
    "parser.add_argument(\"--batch\", type=int, default=512, help=\"batch size\")\n",
    "parser.add_argument(\"--skip\", type=int, default=30\n",
    "                    , help=\"how many examples to skip\")\n",
    "parser.add_argument(\"--max\", type=int, default=-1, help=\"stop after this many examples\")\n",
    "parser.add_argument(\"--split\", choices=[\"train\", \"test\"], default=\"test\", help=\"train or test set\")\n",
    "parser.add_argument(\"--N0\", type=int, default=200)\n",
    "parser.add_argument(\"--N\", type=int, default=1000, help=\"number of samples to use\")\n",
    "parser.add_argument(\"--alpha\", type=float, default=1e-3, help=\"failure probability\")\n",
    "\n",
    "\n",
    "\n",
    "\n",
    "\n",
    "parser.add_argument('--corrupt',type=str,default=['none','gaussian_blur','motion_blur','zoom_blur','rotate','translate','contrast','pixelate','jpeg',][1],\n",
    "                    help=' The corruption type for training')\n",
    "parser.add_argument('--add_noise',type=float, default=0.0)\n",
    "parser.add_argument('--noise_dst',default=[\"none\",\"gaussian\",\"exp\",\"uniform\",\"folded_gaussian\"][2],type=str)\n",
    "parser.add_argument('--noise_sd', default=0.8, type=float,\n",
    "                    help=\"standard deviation of Gaussian noise for data augmentation\")\n",
    "\n",
    "\n",
    "parser.add_argument('--partial_min',default=0.0, type=float,\n",
    "                    help = \"Minimal of certify range\")\n",
    "parser.add_argument('--partial_max',default=1.0, type=float,\n",
    "                    help = \"Maximal of certify range\")\n",
    "\n",
    "\n",
    "\n",
    "parser.add_argument('--arch', type=str,\n",
    "                    default=[\"edsr\",\"unet\",\"runet\"][2])\n",
    "\n",
    "args = parser.parse_args([])"
   ]
  },
  {
   "cell_type": "code",
   "execution_count": 7,
   "id": "1dd104e4",
   "metadata": {},
   "outputs": [],
   "source": [
    "from torch.utils.data import DataLoader, Dataset\n",
    "\n",
    "def make_our_dataset_v2(data, idxes):\n",
    "    images = []\n",
    "    labels = []\n",
    "    k = 0\n",
    "    for i in tqdm(range(len(idxes))):\n",
    "        image, label = data[idxes[i]]\n",
    "        images.append(image.numpy())\n",
    "        \n",
    "        labels.append(label)\n",
    "\n",
    "    images = np.array(images)\n",
    "    labels = np.array(labels)\n",
    "    dataset = CustomAudioDataset(images, labels)\n",
    "    return dataset\n",
    "\n",
    "class CustomAudioDataset(Dataset):\n",
    "\n",
    "    def __init__(self, images, labels):\n",
    "        self.images = torch.tensor(images)\n",
    "        self.labels = torch.tensor(labels)\n",
    "        \n",
    "        \n",
    "    def __len__(self):\n",
    "        return len(self.images)\n",
    "    \n",
    "    def __getitem__(self, idx):\n",
    "        image = self.images[idx]\n",
    "        label =self.labels[idx]\n",
    "        return image, label"
   ]
  },
  {
   "cell_type": "code",
   "execution_count": 8,
   "id": "863e39a9",
   "metadata": {},
   "outputs": [
    {
     "name": "stdout",
     "output_type": "stream",
     "text": [
      "Files already downloaded and verified\n"
     ]
    },
    {
     "name": "stderr",
     "output_type": "stream",
     "text": [
      "100%|████████████████████████████████████████████████████████████████████████████████████████| 500/500 [00:00<00:00, 4130.28it/s]\n"
     ]
    }
   ],
   "source": [
    "np.random.seed(42)\n",
    "NUM_IMAGES_FOR_TEST = 500\n",
    "cifar10_ds = get_dataset('cifar10', 'test')\n",
    "idxes2 = np.random.choice(len(cifar10_ds), NUM_IMAGES_FOR_TEST , replace=False)\n",
    "\n",
    "our_cifar10_500 = make_our_dataset_v2(cifar10_ds, idxes2)\n",
    "dataloader_cifar10 = DataLoader(our_cifar10_500, shuffle=False, batch_size=1, num_workers=6, pin_memory=False)"
   ]
  },
  {
   "cell_type": "code",
   "execution_count": 9,
   "id": "e82f1765",
   "metadata": {},
   "outputs": [
    {
     "name": "stdout",
     "output_type": "stream",
     "text": [
      "Files already downloaded and verified\n"
     ]
    },
    {
     "name": "stderr",
     "output_type": "stream",
     "text": [
      "100%|████████████████████████████████████████████████████████████████████████████████████████| 500/500 [00:00<00:00, 3262.71it/s]\n"
     ]
    }
   ],
   "source": [
    "np.random.seed(42)\n",
    "\n",
    "cifar100_ds = get_dataset('cifar100', 'test')\n",
    "idxes3 = np.random.choice(len(cifar100_ds), NUM_IMAGES_FOR_TEST , replace=False)\n",
    "\n",
    "our_cifar100_500 = make_our_dataset_v2(cifar100_ds, idxes3)\n",
    "dataloader_cifar100 = DataLoader(our_cifar100_500, shuffle=False, batch_size=1,\n",
    "                         num_workers=6, pin_memory=False)"
   ]
  },
  {
   "cell_type": "code",
   "execution_count": 10,
   "id": "df43b072",
   "metadata": {},
   "outputs": [],
   "source": [
    "from datasets_utils import get_normalize_layer"
   ]
  },
  {
   "cell_type": "code",
   "execution_count": 11,
   "id": "961b7376",
   "metadata": {},
   "outputs": [],
   "source": [
    "from archs.cifar_resnet import resnet as resnet_cifar\n",
    "\n",
    "def get_architecture(arch: str, dataset: str, device) -> torch.nn.Module:\n",
    "    \"\"\" Return a neural network (with random weights)\n",
    "\n",
    "    :param arch: the architecture - should be in the ARCHITECTURES list above\n",
    "    :param dataset: the dataset - should be in the datasets.DATASETS list\n",
    "    :return: a Pytorch module\n",
    "    \"\"\"\n",
    "    if arch == \"resnet50\" and dataset == \"imagenet\":\n",
    "#         model = torch.nn.DataParallel(resnet50(pretrained=False)).cuda()\n",
    "#         cudnn.benchmark = True\n",
    "        model = resnet50(pretrained=False).to(device)\n",
    "    elif arch == \"cifar_resnet20\":\n",
    "        model = resnet_cifar(depth=20, num_classes=10).to(device)\n",
    "    elif arch == \"cifar_resnet110\":\n",
    "        model = resnet_cifar(depth=110, num_classes=10).to(device)\n",
    "    elif arch == \"cifar100_resnet110\":\n",
    "        model = resnet_cifar(depth=110, num_classes=100).to(device)\n",
    "    elif arch == \"fashion_22full\":\n",
    "        model = Conv2FC2full()\n",
    "        model = model.to(device)\n",
    "    elif arch == \"fashion_22simple\":\n",
    "        model = Conv2FC2simple().to(device)\n",
    "    elif arch == \"mnist_43\":\n",
    "        model = Conv4FC3().to(device)\n",
    "    normalize_layer = get_normalize_layer(dataset, device=device)\n",
    "    return torch.nn.Sequential(normalize_layer, model)\n"
   ]
  },
  {
   "cell_type": "markdown",
   "id": "66c98ef3",
   "metadata": {},
   "source": [
    "# Translation"
   ]
  },
  {
   "cell_type": "code",
   "execution_count": 13,
   "id": "7899a8d7",
   "metadata": {},
   "outputs": [],
   "source": [
    "args.corrupt = 'translate'\n",
    "args.noise_sd = 15\n",
    "args.noise_dst = \"gaussian\"\n",
    "args.partial_max = 20"
   ]
  },
  {
   "cell_type": "markdown",
   "id": "58b6358b",
   "metadata": {},
   "source": [
    "## CIFAR-10"
   ]
  },
  {
   "cell_type": "code",
   "execution_count": 14,
   "id": "698f6776",
   "metadata": {},
   "outputs": [
    {
     "name": "stdout",
     "output_type": "stream",
     "text": [
      "idx\tlabel\tpredict\tradius\tgood\tcorrect\ttime\n"
     ]
    },
    {
     "name": "stderr",
     "output_type": "stream",
     "text": [
      "  0%|▏                                                                                           | 1/500 [00:01<15:40,  1.89s/it]"
     ]
    },
    {
     "name": "stdout",
     "output_type": "stream",
     "text": [
      "0\t2\t2\t2.46326\tTrue\tTrue\t0:00:01.884728\n"
     ]
    },
    {
     "name": "stderr",
     "output_type": "stream",
     "text": [
      "  0%|▎                                                                                           | 2/500 [00:03<13:16,  1.60s/it]"
     ]
    },
    {
     "name": "stdout",
     "output_type": "stream",
     "text": [
      "1\t1\t1\t2.46326\tTrue\tTrue\t0:00:01.395120\n"
     ]
    },
    {
     "name": "stderr",
     "output_type": "stream",
     "text": [
      "  1%|▌                                                                                           | 3/500 [00:04<12:12,  1.47s/it]"
     ]
    },
    {
     "name": "stdout",
     "output_type": "stream",
     "text": [
      "2\t5\t3\t2.46326\tFalse\tFalse\t0:00:01.322039\n"
     ]
    },
    {
     "name": "stderr",
     "output_type": "stream",
     "text": [
      "  1%|▋                                                                                           | 4/500 [00:05<11:30,  1.39s/it]"
     ]
    },
    {
     "name": "stdout",
     "output_type": "stream",
     "text": [
      "3\t8\t8\t2.46326\tTrue\tTrue\t0:00:01.267183\n"
     ]
    },
    {
     "name": "stderr",
     "output_type": "stream",
     "text": [
      "  1%|▉                                                                                           | 5/500 [00:07<11:16,  1.37s/it]"
     ]
    },
    {
     "name": "stdout",
     "output_type": "stream",
     "text": [
      "4\t9\t9\t2.46326\tTrue\tTrue\t0:00:01.318156\n"
     ]
    },
    {
     "name": "stderr",
     "output_type": "stream",
     "text": [
      "  1%|█                                                                                           | 6/500 [00:08<11:03,  1.34s/it]"
     ]
    },
    {
     "name": "stdout",
     "output_type": "stream",
     "text": [
      "5\t3\t3\t2.46326\tTrue\tTrue\t0:00:01.297109\n"
     ]
    },
    {
     "name": "stderr",
     "output_type": "stream",
     "text": [
      "  1%|█▎                                                                                          | 7/500 [00:09<11:04,  1.35s/it]"
     ]
    },
    {
     "name": "stdout",
     "output_type": "stream",
     "text": [
      "6\t8\t8\t2.46326\tTrue\tTrue\t0:00:01.351125\n"
     ]
    },
    {
     "name": "stderr",
     "output_type": "stream",
     "text": [
      "  2%|█▍                                                                                          | 8/500 [00:11<10:56,  1.34s/it]"
     ]
    },
    {
     "name": "stdout",
     "output_type": "stream",
     "text": [
      "7\t9\t9\t2.46326\tTrue\tTrue\t0:00:01.307206\n"
     ]
    },
    {
     "name": "stderr",
     "output_type": "stream",
     "text": [
      "  2%|█▋                                                                                          | 9/500 [00:12<10:54,  1.33s/it]"
     ]
    },
    {
     "name": "stdout",
     "output_type": "stream",
     "text": [
      "8\t0\t0\t2.46326\tTrue\tTrue\t0:00:01.326361\n"
     ]
    },
    {
     "name": "stderr",
     "output_type": "stream",
     "text": [
      "  2%|█▊                                                                                         | 10/500 [00:13<10:58,  1.34s/it]"
     ]
    },
    {
     "name": "stdout",
     "output_type": "stream",
     "text": [
      "9\t1\t9\t1.21502\tFalse\tFalse\t0:00:01.365851\n"
     ]
    },
    {
     "name": "stderr",
     "output_type": "stream",
     "text": [
      "  2%|██                                                                                         | 11/500 [00:15<11:09,  1.37s/it]"
     ]
    },
    {
     "name": "stdout",
     "output_type": "stream",
     "text": [
      "10\t5\t5\t2.46326\tTrue\tTrue\t0:00:01.425522\n"
     ]
    },
    {
     "name": "stderr",
     "output_type": "stream",
     "text": [
      "  2%|██▏                                                                                        | 12/500 [00:16<11:15,  1.38s/it]"
     ]
    },
    {
     "name": "stdout",
     "output_type": "stream",
     "text": [
      "11\t1\t1\t2.46326\tTrue\tTrue\t0:00:01.411244\n"
     ]
    },
    {
     "name": "stderr",
     "output_type": "stream",
     "text": [
      "  3%|██▎                                                                                        | 13/500 [00:18<11:23,  1.40s/it]"
     ]
    },
    {
     "name": "stdout",
     "output_type": "stream",
     "text": [
      "12\t3\t3\t1.61599\tTrue\tTrue\t0:00:01.446403\n"
     ]
    },
    {
     "name": "stderr",
     "output_type": "stream",
     "text": [
      "  3%|██▌                                                                                        | 14/500 [00:19<11:07,  1.37s/it]"
     ]
    },
    {
     "name": "stdout",
     "output_type": "stream",
     "text": [
      "13\t5\t5\t2.46326\tTrue\tTrue\t0:00:01.303764\n"
     ]
    },
    {
     "name": "stderr",
     "output_type": "stream",
     "text": [
      "  3%|██▋                                                                                        | 15/500 [00:20<11:22,  1.41s/it]"
     ]
    },
    {
     "name": "stdout",
     "output_type": "stream",
     "text": [
      "14\t9\t9\t2.46326\tTrue\tTrue\t0:00:01.481620\n"
     ]
    },
    {
     "name": "stderr",
     "output_type": "stream",
     "text": [
      "  3%|██▉                                                                                        | 16/500 [00:22<11:08,  1.38s/it]"
     ]
    },
    {
     "name": "stdout",
     "output_type": "stream",
     "text": [
      "15\t2\t2\t2.46326\tTrue\tTrue\t0:00:01.317724\n"
     ]
    },
    {
     "name": "stderr",
     "output_type": "stream",
     "text": [
      "  3%|███                                                                                        | 17/500 [00:23<10:57,  1.36s/it]"
     ]
    },
    {
     "name": "stdout",
     "output_type": "stream",
     "text": [
      "16\t8\t8\t2.46326\tTrue\tTrue\t0:00:01.310253\n"
     ]
    },
    {
     "name": "stderr",
     "output_type": "stream",
     "text": [
      "  4%|███▎                                                                                       | 18/500 [00:24<10:54,  1.36s/it]"
     ]
    },
    {
     "name": "stdout",
     "output_type": "stream",
     "text": [
      "17\t8\t8\t0.35578\tFalse\tTrue\t0:00:01.351904\n"
     ]
    },
    {
     "name": "stderr",
     "output_type": "stream",
     "text": [
      "  4%|███▍                                                                                       | 19/500 [00:26<10:45,  1.34s/it]"
     ]
    },
    {
     "name": "stdout",
     "output_type": "stream",
     "text": [
      "18\t3\t3\t2.46326\tTrue\tTrue\t0:00:01.299000\n"
     ]
    },
    {
     "name": "stderr",
     "output_type": "stream",
     "text": [
      "  4%|███▋                                                                                       | 20/500 [00:27<10:55,  1.36s/it]"
     ]
    },
    {
     "name": "stdout",
     "output_type": "stream",
     "text": [
      "19\t8\t8\t2.46326\tTrue\tTrue\t0:00:01.417143\n"
     ]
    },
    {
     "name": "stderr",
     "output_type": "stream",
     "text": [
      "  4%|███▊                                                                                       | 21/500 [00:29<10:52,  1.36s/it]"
     ]
    },
    {
     "name": "stdout",
     "output_type": "stream",
     "text": [
      "20\t4\t4\t2.46326\tTrue\tTrue\t0:00:01.355820\n"
     ]
    },
    {
     "name": "stderr",
     "output_type": "stream",
     "text": [
      "  4%|████                                                                                       | 22/500 [00:30<10:52,  1.36s/it]"
     ]
    },
    {
     "name": "stdout",
     "output_type": "stream",
     "text": [
      "21\t0\t0\t2.46326\tTrue\tTrue\t0:00:01.366134\n"
     ]
    },
    {
     "name": "stderr",
     "output_type": "stream",
     "text": [
      "  5%|████▏                                                                                      | 23/500 [00:31<11:11,  1.41s/it]"
     ]
    },
    {
     "name": "stdout",
     "output_type": "stream",
     "text": [
      "22\t2\t2\t2.46326\tTrue\tTrue\t0:00:01.506314\n"
     ]
    },
    {
     "name": "stderr",
     "output_type": "stream",
     "text": [
      "  5%|████▎                                                                                      | 24/500 [00:33<11:25,  1.44s/it]"
     ]
    },
    {
     "name": "stdout",
     "output_type": "stream",
     "text": [
      "23\t7\t7\t2.46326\tTrue\tTrue\t0:00:01.512610\n"
     ]
    },
    {
     "name": "stderr",
     "output_type": "stream",
     "text": [
      "  5%|████▌                                                                                      | 25/500 [00:34<11:05,  1.40s/it]"
     ]
    },
    {
     "name": "stdout",
     "output_type": "stream",
     "text": [
      "24\t5\t5\t2.46326\tTrue\tTrue\t0:00:01.310007\n"
     ]
    },
    {
     "name": "stderr",
     "output_type": "stream",
     "text": [
      "  5%|████▋                                                                                      | 26/500 [00:36<10:55,  1.38s/it]"
     ]
    },
    {
     "name": "stdout",
     "output_type": "stream",
     "text": [
      "25\t6\t6\t2.46326\tTrue\tTrue\t0:00:01.335358\n"
     ]
    },
    {
     "name": "stderr",
     "output_type": "stream",
     "text": [
      "  5%|████▉                                                                                      | 27/500 [00:37<10:45,  1.37s/it]"
     ]
    },
    {
     "name": "stdout",
     "output_type": "stream",
     "text": [
      "26\t2\t2\t2.46326\tTrue\tTrue\t0:00:01.322491\n"
     ]
    },
    {
     "name": "stderr",
     "output_type": "stream",
     "text": [
      "  6%|█████                                                                                      | 28/500 [00:38<10:50,  1.38s/it]"
     ]
    },
    {
     "name": "stdout",
     "output_type": "stream",
     "text": [
      "27\t4\t4\t2.46326\tTrue\tTrue\t0:00:01.403386\n"
     ]
    },
    {
     "name": "stderr",
     "output_type": "stream",
     "text": [
      "  6%|█████▎                                                                                     | 29/500 [00:40<10:38,  1.35s/it]"
     ]
    },
    {
     "name": "stdout",
     "output_type": "stream",
     "text": [
      "28\t5\t7\t1.57173\tFalse\tFalse\t0:00:01.299976\n"
     ]
    },
    {
     "name": "stderr",
     "output_type": "stream",
     "text": [
      "  6%|█████▍                                                                                     | 30/500 [00:41<10:30,  1.34s/it]"
     ]
    },
    {
     "name": "stdout",
     "output_type": "stream",
     "text": [
      "29\t5\t4\t2.46326\tFalse\tFalse\t0:00:01.310644\n"
     ]
    },
    {
     "name": "stderr",
     "output_type": "stream",
     "text": [
      "  6%|█████▋                                                                                     | 31/500 [00:42<10:19,  1.32s/it]"
     ]
    },
    {
     "name": "stdout",
     "output_type": "stream",
     "text": [
      "30\t5\t5\t1.61599\tTrue\tTrue\t0:00:01.266331\n"
     ]
    },
    {
     "name": "stderr",
     "output_type": "stream",
     "text": [
      "  6%|█████▊                                                                                     | 32/500 [00:43<10:12,  1.31s/it]"
     ]
    },
    {
     "name": "stdout",
     "output_type": "stream",
     "text": [
      "31\t0\t0\t2.46326\tTrue\tTrue\t0:00:01.279129\n"
     ]
    },
    {
     "name": "stderr",
     "output_type": "stream",
     "text": [
      "  7%|██████                                                                                     | 33/500 [00:45<10:40,  1.37s/it]"
     ]
    },
    {
     "name": "stdout",
     "output_type": "stream",
     "text": [
      "32\t4\t4\t2.46326\tTrue\tTrue\t0:00:01.514302\n"
     ]
    },
    {
     "name": "stderr",
     "output_type": "stream",
     "text": [
      "  7%|██████▏                                                                                    | 34/500 [00:46<10:32,  1.36s/it]"
     ]
    },
    {
     "name": "stdout",
     "output_type": "stream",
     "text": [
      "33\t1\t1\t2.46326\tTrue\tTrue\t0:00:01.319594\n"
     ]
    },
    {
     "name": "stderr",
     "output_type": "stream",
     "text": [
      "  7%|██████▎                                                                                    | 35/500 [00:48<10:24,  1.34s/it]"
     ]
    },
    {
     "name": "stdout",
     "output_type": "stream",
     "text": [
      "34\t7\t7\t2.46326\tTrue\tTrue\t0:00:01.311492\n"
     ]
    },
    {
     "name": "stderr",
     "output_type": "stream",
     "text": [
      "  7%|██████▌                                                                                    | 36/500 [00:49<10:14,  1.33s/it]"
     ]
    },
    {
     "name": "stdout",
     "output_type": "stream",
     "text": [
      "35\t7\t7\t2.46326\tTrue\tTrue\t0:00:01.279975\n"
     ]
    },
    {
     "name": "stderr",
     "output_type": "stream",
     "text": [
      "  7%|██████▋                                                                                    | 37/500 [00:50<10:14,  1.33s/it]"
     ]
    },
    {
     "name": "stdout",
     "output_type": "stream",
     "text": [
      "36\t2\t2\t2.46326\tTrue\tTrue\t0:00:01.329134\n"
     ]
    },
    {
     "name": "stderr",
     "output_type": "stream",
     "text": [
      "  8%|██████▉                                                                                    | 38/500 [00:52<10:07,  1.32s/it]"
     ]
    },
    {
     "name": "stdout",
     "output_type": "stream",
     "text": [
      "37\t3\t3\t1.25184\tFalse\tTrue\t0:00:01.284854\n"
     ]
    },
    {
     "name": "stderr",
     "output_type": "stream",
     "text": [
      "  8%|███████                                                                                    | 39/500 [00:53<10:19,  1.34s/it]"
     ]
    },
    {
     "name": "stdout",
     "output_type": "stream",
     "text": [
      "38\t9\t9\t2.46326\tTrue\tTrue\t0:00:01.406727\n"
     ]
    },
    {
     "name": "stderr",
     "output_type": "stream",
     "text": [
      "  8%|███████▎                                                                                   | 40/500 [00:54<10:22,  1.35s/it]"
     ]
    },
    {
     "name": "stdout",
     "output_type": "stream",
     "text": [
      "39\t7\t7\t2.46326\tTrue\tTrue\t0:00:01.374918\n"
     ]
    },
    {
     "name": "stderr",
     "output_type": "stream",
     "text": [
      "  8%|███████▍                                                                                   | 41/500 [00:56<10:30,  1.37s/it]"
     ]
    },
    {
     "name": "stdout",
     "output_type": "stream",
     "text": [
      "40\t2\t8\t1.15201\tFalse\tFalse\t0:00:01.417513\n"
     ]
    },
    {
     "name": "stderr",
     "output_type": "stream",
     "text": [
      "  8%|███████▋                                                                                   | 42/500 [00:57<10:16,  1.35s/it]"
     ]
    },
    {
     "name": "stdout",
     "output_type": "stream",
     "text": [
      "41\t2\t3\t2.46326\tFalse\tFalse\t0:00:01.280999\n"
     ]
    },
    {
     "name": "stderr",
     "output_type": "stream",
     "text": [
      "  9%|███████▊                                                                                   | 43/500 [00:58<10:17,  1.35s/it]"
     ]
    },
    {
     "name": "stdout",
     "output_type": "stream",
     "text": [
      "42\t3\t7\t0.24791\tFalse\tFalse\t0:00:01.357310\n"
     ]
    },
    {
     "name": "stderr",
     "output_type": "stream",
     "text": [
      "  9%|████████                                                                                   | 44/500 [01:00<10:17,  1.35s/it]"
     ]
    },
    {
     "name": "stdout",
     "output_type": "stream",
     "text": [
      "43\t6\t6\t2.46326\tTrue\tTrue\t0:00:01.362516\n"
     ]
    },
    {
     "name": "stderr",
     "output_type": "stream",
     "text": [
      "  9%|████████▏                                                                                  | 45/500 [01:01<10:14,  1.35s/it]"
     ]
    },
    {
     "name": "stdout",
     "output_type": "stream",
     "text": [
      "44\t6\t6\t2.13548\tTrue\tTrue\t0:00:01.338255\n"
     ]
    },
    {
     "name": "stderr",
     "output_type": "stream",
     "text": [
      "  9%|████████▎                                                                                  | 46/500 [01:02<10:02,  1.33s/it]"
     ]
    },
    {
     "name": "stdout",
     "output_type": "stream",
     "text": [
      "45\t5\t5\t2.46326\tTrue\tTrue\t0:00:01.270424\n"
     ]
    },
    {
     "name": "stderr",
     "output_type": "stream",
     "text": [
      "  9%|████████▌                                                                                  | 47/500 [01:04<10:03,  1.33s/it]"
     ]
    },
    {
     "name": "stdout",
     "output_type": "stream",
     "text": [
      "46\t5\t5\t0.65437\tFalse\tTrue\t0:00:01.344782\n"
     ]
    },
    {
     "name": "stderr",
     "output_type": "stream",
     "text": [
      " 10%|████████▋                                                                                  | 48/500 [01:05<10:01,  1.33s/it]"
     ]
    },
    {
     "name": "stdout",
     "output_type": "stream",
     "text": [
      "47\t6\t6\t2.46326\tTrue\tTrue\t0:00:01.319728\n"
     ]
    },
    {
     "name": "stderr",
     "output_type": "stream",
     "text": [
      " 10%|████████▉                                                                                  | 49/500 [01:06<10:14,  1.36s/it]"
     ]
    },
    {
     "name": "stdout",
     "output_type": "stream",
     "text": [
      "48\t0\t0\t2.46326\tTrue\tTrue\t0:00:01.438294\n"
     ]
    },
    {
     "name": "stderr",
     "output_type": "stream",
     "text": [
      " 10%|█████████                                                                                  | 50/500 [01:08<10:24,  1.39s/it]"
     ]
    },
    {
     "name": "stdout",
     "output_type": "stream",
     "text": [
      "49\t6\t6\t2.46326\tTrue\tTrue\t0:00:01.442341\n"
     ]
    },
    {
     "name": "stderr",
     "output_type": "stream",
     "text": [
      " 10%|█████████▎                                                                                 | 51/500 [01:09<10:39,  1.43s/it]"
     ]
    },
    {
     "name": "stdout",
     "output_type": "stream",
     "text": [
      "50\t1\t1\t2.46326\tTrue\tTrue\t0:00:01.510520\n"
     ]
    },
    {
     "name": "stderr",
     "output_type": "stream",
     "text": [
      " 10%|█████████▍                                                                                 | 52/500 [01:11<10:41,  1.43s/it]"
     ]
    },
    {
     "name": "stdout",
     "output_type": "stream",
     "text": [
      "51\t2\t2\t2.46326\tTrue\tTrue\t0:00:01.444343\n"
     ]
    },
    {
     "name": "stderr",
     "output_type": "stream",
     "text": [
      " 11%|█████████▋                                                                                 | 53/500 [01:12<10:28,  1.41s/it]"
     ]
    },
    {
     "name": "stdout",
     "output_type": "stream",
     "text": [
      "52\t7\t-1\t0.00000\tFalse\tFalse\t0:00:01.340353\n"
     ]
    },
    {
     "name": "stderr",
     "output_type": "stream",
     "text": [
      " 11%|█████████▊                                                                                 | 54/500 [01:14<10:37,  1.43s/it]"
     ]
    },
    {
     "name": "stdout",
     "output_type": "stream",
     "text": [
      "53\t9\t9\t2.46326\tTrue\tTrue\t0:00:01.483971\n"
     ]
    },
    {
     "name": "stderr",
     "output_type": "stream",
     "text": [
      " 11%|██████████                                                                                 | 55/500 [01:15<10:49,  1.46s/it]"
     ]
    },
    {
     "name": "stdout",
     "output_type": "stream",
     "text": [
      "54\t2\t6\t2.46326\tFalse\tFalse\t0:00:01.529896\n"
     ]
    },
    {
     "name": "stderr",
     "output_type": "stream",
     "text": [
      " 11%|██████████▏                                                                                | 56/500 [01:17<11:19,  1.53s/it]"
     ]
    },
    {
     "name": "stdout",
     "output_type": "stream",
     "text": [
      "55\t2\t2\t2.46326\tTrue\tTrue\t0:00:01.688423\n"
     ]
    },
    {
     "name": "stderr",
     "output_type": "stream",
     "text": [
      " 11%|██████████▎                                                                                | 57/500 [01:18<11:06,  1.51s/it]"
     ]
    },
    {
     "name": "stdout",
     "output_type": "stream",
     "text": [
      "56\t1\t1\t2.46326\tTrue\tTrue\t0:00:01.446562\n"
     ]
    },
    {
     "name": "stderr",
     "output_type": "stream",
     "text": [
      " 12%|██████████▌                                                                                | 58/500 [01:20<10:34,  1.43s/it]"
     ]
    },
    {
     "name": "stdout",
     "output_type": "stream",
     "text": [
      "57\t8\t8\t2.46326\tTrue\tTrue\t0:00:01.266479\n"
     ]
    },
    {
     "name": "stderr",
     "output_type": "stream",
     "text": [
      " 12%|██████████▋                                                                                | 59/500 [01:21<10:08,  1.38s/it]"
     ]
    },
    {
     "name": "stdout",
     "output_type": "stream",
     "text": [
      "58\t4\t4\t2.46326\tTrue\tTrue\t0:00:01.247134\n"
     ]
    },
    {
     "name": "stderr",
     "output_type": "stream",
     "text": [
      " 12%|██████████▉                                                                                | 60/500 [01:22<09:47,  1.34s/it]"
     ]
    },
    {
     "name": "stdout",
     "output_type": "stream",
     "text": [
      "59\t2\t-1\t0.00000\tFalse\tFalse\t0:00:01.232765\n"
     ]
    },
    {
     "name": "stderr",
     "output_type": "stream",
     "text": [
      " 12%|███████████                                                                                | 61/500 [01:23<09:29,  1.30s/it]"
     ]
    },
    {
     "name": "stdout",
     "output_type": "stream",
     "text": [
      "60\t0\t0\t2.46326\tTrue\tTrue\t0:00:01.202981\n"
     ]
    },
    {
     "name": "stderr",
     "output_type": "stream",
     "text": [
      " 12%|███████████▎                                                                               | 62/500 [01:25<09:19,  1.28s/it]"
     ]
    },
    {
     "name": "stdout",
     "output_type": "stream",
     "text": [
      "61\t7\t7\t2.46326\tTrue\tTrue\t0:00:01.233382\n"
     ]
    },
    {
     "name": "stderr",
     "output_type": "stream",
     "text": [
      " 13%|███████████▍                                                                               | 63/500 [01:26<09:08,  1.26s/it]"
     ]
    },
    {
     "name": "stdout",
     "output_type": "stream",
     "text": [
      "62\t0\t0\t2.46326\tTrue\tTrue\t0:00:01.200987\n"
     ]
    },
    {
     "name": "stderr",
     "output_type": "stream",
     "text": [
      " 13%|███████████▋                                                                               | 64/500 [01:27<09:03,  1.25s/it]"
     ]
    },
    {
     "name": "stdout",
     "output_type": "stream",
     "text": [
      "63\t6\t6\t2.46326\tTrue\tTrue\t0:00:01.220723\n"
     ]
    },
    {
     "name": "stderr",
     "output_type": "stream",
     "text": [
      " 13%|███████████▊                                                                               | 65/500 [01:28<09:08,  1.26s/it]"
     ]
    },
    {
     "name": "stdout",
     "output_type": "stream",
     "text": [
      "64\t4\t4\t2.46326\tTrue\tTrue\t0:00:01.292070\n"
     ]
    },
    {
     "name": "stderr",
     "output_type": "stream",
     "text": [
      " 13%|████████████                                                                               | 66/500 [01:30<09:14,  1.28s/it]"
     ]
    },
    {
     "name": "stdout",
     "output_type": "stream",
     "text": [
      "65\t5\t5\t2.46326\tTrue\tTrue\t0:00:01.316454\n"
     ]
    },
    {
     "name": "stderr",
     "output_type": "stream",
     "text": [
      " 13%|████████████▏                                                                              | 67/500 [01:31<09:13,  1.28s/it]"
     ]
    },
    {
     "name": "stdout",
     "output_type": "stream",
     "text": [
      "66\t7\t7\t2.46326\tTrue\tTrue\t0:00:01.272916\n"
     ]
    },
    {
     "name": "stderr",
     "output_type": "stream",
     "text": [
      " 14%|████████████▍                                                                              | 68/500 [01:32<09:27,  1.31s/it]"
     ]
    },
    {
     "name": "stdout",
     "output_type": "stream",
     "text": [
      "67\t3\t-1\t0.00000\tFalse\tFalse\t0:00:01.392576\n"
     ]
    },
    {
     "name": "stderr",
     "output_type": "stream",
     "text": [
      " 14%|████████████▌                                                                              | 69/500 [01:34<09:24,  1.31s/it]"
     ]
    },
    {
     "name": "stdout",
     "output_type": "stream",
     "text": [
      "68\t8\t8\t2.46326\tTrue\tTrue\t0:00:01.304544\n"
     ]
    },
    {
     "name": "stderr",
     "output_type": "stream",
     "text": [
      " 14%|████████████▋                                                                              | 70/500 [01:35<09:22,  1.31s/it]"
     ]
    },
    {
     "name": "stdout",
     "output_type": "stream",
     "text": [
      "69\t9\t9\t2.46326\tTrue\tTrue\t0:00:01.295596\n"
     ]
    },
    {
     "name": "stderr",
     "output_type": "stream",
     "text": [
      " 14%|████████████▉                                                                              | 71/500 [01:36<09:16,  1.30s/it]"
     ]
    },
    {
     "name": "stdout",
     "output_type": "stream",
     "text": [
      "70\t1\t1\t2.46326\tTrue\tTrue\t0:00:01.269872\n"
     ]
    },
    {
     "name": "stderr",
     "output_type": "stream",
     "text": [
      " 14%|█████████████                                                                              | 72/500 [01:37<09:20,  1.31s/it]"
     ]
    },
    {
     "name": "stdout",
     "output_type": "stream",
     "text": [
      "71\t2\t4\t0.11304\tFalse\tFalse\t0:00:01.340580\n"
     ]
    },
    {
     "name": "stderr",
     "output_type": "stream",
     "text": [
      " 15%|█████████████▎                                                                             | 73/500 [01:39<09:17,  1.31s/it]"
     ]
    },
    {
     "name": "stdout",
     "output_type": "stream",
     "text": [
      "72\t3\t3\t1.23319\tFalse\tTrue\t0:00:01.293302\n"
     ]
    },
    {
     "name": "stderr",
     "output_type": "stream",
     "text": [
      " 15%|█████████████▍                                                                             | 74/500 [01:40<09:22,  1.32s/it]"
     ]
    },
    {
     "name": "stdout",
     "output_type": "stream",
     "text": [
      "73\t6\t6\t2.46326\tTrue\tTrue\t0:00:01.351357\n"
     ]
    },
    {
     "name": "stderr",
     "output_type": "stream",
     "text": [
      " 15%|█████████████▋                                                                             | 75/500 [01:41<09:17,  1.31s/it]"
     ]
    },
    {
     "name": "stdout",
     "output_type": "stream",
     "text": [
      "74\t8\t8\t2.46326\tTrue\tTrue\t0:00:01.289226\n"
     ]
    },
    {
     "name": "stderr",
     "output_type": "stream",
     "text": [
      " 15%|█████████████▊                                                                             | 76/500 [01:43<09:11,  1.30s/it]"
     ]
    },
    {
     "name": "stdout",
     "output_type": "stream",
     "text": [
      "75\t9\t9\t0.72897\tFalse\tTrue\t0:00:01.273983\n"
     ]
    },
    {
     "name": "stderr",
     "output_type": "stream",
     "text": [
      " 15%|██████████████                                                                             | 77/500 [01:44<09:07,  1.29s/it]"
     ]
    },
    {
     "name": "stdout",
     "output_type": "stream",
     "text": [
      "76\t4\t4\t2.46326\tTrue\tTrue\t0:00:01.276560\n"
     ]
    },
    {
     "name": "stderr",
     "output_type": "stream",
     "text": [
      " 16%|██████████████▏                                                                            | 78/500 [01:45<09:02,  1.28s/it]"
     ]
    },
    {
     "name": "stdout",
     "output_type": "stream",
     "text": [
      "77\t3\t6\t2.46326\tFalse\tFalse\t0:00:01.258671\n"
     ]
    },
    {
     "name": "stderr",
     "output_type": "stream",
     "text": [
      " 16%|██████████████▍                                                                            | 79/500 [01:46<08:53,  1.27s/it]"
     ]
    },
    {
     "name": "stdout",
     "output_type": "stream",
     "text": [
      "78\t9\t9\t2.46326\tTrue\tTrue\t0:00:01.226274\n"
     ]
    },
    {
     "name": "stderr",
     "output_type": "stream",
     "text": [
      " 16%|██████████████▌                                                                            | 80/500 [01:48<08:56,  1.28s/it]"
     ]
    },
    {
     "name": "stdout",
     "output_type": "stream",
     "text": [
      "79\t9\t9\t2.46326\tTrue\tTrue\t0:00:01.301651\n"
     ]
    },
    {
     "name": "stderr",
     "output_type": "stream",
     "text": [
      " 16%|██████████████▋                                                                            | 81/500 [01:49<09:11,  1.32s/it]"
     ]
    },
    {
     "name": "stdout",
     "output_type": "stream",
     "text": [
      "80\t8\t8\t2.46326\tTrue\tTrue\t0:00:01.404760\n"
     ]
    },
    {
     "name": "stderr",
     "output_type": "stream",
     "text": [
      " 16%|██████████████▉                                                                            | 82/500 [01:51<09:23,  1.35s/it]"
     ]
    },
    {
     "name": "stdout",
     "output_type": "stream",
     "text": [
      "81\t6\t6\t2.46326\tTrue\tTrue\t0:00:01.417345\n"
     ]
    },
    {
     "name": "stderr",
     "output_type": "stream",
     "text": [
      " 17%|███████████████                                                                            | 83/500 [01:52<09:28,  1.36s/it]"
     ]
    },
    {
     "name": "stdout",
     "output_type": "stream",
     "text": [
      "82\t6\t6\t2.46326\tTrue\tTrue\t0:00:01.392735\n"
     ]
    },
    {
     "name": "stderr",
     "output_type": "stream",
     "text": [
      " 17%|███████████████▎                                                                           | 84/500 [01:53<09:23,  1.35s/it]"
     ]
    },
    {
     "name": "stdout",
     "output_type": "stream",
     "text": [
      "83\t1\t1\t2.46326\tTrue\tTrue\t0:00:01.334973\n"
     ]
    },
    {
     "name": "stderr",
     "output_type": "stream",
     "text": [
      " 17%|███████████████▍                                                                           | 85/500 [01:55<09:13,  1.33s/it]"
     ]
    },
    {
     "name": "stdout",
     "output_type": "stream",
     "text": [
      "84\t1\t1\t2.46326\tTrue\tTrue\t0:00:01.278788\n"
     ]
    },
    {
     "name": "stderr",
     "output_type": "stream",
     "text": [
      " 17%|███████████████▋                                                                           | 86/500 [01:56<09:13,  1.34s/it]"
     ]
    },
    {
     "name": "stdout",
     "output_type": "stream",
     "text": [
      "85\t9\t9\t2.46326\tTrue\tTrue\t0:00:01.340751\n"
     ]
    },
    {
     "name": "stderr",
     "output_type": "stream",
     "text": [
      " 17%|███████████████▊                                                                           | 87/500 [01:57<09:06,  1.32s/it]"
     ]
    },
    {
     "name": "stdout",
     "output_type": "stream",
     "text": [
      "86\t9\t9\t2.46326\tTrue\tTrue\t0:00:01.292448\n"
     ]
    },
    {
     "name": "stderr",
     "output_type": "stream",
     "text": [
      " 18%|████████████████                                                                           | 88/500 [01:59<09:11,  1.34s/it]"
     ]
    },
    {
     "name": "stdout",
     "output_type": "stream",
     "text": [
      "87\t5\t5\t2.46326\tTrue\tTrue\t0:00:01.368392\n"
     ]
    },
    {
     "name": "stderr",
     "output_type": "stream",
     "text": [
      " 18%|████████████████▏                                                                          | 89/500 [02:00<09:15,  1.35s/it]"
     ]
    },
    {
     "name": "stdout",
     "output_type": "stream",
     "text": [
      "88\t1\t1\t2.46326\tTrue\tTrue\t0:00:01.384399\n"
     ]
    },
    {
     "name": "stderr",
     "output_type": "stream",
     "text": [
      " 18%|████████████████▍                                                                          | 90/500 [02:01<09:08,  1.34s/it]"
     ]
    },
    {
     "name": "stdout",
     "output_type": "stream",
     "text": [
      "89\t9\t9\t2.46326\tTrue\tTrue\t0:00:01.300398\n"
     ]
    },
    {
     "name": "stderr",
     "output_type": "stream",
     "text": [
      " 18%|████████████████▌                                                                          | 91/500 [02:03<09:10,  1.35s/it]"
     ]
    },
    {
     "name": "stdout",
     "output_type": "stream",
     "text": [
      "90\t5\t5\t2.46326\tTrue\tTrue\t0:00:01.365233\n"
     ]
    },
    {
     "name": "stderr",
     "output_type": "stream",
     "text": [
      " 18%|████████████████▋                                                                          | 92/500 [02:04<09:17,  1.37s/it]"
     ]
    },
    {
     "name": "stdout",
     "output_type": "stream",
     "text": [
      "91\t9\t9\t2.46326\tTrue\tTrue\t0:00:01.406126\n"
     ]
    },
    {
     "name": "stderr",
     "output_type": "stream",
     "text": [
      " 19%|████████████████▉                                                                          | 93/500 [02:05<09:12,  1.36s/it]"
     ]
    },
    {
     "name": "stdout",
     "output_type": "stream",
     "text": [
      "92\t9\t9\t2.46326\tTrue\tTrue\t0:00:01.339431\n"
     ]
    },
    {
     "name": "stderr",
     "output_type": "stream",
     "text": [
      " 19%|█████████████████                                                                          | 94/500 [02:07<09:14,  1.36s/it]"
     ]
    },
    {
     "name": "stdout",
     "output_type": "stream",
     "text": [
      "93\t3\t3\t0.17988\tFalse\tTrue\t0:00:01.377196\n"
     ]
    },
    {
     "name": "stderr",
     "output_type": "stream",
     "text": [
      " 19%|█████████████████▎                                                                         | 95/500 [02:08<09:10,  1.36s/it]"
     ]
    },
    {
     "name": "stdout",
     "output_type": "stream",
     "text": [
      "94\t9\t0\t2.46326\tFalse\tFalse\t0:00:01.343050\n"
     ]
    },
    {
     "name": "stderr",
     "output_type": "stream",
     "text": [
      " 19%|█████████████████▍                                                                         | 96/500 [02:10<09:11,  1.36s/it]"
     ]
    },
    {
     "name": "stdout",
     "output_type": "stream",
     "text": [
      "95\t3\t4\t1.00675\tFalse\tFalse\t0:00:01.374068\n"
     ]
    },
    {
     "name": "stderr",
     "output_type": "stream",
     "text": [
      " 19%|█████████████████▋                                                                         | 97/500 [02:11<09:14,  1.38s/it]"
     ]
    },
    {
     "name": "stdout",
     "output_type": "stream",
     "text": [
      "96\t4\t4\t1.15753\tFalse\tTrue\t0:00:01.399177\n"
     ]
    },
    {
     "name": "stderr",
     "output_type": "stream",
     "text": [
      " 20%|█████████████████▊                                                                         | 98/500 [02:12<09:02,  1.35s/it]"
     ]
    },
    {
     "name": "stdout",
     "output_type": "stream",
     "text": [
      "97\t3\t3\t2.46326\tTrue\tTrue\t0:00:01.285866\n"
     ]
    },
    {
     "name": "stderr",
     "output_type": "stream",
     "text": [
      " 20%|██████████████████                                                                         | 99/500 [02:13<08:49,  1.32s/it]"
     ]
    },
    {
     "name": "stdout",
     "output_type": "stream",
     "text": [
      "98\t5\t5\t1.74699\tTrue\tTrue\t0:00:01.246291\n"
     ]
    },
    {
     "name": "stderr",
     "output_type": "stream",
     "text": [
      " 20%|██████████████████                                                                        | 100/500 [02:15<08:39,  1.30s/it]"
     ]
    },
    {
     "name": "stdout",
     "output_type": "stream",
     "text": [
      "99\t8\t8\t2.46326\tTrue\tTrue\t0:00:01.252299\n"
     ]
    },
    {
     "name": "stderr",
     "output_type": "stream",
     "text": [
      " 20%|██████████████████▏                                                                       | 101/500 [02:16<08:38,  1.30s/it]"
     ]
    },
    {
     "name": "stdout",
     "output_type": "stream",
     "text": [
      "100\t1\t1\t2.46326\tTrue\tTrue\t0:00:01.298801\n"
     ]
    },
    {
     "name": "stderr",
     "output_type": "stream",
     "text": [
      " 20%|██████████████████▎                                                                       | 102/500 [02:17<08:41,  1.31s/it]"
     ]
    },
    {
     "name": "stdout",
     "output_type": "stream",
     "text": [
      "101\t1\t1\t2.46326\tTrue\tTrue\t0:00:01.332366\n"
     ]
    },
    {
     "name": "stderr",
     "output_type": "stream",
     "text": [
      " 21%|██████████████████▌                                                                       | 103/500 [02:19<08:47,  1.33s/it]"
     ]
    },
    {
     "name": "stdout",
     "output_type": "stream",
     "text": [
      "102\t2\t2\t0.73598\tFalse\tTrue\t0:00:01.367214\n"
     ]
    },
    {
     "name": "stderr",
     "output_type": "stream",
     "text": [
      " 21%|██████████████████▋                                                                       | 104/500 [02:20<08:43,  1.32s/it]"
     ]
    },
    {
     "name": "stdout",
     "output_type": "stream",
     "text": [
      "103\t7\t7\t2.46326\tTrue\tTrue\t0:00:01.302730\n"
     ]
    },
    {
     "name": "stderr",
     "output_type": "stream",
     "text": [
      " 21%|██████████████████▉                                                                       | 105/500 [02:21<08:38,  1.31s/it]"
     ]
    },
    {
     "name": "stdout",
     "output_type": "stream",
     "text": [
      "104\t1\t1\t2.46326\tTrue\tTrue\t0:00:01.289078\n"
     ]
    },
    {
     "name": "stderr",
     "output_type": "stream",
     "text": [
      " 21%|███████████████████                                                                       | 106/500 [02:23<08:33,  1.30s/it]"
     ]
    },
    {
     "name": "stdout",
     "output_type": "stream",
     "text": [
      "105\t2\t7\t0.72200\tFalse\tFalse\t0:00:01.276269\n"
     ]
    },
    {
     "name": "stderr",
     "output_type": "stream",
     "text": [
      " 21%|███████████████████▎                                                                      | 107/500 [02:24<08:29,  1.30s/it]"
     ]
    },
    {
     "name": "stdout",
     "output_type": "stream",
     "text": [
      "106\t5\t4\t1.61599\tFalse\tFalse\t0:00:01.278617\n"
     ]
    },
    {
     "name": "stderr",
     "output_type": "stream",
     "text": [
      " 22%|███████████████████▍                                                                      | 108/500 [02:25<08:37,  1.32s/it]"
     ]
    },
    {
     "name": "stdout",
     "output_type": "stream",
     "text": [
      "107\t0\t0\t2.46326\tTrue\tTrue\t0:00:01.372403\n"
     ]
    },
    {
     "name": "stderr",
     "output_type": "stream",
     "text": [
      " 22%|███████████████████▌                                                                      | 109/500 [02:27<08:44,  1.34s/it]"
     ]
    },
    {
     "name": "stdout",
     "output_type": "stream",
     "text": [
      "108\t2\t2\t1.33193\tFalse\tTrue\t0:00:01.387753\n"
     ]
    },
    {
     "name": "stderr",
     "output_type": "stream",
     "text": [
      " 22%|███████████████████▊                                                                      | 110/500 [02:28<08:45,  1.35s/it]"
     ]
    },
    {
     "name": "stdout",
     "output_type": "stream",
     "text": [
      "109\t7\t7\t2.46326\tTrue\tTrue\t0:00:01.361491\n"
     ]
    },
    {
     "name": "stderr",
     "output_type": "stream",
     "text": [
      " 22%|███████████████████▉                                                                      | 111/500 [02:29<08:56,  1.38s/it]"
     ]
    },
    {
     "name": "stdout",
     "output_type": "stream",
     "text": [
      "110\t7\t7\t2.46326\tTrue\tTrue\t0:00:01.452729\n"
     ]
    },
    {
     "name": "stderr",
     "output_type": "stream",
     "text": [
      " 22%|████████████████████▏                                                                     | 112/500 [02:31<08:48,  1.36s/it]"
     ]
    },
    {
     "name": "stdout",
     "output_type": "stream",
     "text": [
      "111\t8\t8\t2.46326\tTrue\tTrue\t0:00:01.320619\n"
     ]
    },
    {
     "name": "stderr",
     "output_type": "stream",
     "text": [
      " 23%|████████████████████▎                                                                     | 113/500 [02:32<08:38,  1.34s/it]"
     ]
    },
    {
     "name": "stdout",
     "output_type": "stream",
     "text": [
      "112\t2\t0\t2.46326\tFalse\tFalse\t0:00:01.282120\n"
     ]
    },
    {
     "name": "stderr",
     "output_type": "stream",
     "text": [
      " 23%|████████████████████▌                                                                     | 114/500 [02:33<08:36,  1.34s/it]"
     ]
    },
    {
     "name": "stdout",
     "output_type": "stream",
     "text": [
      "113\t3\t3\t2.46326\tTrue\tTrue\t0:00:01.328238\n"
     ]
    },
    {
     "name": "stderr",
     "output_type": "stream",
     "text": [
      " 23%|████████████████████▋                                                                     | 115/500 [02:35<08:24,  1.31s/it]"
     ]
    },
    {
     "name": "stdout",
     "output_type": "stream",
     "text": [
      "114\t1\t1\t2.46326\tTrue\tTrue\t0:00:01.247468\n"
     ]
    },
    {
     "name": "stderr",
     "output_type": "stream",
     "text": [
      " 23%|████████████████████▉                                                                     | 116/500 [02:36<08:24,  1.31s/it]"
     ]
    },
    {
     "name": "stdout",
     "output_type": "stream",
     "text": [
      "115\t4\t4\t2.46326\tTrue\tTrue\t0:00:01.317265\n"
     ]
    },
    {
     "name": "stderr",
     "output_type": "stream",
     "text": [
      " 23%|█████████████████████                                                                     | 117/500 [02:37<08:24,  1.32s/it]"
     ]
    },
    {
     "name": "stdout",
     "output_type": "stream",
     "text": [
      "116\t9\t9\t2.46326\tTrue\tTrue\t0:00:01.320758\n"
     ]
    },
    {
     "name": "stderr",
     "output_type": "stream",
     "text": [
      " 24%|█████████████████████▏                                                                    | 118/500 [02:39<08:18,  1.31s/it]"
     ]
    },
    {
     "name": "stdout",
     "output_type": "stream",
     "text": [
      "117\t2\t2\t2.46326\tTrue\tTrue\t0:00:01.277673\n"
     ]
    },
    {
     "name": "stderr",
     "output_type": "stream",
     "text": [
      " 24%|█████████████████████▍                                                                    | 119/500 [02:40<08:12,  1.29s/it]"
     ]
    },
    {
     "name": "stdout",
     "output_type": "stream",
     "text": [
      "118\t0\t0\t2.46326\tTrue\tTrue\t0:00:01.263180\n"
     ]
    },
    {
     "name": "stderr",
     "output_type": "stream",
     "text": [
      " 24%|█████████████████████▌                                                                    | 120/500 [02:41<08:06,  1.28s/it]"
     ]
    },
    {
     "name": "stdout",
     "output_type": "stream",
     "text": [
      "119\t3\t-1\t0.00000\tFalse\tFalse\t0:00:01.246178\n"
     ]
    },
    {
     "name": "stderr",
     "output_type": "stream",
     "text": [
      " 24%|█████████████████████▊                                                                    | 121/500 [02:42<08:07,  1.29s/it]"
     ]
    },
    {
     "name": "stdout",
     "output_type": "stream",
     "text": [
      "120\t2\t2\t2.46326\tTrue\tTrue\t0:00:01.295524\n"
     ]
    },
    {
     "name": "stderr",
     "output_type": "stream",
     "text": [
      " 24%|█████████████████████▉                                                                    | 122/500 [02:44<08:03,  1.28s/it]"
     ]
    },
    {
     "name": "stdout",
     "output_type": "stream",
     "text": [
      "121\t0\t0\t2.46326\tTrue\tTrue\t0:00:01.258119\n"
     ]
    },
    {
     "name": "stderr",
     "output_type": "stream",
     "text": [
      " 25%|██████████████████████▏                                                                   | 123/500 [02:45<08:05,  1.29s/it]"
     ]
    },
    {
     "name": "stdout",
     "output_type": "stream",
     "text": [
      "122\t3\t8\t2.46326\tFalse\tFalse\t0:00:01.305075\n"
     ]
    },
    {
     "name": "stderr",
     "output_type": "stream",
     "text": [
      " 25%|██████████████████████▎                                                                   | 124/500 [02:46<08:06,  1.29s/it]"
     ]
    },
    {
     "name": "stdout",
     "output_type": "stream",
     "text": [
      "123\t1\t1\t2.46326\tTrue\tTrue\t0:00:01.309582\n"
     ]
    },
    {
     "name": "stderr",
     "output_type": "stream",
     "text": [
      " 25%|██████████████████████▌                                                                   | 125/500 [02:48<08:02,  1.29s/it]"
     ]
    },
    {
     "name": "stdout",
     "output_type": "stream",
     "text": [
      "124\t8\t8\t2.46326\tTrue\tTrue\t0:00:01.263323\n"
     ]
    },
    {
     "name": "stderr",
     "output_type": "stream",
     "text": [
      " 25%|██████████████████████▋                                                                   | 126/500 [02:49<08:13,  1.32s/it]"
     ]
    },
    {
     "name": "stdout",
     "output_type": "stream",
     "text": [
      "125\t8\t8\t2.46326\tTrue\tTrue\t0:00:01.395491\n"
     ]
    },
    {
     "name": "stderr",
     "output_type": "stream",
     "text": [
      " 25%|██████████████████████▊                                                                   | 127/500 [02:50<08:20,  1.34s/it]"
     ]
    },
    {
     "name": "stdout",
     "output_type": "stream",
     "text": [
      "126\t0\t0\t2.46326\tTrue\tTrue\t0:00:01.390006\n"
     ]
    },
    {
     "name": "stderr",
     "output_type": "stream",
     "text": [
      " 26%|███████████████████████                                                                   | 128/500 [02:52<08:21,  1.35s/it]"
     ]
    },
    {
     "name": "stdout",
     "output_type": "stream",
     "text": [
      "127\t0\t9\t1.33193\tFalse\tFalse\t0:00:01.365908\n"
     ]
    },
    {
     "name": "stderr",
     "output_type": "stream",
     "text": [
      " 26%|███████████████████████▏                                                                  | 129/500 [02:53<08:12,  1.33s/it]"
     ]
    },
    {
     "name": "stdout",
     "output_type": "stream",
     "text": [
      "128\t7\t7\t2.46326\tTrue\tTrue\t0:00:01.277649\n"
     ]
    },
    {
     "name": "stderr",
     "output_type": "stream",
     "text": [
      " 26%|███████████████████████▍                                                                  | 130/500 [02:54<08:03,  1.31s/it]"
     ]
    },
    {
     "name": "stdout",
     "output_type": "stream",
     "text": [
      "129\t7\t4\t2.46326\tFalse\tFalse\t0:00:01.255744\n"
     ]
    },
    {
     "name": "stderr",
     "output_type": "stream",
     "text": [
      " 26%|███████████████████████▌                                                                  | 131/500 [02:56<08:06,  1.32s/it]"
     ]
    },
    {
     "name": "stdout",
     "output_type": "stream",
     "text": [
      "130\t6\t6\t2.46326\tTrue\tTrue\t0:00:01.345277\n"
     ]
    },
    {
     "name": "stderr",
     "output_type": "stream",
     "text": [
      " 26%|███████████████████████▊                                                                  | 132/500 [02:57<08:19,  1.36s/it]"
     ]
    },
    {
     "name": "stdout",
     "output_type": "stream",
     "text": [
      "131\t1\t1\t2.46326\tTrue\tTrue\t0:00:01.441848\n"
     ]
    },
    {
     "name": "stderr",
     "output_type": "stream",
     "text": [
      " 27%|███████████████████████▉                                                                  | 133/500 [02:58<08:20,  1.36s/it]"
     ]
    },
    {
     "name": "stdout",
     "output_type": "stream",
     "text": [
      "132\t5\t5\t2.46326\tTrue\tTrue\t0:00:01.377072\n"
     ]
    },
    {
     "name": "stderr",
     "output_type": "stream",
     "text": [
      " 27%|████████████████████████                                                                  | 134/500 [03:00<08:19,  1.36s/it]"
     ]
    },
    {
     "name": "stdout",
     "output_type": "stream",
     "text": [
      "133\t7\t0\t1.33193\tFalse\tFalse\t0:00:01.359976\n"
     ]
    },
    {
     "name": "stderr",
     "output_type": "stream",
     "text": [
      " 27%|████████████████████████▎                                                                 | 135/500 [03:01<08:10,  1.34s/it]"
     ]
    },
    {
     "name": "stdout",
     "output_type": "stream",
     "text": [
      "134\t3\t3\t2.46326\tTrue\tTrue\t0:00:01.295853\n"
     ]
    },
    {
     "name": "stderr",
     "output_type": "stream",
     "text": [
      " 27%|████████████████████████▍                                                                 | 136/500 [03:02<08:09,  1.35s/it]"
     ]
    },
    {
     "name": "stdout",
     "output_type": "stream",
     "text": [
      "135\t4\t4\t2.46326\tTrue\tTrue\t0:00:01.346396\n"
     ]
    },
    {
     "name": "stderr",
     "output_type": "stream",
     "text": [
      " 27%|████████████████████████▋                                                                 | 137/500 [03:04<08:01,  1.33s/it]"
     ]
    },
    {
     "name": "stdout",
     "output_type": "stream",
     "text": [
      "136\t6\t6\t2.46326\tTrue\tTrue\t0:00:01.277508\n"
     ]
    },
    {
     "name": "stderr",
     "output_type": "stream",
     "text": [
      " 28%|████████████████████████▊                                                                 | 138/500 [03:05<07:53,  1.31s/it]"
     ]
    },
    {
     "name": "stdout",
     "output_type": "stream",
     "text": [
      "137\t9\t9\t2.46326\tTrue\tTrue\t0:00:01.264044\n"
     ]
    },
    {
     "name": "stderr",
     "output_type": "stream",
     "text": [
      " 28%|█████████████████████████                                                                 | 139/500 [03:06<07:50,  1.30s/it]"
     ]
    },
    {
     "name": "stdout",
     "output_type": "stream",
     "text": [
      "138\t8\t8\t2.46326\tTrue\tTrue\t0:00:01.287615\n"
     ]
    },
    {
     "name": "stderr",
     "output_type": "stream",
     "text": [
      " 28%|█████████████████████████▏                                                                | 140/500 [03:08<07:52,  1.31s/it]"
     ]
    },
    {
     "name": "stdout",
     "output_type": "stream",
     "text": [
      "139\t6\t6\t2.46326\tTrue\tTrue\t0:00:01.337339\n"
     ]
    },
    {
     "name": "stderr",
     "output_type": "stream",
     "text": [
      " 28%|█████████████████████████▍                                                                | 141/500 [03:09<07:51,  1.31s/it]"
     ]
    },
    {
     "name": "stdout",
     "output_type": "stream",
     "text": [
      "140\t7\t7\t2.46326\tTrue\tTrue\t0:00:01.307588\n"
     ]
    },
    {
     "name": "stderr",
     "output_type": "stream",
     "text": [
      " 28%|█████████████████████████▌                                                                | 142/500 [03:10<07:40,  1.29s/it]"
     ]
    },
    {
     "name": "stdout",
     "output_type": "stream",
     "text": [
      "141\t6\t6\t2.46326\tTrue\tTrue\t0:00:01.220524\n"
     ]
    },
    {
     "name": "stderr",
     "output_type": "stream",
     "text": [
      " 29%|█████████████████████████▋                                                                | 143/500 [03:11<07:41,  1.29s/it]"
     ]
    },
    {
     "name": "stdout",
     "output_type": "stream",
     "text": [
      "142\t7\t7\t2.46326\tTrue\tTrue\t0:00:01.304954\n"
     ]
    },
    {
     "name": "stderr",
     "output_type": "stream",
     "text": [
      " 29%|█████████████████████████▉                                                                | 144/500 [03:13<07:51,  1.33s/it]"
     ]
    },
    {
     "name": "stdout",
     "output_type": "stream",
     "text": [
      "143\t5\t3\t2.46326\tFalse\tFalse\t0:00:01.398933\n"
     ]
    },
    {
     "name": "stderr",
     "output_type": "stream",
     "text": [
      " 29%|██████████████████████████                                                                | 145/500 [03:14<07:51,  1.33s/it]"
     ]
    },
    {
     "name": "stdout",
     "output_type": "stream",
     "text": [
      "144\t5\t5\t2.46326\tTrue\tTrue\t0:00:01.334846\n"
     ]
    },
    {
     "name": "stderr",
     "output_type": "stream",
     "text": [
      " 29%|██████████████████████████▎                                                               | 146/500 [03:16<07:52,  1.34s/it]"
     ]
    },
    {
     "name": "stdout",
     "output_type": "stream",
     "text": [
      "145\t1\t1\t2.46326\tTrue\tTrue\t0:00:01.348057\n"
     ]
    },
    {
     "name": "stderr",
     "output_type": "stream",
     "text": [
      " 29%|██████████████████████████▍                                                               | 147/500 [03:17<07:41,  1.31s/it]"
     ]
    },
    {
     "name": "stdout",
     "output_type": "stream",
     "text": [
      "146\t6\t6\t2.46326\tTrue\tTrue\t0:00:01.242845\n"
     ]
    },
    {
     "name": "stderr",
     "output_type": "stream",
     "text": [
      " 30%|██████████████████████████▋                                                               | 148/500 [03:18<07:50,  1.34s/it]"
     ]
    },
    {
     "name": "stdout",
     "output_type": "stream",
     "text": [
      "147\t9\t9\t2.46326\tTrue\tTrue\t0:00:01.397460\n"
     ]
    },
    {
     "name": "stderr",
     "output_type": "stream",
     "text": [
      " 30%|██████████████████████████▊                                                               | 149/500 [03:20<07:52,  1.35s/it]"
     ]
    },
    {
     "name": "stdout",
     "output_type": "stream",
     "text": [
      "148\t8\t8\t2.46326\tTrue\tTrue\t0:00:01.366016\n"
     ]
    },
    {
     "name": "stderr",
     "output_type": "stream",
     "text": [
      " 30%|███████████████████████████                                                               | 150/500 [03:21<07:44,  1.33s/it]"
     ]
    },
    {
     "name": "stdout",
     "output_type": "stream",
     "text": [
      "149\t5\t5\t2.46326\tTrue\tTrue\t0:00:01.283279\n"
     ]
    },
    {
     "name": "stderr",
     "output_type": "stream",
     "text": [
      " 30%|███████████████████████████▏                                                              | 151/500 [03:22<07:45,  1.34s/it]"
     ]
    },
    {
     "name": "stdout",
     "output_type": "stream",
     "text": [
      "150\t4\t4\t2.46326\tTrue\tTrue\t0:00:01.349839\n"
     ]
    },
    {
     "name": "stderr",
     "output_type": "stream",
     "text": [
      " 30%|███████████████████████████▎                                                              | 152/500 [03:23<07:43,  1.33s/it]"
     ]
    },
    {
     "name": "stdout",
     "output_type": "stream",
     "text": [
      "151\t8\t8\t2.46326\tTrue\tTrue\t0:00:01.319394\n"
     ]
    },
    {
     "name": "stderr",
     "output_type": "stream",
     "text": [
      " 31%|███████████████████████████▌                                                              | 153/500 [03:25<07:32,  1.30s/it]"
     ]
    },
    {
     "name": "stdout",
     "output_type": "stream",
     "text": [
      "152\t8\t8\t2.46326\tTrue\tTrue\t0:00:01.235661\n"
     ]
    },
    {
     "name": "stderr",
     "output_type": "stream",
     "text": [
      " 31%|███████████████████████████▋                                                              | 154/500 [03:26<07:23,  1.28s/it]"
     ]
    },
    {
     "name": "stdout",
     "output_type": "stream",
     "text": [
      "153\t3\t3\t2.46326\tTrue\tTrue\t0:00:01.226578\n"
     ]
    },
    {
     "name": "stderr",
     "output_type": "stream",
     "text": [
      " 31%|███████████████████████████▉                                                              | 155/500 [03:27<07:21,  1.28s/it]"
     ]
    },
    {
     "name": "stdout",
     "output_type": "stream",
     "text": [
      "154\t5\t5\t2.46326\tTrue\tTrue\t0:00:01.276420\n"
     ]
    },
    {
     "name": "stderr",
     "output_type": "stream",
     "text": [
      " 31%|████████████████████████████                                                              | 156/500 [03:29<07:25,  1.29s/it]"
     ]
    },
    {
     "name": "stdout",
     "output_type": "stream",
     "text": [
      "155\t9\t9\t1.58245\tTrue\tTrue\t0:00:01.324942\n"
     ]
    },
    {
     "name": "stderr",
     "output_type": "stream",
     "text": [
      " 31%|████████████████████████████▎                                                             | 157/500 [03:30<07:24,  1.30s/it]"
     ]
    },
    {
     "name": "stdout",
     "output_type": "stream",
     "text": [
      "156\t3\t3\t2.46326\tTrue\tTrue\t0:00:01.299662\n"
     ]
    },
    {
     "name": "stderr",
     "output_type": "stream",
     "text": [
      " 32%|████████████████████████████▍                                                             | 158/500 [03:32<08:19,  1.46s/it]"
     ]
    },
    {
     "name": "stdout",
     "output_type": "stream",
     "text": [
      "157\t5\t5\t2.46326\tTrue\tTrue\t0:00:01.839616\n"
     ]
    },
    {
     "name": "stderr",
     "output_type": "stream",
     "text": [
      " 32%|████████████████████████████▌                                                             | 159/500 [03:33<07:55,  1.40s/it]"
     ]
    },
    {
     "name": "stdout",
     "output_type": "stream",
     "text": [
      "158\t9\t9\t2.46326\tTrue\tTrue\t0:00:01.242424\n"
     ]
    },
    {
     "name": "stderr",
     "output_type": "stream",
     "text": [
      " 32%|████████████████████████████▊                                                             | 160/500 [03:34<07:33,  1.33s/it]"
     ]
    },
    {
     "name": "stdout",
     "output_type": "stream",
     "text": [
      "159\t6\t6\t2.46326\tTrue\tTrue\t0:00:01.190255\n"
     ]
    },
    {
     "name": "stderr",
     "output_type": "stream",
     "text": [
      " 32%|████████████████████████████▉                                                             | 161/500 [03:35<07:32,  1.34s/it]"
     ]
    },
    {
     "name": "stdout",
     "output_type": "stream",
     "text": [
      "160\t6\t6\t2.46326\tTrue\tTrue\t0:00:01.336953\n"
     ]
    },
    {
     "name": "stderr",
     "output_type": "stream",
     "text": [
      " 32%|█████████████████████████████▏                                                            | 162/500 [03:37<07:37,  1.35s/it]"
     ]
    },
    {
     "name": "stdout",
     "output_type": "stream",
     "text": [
      "161\t0\t0\t2.46326\tTrue\tTrue\t0:00:01.395194\n"
     ]
    },
    {
     "name": "stderr",
     "output_type": "stream",
     "text": [
      " 33%|█████████████████████████████▎                                                            | 163/500 [03:38<07:38,  1.36s/it]"
     ]
    },
    {
     "name": "stdout",
     "output_type": "stream",
     "text": [
      "162\t7\t7\t2.46326\tTrue\tTrue\t0:00:01.370871\n"
     ]
    },
    {
     "name": "stderr",
     "output_type": "stream",
     "text": [
      " 33%|█████████████████████████████▌                                                            | 164/500 [03:40<07:36,  1.36s/it]"
     ]
    },
    {
     "name": "stdout",
     "output_type": "stream",
     "text": [
      "163\t4\t4\t0.30668\tFalse\tTrue\t0:00:01.355556\n"
     ]
    },
    {
     "name": "stderr",
     "output_type": "stream",
     "text": [
      " 33%|█████████████████████████████▋                                                            | 165/500 [03:41<07:31,  1.35s/it]"
     ]
    },
    {
     "name": "stdout",
     "output_type": "stream",
     "text": [
      "164\t7\t4\t1.53082\tFalse\tFalse\t0:00:01.320412\n"
     ]
    },
    {
     "name": "stderr",
     "output_type": "stream",
     "text": [
      " 33%|█████████████████████████████▉                                                            | 166/500 [03:42<07:37,  1.37s/it]"
     ]
    },
    {
     "name": "stdout",
     "output_type": "stream",
     "text": [
      "165\t3\t3\t2.46326\tTrue\tTrue\t0:00:01.420345\n"
     ]
    },
    {
     "name": "stderr",
     "output_type": "stream",
     "text": [
      " 33%|██████████████████████████████                                                            | 167/500 [03:44<07:35,  1.37s/it]"
     ]
    },
    {
     "name": "stdout",
     "output_type": "stream",
     "text": [
      "166\t0\t0\t2.46326\tTrue\tTrue\t0:00:01.357542\n"
     ]
    },
    {
     "name": "stderr",
     "output_type": "stream",
     "text": [
      " 34%|██████████████████████████████▏                                                           | 168/500 [03:45<07:40,  1.39s/it]"
     ]
    },
    {
     "name": "stdout",
     "output_type": "stream",
     "text": [
      "167\t0\t0\t2.46326\tTrue\tTrue\t0:00:01.432837\n"
     ]
    },
    {
     "name": "stderr",
     "output_type": "stream",
     "text": [
      " 34%|██████████████████████████████▍                                                           | 169/500 [03:47<07:50,  1.42s/it]"
     ]
    },
    {
     "name": "stdout",
     "output_type": "stream",
     "text": [
      "168\t6\t-1\t0.00000\tFalse\tFalse\t0:00:01.492543\n"
     ]
    },
    {
     "name": "stderr",
     "output_type": "stream",
     "text": [
      " 34%|██████████████████████████████▌                                                           | 170/500 [03:48<07:55,  1.44s/it]"
     ]
    },
    {
     "name": "stdout",
     "output_type": "stream",
     "text": [
      "169\t0\t3\t0.52237\tFalse\tFalse\t0:00:01.487082\n"
     ]
    },
    {
     "name": "stderr",
     "output_type": "stream",
     "text": [
      " 34%|██████████████████████████████▊                                                           | 171/500 [03:50<08:02,  1.47s/it]"
     ]
    },
    {
     "name": "stdout",
     "output_type": "stream",
     "text": [
      "170\t4\t4\t2.46326\tTrue\tTrue\t0:00:01.520669\n"
     ]
    },
    {
     "name": "stderr",
     "output_type": "stream",
     "text": [
      " 34%|██████████████████████████████▉                                                           | 172/500 [03:51<07:55,  1.45s/it]"
     ]
    },
    {
     "name": "stdout",
     "output_type": "stream",
     "text": [
      "171\t8\t8\t2.46326\tTrue\tTrue\t0:00:01.413174\n"
     ]
    },
    {
     "name": "stderr",
     "output_type": "stream",
     "text": [
      " 35%|███████████████████████████████▏                                                          | 173/500 [03:53<07:51,  1.44s/it]"
     ]
    },
    {
     "name": "stdout",
     "output_type": "stream",
     "text": [
      "172\t9\t9\t2.46326\tTrue\tTrue\t0:00:01.419136\n"
     ]
    },
    {
     "name": "stderr",
     "output_type": "stream",
     "text": [
      " 35%|███████████████████████████████▎                                                          | 174/500 [03:54<07:49,  1.44s/it]"
     ]
    },
    {
     "name": "stdout",
     "output_type": "stream",
     "text": [
      "173\t1\t1\t2.46326\tTrue\tTrue\t0:00:01.429541\n"
     ]
    },
    {
     "name": "stderr",
     "output_type": "stream",
     "text": [
      " 35%|███████████████████████████████▍                                                          | 175/500 [03:55<07:32,  1.39s/it]"
     ]
    },
    {
     "name": "stdout",
     "output_type": "stream",
     "text": [
      "174\t9\t9\t2.46326\tTrue\tTrue\t0:00:01.280568\n"
     ]
    },
    {
     "name": "stderr",
     "output_type": "stream",
     "text": [
      " 35%|███████████████████████████████▋                                                          | 176/500 [03:57<07:36,  1.41s/it]"
     ]
    },
    {
     "name": "stdout",
     "output_type": "stream",
     "text": [
      "175\t6\t6\t2.46326\tTrue\tTrue\t0:00:01.449367\n"
     ]
    },
    {
     "name": "stderr",
     "output_type": "stream",
     "text": [
      " 35%|███████████████████████████████▊                                                          | 177/500 [03:58<07:35,  1.41s/it]"
     ]
    },
    {
     "name": "stdout",
     "output_type": "stream",
     "text": [
      "176\t7\t7\t2.46326\tTrue\tTrue\t0:00:01.405390\n"
     ]
    },
    {
     "name": "stderr",
     "output_type": "stream",
     "text": [
      " 36%|████████████████████████████████                                                          | 178/500 [03:59<07:18,  1.36s/it]"
     ]
    },
    {
     "name": "stdout",
     "output_type": "stream",
     "text": [
      "177\t4\t4\t2.46326\tTrue\tTrue\t0:00:01.246647\n"
     ]
    },
    {
     "name": "stderr",
     "output_type": "stream",
     "text": [
      " 36%|████████████████████████████████▏                                                         | 179/500 [04:01<07:08,  1.33s/it]"
     ]
    },
    {
     "name": "stdout",
     "output_type": "stream",
     "text": [
      "178\t4\t4\t1.02065\tFalse\tTrue\t0:00:01.268727\n"
     ]
    },
    {
     "name": "stderr",
     "output_type": "stream",
     "text": [
      " 36%|████████████████████████████████▍                                                         | 180/500 [04:02<07:12,  1.35s/it]"
     ]
    },
    {
     "name": "stdout",
     "output_type": "stream",
     "text": [
      "179\t2\t3\t1.31100\tFalse\tFalse\t0:00:01.385547\n"
     ]
    },
    {
     "name": "stderr",
     "output_type": "stream",
     "text": [
      " 36%|████████████████████████████████▌                                                         | 181/500 [04:03<07:20,  1.38s/it]"
     ]
    },
    {
     "name": "stdout",
     "output_type": "stream",
     "text": [
      "180\t6\t6\t2.46326\tTrue\tTrue\t0:00:01.443732\n"
     ]
    },
    {
     "name": "stderr",
     "output_type": "stream",
     "text": [
      " 36%|████████████████████████████████▊                                                         | 182/500 [04:05<07:11,  1.36s/it]"
     ]
    },
    {
     "name": "stdout",
     "output_type": "stream",
     "text": [
      "181\t0\t0\t2.46326\tTrue\tTrue\t0:00:01.306181\n"
     ]
    },
    {
     "name": "stderr",
     "output_type": "stream",
     "text": [
      " 37%|████████████████████████████████▉                                                         | 183/500 [04:06<07:10,  1.36s/it]"
     ]
    },
    {
     "name": "stdout",
     "output_type": "stream",
     "text": [
      "182\t0\t0\t1.08368\tFalse\tTrue\t0:00:01.356062\n"
     ]
    },
    {
     "name": "stderr",
     "output_type": "stream",
     "text": [
      " 37%|█████████████████████████████████                                                         | 184/500 [04:07<07:08,  1.36s/it]"
     ]
    },
    {
     "name": "stdout",
     "output_type": "stream",
     "text": [
      "183\t1\t1\t1.61599\tTrue\tTrue\t0:00:01.350344\n"
     ]
    },
    {
     "name": "stderr",
     "output_type": "stream",
     "text": [
      " 37%|█████████████████████████████████▎                                                        | 185/500 [04:09<07:04,  1.35s/it]"
     ]
    },
    {
     "name": "stdout",
     "output_type": "stream",
     "text": [
      "184\t9\t9\t2.46326\tTrue\tTrue\t0:00:01.318820\n"
     ]
    },
    {
     "name": "stderr",
     "output_type": "stream",
     "text": [
      " 37%|█████████████████████████████████▍                                                        | 186/500 [04:10<06:58,  1.33s/it]"
     ]
    },
    {
     "name": "stdout",
     "output_type": "stream",
     "text": [
      "185\t2\t0\t1.39131\tFalse\tFalse\t0:00:01.299004\n"
     ]
    },
    {
     "name": "stderr",
     "output_type": "stream",
     "text": [
      " 37%|█████████████████████████████████▋                                                        | 187/500 [04:11<06:56,  1.33s/it]"
     ]
    },
    {
     "name": "stdout",
     "output_type": "stream",
     "text": [
      "186\t7\t0\t1.61599\tFalse\tFalse\t0:00:01.320622\n"
     ]
    },
    {
     "name": "stderr",
     "output_type": "stream",
     "text": [
      " 38%|█████████████████████████████████▊                                                        | 188/500 [04:13<07:12,  1.39s/it]"
     ]
    },
    {
     "name": "stdout",
     "output_type": "stream",
     "text": [
      "187\t2\t2\t2.46326\tTrue\tTrue\t0:00:01.511113\n"
     ]
    },
    {
     "name": "stderr",
     "output_type": "stream",
     "text": [
      " 38%|██████████████████████████████████                                                        | 189/500 [04:14<07:18,  1.41s/it]"
     ]
    },
    {
     "name": "stdout",
     "output_type": "stream",
     "text": [
      "188\t3\t3\t2.46326\tTrue\tTrue\t0:00:01.468358\n"
     ]
    },
    {
     "name": "stderr",
     "output_type": "stream",
     "text": [
      " 38%|██████████████████████████████████▏                                                       | 190/500 [04:16<07:26,  1.44s/it]"
     ]
    },
    {
     "name": "stdout",
     "output_type": "stream",
     "text": [
      "189\t7\t7\t2.46326\tTrue\tTrue\t0:00:01.505919\n"
     ]
    },
    {
     "name": "stderr",
     "output_type": "stream",
     "text": [
      " 38%|██████████████████████████████████▍                                                       | 191/500 [04:18<07:40,  1.49s/it]"
     ]
    },
    {
     "name": "stdout",
     "output_type": "stream",
     "text": [
      "190\t6\t6\t2.46326\tTrue\tTrue\t0:00:01.601569\n"
     ]
    },
    {
     "name": "stderr",
     "output_type": "stream",
     "text": [
      " 38%|██████████████████████████████████▌                                                       | 192/500 [04:19<07:46,  1.52s/it]"
     ]
    },
    {
     "name": "stdout",
     "output_type": "stream",
     "text": [
      "191\t3\t3\t2.46326\tTrue\tTrue\t0:00:01.573184\n"
     ]
    },
    {
     "name": "stderr",
     "output_type": "stream",
     "text": [
      " 39%|██████████████████████████████████▋                                                       | 193/500 [04:21<07:52,  1.54s/it]"
     ]
    },
    {
     "name": "stdout",
     "output_type": "stream",
     "text": [
      "192\t0\t0\t2.46326\tTrue\tTrue\t0:00:01.588479\n"
     ]
    },
    {
     "name": "stderr",
     "output_type": "stream",
     "text": [
      " 39%|██████████████████████████████████▉                                                       | 194/500 [04:22<08:00,  1.57s/it]"
     ]
    },
    {
     "name": "stdout",
     "output_type": "stream",
     "text": [
      "193\t7\t7\t2.46326\tTrue\tTrue\t0:00:01.646862\n"
     ]
    },
    {
     "name": "stderr",
     "output_type": "stream",
     "text": [
      " 39%|███████████████████████████████████                                                       | 195/500 [04:24<07:42,  1.52s/it]"
     ]
    },
    {
     "name": "stdout",
     "output_type": "stream",
     "text": [
      "194\t4\t4\t2.46326\tTrue\tTrue\t0:00:01.388498\n"
     ]
    },
    {
     "name": "stderr",
     "output_type": "stream",
     "text": [
      " 39%|███████████████████████████████████▎                                                      | 196/500 [04:25<07:29,  1.48s/it]"
     ]
    },
    {
     "name": "stdout",
     "output_type": "stream",
     "text": [
      "195\t1\t1\t2.46326\tTrue\tTrue\t0:00:01.380826\n"
     ]
    },
    {
     "name": "stderr",
     "output_type": "stream",
     "text": [
      " 39%|███████████████████████████████████▍                                                      | 197/500 [04:27<07:23,  1.46s/it]"
     ]
    },
    {
     "name": "stdout",
     "output_type": "stream",
     "text": [
      "196\t9\t9\t1.33193\tFalse\tTrue\t0:00:01.429855\n"
     ]
    },
    {
     "name": "stderr",
     "output_type": "stream",
     "text": [
      " 40%|███████████████████████████████████▋                                                      | 198/500 [04:28<07:19,  1.45s/it]"
     ]
    },
    {
     "name": "stdout",
     "output_type": "stream",
     "text": [
      "197\t6\t6\t0.28785\tFalse\tTrue\t0:00:01.430050\n"
     ]
    },
    {
     "name": "stderr",
     "output_type": "stream",
     "text": [
      " 40%|███████████████████████████████████▊                                                      | 199/500 [04:29<07:07,  1.42s/it]"
     ]
    },
    {
     "name": "stdout",
     "output_type": "stream",
     "text": [
      "198\t9\t9\t2.46326\tTrue\tTrue\t0:00:01.338618\n"
     ]
    },
    {
     "name": "stderr",
     "output_type": "stream",
     "text": [
      " 40%|████████████████████████████████████                                                      | 200/500 [04:31<07:00,  1.40s/it]"
     ]
    },
    {
     "name": "stdout",
     "output_type": "stream",
     "text": [
      "199\t8\t8\t2.46326\tTrue\tTrue\t0:00:01.360984\n"
     ]
    },
    {
     "name": "stderr",
     "output_type": "stream",
     "text": [
      " 40%|████████████████████████████████████▏                                                     | 201/500 [04:32<06:57,  1.40s/it]"
     ]
    },
    {
     "name": "stdout",
     "output_type": "stream",
     "text": [
      "200\t3\t9\t0.23472\tFalse\tFalse\t0:00:01.376501\n"
     ]
    },
    {
     "name": "stderr",
     "output_type": "stream",
     "text": [
      " 40%|████████████████████████████████████▎                                                     | 202/500 [04:33<06:58,  1.40s/it]"
     ]
    },
    {
     "name": "stdout",
     "output_type": "stream",
     "text": [
      "201\t6\t6\t2.46326\tTrue\tTrue\t0:00:01.421075\n"
     ]
    },
    {
     "name": "stderr",
     "output_type": "stream",
     "text": [
      " 41%|████████████████████████████████████▌                                                     | 203/500 [04:35<06:43,  1.36s/it]"
     ]
    },
    {
     "name": "stdout",
     "output_type": "stream",
     "text": [
      "202\t9\t9\t2.46326\tTrue\tTrue\t0:00:01.254124\n"
     ]
    },
    {
     "name": "stderr",
     "output_type": "stream",
     "text": [
      " 41%|████████████████████████████████████▋                                                     | 204/500 [04:36<06:36,  1.34s/it]"
     ]
    },
    {
     "name": "stdout",
     "output_type": "stream",
     "text": [
      "203\t4\t4\t2.46326\tTrue\tTrue\t0:00:01.288649\n"
     ]
    },
    {
     "name": "stderr",
     "output_type": "stream",
     "text": [
      " 41%|████████████████████████████████████▉                                                     | 205/500 [04:37<06:36,  1.34s/it]"
     ]
    },
    {
     "name": "stdout",
     "output_type": "stream",
     "text": [
      "204\t7\t7\t2.46326\tTrue\tTrue\t0:00:01.354542\n"
     ]
    },
    {
     "name": "stderr",
     "output_type": "stream",
     "text": [
      " 41%|█████████████████████████████████████                                                     | 206/500 [04:39<06:37,  1.35s/it]"
     ]
    },
    {
     "name": "stdout",
     "output_type": "stream",
     "text": [
      "205\t9\t9\t2.46326\tTrue\tTrue\t0:00:01.364936\n"
     ]
    },
    {
     "name": "stderr",
     "output_type": "stream",
     "text": [
      " 41%|█████████████████████████████████████▎                                                    | 207/500 [04:40<06:41,  1.37s/it]"
     ]
    },
    {
     "name": "stdout",
     "output_type": "stream",
     "text": [
      "206\t6\t6\t2.46326\tTrue\tTrue\t0:00:01.406729\n"
     ]
    },
    {
     "name": "stderr",
     "output_type": "stream",
     "text": [
      " 42%|█████████████████████████████████████▍                                                    | 208/500 [04:41<06:38,  1.36s/it]"
     ]
    },
    {
     "name": "stdout",
     "output_type": "stream",
     "text": [
      "207\t5\t3\t2.46326\tFalse\tFalse\t0:00:01.348619\n"
     ]
    },
    {
     "name": "stderr",
     "output_type": "stream",
     "text": [
      " 42%|█████████████████████████████████████▌                                                    | 209/500 [04:43<06:40,  1.38s/it]"
     ]
    },
    {
     "name": "stdout",
     "output_type": "stream",
     "text": [
      "208\t1\t1\t1.13571\tFalse\tTrue\t0:00:01.404215\n"
     ]
    },
    {
     "name": "stderr",
     "output_type": "stream",
     "text": [
      " 42%|█████████████████████████████████████▊                                                    | 210/500 [04:44<06:41,  1.38s/it]"
     ]
    },
    {
     "name": "stdout",
     "output_type": "stream",
     "text": [
      "209\t6\t6\t2.46326\tTrue\tTrue\t0:00:01.395869\n"
     ]
    },
    {
     "name": "stderr",
     "output_type": "stream",
     "text": [
      " 42%|█████████████████████████████████████▉                                                    | 211/500 [04:46<06:41,  1.39s/it]"
     ]
    },
    {
     "name": "stdout",
     "output_type": "stream",
     "text": [
      "210\t3\t3\t1.02065\tFalse\tTrue\t0:00:01.399827\n"
     ]
    },
    {
     "name": "stderr",
     "output_type": "stream",
     "text": [
      " 42%|██████████████████████████████████████▏                                                   | 212/500 [04:47<06:32,  1.36s/it]"
     ]
    },
    {
     "name": "stdout",
     "output_type": "stream",
     "text": [
      "211\t9\t9\t1.61599\tTrue\tTrue\t0:00:01.299187\n"
     ]
    },
    {
     "name": "stderr",
     "output_type": "stream",
     "text": [
      " 43%|██████████████████████████████████████▎                                                   | 213/500 [04:48<06:36,  1.38s/it]"
     ]
    },
    {
     "name": "stdout",
     "output_type": "stream",
     "text": [
      "212\t2\t2\t0.70133\tFalse\tTrue\t0:00:01.418530\n"
     ]
    },
    {
     "name": "stderr",
     "output_type": "stream",
     "text": [
      " 43%|██████████████████████████████████████▌                                                   | 214/500 [04:50<06:38,  1.39s/it]"
     ]
    },
    {
     "name": "stdout",
     "output_type": "stream",
     "text": [
      "213\t2\t6\t0.45453\tFalse\tFalse\t0:00:01.425099\n"
     ]
    },
    {
     "name": "stderr",
     "output_type": "stream",
     "text": [
      " 43%|██████████████████████████████████████▋                                                   | 215/500 [04:51<06:38,  1.40s/it]"
     ]
    },
    {
     "name": "stdout",
     "output_type": "stream",
     "text": [
      "214\t4\t3\t1.67719\tFalse\tFalse\t0:00:01.408934\n"
     ]
    },
    {
     "name": "stderr",
     "output_type": "stream",
     "text": [
      " 43%|██████████████████████████████████████▉                                                   | 216/500 [04:53<06:39,  1.41s/it]"
     ]
    },
    {
     "name": "stdout",
     "output_type": "stream",
     "text": [
      "215\t7\t7\t2.46326\tTrue\tTrue\t0:00:01.425098\n"
     ]
    },
    {
     "name": "stderr",
     "output_type": "stream",
     "text": [
      " 43%|███████████████████████████████████████                                                   | 217/500 [04:54<06:33,  1.39s/it]"
     ]
    },
    {
     "name": "stdout",
     "output_type": "stream",
     "text": [
      "216\t2\t2\t2.46326\tTrue\tTrue\t0:00:01.341811\n"
     ]
    },
    {
     "name": "stderr",
     "output_type": "stream",
     "text": [
      " 44%|███████████████████████████████████████▏                                                  | 218/500 [04:55<06:23,  1.36s/it]"
     ]
    },
    {
     "name": "stdout",
     "output_type": "stream",
     "text": [
      "217\t7\t3\t1.65182\tFalse\tFalse\t0:00:01.284531\n"
     ]
    },
    {
     "name": "stderr",
     "output_type": "stream",
     "text": [
      " 44%|███████████████████████████████████████▍                                                  | 219/500 [04:57<06:15,  1.34s/it]"
     ]
    },
    {
     "name": "stdout",
     "output_type": "stream",
     "text": [
      "218\t3\t3\t2.46326\tTrue\tTrue\t0:00:01.282049\n"
     ]
    },
    {
     "name": "stderr",
     "output_type": "stream",
     "text": [
      " 44%|███████████████████████████████████████▌                                                  | 220/500 [04:58<06:11,  1.33s/it]"
     ]
    },
    {
     "name": "stdout",
     "output_type": "stream",
     "text": [
      "219\t8\t-1\t0.00000\tFalse\tFalse\t0:00:01.300114\n"
     ]
    },
    {
     "name": "stderr",
     "output_type": "stream",
     "text": [
      " 44%|███████████████████████████████████████▊                                                  | 221/500 [04:59<06:16,  1.35s/it]"
     ]
    },
    {
     "name": "stdout",
     "output_type": "stream",
     "text": [
      "220\t6\t6\t2.46326\tTrue\tTrue\t0:00:01.403231\n"
     ]
    },
    {
     "name": "stderr",
     "output_type": "stream",
     "text": [
      " 44%|███████████████████████████████████████▉                                                  | 222/500 [05:01<06:14,  1.35s/it]"
     ]
    },
    {
     "name": "stdout",
     "output_type": "stream",
     "text": [
      "221\t0\t0\t2.46326\tTrue\tTrue\t0:00:01.340521\n"
     ]
    },
    {
     "name": "stderr",
     "output_type": "stream",
     "text": [
      " 45%|████████████████████████████████████████▏                                                 | 223/500 [05:02<06:17,  1.36s/it]"
     ]
    },
    {
     "name": "stdout",
     "output_type": "stream",
     "text": [
      "222\t2\t2\t2.17769\tTrue\tTrue\t0:00:01.392269\n"
     ]
    },
    {
     "name": "stderr",
     "output_type": "stream",
     "text": [
      " 45%|████████████████████████████████████████▎                                                 | 224/500 [05:03<06:13,  1.35s/it]"
     ]
    },
    {
     "name": "stdout",
     "output_type": "stream",
     "text": [
      "223\t3\t0\t0.27181\tFalse\tFalse\t0:00:01.329730\n"
     ]
    },
    {
     "name": "stderr",
     "output_type": "stream",
     "text": [
      " 45%|████████████████████████████████████████▌                                                 | 225/500 [05:05<06:17,  1.37s/it]"
     ]
    },
    {
     "name": "stdout",
     "output_type": "stream",
     "text": [
      "224\t4\t4\t1.59340\tTrue\tTrue\t0:00:01.414635\n"
     ]
    },
    {
     "name": "stderr",
     "output_type": "stream",
     "text": [
      " 45%|████████████████████████████████████████▋                                                 | 226/500 [05:06<06:15,  1.37s/it]"
     ]
    },
    {
     "name": "stdout",
     "output_type": "stream",
     "text": [
      "225\t0\t0\t2.46326\tTrue\tTrue\t0:00:01.364003\n"
     ]
    },
    {
     "name": "stderr",
     "output_type": "stream",
     "text": [
      " 45%|████████████████████████████████████████▊                                                 | 227/500 [05:08<06:15,  1.37s/it]"
     ]
    },
    {
     "name": "stdout",
     "output_type": "stream",
     "text": [
      "226\t9\t9\t2.46326\tTrue\tTrue\t0:00:01.378705\n"
     ]
    },
    {
     "name": "stderr",
     "output_type": "stream",
     "text": [
      " 46%|█████████████████████████████████████████                                                 | 228/500 [05:09<06:09,  1.36s/it]"
     ]
    },
    {
     "name": "stdout",
     "output_type": "stream",
     "text": [
      "227\t3\t3\t2.46326\tTrue\tTrue\t0:00:01.326007\n"
     ]
    },
    {
     "name": "stderr",
     "output_type": "stream",
     "text": [
      " 46%|█████████████████████████████████████████▏                                                | 229/500 [05:10<06:07,  1.35s/it]"
     ]
    },
    {
     "name": "stdout",
     "output_type": "stream",
     "text": [
      "228\t5\t5\t2.46326\tTrue\tTrue\t0:00:01.339941\n"
     ]
    },
    {
     "name": "stderr",
     "output_type": "stream",
     "text": [
      " 46%|█████████████████████████████████████████▍                                                | 230/500 [05:12<06:02,  1.34s/it]"
     ]
    },
    {
     "name": "stdout",
     "output_type": "stream",
     "text": [
      "229\t3\t3\t2.46326\tTrue\tTrue\t0:00:01.306658\n"
     ]
    },
    {
     "name": "stderr",
     "output_type": "stream",
     "text": [
      " 46%|█████████████████████████████████████████▌                                                | 231/500 [05:13<06:03,  1.35s/it]"
     ]
    },
    {
     "name": "stdout",
     "output_type": "stream",
     "text": [
      "230\t7\t7\t2.46326\tTrue\tTrue\t0:00:01.377218\n"
     ]
    },
    {
     "name": "stderr",
     "output_type": "stream",
     "text": [
      " 46%|█████████████████████████████████████████▊                                                | 232/500 [05:14<06:00,  1.35s/it]"
     ]
    },
    {
     "name": "stdout",
     "output_type": "stream",
     "text": [
      "231\t0\t6\t1.36839\tFalse\tFalse\t0:00:01.327317\n"
     ]
    },
    {
     "name": "stderr",
     "output_type": "stream",
     "text": [
      " 47%|█████████████████████████████████████████▉                                                | 233/500 [05:16<05:56,  1.34s/it]"
     ]
    },
    {
     "name": "stdout",
     "output_type": "stream",
     "text": [
      "232\t1\t1\t2.46326\tTrue\tTrue\t0:00:01.311288\n"
     ]
    },
    {
     "name": "stderr",
     "output_type": "stream",
     "text": [
      " 47%|██████████████████████████████████████████                                                | 234/500 [05:17<06:01,  1.36s/it]"
     ]
    },
    {
     "name": "stdout",
     "output_type": "stream",
     "text": [
      "233\t6\t6\t0.85842\tFalse\tTrue\t0:00:01.407551\n"
     ]
    },
    {
     "name": "stderr",
     "output_type": "stream",
     "text": [
      " 47%|██████████████████████████████████████████▎                                               | 235/500 [05:18<05:51,  1.33s/it]"
     ]
    },
    {
     "name": "stdout",
     "output_type": "stream",
     "text": [
      "234\t7\t7\t2.46326\tTrue\tTrue\t0:00:01.249933\n"
     ]
    },
    {
     "name": "stderr",
     "output_type": "stream",
     "text": [
      " 47%|██████████████████████████████████████████▍                                               | 236/500 [05:20<05:55,  1.35s/it]"
     ]
    },
    {
     "name": "stdout",
     "output_type": "stream",
     "text": [
      "235\t2\t2\t2.46326\tTrue\tTrue\t0:00:01.389707\n"
     ]
    },
    {
     "name": "stderr",
     "output_type": "stream",
     "text": [
      " 47%|██████████████████████████████████████████▋                                               | 237/500 [05:21<05:51,  1.34s/it]"
     ]
    },
    {
     "name": "stdout",
     "output_type": "stream",
     "text": [
      "236\t3\t3\t0.91086\tFalse\tTrue\t0:00:01.306831\n"
     ]
    },
    {
     "name": "stderr",
     "output_type": "stream",
     "text": [
      " 48%|██████████████████████████████████████████▊                                               | 238/500 [05:22<05:47,  1.33s/it]"
     ]
    },
    {
     "name": "stdout",
     "output_type": "stream",
     "text": [
      "237\t5\t-1\t0.00000\tFalse\tFalse\t0:00:01.306756\n"
     ]
    },
    {
     "name": "stderr",
     "output_type": "stream",
     "text": [
      " 48%|███████████████████████████████████████████                                               | 239/500 [05:24<05:41,  1.31s/it]"
     ]
    },
    {
     "name": "stdout",
     "output_type": "stream",
     "text": [
      "238\t1\t1\t2.46326\tTrue\tTrue\t0:00:01.268266\n"
     ]
    },
    {
     "name": "stderr",
     "output_type": "stream",
     "text": [
      " 48%|███████████████████████████████████████████▏                                              | 240/500 [05:25<05:38,  1.30s/it]"
     ]
    },
    {
     "name": "stdout",
     "output_type": "stream",
     "text": [
      "239\t0\t0\t2.46326\tTrue\tTrue\t0:00:01.275546\n"
     ]
    },
    {
     "name": "stderr",
     "output_type": "stream",
     "text": [
      " 48%|███████████████████████████████████████████▍                                              | 241/500 [05:26<05:49,  1.35s/it]"
     ]
    },
    {
     "name": "stdout",
     "output_type": "stream",
     "text": [
      "240\t3\t3\t2.46326\tTrue\tTrue\t0:00:01.456505\n"
     ]
    },
    {
     "name": "stderr",
     "output_type": "stream",
     "text": [
      " 48%|███████████████████████████████████████████▌                                              | 242/500 [05:28<06:01,  1.40s/it]"
     ]
    },
    {
     "name": "stdout",
     "output_type": "stream",
     "text": [
      "241\t4\t4\t2.46326\tTrue\tTrue\t0:00:01.523507\n"
     ]
    },
    {
     "name": "stderr",
     "output_type": "stream",
     "text": [
      " 49%|███████████████████████████████████████████▋                                              | 243/500 [05:29<05:57,  1.39s/it]"
     ]
    },
    {
     "name": "stdout",
     "output_type": "stream",
     "text": [
      "242\t8\t8\t2.46326\tTrue\tTrue\t0:00:01.363088\n"
     ]
    },
    {
     "name": "stderr",
     "output_type": "stream",
     "text": [
      " 49%|███████████████████████████████████████████▉                                              | 244/500 [05:31<06:03,  1.42s/it]"
     ]
    },
    {
     "name": "stdout",
     "output_type": "stream",
     "text": [
      "243\t1\t1\t0.43725\tFalse\tTrue\t0:00:01.490285\n"
     ]
    },
    {
     "name": "stderr",
     "output_type": "stream",
     "text": [
      " 49%|████████████████████████████████████████████                                              | 245/500 [05:32<06:02,  1.42s/it]"
     ]
    },
    {
     "name": "stdout",
     "output_type": "stream",
     "text": [
      "244\t3\t3\t2.46326\tTrue\tTrue\t0:00:01.421390\n"
     ]
    },
    {
     "name": "stderr",
     "output_type": "stream",
     "text": [
      " 49%|████████████████████████████████████████████▎                                             | 246/500 [05:33<05:50,  1.38s/it]"
     ]
    },
    {
     "name": "stdout",
     "output_type": "stream",
     "text": [
      "245\t1\t1\t2.46326\tTrue\tTrue\t0:00:01.278193\n"
     ]
    },
    {
     "name": "stderr",
     "output_type": "stream",
     "text": [
      " 49%|████████████████████████████████████████████▍                                             | 247/500 [05:35<05:42,  1.35s/it]"
     ]
    },
    {
     "name": "stdout",
     "output_type": "stream",
     "text": [
      "246\t6\t6\t0.15405\tFalse\tTrue\t0:00:01.293452\n"
     ]
    },
    {
     "name": "stderr",
     "output_type": "stream",
     "text": [
      " 50%|████████████████████████████████████████████▋                                             | 248/500 [05:36<05:34,  1.33s/it]"
     ]
    },
    {
     "name": "stdout",
     "output_type": "stream",
     "text": [
      "247\t0\t0\t2.46326\tTrue\tTrue\t0:00:01.256490\n"
     ]
    },
    {
     "name": "stderr",
     "output_type": "stream",
     "text": [
      " 50%|████████████████████████████████████████████▊                                             | 249/500 [05:37<05:30,  1.32s/it]"
     ]
    },
    {
     "name": "stdout",
     "output_type": "stream",
     "text": [
      "248\t6\t6\t2.46326\tTrue\tTrue\t0:00:01.290612\n"
     ]
    },
    {
     "name": "stderr",
     "output_type": "stream",
     "text": [
      " 50%|█████████████████████████████████████████████                                             | 250/500 [05:38<05:26,  1.30s/it]"
     ]
    },
    {
     "name": "stdout",
     "output_type": "stream",
     "text": [
      "249\t1\t1\t2.46326\tTrue\tTrue\t0:00:01.274106\n"
     ]
    },
    {
     "name": "stderr",
     "output_type": "stream",
     "text": [
      " 50%|█████████████████████████████████████████████▏                                            | 251/500 [05:40<05:20,  1.29s/it]"
     ]
    },
    {
     "name": "stdout",
     "output_type": "stream",
     "text": [
      "250\t2\t0\t0.60583\tFalse\tFalse\t0:00:01.243041\n"
     ]
    },
    {
     "name": "stderr",
     "output_type": "stream",
     "text": [
      " 50%|█████████████████████████████████████████████▎                                            | 252/500 [05:41<05:18,  1.28s/it]"
     ]
    },
    {
     "name": "stdout",
     "output_type": "stream",
     "text": [
      "251\t8\t8\t2.46326\tTrue\tTrue\t0:00:01.279381\n"
     ]
    },
    {
     "name": "stderr",
     "output_type": "stream",
     "text": [
      " 51%|█████████████████████████████████████████████▌                                            | 253/500 [05:42<05:27,  1.33s/it]"
     ]
    },
    {
     "name": "stdout",
     "output_type": "stream",
     "text": [
      "252\t5\t5\t2.46326\tTrue\tTrue\t0:00:01.418235\n"
     ]
    },
    {
     "name": "stderr",
     "output_type": "stream",
     "text": [
      " 51%|█████████████████████████████████████████████▋                                            | 254/500 [05:44<05:34,  1.36s/it]"
     ]
    },
    {
     "name": "stdout",
     "output_type": "stream",
     "text": [
      "253\t2\t-1\t0.00000\tFalse\tFalse\t0:00:01.432791\n"
     ]
    },
    {
     "name": "stderr",
     "output_type": "stream",
     "text": [
      " 51%|█████████████████████████████████████████████▉                                            | 255/500 [05:45<05:36,  1.37s/it]"
     ]
    },
    {
     "name": "stdout",
     "output_type": "stream",
     "text": [
      "254\t3\t-1\t0.00000\tFalse\tFalse\t0:00:01.408822\n"
     ]
    },
    {
     "name": "stderr",
     "output_type": "stream",
     "text": [
      " 51%|██████████████████████████████████████████████                                            | 256/500 [05:47<05:34,  1.37s/it]"
     ]
    },
    {
     "name": "stdout",
     "output_type": "stream",
     "text": [
      "255\t8\t8\t2.46326\tTrue\tTrue\t0:00:01.360328\n"
     ]
    },
    {
     "name": "stderr",
     "output_type": "stream",
     "text": [
      " 51%|██████████████████████████████████████████████▎                                           | 257/500 [05:48<05:27,  1.35s/it]"
     ]
    },
    {
     "name": "stdout",
     "output_type": "stream",
     "text": [
      "256\t8\t8\t2.46326\tTrue\tTrue\t0:00:01.287776\n"
     ]
    },
    {
     "name": "stderr",
     "output_type": "stream",
     "text": [
      " 52%|██████████████████████████████████████████████▍                                           | 258/500 [05:49<05:19,  1.32s/it]"
     ]
    },
    {
     "name": "stdout",
     "output_type": "stream",
     "text": [
      "257\t4\t4\t2.46326\tTrue\tTrue\t0:00:01.248894\n"
     ]
    },
    {
     "name": "stderr",
     "output_type": "stream",
     "text": [
      " 52%|██████████████████████████████████████████████▌                                           | 259/500 [05:50<05:14,  1.30s/it]"
     ]
    },
    {
     "name": "stdout",
     "output_type": "stream",
     "text": [
      "258\t5\t5\t2.46326\tTrue\tTrue\t0:00:01.265485\n"
     ]
    },
    {
     "name": "stderr",
     "output_type": "stream",
     "text": [
      " 52%|██████████████████████████████████████████████▊                                           | 260/500 [05:52<05:14,  1.31s/it]"
     ]
    },
    {
     "name": "stdout",
     "output_type": "stream",
     "text": [
      "259\t5\t5\t2.46326\tTrue\tTrue\t0:00:01.330663\n"
     ]
    },
    {
     "name": "stderr",
     "output_type": "stream",
     "text": [
      " 52%|██████████████████████████████████████████████▉                                           | 261/500 [05:53<05:16,  1.32s/it]"
     ]
    },
    {
     "name": "stdout",
     "output_type": "stream",
     "text": [
      "260\t6\t6\t2.46326\tTrue\tTrue\t0:00:01.352067\n"
     ]
    },
    {
     "name": "stderr",
     "output_type": "stream",
     "text": [
      " 52%|███████████████████████████████████████████████▏                                          | 262/500 [05:54<05:15,  1.32s/it]"
     ]
    },
    {
     "name": "stdout",
     "output_type": "stream",
     "text": [
      "261\t3\t-1\t0.00000\tFalse\tFalse\t0:00:01.322394\n"
     ]
    },
    {
     "name": "stderr",
     "output_type": "stream",
     "text": [
      " 53%|███████████████████████████████████████████████▎                                          | 263/500 [05:56<05:13,  1.32s/it]"
     ]
    },
    {
     "name": "stdout",
     "output_type": "stream",
     "text": [
      "262\t3\t3\t1.23319\tFalse\tTrue\t0:00:01.314956\n"
     ]
    },
    {
     "name": "stderr",
     "output_type": "stream",
     "text": [
      " 53%|███████████████████████████████████████████████▌                                          | 264/500 [05:57<05:07,  1.30s/it]"
     ]
    },
    {
     "name": "stdout",
     "output_type": "stream",
     "text": [
      "263\t7\t7\t2.46326\tTrue\tTrue\t0:00:01.256857\n"
     ]
    },
    {
     "name": "stderr",
     "output_type": "stream",
     "text": [
      " 53%|███████████████████████████████████████████████▋                                          | 265/500 [05:58<05:04,  1.30s/it]"
     ]
    },
    {
     "name": "stdout",
     "output_type": "stream",
     "text": [
      "264\t6\t-1\t0.00000\tFalse\tFalse\t0:00:01.275703\n"
     ]
    },
    {
     "name": "stderr",
     "output_type": "stream",
     "text": [
      " 53%|███████████████████████████████████████████████▉                                          | 266/500 [06:00<05:05,  1.30s/it]"
     ]
    },
    {
     "name": "stdout",
     "output_type": "stream",
     "text": [
      "265\t2\t0\t0.36683\tFalse\tFalse\t0:00:01.319115\n"
     ]
    },
    {
     "name": "stderr",
     "output_type": "stream",
     "text": [
      " 53%|████████████████████████████████████████████████                                          | 267/500 [06:01<05:09,  1.33s/it]"
     ]
    },
    {
     "name": "stdout",
     "output_type": "stream",
     "text": [
      "266\t7\t7\t2.46326\tTrue\tTrue\t0:00:01.376774\n"
     ]
    },
    {
     "name": "stderr",
     "output_type": "stream",
     "text": [
      " 54%|████████████████████████████████████████████████▏                                         | 268/500 [06:02<05:03,  1.31s/it]"
     ]
    },
    {
     "name": "stdout",
     "output_type": "stream",
     "text": [
      "267\t5\t-1\t0.00000\tFalse\tFalse\t0:00:01.259291\n"
     ]
    },
    {
     "name": "stderr",
     "output_type": "stream",
     "text": [
      " 54%|████████████████████████████████████████████████▍                                         | 269/500 [06:04<05:01,  1.30s/it]"
     ]
    },
    {
     "name": "stdout",
     "output_type": "stream",
     "text": [
      "268\t6\t6\t0.94458\tFalse\tTrue\t0:00:01.293191\n"
     ]
    },
    {
     "name": "stderr",
     "output_type": "stream",
     "text": [
      " 54%|████████████████████████████████████████████████▌                                         | 270/500 [06:05<05:08,  1.34s/it]"
     ]
    },
    {
     "name": "stdout",
     "output_type": "stream",
     "text": [
      "269\t6\t6\t2.46326\tTrue\tTrue\t0:00:01.433435\n"
     ]
    },
    {
     "name": "stderr",
     "output_type": "stream",
     "text": [
      " 54%|████████████████████████████████████████████████▊                                         | 271/500 [06:06<05:08,  1.35s/it]"
     ]
    },
    {
     "name": "stdout",
     "output_type": "stream",
     "text": [
      "270\t4\t5\t2.35765\tFalse\tFalse\t0:00:01.352353\n"
     ]
    },
    {
     "name": "stderr",
     "output_type": "stream",
     "text": [
      " 54%|████████████████████████████████████████████████▉                                         | 272/500 [06:08<05:10,  1.36s/it]"
     ]
    },
    {
     "name": "stdout",
     "output_type": "stream",
     "text": [
      "271\t6\t6\t2.46326\tTrue\tTrue\t0:00:01.388945\n"
     ]
    },
    {
     "name": "stderr",
     "output_type": "stream",
     "text": [
      " 55%|█████████████████████████████████████████████████▏                                        | 273/500 [06:09<05:12,  1.38s/it]"
     ]
    },
    {
     "name": "stdout",
     "output_type": "stream",
     "text": [
      "272\t8\t8\t2.46326\tTrue\tTrue\t0:00:01.416844\n"
     ]
    },
    {
     "name": "stderr",
     "output_type": "stream",
     "text": [
      " 55%|█████████████████████████████████████████████████▎                                        | 274/500 [06:11<05:10,  1.38s/it]"
     ]
    },
    {
     "name": "stdout",
     "output_type": "stream",
     "text": [
      "273\t0\t0\t2.46326\tTrue\tTrue\t0:00:01.367326\n"
     ]
    },
    {
     "name": "stderr",
     "output_type": "stream",
     "text": [
      " 55%|█████████████████████████████████████████████████▌                                        | 275/500 [06:12<05:06,  1.36s/it]"
     ]
    },
    {
     "name": "stdout",
     "output_type": "stream",
     "text": [
      "274\t7\t-1\t0.00000\tFalse\tFalse\t0:00:01.324482\n"
     ]
    },
    {
     "name": "stderr",
     "output_type": "stream",
     "text": [
      " 55%|█████████████████████████████████████████████████▋                                        | 276/500 [06:13<05:03,  1.36s/it]"
     ]
    },
    {
     "name": "stdout",
     "output_type": "stream",
     "text": [
      "275\t5\t5\t2.46326\tTrue\tTrue\t0:00:01.345322\n"
     ]
    },
    {
     "name": "stderr",
     "output_type": "stream",
     "text": [
      " 55%|█████████████████████████████████████████████████▊                                        | 277/500 [06:15<05:02,  1.35s/it]"
     ]
    },
    {
     "name": "stdout",
     "output_type": "stream",
     "text": [
      "276\t3\t3\t2.46326\tTrue\tTrue\t0:00:01.345650\n"
     ]
    },
    {
     "name": "stderr",
     "output_type": "stream",
     "text": [
      " 56%|██████████████████████████████████████████████████                                        | 278/500 [06:16<05:14,  1.42s/it]"
     ]
    },
    {
     "name": "stdout",
     "output_type": "stream",
     "text": [
      "277\t3\t3\t2.46326\tTrue\tTrue\t0:00:01.563207\n"
     ]
    },
    {
     "name": "stderr",
     "output_type": "stream",
     "text": [
      " 56%|██████████████████████████████████████████████████▏                                       | 279/500 [06:18<05:20,  1.45s/it]"
     ]
    },
    {
     "name": "stdout",
     "output_type": "stream",
     "text": [
      "278\t3\t3\t2.46326\tTrue\tTrue\t0:00:01.530082\n"
     ]
    },
    {
     "name": "stderr",
     "output_type": "stream",
     "text": [
      " 56%|██████████████████████████████████████████████████▍                                       | 280/500 [06:19<05:08,  1.40s/it]"
     ]
    },
    {
     "name": "stdout",
     "output_type": "stream",
     "text": [
      "279\t4\t4\t2.46326\tTrue\tTrue\t0:00:01.279711\n"
     ]
    },
    {
     "name": "stderr",
     "output_type": "stream",
     "text": [
      " 56%|██████████████████████████████████████████████████▌                                       | 281/500 [06:20<04:57,  1.36s/it]"
     ]
    },
    {
     "name": "stdout",
     "output_type": "stream",
     "text": [
      "280\t0\t0\t2.46326\tTrue\tTrue\t0:00:01.257190\n"
     ]
    },
    {
     "name": "stderr",
     "output_type": "stream",
     "text": [
      " 56%|██████████████████████████████████████████████████▊                                       | 282/500 [06:22<04:57,  1.36s/it]"
     ]
    },
    {
     "name": "stdout",
     "output_type": "stream",
     "text": [
      "281\t8\t8\t2.46326\tTrue\tTrue\t0:00:01.374150\n"
     ]
    },
    {
     "name": "stderr",
     "output_type": "stream",
     "text": [
      " 57%|██████████████████████████████████████████████████▉                                       | 283/500 [06:23<05:00,  1.38s/it]"
     ]
    },
    {
     "name": "stdout",
     "output_type": "stream",
     "text": [
      "282\t0\t0\t1.63960\tTrue\tTrue\t0:00:01.428709\n"
     ]
    },
    {
     "name": "stderr",
     "output_type": "stream",
     "text": [
      " 57%|███████████████████████████████████████████████████                                       | 284/500 [06:24<04:57,  1.38s/it]"
     ]
    },
    {
     "name": "stdout",
     "output_type": "stream",
     "text": [
      "283\t2\t2\t2.46326\tTrue\tTrue\t0:00:01.353264\n"
     ]
    },
    {
     "name": "stderr",
     "output_type": "stream",
     "text": [
      " 57%|███████████████████████████████████████████████████▎                                      | 285/500 [06:26<04:50,  1.35s/it]"
     ]
    },
    {
     "name": "stdout",
     "output_type": "stream",
     "text": [
      "284\t9\t9\t1.17431\tFalse\tTrue\t0:00:01.289805\n"
     ]
    },
    {
     "name": "stderr",
     "output_type": "stream",
     "text": [
      " 57%|███████████████████████████████████████████████████▍                                      | 286/500 [06:27<04:47,  1.35s/it]"
     ]
    },
    {
     "name": "stdout",
     "output_type": "stream",
     "text": [
      "285\t4\t6\t1.62766\tFalse\tFalse\t0:00:01.331128\n"
     ]
    },
    {
     "name": "stderr",
     "output_type": "stream",
     "text": [
      " 57%|███████████████████████████████████████████████████▋                                      | 287/500 [06:29<05:03,  1.42s/it]"
     ]
    },
    {
     "name": "stdout",
     "output_type": "stream",
     "text": [
      "286\t9\t-1\t0.00000\tFalse\tFalse\t0:00:01.602000\n"
     ]
    },
    {
     "name": "stderr",
     "output_type": "stream",
     "text": [
      " 58%|███████████████████████████████████████████████████▊                                      | 288/500 [06:30<04:58,  1.41s/it]"
     ]
    },
    {
     "name": "stdout",
     "output_type": "stream",
     "text": [
      "287\t3\t5\t2.46326\tFalse\tFalse\t0:00:01.375328\n"
     ]
    },
    {
     "name": "stderr",
     "output_type": "stream",
     "text": [
      " 58%|████████████████████████████████████████████████████                                      | 289/500 [06:31<04:52,  1.39s/it]"
     ]
    },
    {
     "name": "stdout",
     "output_type": "stream",
     "text": [
      "288\t6\t6\t2.46326\tTrue\tTrue\t0:00:01.331764\n"
     ]
    },
    {
     "name": "stderr",
     "output_type": "stream",
     "text": [
      " 58%|████████████████████████████████████████████████████▏                                     | 290/500 [06:33<04:45,  1.36s/it]"
     ]
    },
    {
     "name": "stdout",
     "output_type": "stream",
     "text": [
      "289\t6\t-1\t0.00000\tFalse\tFalse\t0:00:01.288687\n"
     ]
    },
    {
     "name": "stderr",
     "output_type": "stream",
     "text": [
      " 58%|████████████████████████████████████████████████████▍                                     | 291/500 [06:34<04:40,  1.34s/it]"
     ]
    },
    {
     "name": "stdout",
     "output_type": "stream",
     "text": [
      "290\t8\t8\t2.46326\tTrue\tTrue\t0:00:01.306687\n"
     ]
    },
    {
     "name": "stderr",
     "output_type": "stream",
     "text": [
      " 58%|████████████████████████████████████████████████████▌                                     | 292/500 [06:35<04:34,  1.32s/it]"
     ]
    },
    {
     "name": "stdout",
     "output_type": "stream",
     "text": [
      "291\t1\t1\t2.46326\tTrue\tTrue\t0:00:01.259376\n"
     ]
    },
    {
     "name": "stderr",
     "output_type": "stream",
     "text": [
      " 59%|████████████████████████████████████████████████████▋                                     | 293/500 [06:36<04:28,  1.30s/it]"
     ]
    },
    {
     "name": "stdout",
     "output_type": "stream",
     "text": [
      "292\t3\t3\t2.46326\tTrue\tTrue\t0:00:01.238915\n"
     ]
    },
    {
     "name": "stderr",
     "output_type": "stream",
     "text": [
      " 59%|████████████████████████████████████████████████████▉                                     | 294/500 [06:38<04:30,  1.31s/it]"
     ]
    },
    {
     "name": "stdout",
     "output_type": "stream",
     "text": [
      "293\t7\t7\t2.46326\tTrue\tTrue\t0:00:01.347291\n"
     ]
    },
    {
     "name": "stderr",
     "output_type": "stream",
     "text": [
      " 59%|█████████████████████████████████████████████████████                                     | 295/500 [06:39<04:33,  1.33s/it]"
     ]
    },
    {
     "name": "stdout",
     "output_type": "stream",
     "text": [
      "294\t8\t8\t2.46326\tTrue\tTrue\t0:00:01.375847\n"
     ]
    },
    {
     "name": "stderr",
     "output_type": "stream",
     "text": [
      " 59%|█████████████████████████████████████████████████████▎                                    | 296/500 [06:40<04:30,  1.32s/it]"
     ]
    },
    {
     "name": "stdout",
     "output_type": "stream",
     "text": [
      "295\t1\t1\t2.46326\tTrue\tTrue\t0:00:01.306422\n"
     ]
    },
    {
     "name": "stderr",
     "output_type": "stream",
     "text": [
      " 59%|█████████████████████████████████████████████████████▍                                    | 297/500 [06:42<04:26,  1.31s/it]"
     ]
    },
    {
     "name": "stdout",
     "output_type": "stream",
     "text": [
      "296\t9\t9\t2.46326\tTrue\tTrue\t0:00:01.276052\n"
     ]
    },
    {
     "name": "stderr",
     "output_type": "stream",
     "text": [
      " 60%|█████████████████████████████████████████████████████▋                                    | 298/500 [06:43<04:25,  1.32s/it]"
     ]
    },
    {
     "name": "stdout",
     "output_type": "stream",
     "text": [
      "297\t3\t3\t1.70392\tTrue\tTrue\t0:00:01.326333\n"
     ]
    },
    {
     "name": "stderr",
     "output_type": "stream",
     "text": [
      " 60%|█████████████████████████████████████████████████████▊                                    | 299/500 [06:44<04:23,  1.31s/it]"
     ]
    },
    {
     "name": "stdout",
     "output_type": "stream",
     "text": [
      "298\t7\t-1\t0.00000\tFalse\tFalse\t0:00:01.293225\n"
     ]
    },
    {
     "name": "stderr",
     "output_type": "stream",
     "text": [
      " 60%|██████████████████████████████████████████████████████                                    | 300/500 [06:46<04:23,  1.32s/it]"
     ]
    },
    {
     "name": "stdout",
     "output_type": "stream",
     "text": [
      "299\t8\t8\t2.46326\tTrue\tTrue\t0:00:01.339170\n"
     ]
    },
    {
     "name": "stderr",
     "output_type": "stream",
     "text": [
      " 60%|██████████████████████████████████████████████████████▏                                   | 301/500 [06:47<04:20,  1.31s/it]"
     ]
    },
    {
     "name": "stdout",
     "output_type": "stream",
     "text": [
      "300\t2\t2\t2.46326\tTrue\tTrue\t0:00:01.284280\n"
     ]
    },
    {
     "name": "stderr",
     "output_type": "stream",
     "text": [
      " 60%|██████████████████████████████████████████████████████▎                                   | 302/500 [06:48<04:19,  1.31s/it]"
     ]
    },
    {
     "name": "stdout",
     "output_type": "stream",
     "text": [
      "301\t1\t1\t2.46326\tTrue\tTrue\t0:00:01.314804\n"
     ]
    },
    {
     "name": "stderr",
     "output_type": "stream",
     "text": [
      " 61%|██████████████████████████████████████████████████████▌                                   | 303/500 [06:50<04:17,  1.31s/it]"
     ]
    },
    {
     "name": "stdout",
     "output_type": "stream",
     "text": [
      "302\t5\t5\t2.46326\tTrue\tTrue\t0:00:01.288509\n"
     ]
    },
    {
     "name": "stderr",
     "output_type": "stream",
     "text": [
      " 61%|██████████████████████████████████████████████████████▋                                   | 304/500 [06:51<04:19,  1.33s/it]"
     ]
    },
    {
     "name": "stdout",
     "output_type": "stream",
     "text": [
      "303\t6\t0\t0.96192\tFalse\tFalse\t0:00:01.371720\n"
     ]
    },
    {
     "name": "stderr",
     "output_type": "stream",
     "text": [
      " 61%|██████████████████████████████████████████████████████▉                                   | 305/500 [06:52<04:23,  1.35s/it]"
     ]
    },
    {
     "name": "stdout",
     "output_type": "stream",
     "text": [
      "304\t8\t8\t2.46326\tTrue\tTrue\t0:00:01.407482\n"
     ]
    },
    {
     "name": "stderr",
     "output_type": "stream",
     "text": [
      " 61%|███████████████████████████████████████████████████████                                   | 306/500 [06:54<04:23,  1.36s/it]"
     ]
    },
    {
     "name": "stdout",
     "output_type": "stream",
     "text": [
      "305\t7\t7\t2.46326\tTrue\tTrue\t0:00:01.380373\n"
     ]
    },
    {
     "name": "stderr",
     "output_type": "stream",
     "text": [
      " 61%|███████████████████████████████████████████████████████▎                                  | 307/500 [06:55<04:28,  1.39s/it]"
     ]
    },
    {
     "name": "stdout",
     "output_type": "stream",
     "text": [
      "306\t3\t2\t0.56817\tFalse\tFalse\t0:00:01.461251\n"
     ]
    },
    {
     "name": "stderr",
     "output_type": "stream",
     "text": [
      " 62%|███████████████████████████████████████████████████████▍                                  | 308/500 [06:57<04:28,  1.40s/it]"
     ]
    },
    {
     "name": "stdout",
     "output_type": "stream",
     "text": [
      "307\t9\t9\t2.46326\tTrue\tTrue\t0:00:01.403016\n"
     ]
    },
    {
     "name": "stderr",
     "output_type": "stream",
     "text": [
      " 62%|███████████████████████████████████████████████████████▌                                  | 309/500 [06:58<04:28,  1.41s/it]"
     ]
    },
    {
     "name": "stdout",
     "output_type": "stream",
     "text": [
      "308\t0\t8\t0.72897\tFalse\tFalse\t0:00:01.428570\n"
     ]
    },
    {
     "name": "stderr",
     "output_type": "stream",
     "text": [
      " 62%|███████████████████████████████████████████████████████▊                                  | 310/500 [06:59<04:26,  1.40s/it]"
     ]
    },
    {
     "name": "stdout",
     "output_type": "stream",
     "text": [
      "309\t3\t3\t0.73950\tFalse\tTrue\t0:00:01.389141\n"
     ]
    },
    {
     "name": "stderr",
     "output_type": "stream",
     "text": [
      " 62%|███████████████████████████████████████████████████████▉                                  | 311/500 [07:01<04:26,  1.41s/it]"
     ]
    },
    {
     "name": "stdout",
     "output_type": "stream",
     "text": [
      "310\t7\t7\t2.46326\tTrue\tTrue\t0:00:01.419129\n"
     ]
    },
    {
     "name": "stderr",
     "output_type": "stream",
     "text": [
      " 62%|████████████████████████████████████████████████████████▏                                 | 312/500 [07:02<04:16,  1.36s/it]"
     ]
    },
    {
     "name": "stdout",
     "output_type": "stream",
     "text": [
      "311\t7\t7\t2.46326\tTrue\tTrue\t0:00:01.252451\n"
     ]
    },
    {
     "name": "stderr",
     "output_type": "stream",
     "text": [
      " 63%|████████████████████████████████████████████████████████▎                                 | 313/500 [07:03<04:13,  1.35s/it]"
     ]
    },
    {
     "name": "stdout",
     "output_type": "stream",
     "text": [
      "312\t1\t1\t2.46326\tTrue\tTrue\t0:00:01.335218\n"
     ]
    },
    {
     "name": "stderr",
     "output_type": "stream",
     "text": [
      " 63%|████████████████████████████████████████████████████████▌                                 | 314/500 [07:05<04:04,  1.31s/it]"
     ]
    },
    {
     "name": "stdout",
     "output_type": "stream",
     "text": [
      "313\t2\t2\t0.91501\tFalse\tTrue\t0:00:01.216135\n"
     ]
    },
    {
     "name": "stderr",
     "output_type": "stream",
     "text": [
      " 63%|████████████████████████████████████████████████████████▋                                 | 315/500 [07:06<03:59,  1.29s/it]"
     ]
    },
    {
     "name": "stdout",
     "output_type": "stream",
     "text": [
      "314\t2\t2\t0.60266\tFalse\tTrue\t0:00:01.239552\n"
     ]
    },
    {
     "name": "stderr",
     "output_type": "stream",
     "text": [
      " 63%|████████████████████████████████████████████████████████▉                                 | 316/500 [07:07<03:54,  1.27s/it]"
     ]
    },
    {
     "name": "stdout",
     "output_type": "stream",
     "text": [
      "315\t7\t7\t2.46326\tTrue\tTrue\t0:00:01.231045\n"
     ]
    },
    {
     "name": "stderr",
     "output_type": "stream",
     "text": [
      " 63%|█████████████████████████████████████████████████████████                                 | 317/500 [07:08<03:56,  1.29s/it]"
     ]
    },
    {
     "name": "stdout",
     "output_type": "stream",
     "text": [
      "316\t8\t8\t2.46326\tTrue\tTrue\t0:00:01.328144\n"
     ]
    },
    {
     "name": "stderr",
     "output_type": "stream",
     "text": [
      " 64%|█████████████████████████████████████████████████████████▏                                | 318/500 [07:10<03:51,  1.27s/it]"
     ]
    },
    {
     "name": "stdout",
     "output_type": "stream",
     "text": [
      "317\t1\t1\t2.46326\tTrue\tTrue\t0:00:01.218631\n"
     ]
    },
    {
     "name": "stderr",
     "output_type": "stream",
     "text": [
      " 64%|█████████████████████████████████████████████████████████▍                                | 319/500 [07:11<03:52,  1.28s/it]"
     ]
    },
    {
     "name": "stdout",
     "output_type": "stream",
     "text": [
      "318\t5\t5\t2.46326\tTrue\tTrue\t0:00:01.310790\n"
     ]
    },
    {
     "name": "stderr",
     "output_type": "stream",
     "text": [
      " 64%|█████████████████████████████████████████████████████████▌                                | 320/500 [07:12<03:51,  1.29s/it]"
     ]
    },
    {
     "name": "stdout",
     "output_type": "stream",
     "text": [
      "319\t7\t7\t2.46326\tTrue\tTrue\t0:00:01.296627\n"
     ]
    },
    {
     "name": "stderr",
     "output_type": "stream",
     "text": [
      " 64%|█████████████████████████████████████████████████████████▊                                | 321/500 [07:14<03:49,  1.28s/it]"
     ]
    },
    {
     "name": "stdout",
     "output_type": "stream",
     "text": [
      "320\t0\t8\t0.75370\tFalse\tFalse\t0:00:01.274564\n"
     ]
    },
    {
     "name": "stderr",
     "output_type": "stream",
     "text": [
      " 64%|█████████████████████████████████████████████████████████▉                                | 322/500 [07:15<03:54,  1.32s/it]"
     ]
    },
    {
     "name": "stdout",
     "output_type": "stream",
     "text": [
      "321\t0\t0\t2.46326\tTrue\tTrue\t0:00:01.392319\n"
     ]
    },
    {
     "name": "stderr",
     "output_type": "stream",
     "text": [
      " 65%|██████████████████████████████████████████████████████████▏                               | 323/500 [07:16<03:54,  1.32s/it]"
     ]
    },
    {
     "name": "stdout",
     "output_type": "stream",
     "text": [
      "322\t7\t2\t2.46326\tFalse\tFalse\t0:00:01.330611\n"
     ]
    },
    {
     "name": "stderr",
     "output_type": "stream",
     "text": [
      " 65%|██████████████████████████████████████████████████████████▎                               | 324/500 [07:18<03:54,  1.33s/it]"
     ]
    },
    {
     "name": "stdout",
     "output_type": "stream",
     "text": [
      "323\t4\t4\t2.46326\tTrue\tTrue\t0:00:01.359145\n"
     ]
    },
    {
     "name": "stderr",
     "output_type": "stream",
     "text": [
      " 65%|██████████████████████████████████████████████████████████▌                               | 325/500 [07:19<03:56,  1.35s/it]"
     ]
    },
    {
     "name": "stdout",
     "output_type": "stream",
     "text": [
      "324\t5\t3\t1.43986\tFalse\tFalse\t0:00:01.392875\n"
     ]
    },
    {
     "name": "stderr",
     "output_type": "stream",
     "text": [
      " 65%|██████████████████████████████████████████████████████████▋                               | 326/500 [07:20<03:49,  1.32s/it]"
     ]
    },
    {
     "name": "stdout",
     "output_type": "stream",
     "text": [
      "325\t6\t6\t2.46326\tTrue\tTrue\t0:00:01.232972\n"
     ]
    },
    {
     "name": "stderr",
     "output_type": "stream",
     "text": [
      " 65%|██████████████████████████████████████████████████████████▊                               | 327/500 [07:22<03:47,  1.32s/it]"
     ]
    },
    {
     "name": "stdout",
     "output_type": "stream",
     "text": [
      "326\t6\t6\t2.46326\tTrue\tTrue\t0:00:01.314895\n"
     ]
    },
    {
     "name": "stderr",
     "output_type": "stream",
     "text": [
      " 66%|███████████████████████████████████████████████████████████                               | 328/500 [07:23<03:45,  1.31s/it]"
     ]
    },
    {
     "name": "stdout",
     "output_type": "stream",
     "text": [
      "327\t4\t4\t2.46326\tTrue\tTrue\t0:00:01.295074\n"
     ]
    },
    {
     "name": "stderr",
     "output_type": "stream",
     "text": [
      " 66%|███████████████████████████████████████████████████████████▏                              | 329/500 [07:24<03:44,  1.31s/it]"
     ]
    },
    {
     "name": "stdout",
     "output_type": "stream",
     "text": [
      "328\t9\t9\t2.46326\tTrue\tTrue\t0:00:01.315730\n"
     ]
    },
    {
     "name": "stderr",
     "output_type": "stream",
     "text": [
      " 66%|███████████████████████████████████████████████████████████▍                              | 330/500 [07:26<03:45,  1.32s/it]"
     ]
    },
    {
     "name": "stdout",
     "output_type": "stream",
     "text": [
      "329\t1\t1\t2.46326\tTrue\tTrue\t0:00:01.346484\n"
     ]
    },
    {
     "name": "stderr",
     "output_type": "stream",
     "text": [
      " 66%|███████████████████████████████████████████████████████████▌                              | 331/500 [07:27<03:45,  1.33s/it]"
     ]
    },
    {
     "name": "stdout",
     "output_type": "stream",
     "text": [
      "330\t5\t5\t2.46326\tTrue\tTrue\t0:00:01.346305\n"
     ]
    },
    {
     "name": "stderr",
     "output_type": "stream",
     "text": [
      " 66%|███████████████████████████████████████████████████████████▊                              | 332/500 [07:28<03:46,  1.35s/it]"
     ]
    },
    {
     "name": "stdout",
     "output_type": "stream",
     "text": [
      "331\t5\t7\t0.97958\tFalse\tFalse\t0:00:01.377717\n"
     ]
    },
    {
     "name": "stderr",
     "output_type": "stream",
     "text": [
      " 67%|███████████████████████████████████████████████████████████▉                              | 333/500 [07:30<03:50,  1.38s/it]"
     ]
    },
    {
     "name": "stdout",
     "output_type": "stream",
     "text": [
      "332\t0\t0\t2.46326\tTrue\tTrue\t0:00:01.457138\n"
     ]
    },
    {
     "name": "stderr",
     "output_type": "stream",
     "text": [
      " 67%|████████████████████████████████████████████████████████████                              | 334/500 [07:31<03:51,  1.39s/it]"
     ]
    },
    {
     "name": "stdout",
     "output_type": "stream",
     "text": [
      "333\t3\t3\t1.66435\tTrue\tTrue\t0:00:01.426083\n"
     ]
    },
    {
     "name": "stderr",
     "output_type": "stream",
     "text": [
      " 67%|████████████████████████████████████████████████████████████▎                             | 335/500 [07:33<03:54,  1.42s/it]"
     ]
    },
    {
     "name": "stdout",
     "output_type": "stream",
     "text": [
      "334\t1\t1\t2.46326\tTrue\tTrue\t0:00:01.480549\n"
     ]
    },
    {
     "name": "stderr",
     "output_type": "stream",
     "text": [
      " 67%|████████████████████████████████████████████████████████████▍                             | 336/500 [07:34<03:48,  1.39s/it]"
     ]
    },
    {
     "name": "stdout",
     "output_type": "stream",
     "text": [
      "335\t6\t6\t2.46326\tTrue\tTrue\t0:00:01.320747\n"
     ]
    },
    {
     "name": "stderr",
     "output_type": "stream",
     "text": [
      " 67%|████████████████████████████████████████████████████████████▋                             | 337/500 [07:35<03:39,  1.35s/it]"
     ]
    },
    {
     "name": "stdout",
     "output_type": "stream",
     "text": [
      "336\t0\t0\t2.46326\tTrue\tTrue\t0:00:01.245265\n"
     ]
    },
    {
     "name": "stderr",
     "output_type": "stream",
     "text": [
      " 68%|████████████████████████████████████████████████████████████▊                             | 338/500 [07:37<03:34,  1.32s/it]"
     ]
    },
    {
     "name": "stdout",
     "output_type": "stream",
     "text": [
      "337\t1\t1\t2.46326\tTrue\tTrue\t0:00:01.265175\n"
     ]
    },
    {
     "name": "stderr",
     "output_type": "stream",
     "text": [
      " 68%|█████████████████████████████████████████████████████████████                             | 339/500 [07:38<03:28,  1.29s/it]"
     ]
    },
    {
     "name": "stdout",
     "output_type": "stream",
     "text": [
      "338\t7\t7\t2.46326\tTrue\tTrue\t0:00:01.217941\n"
     ]
    },
    {
     "name": "stderr",
     "output_type": "stream",
     "text": [
      " 68%|█████████████████████████████████████████████████████████████▏                            | 340/500 [07:39<03:24,  1.28s/it]"
     ]
    },
    {
     "name": "stdout",
     "output_type": "stream",
     "text": [
      "339\t6\t6\t2.46326\tTrue\tTrue\t0:00:01.244370\n"
     ]
    },
    {
     "name": "stderr",
     "output_type": "stream",
     "text": [
      " 68%|█████████████████████████████████████████████████████████████▍                            | 341/500 [07:40<03:27,  1.30s/it]"
     ]
    },
    {
     "name": "stdout",
     "output_type": "stream",
     "text": [
      "340\t4\t4\t2.46326\tTrue\tTrue\t0:00:01.353334\n"
     ]
    },
    {
     "name": "stderr",
     "output_type": "stream",
     "text": [
      " 68%|█████████████████████████████████████████████████████████████▌                            | 342/500 [07:42<03:25,  1.30s/it]"
     ]
    },
    {
     "name": "stdout",
     "output_type": "stream",
     "text": [
      "341\t1\t1\t2.46326\tTrue\tTrue\t0:00:01.288188\n"
     ]
    },
    {
     "name": "stderr",
     "output_type": "stream",
     "text": [
      " 69%|█████████████████████████████████████████████████████████████▋                            | 343/500 [07:43<03:28,  1.33s/it]"
     ]
    },
    {
     "name": "stdout",
     "output_type": "stream",
     "text": [
      "342\t4\t4\t2.46326\tTrue\tTrue\t0:00:01.396977\n"
     ]
    },
    {
     "name": "stderr",
     "output_type": "stream",
     "text": [
      " 69%|█████████████████████████████████████████████████████████████▉                            | 344/500 [07:44<03:33,  1.37s/it]"
     ]
    },
    {
     "name": "stdout",
     "output_type": "stream",
     "text": [
      "343\t6\t6\t2.46326\tTrue\tTrue\t0:00:01.450112\n"
     ]
    },
    {
     "name": "stderr",
     "output_type": "stream",
     "text": [
      " 69%|██████████████████████████████████████████████████████████████                            | 345/500 [07:46<03:32,  1.37s/it]"
     ]
    },
    {
     "name": "stdout",
     "output_type": "stream",
     "text": [
      "344\t6\t6\t2.46326\tTrue\tTrue\t0:00:01.378620\n"
     ]
    },
    {
     "name": "stderr",
     "output_type": "stream",
     "text": [
      " 69%|██████████████████████████████████████████████████████████████▎                           | 346/500 [07:47<03:31,  1.37s/it]"
     ]
    },
    {
     "name": "stdout",
     "output_type": "stream",
     "text": [
      "345\t3\t3\t2.46326\tTrue\tTrue\t0:00:01.366131\n"
     ]
    },
    {
     "name": "stderr",
     "output_type": "stream",
     "text": [
      " 69%|██████████████████████████████████████████████████████████████▍                           | 347/500 [07:49<03:29,  1.37s/it]"
     ]
    },
    {
     "name": "stdout",
     "output_type": "stream",
     "text": [
      "346\t1\t1\t2.46326\tTrue\tTrue\t0:00:01.369850\n"
     ]
    },
    {
     "name": "stderr",
     "output_type": "stream",
     "text": [
      " 70%|██████████████████████████████████████████████████████████████▋                           | 348/500 [07:50<03:26,  1.36s/it]"
     ]
    },
    {
     "name": "stdout",
     "output_type": "stream",
     "text": [
      "347\t2\t6\t2.46326\tFalse\tFalse\t0:00:01.316599\n"
     ]
    },
    {
     "name": "stderr",
     "output_type": "stream",
     "text": [
      " 70%|██████████████████████████████████████████████████████████████▊                           | 349/500 [07:51<03:22,  1.34s/it]"
     ]
    },
    {
     "name": "stdout",
     "output_type": "stream",
     "text": [
      "348\t9\t9\t2.46326\tTrue\tTrue\t0:00:01.303756\n"
     ]
    },
    {
     "name": "stderr",
     "output_type": "stream",
     "text": [
      " 70%|██████████████████████████████████████████████████████████████▉                           | 350/500 [07:53<03:25,  1.37s/it]"
     ]
    },
    {
     "name": "stdout",
     "output_type": "stream",
     "text": [
      "349\t7\t7\t2.46326\tTrue\tTrue\t0:00:01.442601\n"
     ]
    },
    {
     "name": "stderr",
     "output_type": "stream",
     "text": [
      " 70%|███████████████████████████████████████████████████████████████▏                          | 351/500 [07:54<03:28,  1.40s/it]"
     ]
    },
    {
     "name": "stdout",
     "output_type": "stream",
     "text": [
      "350\t1\t1\t2.46326\tTrue\tTrue\t0:00:01.468765\n"
     ]
    },
    {
     "name": "stderr",
     "output_type": "stream",
     "text": [
      " 70%|███████████████████████████████████████████████████████████████▎                          | 352/500 [07:56<03:27,  1.40s/it]"
     ]
    },
    {
     "name": "stdout",
     "output_type": "stream",
     "text": [
      "351\t2\t2\t2.46326\tTrue\tTrue\t0:00:01.394412\n"
     ]
    },
    {
     "name": "stderr",
     "output_type": "stream",
     "text": [
      " 71%|███████████████████████████████████████████████████████████████▌                          | 353/500 [07:57<03:22,  1.38s/it]"
     ]
    },
    {
     "name": "stdout",
     "output_type": "stream",
     "text": [
      "352\t2\t5\t1.17431\tFalse\tFalse\t0:00:01.331644\n"
     ]
    },
    {
     "name": "stderr",
     "output_type": "stream",
     "text": [
      " 71%|███████████████████████████████████████████████████████████████▋                          | 354/500 [07:58<03:19,  1.37s/it]"
     ]
    },
    {
     "name": "stdout",
     "output_type": "stream",
     "text": [
      "353\t3\t3\t2.46326\tTrue\tTrue\t0:00:01.333020\n"
     ]
    },
    {
     "name": "stderr",
     "output_type": "stream",
     "text": [
      " 71%|███████████████████████████████████████████████████████████████▉                          | 355/500 [08:00<03:19,  1.38s/it]"
     ]
    },
    {
     "name": "stdout",
     "output_type": "stream",
     "text": [
      "354\t9\t9\t2.46326\tTrue\tTrue\t0:00:01.394060\n"
     ]
    },
    {
     "name": "stderr",
     "output_type": "stream",
     "text": [
      " 71%|████████████████████████████████████████████████████████████████                          | 356/500 [08:01<03:20,  1.40s/it]"
     ]
    },
    {
     "name": "stdout",
     "output_type": "stream",
     "text": [
      "355\t8\t8\t2.46326\tTrue\tTrue\t0:00:01.440112\n"
     ]
    },
    {
     "name": "stderr",
     "output_type": "stream",
     "text": [
      " 71%|████████████████████████████████████████████████████████████████▎                         | 357/500 [08:02<03:17,  1.38s/it]"
     ]
    },
    {
     "name": "stdout",
     "output_type": "stream",
     "text": [
      "356\t2\t5\t1.15201\tFalse\tFalse\t0:00:01.339928\n"
     ]
    },
    {
     "name": "stderr",
     "output_type": "stream",
     "text": [
      " 72%|████████████████████████████████████████████████████████████████▍                         | 358/500 [08:04<03:11,  1.35s/it]"
     ]
    },
    {
     "name": "stdout",
     "output_type": "stream",
     "text": [
      "357\t7\t7\t2.46326\tTrue\tTrue\t0:00:01.269396\n"
     ]
    },
    {
     "name": "stderr",
     "output_type": "stream",
     "text": [
      " 72%|████████████████████████████████████████████████████████████████▌                         | 359/500 [08:05<03:07,  1.33s/it]"
     ]
    },
    {
     "name": "stdout",
     "output_type": "stream",
     "text": [
      "358\t4\t4\t2.46326\tTrue\tTrue\t0:00:01.290189\n"
     ]
    },
    {
     "name": "stderr",
     "output_type": "stream",
     "text": [
      " 72%|████████████████████████████████████████████████████████████████▊                         | 360/500 [08:06<03:03,  1.31s/it]"
     ]
    },
    {
     "name": "stdout",
     "output_type": "stream",
     "text": [
      "359\t8\t8\t2.46326\tTrue\tTrue\t0:00:01.258242\n"
     ]
    },
    {
     "name": "stderr",
     "output_type": "stream",
     "text": [
      " 72%|████████████████████████████████████████████████████████████████▉                         | 361/500 [08:08<03:05,  1.34s/it]"
     ]
    },
    {
     "name": "stdout",
     "output_type": "stream",
     "text": [
      "360\t0\t0\t2.46326\tTrue\tTrue\t0:00:01.399647\n"
     ]
    },
    {
     "name": "stderr",
     "output_type": "stream",
     "text": [
      " 72%|█████████████████████████████████████████████████████████████████▏                        | 362/500 [08:09<03:04,  1.34s/it]"
     ]
    },
    {
     "name": "stdout",
     "output_type": "stream",
     "text": [
      "361\t5\t5\t1.39131\tTrue\tTrue\t0:00:01.337821\n"
     ]
    },
    {
     "name": "stderr",
     "output_type": "stream",
     "text": [
      " 73%|█████████████████████████████████████████████████████████████████▎                        | 363/500 [08:10<03:05,  1.35s/it]"
     ]
    },
    {
     "name": "stdout",
     "output_type": "stream",
     "text": [
      "362\t2\t0\t1.61599\tFalse\tFalse\t0:00:01.384756\n"
     ]
    },
    {
     "name": "stderr",
     "output_type": "stream",
     "text": [
      " 73%|█████████████████████████████████████████████████████████████████▌                        | 364/500 [08:12<03:02,  1.34s/it]"
     ]
    },
    {
     "name": "stdout",
     "output_type": "stream",
     "text": [
      "363\t8\t8\t2.46326\tTrue\tTrue\t0:00:01.316404\n"
     ]
    },
    {
     "name": "stderr",
     "output_type": "stream",
     "text": [
      " 73%|█████████████████████████████████████████████████████████████████▋                        | 365/500 [08:13<03:03,  1.36s/it]"
     ]
    },
    {
     "name": "stdout",
     "output_type": "stream",
     "text": [
      "364\t4\t4\t2.46326\tTrue\tTrue\t0:00:01.391810\n"
     ]
    },
    {
     "name": "stderr",
     "output_type": "stream",
     "text": [
      " 73%|█████████████████████████████████████████████████████████████████▉                        | 366/500 [08:14<03:02,  1.36s/it]"
     ]
    },
    {
     "name": "stdout",
     "output_type": "stream",
     "text": [
      "365\t3\t5\t1.10408\tFalse\tFalse\t0:00:01.373537\n"
     ]
    },
    {
     "name": "stderr",
     "output_type": "stream",
     "text": [
      " 73%|██████████████████████████████████████████████████████████████████                        | 367/500 [08:16<02:59,  1.35s/it]"
     ]
    },
    {
     "name": "stdout",
     "output_type": "stream",
     "text": [
      "366\t8\t0\t0.35854\tFalse\tFalse\t0:00:01.313591\n"
     ]
    },
    {
     "name": "stderr",
     "output_type": "stream",
     "text": [
      " 74%|██████████████████████████████████████████████████████████████████▏                       | 368/500 [08:17<02:58,  1.35s/it]"
     ]
    },
    {
     "name": "stdout",
     "output_type": "stream",
     "text": [
      "367\t9\t9\t2.46326\tTrue\tTrue\t0:00:01.361472\n"
     ]
    },
    {
     "name": "stderr",
     "output_type": "stream",
     "text": [
      " 74%|██████████████████████████████████████████████████████████████████▍                       | 369/500 [08:19<03:00,  1.38s/it]"
     ]
    },
    {
     "name": "stdout",
     "output_type": "stream",
     "text": [
      "368\t9\t9\t2.46326\tTrue\tTrue\t0:00:01.438213\n"
     ]
    },
    {
     "name": "stderr",
     "output_type": "stream",
     "text": [
      " 74%|██████████████████████████████████████████████████████████████████▌                       | 370/500 [08:20<03:02,  1.40s/it]"
     ]
    },
    {
     "name": "stdout",
     "output_type": "stream",
     "text": [
      "369\t4\t4\t2.46326\tTrue\tTrue\t0:00:01.453058\n"
     ]
    },
    {
     "name": "stderr",
     "output_type": "stream",
     "text": [
      " 74%|██████████████████████████████████████████████████████████████████▊                       | 371/500 [08:21<03:00,  1.40s/it]"
     ]
    },
    {
     "name": "stdout",
     "output_type": "stream",
     "text": [
      "370\t7\t7\t2.46326\tTrue\tTrue\t0:00:01.378078\n"
     ]
    },
    {
     "name": "stderr",
     "output_type": "stream",
     "text": [
      " 74%|██████████████████████████████████████████████████████████████████▉                       | 372/500 [08:23<03:02,  1.43s/it]"
     ]
    },
    {
     "name": "stdout",
     "output_type": "stream",
     "text": [
      "371\t7\t7\t2.46326\tTrue\tTrue\t0:00:01.492454\n"
     ]
    },
    {
     "name": "stderr",
     "output_type": "stream",
     "text": [
      " 75%|███████████████████████████████████████████████████████████████████▏                      | 373/500 [08:24<02:59,  1.41s/it]"
     ]
    },
    {
     "name": "stdout",
     "output_type": "stream",
     "text": [
      "372\t9\t9\t2.46326\tTrue\tTrue\t0:00:01.379032\n"
     ]
    },
    {
     "name": "stderr",
     "output_type": "stream",
     "text": [
      " 75%|███████████████████████████████████████████████████████████████████▎                      | 374/500 [08:26<02:59,  1.42s/it]"
     ]
    },
    {
     "name": "stdout",
     "output_type": "stream",
     "text": [
      "373\t3\t3\t2.46326\tTrue\tTrue\t0:00:01.449184\n"
     ]
    },
    {
     "name": "stderr",
     "output_type": "stream",
     "text": [
      " 75%|███████████████████████████████████████████████████████████████████▌                      | 375/500 [08:27<02:55,  1.40s/it]"
     ]
    },
    {
     "name": "stdout",
     "output_type": "stream",
     "text": [
      "374\t8\t8\t2.46326\tTrue\tTrue\t0:00:01.340960\n"
     ]
    },
    {
     "name": "stderr",
     "output_type": "stream",
     "text": [
      " 75%|███████████████████████████████████████████████████████████████████▋                      | 376/500 [08:28<02:49,  1.36s/it]"
     ]
    },
    {
     "name": "stdout",
     "output_type": "stream",
     "text": [
      "375\t8\t8\t2.46326\tTrue\tTrue\t0:00:01.274957\n"
     ]
    },
    {
     "name": "stderr",
     "output_type": "stream",
     "text": [
      " 75%|███████████████████████████████████████████████████████████████████▊                      | 377/500 [08:30<02:48,  1.37s/it]"
     ]
    },
    {
     "name": "stdout",
     "output_type": "stream",
     "text": [
      "376\t4\t4\t2.46326\tTrue\tTrue\t0:00:01.379219\n"
     ]
    },
    {
     "name": "stderr",
     "output_type": "stream",
     "text": [
      " 76%|████████████████████████████████████████████████████████████████████                      | 378/500 [08:31<02:44,  1.35s/it]"
     ]
    },
    {
     "name": "stdout",
     "output_type": "stream",
     "text": [
      "377\t7\t7\t2.46326\tTrue\tTrue\t0:00:01.303163\n"
     ]
    },
    {
     "name": "stderr",
     "output_type": "stream",
     "text": [
      " 76%|████████████████████████████████████████████████████████████████████▏                     | 379/500 [08:32<02:42,  1.34s/it]"
     ]
    },
    {
     "name": "stdout",
     "output_type": "stream",
     "text": [
      "378\t7\t7\t2.46326\tTrue\tTrue\t0:00:01.325756\n"
     ]
    },
    {
     "name": "stderr",
     "output_type": "stream",
     "text": [
      " 76%|████████████████████████████████████████████████████████████████████▍                     | 380/500 [08:34<02:37,  1.31s/it]"
     ]
    },
    {
     "name": "stdout",
     "output_type": "stream",
     "text": [
      "379\t2\t2\t2.46326\tTrue\tTrue\t0:00:01.246205\n"
     ]
    },
    {
     "name": "stderr",
     "output_type": "stream",
     "text": [
      " 76%|████████████████████████████████████████████████████████████████████▌                     | 381/500 [08:35<02:34,  1.30s/it]"
     ]
    },
    {
     "name": "stdout",
     "output_type": "stream",
     "text": [
      "380\t9\t9\t2.46326\tTrue\tTrue\t0:00:01.260082\n"
     ]
    },
    {
     "name": "stderr",
     "output_type": "stream",
     "text": [
      " 76%|████████████████████████████████████████████████████████████████████▊                     | 382/500 [08:36<02:33,  1.30s/it]"
     ]
    },
    {
     "name": "stdout",
     "output_type": "stream",
     "text": [
      "381\t7\t7\t2.46326\tTrue\tTrue\t0:00:01.303662\n"
     ]
    },
    {
     "name": "stderr",
     "output_type": "stream",
     "text": [
      " 77%|████████████████████████████████████████████████████████████████████▉                     | 383/500 [08:37<02:32,  1.30s/it]"
     ]
    },
    {
     "name": "stdout",
     "output_type": "stream",
     "text": [
      "382\t8\t8\t2.46326\tTrue\tTrue\t0:00:01.303376\n"
     ]
    },
    {
     "name": "stderr",
     "output_type": "stream",
     "text": [
      " 77%|█████████████████████████████████████████████████████████████████████                     | 384/500 [08:39<02:31,  1.31s/it]"
     ]
    },
    {
     "name": "stdout",
     "output_type": "stream",
     "text": [
      "383\t9\t9\t2.46326\tTrue\tTrue\t0:00:01.309439\n"
     ]
    },
    {
     "name": "stderr",
     "output_type": "stream",
     "text": [
      " 77%|█████████████████████████████████████████████████████████████████████▎                    | 385/500 [08:40<02:27,  1.29s/it]"
     ]
    },
    {
     "name": "stdout",
     "output_type": "stream",
     "text": [
      "384\t8\t8\t2.46326\tTrue\tTrue\t0:00:01.238029\n"
     ]
    },
    {
     "name": "stderr",
     "output_type": "stream",
     "text": [
      " 77%|█████████████████████████████████████████████████████████████████████▍                    | 386/500 [08:41<02:31,  1.33s/it]"
     ]
    },
    {
     "name": "stdout",
     "output_type": "stream",
     "text": [
      "385\t1\t1\t2.46326\tTrue\tTrue\t0:00:01.427294\n"
     ]
    },
    {
     "name": "stderr",
     "output_type": "stream",
     "text": [
      " 77%|█████████████████████████████████████████████████████████████████████▋                    | 387/500 [08:43<02:32,  1.35s/it]"
     ]
    },
    {
     "name": "stdout",
     "output_type": "stream",
     "text": [
      "386\t5\t3\t0.29053\tFalse\tFalse\t0:00:01.386720\n"
     ]
    },
    {
     "name": "stderr",
     "output_type": "stream",
     "text": [
      " 78%|█████████████████████████████████████████████████████████████████████▊                    | 388/500 [08:44<02:31,  1.35s/it]"
     ]
    },
    {
     "name": "stdout",
     "output_type": "stream",
     "text": [
      "387\t9\t9\t2.46326\tTrue\tTrue\t0:00:01.362624\n"
     ]
    },
    {
     "name": "stderr",
     "output_type": "stream",
     "text": [
      " 78%|██████████████████████████████████████████████████████████████████████                    | 389/500 [08:46<02:30,  1.36s/it]"
     ]
    },
    {
     "name": "stdout",
     "output_type": "stream",
     "text": [
      "388\t4\t6\t0.41729\tFalse\tFalse\t0:00:01.364429\n"
     ]
    },
    {
     "name": "stderr",
     "output_type": "stream",
     "text": [
      " 78%|██████████████████████████████████████████████████████████████████████▏                   | 390/500 [08:47<02:29,  1.36s/it]"
     ]
    },
    {
     "name": "stdout",
     "output_type": "stream",
     "text": [
      "389\t2\t2\t2.46326\tTrue\tTrue\t0:00:01.354926\n"
     ]
    },
    {
     "name": "stderr",
     "output_type": "stream",
     "text": [
      " 78%|██████████████████████████████████████████████████████████████████████▍                   | 391/500 [08:48<02:25,  1.34s/it]"
     ]
    },
    {
     "name": "stdout",
     "output_type": "stream",
     "text": [
      "390\t0\t0\t2.46326\tTrue\tTrue\t0:00:01.283009\n"
     ]
    },
    {
     "name": "stderr",
     "output_type": "stream",
     "text": [
      " 78%|██████████████████████████████████████████████████████████████████████▌                   | 392/500 [08:50<02:22,  1.32s/it]"
     ]
    },
    {
     "name": "stdout",
     "output_type": "stream",
     "text": [
      "391\t3\t3\t2.46326\tTrue\tTrue\t0:00:01.286640\n"
     ]
    },
    {
     "name": "stderr",
     "output_type": "stream",
     "text": [
      " 79%|██████████████████████████████████████████████████████████████████████▋                   | 393/500 [08:51<02:22,  1.34s/it]"
     ]
    },
    {
     "name": "stdout",
     "output_type": "stream",
     "text": [
      "392\t0\t0\t2.46326\tTrue\tTrue\t0:00:01.368034\n"
     ]
    },
    {
     "name": "stderr",
     "output_type": "stream",
     "text": [
      " 79%|██████████████████████████████████████████████████████████████████████▉                   | 394/500 [08:52<02:22,  1.35s/it]"
     ]
    },
    {
     "name": "stdout",
     "output_type": "stream",
     "text": [
      "393\t6\t6\t2.46326\tTrue\tTrue\t0:00:01.373854\n"
     ]
    },
    {
     "name": "stderr",
     "output_type": "stream",
     "text": [
      " 79%|███████████████████████████████████████████████████████████████████████                   | 395/500 [08:54<02:22,  1.36s/it]"
     ]
    },
    {
     "name": "stdout",
     "output_type": "stream",
     "text": [
      "394\t7\t7\t2.46326\tTrue\tTrue\t0:00:01.373870\n"
     ]
    },
    {
     "name": "stderr",
     "output_type": "stream",
     "text": [
      " 79%|███████████████████████████████████████████████████████████████████████▎                  | 396/500 [08:55<02:23,  1.38s/it]"
     ]
    },
    {
     "name": "stdout",
     "output_type": "stream",
     "text": [
      "395\t7\t7\t2.46326\tTrue\tTrue\t0:00:01.428781\n"
     ]
    },
    {
     "name": "stderr",
     "output_type": "stream",
     "text": [
      " 79%|███████████████████████████████████████████████████████████████████████▍                  | 397/500 [08:56<02:23,  1.39s/it]"
     ]
    },
    {
     "name": "stdout",
     "output_type": "stream",
     "text": [
      "396\t9\t9\t2.46326\tTrue\tTrue\t0:00:01.414658\n"
     ]
    },
    {
     "name": "stderr",
     "output_type": "stream",
     "text": [
      " 80%|███████████████████████████████████████████████████████████████████████▋                  | 398/500 [08:58<02:19,  1.37s/it]"
     ]
    },
    {
     "name": "stdout",
     "output_type": "stream",
     "text": [
      "397\t1\t1\t2.46326\tTrue\tTrue\t0:00:01.316630\n"
     ]
    },
    {
     "name": "stderr",
     "output_type": "stream",
     "text": [
      " 80%|███████████████████████████████████████████████████████████████████████▊                  | 399/500 [08:59<02:15,  1.34s/it]"
     ]
    },
    {
     "name": "stdout",
     "output_type": "stream",
     "text": [
      "398\t6\t6\t2.46326\tTrue\tTrue\t0:00:01.265784\n"
     ]
    },
    {
     "name": "stderr",
     "output_type": "stream",
     "text": [
      " 80%|████████████████████████████████████████████████████████████████████████                  | 400/500 [09:00<02:13,  1.33s/it]"
     ]
    },
    {
     "name": "stdout",
     "output_type": "stream",
     "text": [
      "399\t9\t9\t2.46326\tTrue\tTrue\t0:00:01.306935\n"
     ]
    },
    {
     "name": "stderr",
     "output_type": "stream",
     "text": [
      " 80%|████████████████████████████████████████████████████████████████████████▏                 | 401/500 [09:02<02:11,  1.33s/it]"
     ]
    },
    {
     "name": "stdout",
     "output_type": "stream",
     "text": [
      "400\t2\t2\t2.46326\tTrue\tTrue\t0:00:01.330100\n"
     ]
    },
    {
     "name": "stderr",
     "output_type": "stream",
     "text": [
      " 80%|████████████████████████████████████████████████████████████████████████▎                 | 402/500 [09:03<02:07,  1.31s/it]"
     ]
    },
    {
     "name": "stdout",
     "output_type": "stream",
     "text": [
      "401\t3\t3\t2.46326\tTrue\tTrue\t0:00:01.242822\n"
     ]
    },
    {
     "name": "stderr",
     "output_type": "stream",
     "text": [
      " 81%|████████████████████████████████████████████████████████████████████████▌                 | 403/500 [09:04<02:09,  1.34s/it]"
     ]
    },
    {
     "name": "stdout",
     "output_type": "stream",
     "text": [
      "402\t2\t0\t2.46326\tFalse\tFalse\t0:00:01.406037\n"
     ]
    },
    {
     "name": "stderr",
     "output_type": "stream",
     "text": [
      " 81%|████████████████████████████████████████████████████████████████████████▋                 | 404/500 [09:06<02:09,  1.35s/it]"
     ]
    },
    {
     "name": "stdout",
     "output_type": "stream",
     "text": [
      "403\t9\t9\t2.46326\tTrue\tTrue\t0:00:01.367337\n"
     ]
    },
    {
     "name": "stderr",
     "output_type": "stream",
     "text": [
      " 81%|████████████████████████████████████████████████████████████████████████▉                 | 405/500 [09:07<02:09,  1.37s/it]"
     ]
    },
    {
     "name": "stdout",
     "output_type": "stream",
     "text": [
      "404\t8\t-1\t0.00000\tFalse\tFalse\t0:00:01.406177\n"
     ]
    },
    {
     "name": "stderr",
     "output_type": "stream",
     "text": [
      " 81%|█████████████████████████████████████████████████████████████████████████                 | 406/500 [09:08<02:05,  1.34s/it]"
     ]
    },
    {
     "name": "stdout",
     "output_type": "stream",
     "text": [
      "405\t5\t5\t2.46326\tTrue\tTrue\t0:00:01.270806\n"
     ]
    },
    {
     "name": "stderr",
     "output_type": "stream",
     "text": [
      " 81%|█████████████████████████████████████████████████████████████████████████▎                | 407/500 [09:10<02:01,  1.31s/it]"
     ]
    },
    {
     "name": "stdout",
     "output_type": "stream",
     "text": [
      "406\t6\t6\t0.89442\tFalse\tTrue\t0:00:01.247931\n"
     ]
    },
    {
     "name": "stderr",
     "output_type": "stream",
     "text": [
      " 82%|█████████████████████████████████████████████████████████████████████████▍                | 408/500 [09:11<01:58,  1.29s/it]"
     ]
    },
    {
     "name": "stdout",
     "output_type": "stream",
     "text": [
      "407\t9\t9\t2.46326\tTrue\tTrue\t0:00:01.245727\n"
     ]
    },
    {
     "name": "stderr",
     "output_type": "stream",
     "text": [
      " 82%|█████████████████████████████████████████████████████████████████████████▌                | 409/500 [09:12<01:57,  1.29s/it]"
     ]
    },
    {
     "name": "stdout",
     "output_type": "stream",
     "text": [
      "408\t6\t6\t2.46326\tTrue\tTrue\t0:00:01.273326\n"
     ]
    },
    {
     "name": "stderr",
     "output_type": "stream",
     "text": [
      " 82%|█████████████████████████████████████████████████████████████████████████▊                | 410/500 [09:14<01:58,  1.32s/it]"
     ]
    },
    {
     "name": "stdout",
     "output_type": "stream",
     "text": [
      "409\t6\t6\t2.46326\tTrue\tTrue\t0:00:01.385342\n"
     ]
    },
    {
     "name": "stderr",
     "output_type": "stream",
     "text": [
      " 82%|█████████████████████████████████████████████████████████████████████████▉                | 411/500 [09:15<02:00,  1.35s/it]"
     ]
    },
    {
     "name": "stdout",
     "output_type": "stream",
     "text": [
      "410\t4\t4\t2.46326\tTrue\tTrue\t0:00:01.417589\n"
     ]
    },
    {
     "name": "stderr",
     "output_type": "stream",
     "text": [
      " 82%|██████████████████████████████████████████████████████████████████████████▏               | 412/500 [09:16<02:00,  1.37s/it]"
     ]
    },
    {
     "name": "stdout",
     "output_type": "stream",
     "text": [
      "411\t0\t0\t2.46326\tTrue\tTrue\t0:00:01.410556\n"
     ]
    },
    {
     "name": "stderr",
     "output_type": "stream",
     "text": [
      " 83%|██████████████████████████████████████████████████████████████████████████▎               | 413/500 [09:18<01:59,  1.38s/it]"
     ]
    },
    {
     "name": "stdout",
     "output_type": "stream",
     "text": [
      "412\t8\t8\t2.46326\tTrue\tTrue\t0:00:01.391682\n"
     ]
    },
    {
     "name": "stderr",
     "output_type": "stream",
     "text": [
      " 83%|██████████████████████████████████████████████████████████████████████████▌               | 414/500 [09:19<01:57,  1.37s/it]"
     ]
    },
    {
     "name": "stdout",
     "output_type": "stream",
     "text": [
      "413\t5\t5\t0.78261\tFalse\tTrue\t0:00:01.340525\n"
     ]
    },
    {
     "name": "stderr",
     "output_type": "stream",
     "text": [
      " 83%|██████████████████████████████████████████████████████████████████████████▋               | 415/500 [09:20<01:55,  1.35s/it]"
     ]
    },
    {
     "name": "stdout",
     "output_type": "stream",
     "text": [
      "414\t1\t1\t2.46326\tTrue\tTrue\t0:00:01.321308\n"
     ]
    },
    {
     "name": "stderr",
     "output_type": "stream",
     "text": [
      " 83%|██████████████████████████████████████████████████████████████████████████▉               | 416/500 [09:22<01:53,  1.35s/it]"
     ]
    },
    {
     "name": "stdout",
     "output_type": "stream",
     "text": [
      "415\t9\t9\t2.46326\tTrue\tTrue\t0:00:01.351921\n"
     ]
    },
    {
     "name": "stderr",
     "output_type": "stream",
     "text": [
      " 83%|███████████████████████████████████████████████████████████████████████████               | 417/500 [09:23<01:50,  1.34s/it]"
     ]
    },
    {
     "name": "stdout",
     "output_type": "stream",
     "text": [
      "416\t7\t3\t0.27714\tFalse\tFalse\t0:00:01.295449\n"
     ]
    },
    {
     "name": "stderr",
     "output_type": "stream",
     "text": [
      " 84%|███████████████████████████████████████████████████████████████████████████▏              | 418/500 [09:24<01:48,  1.32s/it]"
     ]
    },
    {
     "name": "stdout",
     "output_type": "stream",
     "text": [
      "417\t1\t1\t2.46326\tTrue\tTrue\t0:00:01.291999\n"
     ]
    },
    {
     "name": "stderr",
     "output_type": "stream",
     "text": [
      " 84%|███████████████████████████████████████████████████████████████████████████▍              | 419/500 [09:26<01:48,  1.33s/it]"
     ]
    },
    {
     "name": "stdout",
     "output_type": "stream",
     "text": [
      "418\t0\t0\t2.46326\tTrue\tTrue\t0:00:01.354032\n"
     ]
    },
    {
     "name": "stderr",
     "output_type": "stream",
     "text": [
      " 84%|███████████████████████████████████████████████████████████████████████████▌              | 420/500 [09:27<01:45,  1.32s/it]"
     ]
    },
    {
     "name": "stdout",
     "output_type": "stream",
     "text": [
      "419\t0\t-1\t0.00000\tFalse\tFalse\t0:00:01.281611\n"
     ]
    },
    {
     "name": "stderr",
     "output_type": "stream",
     "text": [
      " 84%|███████████████████████████████████████████████████████████████████████████▊              | 421/500 [09:28<01:44,  1.32s/it]"
     ]
    },
    {
     "name": "stdout",
     "output_type": "stream",
     "text": [
      "420\t4\t3\t0.25056\tFalse\tFalse\t0:00:01.334729\n"
     ]
    },
    {
     "name": "stderr",
     "output_type": "stream",
     "text": [
      " 84%|███████████████████████████████████████████████████████████████████████████▉              | 422/500 [09:30<01:43,  1.32s/it]"
     ]
    },
    {
     "name": "stdout",
     "output_type": "stream",
     "text": [
      "421\t5\t5\t2.46326\tTrue\tTrue\t0:00:01.310698\n"
     ]
    },
    {
     "name": "stderr",
     "output_type": "stream",
     "text": [
      " 85%|████████████████████████████████████████████████████████████████████████████▏             | 423/500 [09:31<01:43,  1.34s/it]"
     ]
    },
    {
     "name": "stdout",
     "output_type": "stream",
     "text": [
      "422\t3\t7\t0.49551\tFalse\tFalse\t0:00:01.379263\n"
     ]
    },
    {
     "name": "stderr",
     "output_type": "stream",
     "text": [
      " 85%|████████████████████████████████████████████████████████████████████████████▎             | 424/500 [09:33<01:44,  1.38s/it]"
     ]
    },
    {
     "name": "stdout",
     "output_type": "stream",
     "text": [
      "423\t8\t8\t2.46326\tTrue\tTrue\t0:00:01.474698\n"
     ]
    },
    {
     "name": "stderr",
     "output_type": "stream",
     "text": [
      " 85%|████████████████████████████████████████████████████████████████████████████▌             | 425/500 [09:34<01:43,  1.38s/it]"
     ]
    },
    {
     "name": "stdout",
     "output_type": "stream",
     "text": [
      "424\t9\t9\t2.46326\tTrue\tTrue\t0:00:01.367813\n"
     ]
    },
    {
     "name": "stderr",
     "output_type": "stream",
     "text": [
      " 85%|████████████████████████████████████████████████████████████████████████████▋             | 426/500 [09:35<01:41,  1.38s/it]"
     ]
    },
    {
     "name": "stdout",
     "output_type": "stream",
     "text": [
      "425\t3\t3\t2.46326\tTrue\tTrue\t0:00:01.374771\n"
     ]
    },
    {
     "name": "stderr",
     "output_type": "stream",
     "text": [
      " 85%|████████████████████████████████████████████████████████████████████████████▊             | 427/500 [09:37<01:40,  1.37s/it]"
     ]
    },
    {
     "name": "stdout",
     "output_type": "stream",
     "text": [
      "426\t2\t4\t2.46326\tFalse\tFalse\t0:00:01.352881\n"
     ]
    },
    {
     "name": "stderr",
     "output_type": "stream",
     "text": [
      " 86%|█████████████████████████████████████████████████████████████████████████████             | 428/500 [09:38<01:38,  1.37s/it]"
     ]
    },
    {
     "name": "stdout",
     "output_type": "stream",
     "text": [
      "427\t4\t4\t2.22631\tTrue\tTrue\t0:00:01.378357\n"
     ]
    },
    {
     "name": "stderr",
     "output_type": "stream",
     "text": [
      " 86%|█████████████████████████████████████████████████████████████████████████████▏            | 429/500 [09:39<01:37,  1.37s/it]"
     ]
    },
    {
     "name": "stdout",
     "output_type": "stream",
     "text": [
      "428\t5\t5\t2.46326\tTrue\tTrue\t0:00:01.349490\n"
     ]
    },
    {
     "name": "stderr",
     "output_type": "stream",
     "text": [
      " 86%|█████████████████████████████████████████████████████████████████████████████▍            | 430/500 [09:41<01:36,  1.38s/it]"
     ]
    },
    {
     "name": "stdout",
     "output_type": "stream",
     "text": [
      "429\t5\t3\t2.35765\tFalse\tFalse\t0:00:01.419107\n"
     ]
    },
    {
     "name": "stderr",
     "output_type": "stream",
     "text": [
      " 86%|█████████████████████████████████████████████████████████████████████████████▌            | 431/500 [09:42<01:34,  1.37s/it]"
     ]
    },
    {
     "name": "stdout",
     "output_type": "stream",
     "text": [
      "430\t4\t4\t0.71162\tFalse\tTrue\t0:00:01.341605\n"
     ]
    },
    {
     "name": "stderr",
     "output_type": "stream",
     "text": [
      " 86%|█████████████████████████████████████████████████████████████████████████████▊            | 432/500 [09:44<01:35,  1.40s/it]"
     ]
    },
    {
     "name": "stdout",
     "output_type": "stream",
     "text": [
      "431\t5\t5\t2.46326\tTrue\tTrue\t0:00:01.462075\n"
     ]
    },
    {
     "name": "stderr",
     "output_type": "stream",
     "text": [
      " 87%|█████████████████████████████████████████████████████████████████████████████▉            | 433/500 [09:45<01:35,  1.42s/it]"
     ]
    },
    {
     "name": "stdout",
     "output_type": "stream",
     "text": [
      "432\t3\t3\t2.46326\tTrue\tTrue\t0:00:01.460117\n"
     ]
    },
    {
     "name": "stderr",
     "output_type": "stream",
     "text": [
      " 87%|██████████████████████████████████████████████████████████████████████████████            | 434/500 [09:47<01:34,  1.43s/it]"
     ]
    },
    {
     "name": "stdout",
     "output_type": "stream",
     "text": [
      "433\t7\t7\t0.68436\tFalse\tTrue\t0:00:01.455724\n"
     ]
    },
    {
     "name": "stderr",
     "output_type": "stream",
     "text": [
      " 87%|██████████████████████████████████████████████████████████████████████████████▎           | 435/500 [09:48<01:30,  1.40s/it]"
     ]
    },
    {
     "name": "stdout",
     "output_type": "stream",
     "text": [
      "434\t3\t5\t0.02686\tFalse\tFalse\t0:00:01.323229\n"
     ]
    },
    {
     "name": "stderr",
     "output_type": "stream",
     "text": [
      " 87%|██████████████████████████████████████████████████████████████████████████████▍           | 436/500 [09:49<01:28,  1.39s/it]"
     ]
    },
    {
     "name": "stdout",
     "output_type": "stream",
     "text": [
      "435\t2\t6\t0.90261\tFalse\tFalse\t0:00:01.357596\n"
     ]
    },
    {
     "name": "stderr",
     "output_type": "stream",
     "text": [
      " 87%|██████████████████████████████████████████████████████████████████████████████▋           | 437/500 [09:51<01:26,  1.38s/it]"
     ]
    },
    {
     "name": "stdout",
     "output_type": "stream",
     "text": [
      "436\t8\t9\t1.31790\tFalse\tFalse\t0:00:01.351818\n"
     ]
    },
    {
     "name": "stderr",
     "output_type": "stream",
     "text": [
      " 88%|██████████████████████████████████████████████████████████████████████████████▊           | 438/500 [09:52<01:25,  1.39s/it]"
     ]
    },
    {
     "name": "stdout",
     "output_type": "stream",
     "text": [
      "437\t4\t4\t2.46326\tTrue\tTrue\t0:00:01.405882\n"
     ]
    },
    {
     "name": "stderr",
     "output_type": "stream",
     "text": [
      " 88%|███████████████████████████████████████████████████████████████████████████████           | 439/500 [09:53<01:22,  1.35s/it]"
     ]
    },
    {
     "name": "stdout",
     "output_type": "stream",
     "text": [
      "438\t0\t0\t2.46326\tTrue\tTrue\t0:00:01.260189\n"
     ]
    },
    {
     "name": "stderr",
     "output_type": "stream",
     "text": [
      " 88%|███████████████████████████████████████████████████████████████████████████████▏          | 440/500 [09:55<01:20,  1.33s/it]"
     ]
    },
    {
     "name": "stdout",
     "output_type": "stream",
     "text": [
      "439\t3\t2\t2.46326\tFalse\tFalse\t0:00:01.295714\n"
     ]
    },
    {
     "name": "stderr",
     "output_type": "stream",
     "text": [
      " 88%|███████████████████████████████████████████████████████████████████████████████▍          | 441/500 [09:56<01:17,  1.32s/it]"
     ]
    },
    {
     "name": "stdout",
     "output_type": "stream",
     "text": [
      "440\t3\t3\t2.46326\tTrue\tTrue\t0:00:01.272752\n"
     ]
    },
    {
     "name": "stderr",
     "output_type": "stream",
     "text": [
      " 88%|███████████████████████████████████████████████████████████████████████████████▌          | 442/500 [09:57<01:15,  1.30s/it]"
     ]
    },
    {
     "name": "stdout",
     "output_type": "stream",
     "text": [
      "441\t0\t0\t2.46326\tTrue\tTrue\t0:00:01.265237\n"
     ]
    },
    {
     "name": "stderr",
     "output_type": "stream",
     "text": [
      " 89%|███████████████████████████████████████████████████████████████████████████████▋          | 443/500 [09:58<01:13,  1.30s/it]"
     ]
    },
    {
     "name": "stdout",
     "output_type": "stream",
     "text": [
      "442\t7\t7\t2.46326\tTrue\tTrue\t0:00:01.282171\n"
     ]
    },
    {
     "name": "stderr",
     "output_type": "stream",
     "text": [
      " 89%|███████████████████████████████████████████████████████████████████████████████▉          | 444/500 [10:00<01:14,  1.33s/it]"
     ]
    },
    {
     "name": "stdout",
     "output_type": "stream",
     "text": [
      "443\t8\t8\t2.46326\tTrue\tTrue\t0:00:01.398245\n"
     ]
    },
    {
     "name": "stderr",
     "output_type": "stream",
     "text": [
      " 89%|████████████████████████████████████████████████████████████████████████████████          | 445/500 [10:01<01:14,  1.35s/it]"
     ]
    },
    {
     "name": "stdout",
     "output_type": "stream",
     "text": [
      "444\t3\t3\t2.46326\tTrue\tTrue\t0:00:01.401900\n"
     ]
    },
    {
     "name": "stderr",
     "output_type": "stream",
     "text": [
      " 89%|████████████████████████████████████████████████████████████████████████████████▎         | 446/500 [10:03<01:12,  1.35s/it]"
     ]
    },
    {
     "name": "stdout",
     "output_type": "stream",
     "text": [
      "445\t1\t1\t2.46326\tTrue\tTrue\t0:00:01.336686\n"
     ]
    },
    {
     "name": "stderr",
     "output_type": "stream",
     "text": [
      " 89%|████████████████████████████████████████████████████████████████████████████████▍         | 447/500 [10:04<01:12,  1.36s/it]"
     ]
    },
    {
     "name": "stdout",
     "output_type": "stream",
     "text": [
      "446\t8\t8\t2.46326\tTrue\tTrue\t0:00:01.383293\n"
     ]
    },
    {
     "name": "stderr",
     "output_type": "stream",
     "text": [
      " 90%|████████████████████████████████████████████████████████████████████████████████▋         | 448/500 [10:05<01:11,  1.37s/it]"
     ]
    },
    {
     "name": "stdout",
     "output_type": "stream",
     "text": [
      "447\t5\t5\t2.46326\tTrue\tTrue\t0:00:01.396713\n"
     ]
    },
    {
     "name": "stderr",
     "output_type": "stream",
     "text": [
      " 90%|████████████████████████████████████████████████████████████████████████████████▊         | 449/500 [10:07<01:09,  1.37s/it]"
     ]
    },
    {
     "name": "stdout",
     "output_type": "stream",
     "text": [
      "448\t9\t9\t2.46326\tTrue\tTrue\t0:00:01.365223\n"
     ]
    },
    {
     "name": "stderr",
     "output_type": "stream",
     "text": [
      " 90%|█████████████████████████████████████████████████████████████████████████████████         | 450/500 [10:08<01:07,  1.34s/it]"
     ]
    },
    {
     "name": "stdout",
     "output_type": "stream",
     "text": [
      "449\t4\t4\t2.46326\tTrue\tTrue\t0:00:01.271882\n"
     ]
    },
    {
     "name": "stderr",
     "output_type": "stream",
     "text": [
      " 90%|█████████████████████████████████████████████████████████████████████████████████▏        | 451/500 [10:09<01:05,  1.33s/it]"
     ]
    },
    {
     "name": "stdout",
     "output_type": "stream",
     "text": [
      "450\t9\t9\t2.46326\tTrue\tTrue\t0:00:01.292499\n"
     ]
    },
    {
     "name": "stderr",
     "output_type": "stream",
     "text": [
      " 90%|█████████████████████████████████████████████████████████████████████████████████▎        | 452/500 [10:11<01:02,  1.31s/it]"
     ]
    },
    {
     "name": "stdout",
     "output_type": "stream",
     "text": [
      "451\t4\t4\t2.46326\tTrue\tTrue\t0:00:01.266935\n"
     ]
    },
    {
     "name": "stderr",
     "output_type": "stream",
     "text": [
      " 91%|█████████████████████████████████████████████████████████████████████████████████▌        | 453/500 [10:12<01:02,  1.33s/it]"
     ]
    },
    {
     "name": "stdout",
     "output_type": "stream",
     "text": [
      "452\t3\t3\t2.46326\tTrue\tTrue\t0:00:01.364755\n"
     ]
    },
    {
     "name": "stderr",
     "output_type": "stream",
     "text": [
      " 91%|█████████████████████████████████████████████████████████████████████████████████▋        | 454/500 [10:13<01:00,  1.32s/it]"
     ]
    },
    {
     "name": "stdout",
     "output_type": "stream",
     "text": [
      "453\t2\t2\t2.46326\tTrue\tTrue\t0:00:01.292943\n"
     ]
    },
    {
     "name": "stderr",
     "output_type": "stream",
     "text": [
      " 91%|█████████████████████████████████████████████████████████████████████████████████▉        | 455/500 [10:15<00:59,  1.32s/it]"
     ]
    },
    {
     "name": "stdout",
     "output_type": "stream",
     "text": [
      "454\t4\t4\t2.46326\tTrue\tTrue\t0:00:01.313756\n"
     ]
    },
    {
     "name": "stderr",
     "output_type": "stream",
     "text": [
      " 91%|██████████████████████████████████████████████████████████████████████████████████        | 456/500 [10:16<00:57,  1.31s/it]"
     ]
    },
    {
     "name": "stdout",
     "output_type": "stream",
     "text": [
      "455\t5\t4\t0.45453\tFalse\tFalse\t0:00:01.284443\n"
     ]
    },
    {
     "name": "stderr",
     "output_type": "stream",
     "text": [
      " 91%|██████████████████████████████████████████████████████████████████████████████████▎       | 457/500 [10:17<00:56,  1.31s/it]"
     ]
    },
    {
     "name": "stdout",
     "output_type": "stream",
     "text": [
      "456\t6\t6\t2.46326\tTrue\tTrue\t0:00:01.312082\n"
     ]
    },
    {
     "name": "stderr",
     "output_type": "stream",
     "text": [
      " 92%|██████████████████████████████████████████████████████████████████████████████████▍       | 458/500 [10:18<00:54,  1.30s/it]"
     ]
    },
    {
     "name": "stdout",
     "output_type": "stream",
     "text": [
      "457\t4\t4\t0.24263\tFalse\tTrue\t0:00:01.266744\n"
     ]
    },
    {
     "name": "stderr",
     "output_type": "stream",
     "text": [
      " 92%|██████████████████████████████████████████████████████████████████████████████████▌       | 459/500 [10:20<00:53,  1.30s/it]"
     ]
    },
    {
     "name": "stdout",
     "output_type": "stream",
     "text": [
      "458\t2\t2\t1.33193\tFalse\tTrue\t0:00:01.300912\n"
     ]
    },
    {
     "name": "stderr",
     "output_type": "stream",
     "text": [
      " 92%|██████████████████████████████████████████████████████████████████████████████████▊       | 460/500 [10:21<00:51,  1.29s/it]"
     ]
    },
    {
     "name": "stdout",
     "output_type": "stream",
     "text": [
      "459\t9\t9\t2.46326\tTrue\tTrue\t0:00:01.265730\n"
     ]
    },
    {
     "name": "stderr",
     "output_type": "stream",
     "text": [
      " 92%|██████████████████████████████████████████████████████████████████████████████████▉       | 461/500 [10:22<00:49,  1.28s/it]"
     ]
    },
    {
     "name": "stdout",
     "output_type": "stream",
     "text": [
      "460\t8\t8\t2.46326\tTrue\tTrue\t0:00:01.255117\n"
     ]
    },
    {
     "name": "stderr",
     "output_type": "stream",
     "text": [
      " 92%|███████████████████████████████████████████████████████████████████████████████████▏      | 462/500 [10:23<00:48,  1.27s/it]"
     ]
    },
    {
     "name": "stdout",
     "output_type": "stream",
     "text": [
      "461\t7\t7\t0.78261\tFalse\tTrue\t0:00:01.245052\n"
     ]
    },
    {
     "name": "stderr",
     "output_type": "stream",
     "text": [
      " 93%|███████████████████████████████████████████████████████████████████████████████████▎      | 463/500 [10:25<00:47,  1.27s/it]"
     ]
    },
    {
     "name": "stdout",
     "output_type": "stream",
     "text": [
      "462\t3\t3\t2.46326\tTrue\tTrue\t0:00:01.272624\n"
     ]
    },
    {
     "name": "stderr",
     "output_type": "stream",
     "text": [
      " 93%|███████████████████████████████████████████████████████████████████████████████████▌      | 464/500 [10:26<00:46,  1.28s/it]"
     ]
    },
    {
     "name": "stdout",
     "output_type": "stream",
     "text": [
      "463\t0\t0\t2.46326\tTrue\tTrue\t0:00:01.306854\n"
     ]
    },
    {
     "name": "stderr",
     "output_type": "stream",
     "text": [
      " 93%|███████████████████████████████████████████████████████████████████████████████████▋      | 465/500 [10:27<00:45,  1.29s/it]"
     ]
    },
    {
     "name": "stdout",
     "output_type": "stream",
     "text": [
      "464\t1\t1\t2.46326\tTrue\tTrue\t0:00:01.313723\n"
     ]
    },
    {
     "name": "stderr",
     "output_type": "stream",
     "text": [
      " 93%|███████████████████████████████████████████████████████████████████████████████████▉      | 466/500 [10:29<00:45,  1.33s/it]"
     ]
    },
    {
     "name": "stdout",
     "output_type": "stream",
     "text": [
      "465\t4\t-1\t0.00000\tFalse\tFalse\t0:00:01.406138\n"
     ]
    },
    {
     "name": "stderr",
     "output_type": "stream",
     "text": [
      " 93%|████████████████████████████████████████████████████████████████████████████████████      | 467/500 [10:30<00:43,  1.33s/it]"
     ]
    },
    {
     "name": "stdout",
     "output_type": "stream",
     "text": [
      "466\t9\t9\t2.46326\tTrue\tTrue\t0:00:01.318982\n"
     ]
    },
    {
     "name": "stderr",
     "output_type": "stream",
     "text": [
      " 94%|████████████████████████████████████████████████████████████████████████████████████▏     | 468/500 [10:31<00:41,  1.31s/it]"
     ]
    },
    {
     "name": "stdout",
     "output_type": "stream",
     "text": [
      "467\t3\t3\t2.46326\tTrue\tTrue\t0:00:01.261805\n"
     ]
    },
    {
     "name": "stderr",
     "output_type": "stream",
     "text": [
      " 94%|████████████████████████████████████████████████████████████████████████████████████▍     | 469/500 [10:33<00:40,  1.32s/it]"
     ]
    },
    {
     "name": "stdout",
     "output_type": "stream",
     "text": [
      "468\t2\t2\t2.46326\tTrue\tTrue\t0:00:01.350593\n"
     ]
    },
    {
     "name": "stderr",
     "output_type": "stream",
     "text": [
      " 94%|████████████████████████████████████████████████████████████████████████████████████▌     | 470/500 [10:34<00:39,  1.32s/it]"
     ]
    },
    {
     "name": "stdout",
     "output_type": "stream",
     "text": [
      "469\t5\t3\t0.23999\tFalse\tFalse\t0:00:01.310201\n"
     ]
    },
    {
     "name": "stderr",
     "output_type": "stream",
     "text": [
      " 94%|████████████████████████████████████████████████████████████████████████████████████▊     | 471/500 [10:35<00:37,  1.31s/it]"
     ]
    },
    {
     "name": "stdout",
     "output_type": "stream",
     "text": [
      "470\t2\t2\t2.46326\tTrue\tTrue\t0:00:01.285227\n"
     ]
    },
    {
     "name": "stderr",
     "output_type": "stream",
     "text": [
      " 94%|████████████████████████████████████████████████████████████████████████████████████▉     | 472/500 [10:37<00:36,  1.29s/it]"
     ]
    },
    {
     "name": "stdout",
     "output_type": "stream",
     "text": [
      "471\t4\t4\t2.46326\tTrue\tTrue\t0:00:01.244543\n"
     ]
    },
    {
     "name": "stderr",
     "output_type": "stream",
     "text": [
      " 95%|█████████████████████████████████████████████████████████████████████████████████████▏    | 473/500 [10:38<00:34,  1.29s/it]"
     ]
    },
    {
     "name": "stdout",
     "output_type": "stream",
     "text": [
      "472\t7\t7\t1.39131\tTrue\tTrue\t0:00:01.290654\n"
     ]
    },
    {
     "name": "stderr",
     "output_type": "stream",
     "text": [
      " 95%|█████████████████████████████████████████████████████████████████████████████████████▎    | 474/500 [10:39<00:33,  1.30s/it]"
     ]
    },
    {
     "name": "stdout",
     "output_type": "stream",
     "text": [
      "473\t8\t8\t0.34204\tFalse\tTrue\t0:00:01.313718\n"
     ]
    },
    {
     "name": "stderr",
     "output_type": "stream",
     "text": [
      " 95%|█████████████████████████████████████████████████████████████████████████████████████▌    | 475/500 [10:40<00:32,  1.29s/it]"
     ]
    },
    {
     "name": "stdout",
     "output_type": "stream",
     "text": [
      "474\t7\t7\t2.46326\tTrue\tTrue\t0:00:01.279704\n"
     ]
    },
    {
     "name": "stderr",
     "output_type": "stream",
     "text": [
      " 95%|█████████████████████████████████████████████████████████████████████████████████████▋    | 476/500 [10:42<00:30,  1.28s/it]"
     ]
    },
    {
     "name": "stdout",
     "output_type": "stream",
     "text": [
      "475\t3\t3\t2.46326\tTrue\tTrue\t0:00:01.235629\n"
     ]
    },
    {
     "name": "stderr",
     "output_type": "stream",
     "text": [
      " 95%|█████████████████████████████████████████████████████████████████████████████████████▊    | 477/500 [10:43<00:29,  1.29s/it]"
     ]
    },
    {
     "name": "stdout",
     "output_type": "stream",
     "text": [
      "476\t8\t8\t2.46326\tTrue\tTrue\t0:00:01.311358\n"
     ]
    },
    {
     "name": "stderr",
     "output_type": "stream",
     "text": [
      " 96%|██████████████████████████████████████████████████████████████████████████████████████    | 478/500 [10:44<00:29,  1.32s/it]"
     ]
    },
    {
     "name": "stdout",
     "output_type": "stream",
     "text": [
      "477\t7\t7\t2.46326\tTrue\tTrue\t0:00:01.393266\n"
     ]
    },
    {
     "name": "stderr",
     "output_type": "stream",
     "text": [
      " 96%|██████████████████████████████████████████████████████████████████████████████████████▏   | 479/500 [10:46<00:28,  1.33s/it]"
     ]
    },
    {
     "name": "stdout",
     "output_type": "stream",
     "text": [
      "478\t9\t9\t2.46326\tTrue\tTrue\t0:00:01.364457\n"
     ]
    },
    {
     "name": "stderr",
     "output_type": "stream",
     "text": [
      " 96%|██████████████████████████████████████████████████████████████████████████████████████▍   | 480/500 [10:47<00:27,  1.36s/it]"
     ]
    },
    {
     "name": "stdout",
     "output_type": "stream",
     "text": [
      "479\t1\t1\t2.46326\tTrue\tTrue\t0:00:01.401714\n"
     ]
    },
    {
     "name": "stderr",
     "output_type": "stream",
     "text": [
      " 96%|██████████████████████████████████████████████████████████████████████████████████████▌   | 481/500 [10:49<00:25,  1.35s/it]"
     ]
    },
    {
     "name": "stdout",
     "output_type": "stream",
     "text": [
      "480\t5\t3\t0.39471\tFalse\tFalse\t0:00:01.330502\n"
     ]
    },
    {
     "name": "stderr",
     "output_type": "stream",
     "text": [
      " 96%|██████████████████████████████████████████████████████████████████████████████████████▊   | 482/500 [10:50<00:24,  1.34s/it]"
     ]
    },
    {
     "name": "stdout",
     "output_type": "stream",
     "text": [
      "481\t0\t0\t0.97513\tFalse\tTrue\t0:00:01.314063\n"
     ]
    },
    {
     "name": "stderr",
     "output_type": "stream",
     "text": [
      " 97%|██████████████████████████████████████████████████████████████████████████████████████▉   | 483/500 [10:51<00:22,  1.32s/it]"
     ]
    },
    {
     "name": "stdout",
     "output_type": "stream",
     "text": [
      "482\t4\t6\t2.46326\tFalse\tFalse\t0:00:01.271030\n"
     ]
    },
    {
     "name": "stderr",
     "output_type": "stream",
     "text": [
      " 97%|███████████████████████████████████████████████████████████████████████████████████████   | 484/500 [10:52<00:20,  1.30s/it]"
     ]
    },
    {
     "name": "stdout",
     "output_type": "stream",
     "text": [
      "483\t9\t9\t2.46326\tTrue\tTrue\t0:00:01.251852\n"
     ]
    },
    {
     "name": "stderr",
     "output_type": "stream",
     "text": [
      " 97%|███████████████████████████████████████████████████████████████████████████████████████▎  | 485/500 [10:54<00:19,  1.29s/it]"
     ]
    },
    {
     "name": "stdout",
     "output_type": "stream",
     "text": [
      "484\t7\t7\t1.61599\tTrue\tTrue\t0:00:01.272350\n"
     ]
    },
    {
     "name": "stderr",
     "output_type": "stream",
     "text": [
      " 97%|███████████████████████████████████████████████████████████████████████████████████████▍  | 486/500 [10:55<00:17,  1.28s/it]"
     ]
    },
    {
     "name": "stdout",
     "output_type": "stream",
     "text": [
      "485\t7\t7\t2.46326\tTrue\tTrue\t0:00:01.249070\n"
     ]
    },
    {
     "name": "stderr",
     "output_type": "stream",
     "text": [
      " 97%|███████████████████████████████████████████████████████████████████████████████████████▋  | 487/500 [10:56<00:16,  1.28s/it]"
     ]
    },
    {
     "name": "stdout",
     "output_type": "stream",
     "text": [
      "486\t4\t4\t2.46326\tTrue\tTrue\t0:00:01.281224\n"
     ]
    },
    {
     "name": "stderr",
     "output_type": "stream",
     "text": [
      " 98%|███████████████████████████████████████████████████████████████████████████████████████▊  | 488/500 [10:58<00:15,  1.30s/it]"
     ]
    },
    {
     "name": "stdout",
     "output_type": "stream",
     "text": [
      "487\t7\t7\t2.46326\tTrue\tTrue\t0:00:01.341483\n"
     ]
    },
    {
     "name": "stderr",
     "output_type": "stream",
     "text": [
      " 98%|████████████████████████████████████████████████████████████████████████████████████████  | 489/500 [10:59<00:14,  1.32s/it]"
     ]
    },
    {
     "name": "stdout",
     "output_type": "stream",
     "text": [
      "488\t1\t1\t2.46326\tTrue\tTrue\t0:00:01.376355\n"
     ]
    },
    {
     "name": "stderr",
     "output_type": "stream",
     "text": [
      " 98%|████████████████████████████████████████████████████████████████████████████████████████▏ | 490/500 [11:00<00:13,  1.34s/it]"
     ]
    },
    {
     "name": "stdout",
     "output_type": "stream",
     "text": [
      "489\t3\t2\t1.42324\tFalse\tFalse\t0:00:01.391433\n"
     ]
    },
    {
     "name": "stderr",
     "output_type": "stream",
     "text": [
      " 98%|████████████████████████████████████████████████████████████████████████████████████████▍ | 491/500 [11:02<00:11,  1.32s/it]"
     ]
    },
    {
     "name": "stdout",
     "output_type": "stream",
     "text": [
      "490\t1\t1\t2.46326\tTrue\tTrue\t0:00:01.266353\n"
     ]
    },
    {
     "name": "stderr",
     "output_type": "stream",
     "text": [
      " 98%|████████████████████████████████████████████████████████████████████████████████████████▌ | 492/500 [11:03<00:10,  1.31s/it]"
     ]
    },
    {
     "name": "stdout",
     "output_type": "stream",
     "text": [
      "491\t8\t8\t2.46326\tTrue\tTrue\t0:00:01.284092\n"
     ]
    },
    {
     "name": "stderr",
     "output_type": "stream",
     "text": [
      " 99%|████████████████████████████████████████████████████████████████████████████████████████▋ | 493/500 [11:04<00:09,  1.31s/it]"
     ]
    },
    {
     "name": "stdout",
     "output_type": "stream",
     "text": [
      "492\t2\t2\t2.46326\tTrue\tTrue\t0:00:01.319727\n"
     ]
    },
    {
     "name": "stderr",
     "output_type": "stream",
     "text": [
      " 99%|████████████████████████████████████████████████████████████████████████████████████████▉ | 494/500 [11:05<00:07,  1.30s/it]"
     ]
    },
    {
     "name": "stdout",
     "output_type": "stream",
     "text": [
      "493\t1\t1\t2.46326\tTrue\tTrue\t0:00:01.266233\n"
     ]
    },
    {
     "name": "stderr",
     "output_type": "stream",
     "text": [
      " 99%|█████████████████████████████████████████████████████████████████████████████████████████ | 495/500 [11:07<00:06,  1.28s/it]"
     ]
    },
    {
     "name": "stdout",
     "output_type": "stream",
     "text": [
      "494\t1\t1\t2.46326\tTrue\tTrue\t0:00:01.225906\n"
     ]
    },
    {
     "name": "stderr",
     "output_type": "stream",
     "text": [
      " 99%|█████████████████████████████████████████████████████████████████████████████████████████▎| 496/500 [11:08<00:05,  1.32s/it]"
     ]
    },
    {
     "name": "stdout",
     "output_type": "stream",
     "text": [
      "495\t9\t9\t2.46326\tTrue\tTrue\t0:00:01.405375\n"
     ]
    },
    {
     "name": "stderr",
     "output_type": "stream",
     "text": [
      " 99%|█████████████████████████████████████████████████████████████████████████████████████████▍| 497/500 [11:09<00:04,  1.34s/it]"
     ]
    },
    {
     "name": "stdout",
     "output_type": "stream",
     "text": [
      "496\t6\t6\t2.46326\tTrue\tTrue\t0:00:01.390702\n"
     ]
    },
    {
     "name": "stderr",
     "output_type": "stream",
     "text": [
      "100%|█████████████████████████████████████████████████████████████████████████████████████████▋| 498/500 [11:11<00:02,  1.36s/it]"
     ]
    },
    {
     "name": "stdout",
     "output_type": "stream",
     "text": [
      "497\t1\t1\t2.46326\tTrue\tTrue\t0:00:01.395531\n"
     ]
    },
    {
     "name": "stderr",
     "output_type": "stream",
     "text": [
      "100%|█████████████████████████████████████████████████████████████████████████████████████████▊| 499/500 [11:12<00:01,  1.35s/it]"
     ]
    },
    {
     "name": "stdout",
     "output_type": "stream",
     "text": [
      "498\t0\t0\t2.46326\tTrue\tTrue\t0:00:01.321932\n"
     ]
    },
    {
     "name": "stderr",
     "output_type": "stream",
     "text": [
      "100%|██████████████████████████████████████████████████████████████████████████████████████████| 500/500 [11:13<00:00,  1.35s/it]"
     ]
    },
    {
     "name": "stdout",
     "output_type": "stream",
     "text": [
      "499\t8\t0\t0.03947\tFalse\tFalse\t0:00:01.283887\n",
      "Total 500 Certified 377 Certified Acc 0.754 Test Acc 0.826\n"
     ]
    },
    {
     "name": "stderr",
     "output_type": "stream",
     "text": [
      "\n"
     ]
    }
   ],
   "source": [
    "# args.base_classifier = \"../../tss_weights/cifar10/resnet110/brightness-contrast/0.3_0.3/consistency/checkpoint.pth.tar\"\n",
    "# args.base_classifier = \"../../new_results/cifar100_resnet110_cifar100_cb_cifar100_cb_checkpoint.pth.tar\"\n",
    "args.base_classifier = '../../tss_weights/cifar10/resnet110/translation/noise_15.0/consistency/checkpoint.pth.tar'\n",
    "\n",
    "args.dataset = 'cifar10'\n",
    "\n",
    "dataset = our_cifar10_500\n",
    "\n",
    "\n",
    "\n",
    "device = torch.device('cuda')\n",
    "checkpoint = torch.load(args.base_classifier, map_location=device)\n",
    "base_classifier = get_architecture(checkpoint[\"arch\"], args.dataset, device=device)\n",
    "base_classifier.load_state_dict(checkpoint[\"state_dict\"])\n",
    "\n",
    "\n",
    "img_size, param_size = get_size(args)\n",
    "\n",
    "model_t = img2img_get_model(args, img_size, param_size,parallel=False)\n",
    "\n",
    "trans_path = None\n",
    "if trans_path is not None:\n",
    "    state_dict = torch.load(trans_path)['state_dict']\n",
    "    model_t.load_state_dict(state_dict)\n",
    "# model_t = load_parallel_model(model_t, state_dict)\n",
    "\n",
    "# to device\n",
    "base_classifier.to(device)\n",
    "base_classifier.eval()\n",
    "model_t.to(device)\n",
    "model_t.eval()\n",
    "\n",
    "\n",
    "#load dataset\n",
    "\n",
    "# corruptor\n",
    "corruptor = Corruption(args, co_type=args.corrupt,add_noise=args.add_noise,noise_sd=args.noise_sd,distribution=args.noise_dst)\n",
    "\n",
    "# create the smooothed classifier g\n",
    "smoothed_classifier = TSmooth(base_classifier, None, corruptor, get_num_classes(args.dataset),args.noise_dst,args.noise_sd, args.add_noise)\n",
    "\n",
    "# prepare output file\n",
    "f = open(args.outfile+'_'+args.dataset+'_'+args.corrupt+'_'+str(args.noise_sd), 'w')\n",
    "print(\"idx\\tlabel\\tpredict\\tradius\\tgood\\tcorrect\\ttime\", file=f, flush=True)\n",
    "print(\"idx\\tlabel\\tpredict\\tradius\\tgood\\tcorrect\\ttime\")\n",
    "\n",
    "tot, tot_good, tot_correct = 0, 0, 0\n",
    "\n",
    "# for gaussian smooth\n",
    "attack_radius = args.partial_max\n",
    "\n",
    "\n",
    "# dataset = get_dataset(args.dataset, args.split)\n",
    "dataset = our_cifar10_500\n",
    "for i in tqdm(range(len(dataset))):\n",
    "\n",
    "#     # only certify every args.skip examples, and stop after args.max examples\n",
    "#     if i % args.skip != 0:\n",
    "#         continue\n",
    "#     if i == args.max:\n",
    "#         break\n",
    "\n",
    "    (x, label) = dataset[i]\n",
    "\n",
    "    before_time = time()\n",
    "    x = x.cuda()\n",
    "    prediction, radius = smoothed_classifier.certify(x, args.N0, args.N, args.alpha, args.batch)\n",
    "\n",
    "\n",
    "    correct = (prediction == label).item()\n",
    "    cond1 = radius * args.noise_sd > args.partial_max\n",
    "#     print(cond1.dtype)\n",
    "#     print(correct.dtype)\n",
    "    good = (radius * args.noise_sd > args.partial_max)&correct\n",
    "\n",
    "    tot, tot_good, tot_correct = tot+1, tot_good+good, tot_correct+correct\n",
    "    after_time = time()\n",
    "    time_elapsed = str(datetime.timedelta(seconds=(after_time - before_time)))\n",
    "    print(\"{}\\t{}\\t{}\\t{:.5f}\\t{}\\t{}\\t{}\".format(i, label, prediction, radius, good, correct, time_elapsed))\n",
    "\n",
    "f.close()\n",
    "\n",
    "print(\"Total {} Certified {} Certified Acc {} Test Acc {}\".format(tot, tot_good, tot_good/tot, tot_correct/tot))\n",
    "\n",
    "f = open(args.outfile+'_'+args.dataset+'_'+args.corrupt+'_'+str(args.noise_sd), 'w')\n",
    "print(\"Total {} Certified {} Certified Acc {} Test Acc {}\".format(tot, tot_good, tot_good/tot, tot_correct/tot), file=f, flush=True)\n",
    "f.close()"
   ]
  },
  {
   "cell_type": "markdown",
   "id": "a5dead3b",
   "metadata": {},
   "source": [
    "## CIFAR-100"
   ]
  },
  {
   "cell_type": "code",
   "execution_count": 16,
   "id": "efcc7e7a",
   "metadata": {},
   "outputs": [
    {
     "name": "stdout",
     "output_type": "stream",
     "text": [
      "idx\tlabel\tpredict\tradius\tgood\tcorrect\ttime\n"
     ]
    },
    {
     "name": "stderr",
     "output_type": "stream",
     "text": [
      "  0%|▏                                                                                           | 1/500 [00:01<11:07,  1.34s/it]"
     ]
    },
    {
     "name": "stdout",
     "output_type": "stream",
     "text": [
      "0\t10\t-1\t0.00000\tFalse\tFalse\t0:00:01.337144\n"
     ]
    },
    {
     "name": "stderr",
     "output_type": "stream",
     "text": [
      "  0%|▎                                                                                           | 2/500 [00:02<11:20,  1.37s/it]"
     ]
    },
    {
     "name": "stdout",
     "output_type": "stream",
     "text": [
      "1\t46\t83\t1.29070\tFalse\tFalse\t0:00:01.384363\n"
     ]
    },
    {
     "name": "stderr",
     "output_type": "stream",
     "text": [
      "  1%|▌                                                                                           | 3/500 [00:04<12:04,  1.46s/it]"
     ]
    },
    {
     "name": "stdout",
     "output_type": "stream",
     "text": [
      "2\t50\t14\t2.46326\tFalse\tFalse\t0:00:01.562305\n"
     ]
    },
    {
     "name": "stderr",
     "output_type": "stream",
     "text": [
      "  1%|▋                                                                                           | 4/500 [00:05<12:24,  1.50s/it]"
     ]
    },
    {
     "name": "stdout",
     "output_type": "stream",
     "text": [
      "3\t14\t42\t0.28249\tFalse\tFalse\t0:00:01.562961\n"
     ]
    },
    {
     "name": "stderr",
     "output_type": "stream",
     "text": [
      "  1%|▉                                                                                           | 5/500 [00:07<12:54,  1.56s/it]"
     ]
    },
    {
     "name": "stdout",
     "output_type": "stream",
     "text": [
      "4\t37\t37\t0.28517\tTrue\tTrue\t0:00:01.676805\n"
     ]
    },
    {
     "name": "stderr",
     "output_type": "stream",
     "text": [
      "  1%|█                                                                                           | 6/500 [00:09<13:02,  1.58s/it]"
     ]
    },
    {
     "name": "stdout",
     "output_type": "stream",
     "text": [
      "5\t39\t2\t0.46033\tFalse\tFalse\t0:00:01.616570\n"
     ]
    },
    {
     "name": "stderr",
     "output_type": "stream",
     "text": [
      "  1%|█▎                                                                                          | 7/500 [00:10<12:48,  1.56s/it]"
     ]
    },
    {
     "name": "stdout",
     "output_type": "stream",
     "text": [
      "6\t65\t-1\t0.00000\tFalse\tFalse\t0:00:01.503263\n"
     ]
    },
    {
     "name": "stderr",
     "output_type": "stream",
     "text": [
      "  2%|█▍                                                                                          | 8/500 [00:12<12:51,  1.57s/it]"
     ]
    },
    {
     "name": "stdout",
     "output_type": "stream",
     "text": [
      "7\t25\t-1\t0.00000\tFalse\tFalse\t0:00:01.587096\n"
     ]
    },
    {
     "name": "stderr",
     "output_type": "stream",
     "text": [
      "  2%|█▋                                                                                          | 9/500 [00:13<13:02,  1.59s/it]"
     ]
    },
    {
     "name": "stdout",
     "output_type": "stream",
     "text": [
      "8\t75\t75\t0.49551\tTrue\tTrue\t0:00:01.647435\n"
     ]
    },
    {
     "name": "stderr",
     "output_type": "stream",
     "text": [
      "  2%|█▊                                                                                         | 10/500 [00:15<12:57,  1.59s/it]"
     ]
    },
    {
     "name": "stdout",
     "output_type": "stream",
     "text": [
      "9\t10\t36\t0.12326\tFalse\tFalse\t0:00:01.565548\n"
     ]
    },
    {
     "name": "stderr",
     "output_type": "stream",
     "text": [
      "  2%|██                                                                                         | 11/500 [00:17<13:09,  1.61s/it]"
     ]
    },
    {
     "name": "stdout",
     "output_type": "stream",
     "text": [
      "10\t44\t-1\t0.00000\tFalse\tFalse\t0:00:01.676362\n"
     ]
    },
    {
     "name": "stderr",
     "output_type": "stream",
     "text": [
      "  2%|██▏                                                                                        | 12/500 [00:18<13:12,  1.62s/it]"
     ]
    },
    {
     "name": "stdout",
     "output_type": "stream",
     "text": [
      "11\t11\t58\t0.74304\tFalse\tFalse\t0:00:01.640602\n"
     ]
    },
    {
     "name": "stderr",
     "output_type": "stream",
     "text": [
      "  3%|██▎                                                                                        | 13/500 [00:20<13:07,  1.62s/it]"
     ]
    },
    {
     "name": "stdout",
     "output_type": "stream",
     "text": [
      "12\t90\t89\t0.36130\tFalse\tFalse\t0:00:01.600050\n"
     ]
    },
    {
     "name": "stderr",
     "output_type": "stream",
     "text": [
      "  3%|██▌                                                                                        | 14/500 [00:22<13:19,  1.64s/it]"
     ]
    },
    {
     "name": "stdout",
     "output_type": "stream",
     "text": [
      "13\t79\t35\t1.01599\tFalse\tFalse\t0:00:01.704777\n"
     ]
    },
    {
     "name": "stderr",
     "output_type": "stream",
     "text": [
      "  3%|██▋                                                                                        | 15/500 [00:23<13:01,  1.61s/it]"
     ]
    },
    {
     "name": "stdout",
     "output_type": "stream",
     "text": [
      "14\t52\t-1\t0.00000\tFalse\tFalse\t0:00:01.535873\n"
     ]
    },
    {
     "name": "stderr",
     "output_type": "stream",
     "text": [
      "  3%|██▉                                                                                        | 16/500 [00:25<12:57,  1.61s/it]"
     ]
    },
    {
     "name": "stdout",
     "output_type": "stream",
     "text": [
      "15\t10\t30\t0.64126\tFalse\tFalse\t0:00:01.592501\n"
     ]
    },
    {
     "name": "stderr",
     "output_type": "stream",
     "text": [
      "  3%|███                                                                                        | 17/500 [00:26<13:05,  1.63s/it]"
     ]
    },
    {
     "name": "stdout",
     "output_type": "stream",
     "text": [
      "16\t82\t82\t0.49847\tTrue\tTrue\t0:00:01.665660\n"
     ]
    },
    {
     "name": "stderr",
     "output_type": "stream",
     "text": [
      "  4%|███▎                                                                                       | 18/500 [00:28<13:21,  1.66s/it]"
     ]
    },
    {
     "name": "stdout",
     "output_type": "stream",
     "text": [
      "17\t13\t81\t0.67428\tFalse\tFalse\t0:00:01.743897\n"
     ]
    },
    {
     "name": "stderr",
     "output_type": "stream",
     "text": [
      "  4%|███▍                                                                                       | 19/500 [00:30<12:47,  1.59s/it]"
     ]
    },
    {
     "name": "stdout",
     "output_type": "stream",
     "text": [
      "18\t37\t-1\t0.00000\tFalse\tFalse\t0:00:01.435915\n"
     ]
    },
    {
     "name": "stderr",
     "output_type": "stream",
     "text": [
      "  4%|███▋                                                                                       | 20/500 [00:31<12:30,  1.56s/it]"
     ]
    },
    {
     "name": "stdout",
     "output_type": "stream",
     "text": [
      "19\t54\t-1\t0.00000\tFalse\tFalse\t0:00:01.489278\n"
     ]
    },
    {
     "name": "stderr",
     "output_type": "stream",
     "text": [
      "  4%|███▊                                                                                       | 21/500 [00:33<12:20,  1.55s/it]"
     ]
    },
    {
     "name": "stdout",
     "output_type": "stream",
     "text": [
      "20\t95\t30\t0.71853\tFalse\tFalse\t0:00:01.499001\n"
     ]
    },
    {
     "name": "stderr",
     "output_type": "stream",
     "text": [
      "  4%|████                                                                                       | 22/500 [00:34<12:01,  1.51s/it]"
     ]
    },
    {
     "name": "stdout",
     "output_type": "stream",
     "text": [
      "21\t43\t43\t1.62766\tTrue\tTrue\t0:00:01.422417\n"
     ]
    },
    {
     "name": "stderr",
     "output_type": "stream",
     "text": [
      "  5%|████▏                                                                                      | 23/500 [00:35<11:49,  1.49s/it]"
     ]
    },
    {
     "name": "stdout",
     "output_type": "stream",
     "text": [
      "22\t0\t0\t2.46326\tTrue\tTrue\t0:00:01.435730\n"
     ]
    },
    {
     "name": "stderr",
     "output_type": "stream",
     "text": [
      "  5%|████▎                                                                                      | 24/500 [00:37<11:47,  1.49s/it]"
     ]
    },
    {
     "name": "stdout",
     "output_type": "stream",
     "text": [
      "23\t1\t-1\t0.00000\tFalse\tFalse\t0:00:01.481989\n"
     ]
    },
    {
     "name": "stderr",
     "output_type": "stream",
     "text": [
      "  5%|████▌                                                                                      | 25/500 [00:38<11:38,  1.47s/it]"
     ]
    },
    {
     "name": "stdout",
     "output_type": "stream",
     "text": [
      "24\t94\t94\t2.46326\tTrue\tTrue\t0:00:01.433316\n"
     ]
    },
    {
     "name": "stderr",
     "output_type": "stream",
     "text": [
      "  5%|████▋                                                                                      | 26/500 [00:40<11:22,  1.44s/it]"
     ]
    },
    {
     "name": "stdout",
     "output_type": "stream",
     "text": [
      "25\t82\t-1\t0.00000\tFalse\tFalse\t0:00:01.361689\n"
     ]
    },
    {
     "name": "stderr",
     "output_type": "stream",
     "text": [
      "  5%|████▉                                                                                      | 27/500 [00:41<11:23,  1.45s/it]"
     ]
    },
    {
     "name": "stdout",
     "output_type": "stream",
     "text": [
      "26\t39\t39\t0.14891\tTrue\tTrue\t0:00:01.459806\n"
     ]
    },
    {
     "name": "stderr",
     "output_type": "stream",
     "text": [
      "  6%|█████                                                                                      | 28/500 [00:43<11:24,  1.45s/it]"
     ]
    },
    {
     "name": "stdout",
     "output_type": "stream",
     "text": [
      "27\t92\t83\t0.61221\tFalse\tFalse\t0:00:01.459762\n"
     ]
    },
    {
     "name": "stderr",
     "output_type": "stream",
     "text": [
      "  6%|█████▎                                                                                     | 29/500 [00:44<11:17,  1.44s/it]"
     ]
    },
    {
     "name": "stdout",
     "output_type": "stream",
     "text": [
      "28\t61\t-1\t0.00000\tFalse\tFalse\t0:00:01.404206\n"
     ]
    },
    {
     "name": "stderr",
     "output_type": "stream",
     "text": [
      "  6%|█████▍                                                                                     | 30/500 [00:45<11:13,  1.43s/it]"
     ]
    },
    {
     "name": "stdout",
     "output_type": "stream",
     "text": [
      "29\t93\t-1\t0.00000\tFalse\tFalse\t0:00:01.417790\n"
     ]
    },
    {
     "name": "stderr",
     "output_type": "stream",
     "text": [
      "  6%|█████▋                                                                                     | 31/500 [00:47<11:12,  1.43s/it]"
     ]
    },
    {
     "name": "stdout",
     "output_type": "stream",
     "text": [
      "30\t89\t85\t1.34627\tFalse\tFalse\t0:00:01.437109\n"
     ]
    },
    {
     "name": "stderr",
     "output_type": "stream",
     "text": [
      "  6%|█████▊                                                                                     | 32/500 [00:48<11:01,  1.41s/it]"
     ]
    },
    {
     "name": "stdout",
     "output_type": "stream",
     "text": [
      "31\t42\t-1\t0.00000\tFalse\tFalse\t0:00:01.364342\n"
     ]
    },
    {
     "name": "stderr",
     "output_type": "stream",
     "text": [
      "  7%|██████                                                                                     | 33/500 [00:50<10:59,  1.41s/it]"
     ]
    },
    {
     "name": "stdout",
     "output_type": "stream",
     "text": [
      "32\t29\t29\t2.28429\tTrue\tTrue\t0:00:01.407537\n"
     ]
    },
    {
     "name": "stderr",
     "output_type": "stream",
     "text": [
      "  7%|██████▏                                                                                    | 34/500 [00:51<11:04,  1.43s/it]"
     ]
    },
    {
     "name": "stdout",
     "output_type": "stream",
     "text": [
      "33\t63\t-1\t0.00000\tFalse\tFalse\t0:00:01.449805\n"
     ]
    },
    {
     "name": "stderr",
     "output_type": "stream",
     "text": [
      "  7%|██████▎                                                                                    | 35/500 [00:53<10:55,  1.41s/it]"
     ]
    },
    {
     "name": "stdout",
     "output_type": "stream",
     "text": [
      "34\t36\t35\t0.25321\tFalse\tFalse\t0:00:01.368780\n"
     ]
    },
    {
     "name": "stderr",
     "output_type": "stream",
     "text": [
      "  7%|██████▌                                                                                    | 36/500 [00:54<10:54,  1.41s/it]"
     ]
    },
    {
     "name": "stdout",
     "output_type": "stream",
     "text": [
      "35\t51\t62\t0.02434\tFalse\tFalse\t0:00:01.411568\n"
     ]
    },
    {
     "name": "stderr",
     "output_type": "stream",
     "text": [
      "  7%|██████▋                                                                                    | 37/500 [00:55<11:00,  1.43s/it]"
     ]
    },
    {
     "name": "stdout",
     "output_type": "stream",
     "text": [
      "36\t44\t18\t0.44587\tFalse\tFalse\t0:00:01.461424\n"
     ]
    },
    {
     "name": "stderr",
     "output_type": "stream",
     "text": [
      "  8%|██████▉                                                                                    | 38/500 [00:57<11:00,  1.43s/it]"
     ]
    },
    {
     "name": "stdout",
     "output_type": "stream",
     "text": [
      "37\t16\t-1\t0.00000\tFalse\tFalse\t0:00:01.434002\n"
     ]
    },
    {
     "name": "stderr",
     "output_type": "stream",
     "text": [
      "  8%|███████                                                                                    | 39/500 [00:58<11:23,  1.48s/it]"
     ]
    },
    {
     "name": "stdout",
     "output_type": "stream",
     "text": [
      "38\t67\t67\t0.38911\tTrue\tTrue\t0:00:01.603852\n"
     ]
    },
    {
     "name": "stderr",
     "output_type": "stream",
     "text": [
      "  8%|███████▎                                                                                   | 40/500 [01:00<11:19,  1.48s/it]"
     ]
    },
    {
     "name": "stdout",
     "output_type": "stream",
     "text": [
      "39\t36\t36\t0.51937\tTrue\tTrue\t0:00:01.458613\n"
     ]
    },
    {
     "name": "stderr",
     "output_type": "stream",
     "text": [
      "  8%|███████▍                                                                                   | 41/500 [01:01<10:57,  1.43s/it]"
     ]
    },
    {
     "name": "stdout",
     "output_type": "stream",
     "text": [
      "40\t76\t-1\t0.00000\tFalse\tFalse\t0:00:01.324707\n"
     ]
    },
    {
     "name": "stderr",
     "output_type": "stream",
     "text": [
      "  8%|███████▋                                                                                   | 42/500 [01:03<11:03,  1.45s/it]"
     ]
    },
    {
     "name": "stdout",
     "output_type": "stream",
     "text": [
      "41\t73\t-1\t0.00000\tFalse\tFalse\t0:00:01.484396\n"
     ]
    },
    {
     "name": "stderr",
     "output_type": "stream",
     "text": [
      "  9%|███████▊                                                                                   | 43/500 [01:04<10:48,  1.42s/it]"
     ]
    },
    {
     "name": "stdout",
     "output_type": "stream",
     "text": [
      "42\t31\t37\t0.03191\tFalse\tFalse\t0:00:01.347257\n"
     ]
    },
    {
     "name": "stderr",
     "output_type": "stream",
     "text": [
      "  9%|████████                                                                                   | 44/500 [01:05<10:41,  1.41s/it]"
     ]
    },
    {
     "name": "stdout",
     "output_type": "stream",
     "text": [
      "43\t32\t32\t1.00216\tTrue\tTrue\t0:00:01.373276\n"
     ]
    },
    {
     "name": "stderr",
     "output_type": "stream",
     "text": [
      "  9%|████████▏                                                                                  | 45/500 [01:07<10:25,  1.37s/it]"
     ]
    },
    {
     "name": "stdout",
     "output_type": "stream",
     "text": [
      "44\t97\t23\t0.68436\tFalse\tFalse\t0:00:01.298193\n"
     ]
    },
    {
     "name": "stderr",
     "output_type": "stream",
     "text": [
      "  9%|████████▎                                                                                  | 46/500 [01:08<10:20,  1.37s/it]"
     ]
    },
    {
     "name": "stdout",
     "output_type": "stream",
     "text": [
      "45\t37\t81\t0.71853\tFalse\tFalse\t0:00:01.345029\n"
     ]
    },
    {
     "name": "stderr",
     "output_type": "stream",
     "text": [
      "  9%|████████▌                                                                                  | 47/500 [01:09<10:22,  1.37s/it]"
     ]
    },
    {
     "name": "stdout",
     "output_type": "stream",
     "text": [
      "46\t98\t-1\t0.00000\tFalse\tFalse\t0:00:01.386774\n"
     ]
    },
    {
     "name": "stderr",
     "output_type": "stream",
     "text": [
      " 10%|████████▋                                                                                  | 48/500 [01:11<10:26,  1.39s/it]"
     ]
    },
    {
     "name": "stdout",
     "output_type": "stream",
     "text": [
      "47\t56\t56\t1.35356\tTrue\tTrue\t0:00:01.412839\n"
     ]
    },
    {
     "name": "stderr",
     "output_type": "stream",
     "text": [
      " 10%|████████▉                                                                                  | 49/500 [01:12<10:16,  1.37s/it]"
     ]
    },
    {
     "name": "stdout",
     "output_type": "stream",
     "text": [
      "48\t51\t-1\t0.00000\tFalse\tFalse\t0:00:01.322276\n"
     ]
    },
    {
     "name": "stderr",
     "output_type": "stream",
     "text": [
      " 10%|█████████                                                                                  | 50/500 [01:14<10:18,  1.37s/it]"
     ]
    },
    {
     "name": "stdout",
     "output_type": "stream",
     "text": [
      "49\t76\t95\t0.17988\tFalse\tFalse\t0:00:01.384136\n"
     ]
    },
    {
     "name": "stderr",
     "output_type": "stream",
     "text": [
      " 10%|█████████▎                                                                                 | 51/500 [01:15<10:18,  1.38s/it]"
     ]
    },
    {
     "name": "stdout",
     "output_type": "stream",
     "text": [
      "50\t87\t70\t0.54053\tFalse\tFalse\t0:00:01.381635\n"
     ]
    },
    {
     "name": "stderr",
     "output_type": "stream",
     "text": [
      " 10%|█████████▍                                                                                 | 52/500 [01:16<10:29,  1.41s/it]"
     ]
    },
    {
     "name": "stdout",
     "output_type": "stream",
     "text": [
      "51\t81\t81\t0.08250\tTrue\tTrue\t0:00:01.469346\n"
     ]
    },
    {
     "name": "stderr",
     "output_type": "stream",
     "text": [
      " 11%|█████████▋                                                                                 | 53/500 [01:18<10:15,  1.38s/it]"
     ]
    },
    {
     "name": "stdout",
     "output_type": "stream",
     "text": [
      "52\t33\t-1\t0.00000\tFalse\tFalse\t0:00:01.305511\n"
     ]
    },
    {
     "name": "stderr",
     "output_type": "stream",
     "text": [
      " 11%|█████████▊                                                                                 | 54/500 [01:19<10:25,  1.40s/it]"
     ]
    },
    {
     "name": "stdout",
     "output_type": "stream",
     "text": [
      "53\t90\t-1\t0.00000\tFalse\tFalse\t0:00:01.459701\n"
     ]
    },
    {
     "name": "stderr",
     "output_type": "stream",
     "text": [
      " 11%|██████████                                                                                 | 55/500 [01:21<10:41,  1.44s/it]"
     ]
    },
    {
     "name": "stdout",
     "output_type": "stream",
     "text": [
      "54\t33\t33\t2.46326\tTrue\tTrue\t0:00:01.529091\n"
     ]
    },
    {
     "name": "stderr",
     "output_type": "stream",
     "text": [
      " 11%|██████████▏                                                                                | 56/500 [01:22<10:34,  1.43s/it]"
     ]
    },
    {
     "name": "stdout",
     "output_type": "stream",
     "text": [
      "55\t86\t39\t2.46326\tFalse\tFalse\t0:00:01.400135\n"
     ]
    },
    {
     "name": "stderr",
     "output_type": "stream",
     "text": [
      " 11%|██████████▎                                                                                | 57/500 [01:24<10:34,  1.43s/it]"
     ]
    },
    {
     "name": "stdout",
     "output_type": "stream",
     "text": [
      "56\t51\t-1\t0.00000\tFalse\tFalse\t0:00:01.434351\n"
     ]
    },
    {
     "name": "stderr",
     "output_type": "stream",
     "text": [
      " 12%|██████████▌                                                                                | 58/500 [01:25<10:37,  1.44s/it]"
     ]
    },
    {
     "name": "stdout",
     "output_type": "stream",
     "text": [
      "57\t16\t16\t2.46326\tTrue\tTrue\t0:00:01.461969\n"
     ]
    },
    {
     "name": "stderr",
     "output_type": "stream",
     "text": [
      " 12%|██████████▋                                                                                | 59/500 [01:27<10:34,  1.44s/it]"
     ]
    },
    {
     "name": "stdout",
     "output_type": "stream",
     "text": [
      "58\t82\t82\t2.46326\tTrue\tTrue\t0:00:01.429568\n"
     ]
    },
    {
     "name": "stderr",
     "output_type": "stream",
     "text": [
      " 12%|██████████▉                                                                                | 60/500 [01:28<10:35,  1.44s/it]"
     ]
    },
    {
     "name": "stdout",
     "output_type": "stream",
     "text": [
      "59\t73\t73\t2.46326\tTrue\tTrue\t0:00:01.455754\n"
     ]
    },
    {
     "name": "stderr",
     "output_type": "stream",
     "text": [
      " 12%|███████████                                                                                | 61/500 [01:29<10:29,  1.43s/it]"
     ]
    },
    {
     "name": "stdout",
     "output_type": "stream",
     "text": [
      "60\t12\t37\t0.15663\tFalse\tFalse\t0:00:01.407542\n"
     ]
    },
    {
     "name": "stderr",
     "output_type": "stream",
     "text": [
      " 12%|███████████▎                                                                               | 62/500 [01:31<10:25,  1.43s/it]"
     ]
    },
    {
     "name": "stdout",
     "output_type": "stream",
     "text": [
      "61\t4\t88\t1.12502\tFalse\tFalse\t0:00:01.414160\n"
     ]
    },
    {
     "name": "stderr",
     "output_type": "stream",
     "text": [
      " 13%|███████████▍                                                                               | 63/500 [01:32<10:36,  1.46s/it]"
     ]
    },
    {
     "name": "stdout",
     "output_type": "stream",
     "text": [
      "62\t65\t-1\t0.00000\tFalse\tFalse\t0:00:01.520850\n"
     ]
    },
    {
     "name": "stderr",
     "output_type": "stream",
     "text": [
      " 13%|███████████▋                                                                               | 64/500 [01:34<10:36,  1.46s/it]"
     ]
    },
    {
     "name": "stdout",
     "output_type": "stream",
     "text": [
      "63\t17\t37\t0.29859\tFalse\tFalse\t0:00:01.463981\n"
     ]
    },
    {
     "name": "stderr",
     "output_type": "stream",
     "text": [
      " 13%|███████████▊                                                                               | 65/500 [01:35<10:41,  1.48s/it]"
     ]
    },
    {
     "name": "stdout",
     "output_type": "stream",
     "text": [
      "64\t46\t-1\t0.00000\tFalse\tFalse\t0:00:01.507855\n"
     ]
    },
    {
     "name": "stderr",
     "output_type": "stream",
     "text": [
      " 13%|████████████                                                                               | 66/500 [01:37<10:38,  1.47s/it]"
     ]
    },
    {
     "name": "stdout",
     "output_type": "stream",
     "text": [
      "65\t34\t-1\t0.00000\tFalse\tFalse\t0:00:01.458189\n"
     ]
    },
    {
     "name": "stderr",
     "output_type": "stream",
     "text": [
      " 13%|████████████▏                                                                              | 67/500 [01:38<10:41,  1.48s/it]"
     ]
    },
    {
     "name": "stdout",
     "output_type": "stream",
     "text": [
      "66\t56\t56\t2.46326\tTrue\tTrue\t0:00:01.506620\n"
     ]
    },
    {
     "name": "stderr",
     "output_type": "stream",
     "text": [
      " 14%|████████████▍                                                                              | 68/500 [01:40<10:27,  1.45s/it]"
     ]
    },
    {
     "name": "stdout",
     "output_type": "stream",
     "text": [
      "67\t5\t5\t1.09382\tTrue\tTrue\t0:00:01.381405\n"
     ]
    },
    {
     "name": "stderr",
     "output_type": "stream",
     "text": [
      " 14%|████████████▌                                                                              | 69/500 [01:41<10:33,  1.47s/it]"
     ]
    },
    {
     "name": "stdout",
     "output_type": "stream",
     "text": [
      "68\t73\t73\t0.36961\tTrue\tTrue\t0:00:01.502478\n"
     ]
    },
    {
     "name": "stderr",
     "output_type": "stream",
     "text": [
      " 14%|████████████▋                                                                              | 70/500 [01:43<10:28,  1.46s/it]"
     ]
    },
    {
     "name": "stdout",
     "output_type": "stream",
     "text": [
      "69\t47\t52\t0.23472\tFalse\tFalse\t0:00:01.442875\n"
     ]
    },
    {
     "name": "stderr",
     "output_type": "stream",
     "text": [
      " 14%|████████████▉                                                                              | 71/500 [01:44<10:35,  1.48s/it]"
     ]
    },
    {
     "name": "stdout",
     "output_type": "stream",
     "text": [
      "70\t60\t60\t2.46326\tTrue\tTrue\t0:00:01.527333\n"
     ]
    },
    {
     "name": "stderr",
     "output_type": "stream",
     "text": [
      " 14%|█████████████                                                                              | 72/500 [01:46<10:25,  1.46s/it]"
     ]
    },
    {
     "name": "stdout",
     "output_type": "stream",
     "text": [
      "71\t29\t85\t0.09012\tFalse\tFalse\t0:00:01.412875\n"
     ]
    },
    {
     "name": "stderr",
     "output_type": "stream",
     "text": [
      " 15%|█████████████▎                                                                             | 73/500 [01:47<10:25,  1.46s/it]"
     ]
    },
    {
     "name": "stdout",
     "output_type": "stream",
     "text": [
      "72\t16\t-1\t0.00000\tFalse\tFalse\t0:00:01.463901\n"
     ]
    },
    {
     "name": "stderr",
     "output_type": "stream",
     "text": [
      " 15%|█████████████▍                                                                             | 74/500 [01:48<10:24,  1.47s/it]"
     ]
    },
    {
     "name": "stdout",
     "output_type": "stream",
     "text": [
      "73\t53\t-1\t0.00000\tFalse\tFalse\t0:00:01.472001\n"
     ]
    },
    {
     "name": "stderr",
     "output_type": "stream",
     "text": [
      " 15%|█████████████▋                                                                             | 75/500 [01:50<10:26,  1.47s/it]"
     ]
    },
    {
     "name": "stdout",
     "output_type": "stream",
     "text": [
      "74\t67\t24\t0.21111\tFalse\tFalse\t0:00:01.490218\n"
     ]
    },
    {
     "name": "stderr",
     "output_type": "stream",
     "text": [
      " 15%|█████████████▊                                                                             | 76/500 [01:51<10:09,  1.44s/it]"
     ]
    },
    {
     "name": "stdout",
     "output_type": "stream",
     "text": [
      "75\t2\t-1\t0.00000\tFalse\tFalse\t0:00:01.351814\n"
     ]
    },
    {
     "name": "stderr",
     "output_type": "stream",
     "text": [
      " 15%|██████████████                                                                             | 77/500 [01:53<10:18,  1.46s/it]"
     ]
    },
    {
     "name": "stdout",
     "output_type": "stream",
     "text": [
      "76\t63\t-1\t0.00000\tFalse\tFalse\t0:00:01.513222\n"
     ]
    },
    {
     "name": "stderr",
     "output_type": "stream",
     "text": [
      " 16%|██████████████▏                                                                            | 78/500 [01:54<10:15,  1.46s/it]"
     ]
    },
    {
     "name": "stdout",
     "output_type": "stream",
     "text": [
      "77\t82\t82\t2.46326\tTrue\tTrue\t0:00:01.445592\n"
     ]
    },
    {
     "name": "stderr",
     "output_type": "stream",
     "text": [
      " 16%|██████████████▍                                                                            | 79/500 [01:56<10:21,  1.48s/it]"
     ]
    },
    {
     "name": "stdout",
     "output_type": "stream",
     "text": [
      "78\t79\t79\t0.85842\tTrue\tTrue\t0:00:01.518583\n"
     ]
    },
    {
     "name": "stderr",
     "output_type": "stream",
     "text": [
      " 16%|██████████████▌                                                                            | 80/500 [01:57<10:29,  1.50s/it]"
     ]
    },
    {
     "name": "stdout",
     "output_type": "stream",
     "text": [
      "79\t98\t98\t0.40879\tTrue\tTrue\t0:00:01.547079\n"
     ]
    },
    {
     "name": "stderr",
     "output_type": "stream",
     "text": [
      " 16%|██████████████▋                                                                            | 81/500 [01:59<10:27,  1.50s/it]"
     ]
    },
    {
     "name": "stdout",
     "output_type": "stream",
     "text": [
      "80\t3\t21\t0.02938\tFalse\tFalse\t0:00:01.490938\n"
     ]
    },
    {
     "name": "stderr",
     "output_type": "stream",
     "text": [
      " 16%|██████████████▉                                                                            | 82/500 [02:00<10:21,  1.49s/it]"
     ]
    },
    {
     "name": "stdout",
     "output_type": "stream",
     "text": [
      "81\t42\t42\t2.46326\tTrue\tTrue\t0:00:01.461563\n"
     ]
    },
    {
     "name": "stderr",
     "output_type": "stream",
     "text": [
      " 17%|███████████████                                                                            | 83/500 [02:02<10:18,  1.48s/it]"
     ]
    },
    {
     "name": "stdout",
     "output_type": "stream",
     "text": [
      "82\t55\t86\t2.46326\tFalse\tFalse\t0:00:01.470094\n"
     ]
    },
    {
     "name": "stderr",
     "output_type": "stream",
     "text": [
      " 17%|███████████████▎                                                                           | 84/500 [02:03<10:09,  1.47s/it]"
     ]
    },
    {
     "name": "stdout",
     "output_type": "stream",
     "text": [
      "83\t48\t48\t2.46326\tTrue\tTrue\t0:00:01.422173\n"
     ]
    },
    {
     "name": "stderr",
     "output_type": "stream",
     "text": [
      " 17%|███████████████▍                                                                           | 85/500 [02:05<09:58,  1.44s/it]"
     ]
    },
    {
     "name": "stdout",
     "output_type": "stream",
     "text": [
      "84\t82\t82\t0.42867\tTrue\tTrue\t0:00:01.385446\n"
     ]
    },
    {
     "name": "stderr",
     "output_type": "stream",
     "text": [
      " 17%|███████████████▋                                                                           | 86/500 [02:06<09:56,  1.44s/it]"
     ]
    },
    {
     "name": "stdout",
     "output_type": "stream",
     "text": [
      "85\t41\t41\t2.46326\tTrue\tTrue\t0:00:01.438605\n"
     ]
    },
    {
     "name": "stderr",
     "output_type": "stream",
     "text": [
      " 17%|███████████████▊                                                                           | 87/500 [02:07<09:52,  1.43s/it]"
     ]
    },
    {
     "name": "stdout",
     "output_type": "stream",
     "text": [
      "86\t51\t78\t0.24527\tFalse\tFalse\t0:00:01.414249\n"
     ]
    },
    {
     "name": "stderr",
     "output_type": "stream",
     "text": [
      " 18%|████████████████                                                                           | 88/500 [02:09<09:54,  1.44s/it]"
     ]
    },
    {
     "name": "stdout",
     "output_type": "stream",
     "text": [
      "87\t88\t32\t0.40597\tFalse\tFalse\t0:00:01.463542\n"
     ]
    },
    {
     "name": "stderr",
     "output_type": "stream",
     "text": [
      " 18%|████████████████▏                                                                          | 89/500 [02:10<10:01,  1.46s/it]"
     ]
    },
    {
     "name": "stdout",
     "output_type": "stream",
     "text": [
      "88\t98\t-1\t0.00000\tFalse\tFalse\t0:00:01.504131\n"
     ]
    },
    {
     "name": "stderr",
     "output_type": "stream",
     "text": [
      " 18%|████████████████▍                                                                          | 90/500 [02:12<10:01,  1.47s/it]"
     ]
    },
    {
     "name": "stdout",
     "output_type": "stream",
     "text": [
      "89\t24\t28\t0.68099\tFalse\tFalse\t0:00:01.477571\n"
     ]
    },
    {
     "name": "stderr",
     "output_type": "stream",
     "text": [
      " 18%|████████████████▌                                                                          | 91/500 [02:13<09:52,  1.45s/it]"
     ]
    },
    {
     "name": "stdout",
     "output_type": "stream",
     "text": [
      "90\t52\t52\t1.62766\tTrue\tTrue\t0:00:01.401551\n"
     ]
    },
    {
     "name": "stderr",
     "output_type": "stream",
     "text": [
      " 18%|████████████████▋                                                                          | 92/500 [02:15<09:50,  1.45s/it]"
     ]
    },
    {
     "name": "stdout",
     "output_type": "stream",
     "text": [
      "91\t54\t-1\t0.00000\tFalse\tFalse\t0:00:01.441658\n"
     ]
    },
    {
     "name": "stderr",
     "output_type": "stream",
     "text": [
      " 19%|████████████████▉                                                                          | 93/500 [02:16<09:54,  1.46s/it]"
     ]
    },
    {
     "name": "stdout",
     "output_type": "stream",
     "text": [
      "92\t42\t42\t0.23736\tTrue\tTrue\t0:00:01.486538\n"
     ]
    },
    {
     "name": "stderr",
     "output_type": "stream",
     "text": [
      " 19%|█████████████████                                                                          | 94/500 [02:18<09:47,  1.45s/it]"
     ]
    },
    {
     "name": "stdout",
     "output_type": "stream",
     "text": [
      "93\t81\t58\t0.31751\tFalse\tFalse\t0:00:01.411454\n"
     ]
    },
    {
     "name": "stderr",
     "output_type": "stream",
     "text": [
      " 19%|█████████████████▎                                                                         | 95/500 [02:19<09:55,  1.47s/it]"
     ]
    },
    {
     "name": "stdout",
     "output_type": "stream",
     "text": [
      "94\t52\t-1\t0.00000\tFalse\tFalse\t0:00:01.520758\n"
     ]
    },
    {
     "name": "stderr",
     "output_type": "stream",
     "text": [
      " 19%|█████████████████▍                                                                         | 96/500 [02:21<09:53,  1.47s/it]"
     ]
    },
    {
     "name": "stdout",
     "output_type": "stream",
     "text": [
      "95\t94\t94\t2.46326\tTrue\tTrue\t0:00:01.467460\n"
     ]
    },
    {
     "name": "stderr",
     "output_type": "stream",
     "text": [
      " 19%|█████████████████▋                                                                         | 97/500 [02:22<09:49,  1.46s/it]"
     ]
    },
    {
     "name": "stdout",
     "output_type": "stream",
     "text": [
      "96\t19\t-1\t0.00000\tFalse\tFalse\t0:00:01.441519\n"
     ]
    },
    {
     "name": "stderr",
     "output_type": "stream",
     "text": [
      " 20%|█████████████████▊                                                                         | 98/500 [02:23<09:36,  1.43s/it]"
     ]
    },
    {
     "name": "stdout",
     "output_type": "stream",
     "text": [
      "97\t70\t70\t0.73950\tTrue\tTrue\t0:00:01.365339\n"
     ]
    },
    {
     "name": "stderr",
     "output_type": "stream",
     "text": [
      " 20%|██████████████████                                                                         | 99/500 [02:25<09:24,  1.41s/it]"
     ]
    },
    {
     "name": "stdout",
     "output_type": "stream",
     "text": [
      "98\t26\t29\t2.46326\tFalse\tFalse\t0:00:01.341276\n"
     ]
    },
    {
     "name": "stderr",
     "output_type": "stream",
     "text": [
      " 20%|██████████████████                                                                        | 100/500 [02:26<09:22,  1.41s/it]"
     ]
    },
    {
     "name": "stdout",
     "output_type": "stream",
     "text": [
      "99\t46\t46\t1.18572\tTrue\tTrue\t0:00:01.397167\n"
     ]
    },
    {
     "name": "stderr",
     "output_type": "stream",
     "text": [
      " 20%|██████████████████▏                                                                       | 101/500 [02:28<09:33,  1.44s/it]"
     ]
    },
    {
     "name": "stdout",
     "output_type": "stream",
     "text": [
      "100\t55\t-1\t0.00000\tFalse\tFalse\t0:00:01.506233\n"
     ]
    },
    {
     "name": "stderr",
     "output_type": "stream",
     "text": [
      " 20%|██████████████████▎                                                                       | 102/500 [02:29<09:33,  1.44s/it]"
     ]
    },
    {
     "name": "stdout",
     "output_type": "stream",
     "text": [
      "101\t47\t47\t0.04200\tFalse\tTrue\t0:00:01.453722\n"
     ]
    },
    {
     "name": "stderr",
     "output_type": "stream",
     "text": [
      " 21%|██████████████████▌                                                                       | 103/500 [02:31<09:29,  1.44s/it]"
     ]
    },
    {
     "name": "stdout",
     "output_type": "stream",
     "text": [
      "102\t41\t-1\t0.00000\tFalse\tFalse\t0:00:01.416671\n"
     ]
    },
    {
     "name": "stderr",
     "output_type": "stream",
     "text": [
      " 21%|██████████████████▋                                                                       | 104/500 [02:32<09:42,  1.47s/it]"
     ]
    },
    {
     "name": "stdout",
     "output_type": "stream",
     "text": [
      "103\t70\t70\t2.46326\tTrue\tTrue\t0:00:01.554393\n"
     ]
    },
    {
     "name": "stderr",
     "output_type": "stream",
     "text": [
      " 21%|██████████████████▉                                                                       | 105/500 [02:34<09:41,  1.47s/it]"
     ]
    },
    {
     "name": "stdout",
     "output_type": "stream",
     "text": [
      "104\t82\t-1\t0.00000\tFalse\tFalse\t0:00:01.472008\n"
     ]
    },
    {
     "name": "stderr",
     "output_type": "stream",
     "text": [
      " 21%|███████████████████                                                                       | 106/500 [02:35<09:39,  1.47s/it]"
     ]
    },
    {
     "name": "stdout",
     "output_type": "stream",
     "text": [
      "105\t49\t-1\t0.00000\tFalse\tFalse\t0:00:01.465963\n"
     ]
    },
    {
     "name": "stderr",
     "output_type": "stream",
     "text": [
      " 21%|███████████████████▎                                                                      | 107/500 [02:36<09:26,  1.44s/it]"
     ]
    },
    {
     "name": "stdout",
     "output_type": "stream",
     "text": [
      "106\t94\t94\t0.26914\tTrue\tTrue\t0:00:01.363156\n"
     ]
    },
    {
     "name": "stderr",
     "output_type": "stream",
     "text": [
      " 22%|███████████████████▍                                                                      | 108/500 [02:38<09:29,  1.45s/it]"
     ]
    },
    {
     "name": "stdout",
     "output_type": "stream",
     "text": [
      "107\t9\t9\t0.76445\tTrue\tTrue\t0:00:01.483891\n"
     ]
    },
    {
     "name": "stderr",
     "output_type": "stream",
     "text": [
      " 22%|███████████████████▌                                                                      | 109/500 [02:39<09:25,  1.45s/it]"
     ]
    },
    {
     "name": "stdout",
     "output_type": "stream",
     "text": [
      "108\t70\t82\t0.27447\tFalse\tFalse\t0:00:01.422854\n"
     ]
    },
    {
     "name": "stderr",
     "output_type": "stream",
     "text": [
      " 22%|███████████████████▊                                                                      | 110/500 [02:41<09:16,  1.43s/it]"
     ]
    },
    {
     "name": "stdout",
     "output_type": "stream",
     "text": [
      "109\t97\t-1\t0.00000\tFalse\tFalse\t0:00:01.380043\n"
     ]
    },
    {
     "name": "stderr",
     "output_type": "stream",
     "text": [
      " 22%|███████████████████▉                                                                      | 111/500 [02:42<09:17,  1.43s/it]"
     ]
    },
    {
     "name": "stdout",
     "output_type": "stream",
     "text": [
      "110\t16\t-1\t0.00000\tFalse\tFalse\t0:00:01.442905\n"
     ]
    },
    {
     "name": "stderr",
     "output_type": "stream",
     "text": [
      " 22%|████████████████████▏                                                                     | 112/500 [02:44<09:18,  1.44s/it]"
     ]
    },
    {
     "name": "stdout",
     "output_type": "stream",
     "text": [
      "111\t41\t81\t0.90261\tFalse\tFalse\t0:00:01.452527\n"
     ]
    },
    {
     "name": "stderr",
     "output_type": "stream",
     "text": [
      " 23%|████████████████████▎                                                                     | 113/500 [02:45<09:22,  1.45s/it]"
     ]
    },
    {
     "name": "stdout",
     "output_type": "stream",
     "text": [
      "112\t34\t31\t0.74658\tFalse\tFalse\t0:00:01.482621\n"
     ]
    },
    {
     "name": "stderr",
     "output_type": "stream",
     "text": [
      " 23%|████████████████████▌                                                                     | 114/500 [02:47<09:15,  1.44s/it]"
     ]
    },
    {
     "name": "stdout",
     "output_type": "stream",
     "text": [
      "113\t80\t97\t1.35356\tFalse\tFalse\t0:00:01.404436\n"
     ]
    },
    {
     "name": "stderr",
     "output_type": "stream",
     "text": [
      " 23%|████████████████████▋                                                                     | 115/500 [02:48<09:04,  1.42s/it]"
     ]
    },
    {
     "name": "stdout",
     "output_type": "stream",
     "text": [
      "114\t28\t28\t0.75727\tTrue\tTrue\t0:00:01.355683\n"
     ]
    },
    {
     "name": "stderr",
     "output_type": "stream",
     "text": [
      " 23%|████████████████████▉                                                                     | 116/500 [02:49<08:57,  1.40s/it]"
     ]
    },
    {
     "name": "stdout",
     "output_type": "stream",
     "text": [
      "115\t34\t77\t0.12582\tFalse\tFalse\t0:00:01.359357\n"
     ]
    },
    {
     "name": "stderr",
     "output_type": "stream",
     "text": [
      " 23%|█████████████████████                                                                     | 117/500 [02:51<08:57,  1.40s/it]"
     ]
    },
    {
     "name": "stdout",
     "output_type": "stream",
     "text": [
      "116\t48\t-1\t0.00000\tFalse\tFalse\t0:00:01.414033\n"
     ]
    },
    {
     "name": "stderr",
     "output_type": "stream",
     "text": [
      " 24%|█████████████████████▏                                                                    | 118/500 [02:52<08:59,  1.41s/it]"
     ]
    },
    {
     "name": "stdout",
     "output_type": "stream",
     "text": [
      "117\t80\t80\t1.31100\tTrue\tTrue\t0:00:01.428680\n"
     ]
    },
    {
     "name": "stderr",
     "output_type": "stream",
     "text": [
      " 24%|█████████████████████▍                                                                    | 119/500 [02:54<09:09,  1.44s/it]"
     ]
    },
    {
     "name": "stdout",
     "output_type": "stream",
     "text": [
      "118\t69\t-1\t0.00000\tFalse\tFalse\t0:00:01.513094\n"
     ]
    },
    {
     "name": "stderr",
     "output_type": "stream",
     "text": [
      " 24%|█████████████████████▌                                                                    | 120/500 [02:55<09:13,  1.46s/it]"
     ]
    },
    {
     "name": "stdout",
     "output_type": "stream",
     "text": [
      "119\t2\t2\t0.77896\tTrue\tTrue\t0:00:01.481815\n"
     ]
    },
    {
     "name": "stderr",
     "output_type": "stream",
     "text": [
      " 24%|█████████████████████▊                                                                    | 121/500 [02:57<09:02,  1.43s/it]"
     ]
    },
    {
     "name": "stdout",
     "output_type": "stream",
     "text": [
      "120\t38\t36\t0.80107\tFalse\tFalse\t0:00:01.372802\n"
     ]
    },
    {
     "name": "stderr",
     "output_type": "stream",
     "text": [
      " 24%|█████████████████████▉                                                                    | 122/500 [02:58<09:03,  1.44s/it]"
     ]
    },
    {
     "name": "stdout",
     "output_type": "stream",
     "text": [
      "121\t54\t54\t2.46326\tTrue\tTrue\t0:00:01.449493\n"
     ]
    },
    {
     "name": "stderr",
     "output_type": "stream",
     "text": [
      " 25%|██████████████████████▏                                                                   | 123/500 [02:59<09:06,  1.45s/it]"
     ]
    },
    {
     "name": "stdout",
     "output_type": "stream",
     "text": [
      "122\t29\t74\t0.31480\tFalse\tFalse\t0:00:01.473068\n"
     ]
    },
    {
     "name": "stderr",
     "output_type": "stream",
     "text": [
      " 25%|██████████████████████▎                                                                   | 124/500 [03:01<09:05,  1.45s/it]"
     ]
    },
    {
     "name": "stdout",
     "output_type": "stream",
     "text": [
      "123\t64\t-1\t0.00000\tFalse\tFalse\t0:00:01.453020\n"
     ]
    },
    {
     "name": "stderr",
     "output_type": "stream",
     "text": [
      " 25%|██████████████████████▌                                                                   | 125/500 [03:02<08:56,  1.43s/it]"
     ]
    },
    {
     "name": "stdout",
     "output_type": "stream",
     "text": [
      "124\t9\t87\t1.67719\tFalse\tFalse\t0:00:01.376931\n"
     ]
    },
    {
     "name": "stderr",
     "output_type": "stream",
     "text": [
      " 25%|██████████████████████▋                                                                   | 126/500 [03:04<08:59,  1.44s/it]"
     ]
    },
    {
     "name": "stdout",
     "output_type": "stream",
     "text": [
      "125\t91\t91\t2.17769\tTrue\tTrue\t0:00:01.468410\n"
     ]
    },
    {
     "name": "stderr",
     "output_type": "stream",
     "text": [
      " 25%|██████████████████████▊                                                                   | 127/500 [03:05<08:48,  1.42s/it]"
     ]
    },
    {
     "name": "stdout",
     "output_type": "stream",
     "text": [
      "126\t99\t99\t1.61599\tTrue\tTrue\t0:00:01.355784\n"
     ]
    },
    {
     "name": "stderr",
     "output_type": "stream",
     "text": [
      " 26%|███████████████████████                                                                   | 128/500 [03:07<09:00,  1.45s/it]"
     ]
    },
    {
     "name": "stdout",
     "output_type": "stream",
     "text": [
      "127\t79\t-1\t0.00000\tFalse\tFalse\t0:00:01.536632\n"
     ]
    },
    {
     "name": "stderr",
     "output_type": "stream",
     "text": [
      " 26%|███████████████████████▏                                                                  | 129/500 [03:08<09:09,  1.48s/it]"
     ]
    },
    {
     "name": "stdout",
     "output_type": "stream",
     "text": [
      "128\t94\t-1\t0.00000\tFalse\tFalse\t0:00:01.538818\n"
     ]
    },
    {
     "name": "stderr",
     "output_type": "stream",
     "text": [
      " 26%|███████████████████████▍                                                                  | 130/500 [03:10<08:57,  1.45s/it]"
     ]
    },
    {
     "name": "stdout",
     "output_type": "stream",
     "text": [
      "129\t88\t-1\t0.00000\tFalse\tFalse\t0:00:01.388087\n"
     ]
    },
    {
     "name": "stderr",
     "output_type": "stream",
     "text": [
      " 26%|███████████████████████▌                                                                  | 131/500 [03:11<09:01,  1.47s/it]"
     ]
    },
    {
     "name": "stdout",
     "output_type": "stream",
     "text": [
      "130\t64\t-1\t0.00000\tFalse\tFalse\t0:00:01.499956\n"
     ]
    },
    {
     "name": "stderr",
     "output_type": "stream",
     "text": [
      " 26%|███████████████████████▊                                                                  | 132/500 [03:13<09:04,  1.48s/it]"
     ]
    },
    {
     "name": "stdout",
     "output_type": "stream",
     "text": [
      "131\t9\t9\t0.89036\tTrue\tTrue\t0:00:01.504159\n"
     ]
    },
    {
     "name": "stderr",
     "output_type": "stream",
     "text": [
      " 27%|███████████████████████▉                                                                  | 133/500 [03:14<09:08,  1.50s/it]"
     ]
    },
    {
     "name": "stdout",
     "output_type": "stream",
     "text": [
      "132\t68\t68\t1.65182\tTrue\tTrue\t0:00:01.529855\n"
     ]
    },
    {
     "name": "stderr",
     "output_type": "stream",
     "text": [
      " 27%|████████████████████████                                                                  | 134/500 [03:16<09:03,  1.48s/it]"
     ]
    },
    {
     "name": "stdout",
     "output_type": "stream",
     "text": [
      "133\t31\t31\t0.71853\tTrue\tTrue\t0:00:01.454775\n"
     ]
    },
    {
     "name": "stderr",
     "output_type": "stream",
     "text": [
      " 27%|████████████████████████▎                                                                 | 135/500 [03:17<08:59,  1.48s/it]"
     ]
    },
    {
     "name": "stdout",
     "output_type": "stream",
     "text": [
      "134\t43\t15\t1.61599\tFalse\tFalse\t0:00:01.461431\n"
     ]
    },
    {
     "name": "stderr",
     "output_type": "stream",
     "text": [
      " 27%|████████████████████████▍                                                                 | 136/500 [03:18<08:44,  1.44s/it]"
     ]
    },
    {
     "name": "stdout",
     "output_type": "stream",
     "text": [
      "135\t26\t-1\t0.00000\tFalse\tFalse\t0:00:01.348985\n"
     ]
    },
    {
     "name": "stderr",
     "output_type": "stream",
     "text": [
      " 27%|████████████████████████▋                                                                 | 137/500 [03:20<08:48,  1.46s/it]"
     ]
    },
    {
     "name": "stdout",
     "output_type": "stream",
     "text": [
      "136\t50\t-1\t0.00000\tFalse\tFalse\t0:00:01.487024\n"
     ]
    },
    {
     "name": "stderr",
     "output_type": "stream",
     "text": [
      " 28%|████████████████████████▊                                                                 | 138/500 [03:21<08:46,  1.45s/it]"
     ]
    },
    {
     "name": "stdout",
     "output_type": "stream",
     "text": [
      "137\t51\t-1\t0.00000\tFalse\tFalse\t0:00:01.450967\n"
     ]
    },
    {
     "name": "stderr",
     "output_type": "stream",
     "text": [
      " 28%|█████████████████████████                                                                 | 139/500 [03:23<08:41,  1.45s/it]"
     ]
    },
    {
     "name": "stdout",
     "output_type": "stream",
     "text": [
      "138\t7\t67\t0.13350\tFalse\tFalse\t0:00:01.422046\n"
     ]
    },
    {
     "name": "stderr",
     "output_type": "stream",
     "text": [
      " 28%|█████████████████████████▏                                                                | 140/500 [03:24<08:47,  1.46s/it]"
     ]
    },
    {
     "name": "stdout",
     "output_type": "stream",
     "text": [
      "139\t70\t70\t1.55089\tTrue\tTrue\t0:00:01.503873\n"
     ]
    },
    {
     "name": "stderr",
     "output_type": "stream",
     "text": [
      " 28%|█████████████████████████▍                                                                | 141/500 [03:26<08:37,  1.44s/it]"
     ]
    },
    {
     "name": "stdout",
     "output_type": "stream",
     "text": [
      "140\t56\t56\t1.59340\tTrue\tTrue\t0:00:01.388481\n"
     ]
    },
    {
     "name": "stderr",
     "output_type": "stream",
     "text": [
      " 28%|█████████████████████████▌                                                                | 142/500 [03:27<08:34,  1.44s/it]"
     ]
    },
    {
     "name": "stdout",
     "output_type": "stream",
     "text": [
      "141\t30\t30\t0.07235\tTrue\tTrue\t0:00:01.421865\n"
     ]
    },
    {
     "name": "stderr",
     "output_type": "stream",
     "text": [
      " 29%|█████████████████████████▋                                                                | 143/500 [03:28<08:29,  1.43s/it]"
     ]
    },
    {
     "name": "stdout",
     "output_type": "stream",
     "text": [
      "142\t12\t12\t2.46326\tTrue\tTrue\t0:00:01.404276\n"
     ]
    },
    {
     "name": "stderr",
     "output_type": "stream",
     "text": [
      " 29%|█████████████████████████▉                                                                | 144/500 [03:30<08:28,  1.43s/it]"
     ]
    },
    {
     "name": "stdout",
     "output_type": "stream",
     "text": [
      "143\t93\t73\t0.66429\tFalse\tFalse\t0:00:01.423723\n"
     ]
    },
    {
     "name": "stderr",
     "output_type": "stream",
     "text": [
      " 29%|██████████████████████████                                                                | 145/500 [03:31<08:30,  1.44s/it]"
     ]
    },
    {
     "name": "stdout",
     "output_type": "stream",
     "text": [
      "144\t83\t9\t1.10927\tFalse\tFalse\t0:00:01.460828\n"
     ]
    },
    {
     "name": "stderr",
     "output_type": "stream",
     "text": [
      " 29%|██████████████████████████▎                                                               | 146/500 [03:33<08:25,  1.43s/it]"
     ]
    },
    {
     "name": "stdout",
     "output_type": "stream",
     "text": [
      "145\t4\t-1\t0.00000\tFalse\tFalse\t0:00:01.403682\n"
     ]
    },
    {
     "name": "stderr",
     "output_type": "stream",
     "text": [
      " 29%|██████████████████████████▍                                                               | 147/500 [03:34<08:15,  1.40s/it]"
     ]
    },
    {
     "name": "stdout",
     "output_type": "stream",
     "text": [
      "146\t1\t-1\t0.00000\tFalse\tFalse\t0:00:01.345746\n"
     ]
    },
    {
     "name": "stderr",
     "output_type": "stream",
     "text": [
      " 30%|██████████████████████████▋                                                               | 148/500 [03:36<08:14,  1.41s/it]"
     ]
    },
    {
     "name": "stdout",
     "output_type": "stream",
     "text": [
      "147\t72\t-1\t0.00000\tFalse\tFalse\t0:00:01.407387\n"
     ]
    },
    {
     "name": "stderr",
     "output_type": "stream",
     "text": [
      " 30%|██████████████████████████▊                                                               | 149/500 [03:37<08:02,  1.37s/it]"
     ]
    },
    {
     "name": "stdout",
     "output_type": "stream",
     "text": [
      "148\t78\t78\t0.84282\tTrue\tTrue\t0:00:01.295747\n"
     ]
    },
    {
     "name": "stderr",
     "output_type": "stream",
     "text": [
      " 30%|███████████████████████████                                                               | 150/500 [03:38<08:02,  1.38s/it]"
     ]
    },
    {
     "name": "stdout",
     "output_type": "stream",
     "text": [
      "149\t52\t-1\t0.00000\tFalse\tFalse\t0:00:01.382369\n"
     ]
    },
    {
     "name": "stderr",
     "output_type": "stream",
     "text": [
      " 30%|███████████████████████████▏                                                              | 151/500 [03:40<08:00,  1.38s/it]"
     ]
    },
    {
     "name": "stdout",
     "output_type": "stream",
     "text": [
      "150\t47\t81\t2.46326\tFalse\tFalse\t0:00:01.371194\n"
     ]
    },
    {
     "name": "stderr",
     "output_type": "stream",
     "text": [
      " 30%|███████████████████████████▎                                                              | 152/500 [03:41<07:59,  1.38s/it]"
     ]
    },
    {
     "name": "stdout",
     "output_type": "stream",
     "text": [
      "151\t88\t88\t0.03695\tFalse\tTrue\t0:00:01.376423\n"
     ]
    },
    {
     "name": "stderr",
     "output_type": "stream",
     "text": [
      " 31%|███████████████████████████▌                                                              | 153/500 [03:42<08:09,  1.41s/it]"
     ]
    },
    {
     "name": "stdout",
     "output_type": "stream",
     "text": [
      "152\t97\t-1\t0.00000\tFalse\tFalse\t0:00:01.484465\n"
     ]
    },
    {
     "name": "stderr",
     "output_type": "stream",
     "text": [
      " 31%|███████████████████████████▋                                                              | 154/500 [03:44<08:02,  1.39s/it]"
     ]
    },
    {
     "name": "stdout",
     "output_type": "stream",
     "text": [
      "153\t28\t-1\t0.00000\tFalse\tFalse\t0:00:01.356573\n"
     ]
    },
    {
     "name": "stderr",
     "output_type": "stream",
     "text": [
      " 31%|███████████████████████████▉                                                              | 155/500 [03:45<07:56,  1.38s/it]"
     ]
    },
    {
     "name": "stdout",
     "output_type": "stream",
     "text": [
      "154\t16\t-1\t0.00000\tFalse\tFalse\t0:00:01.349634\n"
     ]
    },
    {
     "name": "stderr",
     "output_type": "stream",
     "text": [
      " 31%|████████████████████████████                                                              | 156/500 [03:46<07:49,  1.36s/it]"
     ]
    },
    {
     "name": "stdout",
     "output_type": "stream",
     "text": [
      "155\t92\t70\t1.15201\tFalse\tFalse\t0:00:01.318216\n"
     ]
    },
    {
     "name": "stderr",
     "output_type": "stream",
     "text": [
      " 31%|████████████████████████████▎                                                             | 157/500 [03:48<07:48,  1.37s/it]"
     ]
    },
    {
     "name": "stdout",
     "output_type": "stream",
     "text": [
      "156\t57\t0\t2.46326\tFalse\tFalse\t0:00:01.373298\n"
     ]
    },
    {
     "name": "stderr",
     "output_type": "stream",
     "text": [
      " 32%|████████████████████████████▍                                                             | 158/500 [03:49<07:45,  1.36s/it]"
     ]
    },
    {
     "name": "stdout",
     "output_type": "stream",
     "text": [
      "157\t61\t-1\t0.00000\tFalse\tFalse\t0:00:01.345983\n"
     ]
    },
    {
     "name": "stderr",
     "output_type": "stream",
     "text": [
      " 32%|████████████████████████████▌                                                             | 159/500 [03:51<07:48,  1.37s/it]"
     ]
    },
    {
     "name": "stdout",
     "output_type": "stream",
     "text": [
      "158\t18\t-1\t0.00000\tFalse\tFalse\t0:00:01.397429\n"
     ]
    },
    {
     "name": "stderr",
     "output_type": "stream",
     "text": [
      " 32%|████████████████████████████▊                                                             | 160/500 [03:52<07:54,  1.39s/it]"
     ]
    },
    {
     "name": "stdout",
     "output_type": "stream",
     "text": [
      "159\t10\t-1\t0.00000\tFalse\tFalse\t0:00:01.442151\n"
     ]
    },
    {
     "name": "stderr",
     "output_type": "stream",
     "text": [
      " 32%|████████████████████████████▉                                                             | 161/500 [03:54<08:05,  1.43s/it]"
     ]
    },
    {
     "name": "stdout",
     "output_type": "stream",
     "text": [
      "160\t70\t11\t1.58245\tFalse\tFalse\t0:00:01.514565\n"
     ]
    },
    {
     "name": "stderr",
     "output_type": "stream",
     "text": [
      " 32%|█████████████████████████████▏                                                            | 162/500 [03:55<08:22,  1.49s/it]"
     ]
    },
    {
     "name": "stdout",
     "output_type": "stream",
     "text": [
      "161\t95\t95\t0.97958\tTrue\tTrue\t0:00:01.616343\n"
     ]
    },
    {
     "name": "stderr",
     "output_type": "stream",
     "text": [
      " 33%|█████████████████████████████▎                                                            | 163/500 [03:57<08:27,  1.51s/it]"
     ]
    },
    {
     "name": "stdout",
     "output_type": "stream",
     "text": [
      "162\t89\t-1\t0.00000\tFalse\tFalse\t0:00:01.546711\n"
     ]
    },
    {
     "name": "stderr",
     "output_type": "stream",
     "text": [
      " 33%|█████████████████████████████▌                                                            | 164/500 [03:58<08:17,  1.48s/it]"
     ]
    },
    {
     "name": "stdout",
     "output_type": "stream",
     "text": [
      "163\t88\t88\t0.40033\tTrue\tTrue\t0:00:01.413782\n"
     ]
    },
    {
     "name": "stderr",
     "output_type": "stream",
     "text": [
      " 33%|█████████████████████████████▋                                                            | 165/500 [04:00<08:09,  1.46s/it]"
     ]
    },
    {
     "name": "stdout",
     "output_type": "stream",
     "text": [
      "164\t79\t79\t0.01679\tFalse\tTrue\t0:00:01.418027\n"
     ]
    },
    {
     "name": "stderr",
     "output_type": "stream",
     "text": [
      " 33%|█████████████████████████████▉                                                            | 166/500 [04:01<08:02,  1.45s/it]"
     ]
    },
    {
     "name": "stdout",
     "output_type": "stream",
     "text": [
      "165\t76\t76\t2.46326\tTrue\tTrue\t0:00:01.406163\n"
     ]
    },
    {
     "name": "stderr",
     "output_type": "stream",
     "text": [
      " 33%|██████████████████████████████                                                            | 167/500 [04:02<08:04,  1.46s/it]"
     ]
    },
    {
     "name": "stdout",
     "output_type": "stream",
     "text": [
      "166\t67\t67\t2.46326\tTrue\tTrue\t0:00:01.476607\n"
     ]
    },
    {
     "name": "stderr",
     "output_type": "stream",
     "text": [
      " 34%|██████████████████████████████▏                                                           | 168/500 [04:04<07:57,  1.44s/it]"
     ]
    },
    {
     "name": "stdout",
     "output_type": "stream",
     "text": [
      "167\t38\t-1\t0.00000\tFalse\tFalse\t0:00:01.392977\n"
     ]
    },
    {
     "name": "stderr",
     "output_type": "stream",
     "text": [
      " 34%|██████████████████████████████▍                                                           | 169/500 [04:05<07:57,  1.44s/it]"
     ]
    },
    {
     "name": "stdout",
     "output_type": "stream",
     "text": [
      "168\t54\t54\t0.28785\tTrue\tTrue\t0:00:01.448698\n"
     ]
    },
    {
     "name": "stderr",
     "output_type": "stream",
     "text": [
      " 34%|██████████████████████████████▌                                                           | 170/500 [04:07<08:01,  1.46s/it]"
     ]
    },
    {
     "name": "stdout",
     "output_type": "stream",
     "text": [
      "169\t51\t-1\t0.00000\tFalse\tFalse\t0:00:01.494193\n"
     ]
    },
    {
     "name": "stderr",
     "output_type": "stream",
     "text": [
      " 34%|██████████████████████████████▊                                                           | 171/500 [04:08<07:49,  1.43s/it]"
     ]
    },
    {
     "name": "stdout",
     "output_type": "stream",
     "text": [
      "170\t37\t37\t0.30939\tTrue\tTrue\t0:00:01.352209\n"
     ]
    },
    {
     "name": "stderr",
     "output_type": "stream",
     "text": [
      " 34%|██████████████████████████████▉                                                           | 172/500 [04:10<07:47,  1.43s/it]"
     ]
    },
    {
     "name": "stdout",
     "output_type": "stream",
     "text": [
      "171\t15\t-1\t0.00000\tFalse\tFalse\t0:00:01.419742\n"
     ]
    },
    {
     "name": "stderr",
     "output_type": "stream",
     "text": [
      " 35%|███████████████████████████████▏                                                          | 173/500 [04:11<07:45,  1.42s/it]"
     ]
    },
    {
     "name": "stdout",
     "output_type": "stream",
     "text": [
      "172\t41\t41\t1.58245\tTrue\tTrue\t0:00:01.419717\n"
     ]
    },
    {
     "name": "stderr",
     "output_type": "stream",
     "text": [
      " 35%|███████████████████████████████▎                                                          | 174/500 [04:12<07:42,  1.42s/it]"
     ]
    },
    {
     "name": "stdout",
     "output_type": "stream",
     "text": [
      "173\t4\t-1\t0.00000\tFalse\tFalse\t0:00:01.406994\n"
     ]
    },
    {
     "name": "stderr",
     "output_type": "stream",
     "text": [
      " 35%|███████████████████████████████▍                                                          | 175/500 [04:14<07:36,  1.41s/it]"
     ]
    },
    {
     "name": "stdout",
     "output_type": "stream",
     "text": [
      "174\t64\t-1\t0.00000\tFalse\tFalse\t0:00:01.369503\n"
     ]
    },
    {
     "name": "stderr",
     "output_type": "stream",
     "text": [
      " 35%|███████████████████████████████▋                                                          | 176/500 [04:15<07:47,  1.44s/it]"
     ]
    },
    {
     "name": "stdout",
     "output_type": "stream",
     "text": [
      "175\t86\t-1\t0.00000\tFalse\tFalse\t0:00:01.528040\n"
     ]
    },
    {
     "name": "stderr",
     "output_type": "stream",
     "text": [
      " 35%|███████████████████████████████▊                                                          | 177/500 [04:17<07:50,  1.46s/it]"
     ]
    },
    {
     "name": "stdout",
     "output_type": "stream",
     "text": [
      "176\t39\t39\t2.46326\tTrue\tTrue\t0:00:01.484692\n"
     ]
    },
    {
     "name": "stderr",
     "output_type": "stream",
     "text": [
      " 36%|████████████████████████████████                                                          | 178/500 [04:18<08:01,  1.49s/it]"
     ]
    },
    {
     "name": "stdout",
     "output_type": "stream",
     "text": [
      "177\t29\t-1\t0.00000\tFalse\tFalse\t0:00:01.579795\n"
     ]
    },
    {
     "name": "stderr",
     "output_type": "stream",
     "text": [
      " 36%|████████████████████████████████▏                                                         | 179/500 [04:20<08:04,  1.51s/it]"
     ]
    },
    {
     "name": "stdout",
     "output_type": "stream",
     "text": [
      "178\t29\t29\t2.46326\tTrue\tTrue\t0:00:01.539690\n"
     ]
    },
    {
     "name": "stderr",
     "output_type": "stream",
     "text": [
      " 36%|████████████████████████████████▍                                                         | 180/500 [04:21<07:51,  1.47s/it]"
     ]
    },
    {
     "name": "stdout",
     "output_type": "stream",
     "text": [
      "179\t62\t1\t0.53749\tFalse\tFalse\t0:00:01.394464\n"
     ]
    },
    {
     "name": "stderr",
     "output_type": "stream",
     "text": [
      " 36%|████████████████████████████████▌                                                         | 181/500 [04:23<07:42,  1.45s/it]"
     ]
    },
    {
     "name": "stdout",
     "output_type": "stream",
     "text": [
      "180\t27\t75\t0.30129\tFalse\tFalse\t0:00:01.389754\n"
     ]
    },
    {
     "name": "stderr",
     "output_type": "stream",
     "text": [
      " 36%|████████████████████████████████▊                                                         | 182/500 [04:24<07:34,  1.43s/it]"
     ]
    },
    {
     "name": "stdout",
     "output_type": "stream",
     "text": [
      "181\t85\t-1\t0.00000\tFalse\tFalse\t0:00:01.372692\n"
     ]
    },
    {
     "name": "stderr",
     "output_type": "stream",
     "text": [
      " 37%|████████████████████████████████▉                                                         | 183/500 [04:26<07:30,  1.42s/it]"
     ]
    },
    {
     "name": "stdout",
     "output_type": "stream",
     "text": [
      "182\t71\t-1\t0.00000\tFalse\tFalse\t0:00:01.407999\n"
     ]
    },
    {
     "name": "stderr",
     "output_type": "stream",
     "text": [
      " 37%|█████████████████████████████████                                                         | 184/500 [04:27<07:25,  1.41s/it]"
     ]
    },
    {
     "name": "stdout",
     "output_type": "stream",
     "text": [
      "183\t7\t79\t0.16695\tFalse\tFalse\t0:00:01.372010\n"
     ]
    },
    {
     "name": "stderr",
     "output_type": "stream",
     "text": [
      " 37%|█████████████████████████████████▎                                                        | 185/500 [04:28<07:22,  1.41s/it]"
     ]
    },
    {
     "name": "stdout",
     "output_type": "stream",
     "text": [
      "184\t9\t9\t1.65182\tTrue\tTrue\t0:00:01.397113\n"
     ]
    },
    {
     "name": "stderr",
     "output_type": "stream",
     "text": [
      " 37%|█████████████████████████████████▍                                                        | 186/500 [04:30<07:25,  1.42s/it]"
     ]
    },
    {
     "name": "stdout",
     "output_type": "stream",
     "text": [
      "185\t1\t1\t2.46326\tTrue\tTrue\t0:00:01.448674\n"
     ]
    },
    {
     "name": "stderr",
     "output_type": "stream",
     "text": [
      " 37%|█████████████████████████████████▋                                                        | 187/500 [04:31<07:26,  1.43s/it]"
     ]
    },
    {
     "name": "stdout",
     "output_type": "stream",
     "text": [
      "186\t39\t39\t0.54663\tTrue\tTrue\t0:00:01.438999\n"
     ]
    },
    {
     "name": "stderr",
     "output_type": "stream",
     "text": [
      " 38%|█████████████████████████████████▊                                                        | 188/500 [04:33<07:35,  1.46s/it]"
     ]
    },
    {
     "name": "stdout",
     "output_type": "stream",
     "text": [
      "187\t65\t-1\t0.00000\tFalse\tFalse\t0:00:01.539131\n"
     ]
    },
    {
     "name": "stderr",
     "output_type": "stream",
     "text": [
      " 38%|██████████████████████████████████                                                        | 189/500 [04:34<07:39,  1.48s/it]"
     ]
    },
    {
     "name": "stdout",
     "output_type": "stream",
     "text": [
      "188\t98\t-1\t0.00000\tFalse\tFalse\t0:00:01.511234\n"
     ]
    },
    {
     "name": "stderr",
     "output_type": "stream",
     "text": [
      " 38%|██████████████████████████████████▏                                                       | 190/500 [04:36<07:42,  1.49s/it]"
     ]
    },
    {
     "name": "stdout",
     "output_type": "stream",
     "text": [
      "189\t1\t1\t1.31100\tTrue\tTrue\t0:00:01.526805\n"
     ]
    },
    {
     "name": "stderr",
     "output_type": "stream",
     "text": [
      " 38%|██████████████████████████████████▍                                                       | 191/500 [04:37<07:44,  1.50s/it]"
     ]
    },
    {
     "name": "stdout",
     "output_type": "stream",
     "text": [
      "190\t63\t74\t0.52237\tFalse\tFalse\t0:00:01.526590\n"
     ]
    },
    {
     "name": "stderr",
     "output_type": "stream",
     "text": [
      " 38%|██████████████████████████████████▌                                                       | 192/500 [04:39<07:32,  1.47s/it]"
     ]
    },
    {
     "name": "stdout",
     "output_type": "stream",
     "text": [
      "191\t37\t58\t0.33657\tFalse\tFalse\t0:00:01.382461\n"
     ]
    },
    {
     "name": "stderr",
     "output_type": "stream",
     "text": [
      " 39%|██████████████████████████████████▋                                                       | 193/500 [04:40<07:28,  1.46s/it]"
     ]
    },
    {
     "name": "stdout",
     "output_type": "stream",
     "text": [
      "192\t51\t-1\t0.00000\tFalse\tFalse\t0:00:01.443787\n"
     ]
    },
    {
     "name": "stderr",
     "output_type": "stream",
     "text": [
      " 39%|██████████████████████████████████▉                                                       | 194/500 [04:42<07:26,  1.46s/it]"
     ]
    },
    {
     "name": "stdout",
     "output_type": "stream",
     "text": [
      "193\t71\t-1\t0.00000\tFalse\tFalse\t0:00:01.452034\n"
     ]
    },
    {
     "name": "stderr",
     "output_type": "stream",
     "text": [
      " 39%|███████████████████████████████████                                                       | 195/500 [04:43<07:24,  1.46s/it]"
     ]
    },
    {
     "name": "stdout",
     "output_type": "stream",
     "text": [
      "194\t88\t34\t1.20316\tFalse\tFalse\t0:00:01.445668\n"
     ]
    },
    {
     "name": "stderr",
     "output_type": "stream",
     "text": [
      " 39%|███████████████████████████████████▎                                                      | 196/500 [04:44<07:12,  1.42s/it]"
     ]
    },
    {
     "name": "stdout",
     "output_type": "stream",
     "text": [
      "195\t88\t88\t0.33111\tTrue\tTrue\t0:00:01.343926\n"
     ]
    },
    {
     "name": "stderr",
     "output_type": "stream",
     "text": [
      " 39%|███████████████████████████████████▍                                                      | 197/500 [04:46<07:14,  1.43s/it]"
     ]
    },
    {
     "name": "stdout",
     "output_type": "stream",
     "text": [
      "196\t89\t89\t0.86236\tTrue\tTrue\t0:00:01.457063\n"
     ]
    },
    {
     "name": "stderr",
     "output_type": "stream",
     "text": [
      " 40%|███████████████████████████████████▋                                                      | 198/500 [04:47<07:17,  1.45s/it]"
     ]
    },
    {
     "name": "stdout",
     "output_type": "stream",
     "text": [
      "197\t35\t2\t0.54358\tFalse\tFalse\t0:00:01.477113\n"
     ]
    },
    {
     "name": "stderr",
     "output_type": "stream",
     "text": [
      " 40%|███████████████████████████████████▊                                                      | 199/500 [04:49<07:32,  1.50s/it]"
     ]
    },
    {
     "name": "stdout",
     "output_type": "stream",
     "text": [
      "198\t60\t60\t2.46326\tTrue\tTrue\t0:00:01.626450\n"
     ]
    },
    {
     "name": "stderr",
     "output_type": "stream",
     "text": [
      " 40%|████████████████████████████████████                                                      | 200/500 [04:50<07:28,  1.49s/it]"
     ]
    },
    {
     "name": "stdout",
     "output_type": "stream",
     "text": [
      "199\t20\t20\t2.46326\tTrue\tTrue\t0:00:01.471890\n"
     ]
    },
    {
     "name": "stderr",
     "output_type": "stream",
     "text": [
      " 40%|████████████████████████████████████▏                                                     | 201/500 [04:52<07:16,  1.46s/it]"
     ]
    },
    {
     "name": "stdout",
     "output_type": "stream",
     "text": [
      "200\t14\t-1\t0.00000\tFalse\tFalse\t0:00:01.379787\n"
     ]
    },
    {
     "name": "stderr",
     "output_type": "stream",
     "text": [
      " 40%|████████████████████████████████████▎                                                     | 202/500 [04:53<07:13,  1.45s/it]"
     ]
    },
    {
     "name": "stdout",
     "output_type": "stream",
     "text": [
      "201\t95\t95\t2.46326\tTrue\tTrue\t0:00:01.437887\n"
     ]
    },
    {
     "name": "stderr",
     "output_type": "stream",
     "text": [
      " 41%|████████████████████████████████████▌                                                     | 203/500 [04:55<07:16,  1.47s/it]"
     ]
    },
    {
     "name": "stdout",
     "output_type": "stream",
     "text": [
      "202\t42\t-1\t0.00000\tFalse\tFalse\t0:00:01.499953\n"
     ]
    },
    {
     "name": "stderr",
     "output_type": "stream",
     "text": [
      " 41%|████████████████████████████████████▋                                                     | 204/500 [04:56<07:01,  1.42s/it]"
     ]
    },
    {
     "name": "stdout",
     "output_type": "stream",
     "text": [
      "203\t25\t-1\t0.00000\tFalse\tFalse\t0:00:01.319717\n"
     ]
    },
    {
     "name": "stderr",
     "output_type": "stream",
     "text": [
      " 41%|████████████████████████████████████▉                                                     | 205/500 [04:57<06:52,  1.40s/it]"
     ]
    },
    {
     "name": "stdout",
     "output_type": "stream",
     "text": [
      "204\t91\t54\t0.53143\tFalse\tFalse\t0:00:01.332914\n"
     ]
    },
    {
     "name": "stderr",
     "output_type": "stream",
     "text": [
      " 41%|█████████████████████████████████████                                                     | 206/500 [04:59<06:46,  1.38s/it]"
     ]
    },
    {
     "name": "stdout",
     "output_type": "stream",
     "text": [
      "205\t87\t87\t0.09266\tTrue\tTrue\t0:00:01.341745\n"
     ]
    },
    {
     "name": "stderr",
     "output_type": "stream",
     "text": [
      " 41%|█████████████████████████████████████▎                                                    | 207/500 [05:00<06:50,  1.40s/it]"
     ]
    },
    {
     "name": "stdout",
     "output_type": "stream",
     "text": [
      "206\t25\t-1\t0.00000\tFalse\tFalse\t0:00:01.441209\n"
     ]
    },
    {
     "name": "stderr",
     "output_type": "stream",
     "text": [
      " 42%|█████████████████████████████████████▍                                                    | 208/500 [05:02<06:51,  1.41s/it]"
     ]
    },
    {
     "name": "stdout",
     "output_type": "stream",
     "text": [
      "207\t83\t83\t0.46906\tTrue\tTrue\t0:00:01.422832\n"
     ]
    },
    {
     "name": "stderr",
     "output_type": "stream",
     "text": [
      " 42%|█████████████████████████████████████▌                                                    | 209/500 [05:03<06:50,  1.41s/it]"
     ]
    },
    {
     "name": "stdout",
     "output_type": "stream",
     "text": [
      "208\t21\t30\t0.37794\tFalse\tFalse\t0:00:01.413694\n"
     ]
    },
    {
     "name": "stderr",
     "output_type": "stream",
     "text": [
      " 42%|█████████████████████████████████████▊                                                    | 210/500 [05:04<06:50,  1.41s/it]"
     ]
    },
    {
     "name": "stdout",
     "output_type": "stream",
     "text": [
      "209\t18\t83\t0.85059\tFalse\tFalse\t0:00:01.419211\n"
     ]
    },
    {
     "name": "stderr",
     "output_type": "stream",
     "text": [
      " 42%|█████████████████████████████████████▉                                                    | 211/500 [05:06<06:45,  1.40s/it]"
     ]
    },
    {
     "name": "stdout",
     "output_type": "stream",
     "text": [
      "210\t93\t-1\t0.00000\tFalse\tFalse\t0:00:01.373945\n"
     ]
    },
    {
     "name": "stderr",
     "output_type": "stream",
     "text": [
      " 42%|██████████████████████████████████████▏                                                   | 212/500 [05:07<06:45,  1.41s/it]"
     ]
    },
    {
     "name": "stdout",
     "output_type": "stream",
     "text": [
      "211\t3\t-1\t0.00000\tFalse\tFalse\t0:00:01.418034\n"
     ]
    },
    {
     "name": "stderr",
     "output_type": "stream",
     "text": [
      " 43%|██████████████████████████████████████▎                                                   | 213/500 [05:09<06:42,  1.40s/it]"
     ]
    },
    {
     "name": "stdout",
     "output_type": "stream",
     "text": [
      "212\t92\t62\t1.61599\tFalse\tFalse\t0:00:01.386370\n"
     ]
    },
    {
     "name": "stderr",
     "output_type": "stream",
     "text": [
      " 43%|██████████████████████████████████████▌                                                   | 214/500 [05:10<06:38,  1.39s/it]"
     ]
    },
    {
     "name": "stdout",
     "output_type": "stream",
     "text": [
      "213\t64\t-1\t0.00000\tFalse\tFalse\t0:00:01.372092\n"
     ]
    },
    {
     "name": "stderr",
     "output_type": "stream",
     "text": [
      " 43%|██████████████████████████████████████▋                                                   | 215/500 [05:12<06:45,  1.42s/it]"
     ]
    },
    {
     "name": "stdout",
     "output_type": "stream",
     "text": [
      "214\t35\t98\t1.61599\tFalse\tFalse\t0:00:01.484843\n"
     ]
    },
    {
     "name": "stderr",
     "output_type": "stream",
     "text": [
      " 43%|██████████████████████████████████████▉                                                   | 216/500 [05:13<06:43,  1.42s/it]"
     ]
    },
    {
     "name": "stdout",
     "output_type": "stream",
     "text": [
      "215\t64\t66\t1.69037\tFalse\tFalse\t0:00:01.409992\n"
     ]
    },
    {
     "name": "stderr",
     "output_type": "stream",
     "text": [
      " 43%|███████████████████████████████████████                                                   | 217/500 [05:14<06:33,  1.39s/it]"
     ]
    },
    {
     "name": "stdout",
     "output_type": "stream",
     "text": [
      "216\t49\t-1\t0.00000\tFalse\tFalse\t0:00:01.320328\n"
     ]
    },
    {
     "name": "stderr",
     "output_type": "stream",
     "text": [
      " 44%|███████████████████████████████████████▏                                                  | 218/500 [05:16<06:30,  1.38s/it]"
     ]
    },
    {
     "name": "stdout",
     "output_type": "stream",
     "text": [
      "217\t37\t81\t0.13607\tFalse\tFalse\t0:00:01.367949\n"
     ]
    },
    {
     "name": "stderr",
     "output_type": "stream",
     "text": [
      " 44%|███████████████████████████████████████▍                                                  | 219/500 [05:17<06:35,  1.41s/it]"
     ]
    },
    {
     "name": "stdout",
     "output_type": "stream",
     "text": [
      "218\t42\t-1\t0.00000\tFalse\tFalse\t0:00:01.454918\n"
     ]
    },
    {
     "name": "stderr",
     "output_type": "stream",
     "text": [
      " 44%|███████████████████████████████████████▌                                                  | 220/500 [05:19<06:36,  1.42s/it]"
     ]
    },
    {
     "name": "stdout",
     "output_type": "stream",
     "text": [
      "219\t36\t57\t0.34753\tFalse\tFalse\t0:00:01.438762\n"
     ]
    },
    {
     "name": "stderr",
     "output_type": "stream",
     "text": [
      " 44%|███████████████████████████████████████▊                                                  | 221/500 [05:20<06:47,  1.46s/it]"
     ]
    },
    {
     "name": "stdout",
     "output_type": "stream",
     "text": [
      "220\t80\t-1\t0.00000\tFalse\tFalse\t0:00:01.566449\n"
     ]
    },
    {
     "name": "stderr",
     "output_type": "stream",
     "text": [
      " 44%|███████████████████████████████████████▉                                                  | 222/500 [05:22<06:51,  1.48s/it]"
     ]
    },
    {
     "name": "stdout",
     "output_type": "stream",
     "text": [
      "221\t60\t96\t0.05210\tFalse\tFalse\t0:00:01.519285\n"
     ]
    },
    {
     "name": "stderr",
     "output_type": "stream",
     "text": [
      " 45%|████████████████████████████████████████▏                                                 | 223/500 [05:23<06:47,  1.47s/it]"
     ]
    },
    {
     "name": "stdout",
     "output_type": "stream",
     "text": [
      "222\t6\t88\t0.22159\tFalse\tFalse\t0:00:01.443420\n"
     ]
    },
    {
     "name": "stderr",
     "output_type": "stream",
     "text": [
      " 45%|████████████████████████████████████████▎                                                 | 224/500 [05:24<06:42,  1.46s/it]"
     ]
    },
    {
     "name": "stdout",
     "output_type": "stream",
     "text": [
      "223\t76\t-1\t0.00000\tFalse\tFalse\t0:00:01.428800\n"
     ]
    },
    {
     "name": "stderr",
     "output_type": "stream",
     "text": [
      " 45%|████████████████████████████████████████▌                                                 | 225/500 [05:26<06:45,  1.48s/it]"
     ]
    },
    {
     "name": "stdout",
     "output_type": "stream",
     "text": [
      "224\t45\t18\t0.97070\tFalse\tFalse\t0:00:01.515605\n"
     ]
    },
    {
     "name": "stderr",
     "output_type": "stream",
     "text": [
      " 45%|████████████████████████████████████████▋                                                 | 226/500 [05:27<06:40,  1.46s/it]"
     ]
    },
    {
     "name": "stdout",
     "output_type": "stream",
     "text": [
      "225\t17\t17\t1.33193\tTrue\tTrue\t0:00:01.430042\n"
     ]
    },
    {
     "name": "stderr",
     "output_type": "stream",
     "text": [
      " 45%|████████████████████████████████████████▊                                                 | 227/500 [05:29<06:37,  1.46s/it]"
     ]
    },
    {
     "name": "stdout",
     "output_type": "stream",
     "text": [
      "226\t79\t-1\t0.00000\tFalse\tFalse\t0:00:01.436527\n"
     ]
    },
    {
     "name": "stderr",
     "output_type": "stream",
     "text": [
      " 46%|█████████████████████████████████████████                                                 | 228/500 [05:30<06:36,  1.46s/it]"
     ]
    },
    {
     "name": "stdout",
     "output_type": "stream",
     "text": [
      "227\t29\t26\t0.29590\tFalse\tFalse\t0:00:01.456155\n"
     ]
    },
    {
     "name": "stderr",
     "output_type": "stream",
     "text": [
      " 46%|█████████████████████████████████████████▏                                                | 229/500 [05:32<06:26,  1.43s/it]"
     ]
    },
    {
     "name": "stdout",
     "output_type": "stream",
     "text": [
      "228\t26\t8\t0.80480\tFalse\tFalse\t0:00:01.354095\n"
     ]
    },
    {
     "name": "stderr",
     "output_type": "stream",
     "text": [
      " 46%|█████████████████████████████████████████▍                                                | 230/500 [05:33<06:23,  1.42s/it]"
     ]
    },
    {
     "name": "stdout",
     "output_type": "stream",
     "text": [
      "229\t31\t-1\t0.00000\tFalse\tFalse\t0:00:01.403731\n"
     ]
    },
    {
     "name": "stderr",
     "output_type": "stream",
     "text": [
      " 46%|█████████████████████████████████████████▌                                                | 231/500 [05:35<06:31,  1.45s/it]"
     ]
    },
    {
     "name": "stdout",
     "output_type": "stream",
     "text": [
      "230\t55\t30\t1.33906\tFalse\tFalse\t0:00:01.527987\n"
     ]
    },
    {
     "name": "stderr",
     "output_type": "stream",
     "text": [
      " 46%|█████████████████████████████████████████▊                                                | 232/500 [05:36<06:33,  1.47s/it]"
     ]
    },
    {
     "name": "stdout",
     "output_type": "stream",
     "text": [
      "231\t27\t-1\t0.00000\tFalse\tFalse\t0:00:01.500283\n"
     ]
    },
    {
     "name": "stderr",
     "output_type": "stream",
     "text": [
      " 47%|█████████████████████████████████████████▉                                                | 233/500 [05:38<06:36,  1.49s/it]"
     ]
    },
    {
     "name": "stdout",
     "output_type": "stream",
     "text": [
      "232\t40\t-1\t0.00000\tFalse\tFalse\t0:00:01.523518\n"
     ]
    },
    {
     "name": "stderr",
     "output_type": "stream",
     "text": [
      " 47%|██████████████████████████████████████████                                                | 234/500 [05:39<06:30,  1.47s/it]"
     ]
    },
    {
     "name": "stdout",
     "output_type": "stream",
     "text": [
      "233\t95\t95\t1.32488\tTrue\tTrue\t0:00:01.415706\n"
     ]
    },
    {
     "name": "stderr",
     "output_type": "stream",
     "text": [
      " 47%|██████████████████████████████████████████▎                                               | 235/500 [05:41<06:25,  1.46s/it]"
     ]
    },
    {
     "name": "stdout",
     "output_type": "stream",
     "text": [
      "234\t49\t-1\t0.00000\tFalse\tFalse\t0:00:01.430704\n"
     ]
    },
    {
     "name": "stderr",
     "output_type": "stream",
     "text": [
      " 47%|██████████████████████████████████████████▍                                               | 236/500 [05:42<06:21,  1.44s/it]"
     ]
    },
    {
     "name": "stdout",
     "output_type": "stream",
     "text": [
      "235\t71\t71\t1.33193\tTrue\tTrue\t0:00:01.411307\n"
     ]
    },
    {
     "name": "stderr",
     "output_type": "stream",
     "text": [
      " 47%|██████████████████████████████████████████▋                                               | 237/500 [05:43<06:21,  1.45s/it]"
     ]
    },
    {
     "name": "stdout",
     "output_type": "stream",
     "text": [
      "236\t77\t-1\t0.00000\tFalse\tFalse\t0:00:01.464781\n"
     ]
    },
    {
     "name": "stderr",
     "output_type": "stream",
     "text": [
      " 48%|██████████████████████████████████████████▊                                               | 238/500 [05:45<06:18,  1.44s/it]"
     ]
    },
    {
     "name": "stdout",
     "output_type": "stream",
     "text": [
      "237\t91\t91\t2.46326\tTrue\tTrue\t0:00:01.426500\n"
     ]
    },
    {
     "name": "stderr",
     "output_type": "stream",
     "text": [
      " 48%|███████████████████████████████████████████                                               | 239/500 [05:46<06:10,  1.42s/it]"
     ]
    },
    {
     "name": "stdout",
     "output_type": "stream",
     "text": [
      "238\t9\t69\t2.46326\tFalse\tFalse\t0:00:01.356663\n"
     ]
    },
    {
     "name": "stderr",
     "output_type": "stream",
     "text": [
      " 48%|███████████████████████████████████████████▏                                              | 240/500 [05:48<06:06,  1.41s/it]"
     ]
    },
    {
     "name": "stdout",
     "output_type": "stream",
     "text": [
      "239\t18\t18\t0.40597\tTrue\tTrue\t0:00:01.388875\n"
     ]
    },
    {
     "name": "stderr",
     "output_type": "stream",
     "text": [
      " 48%|███████████████████████████████████████████▍                                              | 241/500 [05:49<06:06,  1.42s/it]"
     ]
    },
    {
     "name": "stdout",
     "output_type": "stream",
     "text": [
      "240\t95\t-1\t0.00000\tFalse\tFalse\t0:00:01.426500\n"
     ]
    },
    {
     "name": "stderr",
     "output_type": "stream",
     "text": [
      " 48%|███████████████████████████████████████████▌                                              | 242/500 [05:50<05:58,  1.39s/it]"
     ]
    },
    {
     "name": "stdout",
     "output_type": "stream",
     "text": [
      "241\t44\t5\t0.05969\tFalse\tFalse\t0:00:01.319365\n"
     ]
    },
    {
     "name": "stderr",
     "output_type": "stream",
     "text": [
      " 49%|███████████████████████████████████████████▋                                              | 243/500 [05:52<05:58,  1.40s/it]"
     ]
    },
    {
     "name": "stdout",
     "output_type": "stream",
     "text": [
      "242\t71\t71\t0.43439\tTrue\tTrue\t0:00:01.413857\n"
     ]
    },
    {
     "name": "stderr",
     "output_type": "stream",
     "text": [
      " 49%|███████████████████████████████████████████▉                                              | 244/500 [05:53<06:04,  1.42s/it]"
     ]
    },
    {
     "name": "stdout",
     "output_type": "stream",
     "text": [
      "243\t92\t0\t1.03005\tFalse\tFalse\t0:00:01.480894\n"
     ]
    },
    {
     "name": "stderr",
     "output_type": "stream",
     "text": [
      " 49%|████████████████████████████████████████████                                              | 245/500 [05:55<06:04,  1.43s/it]"
     ]
    },
    {
     "name": "stdout",
     "output_type": "stream",
     "text": [
      "244\t0\t0\t1.62766\tTrue\tTrue\t0:00:01.447366\n"
     ]
    },
    {
     "name": "stderr",
     "output_type": "stream",
     "text": [
      " 49%|████████████████████████████████████████████▎                                             | 246/500 [05:56<05:58,  1.41s/it]"
     ]
    },
    {
     "name": "stdout",
     "output_type": "stream",
     "text": [
      "245\t29\t15\t0.37516\tFalse\tFalse\t0:00:01.367362\n"
     ]
    },
    {
     "name": "stderr",
     "output_type": "stream",
     "text": [
      " 49%|████████████████████████████████████████████▍                                             | 247/500 [05:57<05:52,  1.39s/it]"
     ]
    },
    {
     "name": "stdout",
     "output_type": "stream",
     "text": [
      "246\t44\t-1\t0.00000\tFalse\tFalse\t0:00:01.350394\n"
     ]
    },
    {
     "name": "stderr",
     "output_type": "stream",
     "text": [
      " 50%|████████████████████████████████████████████▋                                             | 248/500 [05:59<05:53,  1.40s/it]"
     ]
    },
    {
     "name": "stdout",
     "output_type": "stream",
     "text": [
      "247\t1\t-1\t0.00000\tFalse\tFalse\t0:00:01.417592\n"
     ]
    },
    {
     "name": "stderr",
     "output_type": "stream",
     "text": [
      " 50%|████████████████████████████████████████████▊                                             | 249/500 [06:00<05:54,  1.41s/it]"
     ]
    },
    {
     "name": "stdout",
     "output_type": "stream",
     "text": [
      "248\t94\t5\t0.10539\tFalse\tFalse\t0:00:01.435967\n"
     ]
    },
    {
     "name": "stderr",
     "output_type": "stream",
     "text": [
      " 50%|█████████████████████████████████████████████                                             | 250/500 [06:02<05:56,  1.42s/it]"
     ]
    },
    {
     "name": "stdout",
     "output_type": "stream",
     "text": [
      "249\t76\t-1\t0.00000\tFalse\tFalse\t0:00:01.448952\n"
     ]
    },
    {
     "name": "stderr",
     "output_type": "stream",
     "text": [
      " 50%|█████████████████████████████████████████████▏                                            | 251/500 [06:03<05:53,  1.42s/it]"
     ]
    },
    {
     "name": "stdout",
     "output_type": "stream",
     "text": [
      "250\t61\t99\t0.83511\tFalse\tFalse\t0:00:01.412024\n"
     ]
    },
    {
     "name": "stderr",
     "output_type": "stream",
     "text": [
      " 50%|█████████████████████████████████████████████▎                                            | 252/500 [06:05<05:59,  1.45s/it]"
     ]
    },
    {
     "name": "stdout",
     "output_type": "stream",
     "text": [
      "251\t27\t27\t0.75727\tTrue\tTrue\t0:00:01.505814\n"
     ]
    },
    {
     "name": "stderr",
     "output_type": "stream",
     "text": [
      " 51%|█████████████████████████████████████████████▌                                            | 253/500 [06:06<05:55,  1.44s/it]"
     ]
    },
    {
     "name": "stdout",
     "output_type": "stream",
     "text": [
      "252\t79\t-1\t0.00000\tFalse\tFalse\t0:00:01.415559\n"
     ]
    },
    {
     "name": "stderr",
     "output_type": "stream",
     "text": [
      " 51%|█████████████████████████████████████████████▋                                            | 254/500 [06:07<05:51,  1.43s/it]"
     ]
    },
    {
     "name": "stdout",
     "output_type": "stream",
     "text": [
      "253\t31\t-1\t0.00000\tFalse\tFalse\t0:00:01.404118\n"
     ]
    },
    {
     "name": "stderr",
     "output_type": "stream",
     "text": [
      " 51%|█████████████████████████████████████████████▉                                            | 255/500 [06:09<05:48,  1.42s/it]"
     ]
    },
    {
     "name": "stdout",
     "output_type": "stream",
     "text": [
      "254\t74\t-1\t0.00000\tFalse\tFalse\t0:00:01.408042\n"
     ]
    },
    {
     "name": "stderr",
     "output_type": "stream",
     "text": [
      " 51%|██████████████████████████████████████████████                                            | 256/500 [06:10<05:50,  1.44s/it]"
     ]
    },
    {
     "name": "stdout",
     "output_type": "stream",
     "text": [
      "255\t7\t7\t0.78628\tTrue\tTrue\t0:00:01.468071\n"
     ]
    },
    {
     "name": "stderr",
     "output_type": "stream",
     "text": [
      " 51%|██████████████████████████████████████████████▎                                           | 257/500 [06:12<05:45,  1.42s/it]"
     ]
    },
    {
     "name": "stdout",
     "output_type": "stream",
     "text": [
      "256\t46\t11\t0.30939\tFalse\tFalse\t0:00:01.375501\n"
     ]
    },
    {
     "name": "stderr",
     "output_type": "stream",
     "text": [
      " 52%|██████████████████████████████████████████████▍                                           | 258/500 [06:13<05:41,  1.41s/it]"
     ]
    },
    {
     "name": "stdout",
     "output_type": "stream",
     "text": [
      "257\t4\t43\t0.63475\tFalse\tFalse\t0:00:01.391105\n"
     ]
    },
    {
     "name": "stderr",
     "output_type": "stream",
     "text": [
      " 52%|██████████████████████████████████████████████▌                                           | 259/500 [06:14<05:38,  1.40s/it]"
     ]
    },
    {
     "name": "stdout",
     "output_type": "stream",
     "text": [
      "258\t22\t29\t0.41729\tFalse\tFalse\t0:00:01.380931\n"
     ]
    },
    {
     "name": "stderr",
     "output_type": "stream",
     "text": [
      " 52%|██████████████████████████████████████████████▊                                           | 260/500 [06:16<05:42,  1.43s/it]"
     ]
    },
    {
     "name": "stdout",
     "output_type": "stream",
     "text": [
      "259\t98\t87\t0.21111\tFalse\tFalse\t0:00:01.478498\n"
     ]
    },
    {
     "name": "stderr",
     "output_type": "stream",
     "text": [
      " 52%|██████████████████████████████████████████████▉                                           | 261/500 [06:17<05:44,  1.44s/it]"
     ]
    },
    {
     "name": "stdout",
     "output_type": "stream",
     "text": [
      "260\t14\t-1\t0.00000\tFalse\tFalse\t0:00:01.469521\n"
     ]
    },
    {
     "name": "stderr",
     "output_type": "stream",
     "text": [
      " 52%|███████████████████████████████████████████████▏                                          | 262/500 [06:19<05:41,  1.44s/it]"
     ]
    },
    {
     "name": "stdout",
     "output_type": "stream",
     "text": [
      "261\t65\t-1\t0.00000\tFalse\tFalse\t0:00:01.425502\n"
     ]
    },
    {
     "name": "stderr",
     "output_type": "stream",
     "text": [
      " 53%|███████████████████████████████████████████████▎                                          | 263/500 [06:20<05:34,  1.41s/it]"
     ]
    },
    {
     "name": "stdout",
     "output_type": "stream",
     "text": [
      "262\t76\t-1\t0.00000\tFalse\tFalse\t0:00:01.355814\n"
     ]
    },
    {
     "name": "stderr",
     "output_type": "stream",
     "text": [
      " 53%|███████████████████████████████████████████████▌                                          | 264/500 [06:22<05:34,  1.42s/it]"
     ]
    },
    {
     "name": "stdout",
     "output_type": "stream",
     "text": [
      "263\t31\t31\t2.46326\tTrue\tTrue\t0:00:01.430573\n"
     ]
    },
    {
     "name": "stderr",
     "output_type": "stream",
     "text": [
      " 53%|███████████████████████████████████████████████▋                                          | 265/500 [06:23<05:27,  1.40s/it]"
     ]
    },
    {
     "name": "stdout",
     "output_type": "stream",
     "text": [
      "264\t32\t-1\t0.00000\tFalse\tFalse\t0:00:01.336770\n"
     ]
    },
    {
     "name": "stderr",
     "output_type": "stream",
     "text": [
      " 53%|███████████████████████████████████████████████▉                                          | 266/500 [06:24<05:19,  1.37s/it]"
     ]
    },
    {
     "name": "stdout",
     "output_type": "stream",
     "text": [
      "265\t77\t77\t0.97958\tTrue\tTrue\t0:00:01.294739\n"
     ]
    },
    {
     "name": "stderr",
     "output_type": "stream",
     "text": [
      " 53%|████████████████████████████████████████████████                                          | 267/500 [06:26<05:17,  1.36s/it]"
     ]
    },
    {
     "name": "stdout",
     "output_type": "stream",
     "text": [
      "266\t22\t24\t2.13548\tFalse\tFalse\t0:00:01.350704\n"
     ]
    },
    {
     "name": "stderr",
     "output_type": "stream",
     "text": [
      " 54%|████████████████████████████████████████████████▏                                         | 268/500 [06:27<05:26,  1.41s/it]"
     ]
    },
    {
     "name": "stdout",
     "output_type": "stream",
     "text": [
      "267\t25\t-1\t0.00000\tFalse\tFalse\t0:00:01.503866\n"
     ]
    },
    {
     "name": "stderr",
     "output_type": "stream",
     "text": [
      " 54%|████████████████████████████████████████████████▍                                         | 269/500 [06:28<05:17,  1.37s/it]"
     ]
    },
    {
     "name": "stdout",
     "output_type": "stream",
     "text": [
      "268\t45\t1\t0.03443\tFalse\tFalse\t0:00:01.299387\n"
     ]
    },
    {
     "name": "stderr",
     "output_type": "stream",
     "text": [
      " 54%|████████████████████████████████████████████████▌                                         | 270/500 [06:30<05:18,  1.38s/it]"
     ]
    },
    {
     "name": "stdout",
     "output_type": "stream",
     "text": [
      "269\t9\t9\t0.04705\tFalse\tTrue\t0:00:01.400577\n"
     ]
    },
    {
     "name": "stderr",
     "output_type": "stream",
     "text": [
      " 54%|████████████████████████████████████████████████▊                                         | 271/500 [06:31<05:15,  1.38s/it]"
     ]
    },
    {
     "name": "stdout",
     "output_type": "stream",
     "text": [
      "270\t92\t0\t0.78261\tFalse\tFalse\t0:00:01.366984\n"
     ]
    },
    {
     "name": "stderr",
     "output_type": "stream",
     "text": [
      " 54%|████████████████████████████████████████████████▉                                         | 272/500 [06:33<05:17,  1.39s/it]"
     ]
    },
    {
     "name": "stdout",
     "output_type": "stream",
     "text": [
      "271\t71\t71\t0.10029\tTrue\tTrue\t0:00:01.424714\n"
     ]
    },
    {
     "name": "stderr",
     "output_type": "stream",
     "text": [
      " 55%|█████████████████████████████████████████████████▏                                        | 273/500 [06:34<05:12,  1.37s/it]"
     ]
    },
    {
     "name": "stdout",
     "output_type": "stream",
     "text": [
      "272\t85\t58\t0.14634\tFalse\tFalse\t0:00:01.328714\n"
     ]
    },
    {
     "name": "stderr",
     "output_type": "stream",
     "text": [
      " 55%|█████████████████████████████████████████████████▎                                        | 274/500 [06:35<05:14,  1.39s/it]"
     ]
    },
    {
     "name": "stdout",
     "output_type": "stream",
     "text": [
      "273\t0\t0\t0.95321\tTrue\tTrue\t0:00:01.426108\n"
     ]
    },
    {
     "name": "stderr",
     "output_type": "stream",
     "text": [
      " 55%|█████████████████████████████████████████████████▌                                        | 275/500 [06:37<05:12,  1.39s/it]"
     ]
    },
    {
     "name": "stdout",
     "output_type": "stream",
     "text": [
      "274\t40\t-1\t0.00000\tFalse\tFalse\t0:00:01.375150\n"
     ]
    },
    {
     "name": "stderr",
     "output_type": "stream",
     "text": [
      " 55%|█████████████████████████████████████████████████▋                                        | 276/500 [06:38<05:13,  1.40s/it]"
     ]
    },
    {
     "name": "stdout",
     "output_type": "stream",
     "text": [
      "275\t13\t13\t2.46326\tTrue\tTrue\t0:00:01.427166\n"
     ]
    },
    {
     "name": "stderr",
     "output_type": "stream",
     "text": [
      " 55%|█████████████████████████████████████████████████▊                                        | 277/500 [06:40<05:10,  1.39s/it]"
     ]
    },
    {
     "name": "stdout",
     "output_type": "stream",
     "text": [
      "276\t75\t75\t2.46326\tTrue\tTrue\t0:00:01.366421\n"
     ]
    },
    {
     "name": "stderr",
     "output_type": "stream",
     "text": [
      " 56%|██████████████████████████████████████████████████                                        | 278/500 [06:41<05:11,  1.40s/it]"
     ]
    },
    {
     "name": "stdout",
     "output_type": "stream",
     "text": [
      "277\t33\t33\t2.46326\tTrue\tTrue\t0:00:01.427916\n"
     ]
    },
    {
     "name": "stderr",
     "output_type": "stream",
     "text": [
      " 56%|██████████████████████████████████████████████████▏                                       | 279/500 [06:43<05:15,  1.43s/it]"
     ]
    },
    {
     "name": "stdout",
     "output_type": "stream",
     "text": [
      "278\t42\t42\t0.03191\tFalse\tTrue\t0:00:01.490486\n"
     ]
    },
    {
     "name": "stderr",
     "output_type": "stream",
     "text": [
      " 56%|██████████████████████████████████████████████████▍                                       | 280/500 [06:44<05:10,  1.41s/it]"
     ]
    },
    {
     "name": "stdout",
     "output_type": "stream",
     "text": [
      "279\t47\t52\t0.51038\tFalse\tFalse\t0:00:01.365452\n"
     ]
    },
    {
     "name": "stderr",
     "output_type": "stream",
     "text": [
      " 56%|██████████████████████████████████████████████████▌                                       | 281/500 [06:45<05:03,  1.38s/it]"
     ]
    },
    {
     "name": "stdout",
     "output_type": "stream",
     "text": [
      "280\t89\t-1\t0.00000\tFalse\tFalse\t0:00:01.318694\n"
     ]
    },
    {
     "name": "stderr",
     "output_type": "stream",
     "text": [
      " 56%|██████████████████████████████████████████████████▊                                       | 282/500 [06:47<05:04,  1.40s/it]"
     ]
    },
    {
     "name": "stdout",
     "output_type": "stream",
     "text": [
      "281\t11\t35\t0.66761\tFalse\tFalse\t0:00:01.429346\n"
     ]
    },
    {
     "name": "stderr",
     "output_type": "stream",
     "text": [
      " 57%|██████████████████████████████████████████████████▉                                       | 283/500 [06:48<05:04,  1.40s/it]"
     ]
    },
    {
     "name": "stdout",
     "output_type": "stream",
     "text": [
      "282\t31\t31\t1.61599\tTrue\tTrue\t0:00:01.407425\n"
     ]
    },
    {
     "name": "stderr",
     "output_type": "stream",
     "text": [
      " 57%|███████████████████████████████████████████████████                                       | 284/500 [06:50<05:06,  1.42s/it]"
     ]
    },
    {
     "name": "stdout",
     "output_type": "stream",
     "text": [
      "283\t10\t-1\t0.00000\tFalse\tFalse\t0:00:01.453396\n"
     ]
    },
    {
     "name": "stderr",
     "output_type": "stream",
     "text": [
      " 57%|███████████████████████████████████████████████████▎                                      | 285/500 [06:51<05:03,  1.41s/it]"
     ]
    },
    {
     "name": "stdout",
     "output_type": "stream",
     "text": [
      "284\t85\t-1\t0.00000\tFalse\tFalse\t0:00:01.399552\n"
     ]
    },
    {
     "name": "stderr",
     "output_type": "stream",
     "text": [
      " 57%|███████████████████████████████████████████████████▍                                      | 286/500 [06:52<05:04,  1.42s/it]"
     ]
    },
    {
     "name": "stdout",
     "output_type": "stream",
     "text": [
      "285\t44\t-1\t0.00000\tFalse\tFalse\t0:00:01.440212\n"
     ]
    },
    {
     "name": "stderr",
     "output_type": "stream",
     "text": [
      " 57%|███████████████████████████████████████████████████▋                                      | 287/500 [06:54<04:52,  1.37s/it]"
     ]
    },
    {
     "name": "stdout",
     "output_type": "stream",
     "text": [
      "286\t38\t-1\t0.00000\tFalse\tFalse\t0:00:01.258358\n"
     ]
    },
    {
     "name": "stderr",
     "output_type": "stream",
     "text": [
      " 58%|███████████████████████████████████████████████████▊                                      | 288/500 [06:55<04:50,  1.37s/it]"
     ]
    },
    {
     "name": "stdout",
     "output_type": "stream",
     "text": [
      "287\t59\t-1\t0.00000\tFalse\tFalse\t0:00:01.367367\n"
     ]
    },
    {
     "name": "stderr",
     "output_type": "stream",
     "text": [
      " 58%|████████████████████████████████████████████████████                                      | 289/500 [06:56<04:52,  1.38s/it]"
     ]
    },
    {
     "name": "stdout",
     "output_type": "stream",
     "text": [
      "288\t20\t12\t0.34753\tFalse\tFalse\t0:00:01.407978\n"
     ]
    },
    {
     "name": "stderr",
     "output_type": "stream",
     "text": [
      " 58%|████████████████████████████████████████████████████▏                                     | 290/500 [06:58<04:59,  1.43s/it]"
     ]
    },
    {
     "name": "stdout",
     "output_type": "stream",
     "text": [
      "289\t75\t85\t1.61599\tFalse\tFalse\t0:00:01.526167\n"
     ]
    },
    {
     "name": "stderr",
     "output_type": "stream",
     "text": [
      " 58%|████████████████████████████████████████████████████▍                                     | 291/500 [06:59<05:04,  1.46s/it]"
     ]
    },
    {
     "name": "stdout",
     "output_type": "stream",
     "text": [
      "290\t14\t-1\t0.00000\tFalse\tFalse\t0:00:01.521729\n"
     ]
    },
    {
     "name": "stderr",
     "output_type": "stream",
     "text": [
      " 58%|████████████████████████████████████████████████████▌                                     | 292/500 [07:01<05:04,  1.46s/it]"
     ]
    },
    {
     "name": "stdout",
     "output_type": "stream",
     "text": [
      "291\t72\t-1\t0.00000\tFalse\tFalse\t0:00:01.480066\n"
     ]
    },
    {
     "name": "stderr",
     "output_type": "stream",
     "text": [
      " 59%|████████████████████████████████████████████████████▋                                     | 293/500 [07:02<05:01,  1.46s/it]"
     ]
    },
    {
     "name": "stdout",
     "output_type": "stream",
     "text": [
      "292\t71\t28\t0.06981\tFalse\tFalse\t0:00:01.432004\n"
     ]
    },
    {
     "name": "stderr",
     "output_type": "stream",
     "text": [
      " 59%|████████████████████████████████████████████████████▉                                     | 294/500 [07:04<05:03,  1.47s/it]"
     ]
    },
    {
     "name": "stdout",
     "output_type": "stream",
     "text": [
      "293\t8\t8\t0.23999\tTrue\tTrue\t0:00:01.517774\n"
     ]
    },
    {
     "name": "stderr",
     "output_type": "stream",
     "text": [
      " 59%|█████████████████████████████████████████████████████                                     | 295/500 [07:05<05:06,  1.49s/it]"
     ]
    },
    {
     "name": "stdout",
     "output_type": "stream",
     "text": [
      "294\t2\t-1\t0.00000\tFalse\tFalse\t0:00:01.537235\n"
     ]
    },
    {
     "name": "stderr",
     "output_type": "stream",
     "text": [
      " 59%|█████████████████████████████████████████████████████▎                                    | 296/500 [07:07<05:07,  1.51s/it]"
     ]
    },
    {
     "name": "stdout",
     "output_type": "stream",
     "text": [
      "295\t45\t45\t2.46326\tTrue\tTrue\t0:00:01.535470\n"
     ]
    },
    {
     "name": "stderr",
     "output_type": "stream",
     "text": [
      " 59%|█████████████████████████████████████████████████████▍                                    | 297/500 [07:08<05:04,  1.50s/it]"
     ]
    },
    {
     "name": "stdout",
     "output_type": "stream",
     "text": [
      "296\t62\t62\t0.00169\tFalse\tTrue\t0:00:01.483036\n"
     ]
    },
    {
     "name": "stderr",
     "output_type": "stream",
     "text": [
      " 60%|█████████████████████████████████████████████████████▋                                    | 298/500 [07:10<05:00,  1.49s/it]"
     ]
    },
    {
     "name": "stdout",
     "output_type": "stream",
     "text": [
      "297\t34\t34\t1.35356\tTrue\tTrue\t0:00:01.460692\n"
     ]
    },
    {
     "name": "stderr",
     "output_type": "stream",
     "text": [
      " 60%|█████████████████████████████████████████████████████▊                                    | 299/500 [07:11<05:02,  1.51s/it]"
     ]
    },
    {
     "name": "stdout",
     "output_type": "stream",
     "text": [
      "298\t70\t0\t2.46326\tFalse\tFalse\t0:00:01.538870\n"
     ]
    },
    {
     "name": "stderr",
     "output_type": "stream",
     "text": [
      " 60%|██████████████████████████████████████████████████████                                    | 300/500 [07:13<04:56,  1.48s/it]"
     ]
    },
    {
     "name": "stdout",
     "output_type": "stream",
     "text": [
      "299\t33\t-1\t0.00000\tFalse\tFalse\t0:00:01.421543\n"
     ]
    },
    {
     "name": "stderr",
     "output_type": "stream",
     "text": [
      " 60%|██████████████████████████████████████████████████████▏                                   | 301/500 [07:14<04:57,  1.50s/it]"
     ]
    },
    {
     "name": "stdout",
     "output_type": "stream",
     "text": [
      "300\t9\t61\t0.70133\tFalse\tFalse\t0:00:01.529205\n"
     ]
    },
    {
     "name": "stderr",
     "output_type": "stream",
     "text": [
      " 60%|██████████████████████████████████████████████████████▎                                   | 302/500 [07:16<05:02,  1.53s/it]"
     ]
    },
    {
     "name": "stdout",
     "output_type": "stream",
     "text": [
      "301\t8\t-1\t0.00000\tFalse\tFalse\t0:00:01.590593\n"
     ]
    },
    {
     "name": "stderr",
     "output_type": "stream",
     "text": [
      " 61%|██████████████████████████████████████████████████████▌                                   | 303/500 [07:18<05:01,  1.53s/it]"
     ]
    },
    {
     "name": "stdout",
     "output_type": "stream",
     "text": [
      "302\t55\t55\t0.94889\tTrue\tTrue\t0:00:01.534630\n"
     ]
    },
    {
     "name": "stderr",
     "output_type": "stream",
     "text": [
      " 61%|██████████████████████████████████████████████████████▋                                   | 304/500 [07:19<04:59,  1.53s/it]"
     ]
    },
    {
     "name": "stdout",
     "output_type": "stream",
     "text": [
      "303\t11\t11\t2.46326\tTrue\tTrue\t0:00:01.527638\n"
     ]
    },
    {
     "name": "stderr",
     "output_type": "stream",
     "text": [
      " 61%|██████████████████████████████████████████████████████▉                                   | 305/500 [07:21<04:56,  1.52s/it]"
     ]
    },
    {
     "name": "stdout",
     "output_type": "stream",
     "text": [
      "304\t57\t-1\t0.00000\tFalse\tFalse\t0:00:01.500937\n"
     ]
    },
    {
     "name": "stderr",
     "output_type": "stream",
     "text": [
      " 61%|███████████████████████████████████████████████████████                                   | 306/500 [07:22<04:58,  1.54s/it]"
     ]
    },
    {
     "name": "stdout",
     "output_type": "stream",
     "text": [
      "305\t37\t37\t0.00169\tFalse\tTrue\t0:00:01.579137\n"
     ]
    },
    {
     "name": "stderr",
     "output_type": "stream",
     "text": [
      " 61%|███████████████████████████████████████████████████████▎                                  | 307/500 [07:24<04:57,  1.54s/it]"
     ]
    },
    {
     "name": "stdout",
     "output_type": "stream",
     "text": [
      "306\t1\t-1\t0.00000\tFalse\tFalse\t0:00:01.546393\n"
     ]
    },
    {
     "name": "stderr",
     "output_type": "stream",
     "text": [
      " 62%|███████████████████████████████████████████████████████▍                                  | 308/500 [07:25<04:57,  1.55s/it]"
     ]
    },
    {
     "name": "stdout",
     "output_type": "stream",
     "text": [
      "307\t4\t-1\t0.00000\tFalse\tFalse\t0:00:01.556915\n"
     ]
    },
    {
     "name": "stderr",
     "output_type": "stream",
     "text": [
      " 62%|███████████████████████████████████████████████████████▌                                  | 309/500 [07:27<04:59,  1.57s/it]"
     ]
    },
    {
     "name": "stdout",
     "output_type": "stream",
     "text": [
      "308\t29\t-1\t0.00000\tFalse\tFalse\t0:00:01.613923\n"
     ]
    },
    {
     "name": "stderr",
     "output_type": "stream",
     "text": [
      " 62%|███████████████████████████████████████████████████████▊                                  | 310/500 [07:28<04:51,  1.53s/it]"
     ]
    },
    {
     "name": "stdout",
     "output_type": "stream",
     "text": [
      "309\t7\t-1\t0.00000\tFalse\tFalse\t0:00:01.446385\n"
     ]
    },
    {
     "name": "stderr",
     "output_type": "stream",
     "text": [
      " 62%|███████████████████████████████████████████████████████▉                                  | 311/500 [07:30<04:48,  1.53s/it]"
     ]
    },
    {
     "name": "stdout",
     "output_type": "stream",
     "text": [
      "310\t52\t52\t0.19286\tTrue\tTrue\t0:00:01.515962\n"
     ]
    },
    {
     "name": "stderr",
     "output_type": "stream",
     "text": [
      " 62%|████████████████████████████████████████████████████████▏                                 | 312/500 [07:31<04:46,  1.52s/it]"
     ]
    },
    {
     "name": "stdout",
     "output_type": "stream",
     "text": [
      "311\t79\t-1\t0.00000\tFalse\tFalse\t0:00:01.510052\n"
     ]
    },
    {
     "name": "stderr",
     "output_type": "stream",
     "text": [
      " 63%|████████████████████████████████████████████████████████▎                                 | 313/500 [07:33<04:47,  1.54s/it]"
     ]
    },
    {
     "name": "stdout",
     "output_type": "stream",
     "text": [
      "312\t13\t-1\t0.00000\tFalse\tFalse\t0:00:01.567344\n"
     ]
    },
    {
     "name": "stderr",
     "output_type": "stream",
     "text": [
      " 63%|████████████████████████████████████████████████████████▌                                 | 314/500 [07:34<04:42,  1.52s/it]"
     ]
    },
    {
     "name": "stdout",
     "output_type": "stream",
     "text": [
      "313\t59\t-1\t0.00000\tFalse\tFalse\t0:00:01.465064\n"
     ]
    },
    {
     "name": "stderr",
     "output_type": "stream",
     "text": [
      " 63%|████████████████████████████████████████████████████████▋                                 | 315/500 [07:36<04:37,  1.50s/it]"
     ]
    },
    {
     "name": "stdout",
     "output_type": "stream",
     "text": [
      "314\t0\t0\t1.13571\tTrue\tTrue\t0:00:01.450935\n"
     ]
    },
    {
     "name": "stderr",
     "output_type": "stream",
     "text": [
      " 63%|████████████████████████████████████████████████████████▉                                 | 316/500 [07:37<04:32,  1.48s/it]"
     ]
    },
    {
     "name": "stdout",
     "output_type": "stream",
     "text": [
      "315\t60\t60\t2.46326\tTrue\tTrue\t0:00:01.449145\n"
     ]
    },
    {
     "name": "stderr",
     "output_type": "stream",
     "text": [
      " 63%|█████████████████████████████████████████████████████████                                 | 317/500 [07:39<04:29,  1.47s/it]"
     ]
    },
    {
     "name": "stdout",
     "output_type": "stream",
     "text": [
      "316\t1\t-1\t0.00000\tFalse\tFalse\t0:00:01.437795\n"
     ]
    },
    {
     "name": "stderr",
     "output_type": "stream",
     "text": [
      " 64%|█████████████████████████████████████████████████████████▏                                | 318/500 [07:40<04:28,  1.48s/it]"
     ]
    },
    {
     "name": "stdout",
     "output_type": "stream",
     "text": [
      "317\t97\t74\t0.09012\tFalse\tFalse\t0:00:01.488827\n"
     ]
    },
    {
     "name": "stderr",
     "output_type": "stream",
     "text": [
      " 64%|█████████████████████████████████████████████████████████▍                                | 319/500 [07:42<04:28,  1.48s/it]"
     ]
    },
    {
     "name": "stdout",
     "output_type": "stream",
     "text": [
      "318\t64\t-1\t0.00000\tFalse\tFalse\t0:00:01.491933\n"
     ]
    },
    {
     "name": "stderr",
     "output_type": "stream",
     "text": [
      " 64%|█████████████████████████████████████████████████████████▌                                | 320/500 [07:43<04:27,  1.48s/it]"
     ]
    },
    {
     "name": "stdout",
     "output_type": "stream",
     "text": [
      "319\t55\t95\t0.74658\tFalse\tFalse\t0:00:01.483139\n"
     ]
    },
    {
     "name": "stderr",
     "output_type": "stream",
     "text": [
      " 64%|█████████████████████████████████████████████████████████▊                                | 321/500 [07:45<04:21,  1.46s/it]"
     ]
    },
    {
     "name": "stdout",
     "output_type": "stream",
     "text": [
      "320\t28\t-1\t0.00000\tFalse\tFalse\t0:00:01.400741\n"
     ]
    },
    {
     "name": "stderr",
     "output_type": "stream",
     "text": [
      " 64%|█████████████████████████████████████████████████████████▉                                | 322/500 [07:46<04:19,  1.46s/it]"
     ]
    },
    {
     "name": "stdout",
     "output_type": "stream",
     "text": [
      "321\t53\t53\t1.58245\tTrue\tTrue\t0:00:01.457780\n"
     ]
    },
    {
     "name": "stderr",
     "output_type": "stream",
     "text": [
      " 65%|██████████████████████████████████████████████████████████▏                               | 323/500 [07:48<04:19,  1.46s/it]"
     ]
    },
    {
     "name": "stdout",
     "output_type": "stream",
     "text": [
      "322\t39\t13\t0.60902\tFalse\tFalse\t0:00:01.470495\n"
     ]
    },
    {
     "name": "stderr",
     "output_type": "stream",
     "text": [
      " 65%|██████████████████████████████████████████████████████████▎                               | 324/500 [07:49<04:12,  1.44s/it]"
     ]
    },
    {
     "name": "stdout",
     "output_type": "stream",
     "text": [
      "323\t75\t75\t0.94030\tTrue\tTrue\t0:00:01.370986\n"
     ]
    },
    {
     "name": "stderr",
     "output_type": "stream",
     "text": [
      " 65%|██████████████████████████████████████████████████████████▌                               | 325/500 [07:50<04:13,  1.45s/it]"
     ]
    },
    {
     "name": "stdout",
     "output_type": "stream",
     "text": [
      "324\t4\t-1\t0.00000\tFalse\tFalse\t0:00:01.483246\n"
     ]
    },
    {
     "name": "stderr",
     "output_type": "stream",
     "text": [
      " 65%|██████████████████████████████████████████████████████████▋                               | 326/500 [07:52<04:13,  1.46s/it]"
     ]
    },
    {
     "name": "stdout",
     "output_type": "stream",
     "text": [
      "325\t40\t40\t0.27714\tTrue\tTrue\t0:00:01.460917\n"
     ]
    },
    {
     "name": "stderr",
     "output_type": "stream",
     "text": [
      " 65%|██████████████████████████████████████████████████████████▊                               | 327/500 [07:53<04:10,  1.45s/it]"
     ]
    },
    {
     "name": "stdout",
     "output_type": "stream",
     "text": [
      "326\t60\t60\t2.46326\tTrue\tTrue\t0:00:01.421942\n"
     ]
    },
    {
     "name": "stderr",
     "output_type": "stream",
     "text": [
      " 66%|███████████████████████████████████████████████████████████                               | 328/500 [07:55<04:07,  1.44s/it]"
     ]
    },
    {
     "name": "stdout",
     "output_type": "stream",
     "text": [
      "327\t44\t80\t0.21373\tFalse\tFalse\t0:00:01.410618\n"
     ]
    },
    {
     "name": "stderr",
     "output_type": "stream",
     "text": [
      " 66%|███████████████████████████████████████████████████████████▏                              | 329/500 [07:56<04:04,  1.43s/it]"
     ]
    },
    {
     "name": "stdout",
     "output_type": "stream",
     "text": [
      "328\t36\t-1\t0.00000\tFalse\tFalse\t0:00:01.413374\n"
     ]
    },
    {
     "name": "stderr",
     "output_type": "stream",
     "text": [
      " 66%|███████████████████████████████████████████████████████████▍                              | 330/500 [07:57<04:00,  1.41s/it]"
     ]
    },
    {
     "name": "stdout",
     "output_type": "stream",
     "text": [
      "329\t93\t-1\t0.00000\tFalse\tFalse\t0:00:01.367160\n"
     ]
    },
    {
     "name": "stderr",
     "output_type": "stream",
     "text": [
      " 66%|███████████████████████████████████████████████████████████▌                              | 331/500 [07:59<03:55,  1.39s/it]"
     ]
    },
    {
     "name": "stdout",
     "output_type": "stream",
     "text": [
      "330\t53\t53\t0.85842\tTrue\tTrue\t0:00:01.351220\n"
     ]
    },
    {
     "name": "stderr",
     "output_type": "stream",
     "text": [
      " 66%|███████████████████████████████████████████████████████████▊                              | 332/500 [08:00<03:56,  1.41s/it]"
     ]
    },
    {
     "name": "stdout",
     "output_type": "stream",
     "text": [
      "331\t79\t-1\t0.00000\tFalse\tFalse\t0:00:01.430196\n"
     ]
    },
    {
     "name": "stderr",
     "output_type": "stream",
     "text": [
      " 67%|███████████████████████████████████████████████████████████▉                              | 333/500 [08:02<03:51,  1.39s/it]"
     ]
    },
    {
     "name": "stdout",
     "output_type": "stream",
     "text": [
      "332\t17\t-1\t0.00000\tFalse\tFalse\t0:00:01.343277\n"
     ]
    },
    {
     "name": "stderr",
     "output_type": "stream",
     "text": [
      " 67%|████████████████████████████████████████████████████████████                              | 334/500 [08:03<03:51,  1.39s/it]"
     ]
    },
    {
     "name": "stdout",
     "output_type": "stream",
     "text": [
      "333\t89\t89\t2.35765\tTrue\tTrue\t0:00:01.397947\n"
     ]
    },
    {
     "name": "stderr",
     "output_type": "stream",
     "text": [
      " 67%|████████████████████████████████████████████████████████████▎                             | 335/500 [08:04<03:48,  1.39s/it]"
     ]
    },
    {
     "name": "stdout",
     "output_type": "stream",
     "text": [
      "334\t77\t79\t0.01427\tFalse\tFalse\t0:00:01.374738\n"
     ]
    },
    {
     "name": "stderr",
     "output_type": "stream",
     "text": [
      " 67%|████████████████████████████████████████████████████████████▍                             | 336/500 [08:06<03:46,  1.38s/it]"
     ]
    },
    {
     "name": "stdout",
     "output_type": "stream",
     "text": [
      "335\t54\t54\t2.46326\tTrue\tTrue\t0:00:01.355202\n"
     ]
    },
    {
     "name": "stderr",
     "output_type": "stream",
     "text": [
      " 67%|████████████████████████████████████████████████████████████▋                             | 337/500 [08:07<03:46,  1.39s/it]"
     ]
    },
    {
     "name": "stdout",
     "output_type": "stream",
     "text": [
      "336\t60\t96\t0.15663\tFalse\tFalse\t0:00:01.417349\n"
     ]
    },
    {
     "name": "stderr",
     "output_type": "stream",
     "text": [
      " 68%|████████████████████████████████████████████████████████████▊                             | 338/500 [08:09<03:44,  1.39s/it]"
     ]
    },
    {
     "name": "stdout",
     "output_type": "stream",
     "text": [
      "337\t13\t58\t0.30939\tFalse\tFalse\t0:00:01.369906\n"
     ]
    },
    {
     "name": "stderr",
     "output_type": "stream",
     "text": [
      " 68%|█████████████████████████████████████████████████████████████                             | 339/500 [08:10<03:39,  1.36s/it]"
     ]
    },
    {
     "name": "stdout",
     "output_type": "stream",
     "text": [
      "338\t12\t12\t0.12582\tTrue\tTrue\t0:00:01.300237\n"
     ]
    },
    {
     "name": "stderr",
     "output_type": "stream",
     "text": [
      " 68%|█████████████████████████████████████████████████████████████▏                            | 340/500 [08:11<03:37,  1.36s/it]"
     ]
    },
    {
     "name": "stdout",
     "output_type": "stream",
     "text": [
      "339\t8\t-1\t0.00000\tFalse\tFalse\t0:00:01.347807\n"
     ]
    },
    {
     "name": "stderr",
     "output_type": "stream",
     "text": [
      " 68%|█████████████████████████████████████████████████████████████▍                            | 341/500 [08:13<03:38,  1.38s/it]"
     ]
    },
    {
     "name": "stdout",
     "output_type": "stream",
     "text": [
      "340\t35\t35\t1.61599\tTrue\tTrue\t0:00:01.415317\n"
     ]
    },
    {
     "name": "stderr",
     "output_type": "stream",
     "text": [
      " 68%|█████████████████████████████████████████████████████████████▌                            | 342/500 [08:14<03:36,  1.37s/it]"
     ]
    },
    {
     "name": "stdout",
     "output_type": "stream",
     "text": [
      "341\t84\t-1\t0.00000\tFalse\tFalse\t0:00:01.364659\n"
     ]
    },
    {
     "name": "stderr",
     "output_type": "stream",
     "text": [
      " 69%|█████████████████████████████████████████████████████████████▋                            | 343/500 [08:15<03:39,  1.40s/it]"
     ]
    },
    {
     "name": "stdout",
     "output_type": "stream",
     "text": [
      "342\t89\t-1\t0.00000\tFalse\tFalse\t0:00:01.444882\n"
     ]
    },
    {
     "name": "stderr",
     "output_type": "stream",
     "text": [
      " 69%|█████████████████████████████████████████████████████████████▉                            | 344/500 [08:17<03:38,  1.40s/it]"
     ]
    },
    {
     "name": "stdout",
     "output_type": "stream",
     "text": [
      "343\t68\t-1\t0.00000\tFalse\tFalse\t0:00:01.405561\n"
     ]
    },
    {
     "name": "stderr",
     "output_type": "stream",
     "text": [
      " 69%|██████████████████████████████████████████████████████████████                            | 345/500 [08:18<03:40,  1.42s/it]"
     ]
    },
    {
     "name": "stdout",
     "output_type": "stream",
     "text": [
      "344\t32\t-1\t0.00000\tFalse\tFalse\t0:00:01.467700\n"
     ]
    },
    {
     "name": "stderr",
     "output_type": "stream",
     "text": [
      " 69%|██████████████████████████████████████████████████████████████▎                           | 346/500 [08:20<03:41,  1.44s/it]"
     ]
    },
    {
     "name": "stdout",
     "output_type": "stream",
     "text": [
      "345\t23\t23\t2.46326\tTrue\tTrue\t0:00:01.478036\n"
     ]
    },
    {
     "name": "stderr",
     "output_type": "stream",
     "text": [
      " 69%|██████████████████████████████████████████████████████████████▍                           | 347/500 [08:21<03:35,  1.41s/it]"
     ]
    },
    {
     "name": "stdout",
     "output_type": "stream",
     "text": [
      "346\t84\t84\t1.13035\tTrue\tTrue\t0:00:01.331029\n"
     ]
    },
    {
     "name": "stderr",
     "output_type": "stream",
     "text": [
      " 70%|██████████████████████████████████████████████████████████████▋                           | 348/500 [08:23<03:34,  1.41s/it]"
     ]
    },
    {
     "name": "stdout",
     "output_type": "stream",
     "text": [
      "347\t34\t34\t0.10029\tTrue\tTrue\t0:00:01.420213\n"
     ]
    },
    {
     "name": "stderr",
     "output_type": "stream",
     "text": [
      " 70%|██████████████████████████████████████████████████████████████▊                           | 349/500 [08:24<03:36,  1.43s/it]"
     ]
    },
    {
     "name": "stdout",
     "output_type": "stream",
     "text": [
      "348\t88\t6\t0.20067\tFalse\tFalse\t0:00:01.471570\n"
     ]
    },
    {
     "name": "stderr",
     "output_type": "stream",
     "text": [
      " 70%|██████████████████████████████████████████████████████████████▉                           | 350/500 [08:26<03:36,  1.44s/it]"
     ]
    },
    {
     "name": "stdout",
     "output_type": "stream",
     "text": [
      "349\t47\t-1\t0.00000\tFalse\tFalse\t0:00:01.469515\n"
     ]
    },
    {
     "name": "stderr",
     "output_type": "stream",
     "text": [
      " 70%|███████████████████████████████████████████████████████████████▏                          | 351/500 [08:27<03:30,  1.41s/it]"
     ]
    },
    {
     "name": "stdout",
     "output_type": "stream",
     "text": [
      "350\t9\t-1\t0.00000\tFalse\tFalse\t0:00:01.331042\n"
     ]
    },
    {
     "name": "stderr",
     "output_type": "stream",
     "text": [
      " 70%|███████████████████████████████████████████████████████████████▎                          | 352/500 [08:28<03:26,  1.40s/it]"
     ]
    },
    {
     "name": "stdout",
     "output_type": "stream",
     "text": [
      "351\t60\t-1\t0.00000\tFalse\tFalse\t0:00:01.358284\n"
     ]
    },
    {
     "name": "stderr",
     "output_type": "stream",
     "text": [
      " 71%|███████████████████████████████████████████████████████████████▌                          | 353/500 [08:30<03:23,  1.38s/it]"
     ]
    },
    {
     "name": "stdout",
     "output_type": "stream",
     "text": [
      "352\t85\t-1\t0.00000\tFalse\tFalse\t0:00:01.355534\n"
     ]
    },
    {
     "name": "stderr",
     "output_type": "stream",
     "text": [
      " 71%|███████████████████████████████████████████████████████████████▋                          | 354/500 [08:31<03:23,  1.40s/it]"
     ]
    },
    {
     "name": "stdout",
     "output_type": "stream",
     "text": [
      "353\t55\t43\t0.12326\tFalse\tFalse\t0:00:01.421188\n"
     ]
    },
    {
     "name": "stderr",
     "output_type": "stream",
     "text": [
      " 71%|███████████████████████████████████████████████████████████████▉                          | 355/500 [08:32<03:23,  1.41s/it]"
     ]
    },
    {
     "name": "stdout",
     "output_type": "stream",
     "text": [
      "354\t34\t34\t0.91918\tTrue\tTrue\t0:00:01.425538\n"
     ]
    },
    {
     "name": "stderr",
     "output_type": "stream",
     "text": [
      " 71%|████████████████████████████████████████████████████████████████                          | 356/500 [08:34<03:24,  1.42s/it]"
     ]
    },
    {
     "name": "stdout",
     "output_type": "stream",
     "text": [
      "355\t49\t-1\t0.00000\tFalse\tFalse\t0:00:01.457278\n"
     ]
    },
    {
     "name": "stderr",
     "output_type": "stream",
     "text": [
      " 71%|████████████████████████████████████████████████████████████████▎                         | 357/500 [08:35<03:25,  1.43s/it]"
     ]
    },
    {
     "name": "stdout",
     "output_type": "stream",
     "text": [
      "356\t68\t68\t2.46326\tTrue\tTrue\t0:00:01.460345\n"
     ]
    },
    {
     "name": "stderr",
     "output_type": "stream",
     "text": [
      " 72%|████████████████████████████████████████████████████████████████▍                         | 358/500 [08:37<03:23,  1.43s/it]"
     ]
    },
    {
     "name": "stdout",
     "output_type": "stream",
     "text": [
      "357\t39\t-1\t0.00000\tFalse\tFalse\t0:00:01.423882\n"
     ]
    },
    {
     "name": "stderr",
     "output_type": "stream",
     "text": [
      " 72%|████████████████████████████████████████████████████████████████▌                         | 359/500 [08:38<03:22,  1.44s/it]"
     ]
    },
    {
     "name": "stdout",
     "output_type": "stream",
     "text": [
      "358\t94\t94\t2.46326\tTrue\tTrue\t0:00:01.449201\n"
     ]
    },
    {
     "name": "stderr",
     "output_type": "stream",
     "text": [
      " 72%|████████████████████████████████████████████████████████████████▊                         | 360/500 [08:40<03:18,  1.42s/it]"
     ]
    },
    {
     "name": "stdout",
     "output_type": "stream",
     "text": [
      "359\t84\t87\t0.77531\tFalse\tFalse\t0:00:01.366682\n"
     ]
    },
    {
     "name": "stderr",
     "output_type": "stream",
     "text": [
      " 72%|████████████████████████████████████████████████████████████████▉                         | 361/500 [08:41<03:18,  1.43s/it]"
     ]
    },
    {
     "name": "stdout",
     "output_type": "stream",
     "text": [
      "360\t89\t-1\t0.00000\tFalse\tFalse\t0:00:01.441177\n"
     ]
    },
    {
     "name": "stderr",
     "output_type": "stream",
     "text": [
      " 72%|█████████████████████████████████████████████████████████████████▏                        | 362/500 [08:42<03:13,  1.40s/it]"
     ]
    },
    {
     "name": "stdout",
     "output_type": "stream",
     "text": [
      "361\t60\t-1\t0.00000\tFalse\tFalse\t0:00:01.348733\n"
     ]
    },
    {
     "name": "stderr",
     "output_type": "stream",
     "text": [
      " 73%|█████████████████████████████████████████████████████████████████▎                        | 363/500 [08:44<03:13,  1.41s/it]"
     ]
    },
    {
     "name": "stdout",
     "output_type": "stream",
     "text": [
      "362\t11\t-1\t0.00000\tFalse\tFalse\t0:00:01.422555\n"
     ]
    },
    {
     "name": "stderr",
     "output_type": "stream",
     "text": [
      " 73%|█████████████████████████████████████████████████████████████████▌                        | 364/500 [08:45<03:11,  1.41s/it]"
     ]
    },
    {
     "name": "stdout",
     "output_type": "stream",
     "text": [
      "363\t95\t-1\t0.00000\tFalse\tFalse\t0:00:01.394037\n"
     ]
    },
    {
     "name": "stderr",
     "output_type": "stream",
     "text": [
      " 73%|█████████████████████████████████████████████████████████████████▋                        | 365/500 [08:47<03:09,  1.40s/it]"
     ]
    },
    {
     "name": "stdout",
     "output_type": "stream",
     "text": [
      "364\t22\t-1\t0.00000\tFalse\tFalse\t0:00:01.391104\n"
     ]
    },
    {
     "name": "stderr",
     "output_type": "stream",
     "text": [
      " 73%|█████████████████████████████████████████████████████████████████▉                        | 366/500 [08:48<03:08,  1.41s/it]"
     ]
    },
    {
     "name": "stdout",
     "output_type": "stream",
     "text": [
      "365\t80\t55\t0.27714\tFalse\tFalse\t0:00:01.425353\n"
     ]
    },
    {
     "name": "stderr",
     "output_type": "stream",
     "text": [
      " 73%|██████████████████████████████████████████████████████████████████                        | 367/500 [08:49<03:05,  1.39s/it]"
     ]
    },
    {
     "name": "stdout",
     "output_type": "stream",
     "text": [
      "366\t52\t-1\t0.00000\tFalse\tFalse\t0:00:01.349011\n"
     ]
    },
    {
     "name": "stderr",
     "output_type": "stream",
     "text": [
      " 74%|██████████████████████████████████████████████████████████████████▏                       | 368/500 [08:51<03:03,  1.39s/it]"
     ]
    },
    {
     "name": "stdout",
     "output_type": "stream",
     "text": [
      "367\t57\t14\t0.90261\tFalse\tFalse\t0:00:01.371723\n"
     ]
    },
    {
     "name": "stderr",
     "output_type": "stream",
     "text": [
      " 74%|██████████████████████████████████████████████████████████████████▍                       | 369/500 [08:52<03:10,  1.45s/it]"
     ]
    },
    {
     "name": "stdout",
     "output_type": "stream",
     "text": [
      "368\t82\t82\t2.46326\tTrue\tTrue\t0:00:01.601205\n"
     ]
    },
    {
     "name": "stderr",
     "output_type": "stream",
     "text": [
      " 74%|██████████████████████████████████████████████████████████████████▌                       | 370/500 [08:54<03:06,  1.43s/it]"
     ]
    },
    {
     "name": "stdout",
     "output_type": "stream",
     "text": [
      "369\t81\t81\t0.40033\tTrue\tTrue\t0:00:01.391845\n"
     ]
    },
    {
     "name": "stderr",
     "output_type": "stream",
     "text": [
      " 74%|██████████████████████████████████████████████████████████████████▊                       | 371/500 [08:55<03:04,  1.43s/it]"
     ]
    },
    {
     "name": "stdout",
     "output_type": "stream",
     "text": [
      "370\t55\t-1\t0.00000\tFalse\tFalse\t0:00:01.422805\n"
     ]
    },
    {
     "name": "stderr",
     "output_type": "stream",
     "text": [
      " 74%|██████████████████████████████████████████████████████████████████▉                       | 372/500 [08:56<02:58,  1.40s/it]"
     ]
    },
    {
     "name": "stdout",
     "output_type": "stream",
     "text": [
      "371\t89\t-1\t0.00000\tFalse\tFalse\t0:00:01.307516\n"
     ]
    },
    {
     "name": "stderr",
     "output_type": "stream",
     "text": [
      " 75%|███████████████████████████████████████████████████████████████████▏                      | 373/500 [08:58<02:54,  1.37s/it]"
     ]
    },
    {
     "name": "stdout",
     "output_type": "stream",
     "text": [
      "372\t6\t24\t2.46326\tFalse\tFalse\t0:00:01.324587\n"
     ]
    },
    {
     "name": "stderr",
     "output_type": "stream",
     "text": [
      " 75%|███████████████████████████████████████████████████████████████████▎                      | 374/500 [08:59<02:55,  1.40s/it]"
     ]
    },
    {
     "name": "stdout",
     "output_type": "stream",
     "text": [
      "373\t25\t-1\t0.00000\tFalse\tFalse\t0:00:01.441868\n"
     ]
    },
    {
     "name": "stderr",
     "output_type": "stream",
     "text": [
      " 75%|███████████████████████████████████████████████████████████████████▌                      | 375/500 [09:01<02:58,  1.43s/it]"
     ]
    },
    {
     "name": "stdout",
     "output_type": "stream",
     "text": [
      "374\t98\t35\t0.43439\tFalse\tFalse\t0:00:01.511328\n"
     ]
    },
    {
     "name": "stderr",
     "output_type": "stream",
     "text": [
      " 75%|███████████████████████████████████████████████████████████████████▋                      | 376/500 [09:02<02:59,  1.45s/it]"
     ]
    },
    {
     "name": "stdout",
     "output_type": "stream",
     "text": [
      "375\t50\t97\t0.07996\tFalse\tFalse\t0:00:01.483815\n"
     ]
    },
    {
     "name": "stderr",
     "output_type": "stream",
     "text": [
      " 75%|███████████████████████████████████████████████████████████████████▊                      | 377/500 [09:04<02:57,  1.44s/it]"
     ]
    },
    {
     "name": "stdout",
     "output_type": "stream",
     "text": [
      "376\t40\t-1\t0.00000\tFalse\tFalse\t0:00:01.425673\n"
     ]
    },
    {
     "name": "stderr",
     "output_type": "stream",
     "text": [
      " 76%|████████████████████████████████████████████████████████████████████                      | 378/500 [09:05<02:52,  1.42s/it]"
     ]
    },
    {
     "name": "stdout",
     "output_type": "stream",
     "text": [
      "377\t52\t52\t0.12070\tTrue\tTrue\t0:00:01.356130\n"
     ]
    },
    {
     "name": "stderr",
     "output_type": "stream",
     "text": [
      " 76%|████████████████████████████████████████████████████████████████████▏                     | 379/500 [09:06<02:49,  1.40s/it]"
     ]
    },
    {
     "name": "stdout",
     "output_type": "stream",
     "text": [
      "378\t1\t-1\t0.00000\tFalse\tFalse\t0:00:01.369343\n"
     ]
    },
    {
     "name": "stderr",
     "output_type": "stream",
     "text": [
      " 76%|████████████████████████████████████████████████████████████████████▍                     | 380/500 [09:08<02:47,  1.39s/it]"
     ]
    },
    {
     "name": "stdout",
     "output_type": "stream",
     "text": [
      "379\t56\t56\t2.46326\tTrue\tTrue\t0:00:01.361620\n"
     ]
    },
    {
     "name": "stderr",
     "output_type": "stream",
     "text": [
      " 76%|████████████████████████████████████████████████████████████████████▌                     | 381/500 [09:09<02:45,  1.39s/it]"
     ]
    },
    {
     "name": "stdout",
     "output_type": "stream",
     "text": [
      "380\t13\t87\t1.03478\tFalse\tFalse\t0:00:01.382144\n"
     ]
    },
    {
     "name": "stderr",
     "output_type": "stream",
     "text": [
      " 76%|████████████████████████████████████████████████████████████████████▊                     | 382/500 [09:11<02:45,  1.40s/it]"
     ]
    },
    {
     "name": "stdout",
     "output_type": "stream",
     "text": [
      "381\t27\t8\t0.03695\tFalse\tFalse\t0:00:01.428549\n"
     ]
    },
    {
     "name": "stderr",
     "output_type": "stream",
     "text": [
      " 77%|████████████████████████████████████████████████████████████████████▉                     | 383/500 [09:12<02:44,  1.40s/it]"
     ]
    },
    {
     "name": "stdout",
     "output_type": "stream",
     "text": [
      "382\t95\t95\t0.23999\tTrue\tTrue\t0:00:01.401457\n"
     ]
    },
    {
     "name": "stderr",
     "output_type": "stream",
     "text": [
      " 77%|█████████████████████████████████████████████████████████████████████                     | 384/500 [09:13<02:45,  1.43s/it]"
     ]
    },
    {
     "name": "stdout",
     "output_type": "stream",
     "text": [
      "383\t99\t40\t0.09266\tFalse\tFalse\t0:00:01.478414\n"
     ]
    },
    {
     "name": "stderr",
     "output_type": "stream",
     "text": [
      " 77%|█████████████████████████████████████████████████████████████████████▎                    | 385/500 [09:15<02:39,  1.39s/it]"
     ]
    },
    {
     "name": "stdout",
     "output_type": "stream",
     "text": [
      "384\t64\t64\t0.34753\tTrue\tTrue\t0:00:01.303985\n"
     ]
    },
    {
     "name": "stderr",
     "output_type": "stream",
     "text": [
      " 77%|█████████████████████████████████████████████████████████████████████▍                    | 386/500 [09:16<02:39,  1.40s/it]"
     ]
    },
    {
     "name": "stdout",
     "output_type": "stream",
     "text": [
      "385\t85\t85\t0.22683\tTrue\tTrue\t0:00:01.416233\n"
     ]
    },
    {
     "name": "stderr",
     "output_type": "stream",
     "text": [
      " 77%|█████████████████████████████████████████████████████████████████████▋                    | 387/500 [09:18<02:38,  1.40s/it]"
     ]
    },
    {
     "name": "stdout",
     "output_type": "stream",
     "text": [
      "386\t59\t96\t0.52840\tFalse\tFalse\t0:00:01.399513\n"
     ]
    },
    {
     "name": "stderr",
     "output_type": "stream",
     "text": [
      " 78%|█████████████████████████████████████████████████████████████████████▊                    | 388/500 [09:19<02:38,  1.42s/it]"
     ]
    },
    {
     "name": "stdout",
     "output_type": "stream",
     "text": [
      "387\t69\t-1\t0.00000\tFalse\tFalse\t0:00:01.457992\n"
     ]
    },
    {
     "name": "stderr",
     "output_type": "stream",
     "text": [
      " 78%|██████████████████████████████████████████████████████████████████████                    | 389/500 [09:21<02:38,  1.43s/it]"
     ]
    },
    {
     "name": "stdout",
     "output_type": "stream",
     "text": [
      "388\t96\t-1\t0.00000\tFalse\tFalse\t0:00:01.446216\n"
     ]
    },
    {
     "name": "stderr",
     "output_type": "stream",
     "text": [
      " 78%|██████████████████████████████████████████████████████████████████████▏                   | 390/500 [09:22<02:37,  1.43s/it]"
     ]
    },
    {
     "name": "stdout",
     "output_type": "stream",
     "text": [
      "389\t23\t23\t2.46326\tTrue\tTrue\t0:00:01.425217\n"
     ]
    },
    {
     "name": "stderr",
     "output_type": "stream",
     "text": [
      " 78%|██████████████████████████████████████████████████████████████████████▍                   | 391/500 [09:23<02:37,  1.45s/it]"
     ]
    },
    {
     "name": "stdout",
     "output_type": "stream",
     "text": [
      "390\t96\t60\t0.49847\tFalse\tFalse\t0:00:01.485990\n"
     ]
    },
    {
     "name": "stderr",
     "output_type": "stream",
     "text": [
      " 78%|██████████████████████████████████████████████████████████████████████▌                   | 392/500 [09:25<02:41,  1.49s/it]"
     ]
    },
    {
     "name": "stdout",
     "output_type": "stream",
     "text": [
      "391\t56\t56\t1.70392\tTrue\tTrue\t0:00:01.594158\n"
     ]
    },
    {
     "name": "stderr",
     "output_type": "stream",
     "text": [
      " 79%|██████████████████████████████████████████████████████████████████████▋                   | 393/500 [09:26<02:33,  1.44s/it]"
     ]
    },
    {
     "name": "stdout",
     "output_type": "stream",
     "text": [
      "392\t86\t86\t0.04705\tFalse\tTrue\t0:00:01.311565\n"
     ]
    },
    {
     "name": "stderr",
     "output_type": "stream",
     "text": [
      " 79%|██████████████████████████████████████████████████████████████████████▉                   | 394/500 [09:28<02:29,  1.41s/it]"
     ]
    },
    {
     "name": "stdout",
     "output_type": "stream",
     "text": [
      "393\t16\t16\t0.85842\tTrue\tTrue\t0:00:01.358620\n"
     ]
    },
    {
     "name": "stderr",
     "output_type": "stream",
     "text": [
      " 79%|███████████████████████████████████████████████████████████████████████                   | 395/500 [09:29<02:28,  1.41s/it]"
     ]
    },
    {
     "name": "stdout",
     "output_type": "stream",
     "text": [
      "394\t86\t-1\t0.00000\tFalse\tFalse\t0:00:01.409782\n"
     ]
    },
    {
     "name": "stderr",
     "output_type": "stream",
     "text": [
      " 79%|███████████████████████████████████████████████████████████████████████▎                  | 396/500 [09:30<02:26,  1.41s/it]"
     ]
    },
    {
     "name": "stdout",
     "output_type": "stream",
     "text": [
      "395\t0\t70\t0.40597\tFalse\tFalse\t0:00:01.381240\n"
     ]
    },
    {
     "name": "stderr",
     "output_type": "stream",
     "text": [
      " 79%|███████████████████████████████████████████████████████████████████████▍                  | 397/500 [09:32<02:22,  1.38s/it]"
     ]
    },
    {
     "name": "stdout",
     "output_type": "stream",
     "text": [
      "396\t66\t-1\t0.00000\tFalse\tFalse\t0:00:01.333129\n"
     ]
    },
    {
     "name": "stderr",
     "output_type": "stream",
     "text": [
      " 80%|███████████████████████████████████████████████████████████████████████▋                  | 398/500 [09:33<02:20,  1.37s/it]"
     ]
    },
    {
     "name": "stdout",
     "output_type": "stream",
     "text": [
      "397\t25\t32\t0.01176\tFalse\tFalse\t0:00:01.343551\n"
     ]
    },
    {
     "name": "stderr",
     "output_type": "stream",
     "text": [
      " 80%|███████████████████████████████████████████████████████████████████████▊                  | 399/500 [09:35<02:19,  1.38s/it]"
     ]
    },
    {
     "name": "stdout",
     "output_type": "stream",
     "text": [
      "398\t57\t0\t0.18507\tFalse\tFalse\t0:00:01.401880\n"
     ]
    },
    {
     "name": "stderr",
     "output_type": "stream",
     "text": [
      " 80%|████████████████████████████████████████████████████████████████████████                  | 400/500 [09:36<02:19,  1.39s/it]"
     ]
    },
    {
     "name": "stdout",
     "output_type": "stream",
     "text": [
      "399\t40\t-1\t0.00000\tFalse\tFalse\t0:00:01.411537\n"
     ]
    },
    {
     "name": "stderr",
     "output_type": "stream",
     "text": [
      " 80%|████████████████████████████████████████████████████████████████████████▏                 | 401/500 [09:37<02:17,  1.39s/it]"
     ]
    },
    {
     "name": "stdout",
     "output_type": "stream",
     "text": [
      "400\t55\t27\t0.82745\tFalse\tFalse\t0:00:01.377625\n"
     ]
    },
    {
     "name": "stderr",
     "output_type": "stream",
     "text": [
      " 80%|████████████████████████████████████████████████████████████████████████▎                 | 402/500 [09:39<02:19,  1.42s/it]"
     ]
    },
    {
     "name": "stdout",
     "output_type": "stream",
     "text": [
      "401\t38\t38\t1.03005\tTrue\tTrue\t0:00:01.485595\n"
     ]
    },
    {
     "name": "stderr",
     "output_type": "stream",
     "text": [
      " 81%|████████████████████████████████████████████████████████████████████████▌                 | 403/500 [09:40<02:16,  1.40s/it]"
     ]
    },
    {
     "name": "stdout",
     "output_type": "stream",
     "text": [
      "402\t28\t20\t0.02434\tFalse\tFalse\t0:00:01.369843\n"
     ]
    },
    {
     "name": "stderr",
     "output_type": "stream",
     "text": [
      " 81%|████████████████████████████████████████████████████████████████████████▋                 | 404/500 [09:42<02:14,  1.40s/it]"
     ]
    },
    {
     "name": "stdout",
     "output_type": "stream",
     "text": [
      "403\t71\t71\t2.46326\tTrue\tTrue\t0:00:01.399869\n"
     ]
    },
    {
     "name": "stderr",
     "output_type": "stream",
     "text": [
      " 81%|████████████████████████████████████████████████████████████████████████▉                 | 405/500 [09:43<02:13,  1.41s/it]"
     ]
    },
    {
     "name": "stdout",
     "output_type": "stream",
     "text": [
      "404\t88\t-1\t0.00000\tFalse\tFalse\t0:00:01.414437\n"
     ]
    },
    {
     "name": "stderr",
     "output_type": "stream",
     "text": [
      " 81%|█████████████████████████████████████████████████████████████████████████                 | 406/500 [09:44<02:11,  1.40s/it]"
     ]
    },
    {
     "name": "stdout",
     "output_type": "stream",
     "text": [
      "405\t42\t33\t0.16953\tFalse\tFalse\t0:00:01.362828\n"
     ]
    },
    {
     "name": "stderr",
     "output_type": "stream",
     "text": [
      " 81%|█████████████████████████████████████████████████████████████████████████▎                | 407/500 [09:46<02:09,  1.39s/it]"
     ]
    },
    {
     "name": "stdout",
     "output_type": "stream",
     "text": [
      "406\t91\t27\t0.17212\tFalse\tFalse\t0:00:01.381883\n"
     ]
    },
    {
     "name": "stderr",
     "output_type": "stream",
     "text": [
      " 82%|█████████████████████████████████████████████████████████████████████████▍                | 408/500 [09:47<02:12,  1.44s/it]"
     ]
    },
    {
     "name": "stdout",
     "output_type": "stream",
     "text": [
      "407\t32\t32\t0.39471\tTrue\tTrue\t0:00:01.538078\n"
     ]
    },
    {
     "name": "stderr",
     "output_type": "stream",
     "text": [
      " 82%|█████████████████████████████████████████████████████████████████████████▌                | 409/500 [09:49<02:14,  1.48s/it]"
     ]
    },
    {
     "name": "stdout",
     "output_type": "stream",
     "text": [
      "408\t27\t42\t1.61599\tFalse\tFalse\t0:00:01.574689\n"
     ]
    },
    {
     "name": "stderr",
     "output_type": "stream",
     "text": [
      " 82%|█████████████████████████████████████████████████████████████████████████▊                | 410/500 [09:50<02:11,  1.46s/it]"
     ]
    },
    {
     "name": "stdout",
     "output_type": "stream",
     "text": [
      "409\t62\t62\t1.61599\tTrue\tTrue\t0:00:01.403691\n"
     ]
    },
    {
     "name": "stderr",
     "output_type": "stream",
     "text": [
      " 82%|█████████████████████████████████████████████████████████████████████████▉                | 411/500 [09:52<02:07,  1.43s/it]"
     ]
    },
    {
     "name": "stdout",
     "output_type": "stream",
     "text": [
      "410\t28\t9\t2.46326\tFalse\tFalse\t0:00:01.362904\n"
     ]
    },
    {
     "name": "stderr",
     "output_type": "stream",
     "text": [
      " 82%|██████████████████████████████████████████████████████████████████████████▏               | 412/500 [09:53<02:04,  1.41s/it]"
     ]
    },
    {
     "name": "stdout",
     "output_type": "stream",
     "text": [
      "411\t10\t10\t1.14654\tTrue\tTrue\t0:00:01.363330\n"
     ]
    },
    {
     "name": "stderr",
     "output_type": "stream",
     "text": [
      " 83%|██████████████████████████████████████████████████████████████████████████▎               | 413/500 [09:54<02:00,  1.38s/it]"
     ]
    },
    {
     "name": "stdout",
     "output_type": "stream",
     "text": [
      "412\t24\t55\t0.27714\tFalse\tFalse\t0:00:01.317441\n"
     ]
    },
    {
     "name": "stderr",
     "output_type": "stream",
     "text": [
      " 83%|██████████████████████████████████████████████████████████████████████████▌               | 414/500 [09:56<01:57,  1.36s/it]"
     ]
    },
    {
     "name": "stdout",
     "output_type": "stream",
     "text": [
      "413\t26\t62\t2.46326\tFalse\tFalse\t0:00:01.309477\n"
     ]
    },
    {
     "name": "stderr",
     "output_type": "stream",
     "text": [
      " 83%|██████████████████████████████████████████████████████████████████████████▋               | 415/500 [09:57<01:58,  1.39s/it]"
     ]
    },
    {
     "name": "stdout",
     "output_type": "stream",
     "text": [
      "414\t31\t31\t1.15201\tTrue\tTrue\t0:00:01.447556\n"
     ]
    },
    {
     "name": "stderr",
     "output_type": "stream",
     "text": [
      " 83%|██████████████████████████████████████████████████████████████████████████▉               | 416/500 [09:59<01:58,  1.41s/it]"
     ]
    },
    {
     "name": "stdout",
     "output_type": "stream",
     "text": [
      "415\t6\t-1\t0.00000\tFalse\tFalse\t0:00:01.469989\n"
     ]
    },
    {
     "name": "stderr",
     "output_type": "stream",
     "text": [
      " 83%|███████████████████████████████████████████████████████████████████████████               | 417/500 [10:00<02:00,  1.45s/it]"
     ]
    },
    {
     "name": "stdout",
     "output_type": "stream",
     "text": [
      "416\t55\t55\t0.64452\tTrue\tTrue\t0:00:01.521172\n"
     ]
    },
    {
     "name": "stderr",
     "output_type": "stream",
     "text": [
      " 84%|███████████████████████████████████████████████████████████████████████████▏              | 418/500 [10:02<01:58,  1.44s/it]"
     ]
    },
    {
     "name": "stdout",
     "output_type": "stream",
     "text": [
      "417\t32\t89\t0.36407\tFalse\tFalse\t0:00:01.427650\n"
     ]
    },
    {
     "name": "stderr",
     "output_type": "stream",
     "text": [
      " 84%|███████████████████████████████████████████████████████████████████████████▍              | 419/500 [10:03<01:55,  1.43s/it]"
     ]
    },
    {
     "name": "stdout",
     "output_type": "stream",
     "text": [
      "418\t67\t29\t2.46326\tFalse\tFalse\t0:00:01.398468\n"
     ]
    },
    {
     "name": "stderr",
     "output_type": "stream",
     "text": [
      " 84%|███████████████████████████████████████████████████████████████████████████▌              | 420/500 [10:05<01:56,  1.46s/it]"
     ]
    },
    {
     "name": "stdout",
     "output_type": "stream",
     "text": [
      "419\t15\t-1\t0.00000\tFalse\tFalse\t0:00:01.529622\n"
     ]
    },
    {
     "name": "stderr",
     "output_type": "stream",
     "text": [
      " 84%|███████████████████████████████████████████████████████████████████████████▊              | 421/500 [10:06<01:56,  1.47s/it]"
     ]
    },
    {
     "name": "stdout",
     "output_type": "stream",
     "text": [
      "420\t46\t55\t0.35028\tFalse\tFalse\t0:00:01.494509\n"
     ]
    },
    {
     "name": "stderr",
     "output_type": "stream",
     "text": [
      " 84%|███████████████████████████████████████████████████████████████████████████▉              | 422/500 [10:07<01:50,  1.42s/it]"
     ]
    },
    {
     "name": "stdout",
     "output_type": "stream",
     "text": [
      "421\t34\t-1\t0.00000\tFalse\tFalse\t0:00:01.282167\n"
     ]
    },
    {
     "name": "stderr",
     "output_type": "stream",
     "text": [
      " 85%|████████████████████████████████████████████████████████████████████████████▏             | 423/500 [10:09<01:49,  1.42s/it]"
     ]
    },
    {
     "name": "stdout",
     "output_type": "stream",
     "text": [
      "422\t88\t88\t0.50144\tTrue\tTrue\t0:00:01.443912\n"
     ]
    },
    {
     "name": "stderr",
     "output_type": "stream",
     "text": [
      " 85%|████████████████████████████████████████████████████████████████████████████▎             | 424/500 [10:10<01:49,  1.44s/it]"
     ]
    },
    {
     "name": "stdout",
     "output_type": "stream",
     "text": [
      "423\t29\t-1\t0.00000\tFalse\tFalse\t0:00:01.462652\n"
     ]
    },
    {
     "name": "stderr",
     "output_type": "stream",
     "text": [
      " 85%|████████████████████████████████████████████████████████████████████████████▌             | 425/500 [10:12<01:50,  1.47s/it]"
     ]
    },
    {
     "name": "stdout",
     "output_type": "stream",
     "text": [
      "424\t96\t37\t0.93604\tFalse\tFalse\t0:00:01.558556\n"
     ]
    },
    {
     "name": "stderr",
     "output_type": "stream",
     "text": [
      " 85%|████████████████████████████████████████████████████████████████████████████▋             | 426/500 [10:13<01:50,  1.49s/it]"
     ]
    },
    {
     "name": "stdout",
     "output_type": "stream",
     "text": [
      "425\t42\t42\t0.53143\tTrue\tTrue\t0:00:01.525989\n"
     ]
    },
    {
     "name": "stderr",
     "output_type": "stream",
     "text": [
      " 85%|████████████████████████████████████████████████████████████████████████████▊             | 427/500 [10:15<01:48,  1.48s/it]"
     ]
    },
    {
     "name": "stdout",
     "output_type": "stream",
     "text": [
      "426\t89\t89\t2.46326\tTrue\tTrue\t0:00:01.466204\n"
     ]
    },
    {
     "name": "stderr",
     "output_type": "stream",
     "text": [
      " 86%|█████████████████████████████████████████████████████████████████████████████             | 428/500 [10:16<01:44,  1.45s/it]"
     ]
    },
    {
     "name": "stdout",
     "output_type": "stream",
     "text": [
      "427\t31\t97\t0.36683\tFalse\tFalse\t0:00:01.381746\n"
     ]
    },
    {
     "name": "stderr",
     "output_type": "stream",
     "text": [
      " 86%|█████████████████████████████████████████████████████████████████████████████▏            | 429/500 [10:18<01:44,  1.47s/it]"
     ]
    },
    {
     "name": "stdout",
     "output_type": "stream",
     "text": [
      "428\t90\t90\t1.03005\tTrue\tTrue\t0:00:01.486639\n"
     ]
    },
    {
     "name": "stderr",
     "output_type": "stream",
     "text": [
      " 86%|█████████████████████████████████████████████████████████████████████████████▍            | 430/500 [10:19<01:39,  1.43s/it]"
     ]
    },
    {
     "name": "stdout",
     "output_type": "stream",
     "text": [
      "429\t65\t36\t0.20067\tFalse\tFalse\t0:00:01.332287\n"
     ]
    },
    {
     "name": "stderr",
     "output_type": "stream",
     "text": [
      " 86%|█████████████████████████████████████████████████████████████████████████████▌            | 431/500 [10:20<01:36,  1.41s/it]"
     ]
    },
    {
     "name": "stdout",
     "output_type": "stream",
     "text": [
      "430\t10\t-1\t0.00000\tFalse\tFalse\t0:00:01.353406\n"
     ]
    },
    {
     "name": "stderr",
     "output_type": "stream",
     "text": [
      " 86%|█████████████████████████████████████████████████████████████████████████████▊            | 432/500 [10:22<01:35,  1.41s/it]"
     ]
    },
    {
     "name": "stdout",
     "output_type": "stream",
     "text": [
      "431\t94\t94\t0.68099\tTrue\tTrue\t0:00:01.408368\n"
     ]
    },
    {
     "name": "stderr",
     "output_type": "stream",
     "text": [
      " 87%|█████████████████████████████████████████████████████████████████████████████▉            | 433/500 [10:23<01:36,  1.44s/it]"
     ]
    },
    {
     "name": "stdout",
     "output_type": "stream",
     "text": [
      "432\t92\t54\t1.54076\tFalse\tFalse\t0:00:01.508667\n"
     ]
    },
    {
     "name": "stderr",
     "output_type": "stream",
     "text": [
      " 87%|██████████████████████████████████████████████████████████████████████████████            | 434/500 [10:25<01:33,  1.41s/it]"
     ]
    },
    {
     "name": "stdout",
     "output_type": "stream",
     "text": [
      "433\t91\t-1\t0.00000\tFalse\tFalse\t0:00:01.343765\n"
     ]
    },
    {
     "name": "stderr",
     "output_type": "stream",
     "text": [
      " 87%|██████████████████████████████████████████████████████████████████████████████▎           | 435/500 [10:26<01:31,  1.41s/it]"
     ]
    },
    {
     "name": "stdout",
     "output_type": "stream",
     "text": [
      "434\t60\t60\t1.35356\tTrue\tTrue\t0:00:01.394664\n"
     ]
    },
    {
     "name": "stderr",
     "output_type": "stream",
     "text": [
      " 87%|██████████████████████████████████████████████████████████████████████████████▍           | 436/500 [10:27<01:30,  1.41s/it]"
     ]
    },
    {
     "name": "stdout",
     "output_type": "stream",
     "text": [
      "435\t90\t-1\t0.00000\tFalse\tFalse\t0:00:01.416945\n"
     ]
    },
    {
     "name": "stderr",
     "output_type": "stream",
     "text": [
      " 87%|██████████████████████████████████████████████████████████████████████████████▋           | 437/500 [10:29<01:30,  1.43s/it]"
     ]
    },
    {
     "name": "stdout",
     "output_type": "stream",
     "text": [
      "436\t81\t12\t1.61599\tFalse\tFalse\t0:00:01.471560\n"
     ]
    },
    {
     "name": "stderr",
     "output_type": "stream",
     "text": [
      " 88%|██████████████████████████████████████████████████████████████████████████████▊           | 438/500 [10:30<01:27,  1.41s/it]"
     ]
    },
    {
     "name": "stdout",
     "output_type": "stream",
     "text": [
      "437\t23\t-1\t0.00000\tFalse\tFalse\t0:00:01.377288\n"
     ]
    },
    {
     "name": "stderr",
     "output_type": "stream",
     "text": [
      " 88%|███████████████████████████████████████████████████████████████████████████████           | 439/500 [10:32<01:25,  1.41s/it]"
     ]
    },
    {
     "name": "stdout",
     "output_type": "stream",
     "text": [
      "438\t97\t97\t2.46326\tTrue\tTrue\t0:00:01.380142\n"
     ]
    },
    {
     "name": "stderr",
     "output_type": "stream",
     "text": [
      " 88%|███████████████████████████████████████████████████████████████████████████████▏          | 440/500 [10:33<01:25,  1.42s/it]"
     ]
    },
    {
     "name": "stdout",
     "output_type": "stream",
     "text": [
      "439\t31\t-1\t0.00000\tFalse\tFalse\t0:00:01.451431\n"
     ]
    },
    {
     "name": "stderr",
     "output_type": "stream",
     "text": [
      " 88%|███████████████████████████████████████████████████████████████████████████████▍          | 441/500 [10:34<01:22,  1.40s/it]"
     ]
    },
    {
     "name": "stdout",
     "output_type": "stream",
     "text": [
      "440\t74\t-1\t0.00000\tFalse\tFalse\t0:00:01.343730\n"
     ]
    },
    {
     "name": "stderr",
     "output_type": "stream",
     "text": [
      " 88%|███████████████████████████████████████████████████████████████████████████████▌          | 442/500 [10:36<01:20,  1.39s/it]"
     ]
    },
    {
     "name": "stdout",
     "output_type": "stream",
     "text": [
      "441\t75\t64\t0.21111\tFalse\tFalse\t0:00:01.370633\n"
     ]
    },
    {
     "name": "stderr",
     "output_type": "stream",
     "text": [
      " 89%|███████████████████████████████████████████████████████████████████████████████▋          | 443/500 [10:37<01:18,  1.38s/it]"
     ]
    },
    {
     "name": "stdout",
     "output_type": "stream",
     "text": [
      "442\t98\t35\t0.06981\tFalse\tFalse\t0:00:01.357026\n"
     ]
    },
    {
     "name": "stderr",
     "output_type": "stream",
     "text": [
      " 89%|███████████████████████████████████████████████████████████████████████████████▉          | 444/500 [10:39<01:17,  1.39s/it]"
     ]
    },
    {
     "name": "stdout",
     "output_type": "stream",
     "text": [
      "443\t5\t13\t0.60583\tFalse\tFalse\t0:00:01.405297\n"
     ]
    },
    {
     "name": "stderr",
     "output_type": "stream",
     "text": [
      " 89%|████████████████████████████████████████████████████████████████████████████████          | 445/500 [10:40<01:17,  1.40s/it]"
     ]
    },
    {
     "name": "stdout",
     "output_type": "stream",
     "text": [
      "444\t6\t-1\t0.00000\tFalse\tFalse\t0:00:01.422529\n"
     ]
    },
    {
     "name": "stderr",
     "output_type": "stream",
     "text": [
      " 89%|████████████████████████████████████████████████████████████████████████████████▎         | 446/500 [10:42<01:17,  1.43s/it]"
     ]
    },
    {
     "name": "stdout",
     "output_type": "stream",
     "text": [
      "445\t48\t48\t0.51636\tTrue\tTrue\t0:00:01.483375\n"
     ]
    },
    {
     "name": "stderr",
     "output_type": "stream",
     "text": [
      " 89%|████████████████████████████████████████████████████████████████████████████████▍         | 447/500 [10:43<01:15,  1.43s/it]"
     ]
    },
    {
     "name": "stdout",
     "output_type": "stream",
     "text": [
      "446\t40\t28\t0.71507\tFalse\tFalse\t0:00:01.433517\n"
     ]
    },
    {
     "name": "stderr",
     "output_type": "stream",
     "text": [
      " 90%|████████████████████████████████████████████████████████████████████████████████▋         | 448/500 [10:44<01:14,  1.44s/it]"
     ]
    },
    {
     "name": "stdout",
     "output_type": "stream",
     "text": [
      "447\t66\t-1\t0.00000\tFalse\tFalse\t0:00:01.470101\n"
     ]
    },
    {
     "name": "stderr",
     "output_type": "stream",
     "text": [
      " 90%|████████████████████████████████████████████████████████████████████████████████▊         | 449/500 [10:46<01:13,  1.43s/it]"
     ]
    },
    {
     "name": "stdout",
     "output_type": "stream",
     "text": [
      "448\t68\t58\t0.40597\tFalse\tFalse\t0:00:01.411139\n"
     ]
    },
    {
     "name": "stderr",
     "output_type": "stream",
     "text": [
      " 90%|█████████████████████████████████████████████████████████████████████████████████         | 450/500 [10:47<01:11,  1.42s/it]"
     ]
    },
    {
     "name": "stdout",
     "output_type": "stream",
     "text": [
      "449\t4\t-1\t0.00000\tFalse\tFalse\t0:00:01.400939\n"
     ]
    },
    {
     "name": "stderr",
     "output_type": "stream",
     "text": [
      " 90%|█████████████████████████████████████████████████████████████████████████████████▏        | 451/500 [10:49<01:09,  1.42s/it]"
     ]
    },
    {
     "name": "stdout",
     "output_type": "stream",
     "text": [
      "450\t45\t98\t0.07996\tFalse\tFalse\t0:00:01.400587\n"
     ]
    },
    {
     "name": "stderr",
     "output_type": "stream",
     "text": [
      " 90%|█████████████████████████████████████████████████████████████████████████████████▎        | 452/500 [10:50<01:08,  1.42s/it]"
     ]
    },
    {
     "name": "stdout",
     "output_type": "stream",
     "text": [
      "451\t42\t-1\t0.00000\tFalse\tFalse\t0:00:01.429636\n"
     ]
    },
    {
     "name": "stderr",
     "output_type": "stream",
     "text": [
      " 91%|█████████████████████████████████████████████████████████████████████████████████▌        | 453/500 [10:52<01:07,  1.44s/it]"
     ]
    },
    {
     "name": "stdout",
     "output_type": "stream",
     "text": [
      "452\t5\t5\t2.46326\tTrue\tTrue\t0:00:01.461905\n"
     ]
    },
    {
     "name": "stderr",
     "output_type": "stream",
     "text": [
      " 91%|█████████████████████████████████████████████████████████████████████████████████▋        | 454/500 [10:53<01:07,  1.46s/it]"
     ]
    },
    {
     "name": "stdout",
     "output_type": "stream",
     "text": [
      "453\t14\t-1\t0.00000\tFalse\tFalse\t0:00:01.506901\n"
     ]
    },
    {
     "name": "stderr",
     "output_type": "stream",
     "text": [
      " 91%|█████████████████████████████████████████████████████████████████████████████████▉        | 455/500 [10:54<01:03,  1.42s/it]"
     ]
    },
    {
     "name": "stdout",
     "output_type": "stream",
     "text": [
      "454\t56\t56\t2.46326\tTrue\tTrue\t0:00:01.314903\n"
     ]
    },
    {
     "name": "stderr",
     "output_type": "stream",
     "text": [
      " 91%|██████████████████████████████████████████████████████████████████████████████████        | 456/500 [10:56<01:02,  1.42s/it]"
     ]
    },
    {
     "name": "stdout",
     "output_type": "stream",
     "text": [
      "455\t83\t53\t1.59340\tFalse\tFalse\t0:00:01.422966\n"
     ]
    },
    {
     "name": "stderr",
     "output_type": "stream",
     "text": [
      " 91%|██████████████████████████████████████████████████████████████████████████████████▎       | 457/500 [10:57<01:01,  1.44s/it]"
     ]
    },
    {
     "name": "stdout",
     "output_type": "stream",
     "text": [
      "456\t23\t-1\t0.00000\tFalse\tFalse\t0:00:01.474800\n"
     ]
    },
    {
     "name": "stderr",
     "output_type": "stream",
     "text": [
      " 92%|██████████████████████████████████████████████████████████████████████████████████▍       | 458/500 [10:59<01:00,  1.45s/it]"
     ]
    },
    {
     "name": "stdout",
     "output_type": "stream",
     "text": [
      "457\t47\t-1\t0.00000\tFalse\tFalse\t0:00:01.481774\n"
     ]
    },
    {
     "name": "stderr",
     "output_type": "stream",
     "text": [
      " 92%|██████████████████████████████████████████████████████████████████████████████████▌       | 459/500 [11:00<00:59,  1.45s/it]"
     ]
    },
    {
     "name": "stdout",
     "output_type": "stream",
     "text": [
      "458\t7\t-1\t0.00000\tFalse\tFalse\t0:00:01.437841\n"
     ]
    },
    {
     "name": "stderr",
     "output_type": "stream",
     "text": [
      " 92%|██████████████████████████████████████████████████████████████████████████████████▊       | 460/500 [11:02<00:57,  1.44s/it]"
     ]
    },
    {
     "name": "stdout",
     "output_type": "stream",
     "text": [
      "459\t82\t82\t2.46326\tTrue\tTrue\t0:00:01.415934\n"
     ]
    },
    {
     "name": "stderr",
     "output_type": "stream",
     "text": [
      " 92%|██████████████████████████████████████████████████████████████████████████████████▉       | 461/500 [11:03<00:56,  1.44s/it]"
     ]
    },
    {
     "name": "stdout",
     "output_type": "stream",
     "text": [
      "460\t54\t70\t2.46326\tFalse\tFalse\t0:00:01.429565\n"
     ]
    },
    {
     "name": "stderr",
     "output_type": "stream",
     "text": [
      " 92%|███████████████████████████████████████████████████████████████████████████████████▏      | 462/500 [11:04<00:54,  1.44s/it]"
     ]
    },
    {
     "name": "stdout",
     "output_type": "stream",
     "text": [
      "461\t50\t4\t0.61861\tFalse\tFalse\t0:00:01.435803\n"
     ]
    },
    {
     "name": "stderr",
     "output_type": "stream",
     "text": [
      " 93%|███████████████████████████████████████████████████████████████████████████████████▎      | 463/500 [11:06<00:52,  1.42s/it]"
     ]
    },
    {
     "name": "stdout",
     "output_type": "stream",
     "text": [
      "462\t41\t-1\t0.00000\tFalse\tFalse\t0:00:01.386023\n"
     ]
    },
    {
     "name": "stderr",
     "output_type": "stream",
     "text": [
      " 93%|███████████████████████████████████████████████████████████████████████████████████▌      | 464/500 [11:07<00:49,  1.38s/it]"
     ]
    },
    {
     "name": "stdout",
     "output_type": "stream",
     "text": [
      "463\t98\t11\t2.46326\tFalse\tFalse\t0:00:01.278564\n"
     ]
    },
    {
     "name": "stderr",
     "output_type": "stream",
     "text": [
      " 93%|███████████████████████████████████████████████████████████████████████████████████▋      | 465/500 [11:08<00:47,  1.36s/it]"
     ]
    },
    {
     "name": "stdout",
     "output_type": "stream",
     "text": [
      "464\t18\t-1\t0.00000\tFalse\tFalse\t0:00:01.311803\n"
     ]
    },
    {
     "name": "stderr",
     "output_type": "stream",
     "text": [
      " 93%|███████████████████████████████████████████████████████████████████████████████████▉      | 466/500 [11:10<00:45,  1.35s/it]"
     ]
    },
    {
     "name": "stdout",
     "output_type": "stream",
     "text": [
      "465\t58\t68\t0.25056\tFalse\tFalse\t0:00:01.320379\n"
     ]
    },
    {
     "name": "stderr",
     "output_type": "stream",
     "text": [
      " 93%|████████████████████████████████████████████████████████████████████████████████████      | 467/500 [11:11<00:46,  1.40s/it]"
     ]
    },
    {
     "name": "stdout",
     "output_type": "stream",
     "text": [
      "466\t46\t-1\t0.00000\tFalse\tFalse\t0:00:01.519772\n"
     ]
    },
    {
     "name": "stderr",
     "output_type": "stream",
     "text": [
      " 94%|████████████████████████████████████████████████████████████████████████████████████▏     | 468/500 [11:13<00:44,  1.38s/it]"
     ]
    },
    {
     "name": "stdout",
     "output_type": "stream",
     "text": [
      "467\t8\t-1\t0.00000\tFalse\tFalse\t0:00:01.342278\n"
     ]
    },
    {
     "name": "stderr",
     "output_type": "stream",
     "text": [
      " 94%|████████████████████████████████████████████████████████████████████████████████████▍     | 469/500 [11:14<00:42,  1.39s/it]"
     ]
    },
    {
     "name": "stdout",
     "output_type": "stream",
     "text": [
      "468\t3\t-1\t0.00000\tFalse\tFalse\t0:00:01.387086\n"
     ]
    },
    {
     "name": "stderr",
     "output_type": "stream",
     "text": [
      " 94%|████████████████████████████████████████████████████████████████████████████████████▌     | 470/500 [11:15<00:40,  1.36s/it]"
     ]
    },
    {
     "name": "stdout",
     "output_type": "stream",
     "text": [
      "469\t41\t-1\t0.00000\tFalse\tFalse\t0:00:01.305469\n"
     ]
    },
    {
     "name": "stderr",
     "output_type": "stream",
     "text": [
      " 94%|████████████████████████████████████████████████████████████████████████████████████▊     | 471/500 [11:17<00:40,  1.39s/it]"
     ]
    },
    {
     "name": "stdout",
     "output_type": "stream",
     "text": [
      "470\t22\t22\t2.46326\tTrue\tTrue\t0:00:01.449892\n"
     ]
    },
    {
     "name": "stderr",
     "output_type": "stream",
     "text": [
      " 94%|████████████████████████████████████████████████████████████████████████████████████▉     | 472/500 [11:18<00:39,  1.41s/it]"
     ]
    },
    {
     "name": "stdout",
     "output_type": "stream",
     "text": [
      "471\t46\t21\t2.46326\tFalse\tFalse\t0:00:01.445316\n"
     ]
    },
    {
     "name": "stderr",
     "output_type": "stream",
     "text": [
      " 95%|█████████████████████████████████████████████████████████████████████████████████████▏    | 473/500 [11:20<00:38,  1.41s/it]"
     ]
    },
    {
     "name": "stdout",
     "output_type": "stream",
     "text": [
      "472\t78\t79\t0.13350\tFalse\tFalse\t0:00:01.423034\n"
     ]
    },
    {
     "name": "stderr",
     "output_type": "stream",
     "text": [
      " 95%|█████████████████████████████████████████████████████████████████████████████████████▎    | 474/500 [11:21<00:36,  1.41s/it]"
     ]
    },
    {
     "name": "stdout",
     "output_type": "stream",
     "text": [
      "473\t61\t-1\t0.00000\tFalse\tFalse\t0:00:01.388527\n"
     ]
    },
    {
     "name": "stderr",
     "output_type": "stream",
     "text": [
      " 95%|█████████████████████████████████████████████████████████████████████████████████████▌    | 475/500 [11:23<00:36,  1.45s/it]"
     ]
    },
    {
     "name": "stdout",
     "output_type": "stream",
     "text": [
      "474\t70\t70\t0.99306\tTrue\tTrue\t0:00:01.533630\n"
     ]
    },
    {
     "name": "stderr",
     "output_type": "stream",
     "text": [
      " 95%|█████████████████████████████████████████████████████████████████████████████████████▋    | 476/500 [11:24<00:34,  1.45s/it]"
     ]
    },
    {
     "name": "stdout",
     "output_type": "stream",
     "text": [
      "475\t76\t76\t0.58688\tTrue\tTrue\t0:00:01.466201\n"
     ]
    },
    {
     "name": "stderr",
     "output_type": "stream",
     "text": [
      " 95%|█████████████████████████████████████████████████████████████████████████████████████▊    | 477/500 [11:26<00:33,  1.47s/it]"
     ]
    },
    {
     "name": "stdout",
     "output_type": "stream",
     "text": [
      "476\t74\t-1\t0.00000\tFalse\tFalse\t0:00:01.501554\n"
     ]
    },
    {
     "name": "stderr",
     "output_type": "stream",
     "text": [
      " 96%|██████████████████████████████████████████████████████████████████████████████████████    | 478/500 [11:27<00:32,  1.47s/it]"
     ]
    },
    {
     "name": "stdout",
     "output_type": "stream",
     "text": [
      "477\t40\t-1\t0.00000\tFalse\tFalse\t0:00:01.457163\n"
     ]
    },
    {
     "name": "stderr",
     "output_type": "stream",
     "text": [
      " 96%|██████████████████████████████████████████████████████████████████████████████████████▏   | 479/500 [11:29<00:30,  1.47s/it]"
     ]
    },
    {
     "name": "stdout",
     "output_type": "stream",
     "text": [
      "478\t33\t-1\t0.00000\tFalse\tFalse\t0:00:01.489890\n"
     ]
    },
    {
     "name": "stderr",
     "output_type": "stream",
     "text": [
      " 96%|██████████████████████████████████████████████████████████████████████████████████████▍   | 480/500 [11:30<00:29,  1.47s/it]"
     ]
    },
    {
     "name": "stdout",
     "output_type": "stream",
     "text": [
      "479\t83\t-1\t0.00000\tFalse\tFalse\t0:00:01.467664\n"
     ]
    },
    {
     "name": "stderr",
     "output_type": "stream",
     "text": [
      " 96%|██████████████████████████████████████████████████████████████████████████████████████▌   | 481/500 [11:31<00:27,  1.46s/it]"
     ]
    },
    {
     "name": "stdout",
     "output_type": "stream",
     "text": [
      "480\t81\t-1\t0.00000\tFalse\tFalse\t0:00:01.436363\n"
     ]
    },
    {
     "name": "stderr",
     "output_type": "stream",
     "text": [
      " 96%|██████████████████████████████████████████████████████████████████████████████████████▊   | 482/500 [11:33<00:25,  1.44s/it]"
     ]
    },
    {
     "name": "stdout",
     "output_type": "stream",
     "text": [
      "481\t51\t-1\t0.00000\tFalse\tFalse\t0:00:01.381355\n"
     ]
    },
    {
     "name": "stderr",
     "output_type": "stream",
     "text": [
      " 97%|██████████████████████████████████████████████████████████████████████████████████████▉   | 483/500 [11:34<00:24,  1.43s/it]"
     ]
    },
    {
     "name": "stdout",
     "output_type": "stream",
     "text": [
      "482\t22\t-1\t0.00000\tFalse\tFalse\t0:00:01.399904\n"
     ]
    },
    {
     "name": "stderr",
     "output_type": "stream",
     "text": [
      " 97%|███████████████████████████████████████████████████████████████████████████████████████   | 484/500 [11:36<00:22,  1.41s/it]"
     ]
    },
    {
     "name": "stdout",
     "output_type": "stream",
     "text": [
      "483\t88\t51\t0.39752\tFalse\tFalse\t0:00:01.359543\n"
     ]
    },
    {
     "name": "stderr",
     "output_type": "stream",
     "text": [
      " 97%|███████████████████████████████████████████████████████████████████████████████████████▎  | 485/500 [11:37<00:21,  1.41s/it]"
     ]
    },
    {
     "name": "stdout",
     "output_type": "stream",
     "text": [
      "484\t55\t55\t0.05210\tFalse\tTrue\t0:00:01.427802\n"
     ]
    },
    {
     "name": "stderr",
     "output_type": "stream",
     "text": [
      " 97%|███████████████████████████████████████████████████████████████████████████████████████▍  | 486/500 [11:39<00:20,  1.45s/it]"
     ]
    },
    {
     "name": "stdout",
     "output_type": "stream",
     "text": [
      "485\t79\t7\t1.55089\tFalse\tFalse\t0:00:01.513895\n"
     ]
    },
    {
     "name": "stderr",
     "output_type": "stream",
     "text": [
      " 97%|███████████████████████████████████████████████████████████████████████████████████████▋  | 487/500 [11:40<00:19,  1.47s/it]"
     ]
    },
    {
     "name": "stdout",
     "output_type": "stream",
     "text": [
      "486\t0\t0\t2.46326\tTrue\tTrue\t0:00:01.527888\n"
     ]
    },
    {
     "name": "stderr",
     "output_type": "stream",
     "text": [
      " 98%|███████████████████████████████████████████████████████████████████████████████████████▊  | 488/500 [11:41<00:17,  1.46s/it]"
     ]
    },
    {
     "name": "stdout",
     "output_type": "stream",
     "text": [
      "487\t17\t-1\t0.00000\tFalse\tFalse\t0:00:01.429810\n"
     ]
    },
    {
     "name": "stderr",
     "output_type": "stream",
     "text": [
      " 98%|████████████████████████████████████████████████████████████████████████████████████████  | 489/500 [11:43<00:15,  1.45s/it]"
     ]
    },
    {
     "name": "stdout",
     "output_type": "stream",
     "text": [
      "488\t27\t27\t0.44587\tTrue\tTrue\t0:00:01.436281\n"
     ]
    },
    {
     "name": "stderr",
     "output_type": "stream",
     "text": [
      " 98%|████████████████████████████████████████████████████████████████████████████████████████▏ | 490/500 [11:44<00:14,  1.44s/it]"
     ]
    },
    {
     "name": "stdout",
     "output_type": "stream",
     "text": [
      "489\t83\t92\t1.13571\tFalse\tFalse\t0:00:01.401243\n"
     ]
    },
    {
     "name": "stderr",
     "output_type": "stream",
     "text": [
      " 98%|████████████████████████████████████████████████████████████████████████████████████████▍ | 491/500 [11:46<00:13,  1.45s/it]"
     ]
    },
    {
     "name": "stdout",
     "output_type": "stream",
     "text": [
      "490\t99\t22\t0.99306\tFalse\tFalse\t0:00:01.485240\n"
     ]
    },
    {
     "name": "stderr",
     "output_type": "stream",
     "text": [
      " 98%|████████████████████████████████████████████████████████████████████████████████████████▌ | 492/500 [11:47<00:11,  1.47s/it]"
     ]
    },
    {
     "name": "stdout",
     "output_type": "stream",
     "text": [
      "491\t24\t63\t0.18507\tFalse\tFalse\t0:00:01.498906\n"
     ]
    },
    {
     "name": "stderr",
     "output_type": "stream",
     "text": [
      " 99%|████████████████████████████████████████████████████████████████████████████████████████▋ | 493/500 [11:49<00:10,  1.47s/it]"
     ]
    },
    {
     "name": "stdout",
     "output_type": "stream",
     "text": [
      "492\t40\t69\t0.71162\tFalse\tFalse\t0:00:01.482537\n"
     ]
    },
    {
     "name": "stderr",
     "output_type": "stream",
     "text": [
      " 99%|████████████████████████████████████████████████████████████████████████████████████████▉ | 494/500 [11:50<00:08,  1.46s/it]"
     ]
    },
    {
     "name": "stdout",
     "output_type": "stream",
     "text": [
      "493\t40\t87\t2.46326\tFalse\tFalse\t0:00:01.438691\n"
     ]
    },
    {
     "name": "stderr",
     "output_type": "stream",
     "text": [
      " 99%|█████████████████████████████████████████████████████████████████████████████████████████ | 495/500 [11:52<00:07,  1.49s/it]"
     ]
    },
    {
     "name": "stdout",
     "output_type": "stream",
     "text": [
      "494\t70\t54\t0.84670\tFalse\tFalse\t0:00:01.549616\n"
     ]
    },
    {
     "name": "stderr",
     "output_type": "stream",
     "text": [
      " 99%|█████████████████████████████████████████████████████████████████████████████████████████▎| 496/500 [11:53<00:05,  1.45s/it]"
     ]
    },
    {
     "name": "stdout",
     "output_type": "stream",
     "text": [
      "495\t0\t-1\t0.00000\tFalse\tFalse\t0:00:01.340980\n"
     ]
    },
    {
     "name": "stderr",
     "output_type": "stream",
     "text": [
      " 99%|█████████████████████████████████████████████████████████████████████████████████████████▍| 497/500 [11:55<00:04,  1.44s/it]"
     ]
    },
    {
     "name": "stdout",
     "output_type": "stream",
     "text": [
      "496\t27\t-1\t0.00000\tFalse\tFalse\t0:00:01.433675\n"
     ]
    },
    {
     "name": "stderr",
     "output_type": "stream",
     "text": [
      "100%|█████████████████████████████████████████████████████████████████████████████████████████▋| 498/500 [11:56<00:02,  1.43s/it]"
     ]
    },
    {
     "name": "stdout",
     "output_type": "stream",
     "text": [
      "497\t67\t67\t0.68436\tTrue\tTrue\t0:00:01.409744\n"
     ]
    },
    {
     "name": "stderr",
     "output_type": "stream",
     "text": [
      "100%|█████████████████████████████████████████████████████████████████████████████████████████▊| 499/500 [11:57<00:01,  1.43s/it]"
     ]
    },
    {
     "name": "stdout",
     "output_type": "stream",
     "text": [
      "498\t74\t78\t2.46326\tFalse\tFalse\t0:00:01.404339\n"
     ]
    },
    {
     "name": "stderr",
     "output_type": "stream",
     "text": [
      "100%|██████████████████████████████████████████████████████████████████████████████████████████| 500/500 [11:59<00:00,  1.44s/it]"
     ]
    },
    {
     "name": "stdout",
     "output_type": "stream",
     "text": [
      "499\t29\t-1\t0.00000\tFalse\tFalse\t0:00:01.342916\n",
      "Total 500 Certified 144 Certified Acc 0.288 Test Acc 0.306\n"
     ]
    },
    {
     "name": "stderr",
     "output_type": "stream",
     "text": [
      "\n"
     ]
    }
   ],
   "source": [
    "# args.base_classifier = \"../../tss_weights/cifar10/resnet110/brightness-contrast/0.3_0.3/consistency/checkpoint.pth.tar\"\n",
    "# args.base_classifier = \"../../new_results/cifar100_resnet110_cifar100_cb_cifar100_cb_checkpoint.pth.tar\"\n",
    "args.base_classifier = '../../new_results/trcifar100_resnet110_cifar100_tr_cifar100_trans_checkpoint.pth.tar'\n",
    "args.dataset = 'cifar100'\n",
    "dataset = our_cifar100_500\n",
    "\n",
    "\n",
    "\n",
    "device = torch.device('cuda')\n",
    "\n",
    "\n",
    "model = get_architecture(arch=\"cifar100_resnet110\", dataset=\"cifar100\", device=device)\n",
    "checkpoint = torch.load(args.base_classifier, map_location=device)\n",
    "model.load_state_dict(checkpoint['state_dict'])\n",
    "model.eval()\n",
    "model = model.to(device)\n",
    "\n",
    "base_classifier = model\n",
    "\n",
    "\n",
    "img_size, param_size = get_size(args)\n",
    "\n",
    "model_t = img2img_get_model(args, img_size, param_size,parallel=False)\n",
    "\n",
    "trans_path = None\n",
    "if trans_path is not None:\n",
    "    state_dict = torch.load(trans_path)['state_dict']\n",
    "    model_t.load_state_dict(state_dict)\n",
    "# model_t = load_parallel_model(model_t, state_dict)\n",
    "\n",
    "# to device\n",
    "base_classifier.to(device)\n",
    "base_classifier.eval()\n",
    "model_t.to(device)\n",
    "model_t.eval()\n",
    "\n",
    "\n",
    "#load dataset\n",
    "\n",
    "# corruptor\n",
    "corruptor = Corruption(args, co_type=args.corrupt,add_noise=args.add_noise,noise_sd=args.noise_sd,distribution=args.noise_dst)\n",
    "\n",
    "# create the smooothed classifier g\n",
    "smoothed_classifier = TSmooth(base_classifier, None, corruptor, get_num_classes(args.dataset),args.noise_dst,args.noise_sd, args.add_noise)\n",
    "\n",
    "# prepare output file\n",
    "f = open(args.outfile+'_'+args.dataset+'_'+args.corrupt+'_'+str(args.noise_sd), 'w')\n",
    "print(\"idx\\tlabel\\tpredict\\tradius\\tgood\\tcorrect\\ttime\", file=f, flush=True)\n",
    "print(\"idx\\tlabel\\tpredict\\tradius\\tgood\\tcorrect\\ttime\")\n",
    "\n",
    "tot, tot_good, tot_correct = 0, 0, 0\n",
    "\n",
    "# for gaussian smooth\n",
    "attack_radius = args.partial_max\n",
    "\n",
    "\n",
    "\n",
    "\n",
    "for i in tqdm(range(len(dataset))):\n",
    "\n",
    "#     # only certify every args.skip examples, and stop after args.max examples\n",
    "#     if i % args.skip != 0:\n",
    "#         continue\n",
    "#     if i == args.max:\n",
    "#         break\n",
    "\n",
    "    (x, label) = dataset[i]\n",
    "\n",
    "    before_time = time()\n",
    "    x = x.cuda()\n",
    "    prediction, radius = smoothed_classifier.certify(x, args.N0, args.N, args.alpha, args.batch)\n",
    "\n",
    "\n",
    "    correct = (prediction == label).item()\n",
    "    cond1 = radius * args.noise_sd > args.partial_max\n",
    "#     print(cond1.dtype)\n",
    "#     print(correct.dtype)\n",
    "    good = (radius * args.noise_sd > args.partial_max)&correct\n",
    "\n",
    "    tot, tot_good, tot_correct = tot+1, tot_good+good, tot_correct+correct\n",
    "    after_time = time()\n",
    "    time_elapsed = str(datetime.timedelta(seconds=(after_time - before_time)))\n",
    "    print(\"{}\\t{}\\t{}\\t{:.5f}\\t{}\\t{}\\t{}\".format(i, label, prediction, radius, good, correct, time_elapsed))\n",
    "\n",
    "f.close()\n",
    "\n",
    "print(\"Total {} Certified {} Certified Acc {} Test Acc {}\".format(tot, tot_good, tot_good/tot, tot_correct/tot))\n",
    "\n",
    "f = open(args.outfile+'_'+args.dataset+'_'+args.corrupt+'_'+str(args.noise_sd), 'w')\n",
    "print(\"Total {} Certified {} Certified Acc {} Test Acc {}\".format(tot, tot_good, tot_good/tot, tot_correct/tot), file=f, flush=True)\n",
    "f.close()"
   ]
  },
  {
   "cell_type": "code",
   "execution_count": 18,
   "id": "2ae013db",
   "metadata": {},
   "outputs": [
    {
     "data": {
      "text/plain": [
       "0.0"
      ]
     },
     "execution_count": 18,
     "metadata": {},
     "output_type": "execute_result"
    }
   ],
   "source": [
    "radius"
   ]
  },
  {
   "cell_type": "code",
   "execution_count": 17,
   "id": "4f4a446d",
   "metadata": {},
   "outputs": [
    {
     "name": "stdout",
     "output_type": "stream",
     "text": [
      "Total 500 Certified 144 Certified Acc 0.288 Test Acc 0.306\n"
     ]
    }
   ],
   "source": [
    "## Gsmooth\n",
    "\n",
    "print(\"Total {} Certified {} Certified Acc {} Test Acc {}\".format(tot, tot_good, tot_good/tot, tot_correct/tot))"
   ]
  },
  {
   "cell_type": "code",
   "execution_count": 15,
   "id": "7ebbbef6",
   "metadata": {},
   "outputs": [],
   "source": [
    "f = open(args.outfile+'_'+args.corrupt+'_'+str(args.noise_sd), 'w')\n",
    "print(\"Total {} Certified {} Certified Acc {} Test Acc {}\".format(tot, tot_good, tot_good/tot, tot_correct/tot), file=f, flush=True)\n",
    "f.close()"
   ]
  },
  {
   "cell_type": "code",
   "execution_count": null,
   "id": "04c5e605",
   "metadata": {},
   "outputs": [],
   "source": []
  }
 ],
 "metadata": {
  "kernelspec": {
   "display_name": "Python 3 (ipykernel)",
   "language": "python",
   "name": "python3"
  },
  "language_info": {
   "codemirror_mode": {
    "name": "ipython",
    "version": 3
   },
   "file_extension": ".py",
   "mimetype": "text/x-python",
   "name": "python",
   "nbconvert_exporter": "python",
   "pygments_lexer": "ipython3",
   "version": "3.8.12"
  }
 },
 "nbformat": 4,
 "nbformat_minor": 5
}
