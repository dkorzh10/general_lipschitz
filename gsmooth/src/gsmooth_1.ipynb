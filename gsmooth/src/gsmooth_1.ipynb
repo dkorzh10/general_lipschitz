{
 "cells": [
  {
   "cell_type": "code",
   "execution_count": 1,
   "id": "6844e871",
   "metadata": {},
   "outputs": [],
   "source": [
    "import sys\n",
    "sys.path.append('./..')\n",
    "sys.path.append('./img2img')\n",
    "\n",
    "import argparse\n",
    "import datetime\n",
    "import os\n",
    "from time import time\n",
    "from collections import OrderedDict\n",
    "\n",
    "import numpy as np\n",
    "import torch\n",
    "from torchvision.models.resnet import resnet50\n",
    "from torch.utils.data import DataLoader, Dataset\n",
    "from tqdm import tqdm\n",
    "\n",
    "from src.datasets import get_dataset, DATASETS, get_num_classes, get_corrupted_dataset, load_parallel_model\n",
    "from src.img2img.img2img_models import img2img_get_model, get_size\n",
    "from src.core import Smooth, TSmooth\n",
    "from src.img2img.corruption import Corruption\n",
    "from src.architectures import get_architecture\n",
    "from some_our_code.utils import make_our_dataset_v2, CustomAudioDataset\n",
    "from archs.cifar_resnet import resnet as resnet_cifar\n",
    "\n",
    "sys.path.append('./../../')\n",
    "# from architectures import get_architecture\n",
    "from datasets_utils import get_normalize_layer\n",
    "\n",
    "\n",
    "# import setGPU\n",
    "# from src.grad2n import gradnorm_batch, gradnorm_batch_reduced\n",
    "# from src.analyze import plot_certified_accuracy, Line, ApproximateAccuracy"
   ]
  },
  {
   "cell_type": "code",
   "execution_count": 2,
   "id": "068969ff",
   "metadata": {},
   "outputs": [
    {
     "name": "stdout",
     "output_type": "stream",
     "text": [
      "Thu Feb  1 17:27:32 2024       \n",
      "+---------------------------------------------------------------------------------------+\n",
      "| NVIDIA-SMI 535.129.03             Driver Version: 535.129.03   CUDA Version: 12.2     |\n",
      "|-----------------------------------------+----------------------+----------------------+\n",
      "| GPU  Name                 Persistence-M | Bus-Id        Disp.A | Volatile Uncorr. ECC |\n",
      "| Fan  Temp   Perf          Pwr:Usage/Cap |         Memory-Usage | GPU-Util  Compute M. |\n",
      "|                                         |                      |               MIG M. |\n",
      "|=========================================+======================+======================|\n",
      "|   0  Tesla V100-SXM2-16GB           On  | 00000000:06:00.0 Off |                    0 |\n",
      "| N/A   39C    P0              60W / 300W |  12447MiB / 16384MiB |      1%   E. Process |\n",
      "|                                         |                      |                  N/A |\n",
      "+-----------------------------------------+----------------------+----------------------+\n",
      "|   1  Tesla V100-SXM2-16GB           On  | 00000000:07:00.0 Off |                    0 |\n",
      "| N/A   37C    P0              43W / 300W |      3MiB / 16384MiB |      0%   E. Process |\n",
      "|                                         |                      |                  N/A |\n",
      "+-----------------------------------------+----------------------+----------------------+\n",
      "|   2  Tesla V100-SXM2-16GB           On  | 00000000:0A:00.0 Off |                    0 |\n",
      "| N/A   38C    P0              42W / 300W |      3MiB / 16384MiB |      0%   E. Process |\n",
      "|                                         |                      |                  N/A |\n",
      "+-----------------------------------------+----------------------+----------------------+\n",
      "|   3  Tesla V100-SXM2-16GB           On  | 00000000:0B:00.0 Off |                    0 |\n",
      "| N/A   37C    P0              60W / 300W |  12447MiB / 16384MiB |      1%   E. Process |\n",
      "|                                         |                      |                  N/A |\n",
      "+-----------------------------------------+----------------------+----------------------+\n",
      "|   4  Tesla V100-SXM2-16GB           On  | 00000000:85:00.0 Off |                    0 |\n",
      "| N/A   52C    P0             247W / 300W |  14909MiB / 16384MiB |    100%   E. Process |\n",
      "|                                         |                      |                  N/A |\n",
      "+-----------------------------------------+----------------------+----------------------+\n",
      "|   5  Tesla V100-SXM2-16GB           On  | 00000000:86:00.0 Off |                    0 |\n",
      "| N/A   63C    P0             294W / 300W |  13321MiB / 16384MiB |     36%   E. Process |\n",
      "|                                         |                      |                  N/A |\n",
      "+-----------------------------------------+----------------------+----------------------+\n",
      "|   6  Tesla V100-SXM2-16GB           On  | 00000000:89:00.0 Off |                    0 |\n",
      "| N/A   54C    P0              93W / 300W |  15319MiB / 16384MiB |      6%   E. Process |\n",
      "|                                         |                      |                  N/A |\n",
      "+-----------------------------------------+----------------------+----------------------+\n",
      "|   7  Tesla V100-SXM2-16GB           On  | 00000000:8A:00.0 Off |                    0 |\n",
      "| N/A   40C    P0              61W / 300W |  12447MiB / 16384MiB |      1%   E. Process |\n",
      "|                                         |                      |                  N/A |\n",
      "+-----------------------------------------+----------------------+----------------------+\n",
      "                                                                                         \n",
      "+---------------------------------------------------------------------------------------+\n",
      "| Processes:                                                                            |\n",
      "|  GPU   GI   CI        PID   Type   Process name                            GPU Memory |\n",
      "|        ID   ID                                                             Usage      |\n",
      "|=======================================================================================|\n",
      "+---------------------------------------------------------------------------------------+\n"
     ]
    }
   ],
   "source": [
    "!nvidia-smi"
   ]
  },
  {
   "cell_type": "code",
   "execution_count": 3,
   "id": "f89c286a",
   "metadata": {},
   "outputs": [
    {
     "name": "stdout",
     "output_type": "stream",
     "text": [
      "env: CUDA_VISIBLE_DEVICES=2\n",
      "env: CUDA_LAUNCH_BLOCKING=1\n"
     ]
    }
   ],
   "source": [
    "%env CUDA_VISIBLE_DEVICES=2\n",
    "%env CUDA_LAUNCH_BLOCKING=1"
   ]
  },
  {
   "cell_type": "code",
   "execution_count": 4,
   "id": "893911b6",
   "metadata": {},
   "outputs": [
    {
     "data": {
      "text/plain": [
       "tensor([1], device='cuda:0')"
      ]
     },
     "execution_count": 4,
     "metadata": {},
     "output_type": "execute_result"
    }
   ],
   "source": [
    "torch.tensor([1]).to(\"cuda\")"
   ]
  },
  {
   "cell_type": "code",
   "execution_count": 5,
   "id": "7ea3e3f4",
   "metadata": {},
   "outputs": [],
   "source": [
    "%load_ext autoreload\n",
    "%autoreload 2"
   ]
  },
  {
   "cell_type": "code",
   "execution_count": 6,
   "id": "db9a3596",
   "metadata": {},
   "outputs": [],
   "source": [
    "parser = argparse.ArgumentParser(description='Certify many examples')\n",
    "parser.add_argument(\"--dataset\",\n",
    "                    default='cifar10',choices=DATASETS, help=\"which dataset\")\n",
    "parser.add_argument(\"--base_classifier\", type=str,\n",
    "\n",
    "                    default=None,\n",
    "                    help=\"path to saved pytorch model of base classifier\")\n",
    "# parser.add_argument(\"sigma\", type=float, help=\"noise hyperparameter\")\n",
    "parser.add_argument(\"--outfile\", type=str,\n",
    "                    default='./logs/certify_results',\n",
    "                    help=\"output file\")\n",
    "\n",
    "\n",
    "parser.add_argument(\"--batch\", type=int, default=512, help=\"batch size\")\n",
    "parser.add_argument(\"--skip\", type=int, default=30\n",
    "                    , help=\"how many examples to skip\")\n",
    "parser.add_argument(\"--max\", type=int, default=-1, help=\"stop after this many examples\")\n",
    "parser.add_argument(\"--split\", choices=[\"train\", \"test\"], default=\"test\", help=\"train or test set\")\n",
    "parser.add_argument(\"--N0\", type=int, default=200)\n",
    "parser.add_argument(\"--N\", type=int, default=1000, help=\"number of samples to use\")\n",
    "parser.add_argument(\"--alpha\", type=float, default=1e-3, help=\"failure probability\")\n",
    "\n",
    "\n",
    "\n",
    "\n",
    "\n",
    "parser.add_argument('--corrupt',type=str,default=['none','gaussian_blur','motion_blur','zoom_blur','rotate','translate','contrast','pixelate','jpeg',][1],\n",
    "                    help=' The corruption type for training')\n",
    "parser.add_argument('--add_noise',type=float, default=0.0)\n",
    "parser.add_argument('--noise_dst',default=[\"none\",\"gaussian\",\"exp\",\"uniform\",\"folded_gaussian\"][2],type=str)\n",
    "parser.add_argument('--noise_sd', default=0.8, type=float,\n",
    "                    help=\"standard deviation of Gaussian noise for data augmentation\")\n",
    "\n",
    "\n",
    "parser.add_argument('--partial_min',default=0.0, type=float,\n",
    "                    help = \"Minimal of certify range\")\n",
    "parser.add_argument('--partial_max',default=1.0, type=float,\n",
    "                    help = \"Maximal of certify range\")\n",
    "\n",
    "\n",
    "\n",
    "parser.add_argument('--arch', type=str,\n",
    "                    default=[\"edsr\",\"unet\",\"runet\"][2])\n",
    "\n",
    "args = parser.parse_args([])"
   ]
  },
  {
   "cell_type": "code",
   "execution_count": 7,
   "id": "d08ce6d1",
   "metadata": {},
   "outputs": [
    {
     "data": {
      "text/plain": [
       "Namespace(N=1000, N0=200, add_noise=0.0, alpha=0.001, arch='runet', base_classifier=None, batch=512, corrupt='gaussian_blur', dataset='cifar10', max=-1, noise_dst='exp', noise_sd=0.8, outfile='./logs/certify_results', partial_max=1.0, partial_min=0.0, skip=30, split='test')"
      ]
     },
     "execution_count": 7,
     "metadata": {},
     "output_type": "execute_result"
    }
   ],
   "source": [
    "args"
   ]
  },
  {
   "cell_type": "code",
   "execution_count": 8,
   "id": "96b2f2be",
   "metadata": {},
   "outputs": [],
   "source": [
    "NUM_IMAGES_FOR_TEST = 500\n",
    "\n",
    "def make_test_dataset(args):\n",
    "    test_dataset = get_dataset(args.dataset, \"test\")\n",
    "    pin_memory = (args.dataset == \"imagenet\")\n",
    "    np.random.seed(42)\n",
    "    idxes = np.random.choice(len(test_dataset), NUM_IMAGES_FOR_TEST, replace=False)\n",
    "    \n",
    "    ourdataset = make_our_dataset_v2(test_dataset, idxes)\n",
    "    ourdataloader = DataLoader(ourdataset, shuffle=False, batch_size=1,\n",
    "                         num_workers=6, pin_memory=False)\n",
    "    return ourdataset, ourdataloader"
   ]
  },
  {
   "cell_type": "code",
   "execution_count": 9,
   "id": "e1edca47",
   "metadata": {},
   "outputs": [
    {
     "name": "stdout",
     "output_type": "stream",
     "text": [
      "[33553  9427   199 12447 39489 42724 10822 49498  4144 36958]\n"
     ]
    }
   ],
   "source": [
    "test_dataset = get_dataset('imagenet', 'test')\n",
    "pin_memory = False  # ('imagenet' == \"imagenet\")\n",
    "bs = 64\n",
    "np.random.seed(42)\n",
    "NUM_IMAGES_FOR_TEST = 500\n",
    "idxes = np.random.choice(len(test_dataset), NUM_IMAGES_FOR_TEST , replace=False)\n",
    "\n",
    "print(idxes[:10])"
   ]
  },
  {
   "cell_type": "code",
   "execution_count": 10,
   "id": "1f446615",
   "metadata": {},
   "outputs": [
    {
     "name": "stderr",
     "output_type": "stream",
     "text": [
      "100%|███████████████████████████████████████████████████████████████████████████████████████████████████████████████████████████████████████| 500/500 [00:11<00:00, 43.02it/s]\n"
     ]
    }
   ],
   "source": [
    "ourdataset500 = make_our_dataset_v2(test_dataset, idxes)\n",
    "\n",
    "dataloader500 = DataLoader(ourdataset500, shuffle=False, batch_size=1,\n",
    "                         num_workers=6, pin_memory=False)"
   ]
  },
  {
   "cell_type": "code",
   "execution_count": 11,
   "id": "5418a678",
   "metadata": {},
   "outputs": [
    {
     "name": "stdout",
     "output_type": "stream",
     "text": [
      "Files already downloaded and verified\n"
     ]
    },
    {
     "name": "stderr",
     "output_type": "stream",
     "text": [
      "100%|█████████████████████████████████████████████████████████████████████████████████████████████████████████████████████████████████████| 500/500 [00:00<00:00, 5589.35it/s]\n"
     ]
    }
   ],
   "source": [
    "np.random.seed(42)\n",
    "NUM_IMAGES_FOR_TEST = 500\n",
    "cifar10_ds = get_dataset('cifar10', 'test')\n",
    "idxes2 = np.random.choice(len(cifar10_ds), NUM_IMAGES_FOR_TEST , replace=False)\n",
    "\n",
    "our_cifar10_500 = make_our_dataset_v2(cifar10_ds, idxes2)\n",
    "dataloader_cifar10 = DataLoader(our_cifar10_500, shuffle=False, batch_size=1, num_workers=6, pin_memory=False)"
   ]
  },
  {
   "cell_type": "code",
   "execution_count": 12,
   "id": "d6b5190f",
   "metadata": {},
   "outputs": [
    {
     "name": "stdout",
     "output_type": "stream",
     "text": [
      "Files already downloaded and verified\n"
     ]
    },
    {
     "name": "stderr",
     "output_type": "stream",
     "text": [
      "100%|█████████████████████████████████████████████████████████████████████████████████████████████████████████████████████████████████████| 500/500 [00:00<00:00, 6081.27it/s]\n"
     ]
    }
   ],
   "source": [
    "np.random.seed(42)\n",
    "\n",
    "cifar100_ds = get_dataset('cifar100', 'test')\n",
    "idxes3 = np.random.choice(len(cifar100_ds), NUM_IMAGES_FOR_TEST , replace=False)\n",
    "\n",
    "our_cifar100_500 = make_our_dataset_v2(cifar100_ds, idxes3)\n",
    "dataloader_cifar100 = DataLoader(our_cifar100_500, shuffle=False, batch_size=1,\n",
    "                         num_workers=6, pin_memory=False)"
   ]
  },
  {
   "cell_type": "markdown",
   "id": "34aa0b26",
   "metadata": {},
   "source": [
    "# Contrast\n",
    "# or is it Contrast-Brightness(??) according to the code"
   ]
  },
  {
   "cell_type": "code",
   "execution_count": 13,
   "id": "cc80a3f5",
   "metadata": {},
   "outputs": [],
   "source": [
    "args.corrupt = 'contrast'\n",
    "args.noise_sd = 0.3\n",
    "args.noise_dst = \"gaussian\"\n",
    "args.partial_max = 0.4"
   ]
  },
  {
   "cell_type": "markdown",
   "id": "b2abfdb0",
   "metadata": {},
   "source": [
    "## CIFAR-10"
   ]
  },
  {
   "cell_type": "code",
   "execution_count": 14,
   "id": "0647d6b8",
   "metadata": {},
   "outputs": [
    {
     "name": "stdout",
     "output_type": "stream",
     "text": [
      "idx\tlabel\tpredict\tradius\tgood\tcorrect\ttime\n"
     ]
    },
    {
     "name": "stderr",
     "output_type": "stream",
     "text": [
      "  0%|▎                                                                                                                                        | 1/500 [00:05<49:08,  5.91s/it]"
     ]
    },
    {
     "name": "stdout",
     "output_type": "stream",
     "text": [
      "0\t2\t2\t1.56121\tTrue\tTrue\t0:00:05.909347\n"
     ]
    },
    {
     "name": "stderr",
     "output_type": "stream",
     "text": [
      "  0%|▌                                                                                                                                        | 2/500 [00:11<48:20,  5.83s/it]"
     ]
    },
    {
     "name": "stdout",
     "output_type": "stream",
     "text": [
      "1\t1\t1\t2.46326\tTrue\tTrue\t0:00:05.763143\n"
     ]
    },
    {
     "name": "stderr",
     "output_type": "stream",
     "text": [
      "  1%|▊                                                                                                                                        | 3/500 [00:17<49:01,  5.92s/it]"
     ]
    },
    {
     "name": "stdout",
     "output_type": "stream",
     "text": [
      "2\t5\t3\t0.56508\tFalse\tFalse\t0:00:06.028804\n"
     ]
    },
    {
     "name": "stderr",
     "output_type": "stream",
     "text": [
      "  1%|█                                                                                                                                        | 4/500 [00:23<49:22,  5.97s/it]"
     ]
    },
    {
     "name": "stdout",
     "output_type": "stream",
     "text": [
      "3\t8\t8\t2.46326\tTrue\tTrue\t0:00:06.054119\n"
     ]
    },
    {
     "name": "stderr",
     "output_type": "stream",
     "text": [
      "  1%|█▎                                                                                                                                       | 5/500 [00:29<48:54,  5.93s/it]"
     ]
    },
    {
     "name": "stdout",
     "output_type": "stream",
     "text": [
      "4\t9\t9\t2.46326\tTrue\tTrue\t0:00:05.848066\n"
     ]
    },
    {
     "name": "stderr",
     "output_type": "stream",
     "text": [
      "  1%|█▋                                                                                                                                       | 6/500 [00:35<49:25,  6.00s/it]"
     ]
    },
    {
     "name": "stdout",
     "output_type": "stream",
     "text": [
      "5\t3\t3\t2.46326\tTrue\tTrue\t0:00:06.143520\n"
     ]
    },
    {
     "name": "stderr",
     "output_type": "stream",
     "text": [
      "  1%|█▉                                                                                                                                       | 7/500 [00:41<49:03,  5.97s/it]"
     ]
    },
    {
     "name": "stdout",
     "output_type": "stream",
     "text": [
      "6\t8\t8\t2.46326\tTrue\tTrue\t0:00:05.898736\n"
     ]
    },
    {
     "name": "stderr",
     "output_type": "stream",
     "text": [
      "  2%|██▏                                                                                                                                      | 8/500 [00:47<48:13,  5.88s/it]"
     ]
    },
    {
     "name": "stdout",
     "output_type": "stream",
     "text": [
      "7\t9\t9\t2.46326\tTrue\tTrue\t0:00:05.688167\n"
     ]
    },
    {
     "name": "stderr",
     "output_type": "stream",
     "text": [
      "  2%|██▍                                                                                                                                      | 9/500 [00:53<48:10,  5.89s/it]"
     ]
    },
    {
     "name": "stdout",
     "output_type": "stream",
     "text": [
      "8\t0\t0\t2.46326\tTrue\tTrue\t0:00:05.896820\n"
     ]
    },
    {
     "name": "stderr",
     "output_type": "stream",
     "text": [
      "  2%|██▋                                                                                                                                     | 10/500 [00:59<48:07,  5.89s/it]"
     ]
    },
    {
     "name": "stdout",
     "output_type": "stream",
     "text": [
      "9\t1\t9\t2.46326\tFalse\tFalse\t0:00:05.906968\n"
     ]
    },
    {
     "name": "stderr",
     "output_type": "stream",
     "text": [
      "  2%|██▉                                                                                                                                     | 11/500 [01:05<48:18,  5.93s/it]"
     ]
    },
    {
     "name": "stdout",
     "output_type": "stream",
     "text": [
      "10\t5\t5\t2.46326\tTrue\tTrue\t0:00:06.000476\n"
     ]
    },
    {
     "name": "stderr",
     "output_type": "stream",
     "text": [
      "  2%|███▎                                                                                                                                    | 12/500 [01:11<48:17,  5.94s/it]"
     ]
    },
    {
     "name": "stdout",
     "output_type": "stream",
     "text": [
      "11\t1\t1\t2.46326\tTrue\tTrue\t0:00:05.961571\n"
     ]
    },
    {
     "name": "stderr",
     "output_type": "stream",
     "text": [
      "  3%|███▌                                                                                                                                    | 13/500 [01:17<48:28,  5.97s/it]"
     ]
    },
    {
     "name": "stdout",
     "output_type": "stream",
     "text": [
      "12\t3\t3\t1.00216\tFalse\tTrue\t0:00:06.048595\n"
     ]
    },
    {
     "name": "stderr",
     "output_type": "stream",
     "text": [
      "  3%|███▊                                                                                                                                    | 14/500 [01:23<48:20,  5.97s/it]"
     ]
    },
    {
     "name": "stdout",
     "output_type": "stream",
     "text": [
      "13\t5\t5\t2.46326\tTrue\tTrue\t0:00:05.957704\n"
     ]
    },
    {
     "name": "stderr",
     "output_type": "stream",
     "text": [
      "  3%|████                                                                                                                                    | 15/500 [01:29<48:29,  6.00s/it]"
     ]
    },
    {
     "name": "stdout",
     "output_type": "stream",
     "text": [
      "14\t9\t9\t2.46326\tTrue\tTrue\t0:00:06.065271\n"
     ]
    },
    {
     "name": "stderr",
     "output_type": "stream",
     "text": [
      "  3%|████▎                                                                                                                                   | 16/500 [01:35<48:15,  5.98s/it]"
     ]
    },
    {
     "name": "stdout",
     "output_type": "stream",
     "text": [
      "15\t2\t2\t2.46326\tTrue\tTrue\t0:00:05.939473\n"
     ]
    },
    {
     "name": "stderr",
     "output_type": "stream",
     "text": [
      "  3%|████▌                                                                                                                                   | 17/500 [01:41<48:04,  5.97s/it]"
     ]
    },
    {
     "name": "stdout",
     "output_type": "stream",
     "text": [
      "16\t8\t8\t2.46326\tTrue\tTrue\t0:00:05.950161\n"
     ]
    },
    {
     "name": "stderr",
     "output_type": "stream",
     "text": [
      "  4%|████▉                                                                                                                                   | 18/500 [01:47<47:59,  5.97s/it]"
     ]
    },
    {
     "name": "stdout",
     "output_type": "stream",
     "text": [
      "17\t8\t2\t2.46326\tFalse\tFalse\t0:00:05.973223\n"
     ]
    },
    {
     "name": "stderr",
     "output_type": "stream",
     "text": [
      "  4%|█████▏                                                                                                                                  | 19/500 [01:53<47:48,  5.96s/it]"
     ]
    },
    {
     "name": "stdout",
     "output_type": "stream",
     "text": [
      "18\t3\t3\t2.46326\tTrue\tTrue\t0:00:05.938725\n"
     ]
    },
    {
     "name": "stderr",
     "output_type": "stream",
     "text": [
      "  4%|█████▍                                                                                                                                  | 20/500 [01:58<47:36,  5.95s/it]"
     ]
    },
    {
     "name": "stdout",
     "output_type": "stream",
     "text": [
      "19\t8\t8\t2.46326\tTrue\tTrue\t0:00:05.918172\n"
     ]
    },
    {
     "name": "stderr",
     "output_type": "stream",
     "text": [
      "  4%|█████▋                                                                                                                                  | 21/500 [02:04<47:38,  5.97s/it]"
     ]
    },
    {
     "name": "stdout",
     "output_type": "stream",
     "text": [
      "20\t4\t4\t2.46326\tTrue\tTrue\t0:00:06.006441\n"
     ]
    },
    {
     "name": "stderr",
     "output_type": "stream",
     "text": [
      "  4%|█████▉                                                                                                                                  | 22/500 [02:10<47:27,  5.96s/it]"
     ]
    },
    {
     "name": "stdout",
     "output_type": "stream",
     "text": [
      "21\t0\t0\t2.46326\tTrue\tTrue\t0:00:05.931066\n"
     ]
    },
    {
     "name": "stderr",
     "output_type": "stream",
     "text": [
      "  5%|██████▎                                                                                                                                 | 23/500 [02:16<47:23,  5.96s/it]"
     ]
    },
    {
     "name": "stdout",
     "output_type": "stream",
     "text": [
      "22\t2\t2\t2.46326\tTrue\tTrue\t0:00:05.965880\n"
     ]
    },
    {
     "name": "stderr",
     "output_type": "stream",
     "text": [
      "  5%|██████▌                                                                                                                                 | 24/500 [02:22<47:11,  5.95s/it]"
     ]
    },
    {
     "name": "stdout",
     "output_type": "stream",
     "text": [
      "23\t7\t7\t2.46326\tTrue\tTrue\t0:00:05.914103\n"
     ]
    },
    {
     "name": "stderr",
     "output_type": "stream",
     "text": [
      "  5%|██████▊                                                                                                                                 | 25/500 [02:28<46:45,  5.91s/it]"
     ]
    },
    {
     "name": "stdout",
     "output_type": "stream",
     "text": [
      "24\t5\t5\t2.46326\tTrue\tTrue\t0:00:05.810240\n"
     ]
    },
    {
     "name": "stderr",
     "output_type": "stream",
     "text": [
      "  5%|███████                                                                                                                                 | 26/500 [02:34<46:51,  5.93s/it]"
     ]
    },
    {
     "name": "stdout",
     "output_type": "stream",
     "text": [
      "25\t6\t6\t2.46326\tTrue\tTrue\t0:00:05.988245\n"
     ]
    },
    {
     "name": "stderr",
     "output_type": "stream",
     "text": [
      "  5%|███████▎                                                                                                                                | 27/500 [02:40<46:23,  5.88s/it]"
     ]
    },
    {
     "name": "stdout",
     "output_type": "stream",
     "text": [
      "26\t2\t2\t2.46326\tTrue\tTrue\t0:00:05.771221\n"
     ]
    },
    {
     "name": "stderr",
     "output_type": "stream",
     "text": [
      "  6%|███████▌                                                                                                                                | 28/500 [02:46<46:36,  5.92s/it]"
     ]
    },
    {
     "name": "stdout",
     "output_type": "stream",
     "text": [
      "27\t4\t4\t2.46326\tTrue\tTrue\t0:00:06.013303\n"
     ]
    },
    {
     "name": "stderr",
     "output_type": "stream",
     "text": [
      "  6%|███████▉                                                                                                                                | 29/500 [02:52<47:05,  6.00s/it]"
     ]
    },
    {
     "name": "stdout",
     "output_type": "stream",
     "text": [
      "28\t5\t3\t2.46326\tFalse\tFalse\t0:00:06.169419\n"
     ]
    },
    {
     "name": "stderr",
     "output_type": "stream",
     "text": [
      "  6%|████████▏                                                                                                                               | 30/500 [02:58<46:58,  6.00s/it]"
     ]
    },
    {
     "name": "stdout",
     "output_type": "stream",
     "text": [
      "29\t5\t5\t2.46326\tTrue\tTrue\t0:00:05.993722\n"
     ]
    },
    {
     "name": "stderr",
     "output_type": "stream",
     "text": [
      "  6%|████████▍                                                                                                                               | 31/500 [03:04<46:36,  5.96s/it]"
     ]
    },
    {
     "name": "stdout",
     "output_type": "stream",
     "text": [
      "30\t5\t5\t2.46326\tTrue\tTrue\t0:00:05.881764\n"
     ]
    },
    {
     "name": "stderr",
     "output_type": "stream",
     "text": [
      "  6%|████████▋                                                                                                                               | 32/500 [03:10<46:12,  5.92s/it]"
     ]
    },
    {
     "name": "stdout",
     "output_type": "stream",
     "text": [
      "31\t0\t0\t2.46326\tTrue\tTrue\t0:00:05.832098\n"
     ]
    },
    {
     "name": "stderr",
     "output_type": "stream",
     "text": [
      "  7%|████████▉                                                                                                                               | 33/500 [03:16<46:13,  5.94s/it]"
     ]
    },
    {
     "name": "stdout",
     "output_type": "stream",
     "text": [
      "32\t4\t4\t2.46326\tTrue\tTrue\t0:00:05.971386\n"
     ]
    },
    {
     "name": "stderr",
     "output_type": "stream",
     "text": [
      "  7%|█████████▏                                                                                                                              | 34/500 [03:22<46:28,  5.98s/it]"
     ]
    },
    {
     "name": "stdout",
     "output_type": "stream",
     "text": [
      "33\t1\t1\t2.46326\tTrue\tTrue\t0:00:06.082684\n"
     ]
    },
    {
     "name": "stderr",
     "output_type": "stream",
     "text": [
      "  7%|█████████▌                                                                                                                              | 35/500 [03:28<46:30,  6.00s/it]"
     ]
    },
    {
     "name": "stdout",
     "output_type": "stream",
     "text": [
      "34\t7\t7\t2.46326\tTrue\tTrue\t0:00:06.043250\n"
     ]
    },
    {
     "name": "stderr",
     "output_type": "stream",
     "text": [
      "  7%|█████████▊                                                                                                                              | 36/500 [03:34<46:26,  6.01s/it]"
     ]
    },
    {
     "name": "stdout",
     "output_type": "stream",
     "text": [
      "35\t7\t7\t2.46326\tTrue\tTrue\t0:00:06.013051\n"
     ]
    },
    {
     "name": "stderr",
     "output_type": "stream",
     "text": [
      "  7%|██████████                                                                                                                              | 37/500 [03:40<46:05,  5.97s/it]"
     ]
    },
    {
     "name": "stdout",
     "output_type": "stream",
     "text": [
      "36\t2\t2\t2.46326\tTrue\tTrue\t0:00:05.889738\n"
     ]
    },
    {
     "name": "stderr",
     "output_type": "stream",
     "text": [
      "  8%|██████████▎                                                                                                                             | 38/500 [03:46<45:38,  5.93s/it]"
     ]
    },
    {
     "name": "stdout",
     "output_type": "stream",
     "text": [
      "37\t3\t3\t2.46326\tTrue\tTrue\t0:00:05.820559\n"
     ]
    },
    {
     "name": "stderr",
     "output_type": "stream",
     "text": [
      "  8%|██████████▌                                                                                                                             | 39/500 [03:52<45:33,  5.93s/it]"
     ]
    },
    {
     "name": "stdout",
     "output_type": "stream",
     "text": [
      "38\t9\t9\t1.61599\tTrue\tTrue\t0:00:05.932904\n"
     ]
    },
    {
     "name": "stderr",
     "output_type": "stream",
     "text": [
      "  8%|██████████▉                                                                                                                             | 40/500 [03:57<45:34,  5.94s/it]"
     ]
    },
    {
     "name": "stdout",
     "output_type": "stream",
     "text": [
      "39\t7\t7\t2.46326\tTrue\tTrue\t0:00:05.977859\n"
     ]
    },
    {
     "name": "stderr",
     "output_type": "stream",
     "text": [
      "  8%|███████████▏                                                                                                                            | 41/500 [04:04<45:43,  5.98s/it]"
     ]
    },
    {
     "name": "stdout",
     "output_type": "stream",
     "text": [
      "40\t2\t2\t2.46326\tTrue\tTrue\t0:00:06.050128\n"
     ]
    },
    {
     "name": "stderr",
     "output_type": "stream",
     "text": [
      "  8%|███████████▍                                                                                                                            | 42/500 [04:10<45:51,  6.01s/it]"
     ]
    },
    {
     "name": "stdout",
     "output_type": "stream",
     "text": [
      "41\t2\t8\t2.46326\tFalse\tFalse\t0:00:06.077727\n"
     ]
    },
    {
     "name": "stderr",
     "output_type": "stream",
     "text": [
      "  9%|███████████▋                                                                                                                            | 43/500 [04:16<45:43,  6.00s/it]"
     ]
    },
    {
     "name": "stdout",
     "output_type": "stream",
     "text": [
      "42\t3\t3\t2.46326\tTrue\tTrue\t0:00:05.987688\n"
     ]
    },
    {
     "name": "stderr",
     "output_type": "stream",
     "text": [
      "  9%|███████████▉                                                                                                                            | 44/500 [04:22<45:36,  6.00s/it]"
     ]
    },
    {
     "name": "stdout",
     "output_type": "stream",
     "text": [
      "43\t6\t6\t0.35578\tFalse\tTrue\t0:00:05.992431\n"
     ]
    },
    {
     "name": "stderr",
     "output_type": "stream",
     "text": [
      "  9%|████████████▏                                                                                                                           | 45/500 [04:28<45:34,  6.01s/it]"
     ]
    },
    {
     "name": "stdout",
     "output_type": "stream",
     "text": [
      "44\t6\t6\t2.46326\tTrue\tTrue\t0:00:06.033260\n"
     ]
    },
    {
     "name": "stderr",
     "output_type": "stream",
     "text": [
      "  9%|████████████▌                                                                                                                           | 46/500 [04:34<45:17,  5.99s/it]"
     ]
    },
    {
     "name": "stdout",
     "output_type": "stream",
     "text": [
      "45\t5\t5\t2.46326\tTrue\tTrue\t0:00:05.922996\n"
     ]
    },
    {
     "name": "stderr",
     "output_type": "stream",
     "text": [
      "  9%|████████████▊                                                                                                                           | 47/500 [04:40<45:08,  5.98s/it]"
     ]
    },
    {
     "name": "stdout",
     "output_type": "stream",
     "text": [
      "46\t5\t5\t2.46326\tTrue\tTrue\t0:00:05.964696\n"
     ]
    },
    {
     "name": "stderr",
     "output_type": "stream",
     "text": [
      " 10%|█████████████                                                                                                                           | 48/500 [04:45<44:41,  5.93s/it]"
     ]
    },
    {
     "name": "stdout",
     "output_type": "stream",
     "text": [
      "47\t6\t6\t2.46326\tTrue\tTrue\t0:00:05.820042\n"
     ]
    },
    {
     "name": "stderr",
     "output_type": "stream",
     "text": [
      " 10%|█████████████▎                                                                                                                          | 49/500 [04:51<44:53,  5.97s/it]"
     ]
    },
    {
     "name": "stdout",
     "output_type": "stream",
     "text": [
      "48\t0\t0\t2.46326\tTrue\tTrue\t0:00:06.064939\n"
     ]
    },
    {
     "name": "stderr",
     "output_type": "stream",
     "text": [
      " 10%|█████████████▌                                                                                                                          | 50/500 [04:58<45:17,  6.04s/it]"
     ]
    },
    {
     "name": "stdout",
     "output_type": "stream",
     "text": [
      "49\t6\t6\t2.46326\tTrue\tTrue\t0:00:06.187940\n"
     ]
    },
    {
     "name": "stderr",
     "output_type": "stream",
     "text": [
      " 10%|█████████████▊                                                                                                                          | 51/500 [05:04<44:58,  6.01s/it]"
     ]
    },
    {
     "name": "stdout",
     "output_type": "stream",
     "text": [
      "50\t1\t1\t2.46326\tTrue\tTrue\t0:00:05.943526\n"
     ]
    },
    {
     "name": "stderr",
     "output_type": "stream",
     "text": [
      " 10%|██████████████▏                                                                                                                         | 52/500 [05:10<44:45,  6.00s/it]"
     ]
    },
    {
     "name": "stdout",
     "output_type": "stream",
     "text": [
      "51\t2\t-1\t0.00000\tFalse\tFalse\t0:00:05.957664\n"
     ]
    },
    {
     "name": "stderr",
     "output_type": "stream",
     "text": [
      " 11%|██████████████▍                                                                                                                         | 53/500 [05:16<44:58,  6.04s/it]"
     ]
    },
    {
     "name": "stdout",
     "output_type": "stream",
     "text": [
      "52\t7\t7\t2.46326\tTrue\tTrue\t0:00:06.134735\n"
     ]
    },
    {
     "name": "stderr",
     "output_type": "stream",
     "text": [
      " 11%|██████████████▋                                                                                                                         | 54/500 [05:22<44:52,  6.04s/it]"
     ]
    },
    {
     "name": "stdout",
     "output_type": "stream",
     "text": [
      "53\t9\t9\t2.46326\tTrue\tTrue\t0:00:06.034510\n"
     ]
    },
    {
     "name": "stderr",
     "output_type": "stream",
     "text": [
      " 11%|██████████████▉                                                                                                                         | 55/500 [05:28<44:39,  6.02s/it]"
     ]
    },
    {
     "name": "stdout",
     "output_type": "stream",
     "text": [
      "54\t2\t4\t2.46326\tFalse\tFalse\t0:00:05.980393\n"
     ]
    },
    {
     "name": "stderr",
     "output_type": "stream",
     "text": [
      " 11%|███████████████▏                                                                                                                        | 56/500 [05:34<44:19,  5.99s/it]"
     ]
    },
    {
     "name": "stdout",
     "output_type": "stream",
     "text": [
      "55\t2\t2\t2.46326\tTrue\tTrue\t0:00:05.916281\n"
     ]
    },
    {
     "name": "stderr",
     "output_type": "stream",
     "text": [
      " 11%|███████████████▌                                                                                                                        | 57/500 [05:39<43:55,  5.95s/it]"
     ]
    },
    {
     "name": "stdout",
     "output_type": "stream",
     "text": [
      "56\t1\t1\t2.46326\tTrue\tTrue\t0:00:05.852781\n"
     ]
    },
    {
     "name": "stderr",
     "output_type": "stream",
     "text": [
      " 12%|███████████████▊                                                                                                                        | 58/500 [05:45<43:56,  5.97s/it]"
     ]
    },
    {
     "name": "stdout",
     "output_type": "stream",
     "text": [
      "57\t8\t8\t2.46326\tTrue\tTrue\t0:00:05.999397\n"
     ]
    },
    {
     "name": "stderr",
     "output_type": "stream",
     "text": [
      " 12%|████████████████                                                                                                                        | 59/500 [05:52<44:08,  6.01s/it]"
     ]
    },
    {
     "name": "stdout",
     "output_type": "stream",
     "text": [
      "58\t4\t4\t2.46326\tTrue\tTrue\t0:00:06.098841\n"
     ]
    },
    {
     "name": "stderr",
     "output_type": "stream",
     "text": [
      " 12%|████████████████▎                                                                                                                       | 60/500 [05:57<43:43,  5.96s/it]"
     ]
    },
    {
     "name": "stdout",
     "output_type": "stream",
     "text": [
      "59\t2\t4\t2.46326\tFalse\tFalse\t0:00:05.858058\n"
     ]
    },
    {
     "name": "stderr",
     "output_type": "stream",
     "text": [
      " 12%|████████████████▌                                                                                                                       | 61/500 [06:03<43:30,  5.95s/it]"
     ]
    },
    {
     "name": "stdout",
     "output_type": "stream",
     "text": [
      "60\t0\t0\t2.46326\tTrue\tTrue\t0:00:05.904613\n"
     ]
    },
    {
     "name": "stderr",
     "output_type": "stream",
     "text": [
      " 12%|████████████████▊                                                                                                                       | 62/500 [06:09<43:19,  5.94s/it]"
     ]
    },
    {
     "name": "stdout",
     "output_type": "stream",
     "text": [
      "61\t7\t7\t2.46326\tTrue\tTrue\t0:00:05.909566\n"
     ]
    },
    {
     "name": "stderr",
     "output_type": "stream",
     "text": [
      " 13%|█████████████████▏                                                                                                                      | 63/500 [06:16<44:25,  6.10s/it]"
     ]
    },
    {
     "name": "stdout",
     "output_type": "stream",
     "text": [
      "62\t0\t8\t2.46326\tFalse\tFalse\t0:00:06.479984\n"
     ]
    },
    {
     "name": "stderr",
     "output_type": "stream",
     "text": [
      " 13%|█████████████████▍                                                                                                                      | 64/500 [06:22<44:18,  6.10s/it]"
     ]
    },
    {
     "name": "stdout",
     "output_type": "stream",
     "text": [
      "63\t6\t6\t2.46326\tTrue\tTrue\t0:00:06.090042\n"
     ]
    },
    {
     "name": "stderr",
     "output_type": "stream",
     "text": [
      " 13%|█████████████████▋                                                                                                                      | 65/500 [06:28<44:03,  6.08s/it]"
     ]
    },
    {
     "name": "stdout",
     "output_type": "stream",
     "text": [
      "64\t4\t4\t2.46326\tTrue\tTrue\t0:00:06.024429\n"
     ]
    },
    {
     "name": "stderr",
     "output_type": "stream",
     "text": [
      " 13%|█████████████████▉                                                                                                                      | 66/500 [06:34<43:52,  6.06s/it]"
     ]
    },
    {
     "name": "stdout",
     "output_type": "stream",
     "text": [
      "65\t5\t5\t2.46326\tTrue\tTrue\t0:00:06.034797\n"
     ]
    },
    {
     "name": "stderr",
     "output_type": "stream",
     "text": [
      " 13%|██████████████████▏                                                                                                                     | 67/500 [06:40<43:32,  6.03s/it]"
     ]
    },
    {
     "name": "stdout",
     "output_type": "stream",
     "text": [
      "66\t7\t7\t2.46326\tTrue\tTrue\t0:00:05.957494\n"
     ]
    },
    {
     "name": "stderr",
     "output_type": "stream",
     "text": [
      " 14%|██████████████████▍                                                                                                                     | 68/500 [06:46<43:00,  5.97s/it]"
     ]
    },
    {
     "name": "stdout",
     "output_type": "stream",
     "text": [
      "67\t3\t3\t2.46326\tTrue\tTrue\t0:00:05.830709\n"
     ]
    },
    {
     "name": "stderr",
     "output_type": "stream",
     "text": [
      " 14%|██████████████████▊                                                                                                                     | 69/500 [06:52<43:22,  6.04s/it]"
     ]
    },
    {
     "name": "stdout",
     "output_type": "stream",
     "text": [
      "68\t8\t8\t2.46326\tTrue\tTrue\t0:00:06.188815\n"
     ]
    },
    {
     "name": "stderr",
     "output_type": "stream",
     "text": [
      " 14%|███████████████████                                                                                                                     | 70/500 [06:58<42:57,  5.99s/it]"
     ]
    },
    {
     "name": "stdout",
     "output_type": "stream",
     "text": [
      "69\t9\t9\t2.46326\tTrue\tTrue\t0:00:05.883951\n"
     ]
    },
    {
     "name": "stderr",
     "output_type": "stream",
     "text": [
      " 14%|███████████████████▎                                                                                                                    | 71/500 [07:04<42:53,  6.00s/it]"
     ]
    },
    {
     "name": "stdout",
     "output_type": "stream",
     "text": [
      "70\t1\t1\t2.46326\tTrue\tTrue\t0:00:06.010399\n"
     ]
    },
    {
     "name": "stderr",
     "output_type": "stream",
     "text": [
      " 14%|███████████████████▌                                                                                                                    | 72/500 [07:10<42:56,  6.02s/it]"
     ]
    },
    {
     "name": "stdout",
     "output_type": "stream",
     "text": [
      "71\t2\t4\t0.35578\tFalse\tFalse\t0:00:06.064617\n"
     ]
    },
    {
     "name": "stderr",
     "output_type": "stream",
     "text": [
      " 15%|███████████████████▊                                                                                                                    | 73/500 [07:16<42:35,  5.99s/it]"
     ]
    },
    {
     "name": "stdout",
     "output_type": "stream",
     "text": [
      "72\t3\t3\t2.46326\tTrue\tTrue\t0:00:05.904347\n"
     ]
    },
    {
     "name": "stderr",
     "output_type": "stream",
     "text": [
      " 15%|████████████████████▏                                                                                                                   | 74/500 [07:22<42:04,  5.93s/it]"
     ]
    },
    {
     "name": "stdout",
     "output_type": "stream",
     "text": [
      "73\t6\t6\t2.46326\tTrue\tTrue\t0:00:05.783966\n"
     ]
    },
    {
     "name": "stderr",
     "output_type": "stream",
     "text": [
      " 15%|████████████████████▍                                                                                                                   | 75/500 [07:27<41:57,  5.92s/it]"
     ]
    },
    {
     "name": "stdout",
     "output_type": "stream",
     "text": [
      "74\t8\t8\t2.46326\tTrue\tTrue\t0:00:05.918952\n"
     ]
    },
    {
     "name": "stderr",
     "output_type": "stream",
     "text": [
      " 15%|████████████████████▋                                                                                                                   | 76/500 [07:33<41:50,  5.92s/it]"
     ]
    },
    {
     "name": "stdout",
     "output_type": "stream",
     "text": [
      "75\t9\t9\t2.46326\tTrue\tTrue\t0:00:05.909478\n"
     ]
    },
    {
     "name": "stderr",
     "output_type": "stream",
     "text": [
      " 15%|████████████████████▉                                                                                                                   | 77/500 [07:39<41:46,  5.92s/it]"
     ]
    },
    {
     "name": "stdout",
     "output_type": "stream",
     "text": [
      "76\t4\t4\t2.46326\tTrue\tTrue\t0:00:05.930931\n"
     ]
    },
    {
     "name": "stderr",
     "output_type": "stream",
     "text": [
      " 16%|█████████████████████▏                                                                                                                  | 78/500 [07:45<41:58,  5.97s/it]"
     ]
    },
    {
     "name": "stdout",
     "output_type": "stream",
     "text": [
      "77\t3\t-1\t0.00000\tFalse\tFalse\t0:00:06.062928\n"
     ]
    },
    {
     "name": "stderr",
     "output_type": "stream",
     "text": [
      " 16%|█████████████████████▍                                                                                                                  | 79/500 [07:51<41:31,  5.92s/it]"
     ]
    },
    {
     "name": "stdout",
     "output_type": "stream",
     "text": [
      "78\t9\t9\t2.46326\tTrue\tTrue\t0:00:05.798981\n"
     ]
    },
    {
     "name": "stderr",
     "output_type": "stream",
     "text": [
      " 16%|█████████████████████▊                                                                                                                  | 80/500 [07:57<41:05,  5.87s/it]"
     ]
    },
    {
     "name": "stdout",
     "output_type": "stream",
     "text": [
      "79\t9\t9\t2.46326\tTrue\tTrue\t0:00:05.761851\n"
     ]
    },
    {
     "name": "stderr",
     "output_type": "stream",
     "text": [
      " 16%|██████████████████████                                                                                                                  | 81/500 [08:03<41:09,  5.89s/it]"
     ]
    },
    {
     "name": "stdout",
     "output_type": "stream",
     "text": [
      "80\t8\t8\t2.46326\tTrue\tTrue\t0:00:05.941171\n"
     ]
    },
    {
     "name": "stderr",
     "output_type": "stream",
     "text": [
      " 16%|██████████████████████▎                                                                                                                 | 82/500 [08:09<41:15,  5.92s/it]"
     ]
    },
    {
     "name": "stdout",
     "output_type": "stream",
     "text": [
      "81\t6\t6\t2.46326\tTrue\tTrue\t0:00:05.991433\n"
     ]
    },
    {
     "name": "stderr",
     "output_type": "stream",
     "text": [
      " 17%|██████████████████████▌                                                                                                                 | 83/500 [08:15<41:31,  5.98s/it]"
     ]
    },
    {
     "name": "stdout",
     "output_type": "stream",
     "text": [
      "82\t6\t6\t2.46326\tTrue\tTrue\t0:00:06.094405\n"
     ]
    },
    {
     "name": "stderr",
     "output_type": "stream",
     "text": [
      " 17%|██████████████████████▊                                                                                                                 | 84/500 [08:21<40:49,  5.89s/it]"
     ]
    },
    {
     "name": "stdout",
     "output_type": "stream",
     "text": [
      "83\t1\t1\t2.46326\tTrue\tTrue\t0:00:05.685850\n"
     ]
    },
    {
     "name": "stderr",
     "output_type": "stream",
     "text": [
      " 17%|███████████████████████                                                                                                                 | 85/500 [08:27<40:41,  5.88s/it]"
     ]
    },
    {
     "name": "stdout",
     "output_type": "stream",
     "text": [
      "84\t1\t1\t2.46326\tTrue\tTrue\t0:00:05.869915\n"
     ]
    },
    {
     "name": "stderr",
     "output_type": "stream",
     "text": [
      " 17%|███████████████████████▍                                                                                                                | 86/500 [08:33<40:50,  5.92s/it]"
     ]
    },
    {
     "name": "stdout",
     "output_type": "stream",
     "text": [
      "85\t9\t9\t2.46326\tTrue\tTrue\t0:00:05.998370\n"
     ]
    },
    {
     "name": "stderr",
     "output_type": "stream",
     "text": [
      " 17%|███████████████████████▋                                                                                                                | 87/500 [08:38<40:32,  5.89s/it]"
     ]
    },
    {
     "name": "stdout",
     "output_type": "stream",
     "text": [
      "86\t9\t9\t2.46326\tTrue\tTrue\t0:00:05.822621\n"
     ]
    },
    {
     "name": "stderr",
     "output_type": "stream",
     "text": [
      " 18%|███████████████████████▉                                                                                                                | 88/500 [08:45<41:02,  5.98s/it]"
     ]
    },
    {
     "name": "stdout",
     "output_type": "stream",
     "text": [
      "87\t5\t5\t2.46326\tTrue\tTrue\t0:00:06.177172\n"
     ]
    },
    {
     "name": "stderr",
     "output_type": "stream",
     "text": [
      " 18%|████████████████████████▏                                                                                                               | 89/500 [08:50<40:53,  5.97s/it]"
     ]
    },
    {
     "name": "stdout",
     "output_type": "stream",
     "text": [
      "88\t1\t1\t2.46326\tTrue\tTrue\t0:00:05.945340\n"
     ]
    },
    {
     "name": "stderr",
     "output_type": "stream",
     "text": [
      " 18%|████████████████████████▍                                                                                                               | 90/500 [08:56<40:36,  5.94s/it]"
     ]
    },
    {
     "name": "stdout",
     "output_type": "stream",
     "text": [
      "89\t9\t9\t2.46326\tTrue\tTrue\t0:00:05.881038\n"
     ]
    },
    {
     "name": "stderr",
     "output_type": "stream",
     "text": [
      " 18%|████████████████████████▊                                                                                                               | 91/500 [09:02<40:32,  5.95s/it]"
     ]
    },
    {
     "name": "stdout",
     "output_type": "stream",
     "text": [
      "90\t5\t5\t2.46326\tTrue\tTrue\t0:00:05.956490\n"
     ]
    },
    {
     "name": "stderr",
     "output_type": "stream",
     "text": [
      " 18%|█████████████████████████                                                                                                               | 92/500 [09:08<40:13,  5.91s/it]"
     ]
    },
    {
     "name": "stdout",
     "output_type": "stream",
     "text": [
      "91\t9\t9\t2.46326\tTrue\tTrue\t0:00:05.835181\n"
     ]
    },
    {
     "name": "stderr",
     "output_type": "stream",
     "text": [
      " 19%|█████████████████████████▎                                                                                                              | 93/500 [09:14<40:14,  5.93s/it]"
     ]
    },
    {
     "name": "stdout",
     "output_type": "stream",
     "text": [
      "92\t9\t9\t2.46326\tTrue\tTrue\t0:00:05.973852\n"
     ]
    },
    {
     "name": "stderr",
     "output_type": "stream",
     "text": [
      " 19%|█████████████████████████▌                                                                                                              | 94/500 [09:20<39:55,  5.90s/it]"
     ]
    },
    {
     "name": "stdout",
     "output_type": "stream",
     "text": [
      "93\t3\t5\t2.46326\tFalse\tFalse\t0:00:05.824861\n"
     ]
    },
    {
     "name": "stderr",
     "output_type": "stream",
     "text": [
      " 19%|█████████████████████████▊                                                                                                              | 95/500 [09:26<39:50,  5.90s/it]"
     ]
    },
    {
     "name": "stdout",
     "output_type": "stream",
     "text": [
      "94\t9\t0\t2.46326\tFalse\tFalse\t0:00:05.904504\n"
     ]
    },
    {
     "name": "stderr",
     "output_type": "stream",
     "text": [
      " 19%|██████████████████████████                                                                                                              | 96/500 [09:32<39:51,  5.92s/it]"
     ]
    },
    {
     "name": "stdout",
     "output_type": "stream",
     "text": [
      "95\t3\t4\t2.46326\tFalse\tFalse\t0:00:05.956907\n"
     ]
    },
    {
     "name": "stderr",
     "output_type": "stream",
     "text": [
      " 19%|██████████████████████████▍                                                                                                             | 97/500 [09:38<39:48,  5.93s/it]"
     ]
    },
    {
     "name": "stdout",
     "output_type": "stream",
     "text": [
      "96\t4\t4\t2.46326\tTrue\tTrue\t0:00:05.938834\n"
     ]
    },
    {
     "name": "stderr",
     "output_type": "stream",
     "text": [
      " 20%|██████████████████████████▋                                                                                                             | 98/500 [09:44<39:52,  5.95s/it]"
     ]
    },
    {
     "name": "stdout",
     "output_type": "stream",
     "text": [
      "97\t3\t3\t2.46326\tTrue\tTrue\t0:00:06.002569\n"
     ]
    },
    {
     "name": "stderr",
     "output_type": "stream",
     "text": [
      " 20%|██████████████████████████▉                                                                                                             | 99/500 [09:50<39:51,  5.96s/it]"
     ]
    },
    {
     "name": "stdout",
     "output_type": "stream",
     "text": [
      "98\t5\t5\t2.46326\tTrue\tTrue\t0:00:05.991468\n"
     ]
    },
    {
     "name": "stderr",
     "output_type": "stream",
     "text": [
      " 20%|███████████████████████████                                                                                                            | 100/500 [09:56<39:50,  5.98s/it]"
     ]
    },
    {
     "name": "stdout",
     "output_type": "stream",
     "text": [
      "99\t8\t0\t2.46326\tFalse\tFalse\t0:00:05.999833\n"
     ]
    },
    {
     "name": "stderr",
     "output_type": "stream",
     "text": [
      " 20%|███████████████████████████▎                                                                                                           | 101/500 [10:02<39:44,  5.98s/it]"
     ]
    },
    {
     "name": "stdout",
     "output_type": "stream",
     "text": [
      "100\t1\t1\t2.46326\tTrue\tTrue\t0:00:05.973777\n"
     ]
    },
    {
     "name": "stderr",
     "output_type": "stream",
     "text": [
      " 20%|███████████████████████████▌                                                                                                           | 102/500 [10:08<39:19,  5.93s/it]"
     ]
    },
    {
     "name": "stdout",
     "output_type": "stream",
     "text": [
      "101\t1\t1\t2.46326\tTrue\tTrue\t0:00:05.817464\n"
     ]
    },
    {
     "name": "stderr",
     "output_type": "stream",
     "text": [
      " 21%|███████████████████████████▊                                                                                                           | 103/500 [10:14<39:34,  5.98s/it]"
     ]
    },
    {
     "name": "stdout",
     "output_type": "stream",
     "text": [
      "102\t2\t2\t2.46326\tTrue\tTrue\t0:00:06.102662\n"
     ]
    },
    {
     "name": "stderr",
     "output_type": "stream",
     "text": [
      " 21%|████████████████████████████                                                                                                           | 104/500 [10:20<39:42,  6.02s/it]"
     ]
    },
    {
     "name": "stdout",
     "output_type": "stream",
     "text": [
      "103\t7\t7\t2.46326\tTrue\tTrue\t0:00:06.091772\n"
     ]
    },
    {
     "name": "stderr",
     "output_type": "stream",
     "text": [
      " 21%|████████████████████████████▎                                                                                                          | 105/500 [10:26<39:20,  5.98s/it]"
     ]
    },
    {
     "name": "stdout",
     "output_type": "stream",
     "text": [
      "104\t1\t1\t2.46326\tTrue\tTrue\t0:00:05.880377\n"
     ]
    },
    {
     "name": "stderr",
     "output_type": "stream",
     "text": [
      " 21%|████████████████████████████▌                                                                                                          | 106/500 [10:32<39:08,  5.96s/it]"
     ]
    },
    {
     "name": "stdout",
     "output_type": "stream",
     "text": [
      "105\t2\t0\t2.46326\tFalse\tFalse\t0:00:05.926056\n"
     ]
    },
    {
     "name": "stderr",
     "output_type": "stream",
     "text": [
      " 21%|████████████████████████████▉                                                                                                          | 107/500 [10:38<39:05,  5.97s/it]"
     ]
    },
    {
     "name": "stdout",
     "output_type": "stream",
     "text": [
      "106\t5\t5\t2.46326\tTrue\tTrue\t0:00:05.984429\n"
     ]
    },
    {
     "name": "stderr",
     "output_type": "stream",
     "text": [
      " 22%|█████████████████████████████▏                                                                                                         | 108/500 [10:44<39:15,  6.01s/it]"
     ]
    },
    {
     "name": "stdout",
     "output_type": "stream",
     "text": [
      "107\t0\t0\t2.46326\tTrue\tTrue\t0:00:06.100473\n"
     ]
    },
    {
     "name": "stderr",
     "output_type": "stream",
     "text": [
      " 22%|█████████████████████████████▍                                                                                                         | 109/500 [10:50<39:17,  6.03s/it]"
     ]
    },
    {
     "name": "stdout",
     "output_type": "stream",
     "text": [
      "108\t2\t3\t0.88228\tFalse\tFalse\t0:00:06.071558\n"
     ]
    },
    {
     "name": "stderr",
     "output_type": "stream",
     "text": [
      " 22%|█████████████████████████████▋                                                                                                         | 110/500 [10:56<38:58,  6.00s/it]"
     ]
    },
    {
     "name": "stdout",
     "output_type": "stream",
     "text": [
      "109\t7\t7\t2.46326\tTrue\tTrue\t0:00:05.917876\n"
     ]
    },
    {
     "name": "stderr",
     "output_type": "stream",
     "text": [
      " 22%|█████████████████████████████▉                                                                                                         | 111/500 [11:02<38:40,  5.97s/it]"
     ]
    },
    {
     "name": "stdout",
     "output_type": "stream",
     "text": [
      "110\t7\t7\t2.46326\tTrue\tTrue\t0:00:05.895254\n"
     ]
    },
    {
     "name": "stderr",
     "output_type": "stream",
     "text": [
      " 22%|██████████████████████████████▏                                                                                                        | 112/500 [11:08<38:37,  5.97s/it]"
     ]
    },
    {
     "name": "stdout",
     "output_type": "stream",
     "text": [
      "111\t8\t8\t2.46326\tTrue\tTrue\t0:00:05.987830\n"
     ]
    },
    {
     "name": "stderr",
     "output_type": "stream",
     "text": [
      " 23%|██████████████████████████████▌                                                                                                        | 113/500 [11:14<38:36,  5.99s/it]"
     ]
    },
    {
     "name": "stdout",
     "output_type": "stream",
     "text": [
      "112\t2\t0\t2.46326\tFalse\tFalse\t0:00:06.012036\n"
     ]
    },
    {
     "name": "stderr",
     "output_type": "stream",
     "text": [
      " 23%|██████████████████████████████▊                                                                                                        | 114/500 [11:20<38:34,  6.00s/it]"
     ]
    },
    {
     "name": "stdout",
     "output_type": "stream",
     "text": [
      "113\t3\t3\t2.46326\tTrue\tTrue\t0:00:06.016168\n"
     ]
    },
    {
     "name": "stderr",
     "output_type": "stream",
     "text": [
      " 23%|███████████████████████████████                                                                                                        | 115/500 [11:26<38:27,  5.99s/it]"
     ]
    },
    {
     "name": "stdout",
     "output_type": "stream",
     "text": [
      "114\t1\t1\t2.46326\tTrue\tTrue\t0:00:05.987479\n"
     ]
    },
    {
     "name": "stderr",
     "output_type": "stream",
     "text": [
      " 23%|███████████████████████████████▎                                                                                                       | 116/500 [11:32<38:23,  6.00s/it]"
     ]
    },
    {
     "name": "stdout",
     "output_type": "stream",
     "text": [
      "115\t4\t4\t2.46326\tTrue\tTrue\t0:00:06.005414\n"
     ]
    },
    {
     "name": "stderr",
     "output_type": "stream",
     "text": [
      " 23%|███████████████████████████████▌                                                                                                       | 117/500 [11:37<38:00,  5.95s/it]"
     ]
    },
    {
     "name": "stdout",
     "output_type": "stream",
     "text": [
      "116\t9\t9\t2.46326\tTrue\tTrue\t0:00:05.847606\n"
     ]
    },
    {
     "name": "stderr",
     "output_type": "stream",
     "text": [
      " 24%|███████████████████████████████▊                                                                                                       | 118/500 [11:43<37:52,  5.95s/it]"
     ]
    },
    {
     "name": "stdout",
     "output_type": "stream",
     "text": [
      "117\t2\t2\t2.46326\tTrue\tTrue\t0:00:05.936327\n"
     ]
    },
    {
     "name": "stderr",
     "output_type": "stream",
     "text": [
      " 24%|████████████████████████████████▏                                                                                                      | 119/500 [11:49<37:50,  5.96s/it]"
     ]
    },
    {
     "name": "stdout",
     "output_type": "stream",
     "text": [
      "118\t0\t0\t2.46326\tTrue\tTrue\t0:00:05.980859\n"
     ]
    },
    {
     "name": "stderr",
     "output_type": "stream",
     "text": [
      " 24%|████████████████████████████████▍                                                                                                      | 120/500 [11:55<37:45,  5.96s/it]"
     ]
    },
    {
     "name": "stdout",
     "output_type": "stream",
     "text": [
      "119\t3\t2\t2.46326\tFalse\tFalse\t0:00:05.961991\n"
     ]
    },
    {
     "name": "stderr",
     "output_type": "stream",
     "text": [
      " 24%|████████████████████████████████▋                                                                                                      | 121/500 [12:01<37:56,  6.01s/it]"
     ]
    },
    {
     "name": "stdout",
     "output_type": "stream",
     "text": [
      "120\t2\t2\t2.46326\tTrue\tTrue\t0:00:06.107238\n"
     ]
    },
    {
     "name": "stderr",
     "output_type": "stream",
     "text": [
      " 24%|████████████████████████████████▉                                                                                                      | 122/500 [12:07<37:29,  5.95s/it]"
     ]
    },
    {
     "name": "stdout",
     "output_type": "stream",
     "text": [
      "121\t0\t0\t2.46326\tTrue\tTrue\t0:00:05.822959\n"
     ]
    },
    {
     "name": "stderr",
     "output_type": "stream",
     "text": [
      " 25%|█████████████████████████████████▏                                                                                                     | 123/500 [12:13<37:36,  5.99s/it]"
     ]
    },
    {
     "name": "stdout",
     "output_type": "stream",
     "text": [
      "122\t3\t2\t2.46326\tFalse\tFalse\t0:00:06.062149\n"
     ]
    },
    {
     "name": "stderr",
     "output_type": "stream",
     "text": [
      " 25%|█████████████████████████████████▍                                                                                                     | 124/500 [12:19<37:21,  5.96s/it]"
     ]
    },
    {
     "name": "stdout",
     "output_type": "stream",
     "text": [
      "123\t1\t1\t2.46326\tTrue\tTrue\t0:00:05.906487\n"
     ]
    },
    {
     "name": "stderr",
     "output_type": "stream",
     "text": [
      " 25%|█████████████████████████████████▊                                                                                                     | 125/500 [12:26<37:57,  6.07s/it]"
     ]
    },
    {
     "name": "stdout",
     "output_type": "stream",
     "text": [
      "124\t8\t8\t2.46326\tTrue\tTrue\t0:00:06.330447\n"
     ]
    },
    {
     "name": "stderr",
     "output_type": "stream",
     "text": [
      " 25%|██████████████████████████████████                                                                                                     | 126/500 [12:32<37:45,  6.06s/it]"
     ]
    },
    {
     "name": "stdout",
     "output_type": "stream",
     "text": [
      "125\t8\t8\t2.46326\tTrue\tTrue\t0:00:06.016343\n"
     ]
    },
    {
     "name": "stderr",
     "output_type": "stream",
     "text": [
      " 25%|██████████████████████████████████▎                                                                                                    | 127/500 [12:37<37:19,  6.00s/it]"
     ]
    },
    {
     "name": "stdout",
     "output_type": "stream",
     "text": [
      "126\t0\t0\t2.46326\tTrue\tTrue\t0:00:05.876584\n"
     ]
    },
    {
     "name": "stderr",
     "output_type": "stream",
     "text": [
      " 26%|██████████████████████████████████▌                                                                                                    | 128/500 [12:44<37:22,  6.03s/it]"
     ]
    },
    {
     "name": "stdout",
     "output_type": "stream",
     "text": [
      "127\t0\t9\t2.46326\tFalse\tFalse\t0:00:06.080508\n"
     ]
    },
    {
     "name": "stderr",
     "output_type": "stream",
     "text": [
      " 26%|██████████████████████████████████▊                                                                                                    | 129/500 [12:49<36:59,  5.98s/it]"
     ]
    },
    {
     "name": "stdout",
     "output_type": "stream",
     "text": [
      "128\t7\t7\t2.46326\tTrue\tTrue\t0:00:05.872124\n"
     ]
    },
    {
     "name": "stderr",
     "output_type": "stream",
     "text": [
      " 26%|███████████████████████████████████                                                                                                    | 130/500 [12:55<36:50,  5.98s/it]"
     ]
    },
    {
     "name": "stdout",
     "output_type": "stream",
     "text": [
      "129\t7\t7\t2.46326\tTrue\tTrue\t0:00:05.958521\n"
     ]
    },
    {
     "name": "stderr",
     "output_type": "stream",
     "text": [
      " 26%|███████████████████████████████████▎                                                                                                   | 131/500 [13:01<36:41,  5.97s/it]"
     ]
    },
    {
     "name": "stdout",
     "output_type": "stream",
     "text": [
      "130\t6\t6\t2.46326\tTrue\tTrue\t0:00:05.941054\n"
     ]
    },
    {
     "name": "stderr",
     "output_type": "stream",
     "text": [
      " 26%|███████████████████████████████████▋                                                                                                   | 132/500 [13:07<36:38,  5.97s/it]"
     ]
    },
    {
     "name": "stdout",
     "output_type": "stream",
     "text": [
      "131\t1\t1\t2.46326\tTrue\tTrue\t0:00:05.989670\n"
     ]
    },
    {
     "name": "stderr",
     "output_type": "stream",
     "text": [
      " 27%|███████████████████████████████████▉                                                                                                   | 133/500 [13:13<36:35,  5.98s/it]"
     ]
    },
    {
     "name": "stdout",
     "output_type": "stream",
     "text": [
      "132\t5\t5\t2.46326\tTrue\tTrue\t0:00:06.002432\n"
     ]
    },
    {
     "name": "stderr",
     "output_type": "stream",
     "text": [
      " 27%|████████████████████████████████████▏                                                                                                  | 134/500 [13:19<36:25,  5.97s/it]"
     ]
    },
    {
     "name": "stdout",
     "output_type": "stream",
     "text": [
      "133\t7\t2\t1.33193\tFalse\tFalse\t0:00:05.940617\n"
     ]
    },
    {
     "name": "stderr",
     "output_type": "stream",
     "text": [
      " 27%|████████████████████████████████████▍                                                                                                  | 135/500 [13:25<36:33,  6.01s/it]"
     ]
    },
    {
     "name": "stdout",
     "output_type": "stream",
     "text": [
      "134\t3\t3\t2.46326\tTrue\tTrue\t0:00:06.094810\n"
     ]
    },
    {
     "name": "stderr",
     "output_type": "stream",
     "text": [
      " 27%|████████████████████████████████████▋                                                                                                  | 136/500 [13:31<36:25,  6.00s/it]"
     ]
    },
    {
     "name": "stdout",
     "output_type": "stream",
     "text": [
      "135\t4\t4\t2.46326\tTrue\tTrue\t0:00:05.988731\n"
     ]
    },
    {
     "name": "stderr",
     "output_type": "stream",
     "text": [
      " 27%|████████████████████████████████████▉                                                                                                  | 137/500 [13:37<36:20,  6.01s/it]"
     ]
    },
    {
     "name": "stdout",
     "output_type": "stream",
     "text": [
      "136\t6\t6\t2.46326\tTrue\tTrue\t0:00:06.016318\n"
     ]
    },
    {
     "name": "stderr",
     "output_type": "stream",
     "text": [
      " 28%|█████████████████████████████████████▎                                                                                                 | 138/500 [13:43<36:13,  6.00s/it]"
     ]
    },
    {
     "name": "stdout",
     "output_type": "stream",
     "text": [
      "137\t9\t9\t2.46326\tTrue\tTrue\t0:00:05.991486\n"
     ]
    },
    {
     "name": "stderr",
     "output_type": "stream",
     "text": [
      " 28%|█████████████████████████████████████▌                                                                                                 | 139/500 [13:49<35:56,  5.97s/it]"
     ]
    },
    {
     "name": "stdout",
     "output_type": "stream",
     "text": [
      "138\t8\t8\t2.46326\tTrue\tTrue\t0:00:05.904147\n"
     ]
    },
    {
     "name": "stderr",
     "output_type": "stream",
     "text": [
      " 28%|█████████████████████████████████████▊                                                                                                 | 140/500 [13:55<36:11,  6.03s/it]"
     ]
    },
    {
     "name": "stdout",
     "output_type": "stream",
     "text": [
      "139\t6\t6\t2.46326\tTrue\tTrue\t0:00:06.167556\n"
     ]
    },
    {
     "name": "stderr",
     "output_type": "stream",
     "text": [
      " 28%|██████████████████████████████████████                                                                                                 | 141/500 [14:02<36:47,  6.15s/it]"
     ]
    },
    {
     "name": "stdout",
     "output_type": "stream",
     "text": [
      "140\t7\t7\t2.46326\tTrue\tTrue\t0:00:06.417833\n"
     ]
    },
    {
     "name": "stderr",
     "output_type": "stream",
     "text": [
      " 28%|██████████████████████████████████████▎                                                                                                | 142/500 [14:08<36:18,  6.09s/it]"
     ]
    },
    {
     "name": "stdout",
     "output_type": "stream",
     "text": [
      "141\t6\t6\t2.46326\tTrue\tTrue\t0:00:05.931790\n"
     ]
    },
    {
     "name": "stderr",
     "output_type": "stream",
     "text": [
      " 29%|██████████████████████████████████████▌                                                                                                | 143/500 [14:14<35:58,  6.05s/it]"
     ]
    },
    {
     "name": "stdout",
     "output_type": "stream",
     "text": [
      "142\t7\t7\t2.46326\tTrue\tTrue\t0:00:05.956749\n"
     ]
    },
    {
     "name": "stderr",
     "output_type": "stream",
     "text": [
      " 29%|██████████████████████████████████████▉                                                                                                | 144/500 [14:20<35:38,  6.01s/it]"
     ]
    },
    {
     "name": "stdout",
     "output_type": "stream",
     "text": [
      "143\t5\t5\t2.46326\tTrue\tTrue\t0:00:05.907084\n"
     ]
    },
    {
     "name": "stderr",
     "output_type": "stream",
     "text": [
      " 29%|███████████████████████████████████████▏                                                                                               | 145/500 [14:25<35:09,  5.94s/it]"
     ]
    },
    {
     "name": "stdout",
     "output_type": "stream",
     "text": [
      "144\t5\t5\t2.46326\tTrue\tTrue\t0:00:05.791763\n"
     ]
    },
    {
     "name": "stderr",
     "output_type": "stream",
     "text": [
      " 29%|███████████████████████████████████████▍                                                                                               | 146/500 [14:31<35:09,  5.96s/it]"
     ]
    },
    {
     "name": "stdout",
     "output_type": "stream",
     "text": [
      "145\t1\t1\t2.46326\tTrue\tTrue\t0:00:05.995577\n"
     ]
    },
    {
     "name": "stderr",
     "output_type": "stream",
     "text": [
      " 29%|███████████████████████████████████████▋                                                                                               | 147/500 [14:37<35:09,  5.98s/it]"
     ]
    },
    {
     "name": "stdout",
     "output_type": "stream",
     "text": [
      "146\t6\t6\t2.46326\tTrue\tTrue\t0:00:06.016269\n"
     ]
    },
    {
     "name": "stderr",
     "output_type": "stream",
     "text": [
      " 30%|███████████████████████████████████████▉                                                                                               | 148/500 [14:43<35:02,  5.97s/it]"
     ]
    },
    {
     "name": "stdout",
     "output_type": "stream",
     "text": [
      "147\t9\t9\t2.46326\tTrue\tTrue\t0:00:05.957986\n"
     ]
    },
    {
     "name": "stderr",
     "output_type": "stream",
     "text": [
      " 30%|████████████████████████████████████████▏                                                                                              | 149/500 [14:49<35:00,  5.98s/it]"
     ]
    },
    {
     "name": "stdout",
     "output_type": "stream",
     "text": [
      "148\t8\t8\t2.46326\tTrue\tTrue\t0:00:06.008467\n"
     ]
    },
    {
     "name": "stderr",
     "output_type": "stream",
     "text": [
      " 30%|████████████████████████████████████████▌                                                                                              | 150/500 [14:55<34:36,  5.93s/it]"
     ]
    },
    {
     "name": "stdout",
     "output_type": "stream",
     "text": [
      "149\t5\t5\t0.52840\tFalse\tTrue\t0:00:05.814178\n"
     ]
    },
    {
     "name": "stderr",
     "output_type": "stream",
     "text": [
      " 30%|████████████████████████████████████████▊                                                                                              | 151/500 [15:01<34:35,  5.95s/it]"
     ]
    },
    {
     "name": "stdout",
     "output_type": "stream",
     "text": [
      "150\t4\t4\t2.46326\tTrue\tTrue\t0:00:05.980276\n"
     ]
    },
    {
     "name": "stderr",
     "output_type": "stream",
     "text": [
      " 30%|█████████████████████████████████████████                                                                                              | 152/500 [15:07<34:29,  5.95s/it]"
     ]
    },
    {
     "name": "stdout",
     "output_type": "stream",
     "text": [
      "151\t8\t8\t2.46326\tTrue\tTrue\t0:00:05.941882\n"
     ]
    },
    {
     "name": "stderr",
     "output_type": "stream",
     "text": [
      " 31%|█████████████████████████████████████████▎                                                                                             | 153/500 [15:13<34:26,  5.96s/it]"
     ]
    },
    {
     "name": "stdout",
     "output_type": "stream",
     "text": [
      "152\t8\t8\t2.46326\tTrue\tTrue\t0:00:05.973963\n"
     ]
    },
    {
     "name": "stderr",
     "output_type": "stream",
     "text": [
      " 31%|█████████████████████████████████████████▌                                                                                             | 154/500 [15:19<34:23,  5.96s/it]"
     ]
    },
    {
     "name": "stdout",
     "output_type": "stream",
     "text": [
      "153\t3\t3\t2.46326\tTrue\tTrue\t0:00:05.983305\n"
     ]
    },
    {
     "name": "stderr",
     "output_type": "stream",
     "text": [
      " 31%|█████████████████████████████████████████▊                                                                                             | 155/500 [15:25<34:37,  6.02s/it]"
     ]
    },
    {
     "name": "stdout",
     "output_type": "stream",
     "text": [
      "154\t5\t5\t2.46326\tTrue\tTrue\t0:00:06.155448\n"
     ]
    },
    {
     "name": "stderr",
     "output_type": "stream",
     "text": [
      " 31%|██████████████████████████████████████████                                                                                             | 156/500 [15:31<34:21,  5.99s/it]"
     ]
    },
    {
     "name": "stdout",
     "output_type": "stream",
     "text": [
      "155\t9\t8\t2.46326\tFalse\tFalse\t0:00:05.917948\n"
     ]
    },
    {
     "name": "stderr",
     "output_type": "stream",
     "text": [
      " 31%|██████████████████████████████████████████▍                                                                                            | 157/500 [15:37<34:09,  5.97s/it]"
     ]
    },
    {
     "name": "stdout",
     "output_type": "stream",
     "text": [
      "156\t3\t6\t2.46326\tFalse\tFalse\t0:00:05.931041\n"
     ]
    },
    {
     "name": "stderr",
     "output_type": "stream",
     "text": [
      " 32%|██████████████████████████████████████████▋                                                                                            | 158/500 [15:43<34:01,  5.97s/it]"
     ]
    },
    {
     "name": "stdout",
     "output_type": "stream",
     "text": [
      "157\t5\t5\t2.46326\tTrue\tTrue\t0:00:05.959743\n"
     ]
    },
    {
     "name": "stderr",
     "output_type": "stream",
     "text": [
      " 32%|██████████████████████████████████████████▉                                                                                            | 159/500 [15:49<33:43,  5.93s/it]"
     ]
    },
    {
     "name": "stdout",
     "output_type": "stream",
     "text": [
      "158\t9\t9\t2.46326\tTrue\tTrue\t0:00:05.848604\n"
     ]
    },
    {
     "name": "stderr",
     "output_type": "stream",
     "text": [
      " 32%|███████████████████████████████████████████▏                                                                                           | 160/500 [15:55<33:53,  5.98s/it]"
     ]
    },
    {
     "name": "stdout",
     "output_type": "stream",
     "text": [
      "159\t6\t6\t2.46326\tTrue\tTrue\t0:00:06.086494\n"
     ]
    },
    {
     "name": "stderr",
     "output_type": "stream",
     "text": [
      " 32%|███████████████████████████████████████████▍                                                                                           | 161/500 [16:01<33:48,  5.98s/it]"
     ]
    },
    {
     "name": "stdout",
     "output_type": "stream",
     "text": [
      "160\t6\t6\t2.46326\tTrue\tTrue\t0:00:05.988074\n"
     ]
    },
    {
     "name": "stderr",
     "output_type": "stream",
     "text": [
      " 32%|███████████████████████████████████████████▋                                                                                           | 162/500 [16:07<33:52,  6.01s/it]"
     ]
    },
    {
     "name": "stdout",
     "output_type": "stream",
     "text": [
      "161\t0\t0\t2.46326\tTrue\tTrue\t0:00:06.082414\n"
     ]
    },
    {
     "name": "stderr",
     "output_type": "stream",
     "text": [
      " 33%|████████████████████████████████████████████                                                                                           | 163/500 [16:13<33:33,  5.97s/it]"
     ]
    },
    {
     "name": "stdout",
     "output_type": "stream",
     "text": [
      "162\t7\t7\t2.46326\tTrue\tTrue\t0:00:05.880085\n"
     ]
    },
    {
     "name": "stderr",
     "output_type": "stream",
     "text": [
      " 33%|████████████████████████████████████████████▎                                                                                          | 164/500 [16:19<33:35,  6.00s/it]"
     ]
    },
    {
     "name": "stdout",
     "output_type": "stream",
     "text": [
      "163\t4\t2\t2.46326\tFalse\tFalse\t0:00:06.054428\n"
     ]
    },
    {
     "name": "stderr",
     "output_type": "stream",
     "text": [
      " 33%|████████████████████████████████████████████▌                                                                                          | 165/500 [16:25<33:34,  6.01s/it]"
     ]
    },
    {
     "name": "stdout",
     "output_type": "stream",
     "text": [
      "164\t7\t7\t1.61599\tTrue\tTrue\t0:00:06.046106\n"
     ]
    },
    {
     "name": "stderr",
     "output_type": "stream",
     "text": [
      " 33%|████████████████████████████████████████████▊                                                                                          | 166/500 [16:31<33:28,  6.01s/it]"
     ]
    },
    {
     "name": "stdout",
     "output_type": "stream",
     "text": [
      "165\t3\t3\t2.46326\tTrue\tTrue\t0:00:06.004960\n"
     ]
    },
    {
     "name": "stderr",
     "output_type": "stream",
     "text": [
      " 33%|█████████████████████████████████████████████                                                                                          | 167/500 [16:37<33:13,  5.99s/it]"
     ]
    },
    {
     "name": "stdout",
     "output_type": "stream",
     "text": [
      "166\t0\t0\t2.46326\tTrue\tTrue\t0:00:05.927631\n"
     ]
    },
    {
     "name": "stderr",
     "output_type": "stream",
     "text": [
      " 34%|█████████████████████████████████████████████▎                                                                                         | 168/500 [16:43<32:59,  5.96s/it]"
     ]
    },
    {
     "name": "stdout",
     "output_type": "stream",
     "text": [
      "167\t0\t0\t2.46326\tTrue\tTrue\t0:00:05.898817\n"
     ]
    },
    {
     "name": "stderr",
     "output_type": "stream",
     "text": [
      " 34%|█████████████████████████████████████████████▋                                                                                         | 169/500 [16:49<33:03,  5.99s/it]"
     ]
    },
    {
     "name": "stdout",
     "output_type": "stream",
     "text": [
      "168\t6\t3\t2.46326\tFalse\tFalse\t0:00:06.058824\n"
     ]
    },
    {
     "name": "stderr",
     "output_type": "stream",
     "text": [
      " 34%|█████████████████████████████████████████████▉                                                                                         | 170/500 [16:55<32:58,  6.00s/it]"
     ]
    },
    {
     "name": "stdout",
     "output_type": "stream",
     "text": [
      "169\t0\t3\t2.46326\tFalse\tFalse\t0:00:06.006074\n"
     ]
    },
    {
     "name": "stderr",
     "output_type": "stream",
     "text": [
      " 34%|██████████████████████████████████████████████▏                                                                                        | 171/500 [17:01<32:44,  5.97s/it]"
     ]
    },
    {
     "name": "stdout",
     "output_type": "stream",
     "text": [
      "170\t4\t7\t0.40879\tFalse\tFalse\t0:00:05.910184\n"
     ]
    },
    {
     "name": "stderr",
     "output_type": "stream",
     "text": [
      " 34%|██████████████████████████████████████████████▍                                                                                        | 172/500 [17:07<32:42,  5.98s/it]"
     ]
    },
    {
     "name": "stdout",
     "output_type": "stream",
     "text": [
      "171\t8\t8\t2.46326\tTrue\tTrue\t0:00:06.008139\n"
     ]
    },
    {
     "name": "stderr",
     "output_type": "stream",
     "text": [
      " 35%|██████████████████████████████████████████████▋                                                                                        | 173/500 [17:13<32:54,  6.04s/it]"
     ]
    },
    {
     "name": "stdout",
     "output_type": "stream",
     "text": [
      "172\t9\t9\t2.46326\tTrue\tTrue\t0:00:06.162686\n"
     ]
    },
    {
     "name": "stderr",
     "output_type": "stream",
     "text": [
      " 35%|██████████████████████████████████████████████▉                                                                                        | 174/500 [17:19<32:38,  6.01s/it]"
     ]
    },
    {
     "name": "stdout",
     "output_type": "stream",
     "text": [
      "173\t1\t1\t2.46326\tTrue\tTrue\t0:00:05.934047\n"
     ]
    },
    {
     "name": "stderr",
     "output_type": "stream",
     "text": [
      " 35%|███████████████████████████████████████████████▎                                                                                       | 175/500 [17:25<32:21,  5.97s/it]"
     ]
    },
    {
     "name": "stdout",
     "output_type": "stream",
     "text": [
      "174\t9\t9\t2.46326\tTrue\tTrue\t0:00:05.891108\n"
     ]
    },
    {
     "name": "stderr",
     "output_type": "stream",
     "text": [
      " 35%|███████████████████████████████████████████████▌                                                                                       | 176/500 [17:31<32:14,  5.97s/it]"
     ]
    },
    {
     "name": "stdout",
     "output_type": "stream",
     "text": [
      "175\t6\t6\t2.46326\tTrue\tTrue\t0:00:05.966857\n"
     ]
    },
    {
     "name": "stderr",
     "output_type": "stream",
     "text": [
      " 35%|███████████████████████████████████████████████▊                                                                                       | 177/500 [17:37<32:25,  6.02s/it]"
     ]
    },
    {
     "name": "stdout",
     "output_type": "stream",
     "text": [
      "176\t7\t7\t2.46326\tTrue\tTrue\t0:00:06.138099\n"
     ]
    },
    {
     "name": "stderr",
     "output_type": "stream",
     "text": [
      " 36%|████████████████████████████████████████████████                                                                                       | 178/500 [17:43<31:57,  5.95s/it]"
     ]
    },
    {
     "name": "stdout",
     "output_type": "stream",
     "text": [
      "177\t4\t4\t2.46326\tTrue\tTrue\t0:00:05.789765\n"
     ]
    },
    {
     "name": "stderr",
     "output_type": "stream",
     "text": [
      " 36%|████████████████████████████████████████████████▎                                                                                      | 179/500 [17:49<31:36,  5.91s/it]"
     ]
    },
    {
     "name": "stdout",
     "output_type": "stream",
     "text": [
      "178\t4\t4\t2.46326\tTrue\tTrue\t0:00:05.798442\n"
     ]
    },
    {
     "name": "stderr",
     "output_type": "stream",
     "text": [
      " 36%|████████████████████████████████████████████████▌                                                                                      | 180/500 [17:55<31:54,  5.98s/it]"
     ]
    },
    {
     "name": "stdout",
     "output_type": "stream",
     "text": [
      "179\t2\t3\t0.64126\tFalse\tFalse\t0:00:06.157855\n"
     ]
    },
    {
     "name": "stderr",
     "output_type": "stream",
     "text": [
      " 36%|████████████████████████████████████████████████▊                                                                                      | 181/500 [18:01<32:04,  6.03s/it]"
     ]
    },
    {
     "name": "stdout",
     "output_type": "stream",
     "text": [
      "180\t6\t6\t2.46326\tTrue\tTrue\t0:00:06.142710\n"
     ]
    },
    {
     "name": "stderr",
     "output_type": "stream",
     "text": [
      " 36%|█████████████████████████████████████████████████▏                                                                                     | 182/500 [18:07<31:54,  6.02s/it]"
     ]
    },
    {
     "name": "stdout",
     "output_type": "stream",
     "text": [
      "181\t0\t0\t2.46326\tTrue\tTrue\t0:00:05.987874\n"
     ]
    },
    {
     "name": "stderr",
     "output_type": "stream",
     "text": [
      " 37%|█████████████████████████████████████████████████▍                                                                                     | 183/500 [18:13<31:45,  6.01s/it]"
     ]
    },
    {
     "name": "stdout",
     "output_type": "stream",
     "text": [
      "182\t0\t0\t2.46326\tTrue\tTrue\t0:00:05.988436\n"
     ]
    },
    {
     "name": "stderr",
     "output_type": "stream",
     "text": [
      " 37%|█████████████████████████████████████████████████▋                                                                                     | 184/500 [18:19<31:50,  6.05s/it]"
     ]
    },
    {
     "name": "stdout",
     "output_type": "stream",
     "text": [
      "183\t1\t1\t2.46326\tTrue\tTrue\t0:00:06.124943\n"
     ]
    },
    {
     "name": "stderr",
     "output_type": "stream",
     "text": [
      " 37%|█████████████████████████████████████████████████▉                                                                                     | 185/500 [18:25<31:40,  6.03s/it]"
     ]
    },
    {
     "name": "stdout",
     "output_type": "stream",
     "text": [
      "184\t9\t9\t2.46326\tTrue\tTrue\t0:00:05.999847\n"
     ]
    },
    {
     "name": "stderr",
     "output_type": "stream",
     "text": [
      " 37%|██████████████████████████████████████████████████▏                                                                                    | 186/500 [18:31<31:24,  6.00s/it]"
     ]
    },
    {
     "name": "stdout",
     "output_type": "stream",
     "text": [
      "185\t2\t2\t2.46326\tTrue\tTrue\t0:00:05.929078\n"
     ]
    },
    {
     "name": "stderr",
     "output_type": "stream",
     "text": [
      " 37%|██████████████████████████████████████████████████▍                                                                                    | 187/500 [18:37<31:50,  6.10s/it]"
     ]
    },
    {
     "name": "stdout",
     "output_type": "stream",
     "text": [
      "186\t7\t7\t2.46326\tTrue\tTrue\t0:00:06.333088\n"
     ]
    },
    {
     "name": "stderr",
     "output_type": "stream",
     "text": [
      " 38%|██████████████████████████████████████████████████▊                                                                                    | 188/500 [18:43<31:43,  6.10s/it]"
     ]
    },
    {
     "name": "stdout",
     "output_type": "stream",
     "text": [
      "187\t2\t2\t2.46326\tTrue\tTrue\t0:00:06.090754\n"
     ]
    },
    {
     "name": "stderr",
     "output_type": "stream",
     "text": [
      " 38%|███████████████████████████████████████████████████                                                                                    | 189/500 [18:49<31:19,  6.04s/it]"
     ]
    },
    {
     "name": "stdout",
     "output_type": "stream",
     "text": [
      "188\t3\t3\t2.46326\tTrue\tTrue\t0:00:05.910056\n"
     ]
    },
    {
     "name": "stderr",
     "output_type": "stream",
     "text": [
      " 38%|███████████████████████████████████████████████████▎                                                                                   | 190/500 [18:55<31:02,  6.01s/it]"
     ]
    },
    {
     "name": "stdout",
     "output_type": "stream",
     "text": [
      "189\t7\t7\t2.46326\tTrue\tTrue\t0:00:05.924883\n"
     ]
    },
    {
     "name": "stderr",
     "output_type": "stream",
     "text": [
      " 38%|███████████████████████████████████████████████████▌                                                                                   | 191/500 [19:01<30:44,  5.97s/it]"
     ]
    },
    {
     "name": "stdout",
     "output_type": "stream",
     "text": [
      "190\t6\t6\t2.46326\tTrue\tTrue\t0:00:05.874721\n"
     ]
    },
    {
     "name": "stderr",
     "output_type": "stream",
     "text": [
      " 38%|███████████████████████████████████████████████████▊                                                                                   | 192/500 [19:07<30:30,  5.94s/it]"
     ]
    },
    {
     "name": "stdout",
     "output_type": "stream",
     "text": [
      "191\t3\t3\t2.46326\tTrue\tTrue\t0:00:05.884785\n"
     ]
    },
    {
     "name": "stderr",
     "output_type": "stream",
     "text": [
      " 39%|████████████████████████████████████████████████████                                                                                   | 193/500 [19:13<30:22,  5.94s/it]"
     ]
    },
    {
     "name": "stdout",
     "output_type": "stream",
     "text": [
      "192\t0\t0\t2.46326\tTrue\tTrue\t0:00:05.916887\n"
     ]
    },
    {
     "name": "stderr",
     "output_type": "stream",
     "text": [
      " 39%|████████████████████████████████████████████████████▍                                                                                  | 194/500 [19:19<30:23,  5.96s/it]"
     ]
    },
    {
     "name": "stdout",
     "output_type": "stream",
     "text": [
      "193\t7\t7\t2.46326\tTrue\tTrue\t0:00:06.004233\n"
     ]
    },
    {
     "name": "stderr",
     "output_type": "stream",
     "text": [
      " 39%|████████████████████████████████████████████████████▋                                                                                  | 195/500 [19:25<30:15,  5.95s/it]"
     ]
    },
    {
     "name": "stdout",
     "output_type": "stream",
     "text": [
      "194\t4\t4\t2.46326\tTrue\tTrue\t0:00:05.932231\n"
     ]
    },
    {
     "name": "stderr",
     "output_type": "stream",
     "text": [
      " 39%|████████████████████████████████████████████████████▉                                                                                  | 196/500 [19:31<30:40,  6.05s/it]"
     ]
    },
    {
     "name": "stdout",
     "output_type": "stream",
     "text": [
      "195\t1\t1\t2.46326\tTrue\tTrue\t0:00:06.291544\n"
     ]
    },
    {
     "name": "stderr",
     "output_type": "stream",
     "text": [
      " 39%|█████████████████████████████████████████████████████▏                                                                                 | 197/500 [19:37<30:45,  6.09s/it]"
     ]
    },
    {
     "name": "stdout",
     "output_type": "stream",
     "text": [
      "196\t9\t9\t2.46326\tTrue\tTrue\t0:00:06.172101\n"
     ]
    },
    {
     "name": "stderr",
     "output_type": "stream",
     "text": [
      " 40%|█████████████████████████████████████████████████████▍                                                                                 | 198/500 [19:43<30:28,  6.05s/it]"
     ]
    },
    {
     "name": "stdout",
     "output_type": "stream",
     "text": [
      "197\t6\t2\t0.41445\tFalse\tFalse\t0:00:05.968412\n"
     ]
    },
    {
     "name": "stderr",
     "output_type": "stream",
     "text": [
      " 40%|█████████████████████████████████████████████████████▋                                                                                 | 199/500 [19:49<30:07,  6.01s/it]"
     ]
    },
    {
     "name": "stdout",
     "output_type": "stream",
     "text": [
      "198\t9\t9\t2.46326\tTrue\tTrue\t0:00:05.890251\n"
     ]
    },
    {
     "name": "stderr",
     "output_type": "stream",
     "text": [
      " 40%|██████████████████████████████████████████████████████                                                                                 | 200/500 [19:55<30:12,  6.04s/it]"
     ]
    },
    {
     "name": "stdout",
     "output_type": "stream",
     "text": [
      "199\t8\t8\t2.46326\tTrue\tTrue\t0:00:06.121465\n"
     ]
    },
    {
     "name": "stderr",
     "output_type": "stream",
     "text": [
      " 40%|██████████████████████████████████████████████████████▎                                                                                | 201/500 [20:01<30:00,  6.02s/it]"
     ]
    },
    {
     "name": "stdout",
     "output_type": "stream",
     "text": [
      "200\t3\t8\t2.46326\tFalse\tFalse\t0:00:05.971223\n"
     ]
    },
    {
     "name": "stderr",
     "output_type": "stream",
     "text": [
      " 40%|██████████████████████████████████████████████████████▌                                                                                | 202/500 [20:07<29:37,  5.97s/it]"
     ]
    },
    {
     "name": "stdout",
     "output_type": "stream",
     "text": [
      "201\t6\t6\t2.46326\tTrue\tTrue\t0:00:05.835005\n"
     ]
    },
    {
     "name": "stderr",
     "output_type": "stream",
     "text": [
      " 41%|██████████████████████████████████████████████████████▊                                                                                | 203/500 [20:13<29:39,  5.99s/it]"
     ]
    },
    {
     "name": "stdout",
     "output_type": "stream",
     "text": [
      "202\t9\t9\t2.46326\tTrue\tTrue\t0:00:06.049329\n"
     ]
    },
    {
     "name": "stderr",
     "output_type": "stream",
     "text": [
      " 41%|███████████████████████████████████████████████████████                                                                                | 204/500 [20:19<29:29,  5.98s/it]"
     ]
    },
    {
     "name": "stdout",
     "output_type": "stream",
     "text": [
      "203\t4\t4\t2.46326\tTrue\tTrue\t0:00:05.939030\n"
     ]
    },
    {
     "name": "stderr",
     "output_type": "stream",
     "text": [
      " 41%|███████████████████████████████████████████████████████▎                                                                               | 205/500 [20:25<29:33,  6.01s/it]"
     ]
    },
    {
     "name": "stdout",
     "output_type": "stream",
     "text": [
      "204\t7\t7\t2.46326\tTrue\tTrue\t0:00:06.090680\n"
     ]
    },
    {
     "name": "stderr",
     "output_type": "stream",
     "text": [
      " 41%|███████████████████████████████████████████████████████▌                                                                               | 206/500 [20:31<29:18,  5.98s/it]"
     ]
    },
    {
     "name": "stdout",
     "output_type": "stream",
     "text": [
      "205\t9\t9\t2.46326\tTrue\tTrue\t0:00:05.907869\n"
     ]
    },
    {
     "name": "stderr",
     "output_type": "stream",
     "text": [
      " 41%|███████████████████████████████████████████████████████▉                                                                               | 207/500 [20:37<29:32,  6.05s/it]"
     ]
    },
    {
     "name": "stdout",
     "output_type": "stream",
     "text": [
      "206\t6\t6\t2.46326\tTrue\tTrue\t0:00:06.205405\n"
     ]
    },
    {
     "name": "stderr",
     "output_type": "stream",
     "text": [
      " 42%|████████████████████████████████████████████████████████▏                                                                              | 208/500 [20:43<29:26,  6.05s/it]"
     ]
    },
    {
     "name": "stdout",
     "output_type": "stream",
     "text": [
      "207\t5\t5\t2.46326\tTrue\tTrue\t0:00:06.046568\n"
     ]
    },
    {
     "name": "stderr",
     "output_type": "stream",
     "text": [
      " 42%|████████████████████████████████████████████████████████▍                                                                              | 209/500 [20:49<29:18,  6.04s/it]"
     ]
    },
    {
     "name": "stdout",
     "output_type": "stream",
     "text": [
      "208\t1\t1\t2.46326\tTrue\tTrue\t0:00:06.020267\n"
     ]
    },
    {
     "name": "stderr",
     "output_type": "stream",
     "text": [
      " 42%|████████████████████████████████████████████████████████▋                                                                              | 210/500 [20:55<29:01,  6.00s/it]"
     ]
    },
    {
     "name": "stdout",
     "output_type": "stream",
     "text": [
      "209\t6\t6\t2.46326\tTrue\tTrue\t0:00:05.916332\n"
     ]
    },
    {
     "name": "stderr",
     "output_type": "stream",
     "text": [
      " 42%|████████████████████████████████████████████████████████▉                                                                              | 211/500 [21:01<28:53,  6.00s/it]"
     ]
    },
    {
     "name": "stdout",
     "output_type": "stream",
     "text": [
      "210\t3\t3\t2.46326\tTrue\tTrue\t0:00:05.983939\n"
     ]
    },
    {
     "name": "stderr",
     "output_type": "stream",
     "text": [
      " 42%|█████████████████████████████████████████████████████████▏                                                                             | 212/500 [21:08<29:18,  6.11s/it]"
     ]
    },
    {
     "name": "stdout",
     "output_type": "stream",
     "text": [
      "211\t9\t9\t2.46326\tTrue\tTrue\t0:00:06.353727\n"
     ]
    },
    {
     "name": "stderr",
     "output_type": "stream",
     "text": [
      " 43%|█████████████████████████████████████████████████████████▌                                                                             | 213/500 [21:14<29:00,  6.06s/it]"
     ]
    },
    {
     "name": "stdout",
     "output_type": "stream",
     "text": [
      "212\t2\t2\t2.46326\tTrue\tTrue\t0:00:05.965219\n"
     ]
    },
    {
     "name": "stderr",
     "output_type": "stream",
     "text": [
      " 43%|█████████████████████████████████████████████████████████▊                                                                             | 214/500 [21:20<28:54,  6.06s/it]"
     ]
    },
    {
     "name": "stdout",
     "output_type": "stream",
     "text": [
      "213\t2\t2\t2.46326\tTrue\tTrue\t0:00:06.058670\n"
     ]
    },
    {
     "name": "stderr",
     "output_type": "stream",
     "text": [
      " 43%|██████████████████████████████████████████████████████████                                                                             | 215/500 [21:26<28:52,  6.08s/it]"
     ]
    },
    {
     "name": "stdout",
     "output_type": "stream",
     "text": [
      "214\t4\t4\t2.46326\tTrue\tTrue\t0:00:06.117656\n"
     ]
    },
    {
     "name": "stderr",
     "output_type": "stream",
     "text": [
      " 43%|██████████████████████████████████████████████████████████▎                                                                            | 216/500 [21:32<28:37,  6.05s/it]"
     ]
    },
    {
     "name": "stdout",
     "output_type": "stream",
     "text": [
      "215\t7\t7\t2.46326\tTrue\tTrue\t0:00:05.967577\n"
     ]
    },
    {
     "name": "stderr",
     "output_type": "stream",
     "text": [
      " 43%|██████████████████████████████████████████████████████████▌                                                                            | 217/500 [21:38<28:14,  5.99s/it]"
     ]
    },
    {
     "name": "stdout",
     "output_type": "stream",
     "text": [
      "216\t2\t2\t2.46326\tTrue\tTrue\t0:00:05.847579\n"
     ]
    },
    {
     "name": "stderr",
     "output_type": "stream",
     "text": [
      " 44%|██████████████████████████████████████████████████████████▊                                                                            | 218/500 [21:44<28:43,  6.11s/it]"
     ]
    },
    {
     "name": "stdout",
     "output_type": "stream",
     "text": [
      "217\t7\t7\t2.46326\tTrue\tTrue\t0:00:06.400719\n"
     ]
    },
    {
     "name": "stderr",
     "output_type": "stream",
     "text": [
      " 44%|███████████████████████████████████████████████████████████▏                                                                           | 219/500 [21:50<28:17,  6.04s/it]"
     ]
    },
    {
     "name": "stdout",
     "output_type": "stream",
     "text": [
      "218\t3\t3\t2.46326\tTrue\tTrue\t0:00:05.866244\n"
     ]
    },
    {
     "name": "stderr",
     "output_type": "stream",
     "text": [
      " 44%|███████████████████████████████████████████████████████████▍                                                                           | 220/500 [21:56<28:08,  6.03s/it]"
     ]
    },
    {
     "name": "stdout",
     "output_type": "stream",
     "text": [
      "219\t8\t0\t2.46326\tFalse\tFalse\t0:00:06.003856\n"
     ]
    },
    {
     "name": "stderr",
     "output_type": "stream",
     "text": [
      " 44%|███████████████████████████████████████████████████████████▋                                                                           | 221/500 [22:02<28:04,  6.04s/it]"
     ]
    },
    {
     "name": "stdout",
     "output_type": "stream",
     "text": [
      "220\t6\t6\t2.46326\tTrue\tTrue\t0:00:06.056304\n"
     ]
    },
    {
     "name": "stderr",
     "output_type": "stream",
     "text": [
      " 44%|███████████████████████████████████████████████████████████▉                                                                           | 222/500 [22:08<28:12,  6.09s/it]"
     ]
    },
    {
     "name": "stdout",
     "output_type": "stream",
     "text": [
      "221\t0\t0\t2.46326\tTrue\tTrue\t0:00:06.207022\n"
     ]
    },
    {
     "name": "stderr",
     "output_type": "stream",
     "text": [
      " 45%|████████████████████████████████████████████████████████████▏                                                                          | 223/500 [22:14<28:15,  6.12s/it]"
     ]
    },
    {
     "name": "stdout",
     "output_type": "stream",
     "text": [
      "222\t2\t2\t2.46326\tTrue\tTrue\t0:00:06.190086\n"
     ]
    },
    {
     "name": "stderr",
     "output_type": "stream",
     "text": [
      " 45%|████████████████████████████████████████████████████████████▍                                                                          | 224/500 [22:20<28:01,  6.09s/it]"
     ]
    },
    {
     "name": "stdout",
     "output_type": "stream",
     "text": [
      "223\t3\t6\t2.46326\tFalse\tFalse\t0:00:06.027179\n"
     ]
    },
    {
     "name": "stderr",
     "output_type": "stream",
     "text": [
      " 45%|████████████████████████████████████████████████████████████▊                                                                          | 225/500 [22:26<27:40,  6.04s/it]"
     ]
    },
    {
     "name": "stdout",
     "output_type": "stream",
     "text": [
      "224\t4\t4\t2.46326\tTrue\tTrue\t0:00:05.905856\n"
     ]
    },
    {
     "name": "stderr",
     "output_type": "stream",
     "text": [
      " 45%|█████████████████████████████████████████████████████████████                                                                          | 226/500 [22:32<27:33,  6.03s/it]"
     ]
    },
    {
     "name": "stdout",
     "output_type": "stream",
     "text": [
      "225\t0\t0\t2.46326\tTrue\tTrue\t0:00:06.019075\n"
     ]
    },
    {
     "name": "stderr",
     "output_type": "stream",
     "text": [
      " 45%|█████████████████████████████████████████████████████████████▎                                                                         | 227/500 [22:38<27:15,  5.99s/it]"
     ]
    },
    {
     "name": "stdout",
     "output_type": "stream",
     "text": [
      "226\t9\t9\t2.46326\tTrue\tTrue\t0:00:05.894860\n"
     ]
    },
    {
     "name": "stderr",
     "output_type": "stream",
     "text": [
      " 46%|█████████████████████████████████████████████████████████████▌                                                                         | 228/500 [22:44<27:23,  6.04s/it]"
     ]
    },
    {
     "name": "stdout",
     "output_type": "stream",
     "text": [
      "227\t3\t3\t2.46326\tTrue\tTrue\t0:00:06.150846\n"
     ]
    },
    {
     "name": "stderr",
     "output_type": "stream",
     "text": [
      " 46%|█████████████████████████████████████████████████████████████▊                                                                         | 229/500 [22:50<27:16,  6.04s/it]"
     ]
    },
    {
     "name": "stdout",
     "output_type": "stream",
     "text": [
      "228\t5\t5\t2.46326\tTrue\tTrue\t0:00:06.030919\n"
     ]
    },
    {
     "name": "stderr",
     "output_type": "stream",
     "text": [
      " 46%|██████████████████████████████████████████████████████████████                                                                         | 230/500 [22:57<27:11,  6.04s/it]"
     ]
    },
    {
     "name": "stdout",
     "output_type": "stream",
     "text": [
      "229\t3\t3\t2.46326\tTrue\tTrue\t0:00:06.052568\n"
     ]
    },
    {
     "name": "stderr",
     "output_type": "stream",
     "text": [
      " 46%|██████████████████████████████████████████████████████████████▎                                                                        | 231/500 [23:03<27:17,  6.09s/it]"
     ]
    },
    {
     "name": "stdout",
     "output_type": "stream",
     "text": [
      "230\t7\t7\t2.46326\tTrue\tTrue\t0:00:06.187278\n"
     ]
    },
    {
     "name": "stderr",
     "output_type": "stream",
     "text": [
      " 46%|██████████████████████████████████████████████████████████████▋                                                                        | 232/500 [23:09<27:12,  6.09s/it]"
     ]
    },
    {
     "name": "stdout",
     "output_type": "stream",
     "text": [
      "231\t0\t0\t2.46326\tTrue\tTrue\t0:00:06.093746\n"
     ]
    },
    {
     "name": "stderr",
     "output_type": "stream",
     "text": [
      " 47%|██████████████████████████████████████████████████████████████▉                                                                        | 233/500 [23:15<26:52,  6.04s/it]"
     ]
    },
    {
     "name": "stdout",
     "output_type": "stream",
     "text": [
      "232\t1\t1\t2.46326\tTrue\tTrue\t0:00:05.914227\n"
     ]
    },
    {
     "name": "stderr",
     "output_type": "stream",
     "text": [
      " 47%|███████████████████████████████████████████████████████████████▏                                                                       | 234/500 [23:21<27:00,  6.09s/it]"
     ]
    },
    {
     "name": "stdout",
     "output_type": "stream",
     "text": [
      "233\t6\t6\t2.46326\tTrue\tTrue\t0:00:06.214073\n"
     ]
    },
    {
     "name": "stderr",
     "output_type": "stream",
     "text": [
      " 47%|███████████████████████████████████████████████████████████████▍                                                                       | 235/500 [23:27<26:45,  6.06s/it]"
     ]
    },
    {
     "name": "stdout",
     "output_type": "stream",
     "text": [
      "234\t7\t7\t2.46326\tTrue\tTrue\t0:00:05.979230\n"
     ]
    },
    {
     "name": "stderr",
     "output_type": "stream",
     "text": [
      " 47%|███████████████████████████████████████████████████████████████▋                                                                       | 236/500 [23:33<26:34,  6.04s/it]"
     ]
    },
    {
     "name": "stdout",
     "output_type": "stream",
     "text": [
      "235\t2\t2\t2.46326\tTrue\tTrue\t0:00:05.996361\n"
     ]
    },
    {
     "name": "stderr",
     "output_type": "stream",
     "text": [
      " 47%|███████████████████████████████████████████████████████████████▉                                                                       | 237/500 [23:39<26:20,  6.01s/it]"
     ]
    },
    {
     "name": "stdout",
     "output_type": "stream",
     "text": [
      "236\t3\t3\t2.46326\tTrue\tTrue\t0:00:05.930391\n"
     ]
    },
    {
     "name": "stderr",
     "output_type": "stream",
     "text": [
      " 48%|████████████████████████████████████████████████████████████████▎                                                                      | 238/500 [23:45<26:12,  6.00s/it]"
     ]
    },
    {
     "name": "stdout",
     "output_type": "stream",
     "text": [
      "237\t5\t5\t2.46326\tTrue\tTrue\t0:00:05.988999\n"
     ]
    },
    {
     "name": "stderr",
     "output_type": "stream",
     "text": [
      " 48%|████████████████████████████████████████████████████████████████▌                                                                      | 239/500 [23:51<26:12,  6.03s/it]"
     ]
    },
    {
     "name": "stdout",
     "output_type": "stream",
     "text": [
      "238\t1\t1\t2.46326\tTrue\tTrue\t0:00:06.078651\n"
     ]
    },
    {
     "name": "stderr",
     "output_type": "stream",
     "text": [
      " 48%|████████████████████████████████████████████████████████████████▊                                                                      | 240/500 [23:57<26:03,  6.01s/it]"
     ]
    },
    {
     "name": "stdout",
     "output_type": "stream",
     "text": [
      "239\t0\t0\t2.46326\tTrue\tTrue\t0:00:05.982353\n"
     ]
    },
    {
     "name": "stderr",
     "output_type": "stream",
     "text": [
      " 48%|█████████████████████████████████████████████████████████████████                                                                      | 241/500 [24:03<25:52,  5.99s/it]"
     ]
    },
    {
     "name": "stdout",
     "output_type": "stream",
     "text": [
      "240\t3\t3\t2.46326\tTrue\tTrue\t0:00:05.941086\n"
     ]
    },
    {
     "name": "stderr",
     "output_type": "stream",
     "text": [
      " 48%|█████████████████████████████████████████████████████████████████▎                                                                     | 242/500 [24:09<25:37,  5.96s/it]"
     ]
    },
    {
     "name": "stdout",
     "output_type": "stream",
     "text": [
      "241\t4\t4\t2.46326\tTrue\tTrue\t0:00:05.883686\n"
     ]
    },
    {
     "name": "stderr",
     "output_type": "stream",
     "text": [
      " 49%|█████████████████████████████████████████████████████████████████▌                                                                     | 243/500 [24:15<25:42,  6.00s/it]"
     ]
    },
    {
     "name": "stdout",
     "output_type": "stream",
     "text": [
      "242\t8\t8\t2.46326\tTrue\tTrue\t0:00:06.093699\n"
     ]
    },
    {
     "name": "stderr",
     "output_type": "stream",
     "text": [
      " 49%|█████████████████████████████████████████████████████████████████▉                                                                     | 244/500 [24:21<25:51,  6.06s/it]"
     ]
    },
    {
     "name": "stdout",
     "output_type": "stream",
     "text": [
      "243\t1\t1\t2.46326\tTrue\tTrue\t0:00:06.202178\n"
     ]
    },
    {
     "name": "stderr",
     "output_type": "stream",
     "text": [
      " 49%|██████████████████████████████████████████████████████████████████▏                                                                    | 245/500 [24:27<26:05,  6.14s/it]"
     ]
    },
    {
     "name": "stdout",
     "output_type": "stream",
     "text": [
      "244\t3\t3\t2.46326\tTrue\tTrue\t0:00:06.312917\n"
     ]
    },
    {
     "name": "stderr",
     "output_type": "stream",
     "text": [
      " 49%|██████████████████████████████████████████████████████████████████▍                                                                    | 246/500 [24:33<25:54,  6.12s/it]"
     ]
    },
    {
     "name": "stdout",
     "output_type": "stream",
     "text": [
      "245\t1\t1\t2.46326\tTrue\tTrue\t0:00:06.079319\n"
     ]
    },
    {
     "name": "stderr",
     "output_type": "stream",
     "text": [
      " 49%|██████████████████████████████████████████████████████████████████▋                                                                    | 247/500 [24:39<25:34,  6.06s/it]"
     ]
    },
    {
     "name": "stdout",
     "output_type": "stream",
     "text": [
      "246\t6\t6\t2.46326\tTrue\tTrue\t0:00:05.926219\n"
     ]
    },
    {
     "name": "stderr",
     "output_type": "stream",
     "text": [
      " 50%|██████████████████████████████████████████████████████████████████▉                                                                    | 248/500 [24:45<25:22,  6.04s/it]"
     ]
    },
    {
     "name": "stdout",
     "output_type": "stream",
     "text": [
      "247\t0\t0\t2.46326\tTrue\tTrue\t0:00:05.988345\n"
     ]
    },
    {
     "name": "stderr",
     "output_type": "stream",
     "text": [
      " 50%|███████████████████████████████████████████████████████████████████▏                                                                   | 249/500 [24:51<25:14,  6.04s/it]"
     ]
    },
    {
     "name": "stdout",
     "output_type": "stream",
     "text": [
      "248\t6\t6\t2.46326\tTrue\tTrue\t0:00:06.019243\n"
     ]
    },
    {
     "name": "stderr",
     "output_type": "stream",
     "text": [
      " 50%|███████████████████████████████████████████████████████████████████▌                                                                   | 250/500 [24:57<25:05,  6.02s/it]"
     ]
    },
    {
     "name": "stdout",
     "output_type": "stream",
     "text": [
      "249\t1\t1\t2.46326\tTrue\tTrue\t0:00:05.984226\n"
     ]
    },
    {
     "name": "stderr",
     "output_type": "stream",
     "text": [
      " 50%|███████████████████████████████████████████████████████████████████▊                                                                   | 251/500 [25:03<24:53,  6.00s/it]"
     ]
    },
    {
     "name": "stdout",
     "output_type": "stream",
     "text": [
      "250\t2\t2\t2.46326\tTrue\tTrue\t0:00:05.948135\n"
     ]
    },
    {
     "name": "stderr",
     "output_type": "stream",
     "text": [
      " 50%|████████████████████████████████████████████████████████████████████                                                                   | 252/500 [25:09<24:51,  6.01s/it]"
     ]
    },
    {
     "name": "stdout",
     "output_type": "stream",
     "text": [
      "251\t8\t8\t2.46326\tTrue\tTrue\t0:00:06.044769\n"
     ]
    },
    {
     "name": "stderr",
     "output_type": "stream",
     "text": [
      " 51%|████████████████████████████████████████████████████████████████████▎                                                                  | 253/500 [25:15<24:45,  6.01s/it]"
     ]
    },
    {
     "name": "stdout",
     "output_type": "stream",
     "text": [
      "252\t5\t5\t2.46326\tTrue\tTrue\t0:00:06.011735\n"
     ]
    },
    {
     "name": "stderr",
     "output_type": "stream",
     "text": [
      " 51%|████████████████████████████████████████████████████████████████████▌                                                                  | 254/500 [25:21<24:29,  5.97s/it]"
     ]
    },
    {
     "name": "stdout",
     "output_type": "stream",
     "text": [
      "253\t2\t2\t2.46326\tTrue\tTrue\t0:00:05.874386\n"
     ]
    },
    {
     "name": "stderr",
     "output_type": "stream",
     "text": [
      " 51%|████████████████████████████████████████████████████████████████████▊                                                                  | 255/500 [25:28<24:58,  6.12s/it]"
     ]
    },
    {
     "name": "stdout",
     "output_type": "stream",
     "text": [
      "254\t3\t9\t2.46326\tFalse\tFalse\t0:00:06.444871\n"
     ]
    },
    {
     "name": "stderr",
     "output_type": "stream",
     "text": [
      " 51%|█████████████████████████████████████████████████████████████████████                                                                  | 256/500 [25:34<24:45,  6.09s/it]"
     ]
    },
    {
     "name": "stdout",
     "output_type": "stream",
     "text": [
      "255\t8\t8\t2.46326\tTrue\tTrue\t0:00:06.022017\n"
     ]
    },
    {
     "name": "stderr",
     "output_type": "stream",
     "text": [
      " 51%|█████████████████████████████████████████████████████████████████████▍                                                                 | 257/500 [25:40<24:44,  6.11s/it]"
     ]
    },
    {
     "name": "stdout",
     "output_type": "stream",
     "text": [
      "256\t8\t8\t2.46326\tTrue\tTrue\t0:00:06.148241\n"
     ]
    },
    {
     "name": "stderr",
     "output_type": "stream",
     "text": [
      " 52%|█████████████████████████████████████████████████████████████████████▋                                                                 | 258/500 [25:46<24:46,  6.14s/it]"
     ]
    },
    {
     "name": "stdout",
     "output_type": "stream",
     "text": [
      "257\t4\t4\t2.46326\tTrue\tTrue\t0:00:06.225217\n"
     ]
    },
    {
     "name": "stderr",
     "output_type": "stream",
     "text": [
      " 52%|█████████████████████████████████████████████████████████████████████▉                                                                 | 259/500 [25:52<24:38,  6.14s/it]"
     ]
    },
    {
     "name": "stdout",
     "output_type": "stream",
     "text": [
      "258\t5\t5\t2.46326\tTrue\tTrue\t0:00:06.116716\n"
     ]
    },
    {
     "name": "stderr",
     "output_type": "stream",
     "text": [
      " 52%|██████████████████████████████████████████████████████████████████████▏                                                                | 260/500 [25:58<24:32,  6.14s/it]"
     ]
    },
    {
     "name": "stdout",
     "output_type": "stream",
     "text": [
      "259\t5\t3\t0.61541\tFalse\tFalse\t0:00:06.136088\n"
     ]
    },
    {
     "name": "stderr",
     "output_type": "stream",
     "text": [
      " 52%|██████████████████████████████████████████████████████████████████████▍                                                                | 261/500 [26:04<24:23,  6.13s/it]"
     ]
    },
    {
     "name": "stdout",
     "output_type": "stream",
     "text": [
      "260\t6\t6\t2.46326\tTrue\tTrue\t0:00:06.095482\n"
     ]
    },
    {
     "name": "stderr",
     "output_type": "stream",
     "text": [
      " 52%|██████████████████████████████████████████████████████████████████████▋                                                                | 262/500 [26:11<24:15,  6.11s/it]"
     ]
    },
    {
     "name": "stdout",
     "output_type": "stream",
     "text": [
      "261\t3\t3\t2.46326\tTrue\tTrue\t0:00:06.085467\n"
     ]
    },
    {
     "name": "stderr",
     "output_type": "stream",
     "text": [
      " 53%|███████████████████████████████████████████████████████████████████████                                                                | 263/500 [26:17<24:18,  6.16s/it]"
     ]
    },
    {
     "name": "stdout",
     "output_type": "stream",
     "text": [
      "262\t3\t-1\t0.00000\tFalse\tFalse\t0:00:06.249482\n"
     ]
    },
    {
     "name": "stderr",
     "output_type": "stream",
     "text": [
      " 53%|███████████████████████████████████████████████████████████████████████▎                                                               | 264/500 [26:23<24:01,  6.11s/it]"
     ]
    },
    {
     "name": "stdout",
     "output_type": "stream",
     "text": [
      "263\t7\t7\t2.46326\tTrue\tTrue\t0:00:05.993649\n"
     ]
    },
    {
     "name": "stderr",
     "output_type": "stream",
     "text": [
      " 53%|███████████████████████████████████████████████████████████████████████▌                                                               | 265/500 [26:29<23:38,  6.04s/it]"
     ]
    },
    {
     "name": "stdout",
     "output_type": "stream",
     "text": [
      "264\t6\t9\t2.46326\tFalse\tFalse\t0:00:05.867982\n"
     ]
    },
    {
     "name": "stderr",
     "output_type": "stream",
     "text": [
      " 53%|███████████████████████████████████████████████████████████████████████▊                                                               | 266/500 [26:35<23:34,  6.05s/it]"
     ]
    },
    {
     "name": "stdout",
     "output_type": "stream",
     "text": [
      "265\t2\t2\t0.27714\tFalse\tTrue\t0:00:06.067230\n"
     ]
    },
    {
     "name": "stderr",
     "output_type": "stream",
     "text": [
      " 53%|████████████████████████████████████████████████████████████████████████                                                               | 267/500 [26:41<23:20,  6.01s/it]"
     ]
    },
    {
     "name": "stdout",
     "output_type": "stream",
     "text": [
      "266\t7\t7\t2.46326\tTrue\tTrue\t0:00:05.930775\n"
     ]
    },
    {
     "name": "stderr",
     "output_type": "stream",
     "text": [
      " 54%|████████████████████████████████████████████████████████████████████████▎                                                              | 268/500 [26:47<23:27,  6.07s/it]"
     ]
    },
    {
     "name": "stdout",
     "output_type": "stream",
     "text": [
      "267\t5\t0\t2.46326\tFalse\tFalse\t0:00:06.196157\n"
     ]
    },
    {
     "name": "stderr",
     "output_type": "stream",
     "text": [
      " 54%|████████████████████████████████████████████████████████████████████████▋                                                              | 269/500 [26:53<23:10,  6.02s/it]"
     ]
    },
    {
     "name": "stdout",
     "output_type": "stream",
     "text": [
      "268\t6\t6\t2.46326\tTrue\tTrue\t0:00:05.898212\n"
     ]
    },
    {
     "name": "stderr",
     "output_type": "stream",
     "text": [
      " 54%|████████████████████████████████████████████████████████████████████████▉                                                              | 270/500 [26:59<23:03,  6.02s/it]"
     ]
    },
    {
     "name": "stdout",
     "output_type": "stream",
     "text": [
      "269\t6\t6\t2.46326\tTrue\tTrue\t0:00:06.010627\n"
     ]
    },
    {
     "name": "stderr",
     "output_type": "stream",
     "text": [
      " 54%|█████████████████████████████████████████████████████████████████████████▏                                                             | 271/500 [27:05<22:55,  6.01s/it]"
     ]
    },
    {
     "name": "stdout",
     "output_type": "stream",
     "text": [
      "270\t4\t5\t2.46326\tFalse\tFalse\t0:00:05.977139\n"
     ]
    },
    {
     "name": "stderr",
     "output_type": "stream",
     "text": [
      " 54%|█████████████████████████████████████████████████████████████████████████▍                                                             | 272/500 [27:11<22:48,  6.00s/it]"
     ]
    },
    {
     "name": "stdout",
     "output_type": "stream",
     "text": [
      "271\t6\t6\t2.46326\tTrue\tTrue\t0:00:05.989681\n"
     ]
    },
    {
     "name": "stderr",
     "output_type": "stream",
     "text": [
      " 55%|█████████████████████████████████████████████████████████████████████████▋                                                             | 273/500 [27:17<22:43,  6.01s/it]"
     ]
    },
    {
     "name": "stdout",
     "output_type": "stream",
     "text": [
      "272\t8\t0\t0.53143\tFalse\tFalse\t0:00:06.011880\n"
     ]
    },
    {
     "name": "stderr",
     "output_type": "stream",
     "text": [
      " 55%|█████████████████████████████████████████████████████████████████████████▉                                                             | 274/500 [27:23<22:36,  6.00s/it]"
     ]
    },
    {
     "name": "stdout",
     "output_type": "stream",
     "text": [
      "273\t0\t0\t2.46326\tTrue\tTrue\t0:00:05.989310\n"
     ]
    },
    {
     "name": "stderr",
     "output_type": "stream",
     "text": [
      " 55%|██████████████████████████████████████████████████████████████████████████▎                                                            | 275/500 [27:29<22:39,  6.04s/it]"
     ]
    },
    {
     "name": "stdout",
     "output_type": "stream",
     "text": [
      "274\t7\t7\t2.46326\tTrue\tTrue\t0:00:06.131821\n"
     ]
    },
    {
     "name": "stderr",
     "output_type": "stream",
     "text": [
      " 55%|██████████████████████████████████████████████████████████████████████████▌                                                            | 276/500 [27:35<22:32,  6.04s/it]"
     ]
    },
    {
     "name": "stdout",
     "output_type": "stream",
     "text": [
      "275\t5\t5\t2.46326\tTrue\tTrue\t0:00:06.031552\n"
     ]
    },
    {
     "name": "stderr",
     "output_type": "stream",
     "text": [
      " 55%|██████████████████████████████████████████████████████████████████████████▊                                                            | 277/500 [27:41<22:19,  6.01s/it]"
     ]
    },
    {
     "name": "stdout",
     "output_type": "stream",
     "text": [
      "276\t3\t3\t2.46326\tTrue\tTrue\t0:00:05.926855\n"
     ]
    },
    {
     "name": "stderr",
     "output_type": "stream",
     "text": [
      " 56%|███████████████████████████████████████████████████████████████████████████                                                            | 278/500 [27:47<22:13,  6.01s/it]"
     ]
    },
    {
     "name": "stdout",
     "output_type": "stream",
     "text": [
      "277\t3\t3\t2.46326\tTrue\tTrue\t0:00:06.004359\n"
     ]
    },
    {
     "name": "stderr",
     "output_type": "stream",
     "text": [
      " 56%|███████████████████████████████████████████████████████████████████████████▎                                                           | 279/500 [27:53<22:08,  6.01s/it]"
     ]
    },
    {
     "name": "stdout",
     "output_type": "stream",
     "text": [
      "278\t3\t3\t2.46326\tTrue\tTrue\t0:00:06.022232\n"
     ]
    },
    {
     "name": "stderr",
     "output_type": "stream",
     "text": [
      " 56%|███████████████████████████████████████████████████████████████████████████▌                                                           | 280/500 [27:59<22:29,  6.13s/it]"
     ]
    },
    {
     "name": "stdout",
     "output_type": "stream",
     "text": [
      "279\t4\t4\t2.46326\tTrue\tTrue\t0:00:06.417072\n"
     ]
    },
    {
     "name": "stderr",
     "output_type": "stream",
     "text": [
      " 56%|███████████████████████████████████████████████████████████████████████████▊                                                           | 281/500 [28:06<22:31,  6.17s/it]"
     ]
    },
    {
     "name": "stdout",
     "output_type": "stream",
     "text": [
      "280\t0\t0\t2.46326\tTrue\tTrue\t0:00:06.249389\n"
     ]
    },
    {
     "name": "stderr",
     "output_type": "stream",
     "text": [
      " 56%|████████████████████████████████████████████████████████████████████████████▏                                                          | 282/500 [28:12<22:14,  6.12s/it]"
     ]
    },
    {
     "name": "stdout",
     "output_type": "stream",
     "text": [
      "281\t8\t8\t2.46326\tTrue\tTrue\t0:00:06.007711\n"
     ]
    },
    {
     "name": "stderr",
     "output_type": "stream",
     "text": [
      " 57%|████████████████████████████████████████████████████████████████████████████▍                                                          | 283/500 [28:18<22:05,  6.11s/it]"
     ]
    },
    {
     "name": "stdout",
     "output_type": "stream",
     "text": [
      "282\t0\t0\t2.46326\tTrue\tTrue\t0:00:06.068789\n"
     ]
    },
    {
     "name": "stderr",
     "output_type": "stream",
     "text": [
      " 57%|████████████████████████████████████████████████████████████████████████████▋                                                          | 284/500 [28:24<22:17,  6.19s/it]"
     ]
    },
    {
     "name": "stdout",
     "output_type": "stream",
     "text": [
      "283\t2\t2\t2.46326\tTrue\tTrue\t0:00:06.396676\n"
     ]
    },
    {
     "name": "stderr",
     "output_type": "stream",
     "text": [
      " 57%|████████████████████████████████████████████████████████████████████████████▉                                                          | 285/500 [28:30<22:00,  6.14s/it]"
     ]
    },
    {
     "name": "stdout",
     "output_type": "stream",
     "text": [
      "284\t9\t9\t2.46326\tTrue\tTrue\t0:00:06.010203\n"
     ]
    },
    {
     "name": "stderr",
     "output_type": "stream",
     "text": [
      " 57%|█████████████████████████████████████████████████████████████████████████████▏                                                         | 286/500 [28:36<21:57,  6.16s/it]"
     ]
    },
    {
     "name": "stdout",
     "output_type": "stream",
     "text": [
      "285\t4\t6\t2.46326\tFalse\tFalse\t0:00:06.199369\n"
     ]
    },
    {
     "name": "stderr",
     "output_type": "stream",
     "text": [
      " 57%|█████████████████████████████████████████████████████████████████████████████▍                                                         | 287/500 [28:42<21:38,  6.10s/it]"
     ]
    },
    {
     "name": "stdout",
     "output_type": "stream",
     "text": [
      "286\t9\t1\t2.46326\tFalse\tFalse\t0:00:05.950241\n"
     ]
    },
    {
     "name": "stderr",
     "output_type": "stream",
     "text": [
      " 58%|█████████████████████████████████████████████████████████████████████████████▊                                                         | 288/500 [28:48<21:25,  6.06s/it]"
     ]
    },
    {
     "name": "stdout",
     "output_type": "stream",
     "text": [
      "287\t3\t0\t2.46326\tFalse\tFalse\t0:00:05.984185\n"
     ]
    },
    {
     "name": "stderr",
     "output_type": "stream",
     "text": [
      " 58%|██████████████████████████████████████████████████████████████████████████████                                                         | 289/500 [28:54<21:23,  6.08s/it]"
     ]
    },
    {
     "name": "stdout",
     "output_type": "stream",
     "text": [
      "288\t6\t6\t2.46326\tTrue\tTrue\t0:00:06.124228\n"
     ]
    },
    {
     "name": "stderr",
     "output_type": "stream",
     "text": [
      " 58%|██████████████████████████████████████████████████████████████████████████████▎                                                        | 290/500 [29:01<21:23,  6.11s/it]"
     ]
    },
    {
     "name": "stdout",
     "output_type": "stream",
     "text": [
      "289\t6\t3\t2.46326\tFalse\tFalse\t0:00:06.181952\n"
     ]
    },
    {
     "name": "stderr",
     "output_type": "stream",
     "text": [
      " 58%|██████████████████████████████████████████████████████████████████████████████▌                                                        | 291/500 [29:07<21:15,  6.10s/it]"
     ]
    },
    {
     "name": "stdout",
     "output_type": "stream",
     "text": [
      "290\t8\t8\t2.46326\tTrue\tTrue\t0:00:06.073353\n"
     ]
    },
    {
     "name": "stderr",
     "output_type": "stream",
     "text": [
      " 58%|██████████████████████████████████████████████████████████████████████████████▊                                                        | 292/500 [29:13<21:11,  6.11s/it]"
     ]
    },
    {
     "name": "stdout",
     "output_type": "stream",
     "text": [
      "291\t1\t1\t2.46326\tTrue\tTrue\t0:00:06.130653\n"
     ]
    },
    {
     "name": "stderr",
     "output_type": "stream",
     "text": [
      " 59%|███████████████████████████████████████████████████████████████████████████████                                                        | 293/500 [29:19<21:05,  6.11s/it]"
     ]
    },
    {
     "name": "stdout",
     "output_type": "stream",
     "text": [
      "292\t3\t3\t2.46326\tTrue\tTrue\t0:00:06.119207\n"
     ]
    },
    {
     "name": "stderr",
     "output_type": "stream",
     "text": [
      " 59%|███████████████████████████████████████████████████████████████████████████████▍                                                       | 294/500 [29:25<20:54,  6.09s/it]"
     ]
    },
    {
     "name": "stdout",
     "output_type": "stream",
     "text": [
      "293\t7\t7\t2.46326\tTrue\tTrue\t0:00:06.032055\n"
     ]
    },
    {
     "name": "stderr",
     "output_type": "stream",
     "text": [
      " 59%|███████████████████████████████████████████████████████████████████████████████▋                                                       | 295/500 [29:31<20:35,  6.03s/it]"
     ]
    },
    {
     "name": "stdout",
     "output_type": "stream",
     "text": [
      "294\t8\t8\t2.46326\tTrue\tTrue\t0:00:05.883862\n"
     ]
    },
    {
     "name": "stderr",
     "output_type": "stream",
     "text": [
      " 59%|███████████████████████████████████████████████████████████████████████████████▉                                                       | 296/500 [29:37<20:36,  6.06s/it]"
     ]
    },
    {
     "name": "stdout",
     "output_type": "stream",
     "text": [
      "295\t1\t1\t2.46326\tTrue\tTrue\t0:00:06.135927\n"
     ]
    },
    {
     "name": "stderr",
     "output_type": "stream",
     "text": [
      " 59%|████████████████████████████████████████████████████████████████████████████████▏                                                      | 297/500 [29:43<20:25,  6.03s/it]"
     ]
    },
    {
     "name": "stdout",
     "output_type": "stream",
     "text": [
      "296\t9\t9\t2.46326\tTrue\tTrue\t0:00:05.970069\n"
     ]
    },
    {
     "name": "stderr",
     "output_type": "stream",
     "text": [
      " 60%|████████████████████████████████████████████████████████████████████████████████▍                                                      | 298/500 [29:49<20:23,  6.06s/it]"
     ]
    },
    {
     "name": "stdout",
     "output_type": "stream",
     "text": [
      "297\t3\t3\t2.46326\tTrue\tTrue\t0:00:06.108414\n"
     ]
    },
    {
     "name": "stderr",
     "output_type": "stream",
     "text": [
      " 60%|████████████████████████████████████████████████████████████████████████████████▋                                                      | 299/500 [29:55<20:07,  6.01s/it]"
     ]
    },
    {
     "name": "stdout",
     "output_type": "stream",
     "text": [
      "298\t7\t7\t2.46326\tTrue\tTrue\t0:00:05.887193\n"
     ]
    },
    {
     "name": "stderr",
     "output_type": "stream",
     "text": [
      " 60%|█████████████████████████████████████████████████████████████████████████████████                                                      | 300/500 [30:01<19:59,  6.00s/it]"
     ]
    },
    {
     "name": "stdout",
     "output_type": "stream",
     "text": [
      "299\t8\t8\t2.46326\tTrue\tTrue\t0:00:05.973731\n"
     ]
    },
    {
     "name": "stderr",
     "output_type": "stream",
     "text": [
      " 60%|█████████████████████████████████████████████████████████████████████████████████▎                                                     | 301/500 [30:07<20:04,  6.05s/it]"
     ]
    },
    {
     "name": "stdout",
     "output_type": "stream",
     "text": [
      "300\t2\t2\t2.46326\tTrue\tTrue\t0:00:06.170167\n"
     ]
    },
    {
     "name": "stderr",
     "output_type": "stream",
     "text": [
      " 60%|█████████████████████████████████████████████████████████████████████████████████▌                                                     | 302/500 [30:13<19:57,  6.05s/it]"
     ]
    },
    {
     "name": "stdout",
     "output_type": "stream",
     "text": [
      "301\t1\t1\t2.46326\tTrue\tTrue\t0:00:06.037424\n"
     ]
    },
    {
     "name": "stderr",
     "output_type": "stream",
     "text": [
      " 61%|█████████████████████████████████████████████████████████████████████████████████▊                                                     | 303/500 [30:19<19:44,  6.01s/it]"
     ]
    },
    {
     "name": "stdout",
     "output_type": "stream",
     "text": [
      "302\t5\t5\t2.46326\tTrue\tTrue\t0:00:05.932665\n"
     ]
    },
    {
     "name": "stderr",
     "output_type": "stream",
     "text": [
      " 61%|██████████████████████████████████████████████████████████████████████████████████                                                     | 304/500 [30:25<19:41,  6.03s/it]"
     ]
    },
    {
     "name": "stdout",
     "output_type": "stream",
     "text": [
      "303\t6\t6\t2.46326\tTrue\tTrue\t0:00:06.067466\n"
     ]
    },
    {
     "name": "stderr",
     "output_type": "stream",
     "text": [
      " 61%|██████████████████████████████████████████████████████████████████████████████████▎                                                    | 305/500 [30:31<19:39,  6.05s/it]"
     ]
    },
    {
     "name": "stdout",
     "output_type": "stream",
     "text": [
      "304\t8\t8\t2.46326\tTrue\tTrue\t0:00:06.091232\n"
     ]
    },
    {
     "name": "stderr",
     "output_type": "stream",
     "text": [
      " 61%|██████████████████████████████████████████████████████████████████████████████████▌                                                    | 306/500 [30:37<19:30,  6.03s/it]"
     ]
    },
    {
     "name": "stdout",
     "output_type": "stream",
     "text": [
      "305\t7\t7\t2.46326\tTrue\tTrue\t0:00:05.997499\n"
     ]
    },
    {
     "name": "stderr",
     "output_type": "stream",
     "text": [
      " 61%|██████████████████████████████████████████████████████████████████████████████████▉                                                    | 307/500 [30:43<19:28,  6.05s/it]"
     ]
    },
    {
     "name": "stdout",
     "output_type": "stream",
     "text": [
      "306\t3\t6\t1.61599\tFalse\tFalse\t0:00:06.091183\n"
     ]
    },
    {
     "name": "stderr",
     "output_type": "stream",
     "text": [
      " 62%|███████████████████████████████████████████████████████████████████████████████████▏                                                   | 308/500 [30:49<19:18,  6.04s/it]"
     ]
    },
    {
     "name": "stdout",
     "output_type": "stream",
     "text": [
      "307\t9\t9\t2.46326\tTrue\tTrue\t0:00:05.996383\n"
     ]
    },
    {
     "name": "stderr",
     "output_type": "stream",
     "text": [
      " 62%|███████████████████████████████████████████████████████████████████████████████████▍                                                   | 309/500 [30:55<19:09,  6.02s/it]"
     ]
    },
    {
     "name": "stdout",
     "output_type": "stream",
     "text": [
      "308\t0\t0\t2.46326\tTrue\tTrue\t0:00:05.968810\n"
     ]
    },
    {
     "name": "stderr",
     "output_type": "stream",
     "text": [
      " 62%|███████████████████████████████████████████████████████████████████████████████████▋                                                   | 310/500 [31:01<18:58,  5.99s/it]"
     ]
    },
    {
     "name": "stdout",
     "output_type": "stream",
     "text": [
      "309\t3\t3\t2.46326\tTrue\tTrue\t0:00:05.938246\n"
     ]
    },
    {
     "name": "stderr",
     "output_type": "stream",
     "text": [
      " 62%|███████████████████████████████████████████████████████████████████████████████████▉                                                   | 311/500 [31:07<19:07,  6.07s/it]"
     ]
    },
    {
     "name": "stdout",
     "output_type": "stream",
     "text": [
      "310\t7\t7\t2.46326\tTrue\tTrue\t0:00:06.246336\n"
     ]
    },
    {
     "name": "stderr",
     "output_type": "stream",
     "text": [
      " 62%|████████████████████████████████████████████████████████████████████████████████████▏                                                  | 312/500 [31:13<18:53,  6.03s/it]"
     ]
    },
    {
     "name": "stdout",
     "output_type": "stream",
     "text": [
      "311\t7\t7\t2.46326\tTrue\tTrue\t0:00:05.933628\n"
     ]
    },
    {
     "name": "stderr",
     "output_type": "stream",
     "text": [
      " 63%|████████████████████████████████████████████████████████████████████████████████████▌                                                  | 313/500 [31:19<18:48,  6.04s/it]"
     ]
    },
    {
     "name": "stdout",
     "output_type": "stream",
     "text": [
      "312\t1\t1\t2.46326\tTrue\tTrue\t0:00:06.047205\n"
     ]
    },
    {
     "name": "stderr",
     "output_type": "stream",
     "text": [
      " 63%|████████████████████████████████████████████████████████████████████████████████████▊                                                  | 314/500 [31:26<18:48,  6.07s/it]"
     ]
    },
    {
     "name": "stdout",
     "output_type": "stream",
     "text": [
      "313\t2\t2\t2.46326\tTrue\tTrue\t0:00:06.134702\n"
     ]
    },
    {
     "name": "stderr",
     "output_type": "stream",
     "text": [
      " 63%|█████████████████████████████████████████████████████████████████████████████████████                                                  | 315/500 [31:32<18:44,  6.08s/it]"
     ]
    },
    {
     "name": "stdout",
     "output_type": "stream",
     "text": [
      "314\t2\t2\t2.46326\tTrue\tTrue\t0:00:06.096900\n"
     ]
    },
    {
     "name": "stderr",
     "output_type": "stream",
     "text": [
      " 63%|█████████████████████████████████████████████████████████████████████████████████████▎                                                 | 316/500 [31:45<25:17,  8.24s/it]"
     ]
    },
    {
     "name": "stdout",
     "output_type": "stream",
     "text": [
      "315\t7\t7\t2.46326\tTrue\tTrue\t0:00:13.301735\n"
     ]
    },
    {
     "name": "stderr",
     "output_type": "stream",
     "text": [
      " 63%|█████████████████████████████████████████████████████████████████████████████████████▌                                                 | 317/500 [31:52<24:21,  7.99s/it]"
     ]
    },
    {
     "name": "stdout",
     "output_type": "stream",
     "text": [
      "316\t8\t8\t2.46326\tTrue\tTrue\t0:00:07.317404\n"
     ]
    },
    {
     "name": "stderr",
     "output_type": "stream",
     "text": [
      " 64%|█████████████████████████████████████████████████████████████████████████████████████▊                                                 | 318/500 [31:58<22:26,  7.40s/it]"
     ]
    },
    {
     "name": "stdout",
     "output_type": "stream",
     "text": [
      "317\t1\t1\t2.46326\tTrue\tTrue\t0:00:06.033155\n"
     ]
    },
    {
     "name": "stderr",
     "output_type": "stream",
     "text": [
      " 64%|██████████████████████████████████████████████████████████████████████████████████████▏                                                | 319/500 [32:05<21:14,  7.04s/it]"
     ]
    },
    {
     "name": "stdout",
     "output_type": "stream",
     "text": [
      "318\t5\t5\t1.61599\tTrue\tTrue\t0:00:06.205027\n"
     ]
    },
    {
     "name": "stderr",
     "output_type": "stream",
     "text": [
      " 64%|██████████████████████████████████████████████████████████████████████████████████████▍                                                | 320/500 [32:10<20:06,  6.70s/it]"
     ]
    },
    {
     "name": "stdout",
     "output_type": "stream",
     "text": [
      "319\t7\t4\t2.46326\tFalse\tFalse\t0:00:05.902458\n"
     ]
    },
    {
     "name": "stderr",
     "output_type": "stream",
     "text": [
      " 64%|██████████████████████████████████████████████████████████████████████████████████████▋                                                | 321/500 [32:17<19:25,  6.51s/it]"
     ]
    },
    {
     "name": "stdout",
     "output_type": "stream",
     "text": [
      "320\t0\t0\t2.46326\tTrue\tTrue\t0:00:06.072476\n"
     ]
    },
    {
     "name": "stderr",
     "output_type": "stream",
     "text": [
      " 64%|██████████████████████████████████████████████████████████████████████████████████████▉                                                | 322/500 [32:23<18:52,  6.36s/it]"
     ]
    },
    {
     "name": "stdout",
     "output_type": "stream",
     "text": [
      "321\t0\t-1\t0.00000\tFalse\tFalse\t0:00:05.999315\n"
     ]
    },
    {
     "name": "stderr",
     "output_type": "stream",
     "text": [
      " 65%|███████████████████████████████████████████████████████████████████████████████████████▏                                               | 323/500 [32:29<18:26,  6.25s/it]"
     ]
    },
    {
     "name": "stdout",
     "output_type": "stream",
     "text": [
      "322\t7\t2\t2.46326\tFalse\tFalse\t0:00:05.990911\n"
     ]
    },
    {
     "name": "stderr",
     "output_type": "stream",
     "text": [
      " 65%|███████████████████████████████████████████████████████████████████████████████████████▍                                               | 324/500 [32:35<18:12,  6.21s/it]"
     ]
    },
    {
     "name": "stdout",
     "output_type": "stream",
     "text": [
      "323\t4\t4\t2.46326\tTrue\tTrue\t0:00:06.108529\n"
     ]
    },
    {
     "name": "stderr",
     "output_type": "stream",
     "text": [
      " 65%|███████████████████████████████████████████████████████████████████████████████████████▊                                               | 325/500 [32:41<17:59,  6.17s/it]"
     ]
    },
    {
     "name": "stdout",
     "output_type": "stream",
     "text": [
      "324\t5\t6\t2.46326\tFalse\tFalse\t0:00:06.066698\n"
     ]
    },
    {
     "name": "stderr",
     "output_type": "stream",
     "text": [
      " 65%|████████████████████████████████████████████████████████████████████████████████████████                                               | 326/500 [32:47<17:44,  6.12s/it]"
     ]
    },
    {
     "name": "stdout",
     "output_type": "stream",
     "text": [
      "325\t6\t6\t2.46326\tTrue\tTrue\t0:00:06.002759\n"
     ]
    },
    {
     "name": "stderr",
     "output_type": "stream",
     "text": [
      " 65%|████████████████████████████████████████████████████████████████████████████████████████▎                                              | 327/500 [32:53<17:29,  6.07s/it]"
     ]
    },
    {
     "name": "stdout",
     "output_type": "stream",
     "text": [
      "326\t6\t6\t2.46326\tTrue\tTrue\t0:00:05.943903\n"
     ]
    },
    {
     "name": "stderr",
     "output_type": "stream",
     "text": [
      " 66%|████████████████████████████████████████████████████████████████████████████████████████▌                                              | 328/500 [32:59<17:17,  6.03s/it]"
     ]
    },
    {
     "name": "stdout",
     "output_type": "stream",
     "text": [
      "327\t4\t4\t2.46326\tTrue\tTrue\t0:00:05.948317\n"
     ]
    },
    {
     "name": "stderr",
     "output_type": "stream",
     "text": [
      " 66%|████████████████████████████████████████████████████████████████████████████████████████▊                                              | 329/500 [33:05<17:19,  6.08s/it]"
     ]
    },
    {
     "name": "stdout",
     "output_type": "stream",
     "text": [
      "328\t9\t9\t2.46326\tTrue\tTrue\t0:00:06.181488\n"
     ]
    },
    {
     "name": "stderr",
     "output_type": "stream",
     "text": [
      " 66%|█████████████████████████████████████████████████████████████████████████████████████████                                              | 330/500 [33:11<17:20,  6.12s/it]"
     ]
    },
    {
     "name": "stdout",
     "output_type": "stream",
     "text": [
      "329\t1\t1\t2.46326\tTrue\tTrue\t0:00:06.221164\n"
     ]
    },
    {
     "name": "stderr",
     "output_type": "stream",
     "text": [
      " 66%|█████████████████████████████████████████████████████████████████████████████████████████▎                                             | 331/500 [33:17<17:04,  6.06s/it]"
     ]
    },
    {
     "name": "stdout",
     "output_type": "stream",
     "text": [
      "330\t5\t5\t2.46326\tTrue\tTrue\t0:00:05.916677\n"
     ]
    },
    {
     "name": "stderr",
     "output_type": "stream",
     "text": [
      " 66%|█████████████████████████████████████████████████████████████████████████████████████████▋                                             | 332/500 [33:23<16:50,  6.02s/it]"
     ]
    },
    {
     "name": "stdout",
     "output_type": "stream",
     "text": [
      "331\t5\t3\t2.46326\tFalse\tFalse\t0:00:05.907521\n"
     ]
    },
    {
     "name": "stderr",
     "output_type": "stream",
     "text": [
      " 67%|█████████████████████████████████████████████████████████████████████████████████████████▉                                             | 333/500 [33:29<16:39,  5.98s/it]"
     ]
    },
    {
     "name": "stdout",
     "output_type": "stream",
     "text": [
      "332\t0\t0\t2.46326\tTrue\tTrue\t0:00:05.902424\n"
     ]
    },
    {
     "name": "stderr",
     "output_type": "stream",
     "text": [
      " 67%|██████████████████████████████████████████████████████████████████████████████████████████▏                                            | 334/500 [33:35<16:33,  5.99s/it]"
     ]
    },
    {
     "name": "stdout",
     "output_type": "stream",
     "text": [
      "333\t3\t3\t2.46326\tTrue\tTrue\t0:00:05.990245\n"
     ]
    },
    {
     "name": "stderr",
     "output_type": "stream",
     "text": [
      " 67%|██████████████████████████████████████████████████████████████████████████████████████████▍                                            | 335/500 [33:41<16:26,  5.98s/it]"
     ]
    },
    {
     "name": "stdout",
     "output_type": "stream",
     "text": [
      "334\t1\t1\t2.46326\tTrue\tTrue\t0:00:05.960910\n"
     ]
    },
    {
     "name": "stderr",
     "output_type": "stream",
     "text": [
      " 67%|██████████████████████████████████████████████████████████████████████████████████████████▋                                            | 336/500 [33:47<16:16,  5.96s/it]"
     ]
    },
    {
     "name": "stdout",
     "output_type": "stream",
     "text": [
      "335\t6\t6\t2.46326\tTrue\tTrue\t0:00:05.904067\n"
     ]
    },
    {
     "name": "stderr",
     "output_type": "stream",
     "text": [
      " 67%|██████████████████████████████████████████████████████████████████████████████████████████▉                                            | 337/500 [33:53<16:14,  5.98s/it]"
     ]
    },
    {
     "name": "stdout",
     "output_type": "stream",
     "text": [
      "336\t0\t0\t2.46326\tTrue\tTrue\t0:00:06.026660\n"
     ]
    },
    {
     "name": "stderr",
     "output_type": "stream",
     "text": [
      " 68%|███████████████████████████████████████████████████████████████████████████████████████████▎                                           | 338/500 [33:59<16:18,  6.04s/it]"
     ]
    },
    {
     "name": "stdout",
     "output_type": "stream",
     "text": [
      "337\t1\t1\t2.46326\tTrue\tTrue\t0:00:06.186714\n"
     ]
    },
    {
     "name": "stderr",
     "output_type": "stream",
     "text": [
      " 68%|███████████████████████████████████████████████████████████████████████████████████████████▌                                           | 339/500 [34:05<16:20,  6.09s/it]"
     ]
    },
    {
     "name": "stdout",
     "output_type": "stream",
     "text": [
      "338\t7\t7\t2.46326\tTrue\tTrue\t0:00:06.199478\n"
     ]
    },
    {
     "name": "stderr",
     "output_type": "stream",
     "text": [
      " 68%|███████████████████████████████████████████████████████████████████████████████████████████▊                                           | 340/500 [34:11<16:10,  6.06s/it]"
     ]
    },
    {
     "name": "stdout",
     "output_type": "stream",
     "text": [
      "339\t6\t6\t2.46326\tTrue\tTrue\t0:00:05.998677\n"
     ]
    },
    {
     "name": "stderr",
     "output_type": "stream",
     "text": [
      " 68%|████████████████████████████████████████████████████████████████████████████████████████████                                           | 341/500 [34:17<16:00,  6.04s/it]"
     ]
    },
    {
     "name": "stdout",
     "output_type": "stream",
     "text": [
      "340\t4\t4\t2.46326\tTrue\tTrue\t0:00:05.978998\n"
     ]
    },
    {
     "name": "stderr",
     "output_type": "stream",
     "text": [
      " 68%|████████████████████████████████████████████████████████████████████████████████████████████▎                                          | 342/500 [34:23<15:48,  6.00s/it]"
     ]
    },
    {
     "name": "stdout",
     "output_type": "stream",
     "text": [
      "341\t1\t1\t2.46326\tTrue\tTrue\t0:00:05.916046\n"
     ]
    },
    {
     "name": "stderr",
     "output_type": "stream",
     "text": [
      " 69%|████████████████████████████████████████████████████████████████████████████████████████████▌                                          | 343/500 [34:29<15:46,  6.03s/it]"
     ]
    },
    {
     "name": "stdout",
     "output_type": "stream",
     "text": [
      "342\t4\t4\t2.46326\tTrue\tTrue\t0:00:06.078778\n"
     ]
    },
    {
     "name": "stderr",
     "output_type": "stream",
     "text": [
      " 69%|████████████████████████████████████████████████████████████████████████████████████████████▉                                          | 344/500 [34:35<15:39,  6.02s/it]"
     ]
    },
    {
     "name": "stdout",
     "output_type": "stream",
     "text": [
      "343\t6\t6\t2.46326\tTrue\tTrue\t0:00:06.010576\n"
     ]
    },
    {
     "name": "stderr",
     "output_type": "stream",
     "text": [
      " 69%|█████████████████████████████████████████████████████████████████████████████████████████████▏                                         | 345/500 [34:41<15:31,  6.01s/it]"
     ]
    },
    {
     "name": "stdout",
     "output_type": "stream",
     "text": [
      "344\t6\t6\t2.46326\tTrue\tTrue\t0:00:05.986966\n"
     ]
    },
    {
     "name": "stderr",
     "output_type": "stream",
     "text": [
      " 69%|█████████████████████████████████████████████████████████████████████████████████████████████▍                                         | 346/500 [34:47<15:30,  6.04s/it]"
     ]
    },
    {
     "name": "stdout",
     "output_type": "stream",
     "text": [
      "345\t3\t3\t2.46326\tTrue\tTrue\t0:00:06.113299\n"
     ]
    },
    {
     "name": "stderr",
     "output_type": "stream",
     "text": [
      " 69%|█████████████████████████████████████████████████████████████████████████████████████████████▋                                         | 347/500 [34:53<15:21,  6.02s/it]"
     ]
    },
    {
     "name": "stdout",
     "output_type": "stream",
     "text": [
      "346\t1\t1\t2.46326\tTrue\tTrue\t0:00:05.976011\n"
     ]
    },
    {
     "name": "stderr",
     "output_type": "stream",
     "text": [
      " 70%|█████████████████████████████████████████████████████████████████████████████████████████████▉                                         | 348/500 [34:59<15:19,  6.05s/it]"
     ]
    },
    {
     "name": "stdout",
     "output_type": "stream",
     "text": [
      "347\t2\t6\t2.46326\tFalse\tFalse\t0:00:06.113413\n"
     ]
    },
    {
     "name": "stderr",
     "output_type": "stream",
     "text": [
      " 70%|██████████████████████████████████████████████████████████████████████████████████████████████▏                                        | 349/500 [35:05<15:13,  6.05s/it]"
     ]
    },
    {
     "name": "stdout",
     "output_type": "stream",
     "text": [
      "348\t9\t9\t2.46326\tTrue\tTrue\t0:00:06.034148\n"
     ]
    },
    {
     "name": "stderr",
     "output_type": "stream",
     "text": [
      " 70%|██████████████████████████████████████████████████████████████████████████████████████████████▌                                        | 350/500 [35:11<15:07,  6.05s/it]"
     ]
    },
    {
     "name": "stdout",
     "output_type": "stream",
     "text": [
      "349\t7\t7\t2.46326\tTrue\tTrue\t0:00:06.058362\n"
     ]
    },
    {
     "name": "stderr",
     "output_type": "stream",
     "text": [
      " 70%|██████████████████████████████████████████████████████████████████████████████████████████████▊                                        | 351/500 [35:17<15:02,  6.06s/it]"
     ]
    },
    {
     "name": "stdout",
     "output_type": "stream",
     "text": [
      "350\t1\t1\t2.46326\tTrue\tTrue\t0:00:06.065814\n"
     ]
    },
    {
     "name": "stderr",
     "output_type": "stream",
     "text": [
      " 70%|███████████████████████████████████████████████████████████████████████████████████████████████                                        | 352/500 [35:23<14:55,  6.05s/it]"
     ]
    },
    {
     "name": "stdout",
     "output_type": "stream",
     "text": [
      "351\t2\t2\t2.46326\tTrue\tTrue\t0:00:06.026165\n"
     ]
    },
    {
     "name": "stderr",
     "output_type": "stream",
     "text": [
      " 71%|███████████████████████████████████████████████████████████████████████████████████████████████▎                                       | 353/500 [35:30<14:51,  6.06s/it]"
     ]
    },
    {
     "name": "stdout",
     "output_type": "stream",
     "text": [
      "352\t2\t5\t2.46326\tFalse\tFalse\t0:00:06.099952\n"
     ]
    },
    {
     "name": "stderr",
     "output_type": "stream",
     "text": [
      " 71%|███████████████████████████████████████████████████████████████████████████████████████████████▌                                       | 354/500 [35:36<14:48,  6.08s/it]"
     ]
    },
    {
     "name": "stdout",
     "output_type": "stream",
     "text": [
      "353\t3\t3\t0.28517\tFalse\tTrue\t0:00:06.122015\n"
     ]
    },
    {
     "name": "stderr",
     "output_type": "stream",
     "text": [
      " 71%|███████████████████████████████████████████████████████████████████████████████████████████████▊                                       | 355/500 [35:42<14:45,  6.11s/it]"
     ]
    },
    {
     "name": "stdout",
     "output_type": "stream",
     "text": [
      "354\t9\t9\t2.46326\tTrue\tTrue\t0:00:06.163153\n"
     ]
    },
    {
     "name": "stderr",
     "output_type": "stream",
     "text": [
      " 71%|████████████████████████████████████████████████████████████████████████████████████████████████                                       | 356/500 [35:48<14:39,  6.11s/it]"
     ]
    },
    {
     "name": "stdout",
     "output_type": "stream",
     "text": [
      "355\t8\t8\t2.46326\tTrue\tTrue\t0:00:06.108597\n"
     ]
    },
    {
     "name": "stderr",
     "output_type": "stream",
     "text": [
      " 71%|████████████████████████████████████████████████████████████████████████████████████████████████▍                                      | 357/500 [35:54<14:37,  6.13s/it]"
     ]
    },
    {
     "name": "stdout",
     "output_type": "stream",
     "text": [
      "356\t2\t2\t2.46326\tTrue\tTrue\t0:00:06.190087\n"
     ]
    },
    {
     "name": "stderr",
     "output_type": "stream",
     "text": [
      " 72%|████████████████████████████████████████████████████████████████████████████████████████████████▋                                      | 358/500 [36:00<14:20,  6.06s/it]"
     ]
    },
    {
     "name": "stdout",
     "output_type": "stream",
     "text": [
      "357\t7\t7\t2.46326\tTrue\tTrue\t0:00:05.891898\n"
     ]
    },
    {
     "name": "stderr",
     "output_type": "stream",
     "text": [
      " 72%|████████████████████████████████████████████████████████████████████████████████████████████████▉                                      | 359/500 [36:06<14:11,  6.04s/it]"
     ]
    },
    {
     "name": "stdout",
     "output_type": "stream",
     "text": [
      "358\t4\t-1\t0.00000\tFalse\tFalse\t0:00:05.974215\n"
     ]
    },
    {
     "name": "stderr",
     "output_type": "stream",
     "text": [
      " 72%|█████████████████████████████████████████████████████████████████████████████████████████████████▏                                     | 360/500 [36:12<13:58,  5.99s/it]"
     ]
    },
    {
     "name": "stdout",
     "output_type": "stream",
     "text": [
      "359\t8\t8\t2.46326\tTrue\tTrue\t0:00:05.864577\n"
     ]
    },
    {
     "name": "stderr",
     "output_type": "stream",
     "text": [
      " 72%|█████████████████████████████████████████████████████████████████████████████████████████████████▍                                     | 361/500 [36:18<14:01,  6.06s/it]"
     ]
    },
    {
     "name": "stdout",
     "output_type": "stream",
     "text": [
      "360\t0\t0\t2.46326\tTrue\tTrue\t0:00:06.221442\n"
     ]
    },
    {
     "name": "stderr",
     "output_type": "stream",
     "text": [
      " 72%|█████████████████████████████████████████████████████████████████████████████████████████████████▋                                     | 362/500 [36:24<14:04,  6.12s/it]"
     ]
    },
    {
     "name": "stdout",
     "output_type": "stream",
     "text": [
      "361\t5\t5\t2.46326\tTrue\tTrue\t0:00:06.253681\n"
     ]
    },
    {
     "name": "stderr",
     "output_type": "stream",
     "text": [
      " 73%|██████████████████████████████████████████████████████████████████████████████████████████████████                                     | 363/500 [36:30<13:57,  6.11s/it]"
     ]
    },
    {
     "name": "stdout",
     "output_type": "stream",
     "text": [
      "362\t2\t2\t2.46326\tTrue\tTrue\t0:00:06.099195\n"
     ]
    },
    {
     "name": "stderr",
     "output_type": "stream",
     "text": [
      " 73%|██████████████████████████████████████████████████████████████████████████████████████████████████▎                                    | 364/500 [36:36<13:47,  6.09s/it]"
     ]
    },
    {
     "name": "stdout",
     "output_type": "stream",
     "text": [
      "363\t8\t8\t2.46326\tTrue\tTrue\t0:00:06.025725\n"
     ]
    },
    {
     "name": "stderr",
     "output_type": "stream",
     "text": [
      " 73%|██████████████████████████████████████████████████████████████████████████████████████████████████▌                                    | 365/500 [36:42<13:38,  6.06s/it]"
     ]
    },
    {
     "name": "stdout",
     "output_type": "stream",
     "text": [
      "364\t4\t4\t2.46326\tTrue\tTrue\t0:00:05.997765\n"
     ]
    },
    {
     "name": "stderr",
     "output_type": "stream",
     "text": [
      " 73%|██████████████████████████████████████████████████████████████████████████████████████████████████▊                                    | 366/500 [36:49<13:32,  6.07s/it]"
     ]
    },
    {
     "name": "stdout",
     "output_type": "stream",
     "text": [
      "365\t3\t3\t1.61599\tTrue\tTrue\t0:00:06.072994\n"
     ]
    },
    {
     "name": "stderr",
     "output_type": "stream",
     "text": [
      " 73%|███████████████████████████████████████████████████████████████████████████████████████████████████                                    | 367/500 [36:54<13:19,  6.01s/it]"
     ]
    },
    {
     "name": "stdout",
     "output_type": "stream",
     "text": [
      "366\t8\t8\t2.46326\tTrue\tTrue\t0:00:05.892022\n"
     ]
    },
    {
     "name": "stderr",
     "output_type": "stream",
     "text": [
      " 74%|███████████████████████████████████████████████████████████████████████████████████████████████████▎                                   | 368/500 [37:01<13:18,  6.05s/it]"
     ]
    },
    {
     "name": "stdout",
     "output_type": "stream",
     "text": [
      "367\t9\t9\t2.46326\tTrue\tTrue\t0:00:06.117792\n"
     ]
    },
    {
     "name": "stderr",
     "output_type": "stream",
     "text": [
      " 74%|███████████████████████████████████████████████████████████████████████████████████████████████████▋                                   | 369/500 [37:07<13:16,  6.08s/it]"
     ]
    },
    {
     "name": "stdout",
     "output_type": "stream",
     "text": [
      "368\t9\t9\t2.46326\tTrue\tTrue\t0:00:06.146562\n"
     ]
    },
    {
     "name": "stderr",
     "output_type": "stream",
     "text": [
      " 74%|███████████████████████████████████████████████████████████████████████████████████████████████████▉                                   | 370/500 [37:13<13:04,  6.04s/it]"
     ]
    },
    {
     "name": "stdout",
     "output_type": "stream",
     "text": [
      "369\t4\t4\t2.46326\tTrue\tTrue\t0:00:05.935950\n"
     ]
    },
    {
     "name": "stderr",
     "output_type": "stream",
     "text": [
      " 74%|████████████████████████████████████████████████████████████████████████████████████████████████████▏                                  | 371/500 [37:19<13:13,  6.15s/it]"
     ]
    },
    {
     "name": "stdout",
     "output_type": "stream",
     "text": [
      "370\t7\t7\t2.46326\tTrue\tTrue\t0:00:06.408071\n"
     ]
    },
    {
     "name": "stderr",
     "output_type": "stream",
     "text": [
      " 74%|████████████████████████████████████████████████████████████████████████████████████████████████████▍                                  | 372/500 [37:25<13:04,  6.13s/it]"
     ]
    },
    {
     "name": "stdout",
     "output_type": "stream",
     "text": [
      "371\t7\t7\t2.46326\tTrue\tTrue\t0:00:06.085486\n"
     ]
    },
    {
     "name": "stderr",
     "output_type": "stream",
     "text": [
      " 75%|████████████████████████████████████████████████████████████████████████████████████████████████████▋                                  | 373/500 [37:31<12:56,  6.12s/it]"
     ]
    },
    {
     "name": "stdout",
     "output_type": "stream",
     "text": [
      "372\t9\t9\t2.46326\tTrue\tTrue\t0:00:06.086055\n"
     ]
    },
    {
     "name": "stderr",
     "output_type": "stream",
     "text": [
      " 75%|████████████████████████████████████████████████████████████████████████████████████████████████████▉                                  | 374/500 [37:37<12:55,  6.15s/it]"
     ]
    },
    {
     "name": "stdout",
     "output_type": "stream",
     "text": [
      "373\t3\t5\t2.46326\tFalse\tFalse\t0:00:06.228496\n"
     ]
    },
    {
     "name": "stderr",
     "output_type": "stream",
     "text": [
      " 75%|█████████████████████████████████████████████████████████████████████████████████████████████████████▎                                 | 375/500 [37:44<12:46,  6.14s/it]"
     ]
    },
    {
     "name": "stdout",
     "output_type": "stream",
     "text": [
      "374\t8\t8\t2.46326\tTrue\tTrue\t0:00:06.096219\n"
     ]
    },
    {
     "name": "stderr",
     "output_type": "stream",
     "text": [
      " 75%|█████████████████████████████████████████████████████████████████████████████████████████████████████▌                                 | 376/500 [37:50<12:35,  6.09s/it]"
     ]
    },
    {
     "name": "stdout",
     "output_type": "stream",
     "text": [
      "375\t8\t8\t2.46326\tTrue\tTrue\t0:00:05.997264\n"
     ]
    },
    {
     "name": "stderr",
     "output_type": "stream",
     "text": [
      " 75%|█████████████████████████████████████████████████████████████████████████████████████████████████████▊                                 | 377/500 [37:56<12:26,  6.07s/it]"
     ]
    },
    {
     "name": "stdout",
     "output_type": "stream",
     "text": [
      "376\t4\t4\t2.46326\tTrue\tTrue\t0:00:06.002700\n"
     ]
    },
    {
     "name": "stderr",
     "output_type": "stream",
     "text": [
      " 76%|██████████████████████████████████████████████████████████████████████████████████████████████████████                                 | 378/500 [38:02<12:16,  6.03s/it]"
     ]
    },
    {
     "name": "stdout",
     "output_type": "stream",
     "text": [
      "377\t7\t7\t2.46326\tTrue\tTrue\t0:00:05.951679\n"
     ]
    },
    {
     "name": "stderr",
     "output_type": "stream",
     "text": [
      " 76%|██████████████████████████████████████████████████████████████████████████████████████████████████████▎                                | 379/500 [38:08<12:08,  6.02s/it]"
     ]
    },
    {
     "name": "stdout",
     "output_type": "stream",
     "text": [
      "378\t7\t7\t2.46326\tTrue\tTrue\t0:00:05.977540\n"
     ]
    },
    {
     "name": "stderr",
     "output_type": "stream",
     "text": [
      " 76%|██████████████████████████████████████████████████████████████████████████████████████████████████████▌                                | 380/500 [38:14<12:02,  6.02s/it]"
     ]
    },
    {
     "name": "stdout",
     "output_type": "stream",
     "text": [
      "379\t2\t2\t2.46326\tTrue\tTrue\t0:00:06.027045\n"
     ]
    },
    {
     "name": "stderr",
     "output_type": "stream",
     "text": [
      " 76%|██████████████████████████████████████████████████████████████████████████████████████████████████████▊                                | 381/500 [38:19<11:51,  5.98s/it]"
     ]
    },
    {
     "name": "stdout",
     "output_type": "stream",
     "text": [
      "380\t9\t9\t2.46326\tTrue\tTrue\t0:00:05.889353\n"
     ]
    },
    {
     "name": "stderr",
     "output_type": "stream",
     "text": [
      " 76%|███████████████████████████████████████████████████████████████████████████████████████████████████████▏                               | 382/500 [38:25<11:44,  5.97s/it]"
     ]
    },
    {
     "name": "stdout",
     "output_type": "stream",
     "text": [
      "381\t7\t7\t2.46326\tTrue\tTrue\t0:00:05.930860\n"
     ]
    },
    {
     "name": "stderr",
     "output_type": "stream",
     "text": [
      " 77%|███████████████████████████████████████████████████████████████████████████████████████████████████████▍                               | 383/500 [38:32<11:46,  6.04s/it]"
     ]
    },
    {
     "name": "stdout",
     "output_type": "stream",
     "text": [
      "382\t8\t8\t2.46326\tTrue\tTrue\t0:00:06.191753\n"
     ]
    },
    {
     "name": "stderr",
     "output_type": "stream",
     "text": [
      " 77%|███████████████████████████████████████████████████████████████████████████████████████████████████████▋                               | 384/500 [38:38<11:44,  6.07s/it]"
     ]
    },
    {
     "name": "stdout",
     "output_type": "stream",
     "text": [
      "383\t9\t9\t2.46326\tTrue\tTrue\t0:00:06.154110\n"
     ]
    },
    {
     "name": "stderr",
     "output_type": "stream",
     "text": [
      " 77%|███████████████████████████████████████████████████████████████████████████████████████████████████████▉                               | 385/500 [38:44<11:38,  6.07s/it]"
     ]
    },
    {
     "name": "stdout",
     "output_type": "stream",
     "text": [
      "384\t8\t8\t2.46326\tTrue\tTrue\t0:00:06.070184\n"
     ]
    },
    {
     "name": "stderr",
     "output_type": "stream",
     "text": [
      " 77%|████████████████████████████████████████████████████████████████████████████████████████████████████████▏                              | 386/500 [38:50<11:35,  6.11s/it]"
     ]
    },
    {
     "name": "stdout",
     "output_type": "stream",
     "text": [
      "385\t1\t1\t2.46326\tTrue\tTrue\t0:00:06.179956\n"
     ]
    },
    {
     "name": "stderr",
     "output_type": "stream",
     "text": [
      " 77%|████████████████████████████████████████████████████████████████████████████████████████████████████████▍                              | 387/500 [38:56<11:25,  6.07s/it]"
     ]
    },
    {
     "name": "stdout",
     "output_type": "stream",
     "text": [
      "386\t5\t3\t2.46326\tFalse\tFalse\t0:00:05.973752\n"
     ]
    },
    {
     "name": "stderr",
     "output_type": "stream",
     "text": [
      " 78%|████████████████████████████████████████████████████████████████████████████████████████████████████████▊                              | 388/500 [39:02<11:25,  6.12s/it]"
     ]
    },
    {
     "name": "stdout",
     "output_type": "stream",
     "text": [
      "387\t9\t9\t2.46326\tTrue\tTrue\t0:00:06.253044\n"
     ]
    },
    {
     "name": "stderr",
     "output_type": "stream",
     "text": [
      " 78%|█████████████████████████████████████████████████████████████████████████████████████████████████████████                              | 389/500 [39:08<11:11,  6.05s/it]"
     ]
    },
    {
     "name": "stdout",
     "output_type": "stream",
     "text": [
      "388\t4\t4\t2.46326\tTrue\tTrue\t0:00:05.861129\n"
     ]
    },
    {
     "name": "stderr",
     "output_type": "stream",
     "text": [
      " 78%|█████████████████████████████████████████████████████████████████████████████████████████████████████████▎                             | 390/500 [39:14<11:05,  6.05s/it]"
     ]
    },
    {
     "name": "stdout",
     "output_type": "stream",
     "text": [
      "389\t2\t2\t2.46326\tTrue\tTrue\t0:00:06.058185\n"
     ]
    },
    {
     "name": "stderr",
     "output_type": "stream",
     "text": [
      " 78%|█████████████████████████████████████████████████████████████████████████████████████████████████████████▌                             | 391/500 [39:20<11:02,  6.07s/it]"
     ]
    },
    {
     "name": "stdout",
     "output_type": "stream",
     "text": [
      "390\t0\t0\t2.46326\tTrue\tTrue\t0:00:06.130309\n"
     ]
    },
    {
     "name": "stderr",
     "output_type": "stream",
     "text": [
      " 78%|█████████████████████████████████████████████████████████████████████████████████████████████████████████▊                             | 392/500 [39:26<10:56,  6.08s/it]"
     ]
    },
    {
     "name": "stdout",
     "output_type": "stream",
     "text": [
      "391\t3\t3\t2.46326\tTrue\tTrue\t0:00:06.086277\n"
     ]
    },
    {
     "name": "stderr",
     "output_type": "stream",
     "text": [
      " 79%|██████████████████████████████████████████████████████████████████████████████████████████████████████████                             | 393/500 [39:32<10:52,  6.10s/it]"
     ]
    },
    {
     "name": "stdout",
     "output_type": "stream",
     "text": [
      "392\t0\t0\t2.46326\tTrue\tTrue\t0:00:06.137645\n"
     ]
    },
    {
     "name": "stderr",
     "output_type": "stream",
     "text": [
      " 79%|██████████████████████████████████████████████████████████████████████████████████████████████████████████▍                            | 394/500 [39:38<10:42,  6.06s/it]"
     ]
    },
    {
     "name": "stdout",
     "output_type": "stream",
     "text": [
      "393\t6\t6\t2.46326\tTrue\tTrue\t0:00:05.973414\n"
     ]
    },
    {
     "name": "stderr",
     "output_type": "stream",
     "text": [
      " 79%|██████████████████████████████████████████████████████████████████████████████████████████████████████████▋                            | 395/500 [39:44<10:33,  6.04s/it]"
     ]
    },
    {
     "name": "stdout",
     "output_type": "stream",
     "text": [
      "394\t7\t7\t2.46326\tTrue\tTrue\t0:00:05.979630\n"
     ]
    },
    {
     "name": "stderr",
     "output_type": "stream",
     "text": [
      " 79%|██████████████████████████████████████████████████████████████████████████████████████████████████████████▉                            | 396/500 [39:50<10:26,  6.03s/it]"
     ]
    },
    {
     "name": "stdout",
     "output_type": "stream",
     "text": [
      "395\t7\t7\t2.46326\tTrue\tTrue\t0:00:05.999698\n"
     ]
    },
    {
     "name": "stderr",
     "output_type": "stream",
     "text": [
      " 79%|███████████████████████████████████████████████████████████████████████████████████████████████████████████▏                           | 397/500 [39:57<10:23,  6.05s/it]"
     ]
    },
    {
     "name": "stdout",
     "output_type": "stream",
     "text": [
      "396\t9\t9\t2.46326\tTrue\tTrue\t0:00:06.105905\n"
     ]
    },
    {
     "name": "stderr",
     "output_type": "stream",
     "text": [
      " 80%|███████████████████████████████████████████████████████████████████████████████████████████████████████████▍                           | 398/500 [40:03<10:15,  6.04s/it]"
     ]
    },
    {
     "name": "stdout",
     "output_type": "stream",
     "text": [
      "397\t1\t1\t2.46326\tTrue\tTrue\t0:00:06.003487\n"
     ]
    },
    {
     "name": "stderr",
     "output_type": "stream",
     "text": [
      " 80%|███████████████████████████████████████████████████████████████████████████████████████████████████████████▋                           | 399/500 [40:09<10:11,  6.06s/it]"
     ]
    },
    {
     "name": "stdout",
     "output_type": "stream",
     "text": [
      "398\t6\t6\t2.46326\tTrue\tTrue\t0:00:06.093912\n"
     ]
    },
    {
     "name": "stderr",
     "output_type": "stream",
     "text": [
      " 80%|████████████████████████████████████████████████████████████████████████████████████████████████████████████                           | 400/500 [40:15<10:04,  6.04s/it]"
     ]
    },
    {
     "name": "stdout",
     "output_type": "stream",
     "text": [
      "399\t9\t9\t2.46326\tTrue\tTrue\t0:00:06.001942\n"
     ]
    },
    {
     "name": "stderr",
     "output_type": "stream",
     "text": [
      " 80%|████████████████████████████████████████████████████████████████████████████████████████████████████████████▎                          | 401/500 [40:21<09:55,  6.02s/it]"
     ]
    },
    {
     "name": "stdout",
     "output_type": "stream",
     "text": [
      "400\t2\t2\t2.46326\tTrue\tTrue\t0:00:05.954592\n"
     ]
    },
    {
     "name": "stderr",
     "output_type": "stream",
     "text": [
      " 80%|████████████████████████████████████████████████████████████████████████████████████████████████████████████▌                          | 402/500 [40:27<09:47,  5.99s/it]"
     ]
    },
    {
     "name": "stdout",
     "output_type": "stream",
     "text": [
      "401\t3\t3\t2.46326\tTrue\tTrue\t0:00:05.942654\n"
     ]
    },
    {
     "name": "stderr",
     "output_type": "stream",
     "text": [
      " 81%|████████████████████████████████████████████████████████████████████████████████████████████████████████████▊                          | 403/500 [40:32<09:38,  5.96s/it]"
     ]
    },
    {
     "name": "stdout",
     "output_type": "stream",
     "text": [
      "402\t2\t2\t1.61599\tTrue\tTrue\t0:00:05.883417\n"
     ]
    },
    {
     "name": "stderr",
     "output_type": "stream",
     "text": [
      " 81%|█████████████████████████████████████████████████████████████████████████████████████████████████████████████                          | 404/500 [40:38<09:33,  5.97s/it]"
     ]
    },
    {
     "name": "stdout",
     "output_type": "stream",
     "text": [
      "403\t9\t9\t2.46326\tTrue\tTrue\t0:00:05.990642\n"
     ]
    },
    {
     "name": "stderr",
     "output_type": "stream",
     "text": [
      " 81%|█████████████████████████████████████████████████████████████████████████████████████████████████████████████▎                         | 405/500 [40:45<09:31,  6.02s/it]"
     ]
    },
    {
     "name": "stdout",
     "output_type": "stream",
     "text": [
      "404\t8\t8\t2.46326\tTrue\tTrue\t0:00:06.115542\n"
     ]
    },
    {
     "name": "stderr",
     "output_type": "stream",
     "text": [
      " 81%|█████████████████████████████████████████████████████████████████████████████████████████████████████████████▌                         | 406/500 [40:50<09:22,  5.98s/it]"
     ]
    },
    {
     "name": "stdout",
     "output_type": "stream",
     "text": [
      "405\t5\t5\t2.46326\tTrue\tTrue\t0:00:05.905916\n"
     ]
    },
    {
     "name": "stderr",
     "output_type": "stream",
     "text": [
      " 81%|█████████████████████████████████████████████████████████████████████████████████████████████████████████████▉                         | 407/500 [40:57<09:19,  6.01s/it]"
     ]
    },
    {
     "name": "stdout",
     "output_type": "stream",
     "text": [
      "406\t6\t6\t2.46326\tTrue\tTrue\t0:00:06.082531\n"
     ]
    },
    {
     "name": "stderr",
     "output_type": "stream",
     "text": [
      " 82%|██████████████████████████████████████████████████████████████████████████████████████████████████████████████▏                        | 408/500 [41:03<09:14,  6.02s/it]"
     ]
    },
    {
     "name": "stdout",
     "output_type": "stream",
     "text": [
      "407\t9\t9\t2.46326\tTrue\tTrue\t0:00:06.045718\n"
     ]
    },
    {
     "name": "stderr",
     "output_type": "stream",
     "text": [
      " 82%|██████████████████████████████████████████████████████████████████████████████████████████████████████████████▍                        | 409/500 [41:08<09:03,  5.97s/it]"
     ]
    },
    {
     "name": "stdout",
     "output_type": "stream",
     "text": [
      "408\t6\t3\t1.58245\tFalse\tFalse\t0:00:05.843837\n"
     ]
    },
    {
     "name": "stderr",
     "output_type": "stream",
     "text": [
      " 82%|██████████████████████████████████████████████████████████████████████████████████████████████████████████████▋                        | 410/500 [41:14<08:55,  5.95s/it]"
     ]
    },
    {
     "name": "stdout",
     "output_type": "stream",
     "text": [
      "409\t6\t6\t2.46326\tTrue\tTrue\t0:00:05.896689\n"
     ]
    },
    {
     "name": "stderr",
     "output_type": "stream",
     "text": [
      " 82%|██████████████████████████████████████████████████████████████████████████████████████████████████████████████▉                        | 411/500 [41:20<08:52,  5.99s/it]"
     ]
    },
    {
     "name": "stdout",
     "output_type": "stream",
     "text": [
      "410\t4\t4\t2.46326\tTrue\tTrue\t0:00:06.069005\n"
     ]
    },
    {
     "name": "stderr",
     "output_type": "stream",
     "text": [
      " 82%|███████████████████████████████████████████████████████████████████████████████████████████████████████████████▏                       | 412/500 [41:26<08:42,  5.94s/it]"
     ]
    },
    {
     "name": "stdout",
     "output_type": "stream",
     "text": [
      "411\t0\t0\t2.46326\tTrue\tTrue\t0:00:05.827732\n"
     ]
    },
    {
     "name": "stderr",
     "output_type": "stream",
     "text": [
      " 83%|███████████████████████████████████████████████████████████████████████████████████████████████████████████████▌                       | 413/500 [41:33<08:45,  6.04s/it]"
     ]
    },
    {
     "name": "stdout",
     "output_type": "stream",
     "text": [
      "412\t8\t8\t2.46326\tTrue\tTrue\t0:00:06.268143\n"
     ]
    },
    {
     "name": "stderr",
     "output_type": "stream",
     "text": [
      " 83%|███████████████████████████████████████████████████████████████████████████████████████████████████████████████▊                       | 414/500 [41:39<08:42,  6.07s/it]"
     ]
    },
    {
     "name": "stdout",
     "output_type": "stream",
     "text": [
      "413\t5\t5\t0.52840\tFalse\tTrue\t0:00:06.148803\n"
     ]
    },
    {
     "name": "stderr",
     "output_type": "stream",
     "text": [
      " 83%|████████████████████████████████████████████████████████████████████████████████████████████████████████████████                       | 415/500 [41:45<08:38,  6.09s/it]"
     ]
    },
    {
     "name": "stdout",
     "output_type": "stream",
     "text": [
      "414\t1\t1\t2.46326\tTrue\tTrue\t0:00:06.143640\n"
     ]
    },
    {
     "name": "stderr",
     "output_type": "stream",
     "text": [
      " 83%|████████████████████████████████████████████████████████████████████████████████████████████████████████████████▎                      | 416/500 [41:51<08:30,  6.07s/it]"
     ]
    },
    {
     "name": "stdout",
     "output_type": "stream",
     "text": [
      "415\t9\t9\t2.46326\tTrue\tTrue\t0:00:06.018551\n"
     ]
    },
    {
     "name": "stderr",
     "output_type": "stream",
     "text": [
      " 83%|████████████████████████████████████████████████████████████████████████████████████████████████████████████████▌                      | 417/500 [41:57<08:25,  6.09s/it]"
     ]
    },
    {
     "name": "stdout",
     "output_type": "stream",
     "text": [
      "416\t7\t7\t2.46326\tTrue\tTrue\t0:00:06.117761\n"
     ]
    },
    {
     "name": "stderr",
     "output_type": "stream",
     "text": [
      " 84%|████████████████████████████████████████████████████████████████████████████████████████████████████████████████▊                      | 418/500 [42:03<08:18,  6.08s/it]"
     ]
    },
    {
     "name": "stdout",
     "output_type": "stream",
     "text": [
      "417\t1\t1\t2.46326\tTrue\tTrue\t0:00:06.076834\n"
     ]
    },
    {
     "name": "stderr",
     "output_type": "stream",
     "text": [
      " 84%|█████████████████████████████████████████████████████████████████████████████████████████████████████████████████▏                     | 419/500 [42:09<08:18,  6.15s/it]"
     ]
    },
    {
     "name": "stdout",
     "output_type": "stream",
     "text": [
      "418\t0\t0\t2.46326\tTrue\tTrue\t0:00:06.300431\n"
     ]
    },
    {
     "name": "stderr",
     "output_type": "stream",
     "text": [
      " 84%|█████████████████████████████████████████████████████████████████████████████████████████████████████████████████▍                     | 420/500 [42:15<08:09,  6.12s/it]"
     ]
    },
    {
     "name": "stdout",
     "output_type": "stream",
     "text": [
      "419\t0\t0\t2.46326\tTrue\tTrue\t0:00:06.047879\n"
     ]
    },
    {
     "name": "stderr",
     "output_type": "stream",
     "text": [
      " 84%|█████████████████████████████████████████████████████████████████████████████████████████████████████████████████▋                     | 421/500 [42:21<08:02,  6.11s/it]"
     ]
    },
    {
     "name": "stdout",
     "output_type": "stream",
     "text": [
      "420\t4\t0\t2.46326\tFalse\tFalse\t0:00:06.079317\n"
     ]
    },
    {
     "name": "stderr",
     "output_type": "stream",
     "text": [
      " 84%|█████████████████████████████████████████████████████████████████████████████████████████████████████████████████▉                     | 422/500 [42:27<07:51,  6.04s/it]"
     ]
    },
    {
     "name": "stdout",
     "output_type": "stream",
     "text": [
      "421\t5\t5\t2.46326\tTrue\tTrue\t0:00:05.883608\n"
     ]
    },
    {
     "name": "stderr",
     "output_type": "stream",
     "text": [
      " 85%|██████████████████████████████████████████████████████████████████████████████████████████████████████████████████▏                    | 423/500 [42:34<07:48,  6.08s/it]"
     ]
    },
    {
     "name": "stdout",
     "output_type": "stream",
     "text": [
      "422\t3\t7\t0.71853\tFalse\tFalse\t0:00:06.182121\n"
     ]
    },
    {
     "name": "stderr",
     "output_type": "stream",
     "text": [
      " 85%|██████████████████████████████████████████████████████████████████████████████████████████████████████████████████▍                    | 424/500 [42:40<07:45,  6.12s/it]"
     ]
    },
    {
     "name": "stdout",
     "output_type": "stream",
     "text": [
      "423\t8\t8\t2.46326\tTrue\tTrue\t0:00:06.198815\n"
     ]
    },
    {
     "name": "stderr",
     "output_type": "stream",
     "text": [
      " 85%|██████████████████████████████████████████████████████████████████████████████████████████████████████████████████▊                    | 425/500 [42:46<07:33,  6.05s/it]"
     ]
    },
    {
     "name": "stdout",
     "output_type": "stream",
     "text": [
      "424\t9\t0\t2.46326\tFalse\tFalse\t0:00:05.878496\n"
     ]
    },
    {
     "name": "stderr",
     "output_type": "stream",
     "text": [
      " 85%|███████████████████████████████████████████████████████████████████████████████████████████████████████████████████                    | 426/500 [42:52<07:29,  6.07s/it]"
     ]
    },
    {
     "name": "stdout",
     "output_type": "stream",
     "text": [
      "425\t3\t3\t2.46326\tTrue\tTrue\t0:00:06.113303\n"
     ]
    },
    {
     "name": "stderr",
     "output_type": "stream",
     "text": [
      " 85%|███████████████████████████████████████████████████████████████████████████████████████████████████████████████████▎                   | 427/500 [42:58<07:19,  6.01s/it]"
     ]
    },
    {
     "name": "stdout",
     "output_type": "stream",
     "text": [
      "426\t2\t4\t2.46326\tFalse\tFalse\t0:00:05.886477\n"
     ]
    },
    {
     "name": "stderr",
     "output_type": "stream",
     "text": [
      " 86%|███████████████████████████████████████████████████████████████████████████████████████████████████████████████████▌                   | 428/500 [43:04<07:11,  5.99s/it]"
     ]
    },
    {
     "name": "stdout",
     "output_type": "stream",
     "text": [
      "427\t4\t4\t2.46326\tTrue\tTrue\t0:00:05.938634\n"
     ]
    },
    {
     "name": "stderr",
     "output_type": "stream",
     "text": [
      " 86%|███████████████████████████████████████████████████████████████████████████████████████████████████████████████████▊                   | 429/500 [43:10<07:05,  6.00s/it]"
     ]
    },
    {
     "name": "stdout",
     "output_type": "stream",
     "text": [
      "428\t5\t5\t2.46326\tTrue\tTrue\t0:00:06.000834\n"
     ]
    },
    {
     "name": "stderr",
     "output_type": "stream",
     "text": [
      " 86%|████████████████████████████████████████████████████████████████████████████████████████████████████████████████████                   | 430/500 [43:16<07:00,  6.01s/it]"
     ]
    },
    {
     "name": "stdout",
     "output_type": "stream",
     "text": [
      "429\t5\t3\t2.46326\tFalse\tFalse\t0:00:06.026099\n"
     ]
    },
    {
     "name": "stderr",
     "output_type": "stream",
     "text": [
      " 86%|████████████████████████████████████████████████████████████████████████████████████████████████████████████████████▎                  | 431/500 [43:22<06:54,  6.01s/it]"
     ]
    },
    {
     "name": "stdout",
     "output_type": "stream",
     "text": [
      "430\t4\t4\t2.46326\tTrue\tTrue\t0:00:06.026175\n"
     ]
    },
    {
     "name": "stderr",
     "output_type": "stream",
     "text": [
      " 86%|████████████████████████████████████████████████████████████████████████████████████████████████████████████████████▋                  | 432/500 [43:28<06:46,  5.98s/it]"
     ]
    },
    {
     "name": "stdout",
     "output_type": "stream",
     "text": [
      "431\t5\t5\t2.46326\tTrue\tTrue\t0:00:05.886628\n"
     ]
    },
    {
     "name": "stderr",
     "output_type": "stream",
     "text": [
      " 87%|████████████████████████████████████████████████████████████████████████████████████████████████████████████████████▉                  | 433/500 [43:33<06:38,  5.96s/it]"
     ]
    },
    {
     "name": "stdout",
     "output_type": "stream",
     "text": [
      "432\t3\t3\t2.46326\tTrue\tTrue\t0:00:05.904075\n"
     ]
    },
    {
     "name": "stderr",
     "output_type": "stream",
     "text": [
      " 87%|█████████████████████████████████████████████████████████████████████████████████████████████████████████████████████▏                 | 434/500 [43:39<06:33,  5.96s/it]"
     ]
    },
    {
     "name": "stdout",
     "output_type": "stream",
     "text": [
      "433\t7\t7\t2.46326\tTrue\tTrue\t0:00:05.966403\n"
     ]
    },
    {
     "name": "stderr",
     "output_type": "stream",
     "text": [
      " 87%|█████████████████████████████████████████████████████████████████████████████████████████████████████████████████████▍                 | 435/500 [43:45<06:29,  5.99s/it]"
     ]
    },
    {
     "name": "stdout",
     "output_type": "stream",
     "text": [
      "434\t3\t3\t2.46326\tTrue\tTrue\t0:00:06.052036\n"
     ]
    },
    {
     "name": "stderr",
     "output_type": "stream",
     "text": [
      " 87%|█████████████████████████████████████████████████████████████████████████████████████████████████████████████████████▋                 | 436/500 [43:51<06:22,  5.98s/it]"
     ]
    },
    {
     "name": "stdout",
     "output_type": "stream",
     "text": [
      "435\t2\t2\t2.46326\tTrue\tTrue\t0:00:05.964741\n"
     ]
    },
    {
     "name": "stderr",
     "output_type": "stream",
     "text": [
      " 87%|█████████████████████████████████████████████████████████████████████████████████████████████████████████████████████▉                 | 437/500 [43:58<06:18,  6.01s/it]"
     ]
    },
    {
     "name": "stdout",
     "output_type": "stream",
     "text": [
      "436\t8\t9\t2.46326\tFalse\tFalse\t0:00:06.084034\n"
     ]
    },
    {
     "name": "stderr",
     "output_type": "stream",
     "text": [
      " 88%|██████████████████████████████████████████████████████████████████████████████████████████████████████████████████████▎                | 438/500 [44:04<06:15,  6.06s/it]"
     ]
    },
    {
     "name": "stdout",
     "output_type": "stream",
     "text": [
      "437\t4\t4\t2.46326\tTrue\tTrue\t0:00:06.159678\n"
     ]
    },
    {
     "name": "stderr",
     "output_type": "stream",
     "text": [
      " 88%|██████████████████████████████████████████████████████████████████████████████████████████████████████████████████████▌                | 439/500 [44:10<06:09,  6.06s/it]"
     ]
    },
    {
     "name": "stdout",
     "output_type": "stream",
     "text": [
      "438\t0\t0\t2.46326\tTrue\tTrue\t0:00:06.052848\n"
     ]
    },
    {
     "name": "stderr",
     "output_type": "stream",
     "text": [
      " 88%|██████████████████████████████████████████████████████████████████████████████████████████████████████████████████████▊                | 440/500 [44:16<06:04,  6.08s/it]"
     ]
    },
    {
     "name": "stdout",
     "output_type": "stream",
     "text": [
      "439\t3\t2\t0.52237\tFalse\tFalse\t0:00:06.125343\n"
     ]
    },
    {
     "name": "stderr",
     "output_type": "stream",
     "text": [
      " 88%|███████████████████████████████████████████████████████████████████████████████████████████████████████████████████████                | 441/500 [44:22<05:56,  6.05s/it]"
     ]
    },
    {
     "name": "stdout",
     "output_type": "stream",
     "text": [
      "440\t3\t3\t2.46326\tTrue\tTrue\t0:00:05.981624\n"
     ]
    },
    {
     "name": "stderr",
     "output_type": "stream",
     "text": [
      " 88%|███████████████████████████████████████████████████████████████████████████████████████████████████████████████████████▎               | 442/500 [44:28<05:48,  6.00s/it]"
     ]
    },
    {
     "name": "stdout",
     "output_type": "stream",
     "text": [
      "441\t0\t0\t2.46326\tTrue\tTrue\t0:00:05.882490\n"
     ]
    },
    {
     "name": "stderr",
     "output_type": "stream",
     "text": [
      " 89%|███████████████████████████████████████████████████████████████████████████████████████████████████████████████████████▌               | 443/500 [44:34<05:40,  5.98s/it]"
     ]
    },
    {
     "name": "stdout",
     "output_type": "stream",
     "text": [
      "442\t7\t7\t2.46326\tTrue\tTrue\t0:00:05.927228\n"
     ]
    },
    {
     "name": "stderr",
     "output_type": "stream",
     "text": [
      " 89%|███████████████████████████████████████████████████████████████████████████████████████████████████████████████████████▉               | 444/500 [44:40<05:36,  6.00s/it]"
     ]
    },
    {
     "name": "stdout",
     "output_type": "stream",
     "text": [
      "443\t8\t8\t2.46326\tTrue\tTrue\t0:00:06.048181\n"
     ]
    },
    {
     "name": "stderr",
     "output_type": "stream",
     "text": [
      " 89%|████████████████████████████████████████████████████████████████████████████████████████████████████████████████████████▏              | 445/500 [44:46<05:29,  5.99s/it]"
     ]
    },
    {
     "name": "stdout",
     "output_type": "stream",
     "text": [
      "444\t3\t3\t2.46326\tTrue\tTrue\t0:00:05.951792\n"
     ]
    },
    {
     "name": "stderr",
     "output_type": "stream",
     "text": [
      " 89%|████████████████████████████████████████████████████████████████████████████████████████████████████████████████████████▍              | 446/500 [44:52<05:23,  6.00s/it]"
     ]
    },
    {
     "name": "stdout",
     "output_type": "stream",
     "text": [
      "445\t1\t1\t2.46326\tTrue\tTrue\t0:00:06.012845\n"
     ]
    },
    {
     "name": "stderr",
     "output_type": "stream",
     "text": [
      " 89%|████████████████████████████████████████████████████████████████████████████████████████████████████████████████████████▋              | 447/500 [44:58<05:17,  5.98s/it]"
     ]
    },
    {
     "name": "stdout",
     "output_type": "stream",
     "text": [
      "446\t8\t8\t2.46326\tTrue\tTrue\t0:00:05.953632\n"
     ]
    },
    {
     "name": "stderr",
     "output_type": "stream",
     "text": [
      " 90%|████████████████████████████████████████████████████████████████████████████████████████████████████████████████████████▉              | 448/500 [45:04<05:11,  6.00s/it]"
     ]
    },
    {
     "name": "stdout",
     "output_type": "stream",
     "text": [
      "447\t5\t5\t2.46326\tTrue\tTrue\t0:00:06.024700\n"
     ]
    },
    {
     "name": "stderr",
     "output_type": "stream",
     "text": [
      " 90%|█████████████████████████████████████████████████████████████████████████████████████████████████████████████████████████▏             | 449/500 [45:10<05:04,  5.97s/it]"
     ]
    },
    {
     "name": "stdout",
     "output_type": "stream",
     "text": [
      "448\t9\t9\t2.46326\tTrue\tTrue\t0:00:05.913139\n"
     ]
    },
    {
     "name": "stderr",
     "output_type": "stream",
     "text": [
      " 90%|█████████████████████████████████████████████████████████████████████████████████████████████████████████████████████████▌             | 450/500 [45:16<04:58,  5.97s/it]"
     ]
    },
    {
     "name": "stdout",
     "output_type": "stream",
     "text": [
      "449\t4\t4\t2.46326\tTrue\tTrue\t0:00:05.974306\n"
     ]
    },
    {
     "name": "stderr",
     "output_type": "stream",
     "text": [
      " 90%|█████████████████████████████████████████████████████████████████████████████████████████████████████████████████████████▊             | 451/500 [45:21<04:50,  5.92s/it]"
     ]
    },
    {
     "name": "stdout",
     "output_type": "stream",
     "text": [
      "450\t9\t9\t2.46326\tTrue\tTrue\t0:00:05.789116\n"
     ]
    },
    {
     "name": "stderr",
     "output_type": "stream",
     "text": [
      " 90%|██████████████████████████████████████████████████████████████████████████████████████████████████████████████████████████             | 452/500 [45:27<04:46,  5.97s/it]"
     ]
    },
    {
     "name": "stdout",
     "output_type": "stream",
     "text": [
      "451\t4\t4\t2.46326\tTrue\tTrue\t0:00:06.075313\n"
     ]
    },
    {
     "name": "stderr",
     "output_type": "stream",
     "text": [
      " 91%|██████████████████████████████████████████████████████████████████████████████████████████████████████████████████████████▎            | 453/500 [45:33<04:40,  5.96s/it]"
     ]
    },
    {
     "name": "stdout",
     "output_type": "stream",
     "text": [
      "452\t3\t3\t2.46326\tTrue\tTrue\t0:00:05.941915\n"
     ]
    },
    {
     "name": "stderr",
     "output_type": "stream",
     "text": [
      " 91%|██████████████████████████████████████████████████████████████████████████████████████████████████████████████████████████▌            | 454/500 [45:39<04:35,  6.00s/it]"
     ]
    },
    {
     "name": "stdout",
     "output_type": "stream",
     "text": [
      "453\t2\t2\t2.46326\tTrue\tTrue\t0:00:06.082034\n"
     ]
    },
    {
     "name": "stderr",
     "output_type": "stream",
     "text": [
      " 91%|██████████████████████████████████████████████████████████████████████████████████████████████████████████████████████████▊            | 455/500 [45:46<04:33,  6.08s/it]"
     ]
    },
    {
     "name": "stdout",
     "output_type": "stream",
     "text": [
      "454\t4\t4\t2.46326\tTrue\tTrue\t0:00:06.278056\n"
     ]
    },
    {
     "name": "stderr",
     "output_type": "stream",
     "text": [
      " 91%|███████████████████████████████████████████████████████████████████████████████████████████████████████████████████████████            | 456/500 [45:52<04:25,  6.03s/it]"
     ]
    },
    {
     "name": "stdout",
     "output_type": "stream",
     "text": [
      "455\t5\t5\t2.46326\tTrue\tTrue\t0:00:05.903875\n"
     ]
    },
    {
     "name": "stderr",
     "output_type": "stream",
     "text": [
      " 91%|███████████████████████████████████████████████████████████████████████████████████████████████████████████████████████████▍           | 457/500 [45:58<04:19,  6.03s/it]"
     ]
    },
    {
     "name": "stdout",
     "output_type": "stream",
     "text": [
      "456\t6\t6\t2.46326\tTrue\tTrue\t0:00:06.025559\n"
     ]
    },
    {
     "name": "stderr",
     "output_type": "stream",
     "text": [
      " 92%|███████████████████████████████████████████████████████████████████████████████████████████████████████████████████████████▋           | 458/500 [46:04<04:14,  6.05s/it]"
     ]
    },
    {
     "name": "stdout",
     "output_type": "stream",
     "text": [
      "457\t4\t4\t2.46326\tTrue\tTrue\t0:00:06.091973\n"
     ]
    },
    {
     "name": "stderr",
     "output_type": "stream",
     "text": [
      " 92%|███████████████████████████████████████████████████████████████████████████████████████████████████████████████████████████▉           | 459/500 [46:10<04:07,  6.05s/it]"
     ]
    },
    {
     "name": "stdout",
     "output_type": "stream",
     "text": [
      "458\t2\t2\t2.46326\tTrue\tTrue\t0:00:06.045903\n"
     ]
    },
    {
     "name": "stderr",
     "output_type": "stream",
     "text": [
      " 92%|████████████████████████████████████████████████████████████████████████████████████████████████████████████████████████████▏          | 460/500 [46:16<04:02,  6.07s/it]"
     ]
    },
    {
     "name": "stdout",
     "output_type": "stream",
     "text": [
      "459\t9\t9\t2.46326\tTrue\tTrue\t0:00:06.120760\n"
     ]
    },
    {
     "name": "stderr",
     "output_type": "stream",
     "text": [
      " 92%|████████████████████████████████████████████████████████████████████████████████████████████████████████████████████████████▍          | 461/500 [46:22<03:54,  6.02s/it]"
     ]
    },
    {
     "name": "stdout",
     "output_type": "stream",
     "text": [
      "460\t8\t8\t2.46326\tTrue\tTrue\t0:00:05.900221\n"
     ]
    },
    {
     "name": "stderr",
     "output_type": "stream",
     "text": [
      " 92%|████████████████████████████████████████████████████████████████████████████████████████████████████████████████████████████▋          | 462/500 [46:28<03:47,  5.99s/it]"
     ]
    },
    {
     "name": "stdout",
     "output_type": "stream",
     "text": [
      "461\t7\t5\t0.28785\tFalse\tFalse\t0:00:05.922542\n"
     ]
    },
    {
     "name": "stderr",
     "output_type": "stream",
     "text": [
      " 93%|█████████████████████████████████████████████████████████████████████████████████████████████████████████████████████████████          | 463/500 [46:34<03:41,  6.00s/it]"
     ]
    },
    {
     "name": "stdout",
     "output_type": "stream",
     "text": [
      "462\t3\t3\t2.46326\tTrue\tTrue\t0:00:06.013747\n"
     ]
    },
    {
     "name": "stderr",
     "output_type": "stream",
     "text": [
      " 93%|█████████████████████████████████████████████████████████████████████████████████████████████████████████████████████████████▎         | 464/500 [46:40<03:36,  6.01s/it]"
     ]
    },
    {
     "name": "stdout",
     "output_type": "stream",
     "text": [
      "463\t0\t0\t2.46326\tTrue\tTrue\t0:00:06.030701\n"
     ]
    },
    {
     "name": "stderr",
     "output_type": "stream",
     "text": [
      " 93%|█████████████████████████████████████████████████████████████████████████████████████████████████████████████████████████████▌         | 465/500 [46:46<03:32,  6.06s/it]"
     ]
    },
    {
     "name": "stdout",
     "output_type": "stream",
     "text": [
      "464\t1\t1\t2.46326\tTrue\tTrue\t0:00:06.184363\n"
     ]
    },
    {
     "name": "stderr",
     "output_type": "stream",
     "text": [
      " 93%|█████████████████████████████████████████████████████████████████████████████████████████████████████████████████████████████▊         | 466/500 [46:52<03:25,  6.03s/it]"
     ]
    },
    {
     "name": "stdout",
     "output_type": "stream",
     "text": [
      "465\t4\t4\t2.46326\tTrue\tTrue\t0:00:05.955619\n"
     ]
    },
    {
     "name": "stderr",
     "output_type": "stream",
     "text": [
      " 93%|██████████████████████████████████████████████████████████████████████████████████████████████████████████████████████████████         | 467/500 [46:58<03:17,  5.99s/it]"
     ]
    },
    {
     "name": "stdout",
     "output_type": "stream",
     "text": [
      "466\t9\t8\t0.34478\tFalse\tFalse\t0:00:05.896493\n"
     ]
    },
    {
     "name": "stderr",
     "output_type": "stream",
     "text": [
      " 94%|██████████████████████████████████████████████████████████████████████████████████████████████████████████████████████████████▎        | 468/500 [47:04<03:13,  6.05s/it]"
     ]
    },
    {
     "name": "stdout",
     "output_type": "stream",
     "text": [
      "467\t3\t3\t2.46326\tTrue\tTrue\t0:00:06.185189\n"
     ]
    },
    {
     "name": "stderr",
     "output_type": "stream",
     "text": [
      " 94%|██████████████████████████████████████████████████████████████████████████████████████████████████████████████████████████████▋        | 469/500 [47:10<03:07,  6.04s/it]"
     ]
    },
    {
     "name": "stdout",
     "output_type": "stream",
     "text": [
      "468\t2\t2\t2.46326\tTrue\tTrue\t0:00:06.016814\n"
     ]
    },
    {
     "name": "stderr",
     "output_type": "stream",
     "text": [
      " 94%|██████████████████████████████████████████████████████████████████████████████████████████████████████████████████████████████▉        | 470/500 [47:16<03:00,  6.03s/it]"
     ]
    },
    {
     "name": "stdout",
     "output_type": "stream",
     "text": [
      "469\t5\t7\t2.46326\tFalse\tFalse\t0:00:06.004496\n"
     ]
    },
    {
     "name": "stderr",
     "output_type": "stream",
     "text": [
      " 94%|███████████████████████████████████████████████████████████████████████████████████████████████████████████████████████████████▏       | 471/500 [47:22<02:55,  6.04s/it]"
     ]
    },
    {
     "name": "stdout",
     "output_type": "stream",
     "text": [
      "470\t2\t2\t2.46326\tTrue\tTrue\t0:00:06.074529\n"
     ]
    },
    {
     "name": "stderr",
     "output_type": "stream",
     "text": [
      " 94%|███████████████████████████████████████████████████████████████████████████████████████████████████████████████████████████████▍       | 472/500 [47:28<02:48,  6.01s/it]"
     ]
    },
    {
     "name": "stdout",
     "output_type": "stream",
     "text": [
      "471\t4\t4\t1.61599\tTrue\tTrue\t0:00:05.939356\n"
     ]
    },
    {
     "name": "stderr",
     "output_type": "stream",
     "text": [
      " 95%|███████████████████████████████████████████████████████████████████████████████████████████████████████████████████████████████▋       | 473/500 [47:34<02:42,  6.03s/it]"
     ]
    },
    {
     "name": "stdout",
     "output_type": "stream",
     "text": [
      "472\t7\t7\t2.46326\tTrue\tTrue\t0:00:06.053870\n"
     ]
    },
    {
     "name": "stderr",
     "output_type": "stream",
     "text": [
      " 95%|███████████████████████████████████████████████████████████████████████████████████████████████████████████████████████████████▉       | 474/500 [47:40<02:35,  5.99s/it]"
     ]
    },
    {
     "name": "stdout",
     "output_type": "stream",
     "text": [
      "473\t8\t8\t2.46326\tTrue\tTrue\t0:00:05.912972\n"
     ]
    },
    {
     "name": "stderr",
     "output_type": "stream",
     "text": [
      " 95%|████████████████████████████████████████████████████████████████████████████████████████████████████████████████████████████████▎      | 475/500 [47:46<02:28,  5.93s/it]"
     ]
    },
    {
     "name": "stdout",
     "output_type": "stream",
     "text": [
      "474\t7\t7\t2.46326\tTrue\tTrue\t0:00:05.791883\n"
     ]
    },
    {
     "name": "stderr",
     "output_type": "stream",
     "text": [
      " 95%|████████████████████████████████████████████████████████████████████████████████████████████████████████████████████████████████▌      | 476/500 [47:52<02:24,  6.01s/it]"
     ]
    },
    {
     "name": "stdout",
     "output_type": "stream",
     "text": [
      "475\t3\t3\t2.46326\tTrue\tTrue\t0:00:06.188801\n"
     ]
    },
    {
     "name": "stderr",
     "output_type": "stream",
     "text": [
      " 95%|████████████████████████████████████████████████████████████████████████████████████████████████████████████████████████████████▊      | 477/500 [47:58<02:18,  6.04s/it]"
     ]
    },
    {
     "name": "stdout",
     "output_type": "stream",
     "text": [
      "476\t8\t8\t2.46326\tTrue\tTrue\t0:00:06.102576\n"
     ]
    },
    {
     "name": "stderr",
     "output_type": "stream",
     "text": [
      " 96%|█████████████████████████████████████████████████████████████████████████████████████████████████████████████████████████████████      | 478/500 [48:04<02:12,  6.03s/it]"
     ]
    },
    {
     "name": "stdout",
     "output_type": "stream",
     "text": [
      "477\t7\t7\t2.46326\tTrue\tTrue\t0:00:06.001757\n"
     ]
    },
    {
     "name": "stderr",
     "output_type": "stream",
     "text": [
      " 96%|█████████████████████████████████████████████████████████████████████████████████████████████████████████████████████████████████▎     | 479/500 [48:10<02:06,  6.02s/it]"
     ]
    },
    {
     "name": "stdout",
     "output_type": "stream",
     "text": [
      "478\t9\t9\t2.46326\tTrue\tTrue\t0:00:05.996497\n"
     ]
    },
    {
     "name": "stderr",
     "output_type": "stream",
     "text": [
      " 96%|█████████████████████████████████████████████████████████████████████████████████████████████████████████████████████████████████▌     | 480/500 [48:16<01:59,  5.99s/it]"
     ]
    },
    {
     "name": "stdout",
     "output_type": "stream",
     "text": [
      "479\t1\t1\t2.46326\tTrue\tTrue\t0:00:05.911260\n"
     ]
    },
    {
     "name": "stderr",
     "output_type": "stream",
     "text": [
      " 96%|█████████████████████████████████████████████████████████████████████████████████████████████████████████████████████████████████▊     | 481/500 [48:22<01:53,  5.96s/it]"
     ]
    },
    {
     "name": "stdout",
     "output_type": "stream",
     "text": [
      "480\t5\t5\t2.46326\tTrue\tTrue\t0:00:05.880649\n"
     ]
    },
    {
     "name": "stderr",
     "output_type": "stream",
     "text": [
      " 96%|██████████████████████████████████████████████████████████████████████████████████████████████████████████████████████████████████▏    | 482/500 [48:28<01:47,  5.96s/it]"
     ]
    },
    {
     "name": "stdout",
     "output_type": "stream",
     "text": [
      "481\t0\t0\t2.46326\tTrue\tTrue\t0:00:05.964112\n"
     ]
    },
    {
     "name": "stderr",
     "output_type": "stream",
     "text": [
      " 97%|██████████████████████████████████████████████████████████████████████████████████████████████████████████████████████████████████▍    | 483/500 [48:34<01:41,  5.95s/it]"
     ]
    },
    {
     "name": "stdout",
     "output_type": "stream",
     "text": [
      "482\t4\t4\t2.46326\tTrue\tTrue\t0:00:05.934550\n"
     ]
    },
    {
     "name": "stderr",
     "output_type": "stream",
     "text": [
      " 97%|██████████████████████████████████████████████████████████████████████████████████████████████████████████████████████████████████▋    | 484/500 [48:40<01:35,  5.97s/it]"
     ]
    },
    {
     "name": "stdout",
     "output_type": "stream",
     "text": [
      "483\t9\t9\t2.46326\tTrue\tTrue\t0:00:06.019207\n"
     ]
    },
    {
     "name": "stderr",
     "output_type": "stream",
     "text": [
      " 97%|██████████████████████████████████████████████████████████████████████████████████████████████████████████████████████████████████▉    | 485/500 [48:46<01:30,  6.04s/it]"
     ]
    },
    {
     "name": "stdout",
     "output_type": "stream",
     "text": [
      "484\t7\t7\t2.46326\tTrue\tTrue\t0:00:06.184704\n"
     ]
    },
    {
     "name": "stderr",
     "output_type": "stream",
     "text": [
      " 97%|███████████████████████████████████████████████████████████████████████████████████████████████████████████████████████████████████▏   | 486/500 [48:52<01:24,  6.03s/it]"
     ]
    },
    {
     "name": "stdout",
     "output_type": "stream",
     "text": [
      "485\t7\t7\t2.46326\tTrue\tTrue\t0:00:05.996926\n"
     ]
    },
    {
     "name": "stderr",
     "output_type": "stream",
     "text": [
      " 97%|███████████████████████████████████████████████████████████████████████████████████████████████████████████████████████████████████▍   | 487/500 [48:58<01:18,  6.04s/it]"
     ]
    },
    {
     "name": "stdout",
     "output_type": "stream",
     "text": [
      "486\t4\t4\t2.46326\tTrue\tTrue\t0:00:06.058492\n"
     ]
    },
    {
     "name": "stderr",
     "output_type": "stream",
     "text": [
      " 98%|███████████████████████████████████████████████████████████████████████████████████████████████████████████████████████████████████▊   | 488/500 [49:04<01:12,  6.01s/it]"
     ]
    },
    {
     "name": "stdout",
     "output_type": "stream",
     "text": [
      "487\t7\t7\t2.46326\tTrue\tTrue\t0:00:05.939316\n"
     ]
    },
    {
     "name": "stderr",
     "output_type": "stream",
     "text": [
      " 98%|████████████████████████████████████████████████████████████████████████████████████████████████████████████████████████████████████   | 489/500 [49:10<01:05,  5.96s/it]"
     ]
    },
    {
     "name": "stdout",
     "output_type": "stream",
     "text": [
      "488\t1\t1\t2.46326\tTrue\tTrue\t0:00:05.851296\n"
     ]
    },
    {
     "name": "stderr",
     "output_type": "stream",
     "text": [
      " 98%|████████████████████████████████████████████████████████████████████████████████████████████████████████████████████████████████████▎  | 490/500 [49:16<00:59,  5.96s/it]"
     ]
    },
    {
     "name": "stdout",
     "output_type": "stream",
     "text": [
      "489\t3\t3\t2.46326\tTrue\tTrue\t0:00:05.959584\n"
     ]
    },
    {
     "name": "stderr",
     "output_type": "stream",
     "text": [
      " 98%|████████████████████████████████████████████████████████████████████████████████████████████████████████████████████████████████████▌  | 491/500 [49:22<00:53,  6.00s/it]"
     ]
    },
    {
     "name": "stdout",
     "output_type": "stream",
     "text": [
      "490\t1\t1\t2.46326\tTrue\tTrue\t0:00:06.080564\n"
     ]
    },
    {
     "name": "stderr",
     "output_type": "stream",
     "text": [
      " 98%|████████████████████████████████████████████████████████████████████████████████████████████████████████████████████████████████████▊  | 492/500 [49:28<00:48,  6.03s/it]"
     ]
    },
    {
     "name": "stdout",
     "output_type": "stream",
     "text": [
      "491\t8\t8\t2.46326\tTrue\tTrue\t0:00:06.092049\n"
     ]
    },
    {
     "name": "stderr",
     "output_type": "stream",
     "text": [
      " 99%|█████████████████████████████████████████████████████████████████████████████████████████████████████████████████████████████████████  | 493/500 [49:34<00:42,  6.04s/it]"
     ]
    },
    {
     "name": "stdout",
     "output_type": "stream",
     "text": [
      "492\t2\t2\t2.46326\tTrue\tTrue\t0:00:06.057119\n"
     ]
    },
    {
     "name": "stderr",
     "output_type": "stream",
     "text": [
      " 99%|█████████████████████████████████████████████████████████████████████████████████████████████████████████████████████████████████████▍ | 494/500 [49:40<00:35,  5.98s/it]"
     ]
    },
    {
     "name": "stdout",
     "output_type": "stream",
     "text": [
      "493\t1\t1\t2.46326\tTrue\tTrue\t0:00:05.848129\n"
     ]
    },
    {
     "name": "stderr",
     "output_type": "stream",
     "text": [
      " 99%|█████████████████████████████████████████████████████████████████████████████████████████████████████████████████████████████████████▋ | 495/500 [49:46<00:29,  5.94s/it]"
     ]
    },
    {
     "name": "stdout",
     "output_type": "stream",
     "text": [
      "494\t1\t1\t2.46326\tTrue\tTrue\t0:00:05.857570\n"
     ]
    },
    {
     "name": "stderr",
     "output_type": "stream",
     "text": [
      " 99%|█████████████████████████████████████████████████████████████████████████████████████████████████████████████████████████████████████▉ | 496/500 [49:52<00:23,  5.97s/it]"
     ]
    },
    {
     "name": "stdout",
     "output_type": "stream",
     "text": [
      "495\t9\t9\t2.46326\tTrue\tTrue\t0:00:06.032529\n"
     ]
    },
    {
     "name": "stderr",
     "output_type": "stream",
     "text": [
      " 99%|██████████████████████████████████████████████████████████████████████████████████████████████████████████████████████████████████████▏| 497/500 [49:58<00:18,  6.02s/it]"
     ]
    },
    {
     "name": "stdout",
     "output_type": "stream",
     "text": [
      "496\t6\t6\t2.46326\tTrue\tTrue\t0:00:06.140059\n"
     ]
    },
    {
     "name": "stderr",
     "output_type": "stream",
     "text": [
      "100%|██████████████████████████████████████████████████████████████████████████████████████████████████████████████████████████████████████▍| 498/500 [50:04<00:12,  6.06s/it]"
     ]
    },
    {
     "name": "stdout",
     "output_type": "stream",
     "text": [
      "497\t1\t1\t2.46326\tTrue\tTrue\t0:00:06.153129\n"
     ]
    },
    {
     "name": "stderr",
     "output_type": "stream",
     "text": [
      "100%|██████████████████████████████████████████████████████████████████████████████████████████████████████████████████████████████████████▋| 499/500 [50:10<00:06,  6.05s/it]"
     ]
    },
    {
     "name": "stdout",
     "output_type": "stream",
     "text": [
      "498\t0\t0\t2.46326\tTrue\tTrue\t0:00:06.002756\n"
     ]
    },
    {
     "name": "stderr",
     "output_type": "stream",
     "text": [
      "100%|███████████████████████████████████████████████████████████████████████████████████████████████████████████████████████████████████████| 500/500 [50:16<00:00,  6.03s/it]"
     ]
    },
    {
     "name": "stdout",
     "output_type": "stream",
     "text": [
      "499\t8\t8\t2.46326\tTrue\tTrue\t0:00:06.043417\n",
      "Total 500 Certified 428 Certified Acc 0.856 Test Acc 0.868\n"
     ]
    },
    {
     "name": "stderr",
     "output_type": "stream",
     "text": [
      "\n"
     ]
    }
   ],
   "source": [
    "args.base_classifier = \"../../tss_weights/cifar10/resnet110/brightness-contrast/0.3_0.3/consistency/checkpoint.pth.tar\"\n",
    "# args.base_classifier = \"../../new_results/cifar100_resnet110_cifar100_cb_cifar100_cb_checkpoint.pth.tar\"\n",
    "\n",
    "args.dataset = 'cifar10'\n",
    "\n",
    "dataset = our_cifar10_500\n",
    "\n",
    "\n",
    "\n",
    "device = torch.device('cuda')\n",
    "\n",
    "checkpoint = torch.load(args.base_classifier, map_location=device)\n",
    "base_classifier = get_architecture(checkpoint[\"arch\"], args.dataset, device=device)\n",
    "base_classifier.load_state_dict(checkpoint[\"state_dict\"])\n",
    "\n",
    "\n",
    "img_size, param_size = get_size(args)\n",
    "\n",
    "model_t = img2img_get_model(args, img_size, param_size,parallel=False)\n",
    "\n",
    "trans_path = None\n",
    "if trans_path is not None:\n",
    "    state_dict = torch.load(trans_path)['state_dict']\n",
    "    model_t.load_state_dict(state_dict)\n",
    "# model_t = load_parallel_model(model_t, state_dict)\n",
    "\n",
    "# to device\n",
    "base_classifier.to(device)\n",
    "base_classifier.eval()\n",
    "model_t.to(device)\n",
    "model_t.eval()\n",
    "\n",
    "\n",
    "#load dataset\n",
    "\n",
    "# corruptor\n",
    "corruptor = Corruption(args, co_type=args.corrupt,add_noise=args.add_noise,noise_sd=args.noise_sd,distribution=args.noise_dst)\n",
    "\n",
    "# create the smooothed classifier g\n",
    "smoothed_classifier = TSmooth(base_classifier, None, corruptor, get_num_classes(args.dataset),args.noise_dst,args.noise_sd, args.add_noise)\n",
    "\n",
    "# prepare output file\n",
    "f = open(args.outfile+'_'+args.dataset+'_'+args.corrupt+'_'+str(args.noise_sd), 'w')\n",
    "print(\"idx\\tlabel\\tpredict\\tradius\\tgood\\tcorrect\\ttime\", file=f, flush=True)\n",
    "print(\"idx\\tlabel\\tpredict\\tradius\\tgood\\tcorrect\\ttime\")\n",
    "\n",
    "tot, tot_good, tot_correct = 0, 0, 0\n",
    "\n",
    "# for gaussian smooth\n",
    "attack_radius = args.partial_max\n",
    "\n",
    "\n",
    "# dataset = get_dataset(args.dataset, args.split)\n",
    "dataset = our_cifar10_500\n",
    "for i in tqdm(range(len(dataset))):\n",
    "\n",
    "#     # only certify every args.skip examples, and stop after args.max examples\n",
    "#     if i % args.skip != 0:\n",
    "#         continue\n",
    "#     if i == args.max:\n",
    "#         break\n",
    "\n",
    "    (x, label) = dataset[i]\n",
    "\n",
    "    before_time = time()\n",
    "    x = x.to(device)\n",
    "    prediction, radius = smoothed_classifier.certify(x, args.N0, args.N, args.alpha, args.batch)\n",
    "\n",
    "\n",
    "    correct = (prediction == label).item()\n",
    "    cond1 = radius * args.noise_sd > args.partial_max\n",
    "#     print(cond1.dtype)\n",
    "#     print(correct.dtype)\n",
    "    good = (radius * args.noise_sd > args.partial_max)&correct\n",
    "\n",
    "    tot, tot_good, tot_correct = tot+1, tot_good+good, tot_correct+correct\n",
    "    after_time = time()\n",
    "    time_elapsed = str(datetime.timedelta(seconds=(after_time - before_time)))\n",
    "    print(\"{}\\t{}\\t{}\\t{:.5f}\\t{}\\t{}\\t{}\".format(i, label, prediction, radius, good, correct, time_elapsed))\n",
    "\n",
    "f.close()\n",
    "\n",
    "print(\"Total {} Certified {} Certified Acc {} Test Acc {}\".format(tot, tot_good, tot_good/tot, tot_correct/tot))\n",
    "\n",
    "f = open(args.outfile+'_'+args.dataset+'_'+args.corrupt+'_'+str(args.noise_sd), 'w')\n",
    "print(\"Total {} Certified {} Certified Acc {} Test Acc {}\".format(tot, tot_good, tot_good/tot, tot_correct/tot), file=f, flush=True)\n",
    "f.close()"
   ]
  },
  {
   "cell_type": "code",
   "execution_count": 15,
   "id": "6afb76ff",
   "metadata": {},
   "outputs": [],
   "source": [
    "rrrr = (tot, tot_good, tot_good/tot, tot_correct/tot)\n"
   ]
  },
  {
   "cell_type": "code",
   "execution_count": 16,
   "id": "96aeed2f",
   "metadata": {},
   "outputs": [
    {
     "name": "stdout",
     "output_type": "stream",
     "text": [
      "0.856\n"
     ]
    }
   ],
   "source": [
    "print(rrrr[2])"
   ]
  },
  {
   "cell_type": "markdown",
   "id": "bfee3708",
   "metadata": {},
   "source": [
    "## CIFAR-100"
   ]
  },
  {
   "cell_type": "code",
   "execution_count": 31,
   "id": "57f81787",
   "metadata": {},
   "outputs": [
    {
     "name": "stdout",
     "output_type": "stream",
     "text": [
      "idx\tlabel\tpredict\tradius\tgood\tcorrect\ttime\n"
     ]
    },
    {
     "name": "stderr",
     "output_type": "stream",
     "text": [
      "  0%|▏                                                                                         | 1/500 [00:08<1:09:05,  8.31s/it]"
     ]
    },
    {
     "name": "stdout",
     "output_type": "stream",
     "text": [
      "0\t10\t10\t0.84282\tFalse\tTrue\t0:00:08.307408\n"
     ]
    },
    {
     "name": "stderr",
     "output_type": "stream",
     "text": [
      "  0%|▎                                                                                         | 2/500 [00:16<1:09:23,  8.36s/it]"
     ]
    },
    {
     "name": "stdout",
     "output_type": "stream",
     "text": [
      "1\t46\t62\t0.05969\tFalse\tFalse\t0:00:08.394137\n"
     ]
    },
    {
     "name": "stderr",
     "output_type": "stream",
     "text": [
      "  1%|▌                                                                                         | 3/500 [00:25<1:10:11,  8.47s/it]"
     ]
    },
    {
     "name": "stdout",
     "output_type": "stream",
     "text": [
      "2\t50\t74\t1.34627\tFalse\tFalse\t0:00:08.603983\n"
     ]
    },
    {
     "name": "stderr",
     "output_type": "stream",
     "text": [
      "  1%|▋                                                                                         | 4/500 [00:33<1:08:10,  8.25s/it]"
     ]
    },
    {
     "name": "stdout",
     "output_type": "stream",
     "text": [
      "3\t14\t6\t2.46326\tFalse\tFalse\t0:00:07.895846\n"
     ]
    },
    {
     "name": "stderr",
     "output_type": "stream",
     "text": [
      "  1%|▉                                                                                         | 5/500 [00:41<1:07:33,  8.19s/it]"
     ]
    },
    {
     "name": "stdout",
     "output_type": "stream",
     "text": [
      "4\t37\t37\t2.46326\tTrue\tTrue\t0:00:08.083117\n"
     ]
    },
    {
     "name": "stderr",
     "output_type": "stream",
     "text": [
      "  1%|█                                                                                         | 6/500 [00:49<1:06:21,  8.06s/it]"
     ]
    },
    {
     "name": "stdout",
     "output_type": "stream",
     "text": [
      "5\t39\t39\t2.46326\tTrue\tTrue\t0:00:07.806759\n"
     ]
    },
    {
     "name": "stderr",
     "output_type": "stream",
     "text": [
      "  1%|█▎                                                                                        | 7/500 [00:56<1:05:14,  7.94s/it]"
     ]
    },
    {
     "name": "stdout",
     "output_type": "stream",
     "text": [
      "6\t65\t51\t1.61599\tFalse\tFalse\t0:00:07.690310\n"
     ]
    },
    {
     "name": "stderr",
     "output_type": "stream",
     "text": [
      "  2%|█▍                                                                                        | 8/500 [01:04<1:04:46,  7.90s/it]"
     ]
    },
    {
     "name": "stdout",
     "output_type": "stream",
     "text": [
      "7\t25\t25\t0.99306\tFalse\tTrue\t0:00:07.811246\n"
     ]
    },
    {
     "name": "stderr",
     "output_type": "stream",
     "text": [
      "  2%|█▌                                                                                        | 9/500 [01:12<1:05:09,  7.96s/it]"
     ]
    },
    {
     "name": "stdout",
     "output_type": "stream",
     "text": [
      "8\t75\t75\t2.46326\tTrue\tTrue\t0:00:08.095932\n"
     ]
    },
    {
     "name": "stderr",
     "output_type": "stream",
     "text": [
      "  2%|█▊                                                                                       | 10/500 [01:20<1:04:35,  7.91s/it]"
     ]
    },
    {
     "name": "stdout",
     "output_type": "stream",
     "text": [
      "9\t10\t91\t2.46326\tFalse\tFalse\t0:00:07.787515\n"
     ]
    },
    {
     "name": "stderr",
     "output_type": "stream",
     "text": [
      "  2%|█▉                                                                                       | 11/500 [01:29<1:05:56,  8.09s/it]"
     ]
    },
    {
     "name": "stdout",
     "output_type": "stream",
     "text": [
      "10\t44\t39\t2.46326\tFalse\tFalse\t0:00:08.496660\n"
     ]
    },
    {
     "name": "stderr",
     "output_type": "stream",
     "text": [
      "  2%|██▏                                                                                      | 12/500 [01:37<1:06:18,  8.15s/it]"
     ]
    },
    {
     "name": "stdout",
     "output_type": "stream",
     "text": [
      "11\t11\t11\t2.46326\tTrue\tTrue\t0:00:08.290949\n"
     ]
    },
    {
     "name": "stderr",
     "output_type": "stream",
     "text": [
      "  3%|██▎                                                                                      | 13/500 [01:45<1:06:49,  8.23s/it]"
     ]
    },
    {
     "name": "stdout",
     "output_type": "stream",
     "text": [
      "12\t90\t90\t1.33193\tFalse\tTrue\t0:00:08.414917\n"
     ]
    },
    {
     "name": "stderr",
     "output_type": "stream",
     "text": [
      "  3%|██▍                                                                                      | 14/500 [01:54<1:08:03,  8.40s/it]"
     ]
    },
    {
     "name": "stdout",
     "output_type": "stream",
     "text": [
      "13\t79\t6\t2.46326\tFalse\tFalse\t0:00:08.716013\n"
     ]
    },
    {
     "name": "stderr",
     "output_type": "stream",
     "text": [
      "  3%|██▋                                                                                      | 15/500 [02:02<1:05:57,  8.16s/it]"
     ]
    },
    {
     "name": "stdout",
     "output_type": "stream",
     "text": [
      "14\t52\t52\t2.46326\tTrue\tTrue\t0:00:07.591212\n"
     ]
    },
    {
     "name": "stderr",
     "output_type": "stream",
     "text": [
      "  3%|██▊                                                                                      | 16/500 [02:10<1:06:08,  8.20s/it]"
     ]
    },
    {
     "name": "stdout",
     "output_type": "stream",
     "text": [
      "15\t10\t10\t2.46326\tTrue\tTrue\t0:00:08.289288\n"
     ]
    },
    {
     "name": "stderr",
     "output_type": "stream",
     "text": [
      "  3%|███                                                                                      | 17/500 [02:18<1:06:16,  8.23s/it]"
     ]
    },
    {
     "name": "stdout",
     "output_type": "stream",
     "text": [
      "16\t82\t82\t1.61599\tTrue\tTrue\t0:00:08.312316\n"
     ]
    },
    {
     "name": "stderr",
     "output_type": "stream",
     "text": [
      "  4%|███▏                                                                                     | 18/500 [02:27<1:07:14,  8.37s/it]"
     ]
    },
    {
     "name": "stdout",
     "output_type": "stream",
     "text": [
      "17\t13\t13\t2.46326\tTrue\tTrue\t0:00:08.684054\n"
     ]
    },
    {
     "name": "stderr",
     "output_type": "stream",
     "text": [
      "  4%|███▍                                                                                     | 19/500 [02:35<1:06:55,  8.35s/it]"
     ]
    },
    {
     "name": "stdout",
     "output_type": "stream",
     "text": [
      "18\t37\t37\t2.46326\tTrue\tTrue\t0:00:08.209689\n"
     ]
    },
    {
     "name": "stderr",
     "output_type": "stream",
     "text": [
      "  4%|███▌                                                                                     | 20/500 [02:44<1:06:56,  8.37s/it]"
     ]
    },
    {
     "name": "stdout",
     "output_type": "stream",
     "text": [
      "19\t54\t11\t1.16868\tFalse\tFalse\t0:00:08.413896\n"
     ]
    },
    {
     "name": "stderr",
     "output_type": "stream",
     "text": [
      "  4%|███▋                                                                                     | 21/500 [02:51<1:05:24,  8.19s/it]"
     ]
    },
    {
     "name": "stdout",
     "output_type": "stream",
     "text": [
      "20\t95\t95\t2.46326\tTrue\tTrue\t0:00:07.785210\n"
     ]
    },
    {
     "name": "stderr",
     "output_type": "stream",
     "text": [
      "  4%|███▉                                                                                     | 22/500 [03:00<1:05:03,  8.17s/it]"
     ]
    },
    {
     "name": "stdout",
     "output_type": "stream",
     "text": [
      "21\t43\t43\t2.46326\tTrue\tTrue\t0:00:08.098493\n"
     ]
    },
    {
     "name": "stderr",
     "output_type": "stream",
     "text": [
      "  5%|████                                                                                     | 23/500 [03:07<1:04:18,  8.09s/it]"
     ]
    },
    {
     "name": "stdout",
     "output_type": "stream",
     "text": [
      "22\t0\t0\t2.46326\tTrue\tTrue\t0:00:07.907472\n"
     ]
    },
    {
     "name": "stderr",
     "output_type": "stream",
     "text": [
      "  5%|████▎                                                                                    | 24/500 [03:16<1:04:40,  8.15s/it]"
     ]
    },
    {
     "name": "stdout",
     "output_type": "stream",
     "text": [
      "23\t1\t-1\t0.00000\tFalse\tFalse\t0:00:08.293587\n"
     ]
    },
    {
     "name": "stderr",
     "output_type": "stream",
     "text": [
      "  5%|████▍                                                                                    | 25/500 [03:24<1:04:37,  8.16s/it]"
     ]
    },
    {
     "name": "stdout",
     "output_type": "stream",
     "text": [
      "24\t94\t94\t2.46326\tTrue\tTrue\t0:00:08.184517\n"
     ]
    },
    {
     "name": "stderr",
     "output_type": "stream",
     "text": [
      "  5%|████▋                                                                                    | 26/500 [03:32<1:03:24,  8.03s/it]"
     ]
    },
    {
     "name": "stdout",
     "output_type": "stream",
     "text": [
      "25\t82\t82\t2.46326\tTrue\tTrue\t0:00:07.705845\n"
     ]
    },
    {
     "name": "stderr",
     "output_type": "stream",
     "text": [
      "  5%|████▊                                                                                    | 27/500 [03:40<1:03:25,  8.05s/it]"
     ]
    },
    {
     "name": "stdout",
     "output_type": "stream",
     "text": [
      "26\t39\t22\t2.46326\tFalse\tFalse\t0:00:08.085086\n"
     ]
    },
    {
     "name": "stderr",
     "output_type": "stream",
     "text": [
      "  6%|████▉                                                                                    | 28/500 [03:48<1:04:23,  8.19s/it]"
     ]
    },
    {
     "name": "stdout",
     "output_type": "stream",
     "text": [
      "27\t92\t0\t0.78261\tFalse\tFalse\t0:00:08.509641\n"
     ]
    },
    {
     "name": "stderr",
     "output_type": "stream",
     "text": [
      "  6%|█████▏                                                                                   | 29/500 [03:57<1:04:46,  8.25s/it]"
     ]
    },
    {
     "name": "stdout",
     "output_type": "stream",
     "text": [
      "28\t61\t32\t2.46326\tFalse\tFalse\t0:00:08.398963\n"
     ]
    },
    {
     "name": "stderr",
     "output_type": "stream",
     "text": [
      "  6%|█████▎                                                                                   | 30/500 [04:05<1:05:10,  8.32s/it]"
     ]
    },
    {
     "name": "stdout",
     "output_type": "stream",
     "text": [
      "29\t93\t27\t2.46326\tFalse\tFalse\t0:00:08.480124\n"
     ]
    },
    {
     "name": "stderr",
     "output_type": "stream",
     "text": [
      "  6%|█████▌                                                                                   | 31/500 [04:13<1:03:49,  8.17s/it]"
     ]
    },
    {
     "name": "stdout",
     "output_type": "stream",
     "text": [
      "30\t89\t89\t2.46326\tTrue\tTrue\t0:00:07.802100\n"
     ]
    },
    {
     "name": "stderr",
     "output_type": "stream",
     "text": [
      "  6%|█████▋                                                                                   | 32/500 [04:21<1:02:23,  8.00s/it]"
     ]
    },
    {
     "name": "stdout",
     "output_type": "stream",
     "text": [
      "31\t42\t44\t0.46323\tFalse\tFalse\t0:00:07.607064\n"
     ]
    },
    {
     "name": "stderr",
     "output_type": "stream",
     "text": [
      "  7%|█████▊                                                                                   | 33/500 [04:29<1:02:15,  8.00s/it]"
     ]
    },
    {
     "name": "stdout",
     "output_type": "stream",
     "text": [
      "32\t29\t29\t2.46326\tTrue\tTrue\t0:00:07.997176\n"
     ]
    },
    {
     "name": "stderr",
     "output_type": "stream",
     "text": [
      "  7%|██████                                                                                   | 34/500 [04:38<1:04:53,  8.36s/it]"
     ]
    },
    {
     "name": "stdout",
     "output_type": "stream",
     "text": [
      "33\t63\t63\t2.46326\tTrue\tTrue\t0:00:09.184900\n"
     ]
    },
    {
     "name": "stderr",
     "output_type": "stream",
     "text": [
      "  7%|██████▏                                                                                  | 35/500 [04:46<1:03:27,  8.19s/it]"
     ]
    },
    {
     "name": "stdout",
     "output_type": "stream",
     "text": [
      "34\t36\t-1\t0.00000\tFalse\tFalse\t0:00:07.796801\n"
     ]
    },
    {
     "name": "stderr",
     "output_type": "stream",
     "text": [
      "  7%|██████▍                                                                                  | 36/500 [04:54<1:02:55,  8.14s/it]"
     ]
    },
    {
     "name": "stdout",
     "output_type": "stream",
     "text": [
      "35\t51\t62\t0.32022\tFalse\tFalse\t0:00:08.014549\n"
     ]
    },
    {
     "name": "stderr",
     "output_type": "stream",
     "text": [
      "  7%|██████▌                                                                                  | 37/500 [05:02<1:03:09,  8.18s/it]"
     ]
    },
    {
     "name": "stdout",
     "output_type": "stream",
     "text": [
      "36\t44\t18\t1.33193\tFalse\tFalse\t0:00:08.289164\n"
     ]
    },
    {
     "name": "stderr",
     "output_type": "stream",
     "text": [
      "  8%|██████▊                                                                                  | 38/500 [05:10<1:03:43,  8.28s/it]"
     ]
    },
    {
     "name": "stdout",
     "output_type": "stream",
     "text": [
      "37\t16\t16\t2.46326\tTrue\tTrue\t0:00:08.484729\n"
     ]
    },
    {
     "name": "stderr",
     "output_type": "stream",
     "text": [
      "  8%|██████▉                                                                                  | 39/500 [05:18<1:02:29,  8.13s/it]"
     ]
    },
    {
     "name": "stdout",
     "output_type": "stream",
     "text": [
      "38\t67\t67\t0.59633\tFalse\tTrue\t0:00:07.796124\n"
     ]
    },
    {
     "name": "stderr",
     "output_type": "stream",
     "text": [
      "  8%|███████                                                                                  | 40/500 [05:27<1:02:59,  8.22s/it]"
     ]
    },
    {
     "name": "stdout",
     "output_type": "stream",
     "text": [
      "39\t36\t50\t2.46326\tFalse\tFalse\t0:00:08.405287\n"
     ]
    },
    {
     "name": "stderr",
     "output_type": "stream",
     "text": [
      "  8%|███████▎                                                                                 | 41/500 [05:35<1:03:17,  8.27s/it]"
     ]
    },
    {
     "name": "stdout",
     "output_type": "stream",
     "text": [
      "40\t76\t-1\t0.00000\tFalse\tFalse\t0:00:08.403247\n"
     ]
    },
    {
     "name": "stderr",
     "output_type": "stream",
     "text": [
      "  8%|███████▍                                                                                 | 42/500 [05:44<1:04:46,  8.49s/it]"
     ]
    },
    {
     "name": "stdout",
     "output_type": "stream",
     "text": [
      "41\t73\t44\t2.46326\tFalse\tFalse\t0:00:08.899000\n"
     ]
    },
    {
     "name": "stderr",
     "output_type": "stream",
     "text": [
      "  9%|███████▋                                                                                 | 43/500 [05:52<1:04:26,  8.46s/it]"
     ]
    },
    {
     "name": "stdout",
     "output_type": "stream",
     "text": [
      "42\t31\t31\t2.46326\tTrue\tTrue\t0:00:08.398679\n"
     ]
    },
    {
     "name": "stderr",
     "output_type": "stream",
     "text": [
      "  9%|███████▊                                                                                 | 44/500 [06:00<1:03:17,  8.33s/it]"
     ]
    },
    {
     "name": "stdout",
     "output_type": "stream",
     "text": [
      "43\t32\t32\t2.46326\tTrue\tTrue\t0:00:08.012956\n"
     ]
    },
    {
     "name": "stderr",
     "output_type": "stream",
     "text": [
      "  9%|████████                                                                                 | 45/500 [06:09<1:04:12,  8.47s/it]"
     ]
    },
    {
     "name": "stdout",
     "output_type": "stream",
     "text": [
      "44\t97\t72\t1.16308\tFalse\tFalse\t0:00:08.792966\n"
     ]
    },
    {
     "name": "stderr",
     "output_type": "stream",
     "text": [
      "  9%|████████▏                                                                                | 46/500 [06:18<1:04:36,  8.54s/it]"
     ]
    },
    {
     "name": "stdout",
     "output_type": "stream",
     "text": [
      "45\t37\t81\t1.27750\tFalse\tFalse\t0:00:08.696850\n"
     ]
    },
    {
     "name": "stderr",
     "output_type": "stream",
     "text": [
      "  9%|████████▎                                                                                | 47/500 [06:26<1:04:20,  8.52s/it]"
     ]
    },
    {
     "name": "stdout",
     "output_type": "stream",
     "text": [
      "46\t98\t35\t2.46326\tFalse\tFalse\t0:00:08.483562\n"
     ]
    },
    {
     "name": "stderr",
     "output_type": "stream",
     "text": [
      " 10%|████████▌                                                                                | 48/500 [06:35<1:04:51,  8.61s/it]"
     ]
    },
    {
     "name": "stdout",
     "output_type": "stream",
     "text": [
      "47\t56\t47\t2.46326\tFalse\tFalse\t0:00:08.805788\n"
     ]
    },
    {
     "name": "stderr",
     "output_type": "stream",
     "text": [
      " 10%|████████▋                                                                                | 49/500 [06:44<1:06:14,  8.81s/it]"
     ]
    },
    {
     "name": "stdout",
     "output_type": "stream",
     "text": [
      "48\t51\t62\t2.46326\tFalse\tFalse\t0:00:09.287022\n"
     ]
    },
    {
     "name": "stderr",
     "output_type": "stream",
     "text": [
      " 10%|████████▉                                                                                | 50/500 [06:54<1:08:33,  9.14s/it]"
     ]
    },
    {
     "name": "stdout",
     "output_type": "stream",
     "text": [
      "49\t76\t39\t1.02065\tFalse\tFalse\t0:00:09.899354\n"
     ]
    },
    {
     "name": "stderr",
     "output_type": "stream",
     "text": [
      " 10%|█████████                                                                                | 51/500 [07:04<1:08:45,  9.19s/it]"
     ]
    },
    {
     "name": "stdout",
     "output_type": "stream",
     "text": [
      "50\t87\t-1\t0.00000\tFalse\tFalse\t0:00:09.298008\n"
     ]
    },
    {
     "name": "stderr",
     "output_type": "stream",
     "text": [
      " 10%|█████████▎                                                                               | 52/500 [07:13<1:09:19,  9.28s/it]"
     ]
    },
    {
     "name": "stdout",
     "output_type": "stream",
     "text": [
      "51\t81\t81\t0.36130\tFalse\tTrue\t0:00:09.502729\n"
     ]
    },
    {
     "name": "stderr",
     "output_type": "stream",
     "text": [
      " 11%|█████████▍                                                                               | 53/500 [07:22<1:08:04,  9.14s/it]"
     ]
    },
    {
     "name": "stdout",
     "output_type": "stream",
     "text": [
      "52\t33\t33\t2.46326\tTrue\tTrue\t0:00:08.792060\n"
     ]
    },
    {
     "name": "stderr",
     "output_type": "stream",
     "text": [
      " 11%|█████████▌                                                                               | 54/500 [07:31<1:07:35,  9.09s/it]"
     ]
    },
    {
     "name": "stdout",
     "output_type": "stream",
     "text": [
      "53\t90\t90\t2.46326\tTrue\tTrue\t0:00:08.991310\n"
     ]
    },
    {
     "name": "stderr",
     "output_type": "stream",
     "text": [
      " 11%|█████████▊                                                                               | 55/500 [07:40<1:07:14,  9.07s/it]"
     ]
    },
    {
     "name": "stdout",
     "output_type": "stream",
     "text": [
      "54\t33\t33\t2.46326\tTrue\tTrue\t0:00:08.995855\n"
     ]
    },
    {
     "name": "stderr",
     "output_type": "stream",
     "text": [
      " 11%|█████████▉                                                                               | 56/500 [07:49<1:06:03,  8.93s/it]"
     ]
    },
    {
     "name": "stdout",
     "output_type": "stream",
     "text": [
      "55\t86\t39\t2.46326\tFalse\tFalse\t0:00:08.603608\n"
     ]
    },
    {
     "name": "stderr",
     "output_type": "stream",
     "text": [
      " 11%|██████████▏                                                                              | 57/500 [07:57<1:04:32,  8.74s/it]"
     ]
    },
    {
     "name": "stdout",
     "output_type": "stream",
     "text": [
      "56\t51\t-1\t0.00000\tFalse\tFalse\t0:00:08.304087\n"
     ]
    },
    {
     "name": "stderr",
     "output_type": "stream",
     "text": [
      " 12%|██████████▎                                                                              | 58/500 [08:06<1:04:44,  8.79s/it]"
     ]
    },
    {
     "name": "stdout",
     "output_type": "stream",
     "text": [
      "57\t16\t16\t2.46326\tTrue\tTrue\t0:00:08.895059\n"
     ]
    },
    {
     "name": "stderr",
     "output_type": "stream",
     "text": [
      " 12%|██████████▌                                                                              | 59/500 [08:15<1:05:03,  8.85s/it]"
     ]
    },
    {
     "name": "stdout",
     "output_type": "stream",
     "text": [
      "58\t82\t82\t2.46326\tTrue\tTrue\t0:00:08.995722\n"
     ]
    },
    {
     "name": "stderr",
     "output_type": "stream",
     "text": [
      " 12%|██████████▋                                                                              | 60/500 [08:24<1:04:47,  8.83s/it]"
     ]
    },
    {
     "name": "stdout",
     "output_type": "stream",
     "text": [
      "59\t73\t73\t2.46326\tTrue\tTrue\t0:00:08.794076\n"
     ]
    },
    {
     "name": "stderr",
     "output_type": "stream",
     "text": [
      " 12%|██████████▊                                                                              | 61/500 [08:32<1:04:34,  8.83s/it]"
     ]
    },
    {
     "name": "stdout",
     "output_type": "stream",
     "text": [
      "60\t12\t17\t0.49255\tFalse\tFalse\t0:00:08.804021\n"
     ]
    },
    {
     "name": "stderr",
     "output_type": "stream",
     "text": [
      " 12%|███████████                                                                              | 62/500 [08:41<1:03:28,  8.70s/it]"
     ]
    },
    {
     "name": "stdout",
     "output_type": "stream",
     "text": [
      "61\t4\t78\t2.46326\tFalse\tFalse\t0:00:08.386437\n"
     ]
    },
    {
     "name": "stderr",
     "output_type": "stream",
     "text": [
      " 13%|███████████▏                                                                             | 63/500 [08:49<1:03:06,  8.67s/it]"
     ]
    },
    {
     "name": "stdout",
     "output_type": "stream",
     "text": [
      "62\t65\t65\t1.39914\tTrue\tTrue\t0:00:08.512435\n"
     ]
    },
    {
     "name": "stderr",
     "output_type": "stream",
     "text": [
      " 13%|███████████▍                                                                             | 64/500 [08:58<1:03:03,  8.68s/it]"
     ]
    },
    {
     "name": "stdout",
     "output_type": "stream",
     "text": [
      "63\t17\t17\t2.46326\tTrue\tTrue\t0:00:08.704584\n"
     ]
    },
    {
     "name": "stderr",
     "output_type": "stream",
     "text": [
      " 13%|███████████▌                                                                             | 65/500 [09:07<1:02:45,  8.66s/it]"
     ]
    },
    {
     "name": "stdout",
     "output_type": "stream",
     "text": [
      "64\t46\t21\t2.46326\tFalse\tFalse\t0:00:08.605825\n"
     ]
    },
    {
     "name": "stderr",
     "output_type": "stream",
     "text": [
      " 13%|███████████▋                                                                             | 66/500 [09:15<1:02:02,  8.58s/it]"
     ]
    },
    {
     "name": "stdout",
     "output_type": "stream",
     "text": [
      "65\t34\t97\t1.02065\tFalse\tFalse\t0:00:08.387872\n"
     ]
    },
    {
     "name": "stderr",
     "output_type": "stream",
     "text": [
      " 13%|███████████▉                                                                             | 67/500 [09:24<1:02:35,  8.67s/it]"
     ]
    },
    {
     "name": "stdout",
     "output_type": "stream",
     "text": [
      "66\t56\t56\t2.46326\tTrue\tTrue\t0:00:08.895886\n"
     ]
    },
    {
     "name": "stderr",
     "output_type": "stream",
     "text": [
      " 14%|████████████                                                                             | 68/500 [09:33<1:04:01,  8.89s/it]"
     ]
    },
    {
     "name": "stdout",
     "output_type": "stream",
     "text": [
      "67\t5\t25\t0.61541\tFalse\tFalse\t0:00:09.396321\n"
     ]
    },
    {
     "name": "stderr",
     "output_type": "stream",
     "text": [
      " 14%|████████████▎                                                                            | 69/500 [09:42<1:02:49,  8.75s/it]"
     ]
    },
    {
     "name": "stdout",
     "output_type": "stream",
     "text": [
      "68\t73\t18\t0.34478\tFalse\tFalse\t0:00:08.402694\n"
     ]
    },
    {
     "name": "stderr",
     "output_type": "stream",
     "text": [
      " 14%|████████████▍                                                                            | 70/500 [09:52<1:05:10,  9.09s/it]"
     ]
    },
    {
     "name": "stdout",
     "output_type": "stream",
     "text": [
      "69\t47\t52\t1.61599\tFalse\tFalse\t0:00:09.901601\n"
     ]
    },
    {
     "name": "stderr",
     "output_type": "stream",
     "text": [
      " 14%|████████████▋                                                                            | 71/500 [10:01<1:04:47,  9.06s/it]"
     ]
    },
    {
     "name": "stdout",
     "output_type": "stream",
     "text": [
      "70\t60\t-1\t0.00000\tFalse\tFalse\t0:00:08.984922\n"
     ]
    },
    {
     "name": "stderr",
     "output_type": "stream",
     "text": [
      " 14%|████████████▊                                                                            | 72/500 [10:10<1:05:09,  9.14s/it]"
     ]
    },
    {
     "name": "stdout",
     "output_type": "stream",
     "text": [
      "71\t29\t29\t1.01599\tFalse\tTrue\t0:00:09.302496\n"
     ]
    },
    {
     "name": "stderr",
     "output_type": "stream",
     "text": [
      " 15%|████████████▉                                                                            | 73/500 [10:19<1:04:30,  9.06s/it]"
     ]
    },
    {
     "name": "stdout",
     "output_type": "stream",
     "text": [
      "72\t16\t86\t0.53446\tFalse\tFalse\t0:00:08.894968\n"
     ]
    },
    {
     "name": "stderr",
     "output_type": "stream",
     "text": [
      " 15%|█████████████▏                                                                           | 74/500 [10:28<1:04:14,  9.05s/it]"
     ]
    },
    {
     "name": "stdout",
     "output_type": "stream",
     "text": [
      "73\t53\t-1\t0.00000\tFalse\tFalse\t0:00:09.008082\n"
     ]
    },
    {
     "name": "stderr",
     "output_type": "stream",
     "text": [
      " 15%|█████████████▎                                                                           | 75/500 [10:38<1:05:39,  9.27s/it]"
     ]
    },
    {
     "name": "stdout",
     "output_type": "stream",
     "text": [
      "74\t67\t67\t2.46326\tTrue\tTrue\t0:00:09.781636\n"
     ]
    },
    {
     "name": "stderr",
     "output_type": "stream",
     "text": [
      " 15%|█████████████▌                                                                           | 76/500 [10:47<1:05:46,  9.31s/it]"
     ]
    },
    {
     "name": "stdout",
     "output_type": "stream",
     "text": [
      "75\t2\t62\t2.46326\tFalse\tFalse\t0:00:09.396804\n"
     ]
    },
    {
     "name": "stderr",
     "output_type": "stream",
     "text": [
      " 15%|█████████████▋                                                                           | 77/500 [10:56<1:04:47,  9.19s/it]"
     ]
    },
    {
     "name": "stdout",
     "output_type": "stream",
     "text": [
      "76\t63\t42\t0.84282\tFalse\tFalse\t0:00:08.910815\n"
     ]
    },
    {
     "name": "stderr",
     "output_type": "stream",
     "text": [
      " 16%|█████████████▉                                                                           | 78/500 [11:05<1:03:34,  9.04s/it]"
     ]
    },
    {
     "name": "stdout",
     "output_type": "stream",
     "text": [
      "77\t82\t82\t2.46326\tTrue\tTrue\t0:00:08.685922\n"
     ]
    },
    {
     "name": "stderr",
     "output_type": "stream",
     "text": [
      " 16%|██████████████                                                                           | 79/500 [11:14<1:03:07,  9.00s/it]"
     ]
    },
    {
     "name": "stdout",
     "output_type": "stream",
     "text": [
      "78\t79\t79\t2.46326\tTrue\tTrue\t0:00:08.894641\n"
     ]
    },
    {
     "name": "stderr",
     "output_type": "stream",
     "text": [
      " 16%|██████████████▏                                                                          | 80/500 [11:22<1:02:23,  8.91s/it]"
     ]
    },
    {
     "name": "stdout",
     "output_type": "stream",
     "text": [
      "79\t98\t2\t1.33193\tFalse\tFalse\t0:00:08.712609\n"
     ]
    },
    {
     "name": "stderr",
     "output_type": "stream",
     "text": [
      " 16%|██████████████▍                                                                          | 81/500 [11:33<1:06:23,  9.51s/it]"
     ]
    },
    {
     "name": "stdout",
     "output_type": "stream",
     "text": [
      "80\t3\t72\t0.85842\tFalse\tFalse\t0:00:10.888786\n"
     ]
    },
    {
     "name": "stderr",
     "output_type": "stream",
     "text": [
      " 16%|██████████████▌                                                                          | 82/500 [11:42<1:04:58,  9.33s/it]"
     ]
    },
    {
     "name": "stdout",
     "output_type": "stream",
     "text": [
      "81\t42\t42\t2.46326\tTrue\tTrue\t0:00:08.905245\n"
     ]
    },
    {
     "name": "stderr",
     "output_type": "stream",
     "text": [
      " 17%|██████████████▊                                                                          | 83/500 [11:51<1:03:54,  9.19s/it]"
     ]
    },
    {
     "name": "stdout",
     "output_type": "stream",
     "text": [
      "82\t55\t95\t2.46326\tFalse\tFalse\t0:00:08.805166\n"
     ]
    },
    {
     "name": "stderr",
     "output_type": "stream",
     "text": [
      " 17%|██████████████▉                                                                          | 84/500 [12:01<1:05:02,  9.38s/it]"
     ]
    },
    {
     "name": "stdout",
     "output_type": "stream",
     "text": [
      "83\t48\t48\t2.46326\tTrue\tTrue\t0:00:09.814263\n"
     ]
    },
    {
     "name": "stderr",
     "output_type": "stream",
     "text": [
      " 17%|███████████████▏                                                                         | 85/500 [12:10<1:05:19,  9.44s/it]"
     ]
    },
    {
     "name": "stdout",
     "output_type": "stream",
     "text": [
      "84\t82\t51\t0.17212\tFalse\tFalse\t0:00:09.590054\n"
     ]
    },
    {
     "name": "stderr",
     "output_type": "stream",
     "text": [
      " 17%|███████████████▎                                                                         | 86/500 [12:19<1:04:13,  9.31s/it]"
     ]
    },
    {
     "name": "stdout",
     "output_type": "stream",
     "text": [
      "85\t41\t41\t2.46326\tTrue\tTrue\t0:00:08.985140\n"
     ]
    },
    {
     "name": "stderr",
     "output_type": "stream",
     "text": [
      " 17%|███████████████▍                                                                         | 87/500 [12:28<1:03:01,  9.16s/it]"
     ]
    },
    {
     "name": "stdout",
     "output_type": "stream",
     "text": [
      "86\t51\t84\t0.69791\tFalse\tFalse\t0:00:08.801828\n"
     ]
    },
    {
     "name": "stderr",
     "output_type": "stream",
     "text": [
      " 18%|███████████████▋                                                                         | 88/500 [12:37<1:01:43,  8.99s/it]"
     ]
    },
    {
     "name": "stdout",
     "output_type": "stream",
     "text": [
      "87\t88\t97\t2.46326\tFalse\tFalse\t0:00:08.598199\n"
     ]
    },
    {
     "name": "stderr",
     "output_type": "stream",
     "text": [
      " 18%|███████████████▊                                                                         | 89/500 [12:46<1:01:36,  8.99s/it]"
     ]
    },
    {
     "name": "stdout",
     "output_type": "stream",
     "text": [
      "88\t98\t98\t1.13571\tFalse\tTrue\t0:00:09.000571\n"
     ]
    },
    {
     "name": "stderr",
     "output_type": "stream",
     "text": [
      " 18%|████████████████▍                                                                          | 90/500 [12:54<59:50,  8.76s/it]"
     ]
    },
    {
     "name": "stdout",
     "output_type": "stream",
     "text": [
      "89\t24\t69\t2.46326\tFalse\tFalse\t0:00:08.201277\n"
     ]
    },
    {
     "name": "stderr",
     "output_type": "stream",
     "text": [
      " 18%|████████████████▌                                                                          | 91/500 [13:02<58:33,  8.59s/it]"
     ]
    },
    {
     "name": "stdout",
     "output_type": "stream",
     "text": [
      "90\t52\t52\t2.46326\tTrue\tTrue\t0:00:08.201351\n"
     ]
    },
    {
     "name": "stderr",
     "output_type": "stream",
     "text": [
      " 18%|████████████████▋                                                                          | 92/500 [13:11<58:37,  8.62s/it]"
     ]
    },
    {
     "name": "stdout",
     "output_type": "stream",
     "text": [
      "91\t54\t-1\t0.00000\tFalse\tFalse\t0:00:08.608372\n"
     ]
    },
    {
     "name": "stderr",
     "output_type": "stream",
     "text": [
      " 19%|████████████████▉                                                                          | 93/500 [13:20<59:50,  8.82s/it]"
     ]
    },
    {
     "name": "stdout",
     "output_type": "stream",
     "text": [
      "92\t42\t42\t2.46326\tTrue\tTrue\t0:00:09.291169\n"
     ]
    },
    {
     "name": "stderr",
     "output_type": "stream",
     "text": [
      " 19%|█████████████████                                                                          | 94/500 [13:28<58:28,  8.64s/it]"
     ]
    },
    {
     "name": "stdout",
     "output_type": "stream",
     "text": [
      "93\t81\t81\t2.46326\tTrue\tTrue\t0:00:08.214388\n"
     ]
    },
    {
     "name": "stderr",
     "output_type": "stream",
     "text": [
      " 19%|█████████████████▎                                                                         | 95/500 [13:37<58:49,  8.72s/it]"
     ]
    },
    {
     "name": "stdout",
     "output_type": "stream",
     "text": [
      "94\t52\t52\t1.33193\tFalse\tTrue\t0:00:08.807065\n"
     ]
    },
    {
     "name": "stderr",
     "output_type": "stream",
     "text": [
      " 19%|█████████████████▍                                                                         | 96/500 [13:46<58:40,  8.71s/it]"
     ]
    },
    {
     "name": "stdout",
     "output_type": "stream",
     "text": [
      "95\t94\t94\t2.46326\tTrue\tTrue\t0:00:08.702903\n"
     ]
    },
    {
     "name": "stderr",
     "output_type": "stream",
     "text": [
      " 19%|█████████████████▋                                                                         | 97/500 [13:55<59:16,  8.82s/it]"
     ]
    },
    {
     "name": "stdout",
     "output_type": "stream",
     "text": [
      "96\t19\t37\t2.13548\tFalse\tFalse\t0:00:09.001344\n"
     ]
    },
    {
     "name": "stderr",
     "output_type": "stream",
     "text": [
      " 20%|█████████████████▊                                                                         | 98/500 [14:04<58:55,  8.79s/it]"
     ]
    },
    {
     "name": "stdout",
     "output_type": "stream",
     "text": [
      "97\t70\t70\t2.46326\tTrue\tTrue\t0:00:08.720172\n"
     ]
    },
    {
     "name": "stderr",
     "output_type": "stream",
     "text": [
      " 20%|█████████████████▌                                                                       | 99/500 [14:13<1:00:10,  9.00s/it]"
     ]
    },
    {
     "name": "stdout",
     "output_type": "stream",
     "text": [
      "98\t26\t26\t2.46326\tTrue\tTrue\t0:00:09.411987\n"
     ]
    },
    {
     "name": "stderr",
     "output_type": "stream",
     "text": [
      " 20%|██████████████████                                                                        | 100/500 [14:22<59:02,  8.86s/it]"
     ]
    },
    {
     "name": "stdout",
     "output_type": "stream",
     "text": [
      "99\t46\t46\t2.46326\tTrue\tTrue\t0:00:08.511330\n"
     ]
    },
    {
     "name": "stderr",
     "output_type": "stream",
     "text": [
      " 20%|██████████████████▏                                                                       | 101/500 [14:31<58:55,  8.86s/it]"
     ]
    },
    {
     "name": "stdout",
     "output_type": "stream",
     "text": [
      "100\t55\t78\t0.35578\tFalse\tFalse\t0:00:08.873119\n"
     ]
    },
    {
     "name": "stderr",
     "output_type": "stream",
     "text": [
      " 20%|██████████████████▎                                                                       | 102/500 [14:40<59:52,  9.03s/it]"
     ]
    },
    {
     "name": "stdout",
     "output_type": "stream",
     "text": [
      "101\t47\t47\t2.46326\tTrue\tTrue\t0:00:09.411403\n"
     ]
    },
    {
     "name": "stderr",
     "output_type": "stream",
     "text": [
      " 21%|██████████████████▌                                                                       | 103/500 [14:49<59:16,  8.96s/it]"
     ]
    },
    {
     "name": "stdout",
     "output_type": "stream",
     "text": [
      "102\t41\t41\t1.61599\tTrue\tTrue\t0:00:08.794895\n"
     ]
    },
    {
     "name": "stderr",
     "output_type": "stream",
     "text": [
      " 21%|██████████████████▋                                                                       | 104/500 [14:57<56:50,  8.61s/it]"
     ]
    },
    {
     "name": "stdout",
     "output_type": "stream",
     "text": [
      "103\t70\t70\t2.46326\tTrue\tTrue\t0:00:07.804713\n"
     ]
    },
    {
     "name": "stderr",
     "output_type": "stream",
     "text": [
      " 21%|██████████████████▉                                                                       | 105/500 [15:05<56:04,  8.52s/it]"
     ]
    },
    {
     "name": "stdout",
     "output_type": "stream",
     "text": [
      "104\t82\t82\t2.46326\tTrue\tTrue\t0:00:08.295441\n"
     ]
    },
    {
     "name": "stderr",
     "output_type": "stream",
     "text": [
      " 21%|███████████████████                                                                       | 106/500 [15:14<56:06,  8.54s/it]"
     ]
    },
    {
     "name": "stdout",
     "output_type": "stream",
     "text": [
      "105\t49\t49\t2.46326\tTrue\tTrue\t0:00:08.600111\n"
     ]
    },
    {
     "name": "stderr",
     "output_type": "stream",
     "text": [
      " 21%|███████████████████▎                                                                      | 107/500 [15:22<56:15,  8.59s/it]"
     ]
    },
    {
     "name": "stdout",
     "output_type": "stream",
     "text": [
      "106\t94\t94\t2.46326\tTrue\tTrue\t0:00:08.617420\n"
     ]
    },
    {
     "name": "stderr",
     "output_type": "stream",
     "text": [
      " 22%|███████████████████▍                                                                      | 108/500 [15:31<56:42,  8.68s/it]"
     ]
    },
    {
     "name": "stdout",
     "output_type": "stream",
     "text": [
      "107\t9\t9\t2.46326\tTrue\tTrue\t0:00:08.805215\n"
     ]
    },
    {
     "name": "stderr",
     "output_type": "stream",
     "text": [
      " 22%|███████████████████▌                                                                      | 109/500 [15:39<55:49,  8.57s/it]"
     ]
    },
    {
     "name": "stdout",
     "output_type": "stream",
     "text": [
      "108\t70\t82\t2.46326\tFalse\tFalse\t0:00:08.298785\n"
     ]
    },
    {
     "name": "stderr",
     "output_type": "stream",
     "text": [
      " 22%|███████████████████▊                                                                      | 110/500 [15:47<54:33,  8.39s/it]"
     ]
    },
    {
     "name": "stdout",
     "output_type": "stream",
     "text": [
      "109\t97\t-1\t0.00000\tFalse\tFalse\t0:00:07.990015\n"
     ]
    },
    {
     "name": "stderr",
     "output_type": "stream",
     "text": [
      " 22%|███████████████████▉                                                                      | 111/500 [15:56<54:51,  8.46s/it]"
     ]
    },
    {
     "name": "stdout",
     "output_type": "stream",
     "text": [
      "110\t16\t16\t2.46326\tTrue\tTrue\t0:00:08.612205\n"
     ]
    },
    {
     "name": "stderr",
     "output_type": "stream",
     "text": [
      " 22%|████████████████████▏                                                                     | 112/500 [16:04<54:34,  8.44s/it]"
     ]
    },
    {
     "name": "stdout",
     "output_type": "stream",
     "text": [
      "111\t41\t58\t2.46326\tFalse\tFalse\t0:00:08.310527\n"
     ]
    },
    {
     "name": "stderr",
     "output_type": "stream",
     "text": [
      " 23%|████████████████████▎                                                                     | 113/500 [16:12<53:23,  8.28s/it]"
     ]
    },
    {
     "name": "stdout",
     "output_type": "stream",
     "text": [
      "112\t34\t-1\t0.00000\tFalse\tFalse\t0:00:07.896834\n"
     ]
    },
    {
     "name": "stderr",
     "output_type": "stream",
     "text": [
      " 23%|████████████████████▌                                                                     | 114/500 [16:21<53:52,  8.37s/it]"
     ]
    },
    {
     "name": "stdout",
     "output_type": "stream",
     "text": [
      "113\t80\t75\t1.61599\tFalse\tFalse\t0:00:08.594285\n"
     ]
    },
    {
     "name": "stderr",
     "output_type": "stream",
     "text": [
      " 23%|████████████████████▋                                                                     | 115/500 [16:30<54:34,  8.50s/it]"
     ]
    },
    {
     "name": "stdout",
     "output_type": "stream",
     "text": [
      "114\t28\t28\t2.46326\tTrue\tTrue\t0:00:08.807246\n"
     ]
    },
    {
     "name": "stderr",
     "output_type": "stream",
     "text": [
      " 23%|████████████████████▉                                                                     | 116/500 [16:38<54:23,  8.50s/it]"
     ]
    },
    {
     "name": "stdout",
     "output_type": "stream",
     "text": [
      "115\t34\t-1\t0.00000\tFalse\tFalse\t0:00:08.403805\n"
     ]
    },
    {
     "name": "stderr",
     "output_type": "stream",
     "text": [
      " 23%|█████████████████████                                                                     | 117/500 [16:47<54:38,  8.56s/it]"
     ]
    },
    {
     "name": "stdout",
     "output_type": "stream",
     "text": [
      "116\t48\t8\t2.46326\tFalse\tFalse\t0:00:08.698129\n"
     ]
    },
    {
     "name": "stderr",
     "output_type": "stream",
     "text": [
      " 24%|█████████████████████▏                                                                    | 118/500 [16:56<55:08,  8.66s/it]"
     ]
    },
    {
     "name": "stdout",
     "output_type": "stream",
     "text": [
      "117\t80\t93\t2.46326\tFalse\tFalse\t0:00:08.811641\n"
     ]
    },
    {
     "name": "stderr",
     "output_type": "stream",
     "text": [
      " 24%|█████████████████████▍                                                                    | 119/500 [17:04<53:45,  8.47s/it]"
     ]
    },
    {
     "name": "stdout",
     "output_type": "stream",
     "text": [
      "118\t69\t46\t1.61599\tFalse\tFalse\t0:00:08.008660\n"
     ]
    },
    {
     "name": "stderr",
     "output_type": "stream",
     "text": [
      " 24%|█████████████████████▌                                                                    | 120/500 [17:12<53:29,  8.45s/it]"
     ]
    },
    {
     "name": "stdout",
     "output_type": "stream",
     "text": [
      "119\t2\t2\t2.46326\tTrue\tTrue\t0:00:08.400945\n"
     ]
    },
    {
     "name": "stderr",
     "output_type": "stream",
     "text": [
      " 24%|█████████████████████▊                                                                    | 121/500 [17:21<53:37,  8.49s/it]"
     ]
    },
    {
     "name": "stdout",
     "output_type": "stream",
     "text": [
      "120\t38\t34\t2.46326\tFalse\tFalse\t0:00:08.583547\n"
     ]
    },
    {
     "name": "stderr",
     "output_type": "stream",
     "text": [
      " 24%|█████████████████████▉                                                                    | 122/500 [17:30<54:16,  8.61s/it]"
     ]
    },
    {
     "name": "stdout",
     "output_type": "stream",
     "text": [
      "121\t54\t54\t2.46326\tTrue\tTrue\t0:00:08.904297\n"
     ]
    },
    {
     "name": "stderr",
     "output_type": "stream",
     "text": [
      " 25%|██████████████████████▏                                                                   | 123/500 [17:38<53:20,  8.49s/it]"
     ]
    },
    {
     "name": "stdout",
     "output_type": "stream",
     "text": [
      "122\t29\t29\t2.46326\tTrue\tTrue\t0:00:08.199501\n"
     ]
    },
    {
     "name": "stderr",
     "output_type": "stream",
     "text": [
      " 25%|██████████████████████▎                                                                   | 124/500 [17:46<52:50,  8.43s/it]"
     ]
    },
    {
     "name": "stdout",
     "output_type": "stream",
     "text": [
      "123\t64\t34\t2.46326\tFalse\tFalse\t0:00:08.291674\n"
     ]
    },
    {
     "name": "stderr",
     "output_type": "stream",
     "text": [
      " 25%|██████████████████████▌                                                                   | 125/500 [17:55<52:27,  8.39s/it]"
     ]
    },
    {
     "name": "stdout",
     "output_type": "stream",
     "text": [
      "124\t9\t-1\t0.00000\tFalse\tFalse\t0:00:08.303056\n"
     ]
    },
    {
     "name": "stderr",
     "output_type": "stream",
     "text": [
      " 25%|██████████████████████▋                                                                   | 126/500 [18:03<51:56,  8.33s/it]"
     ]
    },
    {
     "name": "stdout",
     "output_type": "stream",
     "text": [
      "125\t91\t91\t2.46326\tTrue\tTrue\t0:00:08.188349\n"
     ]
    },
    {
     "name": "stderr",
     "output_type": "stream",
     "text": [
      " 25%|██████████████████████▊                                                                   | 127/500 [18:12<53:26,  8.60s/it]"
     ]
    },
    {
     "name": "stdout",
     "output_type": "stream",
     "text": [
      "126\t99\t99\t2.46326\tTrue\tTrue\t0:00:09.210507\n"
     ]
    },
    {
     "name": "stderr",
     "output_type": "stream",
     "text": [
      " 26%|███████████████████████                                                                   | 128/500 [18:21<53:17,  8.59s/it]"
     ]
    },
    {
     "name": "stdout",
     "output_type": "stream",
     "text": [
      "127\t79\t14\t0.38911\tFalse\tFalse\t0:00:08.586724\n"
     ]
    },
    {
     "name": "stderr",
     "output_type": "stream",
     "text": [
      " 26%|███████████████████████▏                                                                  | 129/500 [18:31<56:30,  9.14s/it]"
     ]
    },
    {
     "name": "stdout",
     "output_type": "stream",
     "text": [
      "128\t94\t87\t2.46326\tFalse\tFalse\t0:00:10.403754\n"
     ]
    },
    {
     "name": "stderr",
     "output_type": "stream",
     "text": [
      " 26%|███████████████████████▍                                                                  | 130/500 [18:40<56:27,  9.16s/it]"
     ]
    },
    {
     "name": "stdout",
     "output_type": "stream",
     "text": [
      "129\t88\t42\t2.03318\tFalse\tFalse\t0:00:09.196777\n"
     ]
    },
    {
     "name": "stderr",
     "output_type": "stream",
     "text": [
      " 26%|███████████████████████▌                                                                  | 131/500 [18:48<54:10,  8.81s/it]"
     ]
    },
    {
     "name": "stdout",
     "output_type": "stream",
     "text": [
      "130\t64\t66\t2.46326\tFalse\tFalse\t0:00:07.996983\n"
     ]
    },
    {
     "name": "stderr",
     "output_type": "stream",
     "text": [
      " 26%|███████████████████████▊                                                                  | 132/500 [18:57<54:12,  8.84s/it]"
     ]
    },
    {
     "name": "stdout",
     "output_type": "stream",
     "text": [
      "131\t9\t9\t2.46326\tTrue\tTrue\t0:00:08.902575\n"
     ]
    },
    {
     "name": "stderr",
     "output_type": "stream",
     "text": [
      " 27%|███████████████████████▉                                                                  | 133/500 [19:06<54:42,  8.94s/it]"
     ]
    },
    {
     "name": "stdout",
     "output_type": "stream",
     "text": [
      "132\t68\t68\t2.46326\tTrue\tTrue\t0:00:09.190387\n"
     ]
    },
    {
     "name": "stderr",
     "output_type": "stream",
     "text": [
      " 27%|████████████████████████                                                                  | 134/500 [19:15<53:44,  8.81s/it]"
     ]
    },
    {
     "name": "stdout",
     "output_type": "stream",
     "text": [
      "133\t31\t15\t0.58688\tFalse\tFalse\t0:00:08.408689\n"
     ]
    },
    {
     "name": "stderr",
     "output_type": "stream",
     "text": [
      " 27%|████████████████████████▎                                                                 | 135/500 [19:23<53:02,  8.72s/it]"
     ]
    },
    {
     "name": "stdout",
     "output_type": "stream",
     "text": [
      "134\t43\t19\t2.46326\tFalse\tFalse\t0:00:08.509836\n"
     ]
    },
    {
     "name": "stderr",
     "output_type": "stream",
     "text": [
      " 27%|████████████████████████▍                                                                 | 136/500 [19:32<52:41,  8.69s/it]"
     ]
    },
    {
     "name": "stdout",
     "output_type": "stream",
     "text": [
      "135\t26\t-1\t0.00000\tFalse\tFalse\t0:00:08.601780\n"
     ]
    },
    {
     "name": "stderr",
     "output_type": "stream",
     "text": [
      " 27%|████████████████████████▋                                                                 | 137/500 [19:40<51:41,  8.54s/it]"
     ]
    },
    {
     "name": "stdout",
     "output_type": "stream",
     "text": [
      "136\t50\t-1\t0.00000\tFalse\tFalse\t0:00:08.209317\n"
     ]
    },
    {
     "name": "stderr",
     "output_type": "stream",
     "text": [
      " 28%|████████████████████████▊                                                                 | 138/500 [19:49<52:42,  8.74s/it]"
     ]
    },
    {
     "name": "stdout",
     "output_type": "stream",
     "text": [
      "137\t51\t12\t2.28429\tFalse\tFalse\t0:00:09.118536\n"
     ]
    },
    {
     "name": "stderr",
     "output_type": "stream",
     "text": [
      " 28%|█████████████████████████                                                                 | 139/500 [19:59<53:55,  8.96s/it]"
     ]
    },
    {
     "name": "stdout",
     "output_type": "stream",
     "text": [
      "138\t7\t93\t2.46326\tFalse\tFalse\t0:00:09.407644\n"
     ]
    },
    {
     "name": "stderr",
     "output_type": "stream",
     "text": [
      " 28%|█████████████████████████▏                                                                | 140/500 [20:08<53:28,  8.91s/it]"
     ]
    },
    {
     "name": "stdout",
     "output_type": "stream",
     "text": [
      "139\t70\t70\t2.46326\tTrue\tTrue\t0:00:08.796008\n"
     ]
    },
    {
     "name": "stderr",
     "output_type": "stream",
     "text": [
      " 28%|█████████████████████████▍                                                                | 141/500 [20:16<52:57,  8.85s/it]"
     ]
    },
    {
     "name": "stdout",
     "output_type": "stream",
     "text": [
      "140\t56\t56\t2.46326\tTrue\tTrue\t0:00:08.698091\n"
     ]
    },
    {
     "name": "stderr",
     "output_type": "stream",
     "text": [
      " 28%|█████████████████████████▌                                                                | 142/500 [20:26<53:37,  8.99s/it]"
     ]
    },
    {
     "name": "stdout",
     "output_type": "stream",
     "text": [
      "141\t30\t30\t2.46326\tTrue\tTrue\t0:00:09.308712\n"
     ]
    },
    {
     "name": "stderr",
     "output_type": "stream",
     "text": [
      " 29%|█████████████████████████▋                                                                | 143/500 [20:34<52:45,  8.87s/it]"
     ]
    },
    {
     "name": "stdout",
     "output_type": "stream",
     "text": [
      "142\t12\t12\t2.46326\tTrue\tTrue\t0:00:08.502867\n"
     ]
    },
    {
     "name": "stderr",
     "output_type": "stream",
     "text": [
      " 29%|█████████████████████████▉                                                                | 144/500 [20:43<52:20,  8.82s/it]"
     ]
    },
    {
     "name": "stdout",
     "output_type": "stream",
     "text": [
      "143\t93\t23\t1.29740\tFalse\tFalse\t0:00:08.708440\n"
     ]
    },
    {
     "name": "stderr",
     "output_type": "stream",
     "text": [
      " 29%|██████████████████████████                                                                | 145/500 [20:52<52:30,  8.87s/it]"
     ]
    },
    {
     "name": "stdout",
     "output_type": "stream",
     "text": [
      "144\t83\t83\t0.73247\tFalse\tTrue\t0:00:08.995409\n"
     ]
    },
    {
     "name": "stderr",
     "output_type": "stream",
     "text": [
      " 29%|██████████████████████████▎                                                               | 146/500 [21:01<52:02,  8.82s/it]"
     ]
    },
    {
     "name": "stdout",
     "output_type": "stream",
     "text": [
      "145\t4\t77\t1.29740\tFalse\tFalse\t0:00:08.692724\n"
     ]
    },
    {
     "name": "stderr",
     "output_type": "stream",
     "text": [
      " 29%|██████████████████████████▍                                                               | 147/500 [21:09<51:40,  8.78s/it]"
     ]
    },
    {
     "name": "stdout",
     "output_type": "stream",
     "text": [
      "146\t1\t1\t2.46326\tTrue\tTrue\t0:00:08.692848\n"
     ]
    },
    {
     "name": "stderr",
     "output_type": "stream",
     "text": [
      " 30%|██████████████████████████▋                                                               | 148/500 [21:18<51:32,  8.79s/it]"
     ]
    },
    {
     "name": "stdout",
     "output_type": "stream",
     "text": [
      "147\t72\t27\t2.46326\tFalse\tFalse\t0:00:08.794569\n"
     ]
    },
    {
     "name": "stderr",
     "output_type": "stream",
     "text": [
      " 30%|██████████████████████████▊                                                               | 149/500 [21:28<52:49,  9.03s/it]"
     ]
    },
    {
     "name": "stdout",
     "output_type": "stream",
     "text": [
      "148\t78\t32\t0.99306\tFalse\tFalse\t0:00:09.598067\n"
     ]
    },
    {
     "name": "stderr",
     "output_type": "stream",
     "text": [
      " 30%|███████████████████████████                                                               | 150/500 [21:37<52:58,  9.08s/it]"
     ]
    },
    {
     "name": "stdout",
     "output_type": "stream",
     "text": [
      "149\t52\t52\t1.61599\tTrue\tTrue\t0:00:09.195356\n"
     ]
    },
    {
     "name": "stderr",
     "output_type": "stream",
     "text": [
      " 30%|███████████████████████████▏                                                              | 151/500 [21:45<51:27,  8.85s/it]"
     ]
    },
    {
     "name": "stdout",
     "output_type": "stream",
     "text": [
      "150\t47\t59\t1.33193\tFalse\tFalse\t0:00:08.299175\n"
     ]
    },
    {
     "name": "stderr",
     "output_type": "stream",
     "text": [
      " 30%|███████████████████████████▎                                                              | 152/500 [21:54<51:35,  8.89s/it]"
     ]
    },
    {
     "name": "stdout",
     "output_type": "stream",
     "text": [
      "151\t88\t42\t2.46326\tFalse\tFalse\t0:00:09.003448\n"
     ]
    },
    {
     "name": "stderr",
     "output_type": "stream",
     "text": [
      " 31%|███████████████████████████▌                                                              | 153/500 [22:02<49:22,  8.54s/it]"
     ]
    },
    {
     "name": "stdout",
     "output_type": "stream",
     "text": [
      "152\t97\t97\t2.46326\tTrue\tTrue\t0:00:07.704823\n"
     ]
    },
    {
     "name": "stderr",
     "output_type": "stream",
     "text": [
      " 31%|███████████████████████████▋                                                              | 154/500 [22:10<48:49,  8.47s/it]"
     ]
    },
    {
     "name": "stdout",
     "output_type": "stream",
     "text": [
      "153\t28\t28\t2.46326\tTrue\tTrue\t0:00:08.297437\n"
     ]
    },
    {
     "name": "stderr",
     "output_type": "stream",
     "text": [
      " 31%|███████████████████████████▉                                                              | 155/500 [22:19<49:46,  8.66s/it]"
     ]
    },
    {
     "name": "stdout",
     "output_type": "stream",
     "text": [
      "154\t16\t16\t2.46326\tTrue\tTrue\t0:00:09.098163\n"
     ]
    },
    {
     "name": "stderr",
     "output_type": "stream",
     "text": [
      " 31%|████████████████████████████                                                              | 156/500 [22:28<50:22,  8.79s/it]"
     ]
    },
    {
     "name": "stdout",
     "output_type": "stream",
     "text": [
      "155\t92\t70\t2.46326\tFalse\tFalse\t0:00:09.083900\n"
     ]
    },
    {
     "name": "stderr",
     "output_type": "stream",
     "text": [
      " 31%|████████████████████████████▎                                                             | 157/500 [22:37<50:25,  8.82s/it]"
     ]
    },
    {
     "name": "stdout",
     "output_type": "stream",
     "text": [
      "156\t57\t57\t2.46326\tTrue\tTrue\t0:00:08.897508\n"
     ]
    },
    {
     "name": "stderr",
     "output_type": "stream",
     "text": [
      " 32%|████████████████████████████▍                                                             | 158/500 [22:47<51:16,  9.00s/it]"
     ]
    },
    {
     "name": "stdout",
     "output_type": "stream",
     "text": [
      "157\t61\t22\t0.05210\tFalse\tFalse\t0:00:09.401428\n"
     ]
    },
    {
     "name": "stderr",
     "output_type": "stream",
     "text": [
      " 32%|████████████████████████████▌                                                             | 159/500 [22:55<49:46,  8.76s/it]"
     ]
    },
    {
     "name": "stdout",
     "output_type": "stream",
     "text": [
      "158\t18\t40\t0.21896\tFalse\tFalse\t0:00:08.203471\n"
     ]
    },
    {
     "name": "stderr",
     "output_type": "stream",
     "text": [
      " 32%|████████████████████████████▊                                                             | 160/500 [23:04<49:51,  8.80s/it]"
     ]
    },
    {
     "name": "stdout",
     "output_type": "stream",
     "text": [
      "159\t10\t31\t1.33193\tFalse\tFalse\t0:00:08.882930\n"
     ]
    },
    {
     "name": "stderr",
     "output_type": "stream",
     "text": [
      " 32%|████████████████████████████▉                                                             | 161/500 [23:12<49:23,  8.74s/it]"
     ]
    },
    {
     "name": "stdout",
     "output_type": "stream",
     "text": [
      "160\t70\t40\t1.61599\tFalse\tFalse\t0:00:08.610480\n"
     ]
    },
    {
     "name": "stderr",
     "output_type": "stream",
     "text": [
      " 32%|█████████████████████████████▏                                                            | 162/500 [23:21<49:09,  8.73s/it]"
     ]
    },
    {
     "name": "stdout",
     "output_type": "stream",
     "text": [
      "161\t95\t95\t2.46326\tTrue\tTrue\t0:00:08.688956\n"
     ]
    },
    {
     "name": "stderr",
     "output_type": "stream",
     "text": [
      " 33%|█████████████████████████████▎                                                            | 163/500 [23:30<48:48,  8.69s/it]"
     ]
    },
    {
     "name": "stdout",
     "output_type": "stream",
     "text": [
      "162\t89\t45\t0.48664\tFalse\tFalse\t0:00:08.600401\n"
     ]
    },
    {
     "name": "stderr",
     "output_type": "stream",
     "text": [
      " 33%|█████████████████████████████▌                                                            | 164/500 [23:38<48:52,  8.73s/it]"
     ]
    },
    {
     "name": "stdout",
     "output_type": "stream",
     "text": [
      "163\t88\t88\t2.46326\tTrue\tTrue\t0:00:08.807275\n"
     ]
    },
    {
     "name": "stderr",
     "output_type": "stream",
     "text": [
      " 33%|█████████████████████████████▋                                                            | 165/500 [23:47<48:29,  8.69s/it]"
     ]
    },
    {
     "name": "stdout",
     "output_type": "stream",
     "text": [
      "164\t79\t79\t2.46326\tTrue\tTrue\t0:00:08.585663\n"
     ]
    },
    {
     "name": "stderr",
     "output_type": "stream",
     "text": [
      " 33%|█████████████████████████████▉                                                            | 166/500 [23:56<48:22,  8.69s/it]"
     ]
    },
    {
     "name": "stdout",
     "output_type": "stream",
     "text": [
      "165\t76\t76\t2.46326\tTrue\tTrue\t0:00:08.698863\n"
     ]
    },
    {
     "name": "stderr",
     "output_type": "stream",
     "text": [
      " 33%|██████████████████████████████                                                            | 167/500 [24:04<48:15,  8.69s/it]"
     ]
    },
    {
     "name": "stdout",
     "output_type": "stream",
     "text": [
      "166\t67\t67\t1.05400\tFalse\tTrue\t0:00:08.700346\n"
     ]
    },
    {
     "name": "stderr",
     "output_type": "stream",
     "text": [
      " 34%|██████████████████████████████▏                                                           | 168/500 [24:13<47:56,  8.66s/it]"
     ]
    },
    {
     "name": "stdout",
     "output_type": "stream",
     "text": [
      "167\t38\t-1\t0.00000\tFalse\tFalse\t0:00:08.592986\n"
     ]
    },
    {
     "name": "stderr",
     "output_type": "stream",
     "text": [
      " 34%|██████████████████████████████▍                                                           | 169/500 [24:22<48:51,  8.86s/it]"
     ]
    },
    {
     "name": "stdout",
     "output_type": "stream",
     "text": [
      "168\t54\t54\t2.46326\tTrue\tTrue\t0:00:09.296996\n"
     ]
    },
    {
     "name": "stderr",
     "output_type": "stream",
     "text": [
      " 34%|██████████████████████████████▌                                                           | 170/500 [24:32<49:56,  9.08s/it]"
     ]
    },
    {
     "name": "stdout",
     "output_type": "stream",
     "text": [
      "169\t51\t56\t2.46326\tFalse\tFalse\t0:00:09.598917\n"
     ]
    },
    {
     "name": "stderr",
     "output_type": "stream",
     "text": [
      " 34%|██████████████████████████████▊                                                           | 171/500 [24:41<49:48,  9.08s/it]"
     ]
    },
    {
     "name": "stdout",
     "output_type": "stream",
     "text": [
      "170\t37\t12\t0.97958\tFalse\tFalse\t0:00:09.090304\n"
     ]
    },
    {
     "name": "stderr",
     "output_type": "stream",
     "text": [
      " 34%|██████████████████████████████▉                                                           | 172/500 [24:49<48:02,  8.79s/it]"
     ]
    },
    {
     "name": "stdout",
     "output_type": "stream",
     "text": [
      "171\t15\t15\t1.61599\tTrue\tTrue\t0:00:08.098079\n"
     ]
    },
    {
     "name": "stderr",
     "output_type": "stream",
     "text": [
      " 35%|███████████████████████████████▏                                                          | 173/500 [24:57<47:06,  8.64s/it]"
     ]
    },
    {
     "name": "stdout",
     "output_type": "stream",
     "text": [
      "172\t41\t14\t2.46326\tFalse\tFalse\t0:00:08.300961\n"
     ]
    },
    {
     "name": "stderr",
     "output_type": "stream",
     "text": [
      " 35%|███████████████████████████████▎                                                          | 174/500 [25:06<47:13,  8.69s/it]"
     ]
    },
    {
     "name": "stdout",
     "output_type": "stream",
     "text": [
      "173\t4\t-1\t0.00000\tFalse\tFalse\t0:00:08.799676\n"
     ]
    },
    {
     "name": "stderr",
     "output_type": "stream",
     "text": [
      " 35%|███████████████████████████████▍                                                          | 175/500 [25:15<46:46,  8.64s/it]"
     ]
    },
    {
     "name": "stdout",
     "output_type": "stream",
     "text": [
      "174\t64\t63\t2.46326\tFalse\tFalse\t0:00:08.503839\n"
     ]
    },
    {
     "name": "stderr",
     "output_type": "stream",
     "text": [
      " 35%|███████████████████████████████▋                                                          | 176/500 [25:23<46:33,  8.62s/it]"
     ]
    },
    {
     "name": "stdout",
     "output_type": "stream",
     "text": [
      "175\t86\t39\t2.46326\tFalse\tFalse\t0:00:08.509461\n"
     ]
    },
    {
     "name": "stderr",
     "output_type": "stream",
     "text": [
      " 35%|███████████████████████████████▊                                                          | 177/500 [25:32<46:32,  8.64s/it]"
     ]
    },
    {
     "name": "stdout",
     "output_type": "stream",
     "text": [
      "176\t39\t39\t2.46326\tTrue\tTrue\t0:00:08.694611\n"
     ]
    },
    {
     "name": "stderr",
     "output_type": "stream",
     "text": [
      " 36%|████████████████████████████████                                                          | 178/500 [25:40<45:12,  8.42s/it]"
     ]
    },
    {
     "name": "stdout",
     "output_type": "stream",
     "text": [
      "177\t29\t8\t0.77168\tFalse\tFalse\t0:00:07.905040\n"
     ]
    },
    {
     "name": "stderr",
     "output_type": "stream",
     "text": [
      " 36%|████████████████████████████████▏                                                         | 179/500 [25:48<45:02,  8.42s/it]"
     ]
    },
    {
     "name": "stdout",
     "output_type": "stream",
     "text": [
      "178\t29\t29\t2.46326\tTrue\tTrue\t0:00:08.404802\n"
     ]
    },
    {
     "name": "stderr",
     "output_type": "stream",
     "text": [
      " 36%|████████████████████████████████▍                                                         | 180/500 [25:57<45:10,  8.47s/it]"
     ]
    },
    {
     "name": "stdout",
     "output_type": "stream",
     "text": [
      "179\t62\t1\t2.46326\tFalse\tFalse\t0:00:08.582429\n"
     ]
    },
    {
     "name": "stderr",
     "output_type": "stream",
     "text": [
      " 36%|████████████████████████████████▌                                                         | 181/500 [26:06<45:24,  8.54s/it]"
     ]
    },
    {
     "name": "stdout",
     "output_type": "stream",
     "text": [
      "180\t27\t75\t1.33193\tFalse\tFalse\t0:00:08.701637\n"
     ]
    },
    {
     "name": "stderr",
     "output_type": "stream",
     "text": [
      " 36%|████████████████████████████████▊                                                         | 182/500 [26:14<45:40,  8.62s/it]"
     ]
    },
    {
     "name": "stdout",
     "output_type": "stream",
     "text": [
      "181\t85\t85\t2.46326\tTrue\tTrue\t0:00:08.802340\n"
     ]
    },
    {
     "name": "stderr",
     "output_type": "stream",
     "text": [
      " 37%|████████████████████████████████▉                                                         | 183/500 [26:23<45:30,  8.61s/it]"
     ]
    },
    {
     "name": "stdout",
     "output_type": "stream",
     "text": [
      "182\t71\t71\t2.46326\tTrue\tTrue\t0:00:08.597557\n"
     ]
    },
    {
     "name": "stderr",
     "output_type": "stream",
     "text": [
      " 37%|█████████████████████████████████                                                         | 184/500 [26:32<45:38,  8.67s/it]"
     ]
    },
    {
     "name": "stdout",
     "output_type": "stream",
     "text": [
      "183\t7\t-1\t0.00000\tFalse\tFalse\t0:00:08.792401\n"
     ]
    },
    {
     "name": "stderr",
     "output_type": "stream",
     "text": [
      " 37%|█████████████████████████████████▎                                                        | 185/500 [26:40<45:24,  8.65s/it]"
     ]
    },
    {
     "name": "stdout",
     "output_type": "stream",
     "text": [
      "184\t9\t9\t2.46326\tTrue\tTrue\t0:00:08.601374\n"
     ]
    },
    {
     "name": "stderr",
     "output_type": "stream",
     "text": [
      " 37%|█████████████████████████████████▍                                                        | 186/500 [26:49<45:19,  8.66s/it]"
     ]
    },
    {
     "name": "stdout",
     "output_type": "stream",
     "text": [
      "185\t1\t47\t1.30416\tFalse\tFalse\t0:00:08.686872\n"
     ]
    },
    {
     "name": "stderr",
     "output_type": "stream",
     "text": [
      " 37%|█████████████████████████████████▋                                                        | 187/500 [26:58<44:46,  8.58s/it]"
     ]
    },
    {
     "name": "stdout",
     "output_type": "stream",
     "text": [
      "186\t39\t39\t2.46326\tTrue\tTrue\t0:00:08.401871\n"
     ]
    },
    {
     "name": "stderr",
     "output_type": "stream",
     "text": [
      " 38%|█████████████████████████████████▊                                                        | 188/500 [27:06<44:59,  8.65s/it]"
     ]
    },
    {
     "name": "stdout",
     "output_type": "stream",
     "text": [
      "187\t65\t50\t2.46326\tFalse\tFalse\t0:00:08.805270\n"
     ]
    },
    {
     "name": "stderr",
     "output_type": "stream",
     "text": [
      " 38%|██████████████████████████████████                                                        | 189/500 [27:15<45:12,  8.72s/it]"
     ]
    },
    {
     "name": "stdout",
     "output_type": "stream",
     "text": [
      "188\t98\t61\t2.46326\tFalse\tFalse\t0:00:08.881496\n"
     ]
    },
    {
     "name": "stderr",
     "output_type": "stream",
     "text": [
      " 38%|██████████████████████████████████▏                                                       | 190/500 [27:24<45:20,  8.78s/it]"
     ]
    },
    {
     "name": "stdout",
     "output_type": "stream",
     "text": [
      "189\t1\t1\t2.46326\tTrue\tTrue\t0:00:08.905211\n"
     ]
    },
    {
     "name": "stderr",
     "output_type": "stream",
     "text": [
      " 38%|██████████████████████████████████▍                                                       | 191/500 [27:34<46:09,  8.96s/it]"
     ]
    },
    {
     "name": "stdout",
     "output_type": "stream",
     "text": [
      "190\t63\t78\t0.02686\tFalse\tFalse\t0:00:09.396635\n"
     ]
    },
    {
     "name": "stderr",
     "output_type": "stream",
     "text": [
      " 38%|██████████████████████████████████▌                                                       | 192/500 [27:42<45:28,  8.86s/it]"
     ]
    },
    {
     "name": "stdout",
     "output_type": "stream",
     "text": [
      "191\t37\t37\t2.46326\tTrue\tTrue\t0:00:08.604475\n"
     ]
    },
    {
     "name": "stderr",
     "output_type": "stream",
     "text": [
      " 39%|██████████████████████████████████▋                                                       | 193/500 [27:51<45:04,  8.81s/it]"
     ]
    },
    {
     "name": "stdout",
     "output_type": "stream",
     "text": [
      "192\t51\t-1\t0.00000\tFalse\tFalse\t0:00:08.698779\n"
     ]
    },
    {
     "name": "stderr",
     "output_type": "stream",
     "text": [
      " 39%|██████████████████████████████████▉                                                       | 194/500 [28:00<45:13,  8.87s/it]"
     ]
    },
    {
     "name": "stdout",
     "output_type": "stream",
     "text": [
      "193\t71\t23\t0.46033\tFalse\tFalse\t0:00:08.999257\n"
     ]
    },
    {
     "name": "stderr",
     "output_type": "stream",
     "text": [
      " 39%|███████████████████████████████████                                                       | 195/500 [28:08<44:03,  8.67s/it]"
     ]
    },
    {
     "name": "stdout",
     "output_type": "stream",
     "text": [
      "194\t88\t88\t2.46326\tTrue\tTrue\t0:00:08.113369\n"
     ]
    },
    {
     "name": "stderr",
     "output_type": "stream",
     "text": [
      " 39%|███████████████████████████████████▎                                                      | 196/500 [28:16<43:20,  8.55s/it]"
     ]
    },
    {
     "name": "stdout",
     "output_type": "stream",
     "text": [
      "195\t88\t51\t0.04705\tFalse\tFalse\t0:00:08.287863\n"
     ]
    },
    {
     "name": "stderr",
     "output_type": "stream",
     "text": [
      " 39%|███████████████████████████████████▍                                                      | 197/500 [28:24<42:30,  8.42s/it]"
     ]
    },
    {
     "name": "stdout",
     "output_type": "stream",
     "text": [
      "196\t89\t89\t2.46326\tTrue\tTrue\t0:00:08.099270\n"
     ]
    },
    {
     "name": "stderr",
     "output_type": "stream",
     "text": [
      " 40%|███████████████████████████████████▋                                                      | 198/500 [28:33<41:54,  8.33s/it]"
     ]
    },
    {
     "name": "stdout",
     "output_type": "stream",
     "text": [
      "197\t35\t-1\t0.00000\tFalse\tFalse\t0:00:08.107024\n"
     ]
    },
    {
     "name": "stderr",
     "output_type": "stream",
     "text": [
      " 40%|███████████████████████████████████▊                                                      | 199/500 [28:41<41:52,  8.35s/it]"
     ]
    },
    {
     "name": "stdout",
     "output_type": "stream",
     "text": [
      "198\t60\t60\t2.46326\tTrue\tTrue\t0:00:08.390616\n"
     ]
    },
    {
     "name": "stderr",
     "output_type": "stream",
     "text": [
      " 40%|████████████████████████████████████                                                      | 200/500 [28:49<41:47,  8.36s/it]"
     ]
    },
    {
     "name": "stdout",
     "output_type": "stream",
     "text": [
      "199\t20\t20\t2.46326\tTrue\tTrue\t0:00:08.388132\n"
     ]
    },
    {
     "name": "stderr",
     "output_type": "stream",
     "text": [
      " 40%|████████████████████████████████████▏                                                     | 201/500 [28:57<41:07,  8.25s/it]"
     ]
    },
    {
     "name": "stdout",
     "output_type": "stream",
     "text": [
      "200\t14\t6\t2.46326\tFalse\tFalse\t0:00:07.999720\n"
     ]
    },
    {
     "name": "stderr",
     "output_type": "stream",
     "text": [
      " 40%|████████████████████████████████████▎                                                     | 202/500 [29:05<40:02,  8.06s/it]"
     ]
    },
    {
     "name": "stdout",
     "output_type": "stream",
     "text": [
      "201\t95\t95\t2.46326\tTrue\tTrue\t0:00:07.610108\n"
     ]
    },
    {
     "name": "stderr",
     "output_type": "stream",
     "text": [
      " 41%|████████████████████████████████████▌                                                     | 203/500 [29:13<40:33,  8.19s/it]"
     ]
    },
    {
     "name": "stdout",
     "output_type": "stream",
     "text": [
      "202\t42\t42\t2.46326\tTrue\tTrue\t0:00:08.499267\n"
     ]
    },
    {
     "name": "stderr",
     "output_type": "stream",
     "text": [
      " 41%|████████████████████████████████████▋                                                     | 204/500 [29:22<41:36,  8.43s/it]"
     ]
    },
    {
     "name": "stdout",
     "output_type": "stream",
     "text": [
      "203\t25\t25\t2.46326\tTrue\tTrue\t0:00:08.909167\n"
     ]
    },
    {
     "name": "stderr",
     "output_type": "stream",
     "text": [
      " 41%|████████████████████████████████████▉                                                     | 205/500 [29:31<41:33,  8.45s/it]"
     ]
    },
    {
     "name": "stdout",
     "output_type": "stream",
     "text": [
      "204\t91\t77\t0.27181\tFalse\tFalse\t0:00:08.495683\n"
     ]
    },
    {
     "name": "stderr",
     "output_type": "stream",
     "text": [
      " 41%|█████████████████████████████████████                                                     | 206/500 [29:39<41:11,  8.41s/it]"
     ]
    },
    {
     "name": "stdout",
     "output_type": "stream",
     "text": [
      "205\t87\t87\t2.46326\tTrue\tTrue\t0:00:08.302347\n"
     ]
    },
    {
     "name": "stderr",
     "output_type": "stream",
     "text": [
      " 41%|█████████████████████████████████████▎                                                    | 207/500 [29:48<41:19,  8.46s/it]"
     ]
    },
    {
     "name": "stdout",
     "output_type": "stream",
     "text": [
      "206\t25\t18\t0.35578\tFalse\tFalse\t0:00:08.591468\n"
     ]
    },
    {
     "name": "stderr",
     "output_type": "stream",
     "text": [
      " 42%|█████████████████████████████████████▍                                                    | 208/500 [29:56<41:15,  8.48s/it]"
     ]
    },
    {
     "name": "stdout",
     "output_type": "stream",
     "text": [
      "207\t83\t45\t2.46326\tFalse\tFalse\t0:00:08.510368\n"
     ]
    },
    {
     "name": "stderr",
     "output_type": "stream",
     "text": [
      " 42%|█████████████████████████████████████▌                                                    | 209/500 [30:05<41:17,  8.51s/it]"
     ]
    },
    {
     "name": "stdout",
     "output_type": "stream",
     "text": [
      "208\t21\t21\t2.46326\tTrue\tTrue\t0:00:08.516213\n"
     ]
    },
    {
     "name": "stderr",
     "output_type": "stream",
     "text": [
      " 42%|█████████████████████████████████████▊                                                    | 210/500 [30:14<42:16,  8.75s/it]"
     ]
    },
    {
     "name": "stdout",
     "output_type": "stream",
     "text": [
      "209\t18\t18\t2.46326\tTrue\tTrue\t0:00:09.282561\n"
     ]
    },
    {
     "name": "stderr",
     "output_type": "stream",
     "text": [
      " 42%|█████████████████████████████████████▉                                                    | 211/500 [30:23<41:56,  8.71s/it]"
     ]
    },
    {
     "name": "stdout",
     "output_type": "stream",
     "text": [
      "210\t93\t72\t2.46326\tFalse\tFalse\t0:00:08.618781\n"
     ]
    },
    {
     "name": "stderr",
     "output_type": "stream",
     "text": [
      " 42%|██████████████████████████████████████▏                                                   | 212/500 [30:32<42:04,  8.76s/it]"
     ]
    },
    {
     "name": "stdout",
     "output_type": "stream",
     "text": [
      "211\t3\t72\t0.89442\tFalse\tFalse\t0:00:08.817480\n"
     ]
    },
    {
     "name": "stderr",
     "output_type": "stream",
     "text": [
      " 43%|██████████████████████████████████████▎                                                   | 213/500 [30:41<42:14,  8.83s/it]"
     ]
    },
    {
     "name": "stdout",
     "output_type": "stream",
     "text": [
      "212\t92\t62\t2.46326\tFalse\tFalse\t0:00:08.988838\n"
     ]
    },
    {
     "name": "stderr",
     "output_type": "stream",
     "text": [
      " 43%|██████████████████████████████████████▌                                                   | 214/500 [30:50<42:11,  8.85s/it]"
     ]
    },
    {
     "name": "stdout",
     "output_type": "stream",
     "text": [
      "213\t64\t64\t2.46326\tTrue\tTrue\t0:00:08.892171\n"
     ]
    },
    {
     "name": "stderr",
     "output_type": "stream",
     "text": [
      " 43%|██████████████████████████████████████▋                                                   | 215/500 [30:58<41:49,  8.80s/it]"
     ]
    },
    {
     "name": "stdout",
     "output_type": "stream",
     "text": [
      "214\t35\t98\t2.13548\tFalse\tFalse\t0:00:08.693488\n"
     ]
    },
    {
     "name": "stderr",
     "output_type": "stream",
     "text": [
      " 43%|██████████████████████████████████████▉                                                   | 216/500 [31:07<41:16,  8.72s/it]"
     ]
    },
    {
     "name": "stdout",
     "output_type": "stream",
     "text": [
      "215\t64\t66\t2.46326\tFalse\tFalse\t0:00:08.516550\n"
     ]
    },
    {
     "name": "stderr",
     "output_type": "stream",
     "text": [
      " 43%|███████████████████████████████████████                                                   | 217/500 [31:16<41:13,  8.74s/it]"
     ]
    },
    {
     "name": "stdout",
     "output_type": "stream",
     "text": [
      "216\t49\t49\t2.46326\tTrue\tTrue\t0:00:08.702574\n"
     ]
    },
    {
     "name": "stderr",
     "output_type": "stream",
     "text": [
      " 44%|███████████████████████████████████████▏                                                  | 218/500 [31:25<41:18,  8.79s/it]"
     ]
    },
    {
     "name": "stdout",
     "output_type": "stream",
     "text": [
      "217\t37\t37\t2.46326\tTrue\tTrue\t0:00:08.899560\n"
     ]
    },
    {
     "name": "stderr",
     "output_type": "stream",
     "text": [
      " 44%|███████████████████████████████████████▍                                                  | 219/500 [31:33<40:45,  8.70s/it]"
     ]
    },
    {
     "name": "stdout",
     "output_type": "stream",
     "text": [
      "218\t42\t34\t2.46326\tFalse\tFalse\t0:00:08.505596\n"
     ]
    },
    {
     "name": "stderr",
     "output_type": "stream",
     "text": [
      " 44%|███████████████████████████████████████▌                                                  | 220/500 [31:42<40:35,  8.70s/it]"
     ]
    },
    {
     "name": "stdout",
     "output_type": "stream",
     "text": [
      "219\t36\t36\t2.46326\tTrue\tTrue\t0:00:08.684076\n"
     ]
    },
    {
     "name": "stderr",
     "output_type": "stream",
     "text": [
      " 44%|███████████████████████████████████████▊                                                  | 221/500 [31:51<41:00,  8.82s/it]"
     ]
    },
    {
     "name": "stdout",
     "output_type": "stream",
     "text": [
      "220\t80\t80\t1.61599\tTrue\tTrue\t0:00:09.102241\n"
     ]
    },
    {
     "name": "stderr",
     "output_type": "stream",
     "text": [
      " 44%|███████████████████████████████████████▉                                                  | 222/500 [32:00<41:16,  8.91s/it]"
     ]
    },
    {
     "name": "stdout",
     "output_type": "stream",
     "text": [
      "221\t60\t60\t1.61599\tTrue\tTrue\t0:00:09.108136\n"
     ]
    },
    {
     "name": "stderr",
     "output_type": "stream",
     "text": [
      " 45%|████████████████████████████████████████▏                                                 | 223/500 [32:09<40:41,  8.81s/it]"
     ]
    },
    {
     "name": "stdout",
     "output_type": "stream",
     "text": [
      "222\t6\t88\t2.46326\tFalse\tFalse\t0:00:08.592893\n"
     ]
    },
    {
     "name": "stderr",
     "output_type": "stream",
     "text": [
      " 45%|████████████████████████████████████████▎                                                 | 224/500 [32:17<40:06,  8.72s/it]"
     ]
    },
    {
     "name": "stdout",
     "output_type": "stream",
     "text": [
      "223\t76\t76\t0.77168\tFalse\tTrue\t0:00:08.495510\n"
     ]
    },
    {
     "name": "stderr",
     "output_type": "stream",
     "text": [
      " 45%|████████████████████████████████████████▌                                                 | 225/500 [32:25<38:58,  8.50s/it]"
     ]
    },
    {
     "name": "stdout",
     "output_type": "stream",
     "text": [
      "224\t45\t18\t2.46326\tFalse\tFalse\t0:00:07.999073\n"
     ]
    },
    {
     "name": "stderr",
     "output_type": "stream",
     "text": [
      " 45%|████████████████████████████████████████▋                                                 | 226/500 [32:33<38:33,  8.44s/it]"
     ]
    },
    {
     "name": "stdout",
     "output_type": "stream",
     "text": [
      "225\t17\t17\t2.46326\tTrue\tTrue\t0:00:08.299671\n"
     ]
    },
    {
     "name": "stderr",
     "output_type": "stream",
     "text": [
      " 45%|████████████████████████████████████████▊                                                 | 227/500 [32:42<38:38,  8.49s/it]"
     ]
    },
    {
     "name": "stdout",
     "output_type": "stream",
     "text": [
      "226\t79\t6\t1.59340\tFalse\tFalse\t0:00:08.602654\n"
     ]
    },
    {
     "name": "stderr",
     "output_type": "stream",
     "text": [
      " 46%|█████████████████████████████████████████                                                 | 228/500 [32:51<39:43,  8.76s/it]"
     ]
    },
    {
     "name": "stdout",
     "output_type": "stream",
     "text": [
      "227\t29\t29\t0.92757\tFalse\tTrue\t0:00:09.311407\n"
     ]
    },
    {
     "name": "stderr",
     "output_type": "stream",
     "text": [
      " 46%|█████████████████████████████████████████▏                                                | 229/500 [33:01<40:09,  8.89s/it]"
     ]
    },
    {
     "name": "stdout",
     "output_type": "stream",
     "text": [
      "228\t26\t24\t1.61599\tFalse\tFalse\t0:00:09.189579\n"
     ]
    },
    {
     "name": "stderr",
     "output_type": "stream",
     "text": [
      " 46%|█████████████████████████████████████████▍                                                | 230/500 [33:09<39:45,  8.84s/it]"
     ]
    },
    {
     "name": "stdout",
     "output_type": "stream",
     "text": [
      "229\t31\t51\t1.33193\tFalse\tFalse\t0:00:08.705943\n"
     ]
    },
    {
     "name": "stderr",
     "output_type": "stream",
     "text": [
      " 46%|█████████████████████████████████████████▌                                                | 231/500 [33:18<39:16,  8.76s/it]"
     ]
    },
    {
     "name": "stdout",
     "output_type": "stream",
     "text": [
      "230\t55\t30\t1.61599\tFalse\tFalse\t0:00:08.583292\n"
     ]
    },
    {
     "name": "stderr",
     "output_type": "stream",
     "text": [
      " 46%|█████████████████████████████████████████▊                                                | 232/500 [33:27<39:59,  8.95s/it]"
     ]
    },
    {
     "name": "stdout",
     "output_type": "stream",
     "text": [
      "231\t27\t34\t1.40707\tFalse\tFalse\t0:00:09.397677\n"
     ]
    },
    {
     "name": "stderr",
     "output_type": "stream",
     "text": [
      " 47%|█████████████████████████████████████████▉                                                | 233/500 [33:36<39:39,  8.91s/it]"
     ]
    },
    {
     "name": "stdout",
     "output_type": "stream",
     "text": [
      "232\t40\t9\t2.46326\tFalse\tFalse\t0:00:08.809189\n"
     ]
    },
    {
     "name": "stderr",
     "output_type": "stream",
     "text": [
      " 47%|██████████████████████████████████████████                                                | 234/500 [33:45<39:12,  8.85s/it]"
     ]
    },
    {
     "name": "stdout",
     "output_type": "stream",
     "text": [
      "233\t95\t30\t2.46326\tFalse\tFalse\t0:00:08.688643\n"
     ]
    },
    {
     "name": "stderr",
     "output_type": "stream",
     "text": [
      " 47%|██████████████████████████████████████████▎                                               | 235/500 [33:54<39:32,  8.95s/it]"
     ]
    },
    {
     "name": "stdout",
     "output_type": "stream",
     "text": [
      "234\t49\t49\t2.46326\tTrue\tTrue\t0:00:09.204971\n"
     ]
    },
    {
     "name": "stderr",
     "output_type": "stream",
     "text": [
      " 47%|██████████████████████████████████████████▍                                               | 236/500 [34:03<39:27,  8.97s/it]"
     ]
    },
    {
     "name": "stdout",
     "output_type": "stream",
     "text": [
      "235\t71\t-1\t0.00000\tFalse\tFalse\t0:00:08.991754\n"
     ]
    },
    {
     "name": "stderr",
     "output_type": "stream",
     "text": [
      " 47%|██████████████████████████████████████████▋                                               | 237/500 [34:12<38:48,  8.86s/it]"
     ]
    },
    {
     "name": "stdout",
     "output_type": "stream",
     "text": [
      "236\t77\t-1\t0.00000\tFalse\tFalse\t0:00:08.594150\n"
     ]
    },
    {
     "name": "stderr",
     "output_type": "stream",
     "text": [
      " 48%|██████████████████████████████████████████▊                                               | 238/500 [34:20<38:13,  8.75s/it]"
     ]
    },
    {
     "name": "stdout",
     "output_type": "stream",
     "text": [
      "237\t91\t91\t2.46326\tTrue\tTrue\t0:00:08.512239\n"
     ]
    },
    {
     "name": "stderr",
     "output_type": "stream",
     "text": [
      " 48%|███████████████████████████████████████████                                               | 239/500 [34:29<37:44,  8.68s/it]"
     ]
    },
    {
     "name": "stdout",
     "output_type": "stream",
     "text": [
      "238\t9\t69\t2.46326\tFalse\tFalse\t0:00:08.498055\n"
     ]
    },
    {
     "name": "stderr",
     "output_type": "stream",
     "text": [
      " 48%|███████████████████████████████████████████▏                                              | 240/500 [34:37<37:28,  8.65s/it]"
     ]
    },
    {
     "name": "stdout",
     "output_type": "stream",
     "text": [
      "239\t18\t18\t1.61599\tTrue\tTrue\t0:00:08.581967\n"
     ]
    },
    {
     "name": "stderr",
     "output_type": "stream",
     "text": [
      " 48%|███████████████████████████████████████████▍                                              | 241/500 [34:46<37:16,  8.63s/it]"
     ]
    },
    {
     "name": "stdout",
     "output_type": "stream",
     "text": [
      "240\t95\t30\t2.46326\tFalse\tFalse\t0:00:08.596558\n"
     ]
    },
    {
     "name": "stderr",
     "output_type": "stream",
     "text": [
      " 48%|███████████████████████████████████████████▌                                              | 242/500 [34:54<36:42,  8.54s/it]"
     ]
    },
    {
     "name": "stdout",
     "output_type": "stream",
     "text": [
      "241\t44\t12\t2.46326\tFalse\tFalse\t0:00:08.301044\n"
     ]
    },
    {
     "name": "stderr",
     "output_type": "stream",
     "text": [
      " 49%|███████████████████████████████████████████▋                                              | 243/500 [35:03<37:10,  8.68s/it]"
     ]
    },
    {
     "name": "stdout",
     "output_type": "stream",
     "text": [
      "242\t71\t71\t2.46326\tTrue\tTrue\t0:00:09.005988\n"
     ]
    },
    {
     "name": "stderr",
     "output_type": "stream",
     "text": [
      " 49%|███████████████████████████████████████████▉                                              | 244/500 [35:12<36:55,  8.65s/it]"
     ]
    },
    {
     "name": "stdout",
     "output_type": "stream",
     "text": [
      "243\t92\t92\t2.46326\tTrue\tTrue\t0:00:08.594386\n"
     ]
    },
    {
     "name": "stderr",
     "output_type": "stream",
     "text": [
      " 49%|████████████████████████████████████████████                                              | 245/500 [35:20<36:04,  8.49s/it]"
     ]
    },
    {
     "name": "stdout",
     "output_type": "stream",
     "text": [
      "244\t0\t0\t2.46326\tTrue\tTrue\t0:00:08.099204\n"
     ]
    },
    {
     "name": "stderr",
     "output_type": "stream",
     "text": [
      " 49%|████████████████████████████████████████████▎                                             | 246/500 [35:28<35:19,  8.34s/it]"
     ]
    },
    {
     "name": "stdout",
     "output_type": "stream",
     "text": [
      "245\t29\t43\t1.11448\tFalse\tFalse\t0:00:08.003995\n"
     ]
    },
    {
     "name": "stderr",
     "output_type": "stream",
     "text": [
      " 49%|████████████████████████████████████████████▍                                             | 247/500 [35:37<35:52,  8.51s/it]"
     ]
    },
    {
     "name": "stdout",
     "output_type": "stream",
     "text": [
      "246\t44\t44\t0.65108\tFalse\tTrue\t0:00:08.812563\n"
     ]
    },
    {
     "name": "stderr",
     "output_type": "stream",
     "text": [
      " 50%|████████████████████████████████████████████▋                                             | 248/500 [35:46<36:28,  8.68s/it]"
     ]
    },
    {
     "name": "stdout",
     "output_type": "stream",
     "text": [
      "247\t1\t50\t1.30416\tFalse\tFalse\t0:00:09.087181\n"
     ]
    },
    {
     "name": "stderr",
     "output_type": "stream",
     "text": [
      " 50%|████████████████████████████████████████████▊                                             | 249/500 [35:55<36:36,  8.75s/it]"
     ]
    },
    {
     "name": "stdout",
     "output_type": "stream",
     "text": [
      "248\t94\t94\t2.46326\tTrue\tTrue\t0:00:08.908370\n"
     ]
    },
    {
     "name": "stderr",
     "output_type": "stream",
     "text": [
      " 50%|█████████████████████████████████████████████                                             | 250/500 [36:03<36:31,  8.76s/it]"
     ]
    },
    {
     "name": "stdout",
     "output_type": "stream",
     "text": [
      "249\t76\t76\t2.46326\tTrue\tTrue\t0:00:08.793961\n"
     ]
    },
    {
     "name": "stderr",
     "output_type": "stream",
     "text": [
      " 50%|█████████████████████████████████████████████▏                                            | 251/500 [36:12<36:09,  8.71s/it]"
     ]
    },
    {
     "name": "stdout",
     "output_type": "stream",
     "text": [
      "250\t61\t61\t2.46326\tTrue\tTrue\t0:00:08.591342\n"
     ]
    },
    {
     "name": "stderr",
     "output_type": "stream",
     "text": [
      " 50%|█████████████████████████████████████████████▎                                            | 252/500 [36:21<35:52,  8.68s/it]"
     ]
    },
    {
     "name": "stdout",
     "output_type": "stream",
     "text": [
      "251\t27\t48\t2.17769\tFalse\tFalse\t0:00:08.599776\n"
     ]
    },
    {
     "name": "stderr",
     "output_type": "stream",
     "text": [
      " 51%|█████████████████████████████████████████████▌                                            | 253/500 [36:29<35:08,  8.54s/it]"
     ]
    },
    {
     "name": "stdout",
     "output_type": "stream",
     "text": [
      "252\t79\t84\t2.46326\tFalse\tFalse\t0:00:08.202398\n"
     ]
    },
    {
     "name": "stderr",
     "output_type": "stream",
     "text": [
      " 51%|█████████████████████████████████████████████▋                                            | 254/500 [36:37<34:42,  8.46s/it]"
     ]
    },
    {
     "name": "stdout",
     "output_type": "stream",
     "text": [
      "253\t31\t31\t2.46326\tTrue\tTrue\t0:00:08.288611\n"
     ]
    },
    {
     "name": "stderr",
     "output_type": "stream",
     "text": [
      " 51%|█████████████████████████████████████████████▉                                            | 255/500 [36:45<34:15,  8.39s/it]"
     ]
    },
    {
     "name": "stdout",
     "output_type": "stream",
     "text": [
      "254\t74\t50\t1.60457\tFalse\tFalse\t0:00:08.211993\n"
     ]
    },
    {
     "name": "stderr",
     "output_type": "stream",
     "text": [
      " 51%|██████████████████████████████████████████████                                            | 256/500 [36:54<33:59,  8.36s/it]"
     ]
    },
    {
     "name": "stdout",
     "output_type": "stream",
     "text": [
      "255\t7\t14\t1.61599\tFalse\tFalse\t0:00:08.203286\n"
     ]
    },
    {
     "name": "stderr",
     "output_type": "stream",
     "text": [
      " 51%|██████████████████████████████████████████████▎                                           | 257/500 [37:01<33:10,  8.19s/it]"
     ]
    },
    {
     "name": "stdout",
     "output_type": "stream",
     "text": [
      "256\t46\t11\t2.46326\tFalse\tFalse\t0:00:07.806368\n"
     ]
    },
    {
     "name": "stderr",
     "output_type": "stream",
     "text": [
      " 52%|██████████████████████████████████████████████▍                                           | 258/500 [37:10<33:24,  8.29s/it]"
     ]
    },
    {
     "name": "stdout",
     "output_type": "stream",
     "text": [
      "257\t4\t51\t0.96630\tFalse\tFalse\t0:00:08.496682\n"
     ]
    },
    {
     "name": "stderr",
     "output_type": "stream",
     "text": [
      " 52%|██████████████████████████████████████████████▌                                           | 259/500 [37:18<33:31,  8.35s/it]"
     ]
    },
    {
     "name": "stdout",
     "output_type": "stream",
     "text": [
      "258\t22\t37\t2.46326\tFalse\tFalse\t0:00:08.488758\n"
     ]
    },
    {
     "name": "stderr",
     "output_type": "stream",
     "text": [
      " 52%|██████████████████████████████████████████████▊                                           | 260/500 [37:27<33:27,  8.36s/it]"
     ]
    },
    {
     "name": "stdout",
     "output_type": "stream",
     "text": [
      "259\t98\t46\t2.46326\tFalse\tFalse\t0:00:08.402529\n"
     ]
    },
    {
     "name": "stderr",
     "output_type": "stream",
     "text": [
      " 52%|██████████████████████████████████████████████▉                                           | 261/500 [37:36<34:19,  8.62s/it]"
     ]
    },
    {
     "name": "stdout",
     "output_type": "stream",
     "text": [
      "260\t14\t88\t0.21111\tFalse\tFalse\t0:00:09.203863\n"
     ]
    },
    {
     "name": "stderr",
     "output_type": "stream",
     "text": [
      " 52%|███████████████████████████████████████████████▏                                          | 262/500 [37:45<34:31,  8.70s/it]"
     ]
    },
    {
     "name": "stdout",
     "output_type": "stream",
     "text": [
      "261\t65\t1\t2.46326\tFalse\tFalse\t0:00:08.901258\n"
     ]
    },
    {
     "name": "stderr",
     "output_type": "stream",
     "text": [
      " 53%|███████████████████████████████████████████████▎                                          | 263/500 [37:53<34:00,  8.61s/it]"
     ]
    },
    {
     "name": "stdout",
     "output_type": "stream",
     "text": [
      "262\t76\t44\t0.26648\tFalse\tFalse\t0:00:08.308900\n"
     ]
    },
    {
     "name": "stderr",
     "output_type": "stream",
     "text": [
      " 53%|███████████████████████████████████████████████▌                                          | 264/500 [38:02<33:30,  8.52s/it]"
     ]
    },
    {
     "name": "stdout",
     "output_type": "stream",
     "text": [
      "263\t31\t31\t2.46326\tTrue\tTrue\t0:00:08.303584\n"
     ]
    },
    {
     "name": "stderr",
     "output_type": "stream",
     "text": [
      " 53%|███████████████████████████████████████████████▋                                          | 265/500 [38:10<33:13,  8.48s/it]"
     ]
    },
    {
     "name": "stdout",
     "output_type": "stream",
     "text": [
      "264\t32\t32\t2.46326\tTrue\tTrue\t0:00:08.399297\n"
     ]
    },
    {
     "name": "stderr",
     "output_type": "stream",
     "text": [
      " 53%|███████████████████████████████████████████████▉                                          | 266/500 [38:19<33:33,  8.61s/it]"
     ]
    },
    {
     "name": "stdout",
     "output_type": "stream",
     "text": [
      "265\t77\t77\t2.46326\tTrue\tTrue\t0:00:08.889714\n"
     ]
    },
    {
     "name": "stderr",
     "output_type": "stream",
     "text": [
      " 53%|████████████████████████████████████████████████                                          | 267/500 [38:27<33:03,  8.51s/it]"
     ]
    },
    {
     "name": "stdout",
     "output_type": "stream",
     "text": [
      "266\t22\t22\t2.46326\tTrue\tTrue\t0:00:08.288424\n"
     ]
    },
    {
     "name": "stderr",
     "output_type": "stream",
     "text": [
      " 54%|████████████████████████████████████████████████▏                                         | 268/500 [38:36<33:15,  8.60s/it]"
     ]
    },
    {
     "name": "stdout",
     "output_type": "stream",
     "text": [
      "267\t25\t65\t2.46326\tFalse\tFalse\t0:00:08.812612\n"
     ]
    },
    {
     "name": "stderr",
     "output_type": "stream",
     "text": [
      " 54%|████████████████████████████████████████████████▍                                         | 269/500 [38:45<33:06,  8.60s/it]"
     ]
    },
    {
     "name": "stdout",
     "output_type": "stream",
     "text": [
      "268\t45\t93\t2.46326\tFalse\tFalse\t0:00:08.595902\n"
     ]
    },
    {
     "name": "stderr",
     "output_type": "stream",
     "text": [
      " 54%|████████████████████████████████████████████████▌                                         | 270/500 [38:53<33:04,  8.63s/it]"
     ]
    },
    {
     "name": "stdout",
     "output_type": "stream",
     "text": [
      "269\t9\t76\t1.30416\tFalse\tFalse\t0:00:08.691037\n"
     ]
    },
    {
     "name": "stderr",
     "output_type": "stream",
     "text": [
      " 54%|████████████████████████████████████████████████▊                                         | 271/500 [39:02<33:00,  8.65s/it]"
     ]
    },
    {
     "name": "stdout",
     "output_type": "stream",
     "text": [
      "270\t92\t92\t2.46326\tTrue\tTrue\t0:00:08.697893\n"
     ]
    },
    {
     "name": "stderr",
     "output_type": "stream",
     "text": [
      " 54%|████████████████████████████████████████████████▉                                         | 272/500 [39:10<32:28,  8.55s/it]"
     ]
    },
    {
     "name": "stdout",
     "output_type": "stream",
     "text": [
      "271\t71\t71\t2.46326\tTrue\tTrue\t0:00:08.297602\n"
     ]
    },
    {
     "name": "stderr",
     "output_type": "stream",
     "text": [
      " 55%|█████████████████████████████████████████████████▏                                        | 273/500 [39:20<33:25,  8.83s/it]"
     ]
    },
    {
     "name": "stdout",
     "output_type": "stream",
     "text": [
      "272\t85\t58\t2.46326\tFalse\tFalse\t0:00:09.503548\n"
     ]
    },
    {
     "name": "stderr",
     "output_type": "stream",
     "text": [
      " 55%|█████████████████████████████████████████████████▎                                        | 274/500 [39:28<32:53,  8.73s/it]"
     ]
    },
    {
     "name": "stdout",
     "output_type": "stream",
     "text": [
      "273\t0\t0\t2.46326\tTrue\tTrue\t0:00:08.497959\n"
     ]
    },
    {
     "name": "stderr",
     "output_type": "stream",
     "text": [
      " 55%|█████████████████████████████████████████████████▌                                        | 275/500 [39:37<32:36,  8.69s/it]"
     ]
    },
    {
     "name": "stdout",
     "output_type": "stream",
     "text": [
      "274\t40\t17\t2.46326\tFalse\tFalse\t0:00:08.599449\n"
     ]
    },
    {
     "name": "stderr",
     "output_type": "stream",
     "text": [
      " 55%|█████████████████████████████████████████████████▋                                        | 276/500 [39:46<32:34,  8.72s/it]"
     ]
    },
    {
     "name": "stdout",
     "output_type": "stream",
     "text": [
      "275\t13\t13\t2.46326\tTrue\tTrue\t0:00:08.789945\n"
     ]
    },
    {
     "name": "stderr",
     "output_type": "stream",
     "text": [
      " 55%|█████████████████████████████████████████████████▊                                        | 277/500 [39:54<31:57,  8.60s/it]"
     ]
    },
    {
     "name": "stdout",
     "output_type": "stream",
     "text": [
      "276\t75\t75\t2.46326\tTrue\tTrue\t0:00:08.308665\n"
     ]
    },
    {
     "name": "stderr",
     "output_type": "stream",
     "text": [
      " 56%|██████████████████████████████████████████████████                                        | 278/500 [40:03<32:21,  8.75s/it]"
     ]
    },
    {
     "name": "stdout",
     "output_type": "stream",
     "text": [
      "277\t33\t33\t2.46326\tTrue\tTrue\t0:00:09.006671\n"
     ]
    },
    {
     "name": "stderr",
     "output_type": "stream",
     "text": [
      " 56%|██████████████████████████████████████████████████▏                                       | 279/500 [40:12<32:04,  8.71s/it]"
     ]
    },
    {
     "name": "stdout",
     "output_type": "stream",
     "text": [
      "278\t42\t14\t0.99760\tFalse\tFalse\t0:00:08.615026\n"
     ]
    },
    {
     "name": "stderr",
     "output_type": "stream",
     "text": [
      " 56%|██████████████████████████████████████████████████▍                                       | 280/500 [40:20<31:28,  8.58s/it]"
     ]
    },
    {
     "name": "stdout",
     "output_type": "stream",
     "text": [
      "279\t47\t59\t0.52237\tFalse\tFalse\t0:00:08.286383\n"
     ]
    },
    {
     "name": "stderr",
     "output_type": "stream",
     "text": [
      " 56%|██████████████████████████████████████████████████▌                                       | 281/500 [40:29<31:39,  8.67s/it]"
     ]
    },
    {
     "name": "stdout",
     "output_type": "stream",
     "text": [
      "280\t89\t-1\t0.00000\tFalse\tFalse\t0:00:08.885322\n"
     ]
    },
    {
     "name": "stderr",
     "output_type": "stream",
     "text": [
      " 56%|██████████████████████████████████████████████████▊                                       | 282/500 [40:38<31:53,  8.78s/it]"
     ]
    },
    {
     "name": "stdout",
     "output_type": "stream",
     "text": [
      "281\t11\t-1\t0.00000\tFalse\tFalse\t0:00:09.009367\n"
     ]
    },
    {
     "name": "stderr",
     "output_type": "stream",
     "text": [
      " 57%|██████████████████████████████████████████████████▉                                       | 283/500 [40:47<31:45,  8.78s/it]"
     ]
    },
    {
     "name": "stdout",
     "output_type": "stream",
     "text": [
      "282\t31\t31\t2.46326\tTrue\tTrue\t0:00:08.795294\n"
     ]
    },
    {
     "name": "stderr",
     "output_type": "stream",
     "text": [
      " 57%|███████████████████████████████████████████████████                                       | 284/500 [40:55<31:25,  8.73s/it]"
     ]
    },
    {
     "name": "stdout",
     "output_type": "stream",
     "text": [
      "283\t10\t1\t0.18507\tFalse\tFalse\t0:00:08.600794\n"
     ]
    },
    {
     "name": "stderr",
     "output_type": "stream",
     "text": [
      " 57%|███████████████████████████████████████████████████▎                                      | 285/500 [41:04<31:07,  8.69s/it]"
     ]
    },
    {
     "name": "stdout",
     "output_type": "stream",
     "text": [
      "284\t85\t93\t0.75013\tFalse\tFalse\t0:00:08.588921\n"
     ]
    },
    {
     "name": "stderr",
     "output_type": "stream",
     "text": [
      " 57%|███████████████████████████████████████████████████▍                                      | 286/500 [41:12<30:15,  8.48s/it]"
     ]
    },
    {
     "name": "stdout",
     "output_type": "stream",
     "text": [
      "285\t44\t91\t1.61599\tFalse\tFalse\t0:00:08.006091\n"
     ]
    },
    {
     "name": "stderr",
     "output_type": "stream",
     "text": [
      " 57%|███████████████████████████████████████████████████▋                                      | 287/500 [41:21<30:20,  8.55s/it]"
     ]
    },
    {
     "name": "stdout",
     "output_type": "stream",
     "text": [
      "286\t38\t51\t0.79365\tFalse\tFalse\t0:00:08.699605\n"
     ]
    },
    {
     "name": "stderr",
     "output_type": "stream",
     "text": [
      " 58%|███████████████████████████████████████████████████▊                                      | 288/500 [41:29<30:14,  8.56s/it]"
     ]
    },
    {
     "name": "stdout",
     "output_type": "stream",
     "text": [
      "287\t59\t7\t2.46326\tFalse\tFalse\t0:00:08.501277\n"
     ]
    },
    {
     "name": "stderr",
     "output_type": "stream",
     "text": [
      " 58%|████████████████████████████████████████████████████                                      | 289/500 [41:38<30:08,  8.57s/it]"
     ]
    },
    {
     "name": "stdout",
     "output_type": "stream",
     "text": [
      "288\t20\t20\t2.46326\tTrue\tTrue\t0:00:08.603646\n"
     ]
    },
    {
     "name": "stderr",
     "output_type": "stream",
     "text": [
      " 58%|████████████████████████████████████████████████████▏                                     | 290/500 [41:47<30:15,  8.64s/it]"
     ]
    },
    {
     "name": "stdout",
     "output_type": "stream",
     "text": [
      "289\t75\t-1\t0.00000\tFalse\tFalse\t0:00:08.804105\n"
     ]
    },
    {
     "name": "stderr",
     "output_type": "stream",
     "text": [
      " 58%|████████████████████████████████████████████████████▍                                     | 291/500 [41:55<29:19,  8.42s/it]"
     ]
    },
    {
     "name": "stdout",
     "output_type": "stream",
     "text": [
      "290\t14\t6\t2.46326\tFalse\tFalse\t0:00:07.888959\n"
     ]
    },
    {
     "name": "stderr",
     "output_type": "stream",
     "text": [
      " 58%|████████████████████████████████████████████████████▌                                     | 292/500 [42:03<29:34,  8.53s/it]"
     ]
    },
    {
     "name": "stdout",
     "output_type": "stream",
     "text": [
      "291\t72\t4\t0.12838\tFalse\tFalse\t0:00:08.713849\n"
     ]
    },
    {
     "name": "stderr",
     "output_type": "stream",
     "text": [
      " 59%|████████████████████████████████████████████████████▋                                     | 293/500 [42:12<29:18,  8.50s/it]"
     ]
    },
    {
     "name": "stdout",
     "output_type": "stream",
     "text": [
      "292\t71\t71\t2.46326\tTrue\tTrue\t0:00:08.409743\n"
     ]
    },
    {
     "name": "stderr",
     "output_type": "stream",
     "text": [
      " 59%|████████████████████████████████████████████████████▉                                     | 294/500 [42:20<29:03,  8.47s/it]"
     ]
    },
    {
     "name": "stdout",
     "output_type": "stream",
     "text": [
      "293\t8\t45\t2.46326\tFalse\tFalse\t0:00:08.391474\n"
     ]
    },
    {
     "name": "stderr",
     "output_type": "stream",
     "text": [
      " 59%|█████████████████████████████████████████████████████                                     | 295/500 [42:29<28:57,  8.48s/it]"
     ]
    },
    {
     "name": "stdout",
     "output_type": "stream",
     "text": [
      "294\t2\t6\t1.02534\tFalse\tFalse\t0:00:08.498090\n"
     ]
    },
    {
     "name": "stderr",
     "output_type": "stream",
     "text": [
      " 59%|█████████████████████████████████████████████████████▎                                    | 296/500 [42:37<28:44,  8.45s/it]"
     ]
    },
    {
     "name": "stdout",
     "output_type": "stream",
     "text": [
      "295\t45\t83\t0.59002\tFalse\tFalse\t0:00:08.404376\n"
     ]
    },
    {
     "name": "stderr",
     "output_type": "stream",
     "text": [
      " 59%|█████████████████████████████████████████████████████▍                                    | 297/500 [42:46<28:50,  8.53s/it]"
     ]
    },
    {
     "name": "stdout",
     "output_type": "stream",
     "text": [
      "296\t62\t62\t2.46326\tTrue\tTrue\t0:00:08.692972\n"
     ]
    },
    {
     "name": "stderr",
     "output_type": "stream",
     "text": [
      " 60%|█████████████████████████████████████████████████████▋                                    | 298/500 [42:54<28:34,  8.49s/it]"
     ]
    },
    {
     "name": "stdout",
     "output_type": "stream",
     "text": [
      "297\t34\t34\t2.46326\tTrue\tTrue\t0:00:08.399483\n"
     ]
    },
    {
     "name": "stderr",
     "output_type": "stream",
     "text": [
      " 60%|█████████████████████████████████████████████████████▊                                    | 299/500 [43:03<28:20,  8.46s/it]"
     ]
    },
    {
     "name": "stdout",
     "output_type": "stream",
     "text": [
      "298\t70\t-1\t0.00000\tFalse\tFalse\t0:00:08.394733\n"
     ]
    },
    {
     "name": "stderr",
     "output_type": "stream",
     "text": [
      " 60%|██████████████████████████████████████████████████████                                    | 300/500 [43:11<28:39,  8.60s/it]"
     ]
    },
    {
     "name": "stdout",
     "output_type": "stream",
     "text": [
      "299\t33\t33\t1.63960\tTrue\tTrue\t0:00:08.907427\n"
     ]
    },
    {
     "name": "stderr",
     "output_type": "stream",
     "text": [
      " 60%|██████████████████████████████████████████████████████▏                                   | 301/500 [43:20<28:42,  8.65s/it]"
     ]
    },
    {
     "name": "stdout",
     "output_type": "stream",
     "text": [
      "300\t9\t9\t0.97513\tFalse\tTrue\t0:00:08.787826\n"
     ]
    },
    {
     "name": "stderr",
     "output_type": "stream",
     "text": [
      " 60%|██████████████████████████████████████████████████████▎                                   | 302/500 [43:28<28:06,  8.52s/it]"
     ]
    },
    {
     "name": "stdout",
     "output_type": "stream",
     "text": [
      "301\t8\t90\t2.46326\tFalse\tFalse\t0:00:08.192750\n"
     ]
    },
    {
     "name": "stderr",
     "output_type": "stream",
     "text": [
      " 61%|██████████████████████████████████████████████████████▌                                   | 303/500 [43:37<27:45,  8.45s/it]"
     ]
    },
    {
     "name": "stdout",
     "output_type": "stream",
     "text": [
      "302\t55\t4\t0.43152\tFalse\tFalse\t0:00:08.301636\n"
     ]
    },
    {
     "name": "stderr",
     "output_type": "stream",
     "text": [
      " 61%|██████████████████████████████████████████████████████▋                                   | 304/500 [43:45<27:40,  8.47s/it]"
     ]
    },
    {
     "name": "stdout",
     "output_type": "stream",
     "text": [
      "303\t11\t11\t2.46326\tTrue\tTrue\t0:00:08.511133\n"
     ]
    },
    {
     "name": "stderr",
     "output_type": "stream",
     "text": [
      " 61%|██████████████████████████████████████████████████████▉                                   | 305/500 [43:54<27:45,  8.54s/it]"
     ]
    },
    {
     "name": "stdout",
     "output_type": "stream",
     "text": [
      "304\t57\t82\t0.50441\tFalse\tFalse\t0:00:08.697204\n"
     ]
    },
    {
     "name": "stderr",
     "output_type": "stream",
     "text": [
      " 61%|███████████████████████████████████████████████████████                                   | 306/500 [44:03<28:15,  8.74s/it]"
     ]
    },
    {
     "name": "stdout",
     "output_type": "stream",
     "text": [
      "305\t37\t37\t2.46326\tTrue\tTrue\t0:00:09.115358\n"
     ]
    },
    {
     "name": "stderr",
     "output_type": "stream",
     "text": [
      " 61%|███████████████████████████████████████████████████████▎                                  | 307/500 [44:11<27:34,  8.57s/it]"
     ]
    },
    {
     "name": "stdout",
     "output_type": "stream",
     "text": [
      "306\t1\t14\t0.42582\tFalse\tFalse\t0:00:08.192102\n"
     ]
    },
    {
     "name": "stderr",
     "output_type": "stream",
     "text": [
      " 62%|███████████████████████████████████████████████████████▍                                  | 308/500 [44:19<26:59,  8.43s/it]"
     ]
    },
    {
     "name": "stdout",
     "output_type": "stream",
     "text": [
      "307\t4\t35\t0.08250\tFalse\tFalse\t0:00:08.102615\n"
     ]
    },
    {
     "name": "stderr",
     "output_type": "stream",
     "text": [
      " 62%|███████████████████████████████████████████████████████▌                                  | 309/500 [44:27<26:13,  8.24s/it]"
     ]
    },
    {
     "name": "stdout",
     "output_type": "stream",
     "text": [
      "308\t29\t15\t2.46326\tFalse\tFalse\t0:00:07.782282\n"
     ]
    },
    {
     "name": "stderr",
     "output_type": "stream",
     "text": [
      " 62%|███████████████████████████████████████████████████████▊                                  | 310/500 [44:36<26:25,  8.35s/it]"
     ]
    },
    {
     "name": "stdout",
     "output_type": "stream",
     "text": [
      "309\t7\t24\t1.33193\tFalse\tFalse\t0:00:08.516077\n"
     ]
    },
    {
     "name": "stderr",
     "output_type": "stream",
     "text": [
      " 62%|███████████████████████████████████████████████████████▉                                  | 311/500 [44:44<26:10,  8.31s/it]"
     ]
    },
    {
     "name": "stdout",
     "output_type": "stream",
     "text": [
      "310\t52\t52\t2.46326\tTrue\tTrue\t0:00:08.213089\n"
     ]
    },
    {
     "name": "stderr",
     "output_type": "stream",
     "text": [
      " 62%|████████████████████████████████████████████████████████▏                                 | 312/500 [44:52<25:55,  8.27s/it]"
     ]
    },
    {
     "name": "stdout",
     "output_type": "stream",
     "text": [
      "311\t79\t-1\t0.00000\tFalse\tFalse\t0:00:08.185811\n"
     ]
    },
    {
     "name": "stderr",
     "output_type": "stream",
     "text": [
      " 63%|████████████████████████████████████████████████████████▎                                 | 313/500 [45:01<26:00,  8.34s/it]"
     ]
    },
    {
     "name": "stdout",
     "output_type": "stream",
     "text": [
      "312\t13\t87\t0.99306\tFalse\tFalse\t0:00:08.514184\n"
     ]
    },
    {
     "name": "stderr",
     "output_type": "stream",
     "text": [
      " 63%|████████████████████████████████████████████████████████▌                                 | 314/500 [45:09<25:49,  8.33s/it]"
     ]
    },
    {
     "name": "stdout",
     "output_type": "stream",
     "text": [
      "313\t59\t74\t0.32566\tFalse\tFalse\t0:00:08.212384\n"
     ]
    },
    {
     "name": "stderr",
     "output_type": "stream",
     "text": [
      " 63%|████████████████████████████████████████████████████████▋                                 | 315/500 [45:18<25:49,  8.38s/it]"
     ]
    },
    {
     "name": "stdout",
     "output_type": "stream",
     "text": [
      "314\t0\t0\t1.61599\tTrue\tTrue\t0:00:08.486535\n"
     ]
    },
    {
     "name": "stderr",
     "output_type": "stream",
     "text": [
      " 63%|████████████████████████████████████████████████████████▉                                 | 316/500 [45:26<25:48,  8.42s/it]"
     ]
    },
    {
     "name": "stdout",
     "output_type": "stream",
     "text": [
      "315\t60\t60\t2.46326\tTrue\tTrue\t0:00:08.509005\n"
     ]
    },
    {
     "name": "stderr",
     "output_type": "stream",
     "text": [
      " 63%|█████████████████████████████████████████████████████████                                 | 317/500 [45:34<25:34,  8.38s/it]"
     ]
    },
    {
     "name": "stdout",
     "output_type": "stream",
     "text": [
      "316\t1\t36\t2.46326\tFalse\tFalse\t0:00:08.299406\n"
     ]
    },
    {
     "name": "stderr",
     "output_type": "stream",
     "text": [
      " 64%|█████████████████████████████████████████████████████████▏                                | 318/500 [45:42<25:09,  8.29s/it]"
     ]
    },
    {
     "name": "stdout",
     "output_type": "stream",
     "text": [
      "317\t97\t42\t1.62766\tFalse\tFalse\t0:00:08.005344\n"
     ]
    },
    {
     "name": "stderr",
     "output_type": "stream",
     "text": [
      " 64%|█████████████████████████████████████████████████████████▍                                | 319/500 [45:51<24:56,  8.27s/it]"
     ]
    },
    {
     "name": "stdout",
     "output_type": "stream",
     "text": [
      "318\t64\t64\t2.46326\tTrue\tTrue\t0:00:08.198969\n"
     ]
    },
    {
     "name": "stderr",
     "output_type": "stream",
     "text": [
      " 64%|█████████████████████████████████████████████████████████▌                                | 320/500 [45:59<25:05,  8.37s/it]"
     ]
    },
    {
     "name": "stdout",
     "output_type": "stream",
     "text": [
      "319\t55\t55\t2.46326\tTrue\tTrue\t0:00:08.594782\n"
     ]
    },
    {
     "name": "stderr",
     "output_type": "stream",
     "text": [
      " 64%|█████████████████████████████████████████████████████████▊                                | 321/500 [46:07<24:43,  8.29s/it]"
     ]
    },
    {
     "name": "stdout",
     "output_type": "stream",
     "text": [
      "320\t28\t46\t0.29859\tFalse\tFalse\t0:00:08.107176\n"
     ]
    },
    {
     "name": "stderr",
     "output_type": "stream",
     "text": [
      " 64%|█████████████████████████████████████████████████████████▉                                | 322/500 [46:16<24:35,  8.29s/it]"
     ]
    },
    {
     "name": "stdout",
     "output_type": "stream",
     "text": [
      "321\t53\t53\t2.46326\tTrue\tTrue\t0:00:08.291176\n"
     ]
    },
    {
     "name": "stderr",
     "output_type": "stream",
     "text": [
      " 65%|██████████████████████████████████████████████████████████▏                               | 323/500 [46:24<24:27,  8.29s/it]"
     ]
    },
    {
     "name": "stdout",
     "output_type": "stream",
     "text": [
      "322\t39\t39\t0.32566\tFalse\tTrue\t0:00:08.292661\n"
     ]
    },
    {
     "name": "stderr",
     "output_type": "stream",
     "text": [
      " 65%|██████████████████████████████████████████████████████████▎                               | 324/500 [46:33<24:36,  8.39s/it]"
     ]
    },
    {
     "name": "stdout",
     "output_type": "stream",
     "text": [
      "323\t75\t75\t2.46326\tTrue\tTrue\t0:00:08.605885\n"
     ]
    },
    {
     "name": "stderr",
     "output_type": "stream",
     "text": [
      " 65%|██████████████████████████████████████████████████████████▌                               | 325/500 [46:41<24:38,  8.45s/it]"
     ]
    },
    {
     "name": "stdout",
     "output_type": "stream",
     "text": [
      "324\t4\t77\t0.51636\tFalse\tFalse\t0:00:08.590660\n"
     ]
    },
    {
     "name": "stderr",
     "output_type": "stream",
     "text": [
      " 65%|██████████████████████████████████████████████████████████▋                               | 326/500 [46:50<24:43,  8.53s/it]"
     ]
    },
    {
     "name": "stdout",
     "output_type": "stream",
     "text": [
      "325\t40\t40\t2.46326\tTrue\tTrue\t0:00:08.704434\n"
     ]
    },
    {
     "name": "stderr",
     "output_type": "stream",
     "text": [
      " 65%|██████████████████████████████████████████████████████████▊                               | 327/500 [46:58<24:22,  8.46s/it]"
     ]
    },
    {
     "name": "stdout",
     "output_type": "stream",
     "text": [
      "326\t60\t60\t2.46326\tTrue\tTrue\t0:00:08.289756\n"
     ]
    },
    {
     "name": "stderr",
     "output_type": "stream",
     "text": [
      " 66%|███████████████████████████████████████████████████████████                               | 328/500 [47:07<24:17,  8.47s/it]"
     ]
    },
    {
     "name": "stdout",
     "output_type": "stream",
     "text": [
      "327\t44\t44\t1.15201\tFalse\tTrue\t0:00:08.512065\n"
     ]
    },
    {
     "name": "stderr",
     "output_type": "stream",
     "text": [
      " 66%|███████████████████████████████████████████████████████████▏                              | 329/500 [47:15<24:25,  8.57s/it]"
     ]
    },
    {
     "name": "stdout",
     "output_type": "stream",
     "text": [
      "328\t36\t36\t0.51337\tFalse\tTrue\t0:00:08.796189\n"
     ]
    },
    {
     "name": "stderr",
     "output_type": "stream",
     "text": [
      " 66%|███████████████████████████████████████████████████████████▍                              | 330/500 [47:24<24:07,  8.52s/it]"
     ]
    },
    {
     "name": "stdout",
     "output_type": "stream",
     "text": [
      "329\t93\t6\t0.13094\tFalse\tFalse\t0:00:08.389211\n"
     ]
    },
    {
     "name": "stderr",
     "output_type": "stream",
     "text": [
      " 66%|███████████████████████████████████████████████████████████▌                              | 331/500 [47:33<24:09,  8.58s/it]"
     ]
    },
    {
     "name": "stdout",
     "output_type": "stream",
     "text": [
      "330\t53\t53\t2.46326\tTrue\tTrue\t0:00:08.707737\n"
     ]
    },
    {
     "name": "stderr",
     "output_type": "stream",
     "text": [
      " 66%|███████████████████████████████████████████████████████████▊                              | 332/500 [47:41<24:16,  8.67s/it]"
     ]
    },
    {
     "name": "stdout",
     "output_type": "stream",
     "text": [
      "331\t79\t18\t0.44299\tFalse\tFalse\t0:00:08.883584\n"
     ]
    },
    {
     "name": "stderr",
     "output_type": "stream",
     "text": [
      " 67%|███████████████████████████████████████████████████████████▉                              | 333/500 [47:50<23:39,  8.50s/it]"
     ]
    },
    {
     "name": "stdout",
     "output_type": "stream",
     "text": [
      "332\t17\t17\t2.46326\tTrue\tTrue\t0:00:08.108332\n"
     ]
    },
    {
     "name": "stderr",
     "output_type": "stream",
     "text": [
      " 67%|████████████████████████████████████████████████████████████                              | 334/500 [47:58<23:35,  8.53s/it]"
     ]
    },
    {
     "name": "stdout",
     "output_type": "stream",
     "text": [
      "333\t89\t89\t2.46326\tTrue\tTrue\t0:00:08.501542\n"
     ]
    },
    {
     "name": "stderr",
     "output_type": "stream",
     "text": [
      " 67%|████████████████████████████████████████████████████████████▎                             | 335/500 [48:07<23:30,  8.55s/it]"
     ]
    },
    {
     "name": "stdout",
     "output_type": "stream",
     "text": [
      "334\t77\t7\t2.46326\tFalse\tFalse\t0:00:08.522264\n"
     ]
    },
    {
     "name": "stderr",
     "output_type": "stream",
     "text": [
      " 67%|████████████████████████████████████████████████████████████▍                             | 336/500 [48:15<23:29,  8.60s/it]"
     ]
    },
    {
     "name": "stdout",
     "output_type": "stream",
     "text": [
      "335\t54\t54\t2.46326\tTrue\tTrue\t0:00:08.706172\n"
     ]
    },
    {
     "name": "stderr",
     "output_type": "stream",
     "text": [
      " 67%|████████████████████████████████████████████████████████████▋                             | 337/500 [48:24<23:01,  8.47s/it]"
     ]
    },
    {
     "name": "stdout",
     "output_type": "stream",
     "text": [
      "336\t60\t60\t2.46326\tTrue\tTrue\t0:00:08.190307\n"
     ]
    },
    {
     "name": "stderr",
     "output_type": "stream",
     "text": [
      " 68%|████████████████████████████████████████████████████████████▊                             | 338/500 [48:32<22:59,  8.51s/it]"
     ]
    },
    {
     "name": "stdout",
     "output_type": "stream",
     "text": [
      "337\t13\t13\t2.46326\tTrue\tTrue\t0:00:08.606701\n"
     ]
    },
    {
     "name": "stderr",
     "output_type": "stream",
     "text": [
      " 68%|█████████████████████████████████████████████████████████████                             | 339/500 [48:40<22:30,  8.39s/it]"
     ]
    },
    {
     "name": "stdout",
     "output_type": "stream",
     "text": [
      "338\t12\t13\t2.46326\tFalse\tFalse\t0:00:08.096895\n"
     ]
    },
    {
     "name": "stderr",
     "output_type": "stream",
     "text": [
      " 68%|█████████████████████████████████████████████████████████████▏                            | 340/500 [48:49<22:51,  8.57s/it]"
     ]
    },
    {
     "name": "stdout",
     "output_type": "stream",
     "text": [
      "339\t8\t48\t1.61599\tFalse\tFalse\t0:00:08.999118\n"
     ]
    },
    {
     "name": "stderr",
     "output_type": "stream",
     "text": [
      " 68%|█████████████████████████████████████████████████████████████▍                            | 341/500 [48:57<22:20,  8.43s/it]"
     ]
    },
    {
     "name": "stdout",
     "output_type": "stream",
     "text": [
      "340\t35\t2\t2.46326\tFalse\tFalse\t0:00:08.095038\n"
     ]
    },
    {
     "name": "stderr",
     "output_type": "stream",
     "text": [
      " 68%|█████████████████████████████████████████████████████████████▌                            | 342/500 [49:06<22:20,  8.48s/it]"
     ]
    },
    {
     "name": "stdout",
     "output_type": "stream",
     "text": [
      "341\t84\t11\t2.46326\tFalse\tFalse\t0:00:08.598925\n"
     ]
    },
    {
     "name": "stderr",
     "output_type": "stream",
     "text": [
      " 69%|█████████████████████████████████████████████████████████████▋                            | 343/500 [49:14<22:07,  8.46s/it]"
     ]
    },
    {
     "name": "stdout",
     "output_type": "stream",
     "text": [
      "342\t89\t89\t2.46326\tTrue\tTrue\t0:00:08.397732\n"
     ]
    },
    {
     "name": "stderr",
     "output_type": "stream",
     "text": [
      " 69%|█████████████████████████████████████████████████████████████▉                            | 344/500 [49:22<21:38,  8.32s/it]"
     ]
    },
    {
     "name": "stdout",
     "output_type": "stream",
     "text": [
      "343\t68\t68\t2.46326\tTrue\tTrue\t0:00:08.007025\n"
     ]
    },
    {
     "name": "stderr",
     "output_type": "stream",
     "text": [
      " 69%|██████████████████████████████████████████████████████████████                            | 345/500 [49:31<21:47,  8.44s/it]"
     ]
    },
    {
     "name": "stdout",
     "output_type": "stream",
     "text": [
      "344\t32\t32\t2.46326\tTrue\tTrue\t0:00:08.698349\n"
     ]
    },
    {
     "name": "stderr",
     "output_type": "stream",
     "text": [
      " 69%|██████████████████████████████████████████████████████████████▎                           | 346/500 [49:40<22:00,  8.57s/it]"
     ]
    },
    {
     "name": "stdout",
     "output_type": "stream",
     "text": [
      "345\t23\t-1\t0.00000\tFalse\tFalse\t0:00:08.814813\n"
     ]
    },
    {
     "name": "stderr",
     "output_type": "stream",
     "text": [
      " 69%|██████████████████████████████████████████████████████████████▍                           | 347/500 [49:49<21:47,  8.55s/it]"
     ]
    },
    {
     "name": "stdout",
     "output_type": "stream",
     "text": [
      "346\t84\t5\t2.46326\tFalse\tFalse\t0:00:08.484787\n"
     ]
    },
    {
     "name": "stderr",
     "output_type": "stream",
     "text": [
      " 70%|██████████████████████████████████████████████████████████████▋                           | 348/500 [49:57<21:37,  8.54s/it]"
     ]
    },
    {
     "name": "stdout",
     "output_type": "stream",
     "text": [
      "347\t34\t34\t2.46326\tTrue\tTrue\t0:00:08.511661\n"
     ]
    },
    {
     "name": "stderr",
     "output_type": "stream",
     "text": [
      " 70%|██████████████████████████████████████████████████████████████▊                           | 349/500 [50:06<21:49,  8.67s/it]"
     ]
    },
    {
     "name": "stdout",
     "output_type": "stream",
     "text": [
      "348\t88\t97\t1.61599\tFalse\tFalse\t0:00:08.906274\n"
     ]
    },
    {
     "name": "stderr",
     "output_type": "stream",
     "text": [
      " 70%|██████████████████████████████████████████████████████████████▉                           | 350/500 [50:15<21:42,  8.68s/it]"
     ]
    },
    {
     "name": "stdout",
     "output_type": "stream",
     "text": [
      "349\t47\t47\t2.46326\tTrue\tTrue\t0:00:08.696911\n"
     ]
    },
    {
     "name": "stderr",
     "output_type": "stream",
     "text": [
      " 70%|███████████████████████████████████████████████████████████████▏                          | 351/500 [50:23<21:16,  8.57s/it]"
     ]
    },
    {
     "name": "stdout",
     "output_type": "stream",
     "text": [
      "350\t9\t57\t2.46326\tFalse\tFalse\t0:00:08.300731\n"
     ]
    },
    {
     "name": "stderr",
     "output_type": "stream",
     "text": [
      " 70%|███████████████████████████████████████████████████████████████▎                          | 352/500 [50:33<22:07,  8.97s/it]"
     ]
    },
    {
     "name": "stdout",
     "output_type": "stream",
     "text": [
      "351\t60\t60\t2.46326\tTrue\tTrue\t0:00:09.902500\n"
     ]
    },
    {
     "name": "stderr",
     "output_type": "stream",
     "text": [
      " 71%|███████████████████████████████████████████████████████████████▌                          | 353/500 [50:41<21:37,  8.83s/it]"
     ]
    },
    {
     "name": "stdout",
     "output_type": "stream",
     "text": [
      "352\t85\t85\t2.46326\tTrue\tTrue\t0:00:08.490433\n"
     ]
    },
    {
     "name": "stderr",
     "output_type": "stream",
     "text": [
      " 71%|███████████████████████████████████████████████████████████████▋                          | 354/500 [50:51<21:40,  8.91s/it]"
     ]
    },
    {
     "name": "stdout",
     "output_type": "stream",
     "text": [
      "353\t55\t34\t2.46326\tFalse\tFalse\t0:00:09.106223\n"
     ]
    },
    {
     "name": "stderr",
     "output_type": "stream",
     "text": [
      " 71%|███████████████████████████████████████████████████████████████▉                          | 355/500 [51:00<21:52,  9.05s/it]"
     ]
    },
    {
     "name": "stdout",
     "output_type": "stream",
     "text": [
      "354\t34\t34\t1.13035\tFalse\tTrue\t0:00:09.387502\n"
     ]
    },
    {
     "name": "stderr",
     "output_type": "stream",
     "text": [
      " 71%|████████████████████████████████████████████████████████████████                          | 356/500 [51:11<23:16,  9.70s/it]"
     ]
    },
    {
     "name": "stdout",
     "output_type": "stream",
     "text": [
      "355\t49\t-1\t0.00000\tFalse\tFalse\t0:00:11.194613\n"
     ]
    },
    {
     "name": "stderr",
     "output_type": "stream",
     "text": [
      " 71%|████████████████████████████████████████████████████████████████▎                         | 357/500 [51:20<22:45,  9.55s/it]"
     ]
    },
    {
     "name": "stdout",
     "output_type": "stream",
     "text": [
      "356\t68\t68\t2.46326\tTrue\tTrue\t0:00:09.211193\n"
     ]
    },
    {
     "name": "stderr",
     "output_type": "stream",
     "text": [
      " 72%|████████████████████████████████████████████████████████████████▍                         | 358/500 [51:30<22:55,  9.68s/it]"
     ]
    },
    {
     "name": "stdout",
     "output_type": "stream",
     "text": [
      "357\t39\t23\t1.61599\tFalse\tFalse\t0:00:09.988752\n"
     ]
    },
    {
     "name": "stderr",
     "output_type": "stream",
     "text": [
      " 72%|████████████████████████████████████████████████████████████████▌                         | 359/500 [51:38<21:38,  9.21s/it]"
     ]
    },
    {
     "name": "stdout",
     "output_type": "stream",
     "text": [
      "358\t94\t94\t2.46326\tTrue\tTrue\t0:00:08.105627\n"
     ]
    },
    {
     "name": "stderr",
     "output_type": "stream",
     "text": [
      " 72%|████████████████████████████████████████████████████████████████▊                         | 360/500 [51:47<20:55,  8.97s/it]"
     ]
    },
    {
     "name": "stdout",
     "output_type": "stream",
     "text": [
      "359\t84\t13\t0.30129\tFalse\tFalse\t0:00:08.397065\n"
     ]
    },
    {
     "name": "stderr",
     "output_type": "stream",
     "text": [
      " 72%|████████████████████████████████████████████████████████████████▉                         | 361/500 [51:56<20:39,  8.92s/it]"
     ]
    },
    {
     "name": "stdout",
     "output_type": "stream",
     "text": [
      "360\t89\t89\t2.46326\tTrue\tTrue\t0:00:08.801362\n"
     ]
    },
    {
     "name": "stderr",
     "output_type": "stream",
     "text": [
      " 72%|█████████████████████████████████████████████████████████████████▏                        | 362/500 [52:05<20:33,  8.94s/it]"
     ]
    },
    {
     "name": "stdout",
     "output_type": "stream",
     "text": [
      "361\t60\t19\t0.51038\tFalse\tFalse\t0:00:08.984546\n"
     ]
    },
    {
     "name": "stderr",
     "output_type": "stream",
     "text": [
      " 73%|█████████████████████████████████████████████████████████████████▎                        | 363/500 [52:14<20:23,  8.93s/it]"
     ]
    },
    {
     "name": "stdout",
     "output_type": "stream",
     "text": [
      "362\t11\t46\t2.46326\tFalse\tFalse\t0:00:08.907022\n"
     ]
    },
    {
     "name": "stderr",
     "output_type": "stream",
     "text": [
      " 73%|█████████████████████████████████████████████████████████████████▌                        | 364/500 [52:22<19:48,  8.74s/it]"
     ]
    },
    {
     "name": "stdout",
     "output_type": "stream",
     "text": [
      "363\t95\t72\t0.83511\tFalse\tFalse\t0:00:08.293909\n"
     ]
    },
    {
     "name": "stderr",
     "output_type": "stream",
     "text": [
      " 73%|█████████████████████████████████████████████████████████████████▋                        | 365/500 [52:30<19:13,  8.55s/it]"
     ]
    },
    {
     "name": "stdout",
     "output_type": "stream",
     "text": [
      "364\t22\t2\t0.83896\tFalse\tFalse\t0:00:08.086748\n"
     ]
    },
    {
     "name": "stderr",
     "output_type": "stream",
     "text": [
      " 73%|█████████████████████████████████████████████████████████████████▉                        | 366/500 [52:38<19:03,  8.53s/it]"
     ]
    },
    {
     "name": "stdout",
     "output_type": "stream",
     "text": [
      "365\t80\t55\t2.46326\tFalse\tFalse\t0:00:08.507990\n"
     ]
    },
    {
     "name": "stderr",
     "output_type": "stream",
     "text": [
      " 73%|██████████████████████████████████████████████████████████████████                        | 367/500 [52:46<18:30,  8.35s/it]"
     ]
    },
    {
     "name": "stdout",
     "output_type": "stream",
     "text": [
      "366\t52\t52\t2.46326\tTrue\tTrue\t0:00:07.904790\n"
     ]
    },
    {
     "name": "stderr",
     "output_type": "stream",
     "text": [
      " 74%|██████████████████████████████████████████████████████████████████▏                       | 368/500 [52:55<18:31,  8.42s/it]"
     ]
    },
    {
     "name": "stdout",
     "output_type": "stream",
     "text": [
      "367\t57\t-1\t0.00000\tFalse\tFalse\t0:00:08.516548\n"
     ]
    },
    {
     "name": "stderr",
     "output_type": "stream",
     "text": [
      " 74%|██████████████████████████████████████████████████████████████████▍                       | 369/500 [53:04<18:38,  8.54s/it]"
     ]
    },
    {
     "name": "stdout",
     "output_type": "stream",
     "text": [
      "368\t82\t82\t2.46326\tTrue\tTrue\t0:00:08.795671\n"
     ]
    },
    {
     "name": "stderr",
     "output_type": "stream",
     "text": [
      " 74%|██████████████████████████████████████████████████████████████████▌                       | 370/500 [53:13<18:43,  8.64s/it]"
     ]
    },
    {
     "name": "stdout",
     "output_type": "stream",
     "text": [
      "369\t81\t81\t2.46326\tTrue\tTrue\t0:00:08.887712\n"
     ]
    },
    {
     "name": "stderr",
     "output_type": "stream",
     "text": [
      " 74%|██████████████████████████████████████████████████████████████████▊                       | 371/500 [53:21<18:40,  8.69s/it]"
     ]
    },
    {
     "name": "stdout",
     "output_type": "stream",
     "text": [
      "370\t55\t18\t0.74658\tFalse\tFalse\t0:00:08.796017\n"
     ]
    },
    {
     "name": "stderr",
     "output_type": "stream",
     "text": [
      " 74%|██████████████████████████████████████████████████████████████████▉                       | 372/500 [53:30<18:29,  8.67s/it]"
     ]
    },
    {
     "name": "stdout",
     "output_type": "stream",
     "text": [
      "371\t89\t89\t2.46326\tTrue\tTrue\t0:00:08.612087\n"
     ]
    },
    {
     "name": "stderr",
     "output_type": "stream",
     "text": [
      " 75%|███████████████████████████████████████████████████████████████████▏                      | 373/500 [53:39<18:29,  8.73s/it]"
     ]
    },
    {
     "name": "stdout",
     "output_type": "stream",
     "text": [
      "372\t6\t79\t0.48370\tFalse\tFalse\t0:00:08.888423\n"
     ]
    },
    {
     "name": "stderr",
     "output_type": "stream",
     "text": [
      " 75%|███████████████████████████████████████████████████████████████████▎                      | 374/500 [53:48<18:49,  8.96s/it]"
     ]
    },
    {
     "name": "stdout",
     "output_type": "stream",
     "text": [
      "373\t25\t94\t2.46326\tFalse\tFalse\t0:00:09.498648\n"
     ]
    },
    {
     "name": "stderr",
     "output_type": "stream",
     "text": [
      " 75%|███████████████████████████████████████████████████████████████████▌                      | 375/500 [53:57<18:30,  8.88s/it]"
     ]
    },
    {
     "name": "stdout",
     "output_type": "stream",
     "text": [
      "374\t98\t-1\t0.00000\tFalse\tFalse\t0:00:08.686642\n"
     ]
    },
    {
     "name": "stderr",
     "output_type": "stream",
     "text": [
      " 75%|███████████████████████████████████████████████████████████████████▋                      | 376/500 [54:06<18:18,  8.86s/it]"
     ]
    },
    {
     "name": "stdout",
     "output_type": "stream",
     "text": [
      "375\t50\t93\t2.46326\tFalse\tFalse\t0:00:08.816186\n"
     ]
    },
    {
     "name": "stderr",
     "output_type": "stream",
     "text": [
      " 75%|███████████████████████████████████████████████████████████████████▊                      | 377/500 [54:14<17:45,  8.66s/it]"
     ]
    },
    {
     "name": "stdout",
     "output_type": "stream",
     "text": [
      "376\t40\t28\t1.29070\tFalse\tFalse\t0:00:08.105865\n"
     ]
    },
    {
     "name": "stderr",
     "output_type": "stream",
     "text": [
      " 76%|████████████████████████████████████████████████████████████████████                      | 378/500 [54:22<17:05,  8.41s/it]"
     ]
    },
    {
     "name": "stdout",
     "output_type": "stream",
     "text": [
      "377\t52\t52\t2.46326\tTrue\tTrue\t0:00:07.806609\n"
     ]
    },
    {
     "name": "stderr",
     "output_type": "stream",
     "text": [
      " 76%|████████████████████████████████████████████████████████████████████▏                     | 379/500 [54:30<16:45,  8.31s/it]"
     ]
    },
    {
     "name": "stdout",
     "output_type": "stream",
     "text": [
      "378\t1\t1\t2.46326\tTrue\tTrue\t0:00:08.085208\n"
     ]
    },
    {
     "name": "stderr",
     "output_type": "stream",
     "text": [
      " 76%|████████████████████████████████████████████████████████████████████▍                     | 380/500 [54:39<17:02,  8.52s/it]"
     ]
    },
    {
     "name": "stdout",
     "output_type": "stream",
     "text": [
      "379\t56\t56\t2.46326\tTrue\tTrue\t0:00:09.005208\n"
     ]
    },
    {
     "name": "stderr",
     "output_type": "stream",
     "text": [
      " 76%|████████████████████████████████████████████████████████████████████▌                     | 381/500 [54:48<17:00,  8.57s/it]"
     ]
    },
    {
     "name": "stdout",
     "output_type": "stream",
     "text": [
      "380\t13\t87\t1.61599\tFalse\tFalse\t0:00:08.696691\n"
     ]
    },
    {
     "name": "stderr",
     "output_type": "stream",
     "text": [
      " 76%|████████████████████████████████████████████████████████████████████▊                     | 382/500 [54:56<16:42,  8.49s/it]"
     ]
    },
    {
     "name": "stdout",
     "output_type": "stream",
     "text": [
      "381\t27\t85\t2.46326\tFalse\tFalse\t0:00:08.306669\n"
     ]
    },
    {
     "name": "stderr",
     "output_type": "stream",
     "text": [
      " 77%|████████████████████████████████████████████████████████████████████▉                     | 383/500 [55:05<16:58,  8.70s/it]"
     ]
    },
    {
     "name": "stdout",
     "output_type": "stream",
     "text": [
      "382\t95\t95\t2.46326\tTrue\tTrue\t0:00:09.191095\n"
     ]
    },
    {
     "name": "stderr",
     "output_type": "stream",
     "text": [
      " 77%|█████████████████████████████████████████████████████████████████████                     | 384/500 [55:14<16:56,  8.76s/it]"
     ]
    },
    {
     "name": "stdout",
     "output_type": "stream",
     "text": [
      "383\t99\t99\t2.46326\tTrue\tTrue\t0:00:08.887083\n"
     ]
    },
    {
     "name": "stderr",
     "output_type": "stream",
     "text": [
      " 77%|█████████████████████████████████████████████████████████████████████▎                    | 385/500 [55:23<16:38,  8.69s/it]"
     ]
    },
    {
     "name": "stdout",
     "output_type": "stream",
     "text": [
      "384\t64\t64\t2.46326\tTrue\tTrue\t0:00:08.515582\n"
     ]
    },
    {
     "name": "stderr",
     "output_type": "stream",
     "text": [
      " 77%|█████████████████████████████████████████████████████████████████████▍                    | 386/500 [55:31<16:33,  8.72s/it]"
     ]
    },
    {
     "name": "stdout",
     "output_type": "stream",
     "text": [
      "385\t85\t15\t2.46326\tFalse\tFalse\t0:00:08.709308\n"
     ]
    },
    {
     "name": "stderr",
     "output_type": "stream",
     "text": [
      " 77%|█████████████████████████████████████████████████████████████████████▋                    | 387/500 [55:41<16:38,  8.84s/it]"
     ]
    },
    {
     "name": "stdout",
     "output_type": "stream",
     "text": [
      "386\t59\t96\t2.46326\tFalse\tFalse\t0:00:09.106237\n"
     ]
    },
    {
     "name": "stderr",
     "output_type": "stream",
     "text": [
      " 78%|█████████████████████████████████████████████████████████████████████▊                    | 388/500 [55:50<16:44,  8.97s/it]"
     ]
    },
    {
     "name": "stdout",
     "output_type": "stream",
     "text": [
      "387\t69\t69\t1.57173\tTrue\tTrue\t0:00:09.201329\n"
     ]
    },
    {
     "name": "stderr",
     "output_type": "stream",
     "text": [
      " 78%|██████████████████████████████████████████████████████████████████████                    | 389/500 [55:58<16:17,  8.80s/it]"
     ]
    },
    {
     "name": "stdout",
     "output_type": "stream",
     "text": [
      "388\t96\t56\t2.46326\tFalse\tFalse\t0:00:08.411792\n"
     ]
    },
    {
     "name": "stderr",
     "output_type": "stream",
     "text": [
      " 78%|██████████████████████████████████████████████████████████████████████▏                   | 390/500 [56:08<16:34,  9.04s/it]"
     ]
    },
    {
     "name": "stdout",
     "output_type": "stream",
     "text": [
      "389\t23\t30\t2.46326\tFalse\tFalse\t0:00:09.588085\n"
     ]
    },
    {
     "name": "stderr",
     "output_type": "stream",
     "text": [
      " 78%|██████████████████████████████████████████████████████████████████████▍                   | 391/500 [56:17<16:36,  9.15s/it]"
     ]
    },
    {
     "name": "stdout",
     "output_type": "stream",
     "text": [
      "390\t96\t60\t2.46326\tFalse\tFalse\t0:00:09.394804\n"
     ]
    },
    {
     "name": "stderr",
     "output_type": "stream",
     "text": [
      " 78%|██████████████████████████████████████████████████████████████████████▌                   | 392/500 [56:26<16:20,  9.07s/it]"
     ]
    },
    {
     "name": "stdout",
     "output_type": "stream",
     "text": [
      "391\t56\t56\t2.46326\tTrue\tTrue\t0:00:08.904424\n"
     ]
    },
    {
     "name": "stderr",
     "output_type": "stream",
     "text": [
      " 79%|██████████████████████████████████████████████████████████████████████▋                   | 393/500 [56:35<15:49,  8.87s/it]"
     ]
    },
    {
     "name": "stdout",
     "output_type": "stream",
     "text": [
      "392\t86\t86\t2.46326\tTrue\tTrue\t0:00:08.396535\n"
     ]
    },
    {
     "name": "stderr",
     "output_type": "stream",
     "text": [
      " 79%|██████████████████████████████████████████████████████████████████████▉                   | 394/500 [56:43<15:31,  8.79s/it]"
     ]
    },
    {
     "name": "stdout",
     "output_type": "stream",
     "text": [
      "393\t16\t16\t2.46326\tTrue\tTrue\t0:00:08.602664\n"
     ]
    },
    {
     "name": "stderr",
     "output_type": "stream",
     "text": [
      " 79%|███████████████████████████████████████████████████████████████████████                   | 395/500 [56:51<15:07,  8.64s/it]"
     ]
    },
    {
     "name": "stdout",
     "output_type": "stream",
     "text": [
      "394\t86\t-1\t0.00000\tFalse\tFalse\t0:00:08.297737\n"
     ]
    },
    {
     "name": "stderr",
     "output_type": "stream",
     "text": [
      " 79%|███████████████████████████████████████████████████████████████████████▎                  | 396/500 [57:00<15:07,  8.72s/it]"
     ]
    },
    {
     "name": "stdout",
     "output_type": "stream",
     "text": [
      "395\t0\t70\t0.32294\tFalse\tFalse\t0:00:08.898588\n"
     ]
    },
    {
     "name": "stderr",
     "output_type": "stream",
     "text": [
      " 79%|███████████████████████████████████████████████████████████████████████▍                  | 397/500 [57:10<15:22,  8.95s/it]"
     ]
    },
    {
     "name": "stdout",
     "output_type": "stream",
     "text": [
      "396\t66\t66\t2.46326\tTrue\tTrue\t0:00:09.489770\n"
     ]
    },
    {
     "name": "stderr",
     "output_type": "stream",
     "text": [
      " 80%|███████████████████████████████████████████████████████████████████████▋                  | 398/500 [57:19<15:08,  8.91s/it]"
     ]
    },
    {
     "name": "stdout",
     "output_type": "stream",
     "text": [
      "397\t25\t25\t2.46326\tTrue\tTrue\t0:00:08.797297\n"
     ]
    },
    {
     "name": "stderr",
     "output_type": "stream",
     "text": [
      " 80%|███████████████████████████████████████████████████████████████████████▊                  | 399/500 [57:28<15:14,  9.05s/it]"
     ]
    },
    {
     "name": "stdout",
     "output_type": "stream",
     "text": [
      "398\t57\t57\t2.46326\tTrue\tTrue\t0:00:09.393883\n"
     ]
    },
    {
     "name": "stderr",
     "output_type": "stream",
     "text": [
      " 80%|████████████████████████████████████████████████████████████████████████                  | 400/500 [57:37<14:54,  8.95s/it]"
     ]
    },
    {
     "name": "stdout",
     "output_type": "stream",
     "text": [
      "399\t40\t40\t2.46326\tTrue\tTrue\t0:00:08.702672\n"
     ]
    },
    {
     "name": "stderr",
     "output_type": "stream",
     "text": [
      " 80%|████████████████████████████████████████████████████████████████████████▏                 | 401/500 [57:45<14:35,  8.84s/it]"
     ]
    },
    {
     "name": "stdout",
     "output_type": "stream",
     "text": [
      "400\t55\t30\t2.46326\tFalse\tFalse\t0:00:08.591797\n"
     ]
    },
    {
     "name": "stderr",
     "output_type": "stream",
     "text": [
      " 80%|████████████████████████████████████████████████████████████████████████▎                 | 402/500 [57:54<14:08,  8.65s/it]"
     ]
    },
    {
     "name": "stdout",
     "output_type": "stream",
     "text": [
      "401\t38\t38\t2.46326\tTrue\tTrue\t0:00:08.209314\n"
     ]
    },
    {
     "name": "stderr",
     "output_type": "stream",
     "text": [
      " 81%|████████████████████████████████████████████████████████████████████████▌                 | 403/500 [58:02<14:03,  8.70s/it]"
     ]
    },
    {
     "name": "stdout",
     "output_type": "stream",
     "text": [
      "402\t28\t28\t2.46326\tTrue\tTrue\t0:00:08.801318\n"
     ]
    },
    {
     "name": "stderr",
     "output_type": "stream",
     "text": [
      " 81%|████████████████████████████████████████████████████████████████████████▋                 | 404/500 [58:11<13:40,  8.55s/it]"
     ]
    },
    {
     "name": "stdout",
     "output_type": "stream",
     "text": [
      "403\t71\t-1\t0.00000\tFalse\tFalse\t0:00:08.114956\n"
     ]
    },
    {
     "name": "stderr",
     "output_type": "stream",
     "text": [
      " 81%|████████████████████████████████████████████████████████████████████████▉                 | 405/500 [58:19<13:30,  8.53s/it]"
     ]
    },
    {
     "name": "stdout",
     "output_type": "stream",
     "text": [
      "404\t88\t43\t2.46326\tFalse\tFalse\t0:00:08.487456\n"
     ]
    },
    {
     "name": "stderr",
     "output_type": "stream",
     "text": [
      " 81%|█████████████████████████████████████████████████████████████████████████                 | 406/500 [58:28<13:21,  8.52s/it]"
     ]
    },
    {
     "name": "stdout",
     "output_type": "stream",
     "text": [
      "405\t42\t42\t0.64126\tFalse\tTrue\t0:00:08.507242\n"
     ]
    },
    {
     "name": "stderr",
     "output_type": "stream",
     "text": [
      " 81%|█████████████████████████████████████████████████████████████████████████▎                | 407/500 [58:36<13:17,  8.57s/it]"
     ]
    },
    {
     "name": "stdout",
     "output_type": "stream",
     "text": [
      "406\t91\t91\t2.46326\tTrue\tTrue\t0:00:08.684151\n"
     ]
    },
    {
     "name": "stderr",
     "output_type": "stream",
     "text": [
      " 82%|█████████████████████████████████████████████████████████████████████████▍                | 408/500 [58:45<13:07,  8.56s/it]"
     ]
    },
    {
     "name": "stdout",
     "output_type": "stream",
     "text": [
      "407\t32\t27\t1.30416\tFalse\tFalse\t0:00:08.512796\n"
     ]
    },
    {
     "name": "stderr",
     "output_type": "stream",
     "text": [
      " 82%|█████████████████████████████████████████████████████████████████████████▌                | 409/500 [58:54<13:07,  8.66s/it]"
     ]
    },
    {
     "name": "stdout",
     "output_type": "stream",
     "text": [
      "408\t27\t27\t2.46326\tTrue\tTrue\t0:00:08.884514\n"
     ]
    },
    {
     "name": "stderr",
     "output_type": "stream",
     "text": [
      " 82%|█████████████████████████████████████████████████████████████████████████▊                | 410/500 [59:03<13:05,  8.73s/it]"
     ]
    },
    {
     "name": "stdout",
     "output_type": "stream",
     "text": [
      "409\t62\t62\t2.46326\tTrue\tTrue\t0:00:08.900360\n"
     ]
    },
    {
     "name": "stderr",
     "output_type": "stream",
     "text": [
      " 82%|█████████████████████████████████████████████████████████████████████████▉                | 411/500 [59:12<13:03,  8.81s/it]"
     ]
    },
    {
     "name": "stdout",
     "output_type": "stream",
     "text": [
      "410\t28\t28\t2.46326\tTrue\tTrue\t0:00:08.991347\n"
     ]
    },
    {
     "name": "stderr",
     "output_type": "stream",
     "text": [
      " 82%|██████████████████████████████████████████████████████████████████████████▏               | 412/500 [59:21<13:00,  8.87s/it]"
     ]
    },
    {
     "name": "stdout",
     "output_type": "stream",
     "text": [
      "411\t10\t61\t2.46326\tFalse\tFalse\t0:00:09.003746\n"
     ]
    },
    {
     "name": "stderr",
     "output_type": "stream",
     "text": [
      " 83%|██████████████████████████████████████████████████████████████████████████▎               | 413/500 [59:29<12:34,  8.67s/it]"
     ]
    },
    {
     "name": "stdout",
     "output_type": "stream",
     "text": [
      "412\t24\t7\t1.37594\tFalse\tFalse\t0:00:08.200889\n"
     ]
    },
    {
     "name": "stderr",
     "output_type": "stream",
     "text": [
      " 83%|██████████████████████████████████████████████████████████████████████████▌               | 414/500 [59:37<12:10,  8.50s/it]"
     ]
    },
    {
     "name": "stdout",
     "output_type": "stream",
     "text": [
      "413\t26\t83\t2.46326\tFalse\tFalse\t0:00:08.103392\n"
     ]
    },
    {
     "name": "stderr",
     "output_type": "stream",
     "text": [
      " 83%|██████████████████████████████████████████████████████████████████████████▋               | 415/500 [59:45<12:02,  8.50s/it]"
     ]
    },
    {
     "name": "stdout",
     "output_type": "stream",
     "text": [
      "414\t31\t31\t2.46326\tTrue\tTrue\t0:00:08.498024\n"
     ]
    },
    {
     "name": "stderr",
     "output_type": "stream",
     "text": [
      " 83%|██████████████████████████████████████████████████████████████████████████▉               | 416/500 [59:54<11:48,  8.44s/it]"
     ]
    },
    {
     "name": "stdout",
     "output_type": "stream",
     "text": [
      "415\t6\t6\t2.46326\tTrue\tTrue\t0:00:08.281965\n"
     ]
    },
    {
     "name": "stderr",
     "output_type": "stream",
     "text": [
      " 83%|█████████████████████████████████████████████████████████████████████████▍              | 417/500 [1:00:03<11:54,  8.61s/it]"
     ]
    },
    {
     "name": "stdout",
     "output_type": "stream",
     "text": [
      "416\t55\t72\t0.04200\tFalse\tFalse\t0:00:09.006359\n"
     ]
    },
    {
     "name": "stderr",
     "output_type": "stream",
     "text": [
      " 84%|█████████████████████████████████████████████████████████████████████████▌              | 418/500 [1:00:11<11:33,  8.46s/it]"
     ]
    },
    {
     "name": "stdout",
     "output_type": "stream",
     "text": [
      "417\t32\t15\t1.73220\tFalse\tFalse\t0:00:08.101842\n"
     ]
    },
    {
     "name": "stderr",
     "output_type": "stream",
     "text": [
      " 84%|█████████████████████████████████████████████████████████████████████████▋              | 419/500 [1:00:19<11:16,  8.35s/it]"
     ]
    },
    {
     "name": "stdout",
     "output_type": "stream",
     "text": [
      "418\t67\t32\t2.46326\tFalse\tFalse\t0:00:08.094172\n"
     ]
    },
    {
     "name": "stderr",
     "output_type": "stream",
     "text": [
      " 84%|█████████████████████████████████████████████████████████████████████████▉              | 420/500 [1:00:27<11:11,  8.39s/it]"
     ]
    },
    {
     "name": "stdout",
     "output_type": "stream",
     "text": [
      "419\t15\t19\t2.46326\tFalse\tFalse\t0:00:08.489082\n"
     ]
    },
    {
     "name": "stderr",
     "output_type": "stream",
     "text": [
      " 84%|██████████████████████████████████████████████████████████████████████████              | 421/500 [1:00:36<11:05,  8.43s/it]"
     ]
    },
    {
     "name": "stdout",
     "output_type": "stream",
     "text": [
      "420\t46\t32\t1.61599\tFalse\tFalse\t0:00:08.511219\n"
     ]
    },
    {
     "name": "stderr",
     "output_type": "stream",
     "text": [
      " 84%|██████████████████████████████████████████████████████████████████████████▎             | 422/500 [1:00:45<11:17,  8.69s/it]"
     ]
    },
    {
     "name": "stdout",
     "output_type": "stream",
     "text": [
      "421\t34\t-1\t0.00000\tFalse\tFalse\t0:00:09.284098\n"
     ]
    },
    {
     "name": "stderr",
     "output_type": "stream",
     "text": [
      " 85%|██████████████████████████████████████████████████████████████████████████▍             | 423/500 [1:00:54<11:14,  8.75s/it]"
     ]
    },
    {
     "name": "stdout",
     "output_type": "stream",
     "text": [
      "422\t88\t-1\t0.00000\tFalse\tFalse\t0:00:08.914420\n"
     ]
    },
    {
     "name": "stderr",
     "output_type": "stream",
     "text": [
      " 85%|██████████████████████████████████████████████████████████████████████████▌             | 424/500 [1:01:03<11:03,  8.73s/it]"
     ]
    },
    {
     "name": "stdout",
     "output_type": "stream",
     "text": [
      "423\t29\t4\t1.58245\tFalse\tFalse\t0:00:08.603302\n"
     ]
    },
    {
     "name": "stderr",
     "output_type": "stream",
     "text": [
      " 85%|██████████████████████████████████████████████████████████████████████████▊             | 425/500 [1:01:12<11:03,  8.84s/it]"
     ]
    },
    {
     "name": "stdout",
     "output_type": "stream",
     "text": [
      "424\t96\t88\t0.99306\tFalse\tFalse\t0:00:09.101573\n"
     ]
    },
    {
     "name": "stderr",
     "output_type": "stream",
     "text": [
      " 85%|██████████████████████████████████████████████████████████████████████████▉             | 426/500 [1:01:21<10:57,  8.89s/it]"
     ]
    },
    {
     "name": "stdout",
     "output_type": "stream",
     "text": [
      "425\t42\t42\t2.46326\tTrue\tTrue\t0:00:08.992119\n"
     ]
    },
    {
     "name": "stderr",
     "output_type": "stream",
     "text": [
      " 85%|███████████████████████████████████████████████████████████████████████████▏            | 427/500 [1:01:29<10:38,  8.74s/it]"
     ]
    },
    {
     "name": "stdout",
     "output_type": "stream",
     "text": [
      "426\t89\t89\t2.46326\tTrue\tTrue\t0:00:08.398042\n"
     ]
    },
    {
     "name": "stderr",
     "output_type": "stream",
     "text": [
      " 86%|███████████████████████████████████████████████████████████████████████████▎            | 428/500 [1:01:37<10:17,  8.58s/it]"
     ]
    },
    {
     "name": "stdout",
     "output_type": "stream",
     "text": [
      "427\t31\t64\t2.46326\tFalse\tFalse\t0:00:08.199907\n"
     ]
    },
    {
     "name": "stderr",
     "output_type": "stream",
     "text": [
      " 86%|███████████████████████████████████████████████████████████████████████████▌            | 429/500 [1:01:46<10:05,  8.53s/it]"
     ]
    },
    {
     "name": "stdout",
     "output_type": "stream",
     "text": [
      "428\t90\t90\t2.46326\tTrue\tTrue\t0:00:08.403363\n"
     ]
    },
    {
     "name": "stderr",
     "output_type": "stream",
     "text": [
      " 86%|███████████████████████████████████████████████████████████████████████████▋            | 430/500 [1:01:53<09:37,  8.25s/it]"
     ]
    },
    {
     "name": "stdout",
     "output_type": "stream",
     "text": [
      "429\t65\t75\t2.46326\tFalse\tFalse\t0:00:07.601713\n"
     ]
    },
    {
     "name": "stderr",
     "output_type": "stream",
     "text": [
      " 86%|███████████████████████████████████████████████████████████████████████████▊            | 431/500 [1:02:02<09:36,  8.36s/it]"
     ]
    },
    {
     "name": "stdout",
     "output_type": "stream",
     "text": [
      "430\t10\t40\t1.53082\tFalse\tFalse\t0:00:08.598221\n"
     ]
    },
    {
     "name": "stderr",
     "output_type": "stream",
     "text": [
      " 86%|████████████████████████████████████████████████████████████████████████████            | 432/500 [1:02:11<09:30,  8.39s/it]"
     ]
    },
    {
     "name": "stdout",
     "output_type": "stream",
     "text": [
      "431\t94\t94\t2.46326\tTrue\tTrue\t0:00:08.482913\n"
     ]
    },
    {
     "name": "stderr",
     "output_type": "stream",
     "text": [
      " 87%|████████████████████████████████████████████████████████████████████████████▏           | 433/500 [1:02:19<09:24,  8.43s/it]"
     ]
    },
    {
     "name": "stdout",
     "output_type": "stream",
     "text": [
      "432\t92\t54\t2.46326\tFalse\tFalse\t0:00:08.505723\n"
     ]
    },
    {
     "name": "stderr",
     "output_type": "stream",
     "text": [
      " 87%|████████████████████████████████████████████████████████████████████████████▍           | 434/500 [1:02:27<09:15,  8.42s/it]"
     ]
    },
    {
     "name": "stdout",
     "output_type": "stream",
     "text": [
      "433\t91\t45\t1.61599\tFalse\tFalse\t0:00:08.399821\n"
     ]
    },
    {
     "name": "stderr",
     "output_type": "stream",
     "text": [
      " 87%|████████████████████████████████████████████████████████████████████████████▌           | 435/500 [1:02:37<09:20,  8.62s/it]"
     ]
    },
    {
     "name": "stdout",
     "output_type": "stream",
     "text": [
      "434\t60\t60\t2.46326\tTrue\tTrue\t0:00:09.088065\n"
     ]
    },
    {
     "name": "stderr",
     "output_type": "stream",
     "text": [
      " 87%|████████████████████████████████████████████████████████████████████████████▋           | 436/500 [1:02:45<09:00,  8.44s/it]"
     ]
    },
    {
     "name": "stdout",
     "output_type": "stream",
     "text": [
      "435\t90\t46\t2.46326\tFalse\tFalse\t0:00:08.010505\n"
     ]
    },
    {
     "name": "stderr",
     "output_type": "stream",
     "text": [
      " 87%|████████████████████████████████████████████████████████████████████████████▉           | 437/500 [1:02:53<08:47,  8.37s/it]"
     ]
    },
    {
     "name": "stdout",
     "output_type": "stream",
     "text": [
      "436\t81\t81\t0.61861\tFalse\tTrue\t0:00:08.191538\n"
     ]
    },
    {
     "name": "stderr",
     "output_type": "stream",
     "text": [
      " 88%|█████████████████████████████████████████████████████████████████████████████           | 438/500 [1:03:01<08:37,  8.35s/it]"
     ]
    },
    {
     "name": "stdout",
     "output_type": "stream",
     "text": [
      "437\t23\t4\t1.09382\tFalse\tFalse\t0:00:08.297826\n"
     ]
    },
    {
     "name": "stderr",
     "output_type": "stream",
     "text": [
      " 88%|█████████████████████████████████████████████████████████████████████████████▎          | 439/500 [1:03:10<08:35,  8.45s/it]"
     ]
    },
    {
     "name": "stdout",
     "output_type": "stream",
     "text": [
      "438\t97\t97\t2.46326\tTrue\tTrue\t0:00:08.689973\n"
     ]
    },
    {
     "name": "stderr",
     "output_type": "stream",
     "text": [
      " 88%|█████████████████████████████████████████████████████████████████████████████▍          | 440/500 [1:03:18<08:22,  8.38s/it]"
     ]
    },
    {
     "name": "stdout",
     "output_type": "stream",
     "text": [
      "439\t31\t-1\t0.00000\tFalse\tFalse\t0:00:08.208929\n"
     ]
    },
    {
     "name": "stderr",
     "output_type": "stream",
     "text": [
      " 88%|█████████████████████████████████████████████████████████████████████████████▌          | 441/500 [1:03:26<08:05,  8.24s/it]"
     ]
    },
    {
     "name": "stdout",
     "output_type": "stream",
     "text": [
      "440\t74\t93\t2.46326\tFalse\tFalse\t0:00:07.899665\n"
     ]
    },
    {
     "name": "stderr",
     "output_type": "stream",
     "text": [
      " 88%|█████████████████████████████████████████████████████████████████████████████▊          | 442/500 [1:03:34<07:55,  8.19s/it]"
     ]
    },
    {
     "name": "stdout",
     "output_type": "stream",
     "text": [
      "441\t75\t75\t2.46326\tTrue\tTrue\t0:00:08.088333\n"
     ]
    },
    {
     "name": "stderr",
     "output_type": "stream",
     "text": [
      " 89%|█████████████████████████████████████████████████████████████████████████████▉          | 443/500 [1:03:42<07:40,  8.08s/it]"
     ]
    },
    {
     "name": "stdout",
     "output_type": "stream",
     "text": [
      "442\t98\t98\t2.46326\tTrue\tTrue\t0:00:07.804471\n"
     ]
    },
    {
     "name": "stderr",
     "output_type": "stream",
     "text": [
      " 89%|██████████████████████████████████████████████████████████████████████████████▏         | 444/500 [1:03:49<07:24,  7.93s/it]"
     ]
    },
    {
     "name": "stdout",
     "output_type": "stream",
     "text": [
      "443\t5\t5\t1.58245\tTrue\tTrue\t0:00:07.600511\n"
     ]
    },
    {
     "name": "stderr",
     "output_type": "stream",
     "text": [
      " 89%|██████████████████████████████████████████████████████████████████████████████▎         | 445/500 [1:03:58<07:20,  8.01s/it]"
     ]
    },
    {
     "name": "stdout",
     "output_type": "stream",
     "text": [
      "444\t6\t77\t0.62827\tFalse\tFalse\t0:00:08.194721\n"
     ]
    },
    {
     "name": "stderr",
     "output_type": "stream",
     "text": [
      " 89%|██████████████████████████████████████████████████████████████████████████████▍         | 446/500 [1:04:06<07:14,  8.04s/it]"
     ]
    },
    {
     "name": "stdout",
     "output_type": "stream",
     "text": [
      "445\t48\t48\t2.46326\tTrue\tTrue\t0:00:08.090416\n"
     ]
    },
    {
     "name": "stderr",
     "output_type": "stream",
     "text": [
      " 89%|██████████████████████████████████████████████████████████████████████████████▋         | 447/500 [1:04:14<07:05,  8.03s/it]"
     ]
    },
    {
     "name": "stdout",
     "output_type": "stream",
     "text": [
      "446\t40\t40\t2.46326\tTrue\tTrue\t0:00:07.996346\n"
     ]
    },
    {
     "name": "stderr",
     "output_type": "stream",
     "text": [
      " 90%|██████████████████████████████████████████████████████████████████████████████▊         | 448/500 [1:04:22<07:09,  8.26s/it]"
     ]
    },
    {
     "name": "stdout",
     "output_type": "stream",
     "text": [
      "447\t66\t-1\t0.00000\tFalse\tFalse\t0:00:08.800574\n"
     ]
    },
    {
     "name": "stderr",
     "output_type": "stream",
     "text": [
      " 90%|███████████████████████████████████████████████████████████████████████████████         | 449/500 [1:04:31<07:09,  8.42s/it]"
     ]
    },
    {
     "name": "stdout",
     "output_type": "stream",
     "text": [
      "448\t68\t12\t2.46326\tFalse\tFalse\t0:00:08.806429\n"
     ]
    },
    {
     "name": "stderr",
     "output_type": "stream",
     "text": [
      " 90%|███████████████████████████████████████████████████████████████████████████████▏        | 450/500 [1:04:40<06:59,  8.38s/it]"
     ]
    },
    {
     "name": "stdout",
     "output_type": "stream",
     "text": [
      "449\t4\t33\t0.76086\tFalse\tFalse\t0:00:08.207929\n"
     ]
    },
    {
     "name": "stderr",
     "output_type": "stream",
     "text": [
      " 90%|███████████████████████████████████████████████████████████████████████████████▍        | 451/500 [1:04:48<06:49,  8.36s/it]"
     ]
    },
    {
     "name": "stdout",
     "output_type": "stream",
     "text": [
      "450\t45\t45\t1.33193\tFalse\tTrue\t0:00:08.289701\n"
     ]
    },
    {
     "name": "stderr",
     "output_type": "stream",
     "text": [
      " 90%|███████████████████████████████████████████████████████████████████████████████▌        | 452/500 [1:04:56<06:38,  8.31s/it]"
     ]
    },
    {
     "name": "stdout",
     "output_type": "stream",
     "text": [
      "451\t42\t42\t2.46326\tTrue\tTrue\t0:00:08.200083\n"
     ]
    },
    {
     "name": "stderr",
     "output_type": "stream",
     "text": [
      " 91%|███████████████████████████████████████████████████████████████████████████████▋        | 453/500 [1:05:05<06:37,  8.46s/it]"
     ]
    },
    {
     "name": "stdout",
     "output_type": "stream",
     "text": [
      "452\t5\t-1\t0.00000\tFalse\tFalse\t0:00:08.802012\n"
     ]
    },
    {
     "name": "stderr",
     "output_type": "stream",
     "text": [
      " 91%|███████████████████████████████████████████████████████████████████████████████▉        | 454/500 [1:05:13<06:25,  8.38s/it]"
     ]
    },
    {
     "name": "stdout",
     "output_type": "stream",
     "text": [
      "453\t14\t14\t2.46326\tTrue\tTrue\t0:00:08.206187\n"
     ]
    },
    {
     "name": "stderr",
     "output_type": "stream",
     "text": [
      " 91%|████████████████████████████████████████████████████████████████████████████████        | 455/500 [1:05:22<06:18,  8.42s/it]"
     ]
    },
    {
     "name": "stdout",
     "output_type": "stream",
     "text": [
      "454\t56\t56\t2.46326\tTrue\tTrue\t0:00:08.410670\n"
     ]
    },
    {
     "name": "stderr",
     "output_type": "stream",
     "text": [
      " 91%|████████████████████████████████████████████████████████████████████████████████▎       | 456/500 [1:05:30<06:07,  8.35s/it]"
     ]
    },
    {
     "name": "stdout",
     "output_type": "stream",
     "text": [
      "455\t83\t53\t2.46326\tFalse\tFalse\t0:00:08.202152\n"
     ]
    },
    {
     "name": "stderr",
     "output_type": "stream",
     "text": [
      " 91%|████████████████████████████████████████████████████████████████████████████████▍       | 457/500 [1:05:38<06:02,  8.43s/it]"
     ]
    },
    {
     "name": "stdout",
     "output_type": "stream",
     "text": [
      "456\t23\t49\t2.46326\tFalse\tFalse\t0:00:08.596583\n"
     ]
    },
    {
     "name": "stderr",
     "output_type": "stream",
     "text": [
      " 92%|████████████████████████████████████████████████████████████████████████████████▌       | 458/500 [1:05:47<05:52,  8.39s/it]"
     ]
    },
    {
     "name": "stdout",
     "output_type": "stream",
     "text": [
      "457\t47\t47\t0.69112\tFalse\tTrue\t0:00:08.307227\n"
     ]
    },
    {
     "name": "stderr",
     "output_type": "stream",
     "text": [
      " 92%|████████████████████████████████████████████████████████████████████████████████▊       | 459/500 [1:05:56<05:50,  8.54s/it]"
     ]
    },
    {
     "name": "stdout",
     "output_type": "stream",
     "text": [
      "458\t7\t6\t2.46326\tFalse\tFalse\t0:00:08.810212\n"
     ]
    },
    {
     "name": "stderr",
     "output_type": "stream",
     "text": [
      " 92%|████████████████████████████████████████████████████████████████████████████████▉       | 460/500 [1:06:04<05:41,  8.53s/it]"
     ]
    },
    {
     "name": "stdout",
     "output_type": "stream",
     "text": [
      "459\t82\t82\t2.46326\tTrue\tTrue\t0:00:08.493024\n"
     ]
    },
    {
     "name": "stderr",
     "output_type": "stream",
     "text": [
      " 92%|█████████████████████████████████████████████████████████████████████████████████▏      | 461/500 [1:06:12<05:27,  8.40s/it]"
     ]
    },
    {
     "name": "stdout",
     "output_type": "stream",
     "text": [
      "460\t54\t54\t2.46326\tTrue\tTrue\t0:00:08.097762\n"
     ]
    },
    {
     "name": "stderr",
     "output_type": "stream",
     "text": [
      " 92%|█████████████████████████████████████████████████████████████████████████████████▎      | 462/500 [1:06:21<05:19,  8.40s/it]"
     ]
    },
    {
     "name": "stdout",
     "output_type": "stream",
     "text": [
      "461\t50\t4\t2.46326\tFalse\tFalse\t0:00:08.410303\n"
     ]
    },
    {
     "name": "stderr",
     "output_type": "stream",
     "text": [
      " 93%|█████████████████████████████████████████████████████████████████████████████████▍      | 463/500 [1:06:28<05:03,  8.20s/it]"
     ]
    },
    {
     "name": "stdout",
     "output_type": "stream",
     "text": [
      "462\t41\t41\t2.46326\tTrue\tTrue\t0:00:07.710936\n"
     ]
    },
    {
     "name": "stderr",
     "output_type": "stream",
     "text": [
      " 93%|█████████████████████████████████████████████████████████████████████████████████▋      | 464/500 [1:06:37<04:57,  8.25s/it]"
     ]
    },
    {
     "name": "stdout",
     "output_type": "stream",
     "text": [
      "463\t98\t11\t2.46326\tFalse\tFalse\t0:00:08.386955\n"
     ]
    },
    {
     "name": "stderr",
     "output_type": "stream",
     "text": [
      " 93%|█████████████████████████████████████████████████████████████████████████████████▊      | 465/500 [1:06:45<04:53,  8.39s/it]"
     ]
    },
    {
     "name": "stdout",
     "output_type": "stream",
     "text": [
      "464\t18\t18\t2.46326\tTrue\tTrue\t0:00:08.708525\n"
     ]
    },
    {
     "name": "stderr",
     "output_type": "stream",
     "text": [
      " 93%|██████████████████████████████████████████████████████████████████████████████████      | 466/500 [1:06:55<04:56,  8.72s/it]"
     ]
    },
    {
     "name": "stdout",
     "output_type": "stream",
     "text": [
      "465\t58\t68\t2.46326\tFalse\tFalse\t0:00:09.487235\n"
     ]
    },
    {
     "name": "stderr",
     "output_type": "stream",
     "text": [
      " 93%|██████████████████████████████████████████████████████████████████████████████████▏     | 467/500 [1:07:04<04:51,  8.84s/it]"
     ]
    },
    {
     "name": "stdout",
     "output_type": "stream",
     "text": [
      "466\t46\t46\t0.27181\tFalse\tTrue\t0:00:09.107419\n"
     ]
    },
    {
     "name": "stderr",
     "output_type": "stream",
     "text": [
      " 94%|██████████████████████████████████████████████████████████████████████████████████▎     | 468/500 [1:07:13<04:43,  8.86s/it]"
     ]
    },
    {
     "name": "stdout",
     "output_type": "stream",
     "text": [
      "467\t8\t-1\t0.00000\tFalse\tFalse\t0:00:08.900855\n"
     ]
    },
    {
     "name": "stderr",
     "output_type": "stream",
     "text": [
      " 94%|██████████████████████████████████████████████████████████████████████████████████▌     | 469/500 [1:07:22<04:39,  9.02s/it]"
     ]
    },
    {
     "name": "stdout",
     "output_type": "stream",
     "text": [
      "468\t3\t19\t0.41445\tFalse\tFalse\t0:00:09.397800\n"
     ]
    },
    {
     "name": "stderr",
     "output_type": "stream",
     "text": [
      " 94%|██████████████████████████████████████████████████████████████████████████████████▋     | 470/500 [1:07:30<04:20,  8.68s/it]"
     ]
    },
    {
     "name": "stdout",
     "output_type": "stream",
     "text": [
      "469\t41\t91\t2.46326\tFalse\tFalse\t0:00:07.895345\n"
     ]
    },
    {
     "name": "stderr",
     "output_type": "stream",
     "text": [
      " 94%|██████████████████████████████████████████████████████████████████████████████████▉     | 471/500 [1:07:39<04:08,  8.57s/it]"
     ]
    },
    {
     "name": "stdout",
     "output_type": "stream",
     "text": [
      "470\t22\t22\t2.46326\tTrue\tTrue\t0:00:08.286836\n"
     ]
    },
    {
     "name": "stderr",
     "output_type": "stream",
     "text": [
      " 94%|███████████████████████████████████████████████████████████████████████████████████     | 472/500 [1:07:47<03:59,  8.55s/it]"
     ]
    },
    {
     "name": "stdout",
     "output_type": "stream",
     "text": [
      "471\t46\t21\t2.46326\tFalse\tFalse\t0:00:08.506968\n"
     ]
    },
    {
     "name": "stderr",
     "output_type": "stream",
     "text": [
      " 95%|███████████████████████████████████████████████████████████████████████████████████▏    | 473/500 [1:07:55<03:49,  8.50s/it]"
     ]
    },
    {
     "name": "stdout",
     "output_type": "stream",
     "text": [
      "472\t78\t-1\t0.00000\tFalse\tFalse\t0:00:08.385147\n"
     ]
    },
    {
     "name": "stderr",
     "output_type": "stream",
     "text": [
      " 95%|███████████████████████████████████████████████████████████████████████████████████▍    | 474/500 [1:08:04<03:37,  8.38s/it]"
     ]
    },
    {
     "name": "stdout",
     "output_type": "stream",
     "text": [
      "473\t61\t61\t2.46326\tTrue\tTrue\t0:00:08.098733\n"
     ]
    },
    {
     "name": "stderr",
     "output_type": "stream",
     "text": [
      " 95%|███████████████████████████████████████████████████████████████████████████████████▌    | 475/500 [1:08:11<03:24,  8.18s/it]"
     ]
    },
    {
     "name": "stdout",
     "output_type": "stream",
     "text": [
      "474\t70\t70\t2.46326\tTrue\tTrue\t0:00:07.700532\n"
     ]
    },
    {
     "name": "stderr",
     "output_type": "stream",
     "text": [
      " 95%|███████████████████████████████████████████████████████████████████████████████████▊    | 476/500 [1:08:20<03:20,  8.37s/it]"
     ]
    },
    {
     "name": "stdout",
     "output_type": "stream",
     "text": [
      "475\t76\t76\t2.46326\tTrue\tTrue\t0:00:08.810467\n"
     ]
    },
    {
     "name": "stderr",
     "output_type": "stream",
     "text": [
      " 95%|███████████████████████████████████████████████████████████████████████████████████▉    | 477/500 [1:08:28<03:09,  8.26s/it]"
     ]
    },
    {
     "name": "stdout",
     "output_type": "stream",
     "text": [
      "476\t74\t74\t2.46326\tTrue\tTrue\t0:00:07.912059\n"
     ]
    },
    {
     "name": "stderr",
     "output_type": "stream",
     "text": [
      " 96%|████████████████████████████████████████████████████████████████████████████████████▏   | 478/500 [1:08:36<02:59,  8.18s/it]"
     ]
    },
    {
     "name": "stdout",
     "output_type": "stream",
     "text": [
      "477\t40\t40\t1.29740\tFalse\tTrue\t0:00:07.996170\n"
     ]
    },
    {
     "name": "stderr",
     "output_type": "stream",
     "text": [
      " 96%|████████████████████████████████████████████████████████████████████████████████████▎   | 479/500 [1:08:45<02:55,  8.34s/it]"
     ]
    },
    {
     "name": "stdout",
     "output_type": "stream",
     "text": [
      "478\t33\t77\t2.46326\tFalse\tFalse\t0:00:08.702638\n"
     ]
    },
    {
     "name": "stderr",
     "output_type": "stream",
     "text": [
      " 96%|████████████████████████████████████████████████████████████████████████████████████▍   | 480/500 [1:08:54<02:50,  8.50s/it]"
     ]
    },
    {
     "name": "stdout",
     "output_type": "stream",
     "text": [
      "479\t83\t9\t2.46326\tFalse\tFalse\t0:00:08.894942\n"
     ]
    },
    {
     "name": "stderr",
     "output_type": "stream",
     "text": [
      " 96%|████████████████████████████████████████████████████████████████████████████████████▋   | 481/500 [1:09:03<02:44,  8.65s/it]"
     ]
    },
    {
     "name": "stdout",
     "output_type": "stream",
     "text": [
      "480\t81\t81\t2.46326\tTrue\tTrue\t0:00:08.990265\n"
     ]
    },
    {
     "name": "stderr",
     "output_type": "stream",
     "text": [
      " 96%|████████████████████████████████████████████████████████████████████████████████████▊   | 482/500 [1:09:11<02:36,  8.67s/it]"
     ]
    },
    {
     "name": "stdout",
     "output_type": "stream",
     "text": [
      "481\t51\t51\t0.20850\tFalse\tTrue\t0:00:08.702776\n"
     ]
    },
    {
     "name": "stderr",
     "output_type": "stream",
     "text": [
      " 97%|█████████████████████████████████████████████████████████████████████████████████████   | 483/500 [1:09:20<02:25,  8.59s/it]"
     ]
    },
    {
     "name": "stdout",
     "output_type": "stream",
     "text": [
      "482\t22\t-1\t0.00000\tFalse\tFalse\t0:00:08.393440\n"
     ]
    },
    {
     "name": "stderr",
     "output_type": "stream",
     "text": [
      " 97%|█████████████████████████████████████████████████████████████████████████████████████▏  | 484/500 [1:09:28<02:14,  8.41s/it]"
     ]
    },
    {
     "name": "stdout",
     "output_type": "stream",
     "text": [
      "483\t88\t51\t1.61599\tFalse\tFalse\t0:00:07.996077\n"
     ]
    },
    {
     "name": "stderr",
     "output_type": "stream",
     "text": [
      " 97%|█████████████████████████████████████████████████████████████████████████████████████▎  | 485/500 [1:09:36<02:06,  8.41s/it]"
     ]
    },
    {
     "name": "stdout",
     "output_type": "stream",
     "text": [
      "484\t55\t-1\t0.00000\tFalse\tFalse\t0:00:08.413964\n"
     ]
    },
    {
     "name": "stderr",
     "output_type": "stream",
     "text": [
      " 97%|█████████████████████████████████████████████████████████████████████████████████████▌  | 486/500 [1:09:45<01:58,  8.50s/it]"
     ]
    },
    {
     "name": "stdout",
     "output_type": "stream",
     "text": [
      "485\t79\t7\t1.61599\tFalse\tFalse\t0:00:08.613228\n"
     ]
    },
    {
     "name": "stderr",
     "output_type": "stream",
     "text": [
      " 97%|█████████████████████████████████████████████████████████████████████████████████████▋  | 487/500 [1:09:54<01:51,  8.61s/it]"
     ]
    },
    {
     "name": "stdout",
     "output_type": "stream",
     "text": [
      "486\t0\t0\t2.46326\tTrue\tTrue\t0:00:08.891582\n"
     ]
    },
    {
     "name": "stderr",
     "output_type": "stream",
     "text": [
      " 98%|█████████████████████████████████████████████████████████████████████████████████████▉  | 488/500 [1:10:02<01:42,  8.58s/it]"
     ]
    },
    {
     "name": "stdout",
     "output_type": "stream",
     "text": [
      "487\t17\t17\t2.46326\tTrue\tTrue\t0:00:08.494597\n"
     ]
    },
    {
     "name": "stderr",
     "output_type": "stream",
     "text": [
      " 98%|██████████████████████████████████████████████████████████████████████████████████████  | 489/500 [1:10:11<01:33,  8.53s/it]"
     ]
    },
    {
     "name": "stdout",
     "output_type": "stream",
     "text": [
      "488\t27\t63\t1.97801\tFalse\tFalse\t0:00:08.408783\n"
     ]
    },
    {
     "name": "stderr",
     "output_type": "stream",
     "text": [
      " 98%|██████████████████████████████████████████████████████████████████████████████████████▏ | 490/500 [1:10:19<01:25,  8.58s/it]"
     ]
    },
    {
     "name": "stdout",
     "output_type": "stream",
     "text": [
      "489\t83\t92\t2.46326\tFalse\tFalse\t0:00:08.690003\n"
     ]
    },
    {
     "name": "stderr",
     "output_type": "stream",
     "text": [
      " 98%|██████████████████████████████████████████████████████████████████████████████████████▍ | 491/500 [1:10:29<01:19,  8.79s/it]"
     ]
    },
    {
     "name": "stdout",
     "output_type": "stream",
     "text": [
      "490\t99\t99\t2.46326\tTrue\tTrue\t0:00:09.292203\n"
     ]
    },
    {
     "name": "stderr",
     "output_type": "stream",
     "text": [
      " 98%|██████████████████████████████████████████████████████████████████████████████████████▌ | 492/500 [1:10:37<01:10,  8.77s/it]"
     ]
    },
    {
     "name": "stdout",
     "output_type": "stream",
     "text": [
      "491\t24\t-1\t0.00000\tFalse\tFalse\t0:00:08.700753\n"
     ]
    },
    {
     "name": "stderr",
     "output_type": "stream",
     "text": [
      " 99%|██████████████████████████████████████████████████████████████████████████████████████▊ | 493/500 [1:10:46<01:00,  8.66s/it]"
     ]
    },
    {
     "name": "stdout",
     "output_type": "stream",
     "text": [
      "492\t40\t40\t2.46326\tTrue\tTrue\t0:00:08.398517\n"
     ]
    },
    {
     "name": "stderr",
     "output_type": "stream",
     "text": [
      " 99%|██████████████████████████████████████████████████████████████████████████████████████▉ | 494/500 [1:10:55<00:52,  8.79s/it]"
     ]
    },
    {
     "name": "stdout",
     "output_type": "stream",
     "text": [
      "493\t40\t40\t0.10029\tFalse\tTrue\t0:00:09.099024\n"
     ]
    },
    {
     "name": "stderr",
     "output_type": "stream",
     "text": [
      " 99%|███████████████████████████████████████████████████████████████████████████████████████ | 495/500 [1:11:04<00:44,  8.91s/it]"
     ]
    },
    {
     "name": "stdout",
     "output_type": "stream",
     "text": [
      "494\t70\t70\t0.85842\tFalse\tTrue\t0:00:09.192277\n"
     ]
    },
    {
     "name": "stderr",
     "output_type": "stream",
     "text": [
      " 99%|███████████████████████████████████████████████████████████████████████████████████████▎| 496/500 [1:11:13<00:35,  8.94s/it]"
     ]
    },
    {
     "name": "stdout",
     "output_type": "stream",
     "text": [
      "495\t0\t-1\t0.00000\tFalse\tFalse\t0:00:09.015980\n"
     ]
    },
    {
     "name": "stderr",
     "output_type": "stream",
     "text": [
      " 99%|███████████████████████████████████████████████████████████████████████████████████████▍| 497/500 [1:11:22<00:27,  9.08s/it]"
     ]
    },
    {
     "name": "stdout",
     "output_type": "stream",
     "text": [
      "496\t27\t27\t0.44299\tFalse\tTrue\t0:00:09.307129\n"
     ]
    },
    {
     "name": "stderr",
     "output_type": "stream",
     "text": [
      "100%|███████████████████████████████████████████████████████████████████████████████████████▋| 498/500 [1:11:31<00:17,  8.91s/it]"
     ]
    },
    {
     "name": "stdout",
     "output_type": "stream",
     "text": [
      "497\t67\t67\t2.46326\tTrue\tTrue\t0:00:08.503971\n"
     ]
    },
    {
     "name": "stderr",
     "output_type": "stream",
     "text": [
      "100%|███████████████████████████████████████████████████████████████████████████████████████▊| 499/500 [1:11:40<00:08,  8.88s/it]"
     ]
    },
    {
     "name": "stdout",
     "output_type": "stream",
     "text": [
      "498\t74\t78\t2.46326\tFalse\tFalse\t0:00:08.803202\n"
     ]
    },
    {
     "name": "stderr",
     "output_type": "stream",
     "text": [
      "100%|████████████████████████████████████████████████████████████████████████████████████████| 500/500 [1:11:48<00:00,  8.62s/it]"
     ]
    },
    {
     "name": "stdout",
     "output_type": "stream",
     "text": [
      "499\t29\t95\t0.54053\tFalse\tFalse\t0:00:08.314465\n",
      "Total 500 Certified 207 Certified Acc 0.414 Test Acc 0.47\n"
     ]
    },
    {
     "name": "stderr",
     "output_type": "stream",
     "text": [
      "\n"
     ]
    }
   ],
   "source": [
    "# args.base_classifier = \"../../tss_weights/cifar10/resnet110/brightness-contrast/0.3_0.3/consistency/checkpoint.pth.tar\"\n",
    "args.base_classifier = \"../../new_results/cifar100_resnet110_cifar100_cb_cifar100_cb_checkpoint.pth.tar\"\n",
    "args.corrupt = 'contrast'\n",
    "args.dataset = 'cifar100'\n",
    "args.noise_sd = 0.3\n",
    "dataset = our_cifar100_500\n",
    "\n",
    "\n",
    "\n",
    "# device = torch.device('cuda')\n",
    "# checkpoint = torch.load(args.base_classifier, map_location=device)\n",
    "# base_classifier = get_architecture(checkpoint[\"arch\"], args.dataset)\n",
    "# base_classifier.load_state_dict(checkpoint[\"state_dict\"])\n",
    "\n",
    "\n",
    "model = get_architecture(arch=\"cifar100_resnet110\", dataset=\"cifar100\", device=device)\n",
    "checkpoint = torch.load(args.base_classifier, map_location=device)\n",
    "model.load_state_dict(checkpoint['state_dict'])\n",
    "model.eval()\n",
    "model = model.to(device)\n",
    "\n",
    "base_classifier = model\n",
    "\n",
    "\n",
    "\n",
    "\n",
    "\n",
    "# load the base classifier\n",
    "\n",
    "# args.base_classifier = \"../../tss_weights/cifar10/resnet110/brightness-contrast/0.4_0.4/consistency/checkpoint.pth.tar\"\n",
    "\n",
    "\n",
    "\n",
    "\n",
    "\n",
    "img_size, param_size = get_size(args)\n",
    "\n",
    "model_t = img2img_get_model(args, img_size, param_size,parallel=False)\n",
    "\n",
    "trans_path = None\n",
    "if trans_path is not None:\n",
    "    state_dict = torch.load(trans_path)['state_dict']\n",
    "    model_t.load_state_dict(state_dict)\n",
    "# model_t = load_parallel_model(model_t, state_dict)\n",
    "\n",
    "# to device\n",
    "base_classifier.to(device)\n",
    "base_classifier.eval()\n",
    "model_t.to(device)\n",
    "model_t.eval()\n",
    "\n",
    "\n",
    "#load dataset\n",
    "\n",
    "# corruptor\n",
    "corruptor = Corruption(args, co_type=args.corrupt,add_noise=args.add_noise,noise_sd=args.noise_sd,distribution=args.noise_dst)\n",
    "\n",
    "# create the smooothed classifier g\n",
    "smoothed_classifier = TSmooth(base_classifier, None, corruptor, get_num_classes(args.dataset),args.noise_dst,args.noise_sd, args.add_noise)\n",
    "\n",
    "# prepare output file\n",
    "f = open(args.outfile+'_'+args.dataset+'_'+args.corrupt+'_'+str(args.noise_sd), 'w')\n",
    "print(\"idx\\tlabel\\tpredict\\tradius\\tgood\\tcorrect\\ttime\", file=f, flush=True)\n",
    "print(\"idx\\tlabel\\tpredict\\tradius\\tgood\\tcorrect\\ttime\")\n",
    "\n",
    "tot, tot_good, tot_correct = 0, 0, 0\n",
    "\n",
    "# for gaussian smooth\n",
    "attack_radius = args.partial_max\n",
    "\n",
    "\n",
    "\n",
    "\n",
    "for i in tqdm(range(len(dataset))):\n",
    "\n",
    "#     # only certify every args.skip examples, and stop after args.max examples\n",
    "#     if i % args.skip != 0:\n",
    "#         continue\n",
    "#     if i == args.max:\n",
    "#         break\n",
    "\n",
    "    (x, label) = dataset[i]\n",
    "\n",
    "    before_time = time()\n",
    "    x = x.to(device)\n",
    "    prediction, radius = smoothed_classifier.certify(x, args.N0, args.N, args.alpha, args.batch)\n",
    "\n",
    "\n",
    "    correct = (prediction == label).item()\n",
    "    cond1 = radius * args.noise_sd > args.partial_max\n",
    "#     print(cond1.dtype)\n",
    "#     print(correct.dtype)\n",
    "    good = (radius * args.noise_sd > args.partial_max)&correct\n",
    "\n",
    "    tot, tot_good, tot_correct = tot+1, tot_good+good, tot_correct+correct\n",
    "    after_time = time()\n",
    "    time_elapsed = str(datetime.timedelta(seconds=(after_time - before_time)))\n",
    "    print(\"{}\\t{}\\t{}\\t{:.5f}\\t{}\\t{}\\t{}\".format(i, label, prediction, radius, good, correct, time_elapsed))\n",
    "\n",
    "f.close()\n",
    "\n",
    "print(\"Total {} Certified {} Certified Acc {} Test Acc {}\".format(tot, tot_good, tot_good/tot, tot_correct/tot))\n",
    "\n",
    "f = open(args.outfile+'_'+args.dataset+'_'+args.corrupt+'_'+str(args.noise_sd), 'w')\n",
    "print(\"Total {} Certified {} Certified Acc {} Test Acc {}\".format(tot, tot_good, tot_good/tot, tot_correct/tot), file=f, flush=True)\n",
    "f.close()"
   ]
  },
  {
   "cell_type": "code",
   "execution_count": null,
   "id": "8015b0e2",
   "metadata": {},
   "outputs": [],
   "source": [
    "2"
   ]
  },
  {
   "cell_type": "code",
   "execution_count": null,
   "id": "f274df60",
   "metadata": {},
   "outputs": [],
   "source": []
  },
  {
   "cell_type": "code",
   "execution_count": 23,
   "id": "8020c9eb",
   "metadata": {},
   "outputs": [
    {
     "name": "stdout",
     "output_type": "stream",
     "text": [
      "Total 500 Certified 216 Certified Acc 0.432 Test Acc 0.47\n"
     ]
    }
   ],
   "source": [
    "## Gsmooth\n",
    "\n",
    "print(\"Total {} Certified {} Certified Acc {} Test Acc {}\".format(tot, tot_good, tot_good/tot, tot_correct/tot))"
   ]
  },
  {
   "cell_type": "code",
   "execution_count": 15,
   "id": "d1ff9429",
   "metadata": {},
   "outputs": [],
   "source": [
    "\n",
    "\n",
    "f = open(args.outfile+'_'+args.dataset+'_'+args.corrupt+'_'+str(args.noise_sd), 'w')\n",
    "print(\"Total {} Certified {} Certified Acc {} Test Acc {}\".format(tot, tot_good, tot_good/tot, tot_correct/tot), file=f, flush=True)\n",
    "f.close()"
   ]
  },
  {
   "cell_type": "code",
   "execution_count": null,
   "id": "d7c037f8",
   "metadata": {},
   "outputs": [],
   "source": []
  },
  {
   "cell_type": "markdown",
   "id": "1118216a",
   "metadata": {},
   "source": [
    "## Imagenet"
   ]
  },
  {
   "cell_type": "code",
   "execution_count": 6,
   "id": "ff0e086a",
   "metadata": {},
   "outputs": [],
   "source": [
    "args.corrupt = \"contrast\"\n",
    "args.noise_sd = 0.6\n",
    "args.noise_dst = \"gaussian\"\n",
    "args.partial_max = 0.4\n",
    "args.dataset = \"imagenet\"\n",
    "args.base_classifier = \"../../checkpoints/brightness/checkpoint.pth.tar\"\n",
    "args.device = \"cpu\"\n",
    "args.arch = \"resnet50\"\n",
    "\n"
   ]
  },
  {
   "cell_type": "code",
   "execution_count": 9,
   "id": "1ec72500",
   "metadata": {},
   "outputs": [],
   "source": [
    "def calculate_gsmooth(args):\n",
    "    \n",
    "    device = torch.device(args.device)\n",
    "    model = get_architecture(arch=args.arch, dataset=args.dataset, device=device)\n",
    "    checkpoint = torch.load(args.base_classifier, map_location=device)\n",
    "    model.load_state_dict(checkpoint['state_dict'])\n",
    "    model.eval()\n",
    "    model = model.to(device)\n",
    "\n",
    "    base_classifier = model\n",
    "    \n",
    "    dataset, _ = make_test_dataset(args)\n",
    "\n",
    "#     img_size, param_size = get_size(args)\n",
    "\n",
    "#     model_t = img2img_get_model(args, img_size, param_size,parallel=False)\n",
    "\n",
    "#     trans_path = None\n",
    "#     if trans_path is not None:\n",
    "#         state_dict = torch.load(trans_path)['state_dict']\n",
    "#         model_t.load_state_dict(state_dict)\n",
    "#     # model_t = load_parallel_model(model_t, state_dict)\n",
    "    \n",
    "#     model_t.to(device)\n",
    "#     model_t.eval()\n",
    "\n",
    "    # to device\n",
    "    base_classifier.to(device)\n",
    "    base_classifier.eval()\n",
    "\n",
    "\n",
    "    #load dataset\n",
    "\n",
    "    # corruptor\n",
    "    corruptor = Corruption(args, co_type=args.corrupt,add_noise=args.add_noise,noise_sd=args.noise_sd,distribution=args.noise_dst)\n",
    "\n",
    "    # create the smooothed classifier g\n",
    "    smoothed_classifier = TSmooth(base_classifier, None, corruptor, get_num_classes(args.dataset),args.noise_dst,args.noise_sd, args.add_noise)\n",
    "\n",
    "    # prepare output file\n",
    "    f = open(args.outfile+'_'+args.dataset+'_'+args.corrupt+'_'+str(args.noise_sd)+'_running', 'w')\n",
    "    print(\"idx\\tlabel\\tpredict\\tradius\\tgood\\tcorrect\\ttime\", file=f, flush=True)\n",
    "    print(\"idx\\tlabel\\tpredict\\tradius\\tgood\\tcorrect\\ttime\")\n",
    "\n",
    "    tot, tot_good, tot_correct = 0, 0, 0\n",
    "\n",
    "    # for gaussian smooth\n",
    "    attack_radius = args.partial_max\n",
    "    for i in tqdm(range(len(dataset))):\n",
    "        (x, label) = dataset[i]\n",
    "\n",
    "        before_time = time()\n",
    "        x = x.to(device)\n",
    "        prediction, radius = smoothed_classifier.certify(x, args.N0, args.N, args.alpha, args.batch)\n",
    "\n",
    "\n",
    "        correct = (prediction == label).item()\n",
    "        cond1 = radius * args.noise_sd > args.partial_max\n",
    "        good = (radius * args.noise_sd > args.partial_max)&correct\n",
    "\n",
    "        tot, tot_good, tot_correct = tot+1, tot_good+good, tot_correct+correct\n",
    "        after_time = time()\n",
    "        time_elapsed = str(datetime.timedelta(seconds=(after_time - before_time)))\n",
    "        print(\"{}\\t{}\\t{}\\t{:.5f}\\t{}\\t{}\\t{}\".format(i, label, prediction, radius, good, correct, time_elapsed), file=f, flush=True)\n",
    "        print(\"{}\\t{}\\t{}\\t{:.5f}\\t{}\\t{}\\t{}\".format(i, label, prediction, radius, good, correct, time_elapsed))\n",
    "\n",
    "    f.close()\n",
    "\n",
    "    print(\"Total {} Certified {} Certified Acc {} Test Acc {}\".format(tot, tot_good, tot_good/tot, tot_correct/tot))\n",
    "\n",
    "    f = open(args.outfile+'_'+args.dataset+'_'+args.corrupt+'_'+str(args.noise_sd)+'_total_result', 'w')\n",
    "    print(\"Total {} Certified {} Certified Acc {} Test Acc {}\".format(tot, tot_good, tot_good/tot, tot_correct/tot), file=f, flush=True)\n",
    "    f.close()\n"
   ]
  },
  {
   "cell_type": "code",
   "execution_count": 10,
   "id": "6f7996bf",
   "metadata": {},
   "outputs": [
    {
     "name": "stderr",
     "output_type": "stream",
     "text": [
      "100%|██████████████████████████████████████████████████████████████████████████████████████████████| 1/1 [00:00<00:00, 97.79it/s]\n"
     ]
    },
    {
     "name": "stdout",
     "output_type": "stream",
     "text": [
      "idx\tlabel\tpredict\tradius\tgood\tcorrect\ttime\n"
     ]
    },
    {
     "name": "stderr",
     "output_type": "stream",
     "text": [
      "100%|█████████████████████████████████████████████████████████████████████████████████████████████| 1/1 [01:58<00:00, 118.78s/it]"
     ]
    },
    {
     "name": "stdout",
     "output_type": "stream",
     "text": [
      "0\t671\t671\t2.46326\tTrue\tTrue\t0:01:58.777288\n",
      "Total 1 Certified 1 Certified Acc 1.0 Test Acc 1.0\n"
     ]
    },
    {
     "name": "stderr",
     "output_type": "stream",
     "text": [
      "\n"
     ]
    }
   ],
   "source": [
    "calculate_gsmooth(args)"
   ]
  },
  {
   "cell_type": "code",
   "execution_count": 13,
   "id": "9671a8a8",
   "metadata": {},
   "outputs": [],
   "source": [
    "import yaml \n",
    "\n",
    "from yaml import load"
   ]
  },
  {
   "cell_type": "code",
   "execution_count": 15,
   "id": "8c5be9e5",
   "metadata": {},
   "outputs": [
    {
     "name": "stdout",
     "output_type": "stream",
     "text": [
      "Overwriting sample_config.yaml\n"
     ]
    }
   ],
   "source": [
    "%%writefile sample_config.yaml\n",
    "corrupt: \"contrast\"\n",
    "noise_sd: 0.6\n",
    "noise_dst: \"gaussian\"\n",
    "partial_max: 0.4\n",
    "dataset: \"imagenet\"\n",
    "base_classifier: \"../../checkpoints/brightness/checkpoint.pth.tar\"\n",
    "device: \"cpu\"\n",
    "arch: \"resnet50\""
   ]
  },
  {
   "cell_type": "code",
   "execution_count": 19,
   "id": "34faf180",
   "metadata": {},
   "outputs": [
    {
     "data": {
      "text/plain": [
       "'sample_config.yaml'"
      ]
     },
     "execution_count": 19,
     "metadata": {},
     "output_type": "execute_result"
    }
   ],
   "source": [
    "config = load(\"sample_config.yaml\", Loader=yaml.FullLoader)\n",
    "config"
   ]
  },
  {
   "cell_type": "code",
   "execution_count": 25,
   "id": "3fd3b30f",
   "metadata": {},
   "outputs": [],
   "source": [
    "with open(\"sample_config.yaml\", \"r\") as f:\n",
    "    config = yaml.load(f, Loader=yaml.FullLoader)"
   ]
  },
  {
   "cell_type": "code",
   "execution_count": 26,
   "id": "ab96d661",
   "metadata": {},
   "outputs": [
    {
     "data": {
      "text/plain": [
       "'contrast'"
      ]
     },
     "execution_count": 26,
     "metadata": {},
     "output_type": "execute_result"
    }
   ],
   "source": [
    "config[\"corrupt\"]"
   ]
  },
  {
   "cell_type": "code",
   "execution_count": 27,
   "id": "92e19a55",
   "metadata": {},
   "outputs": [
    {
     "data": {
      "text/plain": [
       "{'corrupt': 'contrast',\n",
       " 'noise_sd': 0.6,\n",
       " 'noise_dst': 'gaussian',\n",
       " 'partial_max': 0.4,\n",
       " 'dataset': 'imagenet',\n",
       " 'base_classifier': '../../checkpoints/brightness/checkpoint.pth.tar',\n",
       " 'device': 'cpu',\n",
       " 'arch': 'resnet50'}"
      ]
     },
     "execution_count": 27,
     "metadata": {},
     "output_type": "execute_result"
    }
   ],
   "source": [
    "config"
   ]
  },
  {
   "cell_type": "code",
   "execution_count": 1,
   "id": "7f7cf337",
   "metadata": {},
   "outputs": [
    {
     "name": "stdout",
     "output_type": "stream",
     "text": [
      "Overwriting gsmooth_certify_resolvable.py\n"
     ]
    }
   ],
   "source": [
    "%%writefile gsmooth_certify_resolvable.py\n",
    "import sys\n",
    "sys.path.append('./..')\n",
    "sys.path.append('./img2img')\n",
    "\n",
    "import os\n",
    "os.environ['CUDA_VISIBLE_DEVICES']=\"5\"\n",
    "os.environ['CUDA_LAUNCH_BLOCKING']=\"1\"\n",
    "\n",
    "import argparse\n",
    "import datetime\n",
    "\n",
    "from time import time\n",
    "from collections import OrderedDict\n",
    "import yaml\n",
    "\n",
    "import click\n",
    "import numpy as np\n",
    "import torch\n",
    "from torchvision.models.resnet import resnet50\n",
    "from torch.utils.data import DataLoader, Dataset\n",
    "from tqdm import tqdm\n",
    "\n",
    "from src.datasets import get_dataset, DATASETS, get_num_classes, get_corrupted_dataset, load_parallel_model\n",
    "from src.img2img.img2img_models import img2img_get_model, get_size\n",
    "from src.core import Smooth, TSmooth\n",
    "from src.img2img.corruption import Corruption\n",
    "from src.architectures import get_architecture\n",
    "from some_our_code.utils import make_our_dataset_v2, CustomAudioDataset\n",
    "from archs.cifar_resnet import resnet as resnet_cifar\n",
    "\n",
    "sys.path.append('./../../')\n",
    "# from architectures import get_architecture\n",
    "from datasets_utils import get_normalize_layer\n",
    "\n",
    "\n",
    "NUM_IMAGES_FOR_TEST = 500\n",
    "\n",
    "\n",
    "parser = argparse.ArgumentParser(description='Certify many examples')\n",
    "parser.add_argument(\"--dataset\",\n",
    "                    default='cifar10',choices=DATASETS, help=\"which dataset\")\n",
    "parser.add_argument(\"--base_classifier\", type=str,\n",
    "                    default=None,\n",
    "                    help=\"path to saved pytorch model of base classifier\")\n",
    "# parser.add_argument(\"sigma\", type=float, help=\"noise hyperparameter\")\n",
    "parser.add_argument(\"--outfile\", type=str,\n",
    "                    default='./logs/certify_results',\n",
    "                    help=\"output file\")\n",
    "parser.add_argument(\"--batch\", type=int, default=512, help=\"batch size\")\n",
    "parser.add_argument(\"--skip\", type=int, default=30\n",
    "                    , help=\"how many examples to skip\")\n",
    "parser.add_argument(\"--max\", type=int, default=-1, help=\"stop after this many examples\")\n",
    "parser.add_argument(\"--split\", choices=[\"train\", \"test\"], default=\"test\", help=\"train or test set\")\n",
    "parser.add_argument(\"--N0\", type=int, default=100)\n",
    "parser.add_argument(\"--N\", type=int, default=1000, help=\"number of samples to use\")\n",
    "parser.add_argument(\"--alpha\", type=float, default=1e-3, help=\"failure probability\")\n",
    "parser.add_argument('--corrupt',type=str,default=['none','gaussian_blur','motion_blur','zoom_blur','rotate','translate','contrast','pixelate','jpeg',][1],\n",
    "                    help=' The corruption type for training')\n",
    "parser.add_argument('--add_noise',type=float, default=0.0)\n",
    "parser.add_argument('--noise_dst',default=[\"none\",\"gaussian\",\"exp\",\"uniform\",\"folded_gaussian\"][2],type=str)\n",
    "parser.add_argument('--noise_sd', default=0.8, type=float,\n",
    "                    help=\"standard deviation of Gaussian noise for data augmentation\")\n",
    "parser.add_argument('--partial_min',default=0.0, type=float,\n",
    "                    help = \"Minimal of certify range\")\n",
    "parser.add_argument('--partial_max',default=1.0, type=float,\n",
    "                    help = \"Maximal of certify range\")\n",
    "parser.add_argument('--arch', type=str, default=[\"edsr\",\"unet\",\"runet\"][2])\n",
    "args = parser.parse_args([])\n",
    "\n",
    "\n",
    "def make_test_dataset(args):\n",
    "    test_dataset = get_dataset(args.dataset, \"test\")\n",
    "    pin_memory = (args.dataset == \"imagenet\")\n",
    "    np.random.seed(42)\n",
    "    idxes = np.random.choice(len(test_dataset), NUM_IMAGES_FOR_TEST, replace=False)\n",
    "    \n",
    "    ourdataset = make_our_dataset_v2(test_dataset, idxes)\n",
    "    ourdataloader = DataLoader(ourdataset, shuffle=False, batch_size=1,\n",
    "                         num_workers=6, pin_memory=False)\n",
    "    return ourdataset, ourdataloader\n",
    "\n",
    "\n",
    "\n",
    "def calculate_gsmooth(args):\n",
    "    \n",
    "    device = torch.device(args.device)\n",
    "    model = get_architecture(arch=args.arch, dataset=args.dataset, device=device)\n",
    "    checkpoint = torch.load(args.base_classifier, map_location=device)\n",
    "    model.load_state_dict(checkpoint['state_dict'])\n",
    "    model.eval()\n",
    "    model = model.to(device)\n",
    "\n",
    "    base_classifier = model\n",
    "    \n",
    "    dataset, _ = make_test_dataset(args)\n",
    "    \n",
    "    base_classifier.to(device)\n",
    "    base_classifier.eval()\n",
    "\n",
    "    corruptor = Corruption(args, co_type=args.corrupt,add_noise=args.add_noise,noise_sd=args.noise_sd,distribution=args.noise_dst)\n",
    "\n",
    "    # create the smooothed classifier g\n",
    "    smoothed_classifier = TSmooth(base_classifier, None, corruptor, get_num_classes(args.dataset),args.noise_dst,args.noise_sd, args.add_noise)\n",
    "\n",
    "    # prepare output file\n",
    "    filename = args.outfile+'_'+args.dataset+'_'+args.corrupt+'_'+str(args.noise_sd) +\"_\" +str(args.partial_max)\n",
    "    f = open(filename+'_running', 'w')\n",
    "    print(\"idx\\tlabel\\tpredict\\tradius\\tgood\\tcorrect\\ttime\", file=f, flush=True)\n",
    "    print(\"idx\\tlabel\\tpredict\\tradius\\tgood\\tcorrect\\ttime\")\n",
    "\n",
    "    tot, tot_good, tot_correct = 0, 0, 0\n",
    "\n",
    "    # for gaussian smooth\n",
    "    attack_radius = args.partial_max\n",
    "    for i in tqdm(range(len(dataset))):\n",
    "        (x, label) = dataset[i]\n",
    "\n",
    "        before_time = time()\n",
    "        x = x.to(device)\n",
    "        prediction, radius = smoothed_classifier.certify(x, args.N0, args.N, args.alpha, args.batch)\n",
    "\n",
    "\n",
    "        correct = (prediction == label).item()\n",
    "        cond1 = radius * args.noise_sd > args.partial_max\n",
    "        good = (radius * args.noise_sd > args.partial_max)&correct\n",
    "\n",
    "        tot, tot_good, tot_correct = tot+1, tot_good+good, tot_correct+correct\n",
    "        after_time = time()\n",
    "        time_elapsed = str(datetime.timedelta(seconds=(after_time - before_time)))\n",
    "        print(\"{}\\t{}\\t{}\\t{:.5f}\\t{}\\t{}\\t{}\".format(i, label, prediction, radius, good, correct, time_elapsed), file=f, flush=True)\n",
    "        print(\"{}\\t{}\\t{}\\t{:.5f}\\t{}\\t{}\\t{}\".format(i, label, prediction, radius, good, correct, time_elapsed))\n",
    "\n",
    "    f.close()\n",
    "\n",
    "    print(\"Total {} Certified {} Certified Acc {} Test Acc {}\".format(tot, tot_good, tot_good/tot, tot_correct/tot))\n",
    "\n",
    "    f = open(filename+'_total_result', 'w')\n",
    "    print(\"Total {} Certified {} Certified Acc {} Test Acc {}\".format(tot, tot_good, tot_good/tot, tot_correct/tot), file=f, flush=True)\n",
    "    f.close()\n",
    "\n",
    "    \n",
    "@click.command()\n",
    "@click.argument(\"config_path\", type=click.Path(exists=True))\n",
    "def main(config_path):\n",
    "    with open(config_path, \"r\") as f:\n",
    "        config = yaml.load(f, Loader=yaml.FullLoader)\n",
    "        \n",
    "    args.corrupt = config[\"corrupt\"]\n",
    "    args.noise_sd = config[\"noise_sd\"]\n",
    "    args.noise_dst = config[\"noise_dst\"]\n",
    "    args.partial_max = config[\"partial_max\"]\n",
    "    args.dataset = config[\"dataset\"]\n",
    "    args.base_classifier = config[\"base_classifier\"]\n",
    "    args.device = config[\"device\"]\n",
    "    args.arch = config[\"arch\"]\n",
    "    \n",
    "#     if config[\"gpu\"]:\n",
    "#         os.environ['CUDA_VISIBLE_DEVICES']=str(config[\"gpu\"])\n",
    "#         os.environ['CUDA_LAUNCH_BLOCKING']=\"1\"\n",
    "        \n",
    "\n",
    "\n",
    "    calculate_gsmooth(args)\n",
    "\n",
    "if __name__ == \"__main__\":\n",
    "    main()"
   ]
  },
  {
   "cell_type": "code",
   "execution_count": null,
   "id": "e8a311c4",
   "metadata": {},
   "outputs": [
    {
     "name": "stdout",
     "output_type": "stream",
     "text": [
      "100%|█████████████████████████████████████████| 500/500 [00:12<00:00, 41.62it/s]\n",
      "idx\tlabel\tpredict\tradius\tgood\tcorrect\ttime\n",
      "  0%|                                                   | 0/500 [00:00<?, ?it/s]0\t671\t671\t2.46326\tTrue\tTrue\t0:00:12.767648\n",
      "  0%|                                         | 1/500 [00:12<1:46:11, 12.77s/it]1\t188\t188\t2.46326\tTrue\tTrue\t0:00:12.391969\n",
      "  0%|▏                                        | 2/500 [00:25<1:44:08, 12.55s/it]2\t3\t3\t2.17769\tTrue\tTrue\t0:00:12.321624\n",
      "  1%|▏                                        | 3/500 [00:37<1:43:04, 12.44s/it]3\t248\t250\t1.36093\tFalse\tFalse\t0:00:12.744039\n",
      "  1%|▎                                        | 4/500 [00:50<1:43:51, 12.56s/it]4\t789\t789\t2.46326\tTrue\tTrue\t0:00:12.434287\n",
      "  1%|▍                                        | 5/500 [01:02<1:43:15, 12.52s/it]5\t854\t854\t2.46326\tTrue\tTrue\t0:00:12.152631\n",
      "  1%|▍                                        | 6/500 [01:14<1:42:02, 12.39s/it]6\t216\t216\t2.46326\tTrue\tTrue\t0:00:12.309946\n",
      "  1%|▌                                        | 7/500 [01:27<1:41:36, 12.37s/it]7\t989\t989\t2.46326\tTrue\tTrue\t0:00:12.046956\n",
      "  2%|▋                                        | 8/500 [01:39<1:40:34, 12.26s/it]8\t82\t82\t2.46326\tTrue\tTrue\t0:00:13.483064\n",
      "  2%|▋                                        | 9/500 [01:52<1:43:29, 12.65s/it]9\t739\t739\t0.54053\tFalse\tTrue\t0:00:12.235984\n",
      "  2%|▊                                       | 10/500 [02:04<1:42:14, 12.52s/it]10\t862\t872\t2.46326\tFalse\tFalse\t0:00:12.546741\n",
      "  2%|▉                                       | 11/500 [02:17<1:42:06, 12.53s/it]11\t773\t773\t2.46326\tTrue\tTrue\t0:00:12.911669\n",
      "  2%|▉                                       | 12/500 [02:30<1:42:50, 12.64s/it]12\t123\t-1\t0.00000\tFalse\tFalse\t0:00:12.405697\n",
      "  3%|█                                       | 13/500 [02:42<1:42:02, 12.57s/it]13\t28\t28\t2.46326\tTrue\tTrue\t0:00:12.013158\n",
      "  3%|█                                       | 14/500 [02:54<1:40:28, 12.40s/it]14\t369\t366\t0.62827\tFalse\tFalse\t0:00:12.623617\n",
      "  3%|█▏                                      | 15/500 [03:07<1:40:48, 12.47s/it]15\t585\t631\t0.34753\tFalse\tFalse\t0:00:13.494328\n",
      "  3%|█▎                                      | 16/500 [03:20<1:43:04, 12.78s/it]16\t303\t303\t2.46326\tTrue\tTrue\t0:00:12.273550\n",
      "  3%|█▎                                      | 17/500 [03:33<1:41:38, 12.63s/it]17\t686\t790\t0.85842\tFalse\tFalse\t0:00:12.408841\n",
      "  4%|█▍                                      | 18/500 [03:45<1:40:54, 12.56s/it]18\t252\t252\t2.46326\tTrue\tTrue\t0:00:12.805221\n",
      "  4%|█▌                                      | 19/500 [03:58<1:41:17, 12.63s/it]19\t242\t242\t0.87826\tTrue\tTrue\t0:00:13.586054\n",
      "  4%|█▌                                      | 20/500 [04:11<1:43:21, 12.92s/it]20\t122\t122\t2.46326\tTrue\tTrue\t0:00:13.379194\n",
      "  4%|█▋                                      | 21/500 [04:25<1:44:14, 13.06s/it]21\t318\t318\t2.46326\tTrue\tTrue\t0:00:12.994784\n",
      "  4%|█▊                                      | 22/500 [04:38<1:43:52, 13.04s/it]22\t16\t16\t0.19286\tFalse\tTrue\t0:00:12.595880\n",
      "  5%|█▊                                      | 23/500 [04:50<1:42:36, 12.91s/it]23\t302\t300\t1.31790\tFalse\tFalse\t0:00:12.179594\n",
      "  5%|█▉                                      | 24/500 [05:03<1:40:39, 12.69s/it]24\t269\t269\t2.46326\tTrue\tTrue\t0:00:12.423080\n",
      "  5%|██                                      | 25/500 [05:15<1:39:49, 12.61s/it]25\t529\t529\t2.46326\tTrue\tTrue\t0:00:12.416632\n",
      "  5%|██                                      | 26/500 [05:27<1:39:09, 12.55s/it]26\t842\t842\t2.46326\tTrue\tTrue\t0:00:12.904898\n",
      "  5%|██▏                                     | 27/500 [05:40<1:39:47, 12.66s/it]27\t603\t603\t2.46326\tTrue\tTrue\t0:00:13.676036\n",
      "  6%|██▏                                     | 28/500 [05:54<1:41:58, 12.96s/it]28\t744\t744\t2.46326\tTrue\tTrue\t0:00:12.497797\n",
      "  6%|██▎                                     | 29/500 [06:07<1:40:40, 12.82s/it]29\t662\t662\t0.04705\tFalse\tTrue\t0:00:12.211010\n",
      "  6%|██▍                                     | 30/500 [06:19<1:39:00, 12.64s/it]30\t729\t560\t0.17988\tFalse\tFalse\t0:00:12.114263\n",
      "  6%|██▍                                     | 31/500 [06:31<1:37:34, 12.48s/it]31\t482\t848\t2.46326\tFalse\tFalse\t0:00:13.408080\n",
      "  6%|██▌                                     | 32/500 [06:44<1:39:31, 12.76s/it]32\t110\t-1\t0.00000\tFalse\tFalse\t0:00:13.421028\n",
      "  7%|██▋                                     | 33/500 [06:58<1:40:51, 12.96s/it]33\t78\t306\t1.61599\tFalse\tFalse\t0:00:12.831798\n",
      "  7%|██▋                                     | 34/500 [07:11<1:40:21, 12.92s/it]34\t769\t769\t2.46326\tTrue\tTrue\t0:00:14.227644\n",
      "  7%|██▊                                     | 35/500 [07:25<1:43:10, 13.31s/it]35\t422\t764\t2.46326\tFalse\tFalse\t0:00:12.604663\n",
      "  7%|██▉                                     | 36/500 [07:37<1:41:18, 13.10s/it]36\t994\t994\t2.46326\tTrue\tTrue\t0:00:14.094569\n",
      "  7%|██▉                                     | 37/500 [07:51<1:43:23, 13.40s/it]37\t845\t845\t2.46326\tTrue\tTrue\t0:00:12.433525\n",
      "  8%|███                                     | 38/500 [08:04<1:40:56, 13.11s/it]38\t952\t952\t2.46326\tTrue\tTrue\t0:00:13.440703\n",
      "  8%|███                                     | 39/500 [08:17<1:41:29, 13.21s/it]39\t221\t221\t2.46326\tTrue\tTrue\t0:00:13.309780\n",
      "  8%|███▏                                    | 40/500 [08:31<1:41:30, 13.24s/it]40\t830\t652\t0.53749\tFalse\tFalse\t0:00:12.646381\n",
      "  8%|███▎                                    | 41/500 [08:43<1:39:55, 13.06s/it]41\t441\t969\t0.54053\tFalse\tFalse\t0:00:12.425090\n",
      "  8%|███▎                                    | 42/500 [08:56<1:38:14, 12.87s/it]42\t188\t188\t2.46326\tTrue\tTrue\t0:00:12.337114\n",
      "  9%|███▍                                    | 43/500 [09:08<1:36:48, 12.71s/it]43\t766\t766\t1.16868\tTrue\tTrue\t0:00:12.992120\n",
      "  9%|███▌                                    | 44/500 [09:21<1:37:14, 12.80s/it]44\t605\t606\t2.46326\tFalse\tFalse\t0:00:14.688861\n",
      "  9%|███▌                                    | 45/500 [09:36<1:41:20, 13.36s/it]45\t825\t825\t2.46326\tTrue\tTrue\t0:00:13.691309\n",
      "  9%|███▋                                    | 46/500 [09:49<1:41:51, 13.46s/it]46\t292\t292\t2.46326\tTrue\tTrue\t0:00:14.315248\n",
      "  9%|███▊                                    | 47/500 [10:04<1:43:34, 13.72s/it]47\t526\t527\t2.46326\tFalse\tFalse\t0:00:14.765495\n",
      " 10%|███▊                                    | 48/500 [10:19<1:45:42, 14.03s/it]48\t562\t562\t2.46326\tTrue\tTrue\t0:00:13.062147\n",
      " 10%|███▉                                    | 49/500 [10:32<1:43:17, 13.74s/it]49\t350\t350\t2.46326\tTrue\tTrue\t0:00:13.262750\n",
      " 10%|████                                    | 50/500 [10:45<1:41:59, 13.60s/it]50\t494\t442\t1.15201\tFalse\tFalse\t0:00:12.330750\n",
      " 10%|████                                    | 51/500 [10:57<1:38:54, 13.22s/it]51\t809\t926\t1.59340\tFalse\tFalse\t0:00:12.072210\n",
      " 10%|████▏                                   | 52/500 [11:09<1:36:07, 12.87s/it]52\t77\t77\t2.46326\tTrue\tTrue\t0:00:12.484582\n",
      " 11%|████▏                                   | 53/500 [11:22<1:35:02, 12.76s/it]53\t800\t800\t2.46326\tTrue\tTrue\t0:00:13.838813\n",
      " 11%|████▎                                   | 54/500 [11:36<1:37:14, 13.08s/it]54\t305\t305\t2.46326\tTrue\tTrue\t0:00:13.495550\n",
      " 11%|████▍                                   | 55/500 [11:49<1:37:56, 13.21s/it]55\t982\t982\t2.46326\tTrue\tTrue\t0:00:12.977589\n",
      " 11%|████▍                                   | 56/500 [12:02<1:37:13, 13.14s/it]56\t600\t600\t2.46326\tTrue\tTrue\t0:00:12.277285\n",
      " 11%|████▌                                   | 57/500 [12:14<1:35:05, 12.88s/it]57\t918\t918\t2.46326\tTrue\tTrue\t0:00:12.655783\n",
      " 12%|████▋                                   | 58/500 [12:27<1:34:23, 12.81s/it]58\t876\t435\t2.46326\tFalse\tFalse\t0:00:12.589236\n",
      " 12%|████▋                                   | 59/500 [12:40<1:33:40, 12.75s/it]59\t344\t385\t0.03191\tFalse\tFalse\t0:00:12.805205\n",
      " 12%|████▊                                   | 60/500 [12:52<1:33:36, 12.76s/it]60\t97\t97\t2.46326\tTrue\tTrue\t0:00:13.528249\n",
      " 12%|████▉                                   | 61/500 [13:06<1:35:04, 12.99s/it]61\t14\t14\t0.65767\tFalse\tTrue\t0:00:12.224390\n",
      " 12%|████▉                                   | 62/500 [13:18<1:33:10, 12.76s/it]62\t458\t458\t2.46326\tTrue\tTrue\t0:00:13.328671\n",
      " 13%|█████                                   | 63/500 [13:31<1:34:11, 12.93s/it]63\t693\t693\t2.46326\tTrue\tTrue\t0:00:13.081655\n",
      " 13%|█████                                   | 64/500 [13:45<1:34:18, 12.98s/it]64\t744\t657\t0.65437\tFalse\tFalse\t0:00:13.832632\n",
      " 13%|█████▏                                  | 65/500 [13:58<1:35:56, 13.23s/it]65\t406\t857\t2.46326\tFalse\tFalse\t0:00:13.897587\n",
      " 13%|█████▎                                  | 66/500 [14:12<1:37:10, 13.43s/it]66\t305\t305\t2.46326\tTrue\tTrue\t0:00:12.486095\n",
      " 13%|█████▎                                  | 67/500 [14:25<1:34:53, 13.15s/it]67\t447\t447\t2.46326\tTrue\tTrue\t0:00:12.320178\n",
      " 14%|█████▍                                  | 68/500 [14:37<1:32:53, 12.90s/it]68\t853\t853\t2.46326\tTrue\tTrue\t0:00:12.352702\n",
      " 14%|█████▌                                  | 69/500 [14:49<1:31:29, 12.74s/it]69\t934\t933\t2.46326\tFalse\tFalse\t0:00:12.696048\n",
      " 14%|█████▌                                  | 70/500 [15:02<1:31:11, 12.72s/it]70\t234\t234\t2.46326\tTrue\tTrue\t0:00:12.450258\n",
      " 14%|█████▋                                  | 71/500 [15:15<1:30:23, 12.64s/it]71\t372\t372\t2.46326\tTrue\tTrue\t0:00:13.414991\n",
      " 14%|█████▊                                  | 72/500 [15:28<1:31:50, 12.87s/it]72\t969\t969\t1.66435\tTrue\tTrue\t0:00:13.352306\n",
      " 15%|█████▊                                  | 73/500 [15:41<1:32:38, 13.02s/it]73\t536\t-1\t0.00000\tFalse\tFalse\t0:00:12.123039\n",
      " 15%|█████▉                                  | 74/500 [15:53<1:30:31, 12.75s/it]74\t886\t886\t2.46326\tTrue\tTrue\t0:00:13.902390\n",
      " 15%|██████                                  | 75/500 [16:07<1:32:45, 13.10s/it]75\t950\t464\t0.44587\tFalse\tFalse\t0:00:12.751524\n",
      " 15%|██████                                  | 76/500 [16:20<1:31:48, 12.99s/it]76\t644\t644\t0.46033\tFalse\tTrue\t0:00:13.222832\n",
      " 15%|██████▏                                 | 77/500 [16:33<1:32:05, 13.06s/it]77\t50\t58\t1.59340\tFalse\tFalse\t0:00:13.381329\n",
      " 16%|██████▏                                 | 78/500 [16:47<1:32:32, 13.16s/it]78\t354\t354\t2.46326\tTrue\tTrue\t0:00:13.005361\n",
      " 16%|██████▎                                 | 79/500 [17:00<1:32:00, 13.11s/it]79\t165\t234\t0.45453\tFalse\tFalse\t0:00:13.145988\n",
      " 16%|██████▍                                 | 80/500 [17:13<1:31:51, 13.12s/it]80\t301\t301\t1.61599\tTrue\tTrue\t0:00:13.297082\n",
      " 16%|██████▍                                 | 81/500 [17:26<1:32:00, 13.18s/it]81\t272\t272\t2.46326\tTrue\tTrue\t0:00:12.389255\n",
      " 16%|██████▌                                 | 82/500 [17:39<1:30:08, 12.94s/it]82\t612\t612\t2.46326\tTrue\tTrue\t0:00:12.719571\n",
      " 17%|██████▋                                 | 83/500 [17:51<1:29:28, 12.87s/it]83\t608\t515\t2.46326\tFalse\tFalse\t0:00:13.195501\n",
      " 17%|██████▋                                 | 84/500 [18:04<1:29:55, 12.97s/it]84\t721\t721\t2.46326\tTrue\tTrue\t0:00:13.056080\n",
      " 17%|██████▊                                 | 85/500 [18:18<1:29:53, 13.00s/it]85\t853\t853\t2.46326\tTrue\tTrue\t0:00:12.728641\n",
      " 17%|██████▉                                 | 86/500 [18:30<1:29:07, 12.92s/it]86\t736\t736\t2.46326\tTrue\tTrue\t0:00:12.294912\n",
      " 17%|██████▉                                 | 87/500 [18:43<1:27:37, 12.73s/it]87\t964\t933\t0.61541\tFalse\tFalse\t0:00:13.412757\n",
      " 18%|███████                                 | 88/500 [18:56<1:28:49, 12.93s/it]88\t584\t584\t2.35765\tTrue\tTrue\t0:00:13.051252\n",
      " 18%|███████                                 | 89/500 [19:09<1:28:50, 12.97s/it]89\t112\t-1\t0.00000\tFalse\tFalse\t0:00:12.196651\n",
      " 18%|███████▏                                | 90/500 [19:21<1:27:02, 12.74s/it]90\t119\t119\t0.99306\tTrue\tTrue\t0:00:12.303297\n",
      " 18%|███████▎                                | 91/500 [19:34<1:25:56, 12.61s/it]91\t961\t961\t1.59340\tTrue\tTrue\t0:00:12.029247\n",
      " 18%|███████▎                                | 92/500 [19:46<1:24:33, 12.43s/it]92\t36\t36\t2.46326\tTrue\tTrue\t0:00:12.375345\n",
      " 19%|███████▍                                | 93/500 [19:58<1:24:13, 12.42s/it]93\t551\t635\t0.99306\tFalse\tFalse\t0:00:13.628296\n",
      " 19%|███████▌                                | 94/500 [20:12<1:26:28, 12.78s/it]94\t336\t335\t0.87826\tFalse\tFalse\t0:00:13.274437\n",
      " 19%|███████▌                                | 95/500 [20:25<1:27:16, 12.93s/it]95\t78\t78\t0.44875\tFalse\tTrue\t0:00:37.036563\n",
      " 19%|███████▋                                | 96/500 [21:02<2:15:45, 20.16s/it]96\t745\t-1\t0.00000\tFalse\tFalse\t0:01:08.703349\n",
      " 19%|███████▊                                | 97/500 [22:11<3:53:13, 34.72s/it]97\t500\t500\t2.46326\tTrue\tTrue\t0:01:08.595221\n",
      " 20%|███████▊                                | 98/500 [23:19<5:00:44, 44.89s/it]98\t314\t314\t2.46326\tTrue\tTrue\t0:01:12.802321\n",
      " 20%|███████▉                                | 99/500 [24:32<5:55:57, 53.26s/it]99\t592\t592\t2.46326\tTrue\tTrue\t0:01:09.500055\n",
      " 20%|███████▊                               | 100/500 [25:41<6:27:33, 58.13s/it]100\t208\t208\t2.46326\tTrue\tTrue\t0:01:10.198762\n",
      " 20%|███████▉                               | 101/500 [26:52<6:50:39, 61.75s/it]101\t515\t-1\t0.00000\tFalse\tFalse\t0:01:13.006082\n",
      " 20%|███████▉                               | 102/500 [28:05<7:12:01, 65.13s/it]102\t582\t509\t0.03947\tFalse\tFalse\t0:01:14.797690\n",
      " 21%|████████                               | 103/500 [29:19<7:30:07, 68.03s/it]103\t730\t730\t2.46326\tTrue\tTrue\t0:01:13.903143\n",
      " 21%|████████                               | 104/500 [30:33<7:40:37, 69.79s/it]104\t786\t526\t2.46326\tFalse\tFalse\t0:01:14.887505\n",
      " 21%|████████▏                              | 105/500 [31:48<7:49:31, 71.32s/it]105\t710\t-1\t0.00000\tFalse\tFalse\t0:01:09.901196\n",
      " 21%|████████▎                              | 106/500 [32:58<7:45:32, 70.90s/it]106\t561\t517\t1.61599\tFalse\tFalse\t0:01:12.505379\n",
      " 21%|████████▎                              | 107/500 [34:11<7:47:31, 71.38s/it]107\t356\t362\t2.46326\tFalse\tFalse\t0:01:07.287364\n",
      " 22%|████████▍                              | 108/500 [35:18<7:38:19, 70.15s/it]108\t556\t556\t0.36130\tFalse\tTrue\t0:01:12.907838\n",
      " 22%|████████▌                              | 109/500 [36:31<7:42:32, 70.98s/it]109\t153\t202\t0.87028\tFalse\tFalse\t0:01:12.290524\n",
      " 22%|████████▌                              | 110/500 [37:43<7:43:55, 71.37s/it]110\t485\t485\t0.27714\tFalse\tTrue\t0:01:11.008198\n",
      " 22%|████████▋                              | 111/500 [38:54<7:42:01, 71.26s/it]111\t661\t661\t2.46326\tTrue\tTrue\t0:00:55.589713\n",
      " 22%|████████▋                              | 112/500 [39:50<7:10:25, 66.56s/it]112\t711\t626\t1.11448\tFalse\tFalse\t0:00:50.602648\n",
      " 23%|████████▊                              | 113/500 [40:40<6:38:26, 61.77s/it]113\t743\t743\t2.46326\tTrue\tTrue\t0:01:02.300898\n",
      " 23%|████████▉                              | 114/500 [41:43<6:38:25, 61.93s/it]114\t942\t942\t2.46326\tTrue\tTrue\t0:00:13.233650\n",
      " 23%|████████▉                              | 115/500 [41:56<5:03:39, 47.32s/it]115\t938\t938\t2.46326\tTrue\tTrue\t0:00:13.806289\n",
      " 23%|█████████                              | 116/500 [42:10<3:58:30, 37.27s/it]116\t196\t196\t2.46326\tTrue\tTrue\t0:00:14.109389\n",
      " 23%|█████████▏                             | 117/500 [42:24<3:13:32, 30.32s/it]117\t776\t683\t0.86631\tFalse\tFalse\t0:00:12.766418\n",
      " 24%|█████████▏                             | 118/500 [42:37<2:39:30, 25.05s/it]118\t493\t894\t1.39131\tFalse\tFalse\t0:00:12.764132\n",
      " 24%|█████████▎                             | 119/500 [42:49<2:15:41, 21.37s/it]119\t884\t884\t2.35765\tTrue\tTrue\t0:00:12.490937\n",
      " 24%|█████████▎                             | 120/500 [43:02<1:58:27, 18.70s/it]120\t638\t639\t1.16308\tFalse\tFalse\t0:00:12.721442\n",
      " 24%|█████████▍                             | 121/500 [43:15<1:46:48, 16.91s/it]121\t142\t142\t0.36407\tFalse\tTrue\t0:00:12.670595\n",
      " 24%|█████████▌                             | 122/500 [43:27<1:38:31, 15.64s/it]122\t674\t674\t0.27447\tFalse\tTrue\t0:00:12.607267\n",
      " 25%|█████████▌                             | 123/500 [43:40<1:32:32, 14.73s/it]"
     ]
    }
   ],
   "source": [
    "!python gsmooth_certify_resolvable.py sample_config.yaml"
   ]
  },
  {
   "cell_type": "code",
   "execution_count": null,
   "id": "e6614563",
   "metadata": {},
   "outputs": [],
   "source": [
    "!python gsmooth_certify_resolvable.py configs/imagenet_trans.yaml"
   ]
  },
  {
   "cell_type": "code",
   "execution_count": null,
   "id": "3558a8a7",
   "metadata": {},
   "outputs": [],
   "source": [
    "!python gsmooth_certify_resolvable.py configs/imagenet_brightness.yaml"
   ]
  },
  {
   "cell_type": "code",
   "execution_count": null,
   "id": "50416e2f",
   "metadata": {},
   "outputs": [],
   "source": [
    "!python gsmooth_certify_resolvable.py configs/imagenet_contrast.yaml"
   ]
  },
  {
   "cell_type": "code",
   "execution_count": null,
   "id": "57759451",
   "metadata": {},
   "outputs": [],
   "source": [
    "!python gsmooth_certify_resolvable.py configs/imagenet_blur.yaml"
   ]
  },
  {
   "cell_type": "code",
   "execution_count": null,
   "id": "3421bd88",
   "metadata": {},
   "outputs": [],
   "source": []
  }
 ],
 "metadata": {
  "kernelspec": {
   "display_name": "Python 3 (ipykernel)",
   "language": "python",
   "name": "python3"
  },
  "language_info": {
   "codemirror_mode": {
    "name": "ipython",
    "version": 3
   },
   "file_extension": ".py",
   "mimetype": "text/x-python",
   "name": "python",
   "nbconvert_exporter": "python",
   "pygments_lexer": "ipython3",
   "version": "3.8.12"
  }
 },
 "nbformat": 4,
 "nbformat_minor": 5
}
