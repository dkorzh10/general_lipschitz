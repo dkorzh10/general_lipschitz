{
 "cells": [
  {
   "cell_type": "code",
   "execution_count": 1,
   "id": "98288730",
   "metadata": {},
   "outputs": [],
   "source": [
    "import sys\n",
    "sys.path.append('./..')\n",
    "sys.path.append('./img2img')\n",
    "\n",
    "import argparse\n",
    "import os\n",
    "# import setGPU\n",
    "from src.datasets import get_dataset, DATASETS, get_num_classes, get_corrupted_dataset, load_parallel_model\n",
    "from src.img2img.img2img_models import img2img_get_model, get_size\n",
    "from src.core import Smooth, TSmooth\n",
    "from time import time\n",
    "# from src.grad2n import gradnorm_batch, gradnorm_batch_reduced\n",
    "from collections import OrderedDict\n",
    "from src.img2img.corruption import Corruption\n",
    "# from src.analyze import plot_certified_accuracy, Line, ApproximateAccuracy\n",
    "import torch\n",
    "import datetime\n",
    "from src.architectures import get_architecture\n",
    "import numpy as np\n",
    "from tqdm import tqdm"
   ]
  },
  {
   "cell_type": "code",
   "execution_count": 2,
   "id": "c439de6b",
   "metadata": {},
   "outputs": [],
   "source": [
    "sys.path.append('./../..')\n",
    "from architectures import get_architecture"
   ]
  },
  {
   "cell_type": "code",
   "execution_count": 3,
   "id": "2a3a6249",
   "metadata": {},
   "outputs": [],
   "source": [
    "# smoothed_classifier = TSmooth(base_classifier, None, corruptor, get_num_classes(args.dataset),args.noise_dst,args.noise_sd, args.add_noise)"
   ]
  },
  {
   "cell_type": "code",
   "execution_count": 4,
   "id": "be31c5ca",
   "metadata": {},
   "outputs": [
    {
     "name": "stdout",
     "output_type": "stream",
     "text": [
      "env: CUDA_VISIBLE_DEVICES=4\n",
      "env: CUDA_LAUNCH_BLOCKING=1\n"
     ]
    }
   ],
   "source": [
    "%env CUDA_VISIBLE_DEVICES=4\n",
    "%env CUDA_LAUNCH_BLOCKING=1"
   ]
  },
  {
   "cell_type": "code",
   "execution_count": 5,
   "id": "6390e620",
   "metadata": {},
   "outputs": [],
   "source": [
    "%load_ext autoreload\n",
    "%autoreload 2"
   ]
  },
  {
   "cell_type": "code",
   "execution_count": 6,
   "id": "d5d26dbb",
   "metadata": {},
   "outputs": [],
   "source": [
    "parser = argparse.ArgumentParser(description='Certify many examples')\n",
    "parser.add_argument(\"--dataset\",\n",
    "                    default='cifar10',choices=DATASETS, help=\"which dataset\")\n",
    "parser.add_argument(\"--base_classifier\", type=str,\n",
    "\n",
    "                    default=None,\n",
    "                    help=\"path to saved pytorch model of base classifier\")\n",
    "# parser.add_argument(\"sigma\", type=float, help=\"noise hyperparameter\")\n",
    "parser.add_argument(\"--outfile\", type=str,\n",
    "                    default='./logs/certify_results',\n",
    "                    help=\"output file\")\n",
    "\n",
    "\n",
    "parser.add_argument(\"--batch\", type=int, default=512, help=\"batch size\")\n",
    "parser.add_argument(\"--skip\", type=int, default=30\n",
    "                    , help=\"how many examples to skip\")\n",
    "parser.add_argument(\"--max\", type=int, default=-1, help=\"stop after this many examples\")\n",
    "parser.add_argument(\"--split\", choices=[\"train\", \"test\"], default=\"test\", help=\"train or test set\")\n",
    "parser.add_argument(\"--N0\", type=int, default=100)\n",
    "parser.add_argument(\"--N\", type=int, default=1000, help=\"number of samples to use\")\n",
    "parser.add_argument(\"--alpha\", type=float, default=1e-3, help=\"failure probability\")\n",
    "\n",
    "\n",
    "\n",
    "\n",
    "\n",
    "parser.add_argument('--corrupt',type=str,default=['none','gaussian_blur','motion_blur','zoom_blur','rotate','translate','contrast','pixelate','jpeg',][1],\n",
    "                    help=' The corruption type for training')\n",
    "parser.add_argument('--add_noise',type=float, default=0.0)\n",
    "parser.add_argument('--noise_dst',default=[\"none\",\"gaussian\",\"exp\",\"uniform\",\"folded_gaussian\"][2],type=str)\n",
    "parser.add_argument('--noise_sd', default=0.8, type=float,\n",
    "                    help=\"standard deviation of Gaussian noise for data augmentation\")\n",
    "\n",
    "\n",
    "parser.add_argument('--partial_min',default=0.0, type=float,\n",
    "                    help = \"Minimal of certify range\")\n",
    "parser.add_argument('--partial_max',default=1.0, type=float,\n",
    "                    help = \"Maximal of certify range\")\n",
    "\n",
    "\n",
    "\n",
    "parser.add_argument('--arch', type=str,\n",
    "                    default=[\"edsr\",\"unet\",\"runet\"][2])\n",
    "\n",
    "args = parser.parse_args([])"
   ]
  },
  {
   "cell_type": "code",
   "execution_count": 7,
   "id": "25d03fe3",
   "metadata": {},
   "outputs": [],
   "source": [
    "from torch.utils.data import DataLoader, Dataset\n",
    "\n",
    "def make_our_dataset_v2(data, idxes):\n",
    "    images = []\n",
    "    labels = []\n",
    "    k = 0\n",
    "    for i in tqdm(range(len(idxes))):\n",
    "        image, label = data[idxes[i]]\n",
    "        images.append(image.numpy())\n",
    "        \n",
    "        labels.append(label)\n",
    "\n",
    "    images = np.array(images)\n",
    "    labels = np.array(labels)\n",
    "    dataset = CustomAudioDataset(images, labels)\n",
    "    return dataset\n",
    "\n",
    "class CustomAudioDataset(Dataset):\n",
    "\n",
    "    def __init__(self, images, labels):\n",
    "        self.images = torch.tensor(images)\n",
    "        self.labels = torch.tensor(labels)\n",
    "        \n",
    "        \n",
    "    def __len__(self):\n",
    "        return len(self.images)\n",
    "    \n",
    "    def __getitem__(self, idx):\n",
    "        image = self.images[idx]\n",
    "        label =self.labels[idx]\n",
    "        return image, label"
   ]
  },
  {
   "cell_type": "code",
   "execution_count": 8,
   "id": "21b8d9a9",
   "metadata": {},
   "outputs": [
    {
     "name": "stdout",
     "output_type": "stream",
     "text": [
      "Files already downloaded and verified\n"
     ]
    },
    {
     "name": "stderr",
     "output_type": "stream",
     "text": [
      "100%|█████████████████████████████████████████████████████████████████████████████████████████████████████████████████████████████████████| 500/500 [00:00<00:00, 5274.42it/s]\n"
     ]
    }
   ],
   "source": [
    "np.random.seed(42)\n",
    "NUM_IMAGES_FOR_TEST = 500\n",
    "cifar10_ds = get_dataset('cifar10', 'test')\n",
    "idxes2 = np.random.choice(len(cifar10_ds), NUM_IMAGES_FOR_TEST , replace=False)\n",
    "\n",
    "our_cifar10_500 = make_our_dataset_v2(cifar10_ds, idxes2)\n",
    "dataloader_cifar10 = DataLoader(our_cifar10_500, shuffle=False, batch_size=1, num_workers=6, pin_memory=False)"
   ]
  },
  {
   "cell_type": "code",
   "execution_count": 9,
   "id": "ac89757a",
   "metadata": {},
   "outputs": [
    {
     "name": "stdout",
     "output_type": "stream",
     "text": [
      "Files already downloaded and verified\n"
     ]
    },
    {
     "name": "stderr",
     "output_type": "stream",
     "text": [
      "100%|█████████████████████████████████████████████████████████████████████████████████████████████████████████████████████████████████████| 500/500 [00:00<00:00, 2039.84it/s]\n"
     ]
    }
   ],
   "source": [
    "np.random.seed(42)\n",
    "\n",
    "cifar100_ds = get_dataset('cifar100', 'test')\n",
    "idxes3 = np.random.choice(len(cifar100_ds), NUM_IMAGES_FOR_TEST , replace=False)\n",
    "\n",
    "our_cifar100_500 = make_our_dataset_v2(cifar100_ds, idxes3)\n",
    "dataloader_cifar100 = DataLoader(our_cifar100_500, shuffle=False, batch_size=1,\n",
    "                         num_workers=6, pin_memory=False)"
   ]
  },
  {
   "cell_type": "code",
   "execution_count": 10,
   "id": "cf79223b",
   "metadata": {},
   "outputs": [],
   "source": [
    "from datasets_utils import get_normalize_layer"
   ]
  },
  {
   "cell_type": "code",
   "execution_count": 11,
   "id": "cd76a1b0",
   "metadata": {},
   "outputs": [],
   "source": [
    "from archs.cifar_resnet import resnet as resnet_cifar\n",
    "\n",
    "def get_architecture(arch: str, dataset: str, device) -> torch.nn.Module:\n",
    "    \"\"\" Return a neural network (with random weights)\n",
    "\n",
    "    :param arch: the architecture - should be in the ARCHITECTURES list above\n",
    "    :param dataset: the dataset - should be in the datasets.DATASETS list\n",
    "    :return: a Pytorch module\n",
    "    \"\"\"\n",
    "    if arch == \"resnet50\" and dataset == \"imagenet\":\n",
    "#         model = torch.nn.DataParallel(resnet50(pretrained=False)).cuda()\n",
    "#         cudnn.benchmark = True\n",
    "        model = resnet50(pretrained=False).to(device)\n",
    "    elif arch == \"cifar_resnet20\":\n",
    "        model = resnet_cifar(depth=20, num_classes=10).to(device)\n",
    "    elif arch == \"cifar_resnet110\":\n",
    "        model = resnet_cifar(depth=110, num_classes=10).to(device)\n",
    "    elif arch == \"cifar100_resnet110\":\n",
    "        model = resnet_cifar(depth=110, num_classes=100).to(device)\n",
    "    elif arch == \"fashion_22full\":\n",
    "        model = Conv2FC2full()\n",
    "        model = model.to(device)\n",
    "    elif arch == \"fashion_22simple\":\n",
    "        model = Conv2FC2simple().to(device)\n",
    "    elif arch == \"mnist_43\":\n",
    "        model = Conv4FC3().to(device)\n",
    "    normalize_layer = get_normalize_layer(dataset, device=device)\n",
    "    return torch.nn.Sequential(normalize_layer, model)\n"
   ]
  },
  {
   "cell_type": "markdown",
   "id": "89cf5223",
   "metadata": {},
   "source": [
    "# Translation"
   ]
  },
  {
   "cell_type": "code",
   "execution_count": 12,
   "id": "1155785f",
   "metadata": {},
   "outputs": [],
   "source": [
    "args.corrupt = 'translate'\n",
    "args.noise_sd = 15\n",
    "args.noise_dst = \"gaussian\""
   ]
  },
  {
   "cell_type": "markdown",
   "id": "44e425cc",
   "metadata": {},
   "source": [
    "## CIFAR-10"
   ]
  },
  {
   "cell_type": "code",
   "execution_count": 13,
   "id": "833aafb6",
   "metadata": {},
   "outputs": [
    {
     "name": "stdout",
     "output_type": "stream",
     "text": [
      "idx\tlabel\tpredict\tradius\tgood\tcorrect\ttime\n"
     ]
    },
    {
     "name": "stderr",
     "output_type": "stream",
     "text": [
      "  0%|▎                                                                                                                                        | 1/500 [00:04<37:40,  4.53s/it]"
     ]
    },
    {
     "name": "stdout",
     "output_type": "stream",
     "text": [
      "0\t2\t2\t2.46326\tTrue\tTrue\t0:00:04.530536\n"
     ]
    },
    {
     "name": "stderr",
     "output_type": "stream",
     "text": [
      "  0%|▌                                                                                                                                        | 2/500 [00:09<41:35,  5.01s/it]"
     ]
    },
    {
     "name": "stdout",
     "output_type": "stream",
     "text": [
      "1\t1\t1\t2.46326\tTrue\tTrue\t0:00:05.345364\n"
     ]
    },
    {
     "name": "stderr",
     "output_type": "stream",
     "text": [
      "  1%|▊                                                                                                                                        | 3/500 [00:15<42:22,  5.12s/it]"
     ]
    },
    {
     "name": "stdout",
     "output_type": "stream",
     "text": [
      "2\t5\t3\t2.46326\tFalse\tFalse\t0:00:05.234791\n"
     ]
    },
    {
     "name": "stderr",
     "output_type": "stream",
     "text": [
      "  1%|█                                                                                                                                        | 4/500 [00:19<41:13,  4.99s/it]"
     ]
    },
    {
     "name": "stdout",
     "output_type": "stream",
     "text": [
      "3\t8\t8\t2.46326\tTrue\tTrue\t0:00:04.787669\n"
     ]
    },
    {
     "name": "stderr",
     "output_type": "stream",
     "text": [
      "  1%|█▎                                                                                                                                       | 5/500 [00:24<39:25,  4.78s/it]"
     ]
    },
    {
     "name": "stdout",
     "output_type": "stream",
     "text": [
      "4\t9\t9\t2.46326\tTrue\tTrue\t0:00:04.403969\n"
     ]
    },
    {
     "name": "stderr",
     "output_type": "stream",
     "text": [
      "  1%|█▋                                                                                                                                       | 6/500 [00:28<38:36,  4.69s/it]"
     ]
    },
    {
     "name": "stdout",
     "output_type": "stream",
     "text": [
      "5\t3\t3\t2.46326\tTrue\tTrue\t0:00:04.511394\n"
     ]
    },
    {
     "name": "stderr",
     "output_type": "stream",
     "text": [
      "  1%|█▉                                                                                                                                       | 7/500 [00:33<37:59,  4.62s/it]"
     ]
    },
    {
     "name": "stdout",
     "output_type": "stream",
     "text": [
      "6\t8\t8\t2.46326\tTrue\tTrue\t0:00:04.490758\n"
     ]
    },
    {
     "name": "stderr",
     "output_type": "stream",
     "text": [
      "  2%|██▏                                                                                                                                      | 8/500 [00:37<37:25,  4.56s/it]"
     ]
    },
    {
     "name": "stdout",
     "output_type": "stream",
     "text": [
      "7\t9\t9\t2.46326\tTrue\tTrue\t0:00:04.429601\n"
     ]
    },
    {
     "name": "stderr",
     "output_type": "stream",
     "text": [
      "  2%|██▍                                                                                                                                      | 9/500 [00:42<37:51,  4.63s/it]"
     ]
    },
    {
     "name": "stdout",
     "output_type": "stream",
     "text": [
      "8\t0\t0\t2.46326\tTrue\tTrue\t0:00:04.757843\n"
     ]
    },
    {
     "name": "stderr",
     "output_type": "stream",
     "text": [
      "  2%|██▋                                                                                                                                     | 10/500 [00:46<36:42,  4.49s/it]"
     ]
    },
    {
     "name": "stdout",
     "output_type": "stream",
     "text": [
      "9\t1\t9\t1.22708\tFalse\tFalse\t0:00:04.196905\n"
     ]
    },
    {
     "name": "stderr",
     "output_type": "stream",
     "text": [
      "  2%|██▉                                                                                                                                     | 11/500 [00:51<37:59,  4.66s/it]"
     ]
    },
    {
     "name": "stdout",
     "output_type": "stream",
     "text": [
      "10\t5\t5\t2.46326\tTrue\tTrue\t0:00:05.041768\n"
     ]
    },
    {
     "name": "stderr",
     "output_type": "stream",
     "text": [
      "  2%|███▎                                                                                                                                    | 12/500 [00:56<37:40,  4.63s/it]"
     ]
    },
    {
     "name": "stdout",
     "output_type": "stream",
     "text": [
      "11\t1\t1\t2.46326\tTrue\tTrue\t0:00:04.563318\n"
     ]
    },
    {
     "name": "stderr",
     "output_type": "stream",
     "text": [
      "  3%|███▌                                                                                                                                    | 13/500 [01:01<38:36,  4.76s/it]"
     ]
    },
    {
     "name": "stdout",
     "output_type": "stream",
     "text": [
      "12\t3\t3\t1.61599\tTrue\tTrue\t0:00:05.037368\n"
     ]
    },
    {
     "name": "stderr",
     "output_type": "stream",
     "text": [
      "  3%|███▊                                                                                                                                    | 14/500 [01:06<39:47,  4.91s/it]"
     ]
    },
    {
     "name": "stdout",
     "output_type": "stream",
     "text": [
      "13\t5\t5\t2.46326\tTrue\tTrue\t0:00:05.273199\n"
     ]
    },
    {
     "name": "stderr",
     "output_type": "stream",
     "text": [
      "  3%|████                                                                                                                                    | 15/500 [01:12<41:48,  5.17s/it]"
     ]
    },
    {
     "name": "stdout",
     "output_type": "stream",
     "text": [
      "14\t9\t9\t2.46326\tTrue\tTrue\t0:00:05.771109\n"
     ]
    },
    {
     "name": "stderr",
     "output_type": "stream",
     "text": [
      "  3%|████▎                                                                                                                                   | 16/500 [01:18<44:17,  5.49s/it]"
     ]
    },
    {
     "name": "stdout",
     "output_type": "stream",
     "text": [
      "15\t2\t2\t2.46326\tTrue\tTrue\t0:00:06.226032\n"
     ]
    },
    {
     "name": "stderr",
     "output_type": "stream",
     "text": [
      "  3%|████▌                                                                                                                                   | 17/500 [01:25<47:02,  5.84s/it]"
     ]
    },
    {
     "name": "stdout",
     "output_type": "stream",
     "text": [
      "16\t8\t8\t2.46326\tTrue\tTrue\t0:00:06.657808\n"
     ]
    },
    {
     "name": "stderr",
     "output_type": "stream",
     "text": [
      "  4%|████▉                                                                                                                                   | 18/500 [01:32<49:25,  6.15s/it]"
     ]
    },
    {
     "name": "stdout",
     "output_type": "stream",
     "text": [
      "17\t8\t8\t0.36130\tTrue\tTrue\t0:00:06.871016\n"
     ]
    },
    {
     "name": "stderr",
     "output_type": "stream",
     "text": [
      "  4%|█████▏                                                                                                                                  | 19/500 [01:38<49:40,  6.20s/it]"
     ]
    },
    {
     "name": "stdout",
     "output_type": "stream",
     "text": [
      "18\t3\t3\t2.46326\tTrue\tTrue\t0:00:06.293680\n"
     ]
    },
    {
     "name": "stderr",
     "output_type": "stream",
     "text": [
      "  4%|█████▍                                                                                                                                  | 20/500 [01:44<48:04,  6.01s/it]"
     ]
    },
    {
     "name": "stdout",
     "output_type": "stream",
     "text": [
      "19\t8\t8\t2.46326\tTrue\tTrue\t0:00:05.566536\n"
     ]
    },
    {
     "name": "stderr",
     "output_type": "stream",
     "text": [
      "  4%|█████▋                                                                                                                                  | 21/500 [01:49<46:06,  5.78s/it]"
     ]
    },
    {
     "name": "stdout",
     "output_type": "stream",
     "text": [
      "20\t4\t4\t2.46326\tTrue\tTrue\t0:00:05.232692\n"
     ]
    },
    {
     "name": "stderr",
     "output_type": "stream",
     "text": [
      "  4%|█████▉                                                                                                                                  | 22/500 [01:54<45:29,  5.71s/it]"
     ]
    },
    {
     "name": "stdout",
     "output_type": "stream",
     "text": [
      "21\t0\t0\t2.46326\tTrue\tTrue\t0:00:05.555439\n"
     ]
    },
    {
     "name": "stderr",
     "output_type": "stream",
     "text": [
      "  5%|██████▎                                                                                                                                 | 23/500 [02:00<44:28,  5.59s/it]"
     ]
    },
    {
     "name": "stdout",
     "output_type": "stream",
     "text": [
      "22\t2\t2\t2.46326\tTrue\tTrue\t0:00:05.317074\n"
     ]
    },
    {
     "name": "stderr",
     "output_type": "stream",
     "text": [
      "  5%|██████▌                                                                                                                                 | 24/500 [02:05<43:28,  5.48s/it]"
     ]
    },
    {
     "name": "stdout",
     "output_type": "stream",
     "text": [
      "23\t7\t7\t2.46326\tTrue\tTrue\t0:00:05.208203\n"
     ]
    },
    {
     "name": "stderr",
     "output_type": "stream",
     "text": [
      "  5%|██████▊                                                                                                                                 | 25/500 [02:10<42:46,  5.40s/it]"
     ]
    },
    {
     "name": "stdout",
     "output_type": "stream",
     "text": [
      "24\t5\t5\t2.46326\tTrue\tTrue\t0:00:05.222109\n"
     ]
    },
    {
     "name": "stderr",
     "output_type": "stream",
     "text": [
      "  5%|███████                                                                                                                                 | 26/500 [02:16<43:08,  5.46s/it]"
     ]
    },
    {
     "name": "stdout",
     "output_type": "stream",
     "text": [
      "25\t6\t6\t2.46326\tTrue\tTrue\t0:00:05.595602\n"
     ]
    },
    {
     "name": "stderr",
     "output_type": "stream",
     "text": [
      "  5%|███████▎                                                                                                                                | 27/500 [02:21<43:05,  5.47s/it]"
     ]
    },
    {
     "name": "stdout",
     "output_type": "stream",
     "text": [
      "26\t2\t2\t2.46326\tTrue\tTrue\t0:00:05.470591\n"
     ]
    },
    {
     "name": "stderr",
     "output_type": "stream",
     "text": [
      "  6%|███████▌                                                                                                                                | 28/500 [02:26<41:57,  5.33s/it]"
     ]
    },
    {
     "name": "stdout",
     "output_type": "stream",
     "text": [
      "27\t4\t4\t2.46326\tTrue\tTrue\t0:00:05.021030\n"
     ]
    },
    {
     "name": "stderr",
     "output_type": "stream",
     "text": [
      "  6%|███████▉                                                                                                                                | 29/500 [02:32<42:28,  5.41s/it]"
     ]
    },
    {
     "name": "stdout",
     "output_type": "stream",
     "text": [
      "28\t5\t7\t1.57173\tFalse\tFalse\t0:00:05.585761\n"
     ]
    },
    {
     "name": "stderr",
     "output_type": "stream",
     "text": [
      "  6%|████████▏                                                                                                                               | 30/500 [02:38<43:49,  5.59s/it]"
     ]
    },
    {
     "name": "stdout",
     "output_type": "stream",
     "text": [
      "29\t5\t4\t2.46326\tFalse\tFalse\t0:00:06.019656\n"
     ]
    },
    {
     "name": "stderr",
     "output_type": "stream",
     "text": [
      "  6%|████████▍                                                                                                                               | 31/500 [02:45<46:35,  5.96s/it]"
     ]
    },
    {
     "name": "stdout",
     "output_type": "stream",
     "text": [
      "30\t5\t5\t1.61599\tTrue\tTrue\t0:00:06.810190\n"
     ]
    },
    {
     "name": "stderr",
     "output_type": "stream",
     "text": [
      "  6%|████████▋                                                                                                                               | 32/500 [02:54<53:36,  6.87s/it]"
     ]
    },
    {
     "name": "stdout",
     "output_type": "stream",
     "text": [
      "31\t0\t0\t2.46326\tTrue\tTrue\t0:00:08.992876\n"
     ]
    },
    {
     "name": "stderr",
     "output_type": "stream",
     "text": [
      "  7%|████████▉                                                                                                                               | 33/500 [03:01<53:42,  6.90s/it]"
     ]
    },
    {
     "name": "stdout",
     "output_type": "stream",
     "text": [
      "32\t4\t4\t2.46326\tTrue\tTrue\t0:00:06.959230\n"
     ]
    },
    {
     "name": "stderr",
     "output_type": "stream",
     "text": [
      "  7%|█████████▏                                                                                                                              | 34/500 [03:07<53:07,  6.84s/it]"
     ]
    },
    {
     "name": "stdout",
     "output_type": "stream",
     "text": [
      "33\t1\t1\t2.46326\tTrue\tTrue\t0:00:06.695295\n"
     ]
    },
    {
     "name": "stderr",
     "output_type": "stream",
     "text": [
      "  7%|█████████▌                                                                                                                              | 35/500 [03:13<49:28,  6.38s/it]"
     ]
    },
    {
     "name": "stdout",
     "output_type": "stream",
     "text": [
      "34\t7\t7\t2.46326\tTrue\tTrue\t0:00:05.315533\n"
     ]
    },
    {
     "name": "stderr",
     "output_type": "stream",
     "text": [
      "  7%|█████████▊                                                                                                                              | 36/500 [03:18<46:42,  6.04s/it]"
     ]
    },
    {
     "name": "stdout",
     "output_type": "stream",
     "text": [
      "35\t7\t7\t2.46326\tTrue\tTrue\t0:00:05.236566\n"
     ]
    },
    {
     "name": "stderr",
     "output_type": "stream",
     "text": [
      "  7%|██████████                                                                                                                              | 37/500 [03:23<44:59,  5.83s/it]"
     ]
    },
    {
     "name": "stdout",
     "output_type": "stream",
     "text": [
      "36\t2\t2\t2.46326\tTrue\tTrue\t0:00:05.333126\n"
     ]
    },
    {
     "name": "stderr",
     "output_type": "stream",
     "text": [
      "  8%|██████████▎                                                                                                                             | 38/500 [03:28<43:29,  5.65s/it]"
     ]
    },
    {
     "name": "stdout",
     "output_type": "stream",
     "text": [
      "37\t3\t3\t1.27099\tTrue\tTrue\t0:00:05.224211\n"
     ]
    },
    {
     "name": "stderr",
     "output_type": "stream",
     "text": [
      "  8%|██████████▌                                                                                                                             | 39/500 [03:34<43:06,  5.61s/it]"
     ]
    },
    {
     "name": "stdout",
     "output_type": "stream",
     "text": [
      "38\t9\t9\t2.46326\tTrue\tTrue\t0:00:05.518131\n"
     ]
    },
    {
     "name": "stderr",
     "output_type": "stream",
     "text": [
      "  8%|██████████▉                                                                                                                             | 40/500 [03:39<42:12,  5.51s/it]"
     ]
    },
    {
     "name": "stdout",
     "output_type": "stream",
     "text": [
      "39\t7\t7\t2.46326\tTrue\tTrue\t0:00:05.257456\n"
     ]
    },
    {
     "name": "stderr",
     "output_type": "stream",
     "text": [
      "  8%|███████████▏                                                                                                                            | 41/500 [03:45<42:19,  5.53s/it]"
     ]
    },
    {
     "name": "stdout",
     "output_type": "stream",
     "text": [
      "40\t2\t8\t1.15201\tFalse\tFalse\t0:00:05.590303\n"
     ]
    },
    {
     "name": "stderr",
     "output_type": "stream",
     "text": [
      "  8%|███████████▍                                                                                                                            | 42/500 [03:50<42:14,  5.53s/it]"
     ]
    },
    {
     "name": "stdout",
     "output_type": "stream",
     "text": [
      "41\t2\t3\t2.46326\tFalse\tFalse\t0:00:05.533445\n"
     ]
    },
    {
     "name": "stderr",
     "output_type": "stream",
     "text": [
      "  9%|███████████▋                                                                                                                            | 43/500 [03:56<42:08,  5.53s/it]"
     ]
    },
    {
     "name": "stdout",
     "output_type": "stream",
     "text": [
      "42\t3\t7\t0.23209\tFalse\tFalse\t0:00:05.529740\n"
     ]
    },
    {
     "name": "stderr",
     "output_type": "stream",
     "text": [
      "  9%|███████████▉                                                                                                                            | 44/500 [04:01<41:51,  5.51s/it]"
     ]
    },
    {
     "name": "stdout",
     "output_type": "stream",
     "text": [
      "43\t6\t6\t2.46326\tTrue\tTrue\t0:00:05.445102\n"
     ]
    },
    {
     "name": "stderr",
     "output_type": "stream",
     "text": [
      "  9%|████████████▏                                                                                                                           | 45/500 [04:08<44:05,  5.81s/it]"
     ]
    },
    {
     "name": "stdout",
     "output_type": "stream",
     "text": [
      "44\t6\t6\t2.28429\tTrue\tTrue\t0:00:06.526613\n"
     ]
    },
    {
     "name": "stderr",
     "output_type": "stream",
     "text": [
      "  9%|████████████▌                                                                                                                           | 46/500 [04:14<44:47,  5.92s/it]"
     ]
    },
    {
     "name": "stdout",
     "output_type": "stream",
     "text": [
      "45\t5\t5\t2.46326\tTrue\tTrue\t0:00:06.159553\n"
     ]
    },
    {
     "name": "stderr",
     "output_type": "stream",
     "text": [
      "  9%|████████████▊                                                                                                                           | 47/500 [04:21<46:39,  6.18s/it]"
     ]
    },
    {
     "name": "stdout",
     "output_type": "stream",
     "text": [
      "46\t5\t5\t0.68099\tTrue\tTrue\t0:00:06.781817\n"
     ]
    },
    {
     "name": "stderr",
     "output_type": "stream",
     "text": [
      " 10%|█████████████                                                                                                                           | 48/500 [04:27<47:41,  6.33s/it]"
     ]
    },
    {
     "name": "stdout",
     "output_type": "stream",
     "text": [
      "47\t6\t6\t2.46326\tTrue\tTrue\t0:00:06.682868\n"
     ]
    },
    {
     "name": "stderr",
     "output_type": "stream",
     "text": [
      " 10%|█████████████▎                                                                                                                          | 49/500 [04:33<45:08,  6.01s/it]"
     ]
    },
    {
     "name": "stdout",
     "output_type": "stream",
     "text": [
      "48\t0\t0\t2.46326\tTrue\tTrue\t0:00:05.241864\n"
     ]
    },
    {
     "name": "stderr",
     "output_type": "stream",
     "text": [
      " 10%|█████████████▌                                                                                                                          | 50/500 [04:37<41:35,  5.54s/it]"
     ]
    },
    {
     "name": "stdout",
     "output_type": "stream",
     "text": [
      "49\t6\t6\t2.46326\tTrue\tTrue\t0:00:04.462980\n"
     ]
    },
    {
     "name": "stderr",
     "output_type": "stream",
     "text": [
      " 10%|█████████████▊                                                                                                                          | 51/500 [04:42<39:12,  5.24s/it]"
     ]
    },
    {
     "name": "stdout",
     "output_type": "stream",
     "text": [
      "50\t1\t1\t2.46326\tTrue\tTrue\t0:00:04.520907\n"
     ]
    },
    {
     "name": "stderr",
     "output_type": "stream",
     "text": [
      " 10%|██████████████▏                                                                                                                         | 52/500 [04:46<37:43,  5.05s/it]"
     ]
    },
    {
     "name": "stdout",
     "output_type": "stream",
     "text": [
      "51\t2\t2\t2.46326\tTrue\tTrue\t0:00:04.617873\n"
     ]
    },
    {
     "name": "stderr",
     "output_type": "stream",
     "text": [
      " 11%|██████████████▍                                                                                                                         | 53/500 [04:51<36:11,  4.86s/it]"
     ]
    },
    {
     "name": "stdout",
     "output_type": "stream",
     "text": [
      "52\t7\t-1\t0.00000\tFalse\tFalse\t0:00:04.396812\n"
     ]
    },
    {
     "name": "stderr",
     "output_type": "stream",
     "text": [
      " 11%|██████████████▋                                                                                                                         | 54/500 [04:55<35:26,  4.77s/it]"
     ]
    },
    {
     "name": "stdout",
     "output_type": "stream",
     "text": [
      "53\t9\t9\t2.46326\tTrue\tTrue\t0:00:04.556889\n"
     ]
    },
    {
     "name": "stderr",
     "output_type": "stream",
     "text": [
      " 11%|██████████████▉                                                                                                                         | 55/500 [04:59<34:02,  4.59s/it]"
     ]
    },
    {
     "name": "stdout",
     "output_type": "stream",
     "text": [
      "54\t2\t6\t2.46326\tFalse\tFalse\t0:00:04.171586\n"
     ]
    },
    {
     "name": "stderr",
     "output_type": "stream",
     "text": [
      " 11%|███████████████▏                                                                                                                        | 56/500 [05:04<33:03,  4.47s/it]"
     ]
    },
    {
     "name": "stdout",
     "output_type": "stream",
     "text": [
      "55\t2\t2\t2.46326\tTrue\tTrue\t0:00:04.179842\n"
     ]
    },
    {
     "name": "stderr",
     "output_type": "stream",
     "text": [
      " 11%|███████████████▌                                                                                                                        | 57/500 [05:08<32:59,  4.47s/it]"
     ]
    },
    {
     "name": "stdout",
     "output_type": "stream",
     "text": [
      "56\t1\t1\t2.46326\tTrue\tTrue\t0:00:04.467824\n"
     ]
    },
    {
     "name": "stderr",
     "output_type": "stream",
     "text": [
      " 12%|███████████████▊                                                                                                                        | 58/500 [05:13<32:54,  4.47s/it]"
     ]
    },
    {
     "name": "stdout",
     "output_type": "stream",
     "text": [
      "57\t8\t8\t2.46326\tTrue\tTrue\t0:00:04.459365\n"
     ]
    },
    {
     "name": "stderr",
     "output_type": "stream",
     "text": [
      " 12%|████████████████                                                                                                                        | 59/500 [05:17<32:46,  4.46s/it]"
     ]
    },
    {
     "name": "stdout",
     "output_type": "stream",
     "text": [
      "58\t4\t4\t2.46326\tTrue\tTrue\t0:00:04.442580\n"
     ]
    },
    {
     "name": "stderr",
     "output_type": "stream",
     "text": [
      " 12%|████████████████▎                                                                                                                       | 60/500 [05:22<33:11,  4.53s/it]"
     ]
    },
    {
     "name": "stdout",
     "output_type": "stream",
     "text": [
      "59\t2\t-1\t0.00000\tFalse\tFalse\t0:00:04.675824\n"
     ]
    },
    {
     "name": "stderr",
     "output_type": "stream",
     "text": [
      " 12%|████████████████▌                                                                                                                       | 61/500 [05:26<33:06,  4.53s/it]"
     ]
    },
    {
     "name": "stdout",
     "output_type": "stream",
     "text": [
      "60\t0\t0\t2.46326\tTrue\tTrue\t0:00:04.524505\n"
     ]
    },
    {
     "name": "stderr",
     "output_type": "stream",
     "text": [
      " 12%|████████████████▊                                                                                                                       | 62/500 [05:31<32:54,  4.51s/it]"
     ]
    },
    {
     "name": "stdout",
     "output_type": "stream",
     "text": [
      "61\t7\t7\t2.46326\tTrue\tTrue\t0:00:04.460949\n"
     ]
    },
    {
     "name": "stderr",
     "output_type": "stream",
     "text": [
      " 13%|█████████████████▏                                                                                                                      | 63/500 [05:36<34:42,  4.76s/it]"
     ]
    },
    {
     "name": "stdout",
     "output_type": "stream",
     "text": [
      "62\t0\t0\t2.46326\tTrue\tTrue\t0:00:05.362278\n"
     ]
    },
    {
     "name": "stderr",
     "output_type": "stream",
     "text": [
      " 13%|█████████████████▍                                                                                                                      | 64/500 [05:42<37:41,  5.19s/it]"
     ]
    },
    {
     "name": "stdout",
     "output_type": "stream",
     "text": [
      "63\t6\t6\t2.46326\tTrue\tTrue\t0:00:06.166792\n"
     ]
    },
    {
     "name": "stderr",
     "output_type": "stream",
     "text": [
      " 13%|█████████████████▋                                                                                                                      | 65/500 [05:47<37:36,  5.19s/it]"
     ]
    },
    {
     "name": "stdout",
     "output_type": "stream",
     "text": [
      "64\t4\t4\t2.46326\tTrue\tTrue\t0:00:05.185220\n"
     ]
    },
    {
     "name": "stderr",
     "output_type": "stream",
     "text": [
      " 13%|█████████████████▉                                                                                                                      | 66/500 [05:52<35:57,  4.97s/it]"
     ]
    },
    {
     "name": "stdout",
     "output_type": "stream",
     "text": [
      "65\t5\t5\t2.46326\tTrue\tTrue\t0:00:04.461667\n"
     ]
    },
    {
     "name": "stderr",
     "output_type": "stream",
     "text": [
      " 13%|██████████████████▏                                                                                                                     | 67/500 [05:57<35:55,  4.98s/it]"
     ]
    },
    {
     "name": "stdout",
     "output_type": "stream",
     "text": [
      "66\t7\t7\t2.46326\tTrue\tTrue\t0:00:04.990302\n"
     ]
    },
    {
     "name": "stderr",
     "output_type": "stream",
     "text": [
      " 14%|██████████████████▍                                                                                                                     | 68/500 [06:03<37:48,  5.25s/it]"
     ]
    },
    {
     "name": "stdout",
     "output_type": "stream",
     "text": [
      "67\t3\t-1\t0.00000\tFalse\tFalse\t0:00:05.884090\n"
     ]
    },
    {
     "name": "stderr",
     "output_type": "stream",
     "text": [
      " 14%|██████████████████▊                                                                                                                     | 69/500 [06:08<38:14,  5.32s/it]"
     ]
    },
    {
     "name": "stdout",
     "output_type": "stream",
     "text": [
      "68\t8\t8\t2.46326\tTrue\tTrue\t0:00:05.493007\n"
     ]
    },
    {
     "name": "stderr",
     "output_type": "stream",
     "text": [
      " 14%|███████████████████                                                                                                                     | 70/500 [06:13<36:02,  5.03s/it]"
     ]
    },
    {
     "name": "stdout",
     "output_type": "stream",
     "text": [
      "69\t9\t9\t2.46326\tTrue\tTrue\t0:00:04.343109\n"
     ]
    },
    {
     "name": "stderr",
     "output_type": "stream",
     "text": [
      " 14%|███████████████████▎                                                                                                                    | 71/500 [06:17<35:02,  4.90s/it]"
     ]
    },
    {
     "name": "stdout",
     "output_type": "stream",
     "text": [
      "70\t1\t1\t2.46326\tTrue\tTrue\t0:00:04.597320\n"
     ]
    },
    {
     "name": "stderr",
     "output_type": "stream",
     "text": [
      " 14%|███████████████████▌                                                                                                                    | 72/500 [06:22<34:13,  4.80s/it]"
     ]
    },
    {
     "name": "stdout",
     "output_type": "stream",
     "text": [
      "71\t2\t4\t0.11049\tFalse\tFalse\t0:00:04.555130\n"
     ]
    },
    {
     "name": "stderr",
     "output_type": "stream",
     "text": [
      " 15%|███████████████████▊                                                                                                                    | 73/500 [06:26<33:23,  4.69s/it]"
     ]
    },
    {
     "name": "stdout",
     "output_type": "stream",
     "text": [
      "72\t3\t3\t1.22103\tTrue\tTrue\t0:00:04.445204\n"
     ]
    },
    {
     "name": "stderr",
     "output_type": "stream",
     "text": [
      " 15%|████████████████████▏                                                                                                                   | 74/500 [06:31<32:29,  4.58s/it]"
     ]
    },
    {
     "name": "stdout",
     "output_type": "stream",
     "text": [
      "73\t6\t6\t2.46326\tTrue\tTrue\t0:00:04.301903\n"
     ]
    },
    {
     "name": "stderr",
     "output_type": "stream",
     "text": [
      " 15%|████████████████████▍                                                                                                                   | 75/500 [06:35<32:24,  4.58s/it]"
     ]
    },
    {
     "name": "stdout",
     "output_type": "stream",
     "text": [
      "74\t8\t8\t2.46326\tTrue\tTrue\t0:00:04.573195\n"
     ]
    },
    {
     "name": "stderr",
     "output_type": "stream",
     "text": [
      " 15%|████████████████████▋                                                                                                                   | 76/500 [06:40<32:10,  4.55s/it]"
     ]
    },
    {
     "name": "stdout",
     "output_type": "stream",
     "text": [
      "75\t9\t9\t0.71853\tTrue\tTrue\t0:00:04.498224\n"
     ]
    },
    {
     "name": "stderr",
     "output_type": "stream",
     "text": [
      " 15%|████████████████████▉                                                                                                                   | 77/500 [06:44<31:59,  4.54s/it]"
     ]
    },
    {
     "name": "stdout",
     "output_type": "stream",
     "text": [
      "76\t4\t4\t2.46326\tTrue\tTrue\t0:00:04.497756\n"
     ]
    },
    {
     "name": "stderr",
     "output_type": "stream",
     "text": [
      " 16%|█████████████████████▏                                                                                                                  | 78/500 [06:49<31:51,  4.53s/it]"
     ]
    },
    {
     "name": "stdout",
     "output_type": "stream",
     "text": [
      "77\t3\t6\t2.46326\tFalse\tFalse\t0:00:04.506451\n"
     ]
    },
    {
     "name": "stderr",
     "output_type": "stream",
     "text": [
      " 16%|█████████████████████▍                                                                                                                  | 79/500 [06:53<31:15,  4.45s/it]"
     ]
    },
    {
     "name": "stdout",
     "output_type": "stream",
     "text": [
      "78\t9\t9\t2.46326\tTrue\tTrue\t0:00:04.278440\n"
     ]
    },
    {
     "name": "stderr",
     "output_type": "stream",
     "text": [
      " 16%|█████████████████████▊                                                                                                                  | 80/500 [06:59<34:05,  4.87s/it]"
     ]
    },
    {
     "name": "stdout",
     "output_type": "stream",
     "text": [
      "79\t9\t9\t2.46326\tTrue\tTrue\t0:00:05.841558\n"
     ]
    },
    {
     "name": "stderr",
     "output_type": "stream",
     "text": [
      " 16%|██████████████████████                                                                                                                  | 81/500 [07:04<34:55,  5.00s/it]"
     ]
    },
    {
     "name": "stdout",
     "output_type": "stream",
     "text": [
      "80\t8\t8\t2.46326\tTrue\tTrue\t0:00:05.303357\n"
     ]
    },
    {
     "name": "stderr",
     "output_type": "stream",
     "text": [
      " 16%|██████████████████████▎                                                                                                                 | 82/500 [07:10<36:20,  5.22s/it]"
     ]
    },
    {
     "name": "stdout",
     "output_type": "stream",
     "text": [
      "81\t6\t6\t2.46326\tTrue\tTrue\t0:00:05.709668\n"
     ]
    },
    {
     "name": "stderr",
     "output_type": "stream",
     "text": [
      " 17%|██████████████████████▌                                                                                                                 | 83/500 [07:15<35:50,  5.16s/it]"
     ]
    },
    {
     "name": "stdout",
     "output_type": "stream",
     "text": [
      "82\t6\t6\t2.46326\tTrue\tTrue\t0:00:05.017664\n"
     ]
    },
    {
     "name": "stderr",
     "output_type": "stream",
     "text": [
      " 17%|██████████████████████▊                                                                                                                 | 84/500 [07:19<34:45,  5.01s/it]"
     ]
    },
    {
     "name": "stdout",
     "output_type": "stream",
     "text": [
      "83\t1\t1\t2.46326\tTrue\tTrue\t0:00:04.673641\n"
     ]
    },
    {
     "name": "stderr",
     "output_type": "stream",
     "text": [
      " 17%|███████████████████████                                                                                                                 | 85/500 [07:24<34:00,  4.92s/it]"
     ]
    },
    {
     "name": "stdout",
     "output_type": "stream",
     "text": [
      "84\t1\t1\t2.46326\tTrue\tTrue\t0:00:04.692415\n"
     ]
    },
    {
     "name": "stderr",
     "output_type": "stream",
     "text": [
      " 17%|███████████████████████▍                                                                                                                | 86/500 [07:31<37:14,  5.40s/it]"
     ]
    },
    {
     "name": "stdout",
     "output_type": "stream",
     "text": [
      "85\t9\t9\t2.46326\tTrue\tTrue\t0:00:06.514847\n"
     ]
    },
    {
     "name": "stderr",
     "output_type": "stream",
     "text": [
      " 17%|███████████████████████▋                                                                                                                | 87/500 [07:36<37:21,  5.43s/it]"
     ]
    },
    {
     "name": "stdout",
     "output_type": "stream",
     "text": [
      "86\t9\t9\t2.46326\tTrue\tTrue\t0:00:05.491737\n"
     ]
    },
    {
     "name": "stderr",
     "output_type": "stream",
     "text": [
      " 18%|███████████████████████▉                                                                                                                | 88/500 [07:42<37:21,  5.44s/it]"
     ]
    },
    {
     "name": "stdout",
     "output_type": "stream",
     "text": [
      "87\t5\t5\t2.46326\tTrue\tTrue\t0:00:05.470531\n"
     ]
    },
    {
     "name": "stderr",
     "output_type": "stream",
     "text": [
      " 18%|████████████████████████▏                                                                                                               | 89/500 [07:47<36:23,  5.31s/it]"
     ]
    },
    {
     "name": "stdout",
     "output_type": "stream",
     "text": [
      "88\t1\t1\t2.46326\tTrue\tTrue\t0:00:05.011482\n"
     ]
    },
    {
     "name": "stderr",
     "output_type": "stream",
     "text": [
      " 18%|████████████████████████▍                                                                                                               | 90/500 [07:51<35:14,  5.16s/it]"
     ]
    },
    {
     "name": "stdout",
     "output_type": "stream",
     "text": [
      "89\t9\t9\t2.46326\tTrue\tTrue\t0:00:04.787454\n"
     ]
    },
    {
     "name": "stderr",
     "output_type": "stream",
     "text": [
      " 18%|████████████████████████▊                                                                                                               | 91/500 [07:57<35:00,  5.14s/it]"
     ]
    },
    {
     "name": "stdout",
     "output_type": "stream",
     "text": [
      "90\t5\t5\t2.46326\tTrue\tTrue\t0:00:05.087987\n"
     ]
    },
    {
     "name": "stderr",
     "output_type": "stream",
     "text": [
      " 18%|█████████████████████████                                                                                                               | 92/500 [08:02<35:16,  5.19s/it]"
     ]
    },
    {
     "name": "stdout",
     "output_type": "stream",
     "text": [
      "91\t9\t9\t2.46326\tTrue\tTrue\t0:00:05.303040\n"
     ]
    },
    {
     "name": "stderr",
     "output_type": "stream",
     "text": [
      " 19%|█████████████████████████▎                                                                                                              | 93/500 [08:07<35:23,  5.22s/it]"
     ]
    },
    {
     "name": "stdout",
     "output_type": "stream",
     "text": [
      "92\t9\t9\t2.46326\tTrue\tTrue\t0:00:05.286942\n"
     ]
    },
    {
     "name": "stderr",
     "output_type": "stream",
     "text": [
      " 19%|█████████████████████████▌                                                                                                              | 94/500 [08:12<35:36,  5.26s/it]"
     ]
    },
    {
     "name": "stdout",
     "output_type": "stream",
     "text": [
      "93\t3\t3\t0.17988\tTrue\tTrue\t0:00:05.360650\n"
     ]
    },
    {
     "name": "stderr",
     "output_type": "stream",
     "text": [
      " 19%|█████████████████████████▊                                                                                                              | 95/500 [08:17<34:57,  5.18s/it]"
     ]
    },
    {
     "name": "stdout",
     "output_type": "stream",
     "text": [
      "94\t9\t0\t2.46326\tFalse\tFalse\t0:00:04.984027\n"
     ]
    },
    {
     "name": "stderr",
     "output_type": "stream",
     "text": [
      " 19%|██████████████████████████                                                                                                              | 96/500 [08:22<34:02,  5.06s/it]"
     ]
    },
    {
     "name": "stdout",
     "output_type": "stream",
     "text": [
      "95\t3\t4\t1.01599\tFalse\tFalse\t0:00:04.764866\n"
     ]
    },
    {
     "name": "stderr",
     "output_type": "stream",
     "text": [
      " 19%|██████████████████████████▍                                                                                                             | 97/500 [08:27<33:03,  4.92s/it]"
     ]
    },
    {
     "name": "stdout",
     "output_type": "stream",
     "text": [
      "96\t4\t4\t1.15201\tTrue\tTrue\t0:00:04.605651\n"
     ]
    },
    {
     "name": "stderr",
     "output_type": "stream",
     "text": [
      " 20%|██████████████████████████▋                                                                                                             | 98/500 [08:33<34:45,  5.19s/it]"
     ]
    },
    {
     "name": "stdout",
     "output_type": "stream",
     "text": [
      "97\t3\t3\t2.46326\tTrue\tTrue\t0:00:05.811674\n"
     ]
    },
    {
     "name": "stderr",
     "output_type": "stream",
     "text": [
      " 20%|██████████████████████████▉                                                                                                             | 99/500 [08:39<37:38,  5.63s/it]"
     ]
    },
    {
     "name": "stdout",
     "output_type": "stream",
     "text": [
      "98\t5\t5\t1.67719\tTrue\tTrue\t0:00:06.664892\n"
     ]
    },
    {
     "name": "stderr",
     "output_type": "stream",
     "text": [
      " 20%|███████████████████████████                                                                                                            | 100/500 [08:47<41:06,  6.17s/it]"
     ]
    },
    {
     "name": "stdout",
     "output_type": "stream",
     "text": [
      "99\t8\t8\t2.46326\tTrue\tTrue\t0:00:07.412008\n"
     ]
    },
    {
     "name": "stderr",
     "output_type": "stream",
     "text": [
      " 20%|███████████████████████████▎                                                                                                           | 101/500 [08:52<39:22,  5.92s/it]"
     ]
    },
    {
     "name": "stdout",
     "output_type": "stream",
     "text": [
      "100\t1\t1\t2.46326\tTrue\tTrue\t0:00:05.342429\n"
     ]
    },
    {
     "name": "stderr",
     "output_type": "stream",
     "text": [
      " 20%|███████████████████████████▌                                                                                                           | 102/500 [08:57<38:02,  5.73s/it]"
     ]
    },
    {
     "name": "stdout",
     "output_type": "stream",
     "text": [
      "101\t1\t1\t2.46326\tTrue\tTrue\t0:00:05.295891\n"
     ]
    },
    {
     "name": "stderr",
     "output_type": "stream",
     "text": [
      " 21%|███████████████████████████▊                                                                                                           | 103/500 [09:03<36:54,  5.58s/it]"
     ]
    },
    {
     "name": "stdout",
     "output_type": "stream",
     "text": [
      "102\t2\t2\t0.74658\tTrue\tTrue\t0:00:05.207790\n"
     ]
    },
    {
     "name": "stderr",
     "output_type": "stream",
     "text": [
      " 21%|████████████████████████████                                                                                                           | 104/500 [09:08<35:38,  5.40s/it]"
     ]
    },
    {
     "name": "stdout",
     "output_type": "stream",
     "text": [
      "103\t7\t7\t2.46326\tTrue\tTrue\t0:00:04.986789\n"
     ]
    },
    {
     "name": "stderr",
     "output_type": "stream",
     "text": [
      " 21%|████████████████████████████▎                                                                                                          | 105/500 [09:13<36:11,  5.50s/it]"
     ]
    },
    {
     "name": "stdout",
     "output_type": "stream",
     "text": [
      "104\t1\t1\t2.46326\tTrue\tTrue\t0:00:05.718691\n"
     ]
    },
    {
     "name": "stderr",
     "output_type": "stream",
     "text": [
      " 21%|████████████████████████████▌                                                                                                          | 106/500 [09:19<36:26,  5.55s/it]"
     ]
    },
    {
     "name": "stdout",
     "output_type": "stream",
     "text": [
      "105\t2\t7\t0.70133\tFalse\tFalse\t0:00:05.670409\n"
     ]
    },
    {
     "name": "stderr",
     "output_type": "stream",
     "text": [
      " 21%|████████████████████████████▉                                                                                                          | 107/500 [09:25<36:24,  5.56s/it]"
     ]
    },
    {
     "name": "stdout",
     "output_type": "stream",
     "text": [
      "106\t5\t4\t1.61599\tFalse\tFalse\t0:00:05.571264\n"
     ]
    },
    {
     "name": "stderr",
     "output_type": "stream",
     "text": [
      " 22%|█████████████████████████████▏                                                                                                         | 108/500 [09:30<35:09,  5.38s/it]"
     ]
    },
    {
     "name": "stdout",
     "output_type": "stream",
     "text": [
      "107\t0\t0\t2.46326\tTrue\tTrue\t0:00:04.969836\n"
     ]
    },
    {
     "name": "stderr",
     "output_type": "stream",
     "text": [
      " 22%|█████████████████████████████▍                                                                                                         | 109/500 [09:34<33:57,  5.21s/it]"
     ]
    },
    {
     "name": "stdout",
     "output_type": "stream",
     "text": [
      "108\t2\t2\t1.33193\tTrue\tTrue\t0:00:04.814627\n"
     ]
    },
    {
     "name": "stderr",
     "output_type": "stream",
     "text": [
      " 22%|█████████████████████████████▋                                                                                                         | 110/500 [09:40<33:54,  5.22s/it]"
     ]
    },
    {
     "name": "stdout",
     "output_type": "stream",
     "text": [
      "109\t7\t7\t2.46326\tTrue\tTrue\t0:00:05.222515\n"
     ]
    },
    {
     "name": "stderr",
     "output_type": "stream",
     "text": [
      " 22%|█████████████████████████████▉                                                                                                         | 111/500 [09:45<34:08,  5.27s/it]"
     ]
    },
    {
     "name": "stdout",
     "output_type": "stream",
     "text": [
      "110\t7\t7\t2.46326\tTrue\tTrue\t0:00:05.377948\n"
     ]
    },
    {
     "name": "stderr",
     "output_type": "stream",
     "text": [
      " 22%|██████████████████████████████▏                                                                                                        | 112/500 [09:50<33:48,  5.23s/it]"
     ]
    },
    {
     "name": "stdout",
     "output_type": "stream",
     "text": [
      "111\t8\t8\t2.46326\tTrue\tTrue\t0:00:05.142516\n"
     ]
    },
    {
     "name": "stderr",
     "output_type": "stream",
     "text": [
      " 23%|██████████████████████████████▌                                                                                                        | 113/500 [09:55<33:51,  5.25s/it]"
     ]
    },
    {
     "name": "stdout",
     "output_type": "stream",
     "text": [
      "112\t2\t0\t2.46326\tFalse\tFalse\t0:00:05.292599\n"
     ]
    },
    {
     "name": "stderr",
     "output_type": "stream",
     "text": [
      " 23%|██████████████████████████████▊                                                                                                        | 114/500 [10:00<33:27,  5.20s/it]"
     ]
    },
    {
     "name": "stdout",
     "output_type": "stream",
     "text": [
      "113\t3\t3\t2.46326\tTrue\tTrue\t0:00:05.083385\n"
     ]
    },
    {
     "name": "stderr",
     "output_type": "stream",
     "text": [
      " 23%|███████████████████████████████                                                                                                        | 115/500 [10:06<33:19,  5.19s/it]"
     ]
    },
    {
     "name": "stdout",
     "output_type": "stream",
     "text": [
      "114\t1\t1\t2.46326\tTrue\tTrue\t0:00:05.172812\n"
     ]
    },
    {
     "name": "stderr",
     "output_type": "stream",
     "text": [
      " 23%|███████████████████████████████▎                                                                                                       | 116/500 [10:12<35:34,  5.56s/it]"
     ]
    },
    {
     "name": "stdout",
     "output_type": "stream",
     "text": [
      "115\t4\t4\t2.46326\tTrue\tTrue\t0:00:06.409397\n"
     ]
    },
    {
     "name": "stderr",
     "output_type": "stream",
     "text": [
      " 23%|███████████████████████████████▌                                                                                                       | 117/500 [10:18<36:37,  5.74s/it]"
     ]
    },
    {
     "name": "stdout",
     "output_type": "stream",
     "text": [
      "116\t9\t9\t2.46326\tTrue\tTrue\t0:00:06.155014\n"
     ]
    },
    {
     "name": "stderr",
     "output_type": "stream",
     "text": [
      " 24%|███████████████████████████████▊                                                                                                       | 118/500 [10:25<38:08,  5.99s/it]"
     ]
    },
    {
     "name": "stdout",
     "output_type": "stream",
     "text": [
      "117\t2\t2\t2.46326\tTrue\tTrue\t0:00:06.580058\n"
     ]
    },
    {
     "name": "stderr",
     "output_type": "stream",
     "text": [
      " 24%|████████████████████████████████▏                                                                                                      | 119/500 [10:30<36:24,  5.73s/it]"
     ]
    },
    {
     "name": "stdout",
     "output_type": "stream",
     "text": [
      "118\t0\t0\t2.46326\tTrue\tTrue\t0:00:05.124910\n"
     ]
    },
    {
     "name": "stderr",
     "output_type": "stream",
     "text": [
      " 24%|████████████████████████████████▍                                                                                                      | 120/500 [10:35<34:36,  5.46s/it]"
     ]
    },
    {
     "name": "stdout",
     "output_type": "stream",
     "text": [
      "119\t3\t-1\t0.00000\tFalse\tFalse\t0:00:04.836584\n"
     ]
    },
    {
     "name": "stderr",
     "output_type": "stream",
     "text": [
      " 24%|████████████████████████████████▋                                                                                                      | 121/500 [10:40<34:10,  5.41s/it]"
     ]
    },
    {
     "name": "stdout",
     "output_type": "stream",
     "text": [
      "120\t2\t2\t2.46326\tTrue\tTrue\t0:00:05.277519\n"
     ]
    },
    {
     "name": "stderr",
     "output_type": "stream",
     "text": [
      " 24%|████████████████████████████████▉                                                                                                      | 122/500 [10:44<32:11,  5.11s/it]"
     ]
    },
    {
     "name": "stdout",
     "output_type": "stream",
     "text": [
      "121\t0\t0\t2.46326\tTrue\tTrue\t0:00:04.407208\n"
     ]
    },
    {
     "name": "stderr",
     "output_type": "stream",
     "text": [
      " 25%|█████████████████████████████████▏                                                                                                     | 123/500 [10:50<32:06,  5.11s/it]"
     ]
    },
    {
     "name": "stdout",
     "output_type": "stream",
     "text": [
      "122\t3\t8\t2.46326\tFalse\tFalse\t0:00:05.110559\n"
     ]
    },
    {
     "name": "stderr",
     "output_type": "stream",
     "text": [
      " 25%|█████████████████████████████████▍                                                                                                     | 124/500 [10:55<33:31,  5.35s/it]"
     ]
    },
    {
     "name": "stdout",
     "output_type": "stream",
     "text": [
      "123\t1\t1\t2.46326\tTrue\tTrue\t0:00:05.908453\n"
     ]
    },
    {
     "name": "stderr",
     "output_type": "stream",
     "text": [
      " 25%|█████████████████████████████████▊                                                                                                     | 125/500 [11:01<33:59,  5.44s/it]"
     ]
    },
    {
     "name": "stdout",
     "output_type": "stream",
     "text": [
      "124\t8\t8\t2.46326\tTrue\tTrue\t0:00:05.643855\n"
     ]
    },
    {
     "name": "stderr",
     "output_type": "stream",
     "text": [
      " 25%|██████████████████████████████████                                                                                                     | 126/500 [11:07<33:48,  5.42s/it]"
     ]
    },
    {
     "name": "stdout",
     "output_type": "stream",
     "text": [
      "125\t8\t8\t2.46326\tTrue\tTrue\t0:00:05.384534\n"
     ]
    },
    {
     "name": "stderr",
     "output_type": "stream",
     "text": [
      " 25%|██████████████████████████████████▎                                                                                                    | 127/500 [11:11<31:26,  5.06s/it]"
     ]
    },
    {
     "name": "stdout",
     "output_type": "stream",
     "text": [
      "126\t0\t0\t2.46326\tTrue\tTrue\t0:00:04.200693\n"
     ]
    },
    {
     "name": "stderr",
     "output_type": "stream",
     "text": [
      " 26%|██████████████████████████████████▌                                                                                                    | 128/500 [11:15<30:24,  4.90s/it]"
     ]
    },
    {
     "name": "stdout",
     "output_type": "stream",
     "text": [
      "127\t0\t9\t1.33193\tFalse\tFalse\t0:00:04.544063\n"
     ]
    },
    {
     "name": "stderr",
     "output_type": "stream",
     "text": [
      " 26%|██████████████████████████████████▊                                                                                                    | 129/500 [11:20<29:32,  4.78s/it]"
     ]
    },
    {
     "name": "stdout",
     "output_type": "stream",
     "text": [
      "128\t7\t7\t2.46326\tTrue\tTrue\t0:00:04.476887\n"
     ]
    },
    {
     "name": "stderr",
     "output_type": "stream",
     "text": [
      " 26%|███████████████████████████████████                                                                                                    | 130/500 [11:24<28:20,  4.60s/it]"
     ]
    },
    {
     "name": "stdout",
     "output_type": "stream",
     "text": [
      "129\t7\t4\t2.46326\tFalse\tFalse\t0:00:04.168903\n"
     ]
    },
    {
     "name": "stderr",
     "output_type": "stream",
     "text": [
      " 26%|███████████████████████████████████▎                                                                                                   | 131/500 [11:29<28:34,  4.65s/it]"
     ]
    },
    {
     "name": "stdout",
     "output_type": "stream",
     "text": [
      "130\t6\t6\t2.46326\tTrue\tTrue\t0:00:04.767532\n"
     ]
    },
    {
     "name": "stderr",
     "output_type": "stream",
     "text": [
      " 26%|███████████████████████████████████▋                                                                                                   | 132/500 [11:34<28:48,  4.70s/it]"
     ]
    },
    {
     "name": "stdout",
     "output_type": "stream",
     "text": [
      "131\t1\t1\t2.46326\tTrue\tTrue\t0:00:04.806997\n"
     ]
    },
    {
     "name": "stderr",
     "output_type": "stream",
     "text": [
      " 27%|███████████████████████████████████▉                                                                                                   | 133/500 [11:38<28:17,  4.62s/it]"
     ]
    },
    {
     "name": "stdout",
     "output_type": "stream",
     "text": [
      "132\t5\t5\t2.46326\tTrue\tTrue\t0:00:04.454727\n"
     ]
    },
    {
     "name": "stderr",
     "output_type": "stream",
     "text": [
      " 27%|████████████████████████████████████▏                                                                                                  | 134/500 [11:43<28:37,  4.69s/it]"
     ]
    },
    {
     "name": "stdout",
     "output_type": "stream",
     "text": [
      "133\t7\t0\t1.33193\tFalse\tFalse\t0:00:04.850044\n"
     ]
    },
    {
     "name": "stderr",
     "output_type": "stream",
     "text": [
      " 27%|████████████████████████████████████▍                                                                                                  | 135/500 [11:49<31:13,  5.13s/it]"
     ]
    },
    {
     "name": "stdout",
     "output_type": "stream",
     "text": [
      "134\t3\t3\t2.46326\tTrue\tTrue\t0:00:06.153485\n"
     ]
    },
    {
     "name": "stderr",
     "output_type": "stream",
     "text": [
      " 27%|████████████████████████████████████▋                                                                                                  | 136/500 [11:55<33:04,  5.45s/it]"
     ]
    },
    {
     "name": "stdout",
     "output_type": "stream",
     "text": [
      "135\t4\t4\t2.46326\tTrue\tTrue\t0:00:06.189610\n"
     ]
    },
    {
     "name": "stderr",
     "output_type": "stream",
     "text": [
      " 27%|████████████████████████████████████▉                                                                                                  | 137/500 [12:01<33:39,  5.56s/it]"
     ]
    },
    {
     "name": "stdout",
     "output_type": "stream",
     "text": [
      "136\t6\t6\t2.46326\tTrue\tTrue\t0:00:05.820938\n"
     ]
    },
    {
     "name": "stderr",
     "output_type": "stream",
     "text": [
      " 28%|█████████████████████████████████████▎                                                                                                 | 138/500 [12:07<33:32,  5.56s/it]"
     ]
    },
    {
     "name": "stdout",
     "output_type": "stream",
     "text": [
      "137\t9\t9\t2.46326\tTrue\tTrue\t0:00:05.547999\n"
     ]
    },
    {
     "name": "stderr",
     "output_type": "stream",
     "text": [
      " 28%|█████████████████████████████████████▌                                                                                                 | 139/500 [12:11<31:27,  5.23s/it]"
     ]
    },
    {
     "name": "stdout",
     "output_type": "stream",
     "text": [
      "138\t8\t8\t2.46326\tTrue\tTrue\t0:00:04.458490\n"
     ]
    },
    {
     "name": "stderr",
     "output_type": "stream",
     "text": [
      " 28%|█████████████████████████████████████▊                                                                                                 | 140/500 [12:16<31:01,  5.17s/it]"
     ]
    },
    {
     "name": "stdout",
     "output_type": "stream",
     "text": [
      "139\t6\t6\t2.46326\tTrue\tTrue\t0:00:05.030529\n"
     ]
    },
    {
     "name": "stderr",
     "output_type": "stream",
     "text": [
      " 28%|██████████████████████████████████████                                                                                                 | 141/500 [12:21<29:45,  4.97s/it]"
     ]
    },
    {
     "name": "stdout",
     "output_type": "stream",
     "text": [
      "140\t7\t7\t2.46326\tTrue\tTrue\t0:00:04.511233\n"
     ]
    },
    {
     "name": "stderr",
     "output_type": "stream",
     "text": [
      " 28%|██████████████████████████████████████▎                                                                                                | 142/500 [12:25<28:23,  4.76s/it]"
     ]
    },
    {
     "name": "stdout",
     "output_type": "stream",
     "text": [
      "141\t6\t6\t2.46326\tTrue\tTrue\t0:00:04.250360\n"
     ]
    },
    {
     "name": "stderr",
     "output_type": "stream",
     "text": [
      " 29%|██████████████████████████████████████▌                                                                                                | 143/500 [12:30<28:26,  4.78s/it]"
     ]
    },
    {
     "name": "stdout",
     "output_type": "stream",
     "text": [
      "142\t7\t7\t2.46326\tTrue\tTrue\t0:00:04.826451\n"
     ]
    },
    {
     "name": "stderr",
     "output_type": "stream",
     "text": [
      " 29%|██████████████████████████████████████▉                                                                                                | 144/500 [12:35<29:43,  5.01s/it]"
     ]
    },
    {
     "name": "stdout",
     "output_type": "stream",
     "text": [
      "143\t5\t3\t2.46326\tFalse\tFalse\t0:00:05.543410\n"
     ]
    },
    {
     "name": "stderr",
     "output_type": "stream",
     "text": [
      " 29%|███████████████████████████████████████▏                                                                                               | 145/500 [12:41<31:23,  5.31s/it]"
     ]
    },
    {
     "name": "stdout",
     "output_type": "stream",
     "text": [
      "144\t5\t5\t2.46326\tTrue\tTrue\t0:00:05.989867\n"
     ]
    },
    {
     "name": "stderr",
     "output_type": "stream",
     "text": [
      " 29%|███████████████████████████████████████▍                                                                                               | 146/500 [12:47<32:02,  5.43s/it]"
     ]
    },
    {
     "name": "stdout",
     "output_type": "stream",
     "text": [
      "145\t1\t1\t2.46326\tTrue\tTrue\t0:00:05.723292\n"
     ]
    },
    {
     "name": "stderr",
     "output_type": "stream",
     "text": [
      " 29%|███████████████████████████████████████▋                                                                                               | 147/500 [12:52<30:40,  5.21s/it]"
     ]
    },
    {
     "name": "stdout",
     "output_type": "stream",
     "text": [
      "146\t6\t6\t2.46326\tTrue\tTrue\t0:00:04.699023\n"
     ]
    },
    {
     "name": "stderr",
     "output_type": "stream",
     "text": [
      " 30%|███████████████████████████████████████▉                                                                                               | 148/500 [12:56<29:38,  5.05s/it]"
     ]
    },
    {
     "name": "stdout",
     "output_type": "stream",
     "text": [
      "147\t9\t9\t2.46326\tTrue\tTrue\t0:00:04.679706\n"
     ]
    },
    {
     "name": "stderr",
     "output_type": "stream",
     "text": [
      " 30%|████████████████████████████████████████▏                                                                                              | 149/500 [13:01<28:55,  4.94s/it]"
     ]
    },
    {
     "name": "stdout",
     "output_type": "stream",
     "text": [
      "148\t8\t8\t2.46326\tTrue\tTrue\t0:00:04.683676\n"
     ]
    },
    {
     "name": "stderr",
     "output_type": "stream",
     "text": [
      " 30%|████████████████████████████████████████▌                                                                                              | 150/500 [13:05<27:52,  4.78s/it]"
     ]
    },
    {
     "name": "stdout",
     "output_type": "stream",
     "text": [
      "149\t5\t5\t2.46326\tTrue\tTrue\t0:00:04.392547\n"
     ]
    },
    {
     "name": "stderr",
     "output_type": "stream",
     "text": [
      " 30%|████████████████████████████████████████▊                                                                                              | 151/500 [13:10<27:56,  4.80s/it]"
     ]
    },
    {
     "name": "stdout",
     "output_type": "stream",
     "text": [
      "150\t4\t4\t2.46326\tTrue\tTrue\t0:00:04.861343\n"
     ]
    },
    {
     "name": "stderr",
     "output_type": "stream",
     "text": [
      " 30%|█████████████████████████████████████████                                                                                              | 152/500 [13:15<27:35,  4.76s/it]"
     ]
    },
    {
     "name": "stdout",
     "output_type": "stream",
     "text": [
      "151\t8\t8\t2.46326\tTrue\tTrue\t0:00:04.647249\n"
     ]
    },
    {
     "name": "stderr",
     "output_type": "stream",
     "text": [
      " 31%|█████████████████████████████████████████▎                                                                                             | 153/500 [13:20<28:24,  4.91s/it]"
     ]
    },
    {
     "name": "stdout",
     "output_type": "stream",
     "text": [
      "152\t8\t8\t2.46326\tTrue\tTrue\t0:00:05.270443\n"
     ]
    },
    {
     "name": "stderr",
     "output_type": "stream",
     "text": [
      " 31%|█████████████████████████████████████████▌                                                                                             | 154/500 [13:25<28:51,  5.01s/it]"
     ]
    },
    {
     "name": "stdout",
     "output_type": "stream",
     "text": [
      "153\t3\t3\t2.46326\tTrue\tTrue\t0:00:05.220840\n"
     ]
    },
    {
     "name": "stderr",
     "output_type": "stream",
     "text": [
      " 31%|█████████████████████████████████████████▊                                                                                             | 155/500 [13:31<30:03,  5.23s/it]"
     ]
    },
    {
     "name": "stdout",
     "output_type": "stream",
     "text": [
      "154\t5\t5\t2.46326\tTrue\tTrue\t0:00:05.741905\n"
     ]
    },
    {
     "name": "stderr",
     "output_type": "stream",
     "text": [
      " 31%|██████████████████████████████████████████                                                                                             | 156/500 [13:36<30:07,  5.25s/it]"
     ]
    },
    {
     "name": "stdout",
     "output_type": "stream",
     "text": [
      "155\t9\t9\t1.59340\tTrue\tTrue\t0:00:05.316026\n"
     ]
    },
    {
     "name": "stderr",
     "output_type": "stream",
     "text": [
      " 31%|██████████████████████████████████████████▍                                                                                            | 157/500 [13:42<29:57,  5.24s/it]"
     ]
    },
    {
     "name": "stdout",
     "output_type": "stream",
     "text": [
      "156\t3\t3\t2.46326\tTrue\tTrue\t0:00:05.203011\n"
     ]
    },
    {
     "name": "stderr",
     "output_type": "stream",
     "text": [
      " 32%|██████████████████████████████████████████▋                                                                                            | 158/500 [13:46<28:07,  4.94s/it]"
     ]
    },
    {
     "name": "stdout",
     "output_type": "stream",
     "text": [
      "157\t5\t5\t2.46326\tTrue\tTrue\t0:00:04.223472\n"
     ]
    },
    {
     "name": "stderr",
     "output_type": "stream",
     "text": [
      " 32%|██████████████████████████████████████████▉                                                                                            | 159/500 [13:51<27:45,  4.88s/it]"
     ]
    },
    {
     "name": "stdout",
     "output_type": "stream",
     "text": [
      "158\t9\t9\t2.46326\tTrue\tTrue\t0:00:04.760206\n"
     ]
    },
    {
     "name": "stderr",
     "output_type": "stream",
     "text": [
      " 32%|███████████████████████████████████████████▏                                                                                           | 160/500 [13:55<26:57,  4.76s/it]"
     ]
    },
    {
     "name": "stdout",
     "output_type": "stream",
     "text": [
      "159\t6\t6\t2.46326\tTrue\tTrue\t0:00:04.457645\n"
     ]
    },
    {
     "name": "stderr",
     "output_type": "stream",
     "text": [
      " 32%|███████████████████████████████████████████▍                                                                                           | 161/500 [14:00<26:17,  4.65s/it]"
     ]
    },
    {
     "name": "stdout",
     "output_type": "stream",
     "text": [
      "160\t6\t6\t2.46326\tTrue\tTrue\t0:00:04.406754\n"
     ]
    },
    {
     "name": "stderr",
     "output_type": "stream",
     "text": [
      " 32%|███████████████████████████████████████████▋                                                                                           | 162/500 [14:04<26:32,  4.71s/it]"
     ]
    },
    {
     "name": "stdout",
     "output_type": "stream",
     "text": [
      "161\t0\t0\t2.46326\tTrue\tTrue\t0:00:04.846200\n"
     ]
    },
    {
     "name": "stderr",
     "output_type": "stream",
     "text": [
      " 33%|████████████████████████████████████████████                                                                                           | 163/500 [14:09<25:54,  4.61s/it]"
     ]
    },
    {
     "name": "stdout",
     "output_type": "stream",
     "text": [
      "162\t7\t7\t2.46326\tTrue\tTrue\t0:00:04.385772\n"
     ]
    },
    {
     "name": "stderr",
     "output_type": "stream",
     "text": [
      " 33%|████████████████████████████████████████████▎                                                                                          | 164/500 [14:13<24:55,  4.45s/it]"
     ]
    },
    {
     "name": "stdout",
     "output_type": "stream",
     "text": [
      "163\t4\t4\t0.30668\tTrue\tTrue\t0:00:04.061908\n"
     ]
    },
    {
     "name": "stderr",
     "output_type": "stream",
     "text": [
      " 33%|████████████████████████████████████████████▌                                                                                          | 165/500 [14:18<25:18,  4.53s/it]"
     ]
    },
    {
     "name": "stdout",
     "output_type": "stream",
     "text": [
      "164\t7\t4\t1.57173\tFalse\tFalse\t0:00:04.724103\n"
     ]
    },
    {
     "name": "stderr",
     "output_type": "stream",
     "text": [
      " 33%|████████████████████████████████████████████▊                                                                                          | 166/500 [14:22<25:47,  4.63s/it]"
     ]
    },
    {
     "name": "stdout",
     "output_type": "stream",
     "text": [
      "165\t3\t3\t2.28429\tTrue\tTrue\t0:00:04.867105\n"
     ]
    },
    {
     "name": "stderr",
     "output_type": "stream",
     "text": [
      " 33%|█████████████████████████████████████████████                                                                                          | 167/500 [14:27<25:13,  4.55s/it]"
     ]
    },
    {
     "name": "stdout",
     "output_type": "stream",
     "text": [
      "166\t0\t0\t2.46326\tTrue\tTrue\t0:00:04.335997\n"
     ]
    },
    {
     "name": "stderr",
     "output_type": "stream",
     "text": [
      " 34%|█████████████████████████████████████████████▎                                                                                         | 168/500 [14:30<23:47,  4.30s/it]"
     ]
    },
    {
     "name": "stdout",
     "output_type": "stream",
     "text": [
      "167\t0\t0\t2.46326\tTrue\tTrue\t0:00:03.723708\n"
     ]
    },
    {
     "name": "stderr",
     "output_type": "stream",
     "text": [
      " 34%|█████████████████████████████████████████████▋                                                                                         | 169/500 [14:34<22:46,  4.13s/it]"
     ]
    },
    {
     "name": "stdout",
     "output_type": "stream",
     "text": [
      "168\t6\t-1\t0.00000\tFalse\tFalse\t0:00:03.730052\n"
     ]
    },
    {
     "name": "stderr",
     "output_type": "stream",
     "text": [
      " 34%|█████████████████████████████████████████████▉                                                                                         | 170/500 [14:37<21:13,  3.86s/it]"
     ]
    },
    {
     "name": "stdout",
     "output_type": "stream",
     "text": [
      "169\t0\t3\t0.51636\tFalse\tFalse\t0:00:03.223614\n"
     ]
    },
    {
     "name": "stderr",
     "output_type": "stream",
     "text": [
      " 34%|██████████████████████████████████████████████▏                                                                                        | 171/500 [14:41<20:21,  3.71s/it]"
     ]
    },
    {
     "name": "stdout",
     "output_type": "stream",
     "text": [
      "170\t4\t4\t2.46326\tTrue\tTrue\t0:00:03.374657\n"
     ]
    },
    {
     "name": "stderr",
     "output_type": "stream",
     "text": [
      " 34%|██████████████████████████████████████████████▍                                                                                        | 172/500 [14:44<19:46,  3.62s/it]"
     ]
    },
    {
     "name": "stdout",
     "output_type": "stream",
     "text": [
      "171\t8\t8\t2.46326\tTrue\tTrue\t0:00:03.386545\n"
     ]
    },
    {
     "name": "stderr",
     "output_type": "stream",
     "text": [
      " 35%|██████████████████████████████████████████████▋                                                                                        | 173/500 [14:48<19:51,  3.65s/it]"
     ]
    },
    {
     "name": "stdout",
     "output_type": "stream",
     "text": [
      "172\t9\t9\t2.46326\tTrue\tTrue\t0:00:03.708572\n"
     ]
    },
    {
     "name": "stderr",
     "output_type": "stream",
     "text": [
      " 35%|██████████████████████████████████████████████▉                                                                                        | 174/500 [14:53<21:28,  3.95s/it]"
     ]
    },
    {
     "name": "stdout",
     "output_type": "stream",
     "text": [
      "173\t1\t1\t2.46326\tTrue\tTrue\t0:00:04.669610\n"
     ]
    },
    {
     "name": "stderr",
     "output_type": "stream",
     "text": [
      " 35%|███████████████████████████████████████████████▎                                                                                       | 175/500 [14:57<21:40,  4.00s/it]"
     ]
    },
    {
     "name": "stdout",
     "output_type": "stream",
     "text": [
      "174\t9\t9\t2.46326\tTrue\tTrue\t0:00:04.116167\n"
     ]
    },
    {
     "name": "stderr",
     "output_type": "stream",
     "text": [
      " 35%|███████████████████████████████████████████████▌                                                                                       | 176/500 [15:01<22:11,  4.11s/it]"
     ]
    },
    {
     "name": "stdout",
     "output_type": "stream",
     "text": [
      "175\t6\t6\t2.46326\tTrue\tTrue\t0:00:04.351443\n"
     ]
    },
    {
     "name": "stderr",
     "output_type": "stream",
     "text": [
      " 35%|███████████████████████████████████████████████▊                                                                                       | 177/500 [15:05<22:31,  4.19s/it]"
     ]
    },
    {
     "name": "stdout",
     "output_type": "stream",
     "text": [
      "176\t7\t7\t2.46326\tTrue\tTrue\t0:00:04.362923\n"
     ]
    },
    {
     "name": "stderr",
     "output_type": "stream",
     "text": [
      " 36%|████████████████████████████████████████████████                                                                                       | 178/500 [15:10<22:31,  4.20s/it]"
     ]
    },
    {
     "name": "stdout",
     "output_type": "stream",
     "text": [
      "177\t4\t4\t2.46326\tTrue\tTrue\t0:00:04.222879\n"
     ]
    },
    {
     "name": "stderr",
     "output_type": "stream",
     "text": [
      " 36%|████████████████████████████████████████████████▎                                                                                      | 179/500 [15:14<22:38,  4.23s/it]"
     ]
    },
    {
     "name": "stdout",
     "output_type": "stream",
     "text": [
      "178\t4\t4\t1.00675\tTrue\tTrue\t0:00:04.313656\n"
     ]
    },
    {
     "name": "stderr",
     "output_type": "stream",
     "text": [
      " 36%|████████████████████████████████████████████████▌                                                                                      | 180/500 [15:18<21:57,  4.12s/it]"
     ]
    },
    {
     "name": "stdout",
     "output_type": "stream",
     "text": [
      "179\t2\t3\t1.31100\tFalse\tFalse\t0:00:03.847745\n"
     ]
    },
    {
     "name": "stderr",
     "output_type": "stream",
     "text": [
      " 36%|████████████████████████████████████████████████▊                                                                                      | 181/500 [15:21<20:28,  3.85s/it]"
     ]
    },
    {
     "name": "stdout",
     "output_type": "stream",
     "text": [
      "180\t6\t6\t2.46326\tTrue\tTrue\t0:00:03.229729\n"
     ]
    },
    {
     "name": "stderr",
     "output_type": "stream",
     "text": [
      " 36%|█████████████████████████████████████████████████▏                                                                                     | 182/500 [15:24<18:51,  3.56s/it]"
     ]
    },
    {
     "name": "stdout",
     "output_type": "stream",
     "text": [
      "181\t0\t0\t2.46326\tTrue\tTrue\t0:00:02.866779\n"
     ]
    },
    {
     "name": "stderr",
     "output_type": "stream",
     "text": [
      " 37%|█████████████████████████████████████████████████▍                                                                                     | 183/500 [15:27<17:45,  3.36s/it]"
     ]
    },
    {
     "name": "stdout",
     "output_type": "stream",
     "text": [
      "182\t0\t0\t1.08368\tTrue\tTrue\t0:00:02.903096\n"
     ]
    },
    {
     "name": "stderr",
     "output_type": "stream",
     "text": [
      " 37%|█████████████████████████████████████████████████▋                                                                                     | 184/500 [15:30<16:51,  3.20s/it]"
     ]
    },
    {
     "name": "stdout",
     "output_type": "stream",
     "text": [
      "183\t1\t1\t1.62766\tTrue\tTrue\t0:00:02.825442\n"
     ]
    },
    {
     "name": "stderr",
     "output_type": "stream",
     "text": [
      " 37%|█████████████████████████████████████████████████▉                                                                                     | 185/500 [15:32<16:00,  3.05s/it]"
     ]
    },
    {
     "name": "stdout",
     "output_type": "stream",
     "text": [
      "184\t9\t9\t2.46326\tTrue\tTrue\t0:00:02.689637\n"
     ]
    },
    {
     "name": "stderr",
     "output_type": "stream",
     "text": [
      " 37%|██████████████████████████████████████████████████▏                                                                                    | 186/500 [15:35<15:14,  2.91s/it]"
     ]
    },
    {
     "name": "stdout",
     "output_type": "stream",
     "text": [
      "185\t2\t0\t1.37594\tFalse\tFalse\t0:00:02.593448\n"
     ]
    },
    {
     "name": "stderr",
     "output_type": "stream",
     "text": [
      " 37%|██████████████████████████████████████████████████▍                                                                                    | 187/500 [15:38<14:57,  2.87s/it]"
     ]
    },
    {
     "name": "stdout",
     "output_type": "stream",
     "text": [
      "186\t7\t0\t1.61599\tFalse\tFalse\t0:00:02.761578\n"
     ]
    },
    {
     "name": "stderr",
     "output_type": "stream",
     "text": [
      " 38%|██████████████████████████████████████████████████▊                                                                                    | 188/500 [15:40<14:41,  2.83s/it]"
     ]
    },
    {
     "name": "stdout",
     "output_type": "stream",
     "text": [
      "187\t2\t2\t2.46326\tTrue\tTrue\t0:00:02.724513\n"
     ]
    },
    {
     "name": "stderr",
     "output_type": "stream",
     "text": [
      " 38%|███████████████████████████████████████████████████                                                                                    | 189/500 [15:43<14:28,  2.79s/it]"
     ]
    },
    {
     "name": "stdout",
     "output_type": "stream",
     "text": [
      "188\t3\t3\t2.46326\tTrue\tTrue\t0:00:02.711111\n"
     ]
    },
    {
     "name": "stderr",
     "output_type": "stream",
     "text": [
      " 38%|███████████████████████████████████████████████████▎                                                                                   | 190/500 [15:46<14:27,  2.80s/it]"
     ]
    },
    {
     "name": "stdout",
     "output_type": "stream",
     "text": [
      "189\t7\t7\t2.46326\tTrue\tTrue\t0:00:02.816331\n"
     ]
    },
    {
     "name": "stderr",
     "output_type": "stream",
     "text": [
      " 38%|███████████████████████████████████████████████████▌                                                                                   | 191/500 [15:49<14:22,  2.79s/it]"
     ]
    },
    {
     "name": "stdout",
     "output_type": "stream",
     "text": [
      "190\t6\t6\t2.46326\tTrue\tTrue\t0:00:02.767507\n"
     ]
    },
    {
     "name": "stderr",
     "output_type": "stream",
     "text": [
      " 38%|███████████████████████████████████████████████████▊                                                                                   | 192/500 [15:52<14:22,  2.80s/it]"
     ]
    },
    {
     "name": "stdout",
     "output_type": "stream",
     "text": [
      "191\t3\t3\t2.46326\tTrue\tTrue\t0:00:02.825108\n"
     ]
    },
    {
     "name": "stderr",
     "output_type": "stream",
     "text": [
      " 39%|████████████████████████████████████████████████████                                                                                   | 193/500 [15:54<14:17,  2.79s/it]"
     ]
    },
    {
     "name": "stdout",
     "output_type": "stream",
     "text": [
      "192\t0\t0\t2.46326\tTrue\tTrue\t0:00:02.771908\n"
     ]
    },
    {
     "name": "stderr",
     "output_type": "stream",
     "text": [
      " 39%|████████████████████████████████████████████████████▍                                                                                  | 194/500 [15:57<14:07,  2.77s/it]"
     ]
    },
    {
     "name": "stdout",
     "output_type": "stream",
     "text": [
      "193\t7\t7\t2.46326\tTrue\tTrue\t0:00:02.707264\n"
     ]
    },
    {
     "name": "stderr",
     "output_type": "stream",
     "text": [
      " 39%|████████████████████████████████████████████████████▋                                                                                  | 195/500 [16:00<14:32,  2.86s/it]"
     ]
    },
    {
     "name": "stdout",
     "output_type": "stream",
     "text": [
      "194\t4\t4\t2.46326\tTrue\tTrue\t0:00:03.078905\n"
     ]
    },
    {
     "name": "stderr",
     "output_type": "stream",
     "text": [
      " 39%|████████████████████████████████████████████████████▉                                                                                  | 196/500 [16:04<15:22,  3.04s/it]"
     ]
    },
    {
     "name": "stdout",
     "output_type": "stream",
     "text": [
      "195\t1\t1\t2.46326\tTrue\tTrue\t0:00:03.438178\n"
     ]
    },
    {
     "name": "stderr",
     "output_type": "stream",
     "text": [
      " 39%|█████████████████████████████████████████████████████▏                                                                                 | 197/500 [16:07<16:02,  3.18s/it]"
     ]
    },
    {
     "name": "stdout",
     "output_type": "stream",
     "text": [
      "196\t9\t9\t1.33193\tTrue\tTrue\t0:00:03.497880\n"
     ]
    },
    {
     "name": "stderr",
     "output_type": "stream",
     "text": [
      " 40%|█████████████████████████████████████████████████████▍                                                                                 | 198/500 [16:11<17:12,  3.42s/it]"
     ]
    },
    {
     "name": "stdout",
     "output_type": "stream",
     "text": [
      "197\t6\t6\t0.28517\tTrue\tTrue\t0:00:03.991114\n"
     ]
    },
    {
     "name": "stderr",
     "output_type": "stream",
     "text": [
      " 40%|█████████████████████████████████████████████████████▋                                                                                 | 199/500 [16:15<18:09,  3.62s/it]"
     ]
    },
    {
     "name": "stdout",
     "output_type": "stream",
     "text": [
      "198\t9\t9\t2.46326\tTrue\tTrue\t0:00:04.080198\n"
     ]
    },
    {
     "name": "stderr",
     "output_type": "stream",
     "text": [
      " 40%|██████████████████████████████████████████████████████                                                                                 | 200/500 [16:19<18:45,  3.75s/it]"
     ]
    },
    {
     "name": "stdout",
     "output_type": "stream",
     "text": [
      "199\t8\t8\t2.46326\tTrue\tTrue\t0:00:04.058826\n"
     ]
    },
    {
     "name": "stderr",
     "output_type": "stream",
     "text": [
      " 40%|██████████████████████████████████████████████████████▎                                                                                | 201/500 [16:23<19:08,  3.84s/it]"
     ]
    },
    {
     "name": "stdout",
     "output_type": "stream",
     "text": [
      "200\t3\t9\t0.25056\tFalse\tFalse\t0:00:04.042733\n"
     ]
    },
    {
     "name": "stderr",
     "output_type": "stream",
     "text": [
      " 40%|██████████████████████████████████████████████████████▌                                                                                | 202/500 [16:29<21:53,  4.41s/it]"
     ]
    },
    {
     "name": "stdout",
     "output_type": "stream",
     "text": [
      "201\t6\t6\t2.46326\tTrue\tTrue\t0:00:05.733676\n"
     ]
    },
    {
     "name": "stderr",
     "output_type": "stream",
     "text": [
      " 41%|██████████████████████████████████████████████████████▊                                                                                | 203/500 [16:33<21:46,  4.40s/it]"
     ]
    },
    {
     "name": "stdout",
     "output_type": "stream",
     "text": [
      "202\t9\t9\t2.46326\tTrue\tTrue\t0:00:04.368128\n"
     ]
    },
    {
     "name": "stderr",
     "output_type": "stream",
     "text": [
      " 41%|███████████████████████████████████████████████████████                                                                                | 204/500 [16:37<20:07,  4.08s/it]"
     ]
    },
    {
     "name": "stdout",
     "output_type": "stream",
     "text": [
      "203\t4\t4\t2.46326\tTrue\tTrue\t0:00:03.339505\n"
     ]
    },
    {
     "name": "stderr",
     "output_type": "stream",
     "text": [
      " 41%|███████████████████████████████████████████████████████▎                                                                               | 205/500 [16:40<19:27,  3.96s/it]"
     ]
    },
    {
     "name": "stdout",
     "output_type": "stream",
     "text": [
      "204\t7\t7\t2.46326\tTrue\tTrue\t0:00:03.666316\n"
     ]
    },
    {
     "name": "stderr",
     "output_type": "stream",
     "text": [
      " 41%|███████████████████████████████████████████████████████▌                                                                               | 206/500 [16:45<19:42,  4.02s/it]"
     ]
    },
    {
     "name": "stdout",
     "output_type": "stream",
     "text": [
      "205\t9\t9\t2.46326\tTrue\tTrue\t0:00:04.175465\n"
     ]
    },
    {
     "name": "stderr",
     "output_type": "stream",
     "text": [
      " 41%|███████████████████████████████████████████████████████▉                                                                               | 207/500 [16:49<19:55,  4.08s/it]"
     ]
    },
    {
     "name": "stdout",
     "output_type": "stream",
     "text": [
      "206\t6\t6\t2.46326\tTrue\tTrue\t0:00:04.204127\n"
     ]
    },
    {
     "name": "stderr",
     "output_type": "stream",
     "text": [
      " 42%|████████████████████████████████████████████████████████▏                                                                              | 208/500 [16:53<20:10,  4.14s/it]"
     ]
    },
    {
     "name": "stdout",
     "output_type": "stream",
     "text": [
      "207\t5\t3\t2.46326\tFalse\tFalse\t0:00:04.294200\n"
     ]
    },
    {
     "name": "stderr",
     "output_type": "stream",
     "text": [
      " 42%|████████████████████████████████████████████████████████▍                                                                              | 209/500 [16:57<19:56,  4.11s/it]"
     ]
    },
    {
     "name": "stdout",
     "output_type": "stream",
     "text": [
      "208\t1\t1\t1.14654\tTrue\tTrue\t0:00:04.030096\n"
     ]
    },
    {
     "name": "stderr",
     "output_type": "stream",
     "text": [
      " 42%|████████████████████████████████████████████████████████▋                                                                              | 210/500 [17:01<20:12,  4.18s/it]"
     ]
    },
    {
     "name": "stdout",
     "output_type": "stream",
     "text": [
      "209\t6\t6\t2.46326\tTrue\tTrue\t0:00:04.343465\n"
     ]
    },
    {
     "name": "stderr",
     "output_type": "stream",
     "text": [
      " 42%|████████████████████████████████████████████████████████▉                                                                              | 211/500 [17:06<20:04,  4.17s/it]"
     ]
    },
    {
     "name": "stdout",
     "output_type": "stream",
     "text": [
      "210\t3\t3\t1.01599\tTrue\tTrue\t0:00:04.136600\n"
     ]
    },
    {
     "name": "stderr",
     "output_type": "stream",
     "text": [
      " 42%|█████████████████████████████████████████████████████████▏                                                                             | 212/500 [17:09<19:00,  3.96s/it]"
     ]
    },
    {
     "name": "stdout",
     "output_type": "stream",
     "text": [
      "211\t9\t9\t1.61599\tTrue\tTrue\t0:00:03.473702\n"
     ]
    },
    {
     "name": "stderr",
     "output_type": "stream",
     "text": [
      " 43%|█████████████████████████████████████████████████████████▌                                                                             | 213/500 [17:12<17:33,  3.67s/it]"
     ]
    },
    {
     "name": "stdout",
     "output_type": "stream",
     "text": [
      "212\t2\t2\t0.68099\tTrue\tTrue\t0:00:02.990776\n"
     ]
    },
    {
     "name": "stderr",
     "output_type": "stream",
     "text": [
      " 43%|█████████████████████████████████████████████████████████▊                                                                             | 214/500 [17:15<16:25,  3.45s/it]"
     ]
    },
    {
     "name": "stdout",
     "output_type": "stream",
     "text": [
      "213\t2\t6\t0.45453\tFalse\tFalse\t0:00:02.915745\n"
     ]
    },
    {
     "name": "stderr",
     "output_type": "stream",
     "text": [
      " 43%|██████████████████████████████████████████████████████████                                                                             | 215/500 [17:18<15:37,  3.29s/it]"
     ]
    },
    {
     "name": "stdout",
     "output_type": "stream",
     "text": [
      "214\t4\t3\t1.69037\tFalse\tFalse\t0:00:02.918027\n"
     ]
    },
    {
     "name": "stderr",
     "output_type": "stream",
     "text": [
      " 43%|██████████████████████████████████████████████████████████▎                                                                            | 216/500 [17:21<14:54,  3.15s/it]"
     ]
    },
    {
     "name": "stdout",
     "output_type": "stream",
     "text": [
      "215\t7\t7\t2.46326\tTrue\tTrue\t0:00:02.830432\n"
     ]
    },
    {
     "name": "stderr",
     "output_type": "stream",
     "text": [
      " 43%|██████████████████████████████████████████████████████████▌                                                                            | 217/500 [17:24<14:26,  3.06s/it]"
     ]
    },
    {
     "name": "stdout",
     "output_type": "stream",
     "text": [
      "216\t2\t2\t2.46326\tTrue\tTrue\t0:00:02.847849\n"
     ]
    },
    {
     "name": "stderr",
     "output_type": "stream",
     "text": [
      " 44%|██████████████████████████████████████████████████████████▊                                                                            | 218/500 [17:26<14:11,  3.02s/it]"
     ]
    },
    {
     "name": "stdout",
     "output_type": "stream",
     "text": [
      "217\t7\t3\t1.65182\tFalse\tFalse\t0:00:02.920432\n"
     ]
    },
    {
     "name": "stderr",
     "output_type": "stream",
     "text": [
      " 44%|███████████████████████████████████████████████████████████▏                                                                           | 219/500 [17:29<14:01,  3.00s/it]"
     ]
    },
    {
     "name": "stdout",
     "output_type": "stream",
     "text": [
      "218\t3\t3\t2.46326\tTrue\tTrue\t0:00:02.939415\n"
     ]
    },
    {
     "name": "stderr",
     "output_type": "stream",
     "text": [
      " 44%|███████████████████████████████████████████████████████████▍                                                                           | 220/500 [17:32<13:52,  2.97s/it]"
     ]
    },
    {
     "name": "stdout",
     "output_type": "stream",
     "text": [
      "219\t8\t-1\t0.00000\tFalse\tFalse\t0:00:02.916225\n"
     ]
    },
    {
     "name": "stderr",
     "output_type": "stream",
     "text": [
      " 44%|███████████████████████████████████████████████████████████▋                                                                           | 221/500 [17:35<13:52,  2.98s/it]"
     ]
    },
    {
     "name": "stdout",
     "output_type": "stream",
     "text": [
      "220\t6\t6\t2.46326\tTrue\tTrue\t0:00:03.008159\n"
     ]
    },
    {
     "name": "stderr",
     "output_type": "stream",
     "text": [
      " 44%|███████████████████████████████████████████████████████████▉                                                                           | 222/500 [17:39<14:14,  3.07s/it]"
     ]
    },
    {
     "name": "stdout",
     "output_type": "stream",
     "text": [
      "221\t0\t0\t2.46326\tTrue\tTrue\t0:00:03.276687\n"
     ]
    },
    {
     "name": "stderr",
     "output_type": "stream",
     "text": [
      " 45%|████████████████████████████████████████████████████████████▏                                                                          | 223/500 [17:42<15:04,  3.26s/it]"
     ]
    },
    {
     "name": "stdout",
     "output_type": "stream",
     "text": [
      "222\t2\t2\t2.28429\tTrue\tTrue\t0:00:03.709526\n"
     ]
    },
    {
     "name": "stderr",
     "output_type": "stream",
     "text": [
      " 45%|████████████████████████████████████████████████████████████▍                                                                          | 224/500 [17:46<15:11,  3.30s/it]"
     ]
    },
    {
     "name": "stdout",
     "output_type": "stream",
     "text": [
      "223\t3\t0\t0.26648\tFalse\tFalse\t0:00:03.386397\n"
     ]
    },
    {
     "name": "stderr",
     "output_type": "stream",
     "text": [
      " 45%|████████████████████████████████████████████████████████████▊                                                                          | 225/500 [17:49<15:39,  3.42s/it]"
     ]
    },
    {
     "name": "stdout",
     "output_type": "stream",
     "text": [
      "224\t4\t4\t1.56121\tTrue\tTrue\t0:00:03.680336\n"
     ]
    },
    {
     "name": "stderr",
     "output_type": "stream",
     "text": [
      " 45%|█████████████████████████████████████████████████████████████                                                                          | 226/500 [17:53<15:40,  3.43s/it]"
     ]
    },
    {
     "name": "stdout",
     "output_type": "stream",
     "text": [
      "225\t0\t0\t2.46326\tTrue\tTrue\t0:00:03.469216\n"
     ]
    },
    {
     "name": "stderr",
     "output_type": "stream",
     "text": [
      " 45%|█████████████████████████████████████████████████████████████▎                                                                         | 227/500 [17:56<15:22,  3.38s/it]"
     ]
    },
    {
     "name": "stdout",
     "output_type": "stream",
     "text": [
      "226\t9\t9\t2.46326\tTrue\tTrue\t0:00:03.251608\n"
     ]
    },
    {
     "name": "stderr",
     "output_type": "stream",
     "text": [
      " 46%|█████████████████████████████████████████████████████████████▌                                                                         | 228/500 [17:59<15:08,  3.34s/it]"
     ]
    },
    {
     "name": "stdout",
     "output_type": "stream",
     "text": [
      "227\t3\t3\t2.46326\tTrue\tTrue\t0:00:03.252757\n"
     ]
    },
    {
     "name": "stderr",
     "output_type": "stream",
     "text": [
      " 46%|█████████████████████████████████████████████████████████████▊                                                                         | 229/500 [18:03<15:28,  3.43s/it]"
     ]
    },
    {
     "name": "stdout",
     "output_type": "stream",
     "text": [
      "228\t5\t5\t2.46326\tTrue\tTrue\t0:00:03.620415\n"
     ]
    },
    {
     "name": "stderr",
     "output_type": "stream",
     "text": [
      " 46%|██████████████████████████████████████████████████████████████                                                                         | 230/500 [18:07<16:17,  3.62s/it]"
     ]
    },
    {
     "name": "stdout",
     "output_type": "stream",
     "text": [
      "229\t3\t3\t2.46326\tTrue\tTrue\t0:00:04.073087\n"
     ]
    },
    {
     "name": "stderr",
     "output_type": "stream",
     "text": [
      " 46%|██████████████████████████████████████████████████████████████▎                                                                        | 231/500 [18:12<18:33,  4.14s/it]"
     ]
    },
    {
     "name": "stdout",
     "output_type": "stream",
     "text": [
      "230\t7\t7\t2.46326\tTrue\tTrue\t0:00:05.343071\n"
     ]
    },
    {
     "name": "stderr",
     "output_type": "stream",
     "text": [
      " 46%|██████████████████████████████████████████████████████████████▋                                                                        | 232/500 [18:17<19:24,  4.35s/it]"
     ]
    },
    {
     "name": "stdout",
     "output_type": "stream",
     "text": [
      "231\t0\t6\t1.38358\tFalse\tFalse\t0:00:04.828145\n"
     ]
    },
    {
     "name": "stderr",
     "output_type": "stream",
     "text": [
      " 47%|██████████████████████████████████████████████████████████████▉                                                                        | 233/500 [18:24<22:19,  5.02s/it]"
     ]
    },
    {
     "name": "stdout",
     "output_type": "stream",
     "text": [
      "232\t1\t1\t2.46326\tTrue\tTrue\t0:00:06.582161\n"
     ]
    },
    {
     "name": "stderr",
     "output_type": "stream",
     "text": [
      " 47%|███████████████████████████████████████████████████████████████▏                                                                       | 234/500 [18:30<23:46,  5.36s/it]"
     ]
    },
    {
     "name": "stdout",
     "output_type": "stream",
     "text": [
      "233\t6\t6\t0.87426\tTrue\tTrue\t0:00:06.162300\n"
     ]
    },
    {
     "name": "stderr",
     "output_type": "stream",
     "text": [
      " 47%|███████████████████████████████████████████████████████████████▍                                                                       | 235/500 [18:36<24:39,  5.58s/it]"
     ]
    },
    {
     "name": "stdout",
     "output_type": "stream",
     "text": [
      "234\t7\t7\t2.46326\tTrue\tTrue\t0:00:06.090579\n"
     ]
    },
    {
     "name": "stderr",
     "output_type": "stream",
     "text": [
      " 47%|███████████████████████████████████████████████████████████████▋                                                                       | 236/500 [18:42<25:05,  5.70s/it]"
     ]
    },
    {
     "name": "stdout",
     "output_type": "stream",
     "text": [
      "235\t2\t2\t2.46326\tTrue\tTrue\t0:00:05.977892\n"
     ]
    },
    {
     "name": "stderr",
     "output_type": "stream",
     "text": [
      " 47%|███████████████████████████████████████████████████████████████▉                                                                       | 237/500 [18:48<25:15,  5.76s/it]"
     ]
    },
    {
     "name": "stdout",
     "output_type": "stream",
     "text": [
      "236\t3\t3\t0.89851\tTrue\tTrue\t0:00:05.891295\n"
     ]
    },
    {
     "name": "stderr",
     "output_type": "stream",
     "text": [
      " 48%|████████████████████████████████████████████████████████████████▎                                                                      | 238/500 [18:53<24:36,  5.63s/it]"
     ]
    },
    {
     "name": "stdout",
     "output_type": "stream",
     "text": [
      "237\t5\t-1\t0.00000\tFalse\tFalse\t0:00:05.335587\n"
     ]
    },
    {
     "name": "stderr",
     "output_type": "stream",
     "text": [
      " 48%|████████████████████████████████████████████████████████████████▌                                                                      | 239/500 [18:58<23:39,  5.44s/it]"
     ]
    },
    {
     "name": "stdout",
     "output_type": "stream",
     "text": [
      "238\t1\t1\t2.46326\tTrue\tTrue\t0:00:04.982728\n"
     ]
    },
    {
     "name": "stderr",
     "output_type": "stream",
     "text": [
      " 48%|████████████████████████████████████████████████████████████████▊                                                                      | 240/500 [19:04<24:21,  5.62s/it]"
     ]
    },
    {
     "name": "stdout",
     "output_type": "stream",
     "text": [
      "239\t0\t0\t2.46326\tTrue\tTrue\t0:00:06.033744\n"
     ]
    },
    {
     "name": "stderr",
     "output_type": "stream",
     "text": [
      " 48%|█████████████████████████████████████████████████████████████████                                                                      | 241/500 [19:10<24:04,  5.58s/it]"
     ]
    },
    {
     "name": "stdout",
     "output_type": "stream",
     "text": [
      "240\t3\t3\t2.46326\tTrue\tTrue\t0:00:05.476734\n"
     ]
    },
    {
     "name": "stderr",
     "output_type": "stream",
     "text": [
      " 48%|█████████████████████████████████████████████████████████████████▎                                                                     | 242/500 [19:15<23:05,  5.37s/it]"
     ]
    },
    {
     "name": "stdout",
     "output_type": "stream",
     "text": [
      "241\t4\t4\t2.46326\tTrue\tTrue\t0:00:04.876871\n"
     ]
    },
    {
     "name": "stderr",
     "output_type": "stream",
     "text": [
      " 49%|█████████████████████████████████████████████████████████████████▌                                                                     | 243/500 [19:19<21:39,  5.06s/it]"
     ]
    },
    {
     "name": "stdout",
     "output_type": "stream",
     "text": [
      "242\t8\t8\t2.46326\tTrue\tTrue\t0:00:04.329359\n"
     ]
    },
    {
     "name": "stderr",
     "output_type": "stream",
     "text": [
      " 49%|█████████████████████████████████████████████████████████████████▉                                                                     | 244/500 [19:24<20:48,  4.88s/it]"
     ]
    },
    {
     "name": "stdout",
     "output_type": "stream",
     "text": [
      "243\t1\t1\t0.44299\tTrue\tTrue\t0:00:04.453999\n"
     ]
    },
    {
     "name": "stderr",
     "output_type": "stream",
     "text": [
      " 49%|██████████████████████████████████████████████████████████████████▏                                                                    | 245/500 [19:27<19:21,  4.55s/it]"
     ]
    },
    {
     "name": "stdout",
     "output_type": "stream",
     "text": [
      "244\t3\t3\t2.46326\tTrue\tTrue\t0:00:03.795992\n"
     ]
    },
    {
     "name": "stderr",
     "output_type": "stream",
     "text": [
      " 49%|██████████████████████████████████████████████████████████████████▍                                                                    | 246/500 [19:31<18:26,  4.36s/it]"
     ]
    },
    {
     "name": "stdout",
     "output_type": "stream",
     "text": [
      "245\t1\t1\t2.46326\tTrue\tTrue\t0:00:03.896730\n"
     ]
    },
    {
     "name": "stderr",
     "output_type": "stream",
     "text": [
      " 49%|██████████████████████████████████████████████████████████████████▋                                                                    | 247/500 [19:35<17:07,  4.06s/it]"
     ]
    },
    {
     "name": "stdout",
     "output_type": "stream",
     "text": [
      "246\t6\t6\t0.14891\tTrue\tTrue\t0:00:03.368903\n"
     ]
    },
    {
     "name": "stderr",
     "output_type": "stream",
     "text": [
      " 50%|██████████████████████████████████████████████████████████████████▉                                                                    | 248/500 [19:38<16:29,  3.92s/it]"
     ]
    },
    {
     "name": "stdout",
     "output_type": "stream",
     "text": [
      "247\t0\t0\t2.46326\tTrue\tTrue\t0:00:03.603148\n"
     ]
    },
    {
     "name": "stderr",
     "output_type": "stream",
     "text": [
      " 50%|███████████████████████████████████████████████████████████████████▏                                                                   | 249/500 [19:42<15:47,  3.77s/it]"
     ]
    },
    {
     "name": "stdout",
     "output_type": "stream",
     "text": [
      "248\t6\t6\t2.46326\tTrue\tTrue\t0:00:03.422546\n"
     ]
    },
    {
     "name": "stderr",
     "output_type": "stream",
     "text": [
      " 50%|███████████████████████████████████████████████████████████████████▌                                                                   | 250/500 [19:45<15:23,  3.69s/it]"
     ]
    },
    {
     "name": "stdout",
     "output_type": "stream",
     "text": [
      "249\t1\t1\t2.46326\tTrue\tTrue\t0:00:03.499421\n"
     ]
    },
    {
     "name": "stderr",
     "output_type": "stream",
     "text": [
      " 50%|███████████████████████████████████████████████████████████████████▊                                                                   | 251/500 [19:49<15:05,  3.64s/it]"
     ]
    },
    {
     "name": "stdout",
     "output_type": "stream",
     "text": [
      "250\t2\t0\t0.61861\tFalse\tFalse\t0:00:03.505506\n"
     ]
    },
    {
     "name": "stderr",
     "output_type": "stream",
     "text": [
      " 50%|████████████████████████████████████████████████████████████████████                                                                   | 252/500 [19:52<15:05,  3.65s/it]"
     ]
    },
    {
     "name": "stdout",
     "output_type": "stream",
     "text": [
      "251\t8\t8\t2.46326\tTrue\tTrue\t0:00:03.674645\n"
     ]
    },
    {
     "name": "stderr",
     "output_type": "stream",
     "text": [
      " 51%|████████████████████████████████████████████████████████████████████▎                                                                  | 253/500 [19:56<15:07,  3.68s/it]"
     ]
    },
    {
     "name": "stdout",
     "output_type": "stream",
     "text": [
      "252\t5\t5\t2.46326\tTrue\tTrue\t0:00:03.734942\n"
     ]
    },
    {
     "name": "stderr",
     "output_type": "stream",
     "text": [
      " 51%|████████████████████████████████████████████████████████████████████▌                                                                  | 254/500 [20:00<15:20,  3.74s/it]"
     ]
    },
    {
     "name": "stdout",
     "output_type": "stream",
     "text": [
      "253\t2\t-1\t0.00000\tFalse\tFalse\t0:00:03.893453\n"
     ]
    },
    {
     "name": "stderr",
     "output_type": "stream",
     "text": [
      " 51%|████████████████████████████████████████████████████████████████████▊                                                                  | 255/500 [20:04<15:28,  3.79s/it]"
     ]
    },
    {
     "name": "stdout",
     "output_type": "stream",
     "text": [
      "254\t3\t-1\t0.00000\tFalse\tFalse\t0:00:03.897180\n"
     ]
    },
    {
     "name": "stderr",
     "output_type": "stream",
     "text": [
      " 51%|█████████████████████████████████████████████████████████████████████                                                                  | 256/500 [20:08<15:38,  3.85s/it]"
     ]
    },
    {
     "name": "stdout",
     "output_type": "stream",
     "text": [
      "255\t8\t8\t2.46326\tTrue\tTrue\t0:00:03.974189\n"
     ]
    },
    {
     "name": "stderr",
     "output_type": "stream",
     "text": [
      " 51%|█████████████████████████████████████████████████████████████████████▍                                                                 | 257/500 [20:12<16:08,  3.98s/it]"
     ]
    },
    {
     "name": "stdout",
     "output_type": "stream",
     "text": [
      "256\t8\t8\t2.46326\tTrue\tTrue\t0:00:04.308268\n"
     ]
    },
    {
     "name": "stderr",
     "output_type": "stream",
     "text": [
      " 52%|█████████████████████████████████████████████████████████████████████▋                                                                 | 258/500 [20:16<15:58,  3.96s/it]"
     ]
    },
    {
     "name": "stdout",
     "output_type": "stream",
     "text": [
      "257\t4\t4\t2.46326\tTrue\tTrue\t0:00:03.907932\n"
     ]
    },
    {
     "name": "stderr",
     "output_type": "stream",
     "text": [
      " 52%|█████████████████████████████████████████████████████████████████████▉                                                                 | 259/500 [20:21<16:40,  4.15s/it]"
     ]
    },
    {
     "name": "stdout",
     "output_type": "stream",
     "text": [
      "258\t5\t5\t2.46326\tTrue\tTrue\t0:00:04.595021\n"
     ]
    },
    {
     "name": "stderr",
     "output_type": "stream",
     "text": [
      " 52%|██████████████████████████████████████████████████████████████████████▏                                                                | 260/500 [20:24<16:01,  4.01s/it]"
     ]
    },
    {
     "name": "stdout",
     "output_type": "stream",
     "text": [
      "259\t5\t5\t2.46326\tTrue\tTrue\t0:00:03.666558\n"
     ]
    },
    {
     "name": "stderr",
     "output_type": "stream",
     "text": [
      " 52%|██████████████████████████████████████████████████████████████████████▍                                                                | 261/500 [20:28<15:47,  3.96s/it]"
     ]
    },
    {
     "name": "stdout",
     "output_type": "stream",
     "text": [
      "260\t6\t6\t2.46326\tTrue\tTrue\t0:00:03.857876\n"
     ]
    },
    {
     "name": "stderr",
     "output_type": "stream",
     "text": [
      " 52%|██████████████████████████████████████████████████████████████████████▋                                                                | 262/500 [20:32<15:50,  3.99s/it]"
     ]
    },
    {
     "name": "stdout",
     "output_type": "stream",
     "text": [
      "261\t3\t-1\t0.00000\tFalse\tFalse\t0:00:04.055910\n"
     ]
    },
    {
     "name": "stderr",
     "output_type": "stream",
     "text": [
      " 53%|███████████████████████████████████████████████████████████████████████                                                                | 263/500 [20:37<16:23,  4.15s/it]"
     ]
    },
    {
     "name": "stdout",
     "output_type": "stream",
     "text": [
      "262\t3\t3\t1.25184\tTrue\tTrue\t0:00:04.511881\n"
     ]
    },
    {
     "name": "stderr",
     "output_type": "stream",
     "text": [
      " 53%|███████████████████████████████████████████████████████████████████████▎                                                               | 264/500 [20:41<16:02,  4.08s/it]"
     ]
    },
    {
     "name": "stdout",
     "output_type": "stream",
     "text": [
      "263\t7\t7\t2.46326\tTrue\tTrue\t0:00:03.908423\n"
     ]
    },
    {
     "name": "stderr",
     "output_type": "stream",
     "text": [
      " 53%|███████████████████████████████████████████████████████████████████████▌                                                               | 265/500 [20:45<16:28,  4.20s/it]"
     ]
    },
    {
     "name": "stdout",
     "output_type": "stream",
     "text": [
      "264\t6\t-1\t0.00000\tFalse\tFalse\t0:00:04.499850\n"
     ]
    },
    {
     "name": "stderr",
     "output_type": "stream",
     "text": [
      " 53%|███████████████████████████████████████████████████████████████████████▊                                                               | 266/500 [20:51<17:51,  4.58s/it]"
     ]
    },
    {
     "name": "stdout",
     "output_type": "stream",
     "text": [
      "265\t2\t0\t0.37238\tFalse\tFalse\t0:00:05.450620\n"
     ]
    },
    {
     "name": "stderr",
     "output_type": "stream",
     "text": [
      " 53%|████████████████████████████████████████████████████████████████████████                                                               | 267/500 [20:57<19:56,  5.14s/it]"
     ]
    },
    {
     "name": "stdout",
     "output_type": "stream",
     "text": [
      "266\t7\t7\t2.46326\tTrue\tTrue\t0:00:06.433529\n"
     ]
    },
    {
     "name": "stderr",
     "output_type": "stream",
     "text": [
      " 54%|████████████████████████████████████████████████████████████████████████▎                                                              | 268/500 [21:04<21:54,  5.67s/it]"
     ]
    },
    {
     "name": "stdout",
     "output_type": "stream",
     "text": [
      "267\t5\t-1\t0.00000\tFalse\tFalse\t0:00:06.898505\n"
     ]
    },
    {
     "name": "stderr",
     "output_type": "stream",
     "text": [
      " 54%|████████████████████████████████████████████████████████████████████████▋                                                              | 269/500 [21:11<23:46,  6.18s/it]"
     ]
    },
    {
     "name": "stdout",
     "output_type": "stream",
     "text": [
      "268\t6\t6\t0.97070\tTrue\tTrue\t0:00:07.360624\n"
     ]
    },
    {
     "name": "stderr",
     "output_type": "stream",
     "text": [
      " 54%|████████████████████████████████████████████████████████████████████████▉                                                              | 270/500 [21:19<24:57,  6.51s/it]"
     ]
    },
    {
     "name": "stdout",
     "output_type": "stream",
     "text": [
      "269\t6\t6\t2.46326\tTrue\tTrue\t0:00:07.284068\n"
     ]
    },
    {
     "name": "stderr",
     "output_type": "stream",
     "text": [
      " 54%|█████████████████████████████████████████████████████████████████████████▏                                                             | 271/500 [21:26<25:42,  6.74s/it]"
     ]
    },
    {
     "name": "stdout",
     "output_type": "stream",
     "text": [
      "270\t4\t5\t2.06413\tFalse\tFalse\t0:00:07.266151\n"
     ]
    },
    {
     "name": "stderr",
     "output_type": "stream",
     "text": [
      " 54%|█████████████████████████████████████████████████████████████████████████▍                                                             | 272/500 [21:32<24:30,  6.45s/it]"
     ]
    },
    {
     "name": "stdout",
     "output_type": "stream",
     "text": [
      "271\t6\t6\t2.46326\tTrue\tTrue\t0:00:05.768224\n"
     ]
    },
    {
     "name": "stderr",
     "output_type": "stream",
     "text": [
      " 55%|█████████████████████████████████████████████████████████████████████████▋                                                             | 273/500 [21:38<24:28,  6.47s/it]"
     ]
    },
    {
     "name": "stdout",
     "output_type": "stream",
     "text": [
      "272\t8\t8\t2.46326\tTrue\tTrue\t0:00:06.512624\n"
     ]
    },
    {
     "name": "stderr",
     "output_type": "stream",
     "text": [
      " 55%|█████████████████████████████████████████████████████████████████████████▉                                                             | 274/500 [21:45<24:36,  6.53s/it]"
     ]
    },
    {
     "name": "stdout",
     "output_type": "stream",
     "text": [
      "273\t0\t0\t2.46326\tTrue\tTrue\t0:00:06.678679\n"
     ]
    },
    {
     "name": "stderr",
     "output_type": "stream",
     "text": [
      " 55%|██████████████████████████████████████████████████████████████████████████▎                                                            | 275/500 [21:51<23:41,  6.32s/it]"
     ]
    },
    {
     "name": "stdout",
     "output_type": "stream",
     "text": [
      "274\t7\t-1\t0.00000\tFalse\tFalse\t0:00:05.805768\n"
     ]
    },
    {
     "name": "stderr",
     "output_type": "stream",
     "text": [
      " 55%|██████████████████████████████████████████████████████████████████████████▌                                                            | 276/500 [21:55<20:51,  5.59s/it]"
     ]
    },
    {
     "name": "stdout",
     "output_type": "stream",
     "text": [
      "275\t5\t5\t2.46326\tTrue\tTrue\t0:00:03.884823\n"
     ]
    },
    {
     "name": "stderr",
     "output_type": "stream",
     "text": [
      " 55%|██████████████████████████████████████████████████████████████████████████▊                                                            | 277/500 [21:58<18:40,  5.03s/it]"
     ]
    },
    {
     "name": "stdout",
     "output_type": "stream",
     "text": [
      "276\t3\t3\t2.46326\tTrue\tTrue\t0:00:03.712184\n"
     ]
    },
    {
     "name": "stderr",
     "output_type": "stream",
     "text": [
      " 56%|███████████████████████████████████████████████████████████████████████████                                                            | 278/500 [22:02<17:08,  4.63s/it]"
     ]
    },
    {
     "name": "stdout",
     "output_type": "stream",
     "text": [
      "277\t3\t3\t2.46326\tTrue\tTrue\t0:00:03.717339\n"
     ]
    },
    {
     "name": "stderr",
     "output_type": "stream",
     "text": [
      " 56%|███████████████████████████████████████████████████████████████████████████▎                                                           | 279/500 [22:06<15:57,  4.33s/it]"
     ]
    },
    {
     "name": "stdout",
     "output_type": "stream",
     "text": [
      "278\t3\t3\t2.46326\tTrue\tTrue\t0:00:03.622241\n"
     ]
    },
    {
     "name": "stderr",
     "output_type": "stream",
     "text": [
      " 56%|███████████████████████████████████████████████████████████████████████████▌                                                           | 280/500 [22:09<14:47,  4.04s/it]"
     ]
    },
    {
     "name": "stdout",
     "output_type": "stream",
     "text": [
      "279\t4\t4\t2.46326\tTrue\tTrue\t0:00:03.343989\n"
     ]
    },
    {
     "name": "stderr",
     "output_type": "stream",
     "text": [
      " 56%|███████████████████████████████████████████████████████████████████████████▊                                                           | 281/500 [22:13<14:14,  3.90s/it]"
     ]
    },
    {
     "name": "stdout",
     "output_type": "stream",
     "text": [
      "280\t0\t0\t2.46326\tTrue\tTrue\t0:00:03.585030\n"
     ]
    },
    {
     "name": "stderr",
     "output_type": "stream",
     "text": [
      " 56%|████████████████████████████████████████████████████████████████████████████▏                                                          | 282/500 [22:16<13:55,  3.83s/it]"
     ]
    },
    {
     "name": "stdout",
     "output_type": "stream",
     "text": [
      "281\t8\t8\t2.46326\tTrue\tTrue\t0:00:03.675493\n"
     ]
    },
    {
     "name": "stderr",
     "output_type": "stream",
     "text": [
      " 57%|████████████████████████████████████████████████████████████████████████████▍                                                          | 283/500 [22:20<13:31,  3.74s/it]"
     ]
    },
    {
     "name": "stdout",
     "output_type": "stream",
     "text": [
      "282\t0\t0\t1.61599\tTrue\tTrue\t0:00:03.513757\n"
     ]
    },
    {
     "name": "stderr",
     "output_type": "stream",
     "text": [
      " 57%|████████████████████████████████████████████████████████████████████████████▋                                                          | 284/500 [22:23<13:05,  3.64s/it]"
     ]
    },
    {
     "name": "stdout",
     "output_type": "stream",
     "text": [
      "283\t2\t2\t2.46326\tTrue\tTrue\t0:00:03.394120\n"
     ]
    },
    {
     "name": "stderr",
     "output_type": "stream",
     "text": [
      " 57%|████████████████████████████████████████████████████████████████████████████▉                                                          | 285/500 [22:27<12:53,  3.60s/it]"
     ]
    },
    {
     "name": "stdout",
     "output_type": "stream",
     "text": [
      "284\t9\t9\t1.17999\tTrue\tTrue\t0:00:03.497752\n"
     ]
    },
    {
     "name": "stderr",
     "output_type": "stream",
     "text": [
      " 57%|█████████████████████████████████████████████████████████████████████████████▏                                                         | 286/500 [22:30<12:41,  3.56s/it]"
     ]
    },
    {
     "name": "stdout",
     "output_type": "stream",
     "text": [
      "285\t4\t6\t1.61599\tFalse\tFalse\t0:00:03.477383\n"
     ]
    },
    {
     "name": "stderr",
     "output_type": "stream",
     "text": [
      " 57%|█████████████████████████████████████████████████████████████████████████████▍                                                         | 287/500 [22:34<12:37,  3.55s/it]"
     ]
    },
    {
     "name": "stdout",
     "output_type": "stream",
     "text": [
      "286\t9\t-1\t0.00000\tFalse\tFalse\t0:00:03.537436\n"
     ]
    },
    {
     "name": "stderr",
     "output_type": "stream",
     "text": [
      " 58%|█████████████████████████████████████████████████████████████████████████████▊                                                         | 288/500 [22:38<13:02,  3.69s/it]"
     ]
    },
    {
     "name": "stdout",
     "output_type": "stream",
     "text": [
      "287\t3\t5\t2.46326\tFalse\tFalse\t0:00:04.000007\n"
     ]
    },
    {
     "name": "stderr",
     "output_type": "stream",
     "text": [
      " 58%|██████████████████████████████████████████████████████████████████████████████                                                         | 289/500 [22:42<13:22,  3.80s/it]"
     ]
    },
    {
     "name": "stdout",
     "output_type": "stream",
     "text": [
      "288\t6\t6\t2.46326\tTrue\tTrue\t0:00:04.068317\n"
     ]
    },
    {
     "name": "stderr",
     "output_type": "stream",
     "text": [
      " 58%|██████████████████████████████████████████████████████████████████████████████▎                                                        | 290/500 [22:46<13:32,  3.87s/it]"
     ]
    },
    {
     "name": "stdout",
     "output_type": "stream",
     "text": [
      "289\t6\t-1\t0.00000\tFalse\tFalse\t0:00:04.016418\n"
     ]
    },
    {
     "name": "stderr",
     "output_type": "stream",
     "text": [
      " 58%|██████████████████████████████████████████████████████████████████████████████▌                                                        | 291/500 [22:50<13:52,  3.98s/it]"
     ]
    },
    {
     "name": "stdout",
     "output_type": "stream",
     "text": [
      "290\t8\t8\t2.46326\tTrue\tTrue\t0:00:04.190040\n"
     ]
    },
    {
     "name": "stderr",
     "output_type": "stream",
     "text": [
      " 58%|██████████████████████████████████████████████████████████████████████████████▊                                                        | 292/500 [22:54<14:01,  4.04s/it]"
     ]
    },
    {
     "name": "stdout",
     "output_type": "stream",
     "text": [
      "291\t1\t1\t2.46326\tTrue\tTrue\t0:00:04.178509\n"
     ]
    },
    {
     "name": "stderr",
     "output_type": "stream",
     "text": [
      " 59%|███████████████████████████████████████████████████████████████████████████████                                                        | 293/500 [22:58<13:52,  4.02s/it]"
     ]
    },
    {
     "name": "stdout",
     "output_type": "stream",
     "text": [
      "292\t3\t3\t2.46326\tTrue\tTrue\t0:00:03.969666\n"
     ]
    },
    {
     "name": "stderr",
     "output_type": "stream",
     "text": [
      " 59%|███████████████████████████████████████████████████████████████████████████████▍                                                       | 294/500 [23:02<13:44,  4.00s/it]"
     ]
    },
    {
     "name": "stdout",
     "output_type": "stream",
     "text": [
      "293\t7\t7\t2.46326\tTrue\tTrue\t0:00:03.960440\n"
     ]
    },
    {
     "name": "stderr",
     "output_type": "stream",
     "text": [
      " 59%|███████████████████████████████████████████████████████████████████████████████▋                                                       | 295/500 [23:07<14:35,  4.27s/it]"
     ]
    },
    {
     "name": "stdout",
     "output_type": "stream",
     "text": [
      "294\t8\t8\t2.46326\tTrue\tTrue\t0:00:04.894818\n"
     ]
    },
    {
     "name": "stderr",
     "output_type": "stream",
     "text": [
      " 59%|███████████████████████████████████████████████████████████████████████████████▉                                                       | 296/500 [23:12<15:46,  4.64s/it]"
     ]
    },
    {
     "name": "stdout",
     "output_type": "stream",
     "text": [
      "295\t1\t1\t2.46326\tTrue\tTrue\t0:00:05.495620\n"
     ]
    },
    {
     "name": "stderr",
     "output_type": "stream",
     "text": [
      " 59%|████████████████████████████████████████████████████████████████████████████████▏                                                      | 297/500 [23:18<16:17,  4.81s/it]"
     ]
    },
    {
     "name": "stdout",
     "output_type": "stream",
     "text": [
      "296\t9\t9\t2.46326\tTrue\tTrue\t0:00:05.215158\n"
     ]
    },
    {
     "name": "stderr",
     "output_type": "stream",
     "text": [
      " 60%|████████████████████████████████████████████████████████████████████████████████▍                                                      | 298/500 [23:23<16:34,  4.92s/it]"
     ]
    },
    {
     "name": "stdout",
     "output_type": "stream",
     "text": [
      "297\t3\t3\t1.69037\tTrue\tTrue\t0:00:05.180760\n"
     ]
    },
    {
     "name": "stderr",
     "output_type": "stream",
     "text": [
      " 60%|████████████████████████████████████████████████████████████████████████████████▋                                                      | 299/500 [23:27<16:10,  4.83s/it]"
     ]
    },
    {
     "name": "stdout",
     "output_type": "stream",
     "text": [
      "298\t7\t-1\t0.00000\tFalse\tFalse\t0:00:04.597588\n"
     ]
    },
    {
     "name": "stderr",
     "output_type": "stream",
     "text": [
      " 60%|█████████████████████████████████████████████████████████████████████████████████                                                      | 300/500 [23:33<16:32,  4.96s/it]"
     ]
    },
    {
     "name": "stdout",
     "output_type": "stream",
     "text": [
      "299\t8\t8\t2.46326\tTrue\tTrue\t0:00:05.272349\n"
     ]
    },
    {
     "name": "stderr",
     "output_type": "stream",
     "text": [
      " 60%|█████████████████████████████████████████████████████████████████████████████████▎                                                     | 301/500 [23:38<16:45,  5.05s/it]"
     ]
    },
    {
     "name": "stdout",
     "output_type": "stream",
     "text": [
      "300\t2\t2\t2.46326\tTrue\tTrue\t0:00:05.265225\n"
     ]
    },
    {
     "name": "stderr",
     "output_type": "stream",
     "text": [
      " 60%|█████████████████████████████████████████████████████████████████████████████████▌                                                     | 302/500 [23:44<17:24,  5.27s/it]"
     ]
    },
    {
     "name": "stdout",
     "output_type": "stream",
     "text": [
      "301\t1\t1\t2.46326\tTrue\tTrue\t0:00:05.785601\n"
     ]
    },
    {
     "name": "stderr",
     "output_type": "stream",
     "text": [
      " 61%|█████████████████████████████████████████████████████████████████████████████████▊                                                     | 303/500 [23:50<17:53,  5.45s/it]"
     ]
    },
    {
     "name": "stdout",
     "output_type": "stream",
     "text": [
      "302\t5\t5\t2.46326\tTrue\tTrue\t0:00:05.852088\n"
     ]
    },
    {
     "name": "stderr",
     "output_type": "stream",
     "text": [
      " 61%|██████████████████████████████████████████████████████████████████████████████████                                                     | 304/500 [23:55<17:11,  5.26s/it]"
     ]
    },
    {
     "name": "stdout",
     "output_type": "stream",
     "text": [
      "303\t6\t0\t0.97070\tFalse\tFalse\t0:00:04.827915\n"
     ]
    },
    {
     "name": "stderr",
     "output_type": "stream",
     "text": [
      " 61%|██████████████████████████████████████████████████████████████████████████████████▎                                                    | 305/500 [23:59<16:46,  5.16s/it]"
     ]
    },
    {
     "name": "stdout",
     "output_type": "stream",
     "text": [
      "304\t8\t8\t2.46326\tTrue\tTrue\t0:00:04.916483\n"
     ]
    },
    {
     "name": "stderr",
     "output_type": "stream",
     "text": [
      " 61%|██████████████████████████████████████████████████████████████████████████████████▌                                                    | 306/500 [24:04<16:05,  4.98s/it]"
     ]
    },
    {
     "name": "stdout",
     "output_type": "stream",
     "text": [
      "305\t7\t7\t2.46326\tTrue\tTrue\t0:00:04.543554\n"
     ]
    },
    {
     "name": "stderr",
     "output_type": "stream",
     "text": [
      " 61%|██████████████████████████████████████████████████████████████████████████████████▉                                                    | 307/500 [24:08<15:08,  4.71s/it]"
     ]
    },
    {
     "name": "stdout",
     "output_type": "stream",
     "text": [
      "306\t3\t2\t0.57127\tFalse\tFalse\t0:00:04.071695\n"
     ]
    },
    {
     "name": "stderr",
     "output_type": "stream",
     "text": [
      " 62%|███████████████████████████████████████████████████████████████████████████████████▏                                                   | 308/500 [24:13<14:57,  4.68s/it]"
     ]
    },
    {
     "name": "stdout",
     "output_type": "stream",
     "text": [
      "307\t9\t9\t2.46326\tTrue\tTrue\t0:00:04.607144\n"
     ]
    },
    {
     "name": "stderr",
     "output_type": "stream",
     "text": [
      " 62%|███████████████████████████████████████████████████████████████████████████████████▍                                                   | 309/500 [24:17<14:57,  4.70s/it]"
     ]
    },
    {
     "name": "stdout",
     "output_type": "stream",
     "text": [
      "308\t0\t8\t0.73247\tFalse\tFalse\t0:00:04.753778\n"
     ]
    },
    {
     "name": "stderr",
     "output_type": "stream",
     "text": [
      " 62%|███████████████████████████████████████████████████████████████████████████████████▋                                                   | 310/500 [24:23<15:59,  5.05s/it]"
     ]
    },
    {
     "name": "stdout",
     "output_type": "stream",
     "text": [
      "309\t3\t3\t0.73950\tTrue\tTrue\t0:00:05.856547\n"
     ]
    },
    {
     "name": "stderr",
     "output_type": "stream",
     "text": [
      " 62%|███████████████████████████████████████████████████████████████████████████████████▉                                                   | 311/500 [24:29<16:33,  5.25s/it]"
     ]
    },
    {
     "name": "stdout",
     "output_type": "stream",
     "text": [
      "310\t7\t7\t2.46326\tTrue\tTrue\t0:00:05.731173\n"
     ]
    },
    {
     "name": "stderr",
     "output_type": "stream",
     "text": [
      " 62%|████████████████████████████████████████████████████████████████████████████████████▏                                                  | 312/500 [24:35<16:43,  5.34s/it]"
     ]
    },
    {
     "name": "stdout",
     "output_type": "stream",
     "text": [
      "311\t7\t7\t2.46326\tTrue\tTrue\t0:00:05.533393\n"
     ]
    },
    {
     "name": "stderr",
     "output_type": "stream",
     "text": [
      " 63%|████████████████████████████████████████████████████████████████████████████████████▌                                                  | 313/500 [24:40<16:42,  5.36s/it]"
     ]
    },
    {
     "name": "stdout",
     "output_type": "stream",
     "text": [
      "312\t1\t1\t2.46326\tTrue\tTrue\t0:00:05.411398\n"
     ]
    },
    {
     "name": "stderr",
     "output_type": "stream",
     "text": [
      " 63%|████████████████████████████████████████████████████████████████████████████████████▊                                                  | 314/500 [24:45<16:43,  5.40s/it]"
     ]
    },
    {
     "name": "stdout",
     "output_type": "stream",
     "text": [
      "313\t2\t2\t0.91501\tTrue\tTrue\t0:00:05.474386\n"
     ]
    },
    {
     "name": "stderr",
     "output_type": "stream",
     "text": [
      " 63%|█████████████████████████████████████████████████████████████████████████████████████                                                  | 315/500 [24:50<15:24,  5.00s/it]"
     ]
    },
    {
     "name": "stdout",
     "output_type": "stream",
     "text": [
      "314\t2\t2\t0.58375\tTrue\tTrue\t0:00:04.064511\n"
     ]
    },
    {
     "name": "stderr",
     "output_type": "stream",
     "text": [
      " 63%|█████████████████████████████████████████████████████████████████████████████████████▎                                                 | 316/500 [24:54<14:49,  4.83s/it]"
     ]
    },
    {
     "name": "stdout",
     "output_type": "stream",
     "text": [
      "315\t7\t7\t2.46326\tTrue\tTrue\t0:00:04.445953\n"
     ]
    },
    {
     "name": "stderr",
     "output_type": "stream",
     "text": [
      " 63%|█████████████████████████████████████████████████████████████████████████████████████▌                                                 | 317/500 [24:58<14:01,  4.60s/it]"
     ]
    },
    {
     "name": "stdout",
     "output_type": "stream",
     "text": [
      "316\t8\t8\t2.46326\tTrue\tTrue\t0:00:04.056131\n"
     ]
    },
    {
     "name": "stderr",
     "output_type": "stream",
     "text": [
      " 64%|█████████████████████████████████████████████████████████████████████████████████████▊                                                 | 318/500 [25:02<13:20,  4.40s/it]"
     ]
    },
    {
     "name": "stdout",
     "output_type": "stream",
     "text": [
      "317\t1\t1\t2.46326\tTrue\tTrue\t0:00:03.916494\n"
     ]
    },
    {
     "name": "stderr",
     "output_type": "stream",
     "text": [
      " 64%|██████████████████████████████████████████████████████████████████████████████████████▏                                                | 319/500 [25:06<13:06,  4.34s/it]"
     ]
    },
    {
     "name": "stdout",
     "output_type": "stream",
     "text": [
      "318\t5\t5\t2.46326\tTrue\tTrue\t0:00:04.218579\n"
     ]
    },
    {
     "name": "stderr",
     "output_type": "stream",
     "text": [
      " 64%|██████████████████████████████████████████████████████████████████████████████████████▍                                                | 320/500 [25:10<12:38,  4.21s/it]"
     ]
    },
    {
     "name": "stdout",
     "output_type": "stream",
     "text": [
      "319\t7\t7\t2.46326\tTrue\tTrue\t0:00:03.909029\n"
     ]
    },
    {
     "name": "stderr",
     "output_type": "stream",
     "text": [
      " 64%|██████████████████████████████████████████████████████████████████████████████████████▋                                                | 321/500 [25:14<12:20,  4.14s/it]"
     ]
    },
    {
     "name": "stdout",
     "output_type": "stream",
     "text": [
      "320\t0\t8\t0.74658\tFalse\tFalse\t0:00:03.963315\n"
     ]
    },
    {
     "name": "stderr",
     "output_type": "stream",
     "text": [
      " 64%|██████████████████████████████████████████████████████████████████████████████████████▉                                                | 322/500 [25:18<11:58,  4.04s/it]"
     ]
    },
    {
     "name": "stdout",
     "output_type": "stream",
     "text": [
      "321\t0\t0\t2.46326\tTrue\tTrue\t0:00:03.800292\n"
     ]
    },
    {
     "name": "stderr",
     "output_type": "stream",
     "text": [
      " 65%|███████████████████████████████████████████████████████████████████████████████████████▏                                               | 323/500 [25:22<11:50,  4.02s/it]"
     ]
    },
    {
     "name": "stdout",
     "output_type": "stream",
     "text": [
      "322\t7\t2\t2.46326\tFalse\tFalse\t0:00:03.964414\n"
     ]
    },
    {
     "name": "stderr",
     "output_type": "stream",
     "text": [
      " 65%|███████████████████████████████████████████████████████████████████████████████████████▍                                               | 324/500 [25:26<11:57,  4.08s/it]"
     ]
    },
    {
     "name": "stdout",
     "output_type": "stream",
     "text": [
      "323\t4\t4\t2.46326\tTrue\tTrue\t0:00:04.208480\n"
     ]
    },
    {
     "name": "stderr",
     "output_type": "stream",
     "text": [
      " 65%|███████████████████████████████████████████████████████████████████████████████████████▊                                               | 325/500 [25:30<11:39,  4.00s/it]"
     ]
    },
    {
     "name": "stdout",
     "output_type": "stream",
     "text": [
      "324\t5\t3\t1.43986\tFalse\tFalse\t0:00:03.819200\n"
     ]
    },
    {
     "name": "stderr",
     "output_type": "stream",
     "text": [
      " 65%|████████████████████████████████████████████████████████████████████████████████████████                                               | 326/500 [25:35<12:35,  4.34s/it]"
     ]
    },
    {
     "name": "stdout",
     "output_type": "stream",
     "text": [
      "325\t6\t6\t2.46326\tTrue\tTrue\t0:00:05.129671\n"
     ]
    },
    {
     "name": "stderr",
     "output_type": "stream",
     "text": [
      " 65%|████████████████████████████████████████████████████████████████████████████████████████▎                                              | 327/500 [25:41<13:46,  4.78s/it]"
     ]
    },
    {
     "name": "stdout",
     "output_type": "stream",
     "text": [
      "326\t6\t6\t2.46326\tTrue\tTrue\t0:00:05.797061\n"
     ]
    },
    {
     "name": "stderr",
     "output_type": "stream",
     "text": [
      " 66%|████████████████████████████████████████████████████████████████████████████████████████▌                                              | 328/500 [25:46<13:59,  4.88s/it]"
     ]
    },
    {
     "name": "stdout",
     "output_type": "stream",
     "text": [
      "327\t4\t4\t2.46326\tTrue\tTrue\t0:00:05.112756\n"
     ]
    },
    {
     "name": "stderr",
     "output_type": "stream",
     "text": [
      " 66%|████████████████████████████████████████████████████████████████████████████████████████▊                                              | 329/500 [25:51<14:07,  4.96s/it]"
     ]
    },
    {
     "name": "stdout",
     "output_type": "stream",
     "text": [
      "328\t9\t9\t2.46326\tTrue\tTrue\t0:00:05.140470\n"
     ]
    },
    {
     "name": "stderr",
     "output_type": "stream",
     "text": [
      " 66%|█████████████████████████████████████████████████████████████████████████████████████████                                              | 330/500 [25:56<13:55,  4.91s/it]"
     ]
    },
    {
     "name": "stdout",
     "output_type": "stream",
     "text": [
      "329\t1\t1\t2.46326\tTrue\tTrue\t0:00:04.806781\n"
     ]
    },
    {
     "name": "stderr",
     "output_type": "stream",
     "text": [
      " 66%|█████████████████████████████████████████████████████████████████████████████████████████▎                                             | 331/500 [26:01<14:16,  5.07s/it]"
     ]
    },
    {
     "name": "stdout",
     "output_type": "stream",
     "text": [
      "330\t5\t5\t2.46326\tTrue\tTrue\t0:00:05.432471\n"
     ]
    },
    {
     "name": "stderr",
     "output_type": "stream",
     "text": [
      " 66%|█████████████████████████████████████████████████████████████████████████████████████████▋                                             | 332/500 [26:06<14:00,  5.00s/it]"
     ]
    },
    {
     "name": "stdout",
     "output_type": "stream",
     "text": [
      "331\t5\t7\t0.98854\tFalse\tFalse\t0:00:04.849293\n"
     ]
    },
    {
     "name": "stderr",
     "output_type": "stream",
     "text": [
      " 67%|█████████████████████████████████████████████████████████████████████████████████████████▉                                             | 333/500 [26:11<14:12,  5.10s/it]"
     ]
    },
    {
     "name": "stdout",
     "output_type": "stream",
     "text": [
      "332\t0\t0\t2.46326\tTrue\tTrue\t0:00:05.331478\n"
     ]
    },
    {
     "name": "stderr",
     "output_type": "stream",
     "text": [
      " 67%|██████████████████████████████████████████████████████████████████████████████████████████▏                                            | 334/500 [26:17<14:09,  5.12s/it]"
     ]
    },
    {
     "name": "stdout",
     "output_type": "stream",
     "text": [
      "333\t3\t3\t1.69037\tTrue\tTrue\t0:00:05.153456\n"
     ]
    },
    {
     "name": "stderr",
     "output_type": "stream",
     "text": [
      " 67%|██████████████████████████████████████████████████████████████████████████████████████████▍                                            | 335/500 [26:22<14:15,  5.18s/it]"
     ]
    },
    {
     "name": "stdout",
     "output_type": "stream",
     "text": [
      "334\t1\t1\t2.46326\tTrue\tTrue\t0:00:05.330170\n"
     ]
    },
    {
     "name": "stderr",
     "output_type": "stream",
     "text": [
      " 67%|██████████████████████████████████████████████████████████████████████████████████████████▋                                            | 336/500 [26:27<14:22,  5.26s/it]"
     ]
    },
    {
     "name": "stdout",
     "output_type": "stream",
     "text": [
      "335\t6\t6\t2.46326\tTrue\tTrue\t0:00:05.437358\n"
     ]
    },
    {
     "name": "stderr",
     "output_type": "stream",
     "text": [
      " 67%|██████████████████████████████████████████████████████████████████████████████████████████▉                                            | 337/500 [26:31<13:08,  4.83s/it]"
     ]
    },
    {
     "name": "stdout",
     "output_type": "stream",
     "text": [
      "336\t0\t0\t2.46326\tTrue\tTrue\t0:00:03.835664\n"
     ]
    },
    {
     "name": "stderr",
     "output_type": "stream",
     "text": [
      " 68%|███████████████████████████████████████████████████████████████████████████████████████████▎                                           | 338/500 [26:35<12:12,  4.52s/it]"
     ]
    },
    {
     "name": "stdout",
     "output_type": "stream",
     "text": [
      "337\t1\t1\t2.46326\tTrue\tTrue\t0:00:03.783445\n"
     ]
    },
    {
     "name": "stderr",
     "output_type": "stream",
     "text": [
      " 68%|███████████████████████████████████████████████████████████████████████████████████████████▌                                           | 339/500 [26:39<11:33,  4.31s/it]"
     ]
    },
    {
     "name": "stdout",
     "output_type": "stream",
     "text": [
      "338\t7\t7\t2.46326\tTrue\tTrue\t0:00:03.805160\n"
     ]
    },
    {
     "name": "stderr",
     "output_type": "stream",
     "text": [
      " 68%|███████████████████████████████████████████████████████████████████████████████████████████▊                                           | 340/500 [26:43<11:09,  4.18s/it]"
     ]
    },
    {
     "name": "stdout",
     "output_type": "stream",
     "text": [
      "339\t6\t6\t2.46326\tTrue\tTrue\t0:00:03.898525\n"
     ]
    },
    {
     "name": "stderr",
     "output_type": "stream",
     "text": [
      " 68%|████████████████████████████████████████████████████████████████████████████████████████████                                           | 341/500 [26:46<10:41,  4.04s/it]"
     ]
    },
    {
     "name": "stdout",
     "output_type": "stream",
     "text": [
      "340\t4\t4\t2.46326\tTrue\tTrue\t0:00:03.690793\n"
     ]
    },
    {
     "name": "stderr",
     "output_type": "stream",
     "text": [
      " 68%|████████████████████████████████████████████████████████████████████████████████████████████▎                                          | 342/500 [26:51<10:44,  4.08s/it]"
     ]
    },
    {
     "name": "stdout",
     "output_type": "stream",
     "text": [
      "341\t1\t1\t2.46326\tTrue\tTrue\t0:00:04.174439\n"
     ]
    },
    {
     "name": "stderr",
     "output_type": "stream",
     "text": [
      " 69%|████████████████████████████████████████████████████████████████████████████████████████████▌                                          | 343/500 [26:55<10:32,  4.03s/it]"
     ]
    },
    {
     "name": "stdout",
     "output_type": "stream",
     "text": [
      "342\t4\t4\t2.46326\tTrue\tTrue\t0:00:03.900623\n"
     ]
    },
    {
     "name": "stderr",
     "output_type": "stream",
     "text": [
      " 69%|████████████████████████████████████████████████████████████████████████████████████████████▉                                          | 344/500 [26:59<10:33,  4.06s/it]"
     ]
    },
    {
     "name": "stdout",
     "output_type": "stream",
     "text": [
      "343\t6\t6\t2.46326\tTrue\tTrue\t0:00:04.137249\n"
     ]
    },
    {
     "name": "stderr",
     "output_type": "stream",
     "text": [
      " 69%|█████████████████████████████████████████████████████████████████████████████████████████████▏                                         | 345/500 [27:03<11:03,  4.28s/it]"
     ]
    },
    {
     "name": "stdout",
     "output_type": "stream",
     "text": [
      "344\t6\t6\t2.46326\tTrue\tTrue\t0:00:04.796934\n"
     ]
    },
    {
     "name": "stderr",
     "output_type": "stream",
     "text": [
      " 69%|█████████████████████████████████████████████████████████████████████████████████████████████▍                                         | 346/500 [27:09<11:36,  4.52s/it]"
     ]
    },
    {
     "name": "stdout",
     "output_type": "stream",
     "text": [
      "345\t3\t3\t2.46326\tTrue\tTrue\t0:00:05.084362\n"
     ]
    },
    {
     "name": "stderr",
     "output_type": "stream",
     "text": [
      " 69%|█████████████████████████████████████████████████████████████████████████████████████████████▋                                         | 347/500 [27:13<11:41,  4.58s/it]"
     ]
    },
    {
     "name": "stdout",
     "output_type": "stream",
     "text": [
      "346\t1\t1\t2.46326\tTrue\tTrue\t0:00:04.720699\n"
     ]
    },
    {
     "name": "stderr",
     "output_type": "stream",
     "text": [
      " 70%|█████████████████████████████████████████████████████████████████████████████████████████████▉                                         | 348/500 [27:18<11:58,  4.73s/it]"
     ]
    },
    {
     "name": "stdout",
     "output_type": "stream",
     "text": [
      "347\t2\t6\t2.46326\tFalse\tFalse\t0:00:05.060576\n"
     ]
    },
    {
     "name": "stderr",
     "output_type": "stream",
     "text": [
      " 70%|██████████████████████████████████████████████████████████████████████████████████████████████▏                                        | 349/500 [27:23<12:10,  4.84s/it]"
     ]
    },
    {
     "name": "stdout",
     "output_type": "stream",
     "text": [
      "348\t9\t9\t2.46326\tTrue\tTrue\t0:00:05.095770\n"
     ]
    },
    {
     "name": "stderr",
     "output_type": "stream",
     "text": [
      " 70%|██████████████████████████████████████████████████████████████████████████████████████████████▌                                        | 350/500 [27:29<12:19,  4.93s/it]"
     ]
    },
    {
     "name": "stdout",
     "output_type": "stream",
     "text": [
      "349\t7\t7\t2.46326\tTrue\tTrue\t0:00:05.131362\n"
     ]
    },
    {
     "name": "stderr",
     "output_type": "stream",
     "text": [
      " 70%|██████████████████████████████████████████████████████████████████████████████████████████████▊                                        | 351/500 [27:34<12:22,  4.98s/it]"
     ]
    },
    {
     "name": "stdout",
     "output_type": "stream",
     "text": [
      "350\t1\t1\t2.46326\tTrue\tTrue\t0:00:05.103131\n"
     ]
    },
    {
     "name": "stderr",
     "output_type": "stream",
     "text": [
      " 70%|███████████████████████████████████████████████████████████████████████████████████████████████                                        | 352/500 [27:38<11:28,  4.65s/it]"
     ]
    },
    {
     "name": "stdout",
     "output_type": "stream",
     "text": [
      "351\t2\t2\t2.46326\tTrue\tTrue\t0:00:03.888487\n"
     ]
    },
    {
     "name": "stderr",
     "output_type": "stream",
     "text": [
      " 71%|███████████████████████████████████████████████████████████████████████████████████████████████▎                                       | 353/500 [27:41<10:49,  4.42s/it]"
     ]
    },
    {
     "name": "stdout",
     "output_type": "stream",
     "text": [
      "352\t2\t5\t1.17431\tFalse\tFalse\t0:00:03.866399\n"
     ]
    },
    {
     "name": "stderr",
     "output_type": "stream",
     "text": [
      " 71%|███████████████████████████████████████████████████████████████████████████████████████████████▌                                       | 354/500 [27:46<10:35,  4.35s/it]"
     ]
    },
    {
     "name": "stdout",
     "output_type": "stream",
     "text": [
      "353\t3\t3\t2.46326\tTrue\tTrue\t0:00:04.199431\n"
     ]
    },
    {
     "name": "stderr",
     "output_type": "stream",
     "text": [
      " 71%|███████████████████████████████████████████████████████████████████████████████████████████████▊                                       | 355/500 [27:50<10:45,  4.45s/it]"
     ]
    },
    {
     "name": "stdout",
     "output_type": "stream",
     "text": [
      "354\t9\t9\t2.46326\tTrue\tTrue\t0:00:04.677342\n"
     ]
    },
    {
     "name": "stderr",
     "output_type": "stream",
     "text": [
      " 71%|████████████████████████████████████████████████████████████████████████████████████████████████                                       | 356/500 [27:55<11:06,  4.63s/it]"
     ]
    },
    {
     "name": "stdout",
     "output_type": "stream",
     "text": [
      "355\t8\t8\t2.46326\tTrue\tTrue\t0:00:05.033870\n"
     ]
    },
    {
     "name": "stderr",
     "output_type": "stream",
     "text": [
      " 71%|████████████████████████████████████████████████████████████████████████████████████████████████▍                                      | 357/500 [28:00<11:14,  4.72s/it]"
     ]
    },
    {
     "name": "stdout",
     "output_type": "stream",
     "text": [
      "356\t2\t5\t1.15201\tFalse\tFalse\t0:00:04.920819\n"
     ]
    },
    {
     "name": "stderr",
     "output_type": "stream",
     "text": [
      " 72%|████████████████████████████████████████████████████████████████████████████████████████████████▋                                      | 358/500 [28:05<11:19,  4.79s/it]"
     ]
    },
    {
     "name": "stdout",
     "output_type": "stream",
     "text": [
      "357\t7\t7\t2.46326\tTrue\tTrue\t0:00:04.946129\n"
     ]
    },
    {
     "name": "stderr",
     "output_type": "stream",
     "text": [
      " 72%|████████████████████████████████████████████████████████████████████████████████████████████████▉                                      | 359/500 [28:10<11:27,  4.88s/it]"
     ]
    },
    {
     "name": "stdout",
     "output_type": "stream",
     "text": [
      "358\t4\t4\t2.46326\tTrue\tTrue\t0:00:05.078141\n"
     ]
    },
    {
     "name": "stderr",
     "output_type": "stream",
     "text": [
      " 72%|█████████████████████████████████████████████████████████████████████████████████████████████████▏                                     | 360/500 [28:16<11:45,  5.04s/it]"
     ]
    },
    {
     "name": "stdout",
     "output_type": "stream",
     "text": [
      "359\t8\t8\t2.46326\tTrue\tTrue\t0:00:05.428427\n"
     ]
    },
    {
     "name": "stderr",
     "output_type": "stream",
     "text": [
      " 72%|█████████████████████████████████████████████████████████████████████████████████████████████████▍                                     | 361/500 [28:21<11:44,  5.07s/it]"
     ]
    },
    {
     "name": "stdout",
     "output_type": "stream",
     "text": [
      "360\t0\t0\t2.46326\tTrue\tTrue\t0:00:05.127939\n"
     ]
    },
    {
     "name": "stderr",
     "output_type": "stream",
     "text": [
      " 72%|█████████████████████████████████████████████████████████████████████████████████████████████████▋                                     | 362/500 [28:26<11:43,  5.10s/it]"
     ]
    },
    {
     "name": "stdout",
     "output_type": "stream",
     "text": [
      "361\t5\t5\t1.37594\tTrue\tTrue\t0:00:05.167855\n"
     ]
    },
    {
     "name": "stderr",
     "output_type": "stream",
     "text": [
      " 73%|██████████████████████████████████████████████████████████████████████████████████████████████████                                     | 363/500 [28:31<11:43,  5.13s/it]"
     ]
    },
    {
     "name": "stdout",
     "output_type": "stream",
     "text": [
      "362\t2\t0\t1.61599\tFalse\tFalse\t0:00:05.210919\n"
     ]
    },
    {
     "name": "stderr",
     "output_type": "stream",
     "text": [
      " 73%|██████████████████████████████████████████████████████████████████████████████████████████████████▎                                    | 364/500 [28:36<11:33,  5.10s/it]"
     ]
    },
    {
     "name": "stdout",
     "output_type": "stream",
     "text": [
      "363\t8\t8\t2.46326\tTrue\tTrue\t0:00:05.021133\n"
     ]
    },
    {
     "name": "stderr",
     "output_type": "stream",
     "text": [
      " 73%|██████████████████████████████████████████████████████████████████████████████████████████████████▌                                    | 365/500 [28:40<10:38,  4.73s/it]"
     ]
    },
    {
     "name": "stdout",
     "output_type": "stream",
     "text": [
      "364\t4\t4\t2.46326\tTrue\tTrue\t0:00:03.860986\n"
     ]
    },
    {
     "name": "stderr",
     "output_type": "stream",
     "text": [
      " 73%|██████████████████████████████████████████████████████████████████████████████████████████████████▊                                    | 366/500 [28:44<10:00,  4.48s/it]"
     ]
    },
    {
     "name": "stdout",
     "output_type": "stream",
     "text": [
      "365\t3\t5\t1.10927\tFalse\tFalse\t0:00:03.905512\n"
     ]
    },
    {
     "name": "stderr",
     "output_type": "stream",
     "text": [
      " 73%|███████████████████████████████████████████████████████████████████████████████████████████████████                                    | 367/500 [28:48<09:37,  4.34s/it]"
     ]
    },
    {
     "name": "stdout",
     "output_type": "stream",
     "text": [
      "366\t8\t0\t0.35578\tFalse\tFalse\t0:00:03.999887\n"
     ]
    },
    {
     "name": "stderr",
     "output_type": "stream",
     "text": [
      " 74%|███████████████████████████████████████████████████████████████████████████████████████████████████▎                                   | 368/500 [28:52<09:12,  4.19s/it]"
     ]
    },
    {
     "name": "stdout",
     "output_type": "stream",
     "text": [
      "367\t9\t9\t2.46326\tTrue\tTrue\t0:00:03.830318\n"
     ]
    },
    {
     "name": "stderr",
     "output_type": "stream",
     "text": [
      " 74%|███████████████████████████████████████████████████████████████████████████████████████████████████▋                                   | 369/500 [28:56<09:07,  4.18s/it]"
     ]
    },
    {
     "name": "stdout",
     "output_type": "stream",
     "text": [
      "368\t9\t9\t2.46326\tTrue\tTrue\t0:00:04.169277\n"
     ]
    },
    {
     "name": "stderr",
     "output_type": "stream",
     "text": [
      " 74%|███████████████████████████████████████████████████████████████████████████████████████████████████▉                                   | 370/500 [29:00<09:04,  4.19s/it]"
     ]
    },
    {
     "name": "stdout",
     "output_type": "stream",
     "text": [
      "369\t4\t4\t2.46326\tTrue\tTrue\t0:00:04.202109\n"
     ]
    },
    {
     "name": "stderr",
     "output_type": "stream",
     "text": [
      " 74%|████████████████████████████████████████████████████████████████████████████████████████████████████▏                                  | 371/500 [29:04<08:59,  4.18s/it]"
     ]
    },
    {
     "name": "stdout",
     "output_type": "stream",
     "text": [
      "370\t7\t7\t2.46326\tTrue\tTrue\t0:00:04.161547\n"
     ]
    },
    {
     "name": "stderr",
     "output_type": "stream",
     "text": [
      " 74%|████████████████████████████████████████████████████████████████████████████████████████████████████▍                                  | 372/500 [29:09<08:53,  4.16s/it]"
     ]
    },
    {
     "name": "stdout",
     "output_type": "stream",
     "text": [
      "371\t7\t7\t2.46326\tTrue\tTrue\t0:00:04.123396\n"
     ]
    },
    {
     "name": "stderr",
     "output_type": "stream",
     "text": [
      " 75%|████████████████████████████████████████████████████████████████████████████████████████████████████▋                                  | 373/500 [29:13<08:46,  4.15s/it]"
     ]
    },
    {
     "name": "stdout",
     "output_type": "stream",
     "text": [
      "372\t9\t9\t2.46326\tTrue\tTrue\t0:00:04.107216\n"
     ]
    },
    {
     "name": "stderr",
     "output_type": "stream",
     "text": [
      " 75%|████████████████████████████████████████████████████████████████████████████████████████████████████▉                                  | 374/500 [29:16<08:27,  4.03s/it]"
     ]
    },
    {
     "name": "stdout",
     "output_type": "stream",
     "text": [
      "373\t3\t3\t2.46326\tTrue\tTrue\t0:00:03.742058\n"
     ]
    },
    {
     "name": "stderr",
     "output_type": "stream",
     "text": [
      " 75%|█████████████████████████████████████████████████████████████████████████████████████████████████████▎                                 | 375/500 [29:20<08:15,  3.96s/it]"
     ]
    },
    {
     "name": "stdout",
     "output_type": "stream",
     "text": [
      "374\t8\t8\t2.46326\tTrue\tTrue\t0:00:03.817789\n"
     ]
    },
    {
     "name": "stderr",
     "output_type": "stream",
     "text": [
      " 75%|█████████████████████████████████████████████████████████████████████████████████████████████████████▌                                 | 376/500 [29:24<08:17,  4.01s/it]"
     ]
    },
    {
     "name": "stdout",
     "output_type": "stream",
     "text": [
      "375\t8\t8\t2.46326\tTrue\tTrue\t0:00:04.124319\n"
     ]
    },
    {
     "name": "stderr",
     "output_type": "stream",
     "text": [
      " 75%|█████████████████████████████████████████████████████████████████████████████████████████████████████▊                                 | 377/500 [29:28<08:04,  3.94s/it]"
     ]
    },
    {
     "name": "stdout",
     "output_type": "stream",
     "text": [
      "376\t4\t4\t2.46326\tTrue\tTrue\t0:00:03.761818\n"
     ]
    },
    {
     "name": "stderr",
     "output_type": "stream",
     "text": [
      " 76%|██████████████████████████████████████████████████████████████████████████████████████████████████████                                 | 378/500 [29:32<07:59,  3.93s/it]"
     ]
    },
    {
     "name": "stdout",
     "output_type": "stream",
     "text": [
      "377\t7\t7\t2.46326\tTrue\tTrue\t0:00:03.911064\n"
     ]
    },
    {
     "name": "stderr",
     "output_type": "stream",
     "text": [
      " 76%|██████████████████████████████████████████████████████████████████████████████████████████████████████▎                                | 379/500 [29:36<08:14,  4.09s/it]"
     ]
    },
    {
     "name": "stdout",
     "output_type": "stream",
     "text": [
      "378\t7\t7\t2.46326\tTrue\tTrue\t0:00:04.451489\n"
     ]
    },
    {
     "name": "stderr",
     "output_type": "stream",
     "text": [
      " 76%|██████████████████████████████████████████████████████████████████████████████████████████████████████▌                                | 380/500 [29:42<09:08,  4.57s/it]"
     ]
    },
    {
     "name": "stdout",
     "output_type": "stream",
     "text": [
      "379\t2\t2\t2.46326\tTrue\tTrue\t0:00:05.684592\n"
     ]
    },
    {
     "name": "stderr",
     "output_type": "stream",
     "text": [
      " 76%|██████████████████████████████████████████████████████████████████████████████████████████████████████▊                                | 381/500 [29:48<09:52,  4.98s/it]"
     ]
    },
    {
     "name": "stdout",
     "output_type": "stream",
     "text": [
      "380\t9\t9\t2.46326\tTrue\tTrue\t0:00:05.938005\n"
     ]
    },
    {
     "name": "stderr",
     "output_type": "stream",
     "text": [
      " 76%|███████████████████████████████████████████████████████████████████████████████████████████████████████▏                               | 382/500 [29:54<10:18,  5.24s/it]"
     ]
    },
    {
     "name": "stdout",
     "output_type": "stream",
     "text": [
      "381\t7\t7\t2.46326\tTrue\tTrue\t0:00:05.847184\n"
     ]
    },
    {
     "name": "stderr",
     "output_type": "stream",
     "text": [
      " 77%|███████████████████████████████████████████████████████████████████████████████████████████████████████▍                               | 383/500 [29:59<10:03,  5.16s/it]"
     ]
    },
    {
     "name": "stdout",
     "output_type": "stream",
     "text": [
      "382\t8\t8\t2.46326\tTrue\tTrue\t0:00:04.968390\n"
     ]
    },
    {
     "name": "stderr",
     "output_type": "stream",
     "text": [
      " 77%|███████████████████████████████████████████████████████████████████████████████████████████████████████▋                               | 384/500 [30:04<09:47,  5.06s/it]"
     ]
    },
    {
     "name": "stdout",
     "output_type": "stream",
     "text": [
      "383\t9\t9\t2.46326\tTrue\tTrue\t0:00:04.825129\n"
     ]
    },
    {
     "name": "stderr",
     "output_type": "stream",
     "text": [
      " 77%|███████████████████████████████████████████████████████████████████████████████████████████████████████▉                               | 385/500 [30:09<09:35,  5.01s/it]"
     ]
    },
    {
     "name": "stdout",
     "output_type": "stream",
     "text": [
      "384\t8\t8\t2.46326\tTrue\tTrue\t0:00:04.878190\n"
     ]
    },
    {
     "name": "stderr",
     "output_type": "stream",
     "text": [
      " 77%|████████████████████████████████████████████████████████████████████████████████████████████████████████▏                              | 386/500 [30:14<09:27,  4.98s/it]"
     ]
    },
    {
     "name": "stdout",
     "output_type": "stream",
     "text": [
      "385\t1\t1\t2.46326\tTrue\tTrue\t0:00:04.906421\n"
     ]
    },
    {
     "name": "stderr",
     "output_type": "stream",
     "text": [
      " 77%|████████████████████████████████████████████████████████████████████████████████████████████████████████▍                              | 387/500 [30:18<09:06,  4.84s/it]"
     ]
    },
    {
     "name": "stdout",
     "output_type": "stream",
     "text": [
      "386\t5\t3\t0.29322\tFalse\tFalse\t0:00:04.502489\n"
     ]
    },
    {
     "name": "stderr",
     "output_type": "stream",
     "text": [
      " 78%|████████████████████████████████████████████████████████████████████████████████████████████████████████▊                              | 388/500 [30:22<08:35,  4.61s/it]"
     ]
    },
    {
     "name": "stdout",
     "output_type": "stream",
     "text": [
      "387\t9\t9\t2.46326\tTrue\tTrue\t0:00:04.065984\n"
     ]
    },
    {
     "name": "stderr",
     "output_type": "stream",
     "text": [
      " 78%|█████████████████████████████████████████████████████████████████████████████████████████████████████████                              | 389/500 [30:26<08:05,  4.37s/it]"
     ]
    },
    {
     "name": "stdout",
     "output_type": "stream",
     "text": [
      "388\t4\t6\t0.41445\tFalse\tFalse\t0:00:03.824348\n"
     ]
    },
    {
     "name": "stderr",
     "output_type": "stream",
     "text": [
      " 78%|█████████████████████████████████████████████████████████████████████████████████████████████████████████▎                             | 390/500 [30:30<07:54,  4.31s/it]"
     ]
    },
    {
     "name": "stdout",
     "output_type": "stream",
     "text": [
      "389\t2\t2\t2.46326\tTrue\tTrue\t0:00:04.165272\n"
     ]
    },
    {
     "name": "stderr",
     "output_type": "stream",
     "text": [
      " 78%|█████████████████████████████████████████████████████████████████████████████████████████████████████████▌                             | 391/500 [30:34<07:42,  4.24s/it]"
     ]
    },
    {
     "name": "stdout",
     "output_type": "stream",
     "text": [
      "390\t0\t0\t2.46326\tTrue\tTrue\t0:00:04.065955\n"
     ]
    },
    {
     "name": "stderr",
     "output_type": "stream",
     "text": [
      " 78%|█████████████████████████████████████████████████████████████████████████████████████████████████████████▊                             | 392/500 [30:38<07:25,  4.12s/it]"
     ]
    },
    {
     "name": "stdout",
     "output_type": "stream",
     "text": [
      "391\t3\t3\t2.46326\tTrue\tTrue\t0:00:03.848148\n"
     ]
    },
    {
     "name": "stderr",
     "output_type": "stream",
     "text": [
      " 79%|██████████████████████████████████████████████████████████████████████████████████████████████████████████                             | 393/500 [30:42<07:16,  4.08s/it]"
     ]
    },
    {
     "name": "stdout",
     "output_type": "stream",
     "text": [
      "392\t0\t0\t2.46326\tTrue\tTrue\t0:00:03.981869\n"
     ]
    },
    {
     "name": "stderr",
     "output_type": "stream",
     "text": [
      " 79%|██████████████████████████████████████████████████████████████████████████████████████████████████████████▍                            | 394/500 [30:46<07:10,  4.06s/it]"
     ]
    },
    {
     "name": "stdout",
     "output_type": "stream",
     "text": [
      "393\t6\t6\t2.46326\tTrue\tTrue\t0:00:04.017988\n"
     ]
    },
    {
     "name": "stderr",
     "output_type": "stream",
     "text": [
      " 79%|██████████████████████████████████████████████████████████████████████████████████████████████████████████▋                            | 395/500 [30:50<07:09,  4.09s/it]"
     ]
    },
    {
     "name": "stdout",
     "output_type": "stream",
     "text": [
      "394\t7\t7\t2.46326\tTrue\tTrue\t0:00:04.148015\n"
     ]
    },
    {
     "name": "stderr",
     "output_type": "stream",
     "text": [
      " 79%|██████████████████████████████████████████████████████████████████████████████████████████████████████████▉                            | 396/500 [30:55<07:20,  4.23s/it]"
     ]
    },
    {
     "name": "stdout",
     "output_type": "stream",
     "text": [
      "395\t7\t7\t2.46326\tTrue\tTrue\t0:00:04.559174\n"
     ]
    },
    {
     "name": "stderr",
     "output_type": "stream",
     "text": [
      " 79%|███████████████████████████████████████████████████████████████████████████████████████████████████████████▏                           | 397/500 [30:59<07:17,  4.25s/it]"
     ]
    },
    {
     "name": "stdout",
     "output_type": "stream",
     "text": [
      "396\t9\t9\t2.46326\tTrue\tTrue\t0:00:04.289754\n"
     ]
    },
    {
     "name": "stderr",
     "output_type": "stream",
     "text": [
      " 80%|███████████████████████████████████████████████████████████████████████████████████████████████████████████▍                           | 398/500 [31:04<07:20,  4.32s/it]"
     ]
    },
    {
     "name": "stdout",
     "output_type": "stream",
     "text": [
      "397\t1\t1\t2.46326\tTrue\tTrue\t0:00:04.466862\n"
     ]
    },
    {
     "name": "stderr",
     "output_type": "stream",
     "text": [
      " 80%|███████████████████████████████████████████████████████████████████████████████████████████████████████████▋                           | 399/500 [31:08<07:31,  4.47s/it]"
     ]
    },
    {
     "name": "stdout",
     "output_type": "stream",
     "text": [
      "398\t6\t6\t2.46326\tTrue\tTrue\t0:00:04.816501\n"
     ]
    },
    {
     "name": "stderr",
     "output_type": "stream",
     "text": [
      " 80%|████████████████████████████████████████████████████████████████████████████████████████████████████████████                           | 400/500 [31:14<08:14,  4.94s/it]"
     ]
    },
    {
     "name": "stdout",
     "output_type": "stream",
     "text": [
      "399\t9\t9\t2.46326\tTrue\tTrue\t0:00:06.056072\n"
     ]
    },
    {
     "name": "stderr",
     "output_type": "stream",
     "text": [
      " 80%|████████████████████████████████████████████████████████████████████████████████████████████████████████████▎                          | 401/500 [31:19<07:48,  4.73s/it]"
     ]
    },
    {
     "name": "stdout",
     "output_type": "stream",
     "text": [
      "400\t2\t2\t2.46326\tTrue\tTrue\t0:00:04.236685\n"
     ]
    },
    {
     "name": "stderr",
     "output_type": "stream",
     "text": [
      " 80%|████████████████████████████████████████████████████████████████████████████████████████████████████████████▌                          | 402/500 [31:24<07:55,  4.85s/it]"
     ]
    },
    {
     "name": "stdout",
     "output_type": "stream",
     "text": [
      "401\t3\t3\t2.46326\tTrue\tTrue\t0:00:05.133847\n"
     ]
    },
    {
     "name": "stderr",
     "output_type": "stream",
     "text": [
      " 81%|████████████████████████████████████████████████████████████████████████████████████████████████████████████▊                          | 403/500 [31:28<07:22,  4.57s/it]"
     ]
    },
    {
     "name": "stdout",
     "output_type": "stream",
     "text": [
      "402\t2\t0\t2.46326\tFalse\tFalse\t0:00:03.890213\n"
     ]
    },
    {
     "name": "stderr",
     "output_type": "stream",
     "text": [
      " 81%|█████████████████████████████████████████████████████████████████████████████████████████████████████████████                          | 404/500 [31:31<06:55,  4.33s/it]"
     ]
    },
    {
     "name": "stdout",
     "output_type": "stream",
     "text": [
      "403\t9\t9\t2.46326\tTrue\tTrue\t0:00:03.769623\n"
     ]
    },
    {
     "name": "stderr",
     "output_type": "stream",
     "text": [
      " 81%|█████████████████████████████████████████████████████████████████████████████████████████████████████████████▎                         | 405/500 [31:35<06:38,  4.20s/it]"
     ]
    },
    {
     "name": "stdout",
     "output_type": "stream",
     "text": [
      "404\t8\t-1\t0.00000\tFalse\tFalse\t0:00:03.900434\n"
     ]
    },
    {
     "name": "stderr",
     "output_type": "stream",
     "text": [
      " 81%|█████████████████████████████████████████████████████████████████████████████████████████████████████████████▌                         | 406/500 [31:39<06:34,  4.19s/it]"
     ]
    },
    {
     "name": "stdout",
     "output_type": "stream",
     "text": [
      "405\t5\t5\t2.46326\tTrue\tTrue\t0:00:04.169635\n"
     ]
    },
    {
     "name": "stderr",
     "output_type": "stream",
     "text": [
      " 81%|█████████████████████████████████████████████████████████████████████████████████████████████████████████████▉                         | 407/500 [31:44<06:24,  4.14s/it]"
     ]
    },
    {
     "name": "stdout",
     "output_type": "stream",
     "text": [
      "406\t6\t6\t0.91918\tTrue\tTrue\t0:00:04.002020\n"
     ]
    },
    {
     "name": "stderr",
     "output_type": "stream",
     "text": [
      " 82%|██████████████████████████████████████████████████████████████████████████████████████████████████████████████▏                        | 408/500 [31:48<06:21,  4.15s/it]"
     ]
    },
    {
     "name": "stdout",
     "output_type": "stream",
     "text": [
      "407\t9\t9\t2.46326\tTrue\tTrue\t0:00:04.183202\n"
     ]
    },
    {
     "name": "stderr",
     "output_type": "stream",
     "text": [
      " 82%|██████████████████████████████████████████████████████████████████████████████████████████████████████████████▍                        | 409/500 [31:52<06:09,  4.06s/it]"
     ]
    },
    {
     "name": "stdout",
     "output_type": "stream",
     "text": [
      "408\t6\t6\t2.46326\tTrue\tTrue\t0:00:03.848722\n"
     ]
    },
    {
     "name": "stderr",
     "output_type": "stream",
     "text": [
      " 82%|██████████████████████████████████████████████████████████████████████████████████████████████████████████████▋                        | 410/500 [31:56<06:06,  4.07s/it]"
     ]
    },
    {
     "name": "stdout",
     "output_type": "stream",
     "text": [
      "409\t6\t6\t2.46326\tTrue\tTrue\t0:00:04.078657\n"
     ]
    },
    {
     "name": "stderr",
     "output_type": "stream",
     "text": [
      " 82%|██████████████████████████████████████████████████████████████████████████████████████████████████████████████▉                        | 411/500 [32:00<06:02,  4.07s/it]"
     ]
    },
    {
     "name": "stdout",
     "output_type": "stream",
     "text": [
      "410\t4\t4\t2.46326\tTrue\tTrue\t0:00:04.077990\n"
     ]
    },
    {
     "name": "stderr",
     "output_type": "stream",
     "text": [
      " 82%|███████████████████████████████████████████████████████████████████████████████████████████████████████████████▏                       | 412/500 [32:04<05:55,  4.04s/it]"
     ]
    },
    {
     "name": "stdout",
     "output_type": "stream",
     "text": [
      "411\t0\t0\t2.46326\tTrue\tTrue\t0:00:03.948936\n"
     ]
    },
    {
     "name": "stderr",
     "output_type": "stream",
     "text": [
      " 83%|███████████████████████████████████████████████████████████████████████████████████████████████████████████████▌                       | 413/500 [32:08<05:46,  3.98s/it]"
     ]
    },
    {
     "name": "stdout",
     "output_type": "stream",
     "text": [
      "412\t8\t8\t2.46326\tTrue\tTrue\t0:00:03.849091\n"
     ]
    },
    {
     "name": "stderr",
     "output_type": "stream",
     "text": [
      " 83%|███████████████████████████████████████████████████████████████████████████████████████████████████████████████▊                       | 414/500 [32:11<05:40,  3.96s/it]"
     ]
    },
    {
     "name": "stdout",
     "output_type": "stream",
     "text": [
      "413\t5\t5\t0.78996\tTrue\tTrue\t0:00:03.905732\n"
     ]
    },
    {
     "name": "stderr",
     "output_type": "stream",
     "text": [
      " 83%|████████████████████████████████████████████████████████████████████████████████████████████████████████████████                       | 415/500 [32:17<06:10,  4.36s/it]"
     ]
    },
    {
     "name": "stdout",
     "output_type": "stream",
     "text": [
      "414\t1\t1\t2.46326\tTrue\tTrue\t0:00:05.302614\n"
     ]
    },
    {
     "name": "stderr",
     "output_type": "stream",
     "text": [
      " 83%|████████████████████████████████████████████████████████████████████████████████████████████████████████████████▎                      | 416/500 [32:21<05:57,  4.25s/it]"
     ]
    },
    {
     "name": "stdout",
     "output_type": "stream",
     "text": [
      "415\t9\t9\t2.46326\tTrue\tTrue\t0:00:03.996850\n"
     ]
    },
    {
     "name": "stderr",
     "output_type": "stream",
     "text": [
      " 83%|████████████████████████████████████████████████████████████████████████████████████████████████████████████████▌                      | 417/500 [32:25<05:54,  4.28s/it]"
     ]
    },
    {
     "name": "stdout",
     "output_type": "stream",
     "text": [
      "416\t7\t3\t0.27714\tFalse\tFalse\t0:00:04.325471\n"
     ]
    },
    {
     "name": "stderr",
     "output_type": "stream",
     "text": [
      " 84%|████████████████████████████████████████████████████████████████████████████████████████████████████████████████▊                      | 418/500 [32:29<05:47,  4.24s/it]"
     ]
    },
    {
     "name": "stdout",
     "output_type": "stream",
     "text": [
      "417\t1\t1\t2.46326\tTrue\tTrue\t0:00:04.139598\n"
     ]
    },
    {
     "name": "stderr",
     "output_type": "stream",
     "text": [
      " 84%|█████████████████████████████████████████████████████████████████████████████████████████████████████████████████▏                     | 419/500 [32:33<05:39,  4.19s/it]"
     ]
    },
    {
     "name": "stdout",
     "output_type": "stream",
     "text": [
      "418\t0\t0\t2.46326\tTrue\tTrue\t0:00:04.074116\n"
     ]
    },
    {
     "name": "stderr",
     "output_type": "stream",
     "text": [
      " 84%|█████████████████████████████████████████████████████████████████████████████████████████████████████████████████▍                     | 420/500 [32:39<06:15,  4.70s/it]"
     ]
    },
    {
     "name": "stdout",
     "output_type": "stream",
     "text": [
      "419\t0\t-1\t0.00000\tFalse\tFalse\t0:00:05.877026\n"
     ]
    },
    {
     "name": "stderr",
     "output_type": "stream",
     "text": [
      " 84%|█████████████████████████████████████████████████████████████████████████████████████████████████████████████████▋                     | 421/500 [32:43<05:50,  4.44s/it]"
     ]
    },
    {
     "name": "stdout",
     "output_type": "stream",
     "text": [
      "420\t4\t3\t0.22946\tFalse\tFalse\t0:00:03.834781\n"
     ]
    },
    {
     "name": "stderr",
     "output_type": "stream",
     "text": [
      " 84%|█████████████████████████████████████████████████████████████████████████████████████████████████████████████████▉                     | 422/500 [32:47<05:34,  4.29s/it]"
     ]
    },
    {
     "name": "stdout",
     "output_type": "stream",
     "text": [
      "421\t5\t5\t2.46326\tTrue\tTrue\t0:00:03.945282\n"
     ]
    },
    {
     "name": "stderr",
     "output_type": "stream",
     "text": [
      " 85%|██████████████████████████████████████████████████████████████████████████████████████████████████████████████████▏                    | 423/500 [32:51<05:19,  4.14s/it]"
     ]
    },
    {
     "name": "stdout",
     "output_type": "stream",
     "text": [
      "422\t3\t7\t0.47490\tFalse\tFalse\t0:00:03.799474\n"
     ]
    },
    {
     "name": "stderr",
     "output_type": "stream",
     "text": [
      " 85%|██████████████████████████████████████████████████████████████████████████████████████████████████████████████████▍                    | 424/500 [32:55<05:13,  4.13s/it]"
     ]
    },
    {
     "name": "stdout",
     "output_type": "stream",
     "text": [
      "423\t8\t8\t2.46326\tTrue\tTrue\t0:00:04.089340\n"
     ]
    },
    {
     "name": "stderr",
     "output_type": "stream",
     "text": [
      " 85%|██████████████████████████████████████████████████████████████████████████████████████████████████████████████████▊                    | 425/500 [32:59<05:02,  4.03s/it]"
     ]
    },
    {
     "name": "stdout",
     "output_type": "stream",
     "text": [
      "424\t9\t9\t2.46326\tTrue\tTrue\t0:00:03.800128\n"
     ]
    },
    {
     "name": "stderr",
     "output_type": "stream",
     "text": [
      " 85%|███████████████████████████████████████████████████████████████████████████████████████████████████████████████████                    | 426/500 [33:03<04:58,  4.04s/it]"
     ]
    },
    {
     "name": "stdout",
     "output_type": "stream",
     "text": [
      "425\t3\t3\t2.46326\tTrue\tTrue\t0:00:04.057806\n"
     ]
    },
    {
     "name": "stderr",
     "output_type": "stream",
     "text": [
      " 85%|███████████████████████████████████████████████████████████████████████████████████████████████████████████████████▎                   | 427/500 [33:08<05:27,  4.49s/it]"
     ]
    },
    {
     "name": "stdout",
     "output_type": "stream",
     "text": [
      "426\t2\t4\t2.46326\tFalse\tFalse\t0:00:05.542136\n"
     ]
    },
    {
     "name": "stderr",
     "output_type": "stream",
     "text": [
      " 86%|███████████████████████████████████████████████████████████████████████████████████████████████████████████████████▌                   | 428/500 [33:12<05:16,  4.40s/it]"
     ]
    },
    {
     "name": "stdout",
     "output_type": "stream",
     "text": [
      "427\t4\t4\t2.17769\tTrue\tTrue\t0:00:04.191504\n"
     ]
    },
    {
     "name": "stderr",
     "output_type": "stream",
     "text": [
      " 86%|███████████████████████████████████████████████████████████████████████████████████████████████████████████████████▊                   | 429/500 [33:17<05:10,  4.37s/it]"
     ]
    },
    {
     "name": "stdout",
     "output_type": "stream",
     "text": [
      "428\t5\t5\t2.46326\tTrue\tTrue\t0:00:04.294183\n"
     ]
    },
    {
     "name": "stderr",
     "output_type": "stream",
     "text": [
      " 86%|████████████████████████████████████████████████████████████████████████████████████████████████████████████████████                   | 430/500 [33:21<04:58,  4.26s/it]"
     ]
    },
    {
     "name": "stdout",
     "output_type": "stream",
     "text": [
      "429\t5\t3\t2.46326\tFalse\tFalse\t0:00:03.997630\n"
     ]
    },
    {
     "name": "stderr",
     "output_type": "stream",
     "text": [
      " 86%|████████████████████████████████████████████████████████████████████████████████████████████████████████████████████▎                  | 431/500 [33:25<04:52,  4.24s/it]"
     ]
    },
    {
     "name": "stdout",
     "output_type": "stream",
     "text": [
      "430\t4\t4\t0.72897\tTrue\tTrue\t0:00:04.192690\n"
     ]
    },
    {
     "name": "stderr",
     "output_type": "stream",
     "text": [
      " 86%|████████████████████████████████████████████████████████████████████████████████████████████████████████████████████▋                  | 432/500 [33:29<04:47,  4.23s/it]"
     ]
    },
    {
     "name": "stdout",
     "output_type": "stream",
     "text": [
      "431\t5\t5\t2.46326\tTrue\tTrue\t0:00:04.200673\n"
     ]
    },
    {
     "name": "stderr",
     "output_type": "stream",
     "text": [
      " 87%|████████████████████████████████████████████████████████████████████████████████████████████████████████████████████▉                  | 433/500 [33:33<04:33,  4.08s/it]"
     ]
    },
    {
     "name": "stdout",
     "output_type": "stream",
     "text": [
      "432\t3\t3\t2.46326\tTrue\tTrue\t0:00:03.716827\n"
     ]
    },
    {
     "name": "stderr",
     "output_type": "stream",
     "text": [
      " 87%|█████████████████████████████████████████████████████████████████████████████████████████████████████████████████████▏                 | 434/500 [33:37<04:29,  4.08s/it]"
     ]
    },
    {
     "name": "stdout",
     "output_type": "stream",
     "text": [
      "433\t7\t7\t0.68436\tTrue\tTrue\t0:00:04.095962\n"
     ]
    },
    {
     "name": "stderr",
     "output_type": "stream",
     "text": [
      " 87%|█████████████████████████████████████████████████████████████████████████████████████████████████████████████████████▍                 | 435/500 [33:41<04:29,  4.14s/it]"
     ]
    },
    {
     "name": "stdout",
     "output_type": "stream",
     "text": [
      "434\t3\t5\t0.00672\tFalse\tFalse\t0:00:04.273777\n"
     ]
    },
    {
     "name": "stderr",
     "output_type": "stream",
     "text": [
      " 87%|█████████████████████████████████████████████████████████████████████████████████████████████████████████████████████▋                 | 436/500 [33:45<04:22,  4.10s/it]"
     ]
    },
    {
     "name": "stdout",
     "output_type": "stream",
     "text": [
      "435\t2\t6\t0.89036\tFalse\tFalse\t0:00:04.004131\n"
     ]
    },
    {
     "name": "stderr",
     "output_type": "stream",
     "text": [
      " 87%|█████████████████████████████████████████████████████████████████████████████████████████████████████████████████████▉                 | 437/500 [33:49<04:15,  4.05s/it]"
     ]
    },
    {
     "name": "stdout",
     "output_type": "stream",
     "text": [
      "436\t8\t9\t1.30416\tFalse\tFalse\t0:00:03.924644\n"
     ]
    },
    {
     "name": "stderr",
     "output_type": "stream",
     "text": [
      " 88%|██████████████████████████████████████████████████████████████████████████████████████████████████████████████████████▎                | 438/500 [33:57<05:12,  5.04s/it]"
     ]
    },
    {
     "name": "stdout",
     "output_type": "stream",
     "text": [
      "437\t4\t4\t2.46326\tTrue\tTrue\t0:00:07.361135\n"
     ]
    },
    {
     "name": "stderr",
     "output_type": "stream",
     "text": [
      " 88%|██████████████████████████████████████████████████████████████████████████████████████████████████████████████████████▌                | 439/500 [34:05<06:13,  6.12s/it]"
     ]
    },
    {
     "name": "stdout",
     "output_type": "stream",
     "text": [
      "438\t0\t0\t2.46326\tTrue\tTrue\t0:00:08.619577\n"
     ]
    },
    {
     "name": "stderr",
     "output_type": "stream",
     "text": [
      " 88%|██████████████████████████████████████████████████████████████████████████████████████████████████████████████████████▊                | 440/500 [34:10<05:52,  5.88s/it]"
     ]
    },
    {
     "name": "stdout",
     "output_type": "stream",
     "text": [
      "439\t3\t2\t2.46326\tFalse\tFalse\t0:00:05.302574\n"
     ]
    },
    {
     "name": "stderr",
     "output_type": "stream",
     "text": [
      " 88%|███████████████████████████████████████████████████████████████████████████████████████████████████████████████████████                | 441/500 [34:14<05:11,  5.27s/it]"
     ]
    },
    {
     "name": "stdout",
     "output_type": "stream",
     "text": [
      "440\t3\t3\t2.46326\tTrue\tTrue\t0:00:03.857159\n"
     ]
    },
    {
     "name": "stderr",
     "output_type": "stream",
     "text": [
      " 88%|███████████████████████████████████████████████████████████████████████████████████████████████████████████████████████▎               | 442/500 [34:18<04:41,  4.86s/it]"
     ]
    },
    {
     "name": "stdout",
     "output_type": "stream",
     "text": [
      "441\t0\t0\t2.46326\tTrue\tTrue\t0:00:03.903533\n"
     ]
    },
    {
     "name": "stderr",
     "output_type": "stream",
     "text": [
      " 89%|███████████████████████████████████████████████████████████████████████████████████████████████████████████████████████▌               | 443/500 [34:22<04:24,  4.64s/it]"
     ]
    },
    {
     "name": "stdout",
     "output_type": "stream",
     "text": [
      "442\t7\t7\t2.46326\tTrue\tTrue\t0:00:04.113200\n"
     ]
    },
    {
     "name": "stderr",
     "output_type": "stream",
     "text": [
      " 89%|███████████████████████████████████████████████████████████████████████████████████████████████████████████████████████▉               | 444/500 [34:26<04:05,  4.39s/it]"
     ]
    },
    {
     "name": "stdout",
     "output_type": "stream",
     "text": [
      "443\t8\t8\t2.46326\tTrue\tTrue\t0:00:03.792807\n"
     ]
    },
    {
     "name": "stderr",
     "output_type": "stream",
     "text": [
      " 89%|████████████████████████████████████████████████████████████████████████████████████████████████████████████████████████▏              | 445/500 [34:30<04:00,  4.37s/it]"
     ]
    },
    {
     "name": "stdout",
     "output_type": "stream",
     "text": [
      "444\t3\t3\t2.46326\tTrue\tTrue\t0:00:04.330456\n"
     ]
    },
    {
     "name": "stderr",
     "output_type": "stream",
     "text": [
      " 89%|████████████████████████████████████████████████████████████████████████████████████████████████████████████████████████▍              | 446/500 [34:34<03:50,  4.27s/it]"
     ]
    },
    {
     "name": "stdout",
     "output_type": "stream",
     "text": [
      "445\t1\t1\t2.46326\tTrue\tTrue\t0:00:04.026109\n"
     ]
    },
    {
     "name": "stderr",
     "output_type": "stream",
     "text": [
      " 89%|████████████████████████████████████████████████████████████████████████████████████████████████████████████████████████▋              | 447/500 [34:39<03:42,  4.20s/it]"
     ]
    },
    {
     "name": "stdout",
     "output_type": "stream",
     "text": [
      "446\t8\t8\t2.46326\tTrue\tTrue\t0:00:04.038167\n"
     ]
    },
    {
     "name": "stderr",
     "output_type": "stream",
     "text": [
      " 90%|████████████████████████████████████████████████████████████████████████████████████████████████████████████████████████▉              | 448/500 [34:43<03:39,  4.23s/it]"
     ]
    },
    {
     "name": "stdout",
     "output_type": "stream",
     "text": [
      "447\t5\t5\t2.46326\tTrue\tTrue\t0:00:04.290681\n"
     ]
    },
    {
     "name": "stderr",
     "output_type": "stream",
     "text": [
      " 90%|█████████████████████████████████████████████████████████████████████████████████████████████████████████████████████████▏             | 449/500 [34:47<03:38,  4.29s/it]"
     ]
    },
    {
     "name": "stdout",
     "output_type": "stream",
     "text": [
      "448\t9\t9\t2.46326\tTrue\tTrue\t0:00:04.416283\n"
     ]
    },
    {
     "name": "stderr",
     "output_type": "stream",
     "text": [
      " 90%|█████████████████████████████████████████████████████████████████████████████████████████████████████████████████████████▌             | 450/500 [34:51<03:27,  4.15s/it]"
     ]
    },
    {
     "name": "stdout",
     "output_type": "stream",
     "text": [
      "449\t4\t4\t2.46326\tTrue\tTrue\t0:00:03.847443\n"
     ]
    },
    {
     "name": "stderr",
     "output_type": "stream",
     "text": [
      " 90%|█████████████████████████████████████████████████████████████████████████████████████████████████████████████████████████▊             | 451/500 [34:55<03:18,  4.06s/it]"
     ]
    },
    {
     "name": "stdout",
     "output_type": "stream",
     "text": [
      "450\t9\t9\t2.46326\tTrue\tTrue\t0:00:03.835216\n"
     ]
    },
    {
     "name": "stderr",
     "output_type": "stream",
     "text": [
      " 90%|██████████████████████████████████████████████████████████████████████████████████████████████████████████████████████████             | 452/500 [34:59<03:11,  3.99s/it]"
     ]
    },
    {
     "name": "stdout",
     "output_type": "stream",
     "text": [
      "451\t4\t4\t2.46326\tTrue\tTrue\t0:00:03.835882\n"
     ]
    },
    {
     "name": "stderr",
     "output_type": "stream",
     "text": [
      " 91%|██████████████████████████████████████████████████████████████████████████████████████████████████████████████████████████▎            | 453/500 [35:04<03:18,  4.22s/it]"
     ]
    },
    {
     "name": "stdout",
     "output_type": "stream",
     "text": [
      "452\t3\t3\t2.46326\tTrue\tTrue\t0:00:04.751652\n"
     ]
    },
    {
     "name": "stderr",
     "output_type": "stream",
     "text": [
      " 91%|██████████████████████████████████████████████████████████████████████████████████████████████████████████████████████████▌            | 454/500 [35:08<03:18,  4.32s/it]"
     ]
    },
    {
     "name": "stdout",
     "output_type": "stream",
     "text": [
      "453\t2\t2\t2.46326\tTrue\tTrue\t0:00:04.548178\n"
     ]
    },
    {
     "name": "stderr",
     "output_type": "stream",
     "text": [
      " 91%|██████████████████████████████████████████████████████████████████████████████████████████████████████████████████████████▊            | 455/500 [35:12<03:12,  4.28s/it]"
     ]
    },
    {
     "name": "stdout",
     "output_type": "stream",
     "text": [
      "454\t4\t4\t2.46326\tTrue\tTrue\t0:00:04.196105\n"
     ]
    },
    {
     "name": "stderr",
     "output_type": "stream",
     "text": [
      " 91%|███████████████████████████████████████████████████████████████████████████████████████████████████████████████████████████            | 456/500 [35:17<03:11,  4.35s/it]"
     ]
    },
    {
     "name": "stdout",
     "output_type": "stream",
     "text": [
      "455\t5\t4\t0.45743\tFalse\tFalse\t0:00:04.512612\n"
     ]
    },
    {
     "name": "stderr",
     "output_type": "stream",
     "text": [
      " 91%|███████████████████████████████████████████████████████████████████████████████████████████████████████████████████████████▍           | 457/500 [35:23<03:27,  4.83s/it]"
     ]
    },
    {
     "name": "stdout",
     "output_type": "stream",
     "text": [
      "456\t6\t6\t2.46326\tTrue\tTrue\t0:00:05.942072\n"
     ]
    },
    {
     "name": "stderr",
     "output_type": "stream",
     "text": [
      " 92%|███████████████████████████████████████████████████████████████████████████████████████████████████████████████████████████▋           | 458/500 [35:28<03:25,  4.90s/it]"
     ]
    },
    {
     "name": "stdout",
     "output_type": "stream",
     "text": [
      "457\t4\t4\t0.20850\tTrue\tTrue\t0:00:05.052491\n"
     ]
    },
    {
     "name": "stderr",
     "output_type": "stream",
     "text": [
      " 92%|███████████████████████████████████████████████████████████████████████████████████████████████████████████████████████████▉           | 459/500 [35:32<03:10,  4.65s/it]"
     ]
    },
    {
     "name": "stdout",
     "output_type": "stream",
     "text": [
      "458\t2\t2\t1.33193\tTrue\tTrue\t0:00:04.053309\n"
     ]
    },
    {
     "name": "stderr",
     "output_type": "stream",
     "text": [
      " 92%|████████████████████████████████████████████████████████████████████████████████████████████████████████████████████████████▏          | 460/500 [35:36<02:59,  4.48s/it]"
     ]
    },
    {
     "name": "stdout",
     "output_type": "stream",
     "text": [
      "459\t9\t9\t2.46326\tTrue\tTrue\t0:00:04.076587\n"
     ]
    },
    {
     "name": "stderr",
     "output_type": "stream",
     "text": [
      " 92%|████████████████████████████████████████████████████████████████████████████████████████████████████████████████████████████▍          | 461/500 [35:40<02:51,  4.41s/it]"
     ]
    },
    {
     "name": "stdout",
     "output_type": "stream",
     "text": [
      "460\t8\t8\t2.46326\tTrue\tTrue\t0:00:04.253469\n"
     ]
    },
    {
     "name": "stderr",
     "output_type": "stream",
     "text": [
      " 92%|████████████████████████████████████████████████████████████████████████████████████████████████████████████████████████████▋          | 462/500 [35:45<02:46,  4.38s/it]"
     ]
    },
    {
     "name": "stdout",
     "output_type": "stream",
     "text": [
      "461\t7\t7\t0.81607\tTrue\tTrue\t0:00:04.316142\n"
     ]
    },
    {
     "name": "stderr",
     "output_type": "stream",
     "text": [
      " 93%|█████████████████████████████████████████████████████████████████████████████████████████████████████████████████████████████          | 463/500 [35:49<02:39,  4.31s/it]"
     ]
    },
    {
     "name": "stdout",
     "output_type": "stream",
     "text": [
      "462\t3\t3\t2.46326\tTrue\tTrue\t0:00:04.132907\n"
     ]
    },
    {
     "name": "stderr",
     "output_type": "stream",
     "text": [
      " 93%|█████████████████████████████████████████████████████████████████████████████████████████████████████████████████████████████▎         | 464/500 [35:53<02:32,  4.23s/it]"
     ]
    },
    {
     "name": "stdout",
     "output_type": "stream",
     "text": [
      "463\t0\t0\t2.46326\tTrue\tTrue\t0:00:04.060275\n"
     ]
    },
    {
     "name": "stderr",
     "output_type": "stream",
     "text": [
      " 93%|█████████████████████████████████████████████████████████████████████████████████████████████████████████████████████████████▌         | 465/500 [35:57<02:24,  4.14s/it]"
     ]
    },
    {
     "name": "stdout",
     "output_type": "stream",
     "text": [
      "464\t1\t1\t2.46326\tTrue\tTrue\t0:00:03.923556\n"
     ]
    },
    {
     "name": "stderr",
     "output_type": "stream",
     "text": [
      " 93%|█████████████████████████████████████████████████████████████████████████████████████████████████████████████████████████████▊         | 466/500 [36:02<02:30,  4.43s/it]"
     ]
    },
    {
     "name": "stdout",
     "output_type": "stream",
     "text": [
      "465\t4\t-1\t0.00000\tFalse\tFalse\t0:00:05.085074\n"
     ]
    },
    {
     "name": "stderr",
     "output_type": "stream",
     "text": [
      " 93%|██████████████████████████████████████████████████████████████████████████████████████████████████████████████████████████████         | 467/500 [36:06<02:21,  4.30s/it]"
     ]
    },
    {
     "name": "stdout",
     "output_type": "stream",
     "text": [
      "466\t9\t9\t2.46326\tTrue\tTrue\t0:00:04.014871\n"
     ]
    },
    {
     "name": "stderr",
     "output_type": "stream",
     "text": [
      " 94%|██████████████████████████████████████████████████████████████████████████████████████████████████████████████████████████████▎        | 468/500 [36:10<02:16,  4.26s/it]"
     ]
    },
    {
     "name": "stdout",
     "output_type": "stream",
     "text": [
      "467\t3\t3\t2.46326\tTrue\tTrue\t0:00:04.166425\n"
     ]
    },
    {
     "name": "stderr",
     "output_type": "stream",
     "text": [
      " 94%|██████████████████████████████████████████████████████████████████████████████████████████████████████████████████████████████▋        | 469/500 [36:14<02:07,  4.10s/it]"
     ]
    },
    {
     "name": "stdout",
     "output_type": "stream",
     "text": [
      "468\t2\t2\t2.46326\tTrue\tTrue\t0:00:03.725065\n"
     ]
    },
    {
     "name": "stderr",
     "output_type": "stream",
     "text": [
      " 94%|██████████████████████████████████████████████████████████████████████████████████████████████████████████████████████████████▉        | 470/500 [36:17<02:00,  4.03s/it]"
     ]
    },
    {
     "name": "stdout",
     "output_type": "stream",
     "text": [
      "469\t5\t3\t0.20850\tFalse\tFalse\t0:00:03.852966\n"
     ]
    },
    {
     "name": "stderr",
     "output_type": "stream",
     "text": [
      " 94%|███████████████████████████████████████████████████████████████████████████████████████████████████████████████████████████████▏       | 471/500 [36:22<01:58,  4.07s/it]"
     ]
    },
    {
     "name": "stdout",
     "output_type": "stream",
     "text": [
      "470\t2\t2\t2.46326\tTrue\tTrue\t0:00:04.174815\n"
     ]
    },
    {
     "name": "stderr",
     "output_type": "stream",
     "text": [
      " 94%|███████████████████████████████████████████████████████████████████████████████████████████████████████████████████████████████▍       | 472/500 [36:26<01:52,  4.01s/it]"
     ]
    },
    {
     "name": "stdout",
     "output_type": "stream",
     "text": [
      "471\t4\t4\t2.46326\tTrue\tTrue\t0:00:03.844137\n"
     ]
    },
    {
     "name": "stderr",
     "output_type": "stream",
     "text": [
      " 95%|███████████████████████████████████████████████████████████████████████████████████████████████████████████████████████████████▋       | 473/500 [36:29<01:47,  3.98s/it]"
     ]
    },
    {
     "name": "stdout",
     "output_type": "stream",
     "text": [
      "472\t7\t7\t1.39914\tTrue\tTrue\t0:00:03.908897\n"
     ]
    },
    {
     "name": "stderr",
     "output_type": "stream",
     "text": [
      " 95%|███████████████████████████████████████████████████████████████████████████████████████████████████████████████████████████████▉       | 474/500 [36:33<01:42,  3.93s/it]"
     ]
    },
    {
     "name": "stdout",
     "output_type": "stream",
     "text": [
      "473\t8\t8\t0.31751\tTrue\tTrue\t0:00:03.815267\n"
     ]
    },
    {
     "name": "stderr",
     "output_type": "stream",
     "text": [
      " 95%|████████████████████████████████████████████████████████████████████████████████████████████████████████████████████████████████▎      | 475/500 [36:37<01:36,  3.86s/it]"
     ]
    },
    {
     "name": "stdout",
     "output_type": "stream",
     "text": [
      "474\t7\t7\t2.46326\tTrue\tTrue\t0:00:03.685148\n"
     ]
    },
    {
     "name": "stderr",
     "output_type": "stream",
     "text": [
      " 95%|████████████████████████████████████████████████████████████████████████████████████████████████████████████████████████████████▌      | 476/500 [36:41<01:30,  3.78s/it]"
     ]
    },
    {
     "name": "stdout",
     "output_type": "stream",
     "text": [
      "475\t3\t3\t2.46326\tTrue\tTrue\t0:00:03.608612\n"
     ]
    },
    {
     "name": "stderr",
     "output_type": "stream",
     "text": [
      " 95%|████████████████████████████████████████████████████████████████████████████████████████████████████████████████████████████████▊      | 477/500 [36:45<01:29,  3.91s/it]"
     ]
    },
    {
     "name": "stdout",
     "output_type": "stream",
     "text": [
      "476\t8\t8\t2.46326\tTrue\tTrue\t0:00:04.197490\n"
     ]
    },
    {
     "name": "stderr",
     "output_type": "stream",
     "text": [
      " 96%|█████████████████████████████████████████████████████████████████████████████████████████████████████████████████████████████████      | 478/500 [36:50<01:35,  4.34s/it]"
     ]
    },
    {
     "name": "stdout",
     "output_type": "stream",
     "text": [
      "477\t7\t7\t2.46326\tTrue\tTrue\t0:00:05.360199\n"
     ]
    },
    {
     "name": "stderr",
     "output_type": "stream",
     "text": [
      " 96%|█████████████████████████████████████████████████████████████████████████████████████████████████████████████████████████████████▎     | 479/500 [36:54<01:28,  4.22s/it]"
     ]
    },
    {
     "name": "stdout",
     "output_type": "stream",
     "text": [
      "478\t9\t9\t2.46326\tTrue\tTrue\t0:00:03.925763\n"
     ]
    },
    {
     "name": "stderr",
     "output_type": "stream",
     "text": [
      " 96%|█████████████████████████████████████████████████████████████████████████████████████████████████████████████████████████████████▌     | 480/500 [36:59<01:27,  4.37s/it]"
     ]
    },
    {
     "name": "stdout",
     "output_type": "stream",
     "text": [
      "479\t1\t1\t2.46326\tTrue\tTrue\t0:00:04.722091\n"
     ]
    },
    {
     "name": "stderr",
     "output_type": "stream",
     "text": [
      " 96%|█████████████████████████████████████████████████████████████████████████████████████████████████████████████████████████████████▊     | 481/500 [37:03<01:24,  4.47s/it]"
     ]
    },
    {
     "name": "stdout",
     "output_type": "stream",
     "text": [
      "480\t5\t3\t0.38911\tFalse\tFalse\t0:00:04.681526\n"
     ]
    },
    {
     "name": "stderr",
     "output_type": "stream",
     "text": [
      " 96%|██████████████████████████████████████████████████████████████████████████████████████████████████████████████████████████████████▏    | 482/500 [37:07<01:17,  4.31s/it]"
     ]
    },
    {
     "name": "stdout",
     "output_type": "stream",
     "text": [
      "481\t0\t0\t0.97070\tTrue\tTrue\t0:00:03.958577\n"
     ]
    },
    {
     "name": "stderr",
     "output_type": "stream",
     "text": [
      " 97%|██████████████████████████████████████████████████████████████████████████████████████████████████████████████████████████████████▍    | 483/500 [37:11<01:11,  4.22s/it]"
     ]
    },
    {
     "name": "stdout",
     "output_type": "stream",
     "text": [
      "482\t4\t6\t2.46326\tFalse\tFalse\t0:00:03.983212\n"
     ]
    },
    {
     "name": "stderr",
     "output_type": "stream",
     "text": [
      " 97%|██████████████████████████████████████████████████████████████████████████████████████████████████████████████████████████████████▋    | 484/500 [37:16<01:07,  4.20s/it]"
     ]
    },
    {
     "name": "stdout",
     "output_type": "stream",
     "text": [
      "483\t9\t9\t2.46326\tTrue\tTrue\t0:00:04.148558\n"
     ]
    },
    {
     "name": "stderr",
     "output_type": "stream",
     "text": [
      " 97%|██████████████████████████████████████████████████████████████████████████████████████████████████████████████████████████████████▉    | 485/500 [37:19<01:01,  4.07s/it]"
     ]
    },
    {
     "name": "stdout",
     "output_type": "stream",
     "text": [
      "484\t7\t7\t1.62766\tTrue\tTrue\t0:00:03.770775\n"
     ]
    },
    {
     "name": "stderr",
     "output_type": "stream",
     "text": [
      " 97%|███████████████████████████████████████████████████████████████████████████████████████████████████████████████████████████████████▏   | 486/500 [37:23<00:56,  4.03s/it]"
     ]
    },
    {
     "name": "stdout",
     "output_type": "stream",
     "text": [
      "485\t7\t7\t2.46326\tTrue\tTrue\t0:00:03.924603\n"
     ]
    },
    {
     "name": "stderr",
     "output_type": "stream",
     "text": [
      " 97%|███████████████████████████████████████████████████████████████████████████████████████████████████████████████████████████████████▍   | 487/500 [37:28<00:53,  4.13s/it]"
     ]
    },
    {
     "name": "stdout",
     "output_type": "stream",
     "text": [
      "486\t4\t4\t2.46326\tTrue\tTrue\t0:00:04.363748\n"
     ]
    },
    {
     "name": "stderr",
     "output_type": "stream",
     "text": [
      " 98%|███████████████████████████████████████████████████████████████████████████████████████████████████████████████████████████████████▊   | 488/500 [37:32<00:50,  4.19s/it]"
     ]
    },
    {
     "name": "stdout",
     "output_type": "stream",
     "text": [
      "487\t7\t7\t2.46326\tTrue\tTrue\t0:00:04.344145\n"
     ]
    },
    {
     "name": "stderr",
     "output_type": "stream",
     "text": [
      " 98%|████████████████████████████████████████████████████████████████████████████████████████████████████████████████████████████████████   | 489/500 [37:36<00:45,  4.15s/it]"
     ]
    },
    {
     "name": "stdout",
     "output_type": "stream",
     "text": [
      "488\t1\t1\t2.46326\tTrue\tTrue\t0:00:04.032468\n"
     ]
    },
    {
     "name": "stderr",
     "output_type": "stream",
     "text": [
      " 98%|████████████████████████████████████████████████████████████████████████████████████████████████████████████████████████████████████▎  | 490/500 [37:40<00:40,  4.06s/it]"
     ]
    },
    {
     "name": "stdout",
     "output_type": "stream",
     "text": [
      "489\t3\t2\t1.45695\tFalse\tFalse\t0:00:03.843760\n"
     ]
    },
    {
     "name": "stderr",
     "output_type": "stream",
     "text": [
      " 98%|████████████████████████████████████████████████████████████████████████████████████████████████████████████████████████████████████▌  | 491/500 [37:44<00:36,  4.04s/it]"
     ]
    },
    {
     "name": "stdout",
     "output_type": "stream",
     "text": [
      "490\t1\t1\t2.46326\tTrue\tTrue\t0:00:04.005595\n"
     ]
    },
    {
     "name": "stderr",
     "output_type": "stream",
     "text": [
      " 98%|████████████████████████████████████████████████████████████████████████████████████████████████████████████████████████████████████▊  | 492/500 [37:48<00:31,  3.97s/it]"
     ]
    },
    {
     "name": "stdout",
     "output_type": "stream",
     "text": [
      "491\t8\t8\t2.46326\tTrue\tTrue\t0:00:03.795855\n"
     ]
    },
    {
     "name": "stderr",
     "output_type": "stream",
     "text": [
      " 99%|█████████████████████████████████████████████████████████████████████████████████████████████████████████████████████████████████████  | 493/500 [37:52<00:28,  4.08s/it]"
     ]
    },
    {
     "name": "stdout",
     "output_type": "stream",
     "text": [
      "492\t2\t2\t2.46326\tTrue\tTrue\t0:00:04.352009\n"
     ]
    },
    {
     "name": "stderr",
     "output_type": "stream",
     "text": [
      " 99%|█████████████████████████████████████████████████████████████████████████████████████████████████████████████████████████████████████▍ | 494/500 [37:57<00:25,  4.26s/it]"
     ]
    },
    {
     "name": "stdout",
     "output_type": "stream",
     "text": [
      "493\t1\t1\t2.46326\tTrue\tTrue\t0:00:04.670123\n"
     ]
    },
    {
     "name": "stderr",
     "output_type": "stream",
     "text": [
      " 99%|█████████████████████████████████████████████████████████████████████████████████████████████████████████████████████████████████████▋ | 495/500 [38:00<00:20,  4.11s/it]"
     ]
    },
    {
     "name": "stdout",
     "output_type": "stream",
     "text": [
      "494\t1\t1\t2.46326\tTrue\tTrue\t0:00:03.764692\n"
     ]
    },
    {
     "name": "stderr",
     "output_type": "stream",
     "text": [
      " 99%|█████████████████████████████████████████████████████████████████████████████████████████████████████████████████████████████████████▉ | 496/500 [38:05<00:16,  4.11s/it]"
     ]
    },
    {
     "name": "stdout",
     "output_type": "stream",
     "text": [
      "495\t9\t9\t2.46326\tTrue\tTrue\t0:00:04.106998\n"
     ]
    },
    {
     "name": "stderr",
     "output_type": "stream",
     "text": [
      " 99%|██████████████████████████████████████████████████████████████████████████████████████████████████████████████████████████████████████▏| 497/500 [38:09<00:12,  4.16s/it]"
     ]
    },
    {
     "name": "stdout",
     "output_type": "stream",
     "text": [
      "496\t6\t6\t2.46326\tTrue\tTrue\t0:00:04.269143\n"
     ]
    },
    {
     "name": "stderr",
     "output_type": "stream",
     "text": [
      "100%|██████████████████████████████████████████████████████████████████████████████████████████████████████████████████████████████████████▍| 498/500 [38:14<00:08,  4.32s/it]"
     ]
    },
    {
     "name": "stdout",
     "output_type": "stream",
     "text": [
      "497\t1\t1\t2.46326\tTrue\tTrue\t0:00:04.704774\n"
     ]
    },
    {
     "name": "stderr",
     "output_type": "stream",
     "text": [
      "100%|██████████████████████████████████████████████████████████████████████████████████████████████████████████████████████████████████████▋| 499/500 [38:18<00:04,  4.29s/it]"
     ]
    },
    {
     "name": "stdout",
     "output_type": "stream",
     "text": [
      "498\t0\t0\t2.46326\tTrue\tTrue\t0:00:04.203086\n"
     ]
    },
    {
     "name": "stderr",
     "output_type": "stream",
     "text": [
      "100%|███████████████████████████████████████████████████████████████████████████████████████████████████████████████████████████████████████| 500/500 [38:22<00:00,  4.60s/it]"
     ]
    },
    {
     "name": "stdout",
     "output_type": "stream",
     "text": [
      "499\t8\t0\t0.04200\tFalse\tFalse\t0:00:03.894744\n",
      "Total 500 Certified 413 Certified Acc 0.826 Test Acc 0.826\n"
     ]
    },
    {
     "name": "stderr",
     "output_type": "stream",
     "text": [
      "\n"
     ]
    }
   ],
   "source": [
    "# args.base_classifier = \"../../tss_weights/cifar10/resnet110/brightness-contrast/0.3_0.3/consistency/checkpoint.pth.tar\"\n",
    "# args.base_classifier = \"../../new_results/cifar100_resnet110_cifar100_cb_cifar100_cb_checkpoint.pth.tar\"\n",
    "args.base_classifier = '../../tss_weights/cifar10/resnet110/translation/noise_15.0/consistency/checkpoint.pth.tar'\n",
    "\n",
    "args.dataset = 'cifar10'\n",
    "\n",
    "dataset = our_cifar10_500\n",
    "\n",
    "\n",
    "\n",
    "device = torch.device('cuda')\n",
    "checkpoint = torch.load(args.base_classifier, map_location=device)\n",
    "base_classifier = get_architecture(checkpoint[\"arch\"], args.dataset, device=device)\n",
    "base_classifier.load_state_dict(checkpoint[\"state_dict\"])\n",
    "\n",
    "\n",
    "img_size, param_size = get_size(args)\n",
    "\n",
    "model_t = img2img_get_model(args, img_size, param_size,parallel=False)\n",
    "\n",
    "trans_path = None\n",
    "if trans_path is not None:\n",
    "    state_dict = torch.load(trans_path)['state_dict']\n",
    "    model_t.load_state_dict(state_dict)\n",
    "# model_t = load_parallel_model(model_t, state_dict)\n",
    "\n",
    "# to device\n",
    "base_classifier.to(device)\n",
    "base_classifier.eval()\n",
    "model_t.to(device)\n",
    "model_t.eval()\n",
    "\n",
    "\n",
    "#load dataset\n",
    "\n",
    "# corruptor\n",
    "corruptor = Corruption(args, co_type=args.corrupt,add_noise=args.add_noise,noise_sd=args.noise_sd,distribution=args.noise_dst)\n",
    "\n",
    "# create the smooothed classifier g\n",
    "smoothed_classifier = TSmooth(base_classifier, None, corruptor, get_num_classes(args.dataset),args.noise_dst,args.noise_sd, args.add_noise)\n",
    "\n",
    "# prepare output file\n",
    "f = open(args.outfile+'_'+args.dataset+'_'+args.corrupt+'_'+str(args.noise_sd), 'w')\n",
    "print(\"idx\\tlabel\\tpredict\\tradius\\tgood\\tcorrect\\ttime\", file=f, flush=True)\n",
    "print(\"idx\\tlabel\\tpredict\\tradius\\tgood\\tcorrect\\ttime\")\n",
    "\n",
    "tot, tot_good, tot_correct = 0, 0, 0\n",
    "\n",
    "# for gaussian smooth\n",
    "attack_radius = args.partial_max\n",
    "\n",
    "\n",
    "# dataset = get_dataset(args.dataset, args.split)\n",
    "dataset = our_cifar10_500\n",
    "for i in tqdm(range(len(dataset))):\n",
    "\n",
    "#     # only certify every args.skip examples, and stop after args.max examples\n",
    "#     if i % args.skip != 0:\n",
    "#         continue\n",
    "#     if i == args.max:\n",
    "#         break\n",
    "\n",
    "    (x, label) = dataset[i]\n",
    "\n",
    "    before_time = time()\n",
    "    x = x.cuda()\n",
    "    prediction, radius = smoothed_classifier.certify(x, args.N0, args.N, args.alpha, args.batch)\n",
    "\n",
    "\n",
    "    correct = (prediction == label).item()\n",
    "    cond1 = radius * args.noise_sd > args.partial_max\n",
    "#     print(cond1.dtype)\n",
    "#     print(correct.dtype)\n",
    "    good = (radius * args.noise_sd > args.partial_max)&correct\n",
    "\n",
    "    tot, tot_good, tot_correct = tot+1, tot_good+good, tot_correct+correct\n",
    "    after_time = time()\n",
    "    time_elapsed = str(datetime.timedelta(seconds=(after_time - before_time)))\n",
    "    print(\"{}\\t{}\\t{}\\t{:.5f}\\t{}\\t{}\\t{}\".format(i, label, prediction, radius, good, correct, time_elapsed))\n",
    "\n",
    "f.close()\n",
    "\n",
    "print(\"Total {} Certified {} Certified Acc {} Test Acc {}\".format(tot, tot_good, tot_good/tot, tot_correct/tot))\n",
    "\n",
    "f = open(args.outfile+'_'+args.dataset+'_'+args.corrupt+'_'+str(args.noise_sd), 'w')\n",
    "print(\"Total {} Certified {} Certified Acc {} Test Acc {}\".format(tot, tot_good, tot_good/tot, tot_correct/tot), file=f, flush=True)\n",
    "f.close()"
   ]
  },
  {
   "cell_type": "markdown",
   "id": "e7765e88",
   "metadata": {},
   "source": [
    "## CIFAR-100"
   ]
  },
  {
   "cell_type": "code",
   "execution_count": 14,
   "id": "7cfa8482",
   "metadata": {},
   "outputs": [
    {
     "name": "stdout",
     "output_type": "stream",
     "text": [
      "idx\tlabel\tpredict\tradius\tgood\tcorrect\ttime\n"
     ]
    },
    {
     "name": "stderr",
     "output_type": "stream",
     "text": [
      "  0%|▎                                                                                                                                        | 1/500 [00:02<21:38,  2.60s/it]"
     ]
    },
    {
     "name": "stdout",
     "output_type": "stream",
     "text": [
      "0\t10\t-1\t0.00000\tFalse\tFalse\t0:00:02.601924\n"
     ]
    },
    {
     "name": "stderr",
     "output_type": "stream",
     "text": [
      "  0%|▌                                                                                                                                        | 2/500 [00:05<21:09,  2.55s/it]"
     ]
    },
    {
     "name": "stdout",
     "output_type": "stream",
     "text": [
      "1\t46\t83\t1.27099\tFalse\tFalse\t0:00:02.508045\n"
     ]
    },
    {
     "name": "stderr",
     "output_type": "stream",
     "text": [
      "  1%|▊                                                                                                                                        | 3/500 [00:07<21:21,  2.58s/it]"
     ]
    },
    {
     "name": "stdout",
     "output_type": "stream",
     "text": [
      "2\t50\t14\t2.46326\tFalse\tFalse\t0:00:02.610049\n"
     ]
    },
    {
     "name": "stderr",
     "output_type": "stream",
     "text": [
      "  1%|█                                                                                                                                        | 4/500 [00:10<21:40,  2.62s/it]"
     ]
    },
    {
     "name": "stdout",
     "output_type": "stream",
     "text": [
      "3\t14\t42\t0.27447\tFalse\tFalse\t0:00:02.685299\n"
     ]
    },
    {
     "name": "stderr",
     "output_type": "stream",
     "text": [
      "  1%|█▎                                                                                                                                       | 5/500 [00:13<21:51,  2.65s/it]"
     ]
    },
    {
     "name": "stdout",
     "output_type": "stream",
     "text": [
      "4\t37\t37\t0.27714\tTrue\tTrue\t0:00:02.696332\n"
     ]
    },
    {
     "name": "stderr",
     "output_type": "stream",
     "text": [
      "  1%|█▋                                                                                                                                       | 6/500 [00:15<21:58,  2.67s/it]"
     ]
    },
    {
     "name": "stdout",
     "output_type": "stream",
     "text": [
      "5\t39\t2\t0.46614\tFalse\tFalse\t0:00:02.705021\n"
     ]
    },
    {
     "name": "stderr",
     "output_type": "stream",
     "text": [
      "  1%|█▉                                                                                                                                       | 7/500 [00:18<21:59,  2.68s/it]"
     ]
    },
    {
     "name": "stdout",
     "output_type": "stream",
     "text": [
      "6\t65\t-1\t0.00000\tFalse\tFalse\t0:00:02.687134\n"
     ]
    },
    {
     "name": "stderr",
     "output_type": "stream",
     "text": [
      "  2%|██▏                                                                                                                                      | 8/500 [00:21<21:38,  2.64s/it]"
     ]
    },
    {
     "name": "stdout",
     "output_type": "stream",
     "text": [
      "7\t25\t-1\t0.00000\tFalse\tFalse\t0:00:02.559079\n"
     ]
    },
    {
     "name": "stderr",
     "output_type": "stream",
     "text": [
      "  2%|██▍                                                                                                                                      | 9/500 [00:23<21:19,  2.61s/it]"
     ]
    },
    {
     "name": "stdout",
     "output_type": "stream",
     "text": [
      "8\t75\t75\t0.46033\tTrue\tTrue\t0:00:02.527296\n"
     ]
    },
    {
     "name": "stderr",
     "output_type": "stream",
     "text": [
      "  2%|██▋                                                                                                                                     | 10/500 [00:26<21:26,  2.62s/it]"
     ]
    },
    {
     "name": "stdout",
     "output_type": "stream",
     "text": [
      "9\t10\t36\t0.13863\tFalse\tFalse\t0:00:02.666881\n"
     ]
    },
    {
     "name": "stderr",
     "output_type": "stream",
     "text": [
      "  2%|██▉                                                                                                                                     | 11/500 [00:29<23:16,  2.86s/it]"
     ]
    },
    {
     "name": "stdout",
     "output_type": "stream",
     "text": [
      "10\t44\t-1\t0.00000\tFalse\tFalse\t0:00:03.375380\n"
     ]
    },
    {
     "name": "stderr",
     "output_type": "stream",
     "text": [
      "  2%|███▎                                                                                                                                    | 12/500 [00:33<24:44,  3.04s/it]"
     ]
    },
    {
     "name": "stdout",
     "output_type": "stream",
     "text": [
      "11\t11\t58\t0.73950\tFalse\tFalse\t0:00:03.461170\n"
     ]
    },
    {
     "name": "stderr",
     "output_type": "stream",
     "text": [
      "  3%|███▌                                                                                                                                    | 13/500 [00:37<26:52,  3.31s/it]"
     ]
    },
    {
     "name": "stdout",
     "output_type": "stream",
     "text": [
      "12\t90\t89\t0.40597\tFalse\tFalse\t0:00:03.927142\n"
     ]
    },
    {
     "name": "stderr",
     "output_type": "stream",
     "text": [
      "  3%|███▊                                                                                                                                    | 14/500 [00:40<28:06,  3.47s/it]"
     ]
    },
    {
     "name": "stdout",
     "output_type": "stream",
     "text": [
      "13\t79\t35\t1.06377\tFalse\tFalse\t0:00:03.834760\n"
     ]
    },
    {
     "name": "stderr",
     "output_type": "stream",
     "text": [
      "  3%|████                                                                                                                                    | 15/500 [00:44<28:56,  3.58s/it]"
     ]
    },
    {
     "name": "stdout",
     "output_type": "stream",
     "text": [
      "14\t52\t-1\t0.00000\tFalse\tFalse\t0:00:03.831460\n"
     ]
    },
    {
     "name": "stderr",
     "output_type": "stream",
     "text": [
      "  3%|████▎                                                                                                                                   | 16/500 [00:48<29:06,  3.61s/it]"
     ]
    },
    {
     "name": "stdout",
     "output_type": "stream",
     "text": [
      "15\t10\t30\t0.64126\tFalse\tFalse\t0:00:03.671114\n"
     ]
    },
    {
     "name": "stderr",
     "output_type": "stream",
     "text": [
      "  3%|████▌                                                                                                                                   | 17/500 [00:52<29:36,  3.68s/it]"
     ]
    },
    {
     "name": "stdout",
     "output_type": "stream",
     "text": [
      "16\t82\t82\t0.51337\tTrue\tTrue\t0:00:03.839383\n"
     ]
    },
    {
     "name": "stderr",
     "output_type": "stream",
     "text": [
      "  4%|████▉                                                                                                                                   | 18/500 [00:55<28:08,  3.50s/it]"
     ]
    },
    {
     "name": "stdout",
     "output_type": "stream",
     "text": [
      "17\t13\t81\t0.68773\tFalse\tFalse\t0:00:03.092339\n"
     ]
    },
    {
     "name": "stderr",
     "output_type": "stream",
     "text": [
      "  4%|█████▏                                                                                                                                  | 19/500 [00:58<26:22,  3.29s/it]"
     ]
    },
    {
     "name": "stdout",
     "output_type": "stream",
     "text": [
      "18\t37\t-1\t0.00000\tFalse\tFalse\t0:00:02.788619\n"
     ]
    },
    {
     "name": "stderr",
     "output_type": "stream",
     "text": [
      "  4%|█████▍                                                                                                                                  | 20/500 [01:00<24:56,  3.12s/it]"
     ]
    },
    {
     "name": "stdout",
     "output_type": "stream",
     "text": [
      "19\t54\t-1\t0.00000\tFalse\tFalse\t0:00:02.718666\n"
     ]
    },
    {
     "name": "stderr",
     "output_type": "stream",
     "text": [
      "  4%|█████▋                                                                                                                                  | 21/500 [01:04<27:07,  3.40s/it]"
     ]
    },
    {
     "name": "stdout",
     "output_type": "stream",
     "text": [
      "20\t95\t30\t0.70818\tFalse\tFalse\t0:00:04.043237\n"
     ]
    },
    {
     "name": "stderr",
     "output_type": "stream",
     "text": [
      "  4%|█████▉                                                                                                                                  | 22/500 [01:08<27:33,  3.46s/it]"
     ]
    },
    {
     "name": "stdout",
     "output_type": "stream",
     "text": [
      "21\t43\t43\t1.61599\tTrue\tTrue\t0:00:03.602526\n"
     ]
    },
    {
     "name": "stderr",
     "output_type": "stream",
     "text": [
      "  5%|██████▎                                                                                                                                 | 23/500 [01:12<29:14,  3.68s/it]"
     ]
    },
    {
     "name": "stdout",
     "output_type": "stream",
     "text": [
      "22\t0\t0\t2.46326\tTrue\tTrue\t0:00:04.183777\n"
     ]
    },
    {
     "name": "stderr",
     "output_type": "stream",
     "text": [
      "  5%|██████▌                                                                                                                                 | 24/500 [01:17<31:31,  3.97s/it]"
     ]
    },
    {
     "name": "stdout",
     "output_type": "stream",
     "text": [
      "23\t1\t-1\t0.00000\tFalse\tFalse\t0:00:04.659002\n"
     ]
    },
    {
     "name": "stderr",
     "output_type": "stream",
     "text": [
      "  5%|██████▊                                                                                                                                 | 25/500 [01:21<32:52,  4.15s/it]"
     ]
    },
    {
     "name": "stdout",
     "output_type": "stream",
     "text": [
      "24\t94\t94\t2.46326\tTrue\tTrue\t0:00:04.568942\n"
     ]
    },
    {
     "name": "stderr",
     "output_type": "stream",
     "text": [
      "  5%|███████                                                                                                                                 | 26/500 [01:26<33:21,  4.22s/it]"
     ]
    },
    {
     "name": "stdout",
     "output_type": "stream",
     "text": [
      "25\t82\t-1\t0.00000\tFalse\tFalse\t0:00:04.381784\n"
     ]
    },
    {
     "name": "stderr",
     "output_type": "stream",
     "text": [
      "  5%|███████▎                                                                                                                                | 27/500 [01:29<31:57,  4.05s/it]"
     ]
    },
    {
     "name": "stdout",
     "output_type": "stream",
     "text": [
      "26\t39\t39\t0.16953\tTrue\tTrue\t0:00:03.661063\n"
     ]
    },
    {
     "name": "stderr",
     "output_type": "stream",
     "text": [
      "  6%|███████▌                                                                                                                                | 28/500 [01:33<30:11,  3.84s/it]"
     ]
    },
    {
     "name": "stdout",
     "output_type": "stream",
     "text": [
      "27\t92\t83\t0.60583\tFalse\tFalse\t0:00:03.327396\n"
     ]
    },
    {
     "name": "stderr",
     "output_type": "stream",
     "text": [
      "  6%|███████▉                                                                                                                                | 29/500 [01:37<30:13,  3.85s/it]"
     ]
    },
    {
     "name": "stdout",
     "output_type": "stream",
     "text": [
      "28\t61\t-1\t0.00000\tFalse\tFalse\t0:00:03.881176\n"
     ]
    },
    {
     "name": "stderr",
     "output_type": "stream",
     "text": [
      "  6%|████████▏                                                                                                                               | 30/500 [01:40<28:37,  3.66s/it]"
     ]
    },
    {
     "name": "stdout",
     "output_type": "stream",
     "text": [
      "29\t93\t-1\t0.00000\tFalse\tFalse\t0:00:03.196670\n"
     ]
    },
    {
     "name": "stderr",
     "output_type": "stream",
     "text": [
      "  6%|████████▍                                                                                                                               | 31/500 [01:43<27:39,  3.54s/it]"
     ]
    },
    {
     "name": "stdout",
     "output_type": "stream",
     "text": [
      "30\t89\t85\t1.35356\tFalse\tFalse\t0:00:03.261274\n"
     ]
    },
    {
     "name": "stderr",
     "output_type": "stream",
     "text": [
      "  6%|████████▋                                                                                                                               | 32/500 [01:47<27:52,  3.57s/it]"
     ]
    },
    {
     "name": "stdout",
     "output_type": "stream",
     "text": [
      "31\t42\t-1\t0.00000\tFalse\tFalse\t0:00:03.655720\n"
     ]
    },
    {
     "name": "stderr",
     "output_type": "stream",
     "text": [
      "  7%|████████▉                                                                                                                               | 33/500 [01:50<27:54,  3.59s/it]"
     ]
    },
    {
     "name": "stdout",
     "output_type": "stream",
     "text": [
      "32\t29\t29\t2.09799\tTrue\tTrue\t0:00:03.614758\n"
     ]
    },
    {
     "name": "stderr",
     "output_type": "stream",
     "text": [
      "  7%|█████████▏                                                                                                                              | 34/500 [01:54<27:31,  3.54s/it]"
     ]
    },
    {
     "name": "stdout",
     "output_type": "stream",
     "text": [
      "33\t63\t-1\t0.00000\tFalse\tFalse\t0:00:03.438058\n"
     ]
    },
    {
     "name": "stderr",
     "output_type": "stream",
     "text": [
      "  7%|█████████▌                                                                                                                              | 35/500 [01:57<26:54,  3.47s/it]"
     ]
    },
    {
     "name": "stdout",
     "output_type": "stream",
     "text": [
      "34\t36\t35\t0.24527\tFalse\tFalse\t0:00:03.303637\n"
     ]
    },
    {
     "name": "stderr",
     "output_type": "stream",
     "text": [
      "  7%|█████████▊                                                                                                                              | 36/500 [02:01<27:15,  3.53s/it]"
     ]
    },
    {
     "name": "stdout",
     "output_type": "stream",
     "text": [
      "35\t51\t62\t0.01176\tFalse\tFalse\t0:00:03.648069\n"
     ]
    },
    {
     "name": "stderr",
     "output_type": "stream",
     "text": [
      "  7%|██████████                                                                                                                              | 37/500 [02:04<26:47,  3.47s/it]"
     ]
    },
    {
     "name": "stdout",
     "output_type": "stream",
     "text": [
      "36\t44\t18\t0.43725\tFalse\tFalse\t0:00:03.346687\n"
     ]
    },
    {
     "name": "stderr",
     "output_type": "stream",
     "text": [
      "  8%|██████████▎                                                                                                                             | 38/500 [02:08<28:44,  3.73s/it]"
     ]
    },
    {
     "name": "stdout",
     "output_type": "stream",
     "text": [
      "37\t16\t-1\t0.00000\tFalse\tFalse\t0:00:04.338061\n"
     ]
    },
    {
     "name": "stderr",
     "output_type": "stream",
     "text": [
      "  8%|██████████▌                                                                                                                             | 39/500 [02:14<32:11,  4.19s/it]"
     ]
    },
    {
     "name": "stdout",
     "output_type": "stream",
     "text": [
      "38\t67\t67\t0.38911\tTrue\tTrue\t0:00:05.254068\n"
     ]
    },
    {
     "name": "stderr",
     "output_type": "stream",
     "text": [
      "  8%|██████████▉                                                                                                                             | 40/500 [02:19<34:38,  4.52s/it]"
     ]
    },
    {
     "name": "stdout",
     "output_type": "stream",
     "text": [
      "39\t36\t36\t0.53446\tTrue\tTrue\t0:00:05.280705\n"
     ]
    },
    {
     "name": "stderr",
     "output_type": "stream",
     "text": [
      "  8%|███████████▏                                                                                                                            | 41/500 [02:25<37:37,  4.92s/it]"
     ]
    },
    {
     "name": "stdout",
     "output_type": "stream",
     "text": [
      "40\t76\t-1\t0.00000\tFalse\tFalse\t0:00:05.848334\n"
     ]
    },
    {
     "name": "stderr",
     "output_type": "stream",
     "text": [
      "  8%|███████████▍                                                                                                                            | 42/500 [02:30<38:55,  5.10s/it]"
     ]
    },
    {
     "name": "stdout",
     "output_type": "stream",
     "text": [
      "41\t73\t-1\t0.00000\tFalse\tFalse\t0:00:05.514757\n"
     ]
    },
    {
     "name": "stderr",
     "output_type": "stream",
     "text": [
      "  9%|███████████▋                                                                                                                            | 43/500 [02:36<39:22,  5.17s/it]"
     ]
    },
    {
     "name": "stdout",
     "output_type": "stream",
     "text": [
      "42\t31\t37\t0.02183\tFalse\tFalse\t0:00:05.335245\n"
     ]
    },
    {
     "name": "stderr",
     "output_type": "stream",
     "text": [
      "  9%|███████████▉                                                                                                                            | 44/500 [02:42<40:51,  5.38s/it]"
     ]
    },
    {
     "name": "stdout",
     "output_type": "stream",
     "text": [
      "43\t32\t32\t1.02065\tTrue\tTrue\t0:00:05.851394\n"
     ]
    },
    {
     "name": "stderr",
     "output_type": "stream",
     "text": [
      "  9%|████████████▏                                                                                                                           | 45/500 [02:46<38:08,  5.03s/it]"
     ]
    },
    {
     "name": "stdout",
     "output_type": "stream",
     "text": [
      "44\t97\t23\t0.67763\tFalse\tFalse\t0:00:04.217204\n"
     ]
    },
    {
     "name": "stderr",
     "output_type": "stream",
     "text": [
      "  9%|████████████▌                                                                                                                           | 46/500 [02:50<36:05,  4.77s/it]"
     ]
    },
    {
     "name": "stdout",
     "output_type": "stream",
     "text": [
      "45\t37\t81\t0.69791\tFalse\tFalse\t0:00:04.164809\n"
     ]
    },
    {
     "name": "stderr",
     "output_type": "stream",
     "text": [
      "  9%|████████████▊                                                                                                                           | 47/500 [02:54<33:58,  4.50s/it]"
     ]
    },
    {
     "name": "stdout",
     "output_type": "stream",
     "text": [
      "46\t98\t-1\t0.00000\tFalse\tFalse\t0:00:03.865469\n"
     ]
    },
    {
     "name": "stderr",
     "output_type": "stream",
     "text": [
      " 10%|█████████████                                                                                                                           | 48/500 [02:58<32:39,  4.33s/it]"
     ]
    },
    {
     "name": "stdout",
     "output_type": "stream",
     "text": [
      "47\t56\t56\t1.35356\tTrue\tTrue\t0:00:03.948705\n"
     ]
    },
    {
     "name": "stderr",
     "output_type": "stream",
     "text": [
      " 10%|█████████████▎                                                                                                                          | 49/500 [03:02<33:09,  4.41s/it]"
     ]
    },
    {
     "name": "stdout",
     "output_type": "stream",
     "text": [
      "48\t51\t-1\t0.00000\tFalse\tFalse\t0:00:04.582669\n"
     ]
    },
    {
     "name": "stderr",
     "output_type": "stream",
     "text": [
      " 10%|█████████████▌                                                                                                                          | 50/500 [03:07<33:39,  4.49s/it]"
     ]
    },
    {
     "name": "stdout",
     "output_type": "stream",
     "text": [
      "49\t76\t95\t0.20067\tFalse\tFalse\t0:00:04.661350\n"
     ]
    },
    {
     "name": "stderr",
     "output_type": "stream",
     "text": [
      " 10%|█████████████▊                                                                                                                          | 51/500 [03:12<33:29,  4.48s/it]"
     ]
    },
    {
     "name": "stdout",
     "output_type": "stream",
     "text": [
      "50\t87\t70\t0.54053\tFalse\tFalse\t0:00:04.449979\n"
     ]
    },
    {
     "name": "stderr",
     "output_type": "stream",
     "text": [
      " 10%|██████████████▏                                                                                                                         | 52/500 [03:16<33:11,  4.44s/it]"
     ]
    },
    {
     "name": "stdout",
     "output_type": "stream",
     "text": [
      "51\t81\t81\t0.10284\tTrue\tTrue\t0:00:04.367339\n"
     ]
    },
    {
     "name": "stderr",
     "output_type": "stream",
     "text": [
      " 11%|██████████████▍                                                                                                                         | 53/500 [03:20<32:38,  4.38s/it]"
     ]
    },
    {
     "name": "stdout",
     "output_type": "stream",
     "text": [
      "52\t33\t-1\t0.00000\tFalse\tFalse\t0:00:04.232322\n"
     ]
    },
    {
     "name": "stderr",
     "output_type": "stream",
     "text": [
      " 11%|██████████████▋                                                                                                                         | 54/500 [03:24<31:00,  4.17s/it]"
     ]
    },
    {
     "name": "stdout",
     "output_type": "stream",
     "text": [
      "53\t90\t-1\t0.00000\tFalse\tFalse\t0:00:03.680738\n"
     ]
    },
    {
     "name": "stderr",
     "output_type": "stream",
     "text": [
      " 11%|██████████████▉                                                                                                                         | 55/500 [03:27<29:04,  3.92s/it]"
     ]
    },
    {
     "name": "stdout",
     "output_type": "stream",
     "text": [
      "54\t33\t33\t2.46326\tTrue\tTrue\t0:00:03.332076\n"
     ]
    },
    {
     "name": "stderr",
     "output_type": "stream",
     "text": [
      " 11%|███████████████▏                                                                                                                        | 56/500 [03:31<28:22,  3.83s/it]"
     ]
    },
    {
     "name": "stdout",
     "output_type": "stream",
     "text": [
      "55\t86\t39\t2.46326\tFalse\tFalse\t0:00:03.630256\n"
     ]
    },
    {
     "name": "stderr",
     "output_type": "stream",
     "text": [
      " 11%|███████████████▌                                                                                                                        | 57/500 [03:34<27:52,  3.78s/it]"
     ]
    },
    {
     "name": "stdout",
     "output_type": "stream",
     "text": [
      "56\t51\t-1\t0.00000\tFalse\tFalse\t0:00:03.638378\n"
     ]
    },
    {
     "name": "stderr",
     "output_type": "stream",
     "text": [
      " 12%|███████████████▊                                                                                                                        | 58/500 [03:38<27:37,  3.75s/it]"
     ]
    },
    {
     "name": "stdout",
     "output_type": "stream",
     "text": [
      "57\t16\t16\t2.46326\tTrue\tTrue\t0:00:03.690565\n"
     ]
    },
    {
     "name": "stderr",
     "output_type": "stream",
     "text": [
      " 12%|████████████████                                                                                                                        | 59/500 [03:41<26:42,  3.63s/it]"
     ]
    },
    {
     "name": "stdout",
     "output_type": "stream",
     "text": [
      "58\t82\t82\t2.46326\tTrue\tTrue\t0:00:03.360368\n"
     ]
    },
    {
     "name": "stderr",
     "output_type": "stream",
     "text": [
      " 12%|████████████████▎                                                                                                                       | 60/500 [03:45<26:39,  3.64s/it]"
     ]
    },
    {
     "name": "stdout",
     "output_type": "stream",
     "text": [
      "59\t73\t73\t2.46326\tTrue\tTrue\t0:00:03.635761\n"
     ]
    },
    {
     "name": "stderr",
     "output_type": "stream",
     "text": [
      " 12%|████████████████▌                                                                                                                       | 61/500 [03:49<26:18,  3.60s/it]"
     ]
    },
    {
     "name": "stdout",
     "output_type": "stream",
     "text": [
      "60\t12\t37\t0.18507\tFalse\tFalse\t0:00:03.501400\n"
     ]
    },
    {
     "name": "stderr",
     "output_type": "stream",
     "text": [
      " 12%|████████████████▊                                                                                                                       | 62/500 [03:52<26:02,  3.57s/it]"
     ]
    },
    {
     "name": "stdout",
     "output_type": "stream",
     "text": [
      "61\t4\t88\t1.13571\tFalse\tFalse\t0:00:03.496563\n"
     ]
    },
    {
     "name": "stderr",
     "output_type": "stream",
     "text": [
      " 13%|█████████████████▏                                                                                                                      | 63/500 [03:56<27:36,  3.79s/it]"
     ]
    },
    {
     "name": "stdout",
     "output_type": "stream",
     "text": [
      "62\t65\t-1\t0.00000\tFalse\tFalse\t0:00:04.314239\n"
     ]
    },
    {
     "name": "stderr",
     "output_type": "stream",
     "text": [
      " 13%|█████████████████▍                                                                                                                      | 64/500 [04:01<28:16,  3.89s/it]"
     ]
    },
    {
     "name": "stdout",
     "output_type": "stream",
     "text": [
      "63\t17\t37\t0.30129\tFalse\tFalse\t0:00:04.117969\n"
     ]
    },
    {
     "name": "stderr",
     "output_type": "stream",
     "text": [
      " 13%|█████████████████▋                                                                                                                      | 65/500 [04:06<31:03,  4.28s/it]"
     ]
    },
    {
     "name": "stdout",
     "output_type": "stream",
     "text": [
      "64\t46\t-1\t0.00000\tFalse\tFalse\t0:00:05.197214\n"
     ]
    },
    {
     "name": "stderr",
     "output_type": "stream",
     "text": [
      " 13%|█████████████████▉                                                                                                                      | 66/500 [04:11<32:24,  4.48s/it]"
     ]
    },
    {
     "name": "stdout",
     "output_type": "stream",
     "text": [
      "65\t34\t-1\t0.00000\tFalse\tFalse\t0:00:04.934748\n"
     ]
    },
    {
     "name": "stderr",
     "output_type": "stream",
     "text": [
      " 13%|██████████████████▏                                                                                                                     | 67/500 [04:15<33:00,  4.57s/it]"
     ]
    },
    {
     "name": "stdout",
     "output_type": "stream",
     "text": [
      "66\t56\t56\t2.46326\tTrue\tTrue\t0:00:04.791116\n"
     ]
    },
    {
     "name": "stderr",
     "output_type": "stream",
     "text": [
      " 14%|██████████████████▍                                                                                                                     | 68/500 [04:20<32:33,  4.52s/it]"
     ]
    },
    {
     "name": "stdout",
     "output_type": "stream",
     "text": [
      "67\t5\t5\t1.10927\tTrue\tTrue\t0:00:04.391913\n"
     ]
    },
    {
     "name": "stderr",
     "output_type": "stream",
     "text": [
      " 14%|██████████████████▊                                                                                                                     | 69/500 [04:24<32:17,  4.49s/it]"
     ]
    },
    {
     "name": "stdout",
     "output_type": "stream",
     "text": [
      "68\t73\t73\t0.36683\tTrue\tTrue\t0:00:04.430552\n"
     ]
    },
    {
     "name": "stderr",
     "output_type": "stream",
     "text": [
      " 14%|███████████████████                                                                                                                     | 70/500 [04:29<32:43,  4.57s/it]"
     ]
    },
    {
     "name": "stdout",
     "output_type": "stream",
     "text": [
      "69\t47\t52\t0.24791\tFalse\tFalse\t0:00:04.726846\n"
     ]
    },
    {
     "name": "stderr",
     "output_type": "stream",
     "text": [
      " 14%|███████████████████▎                                                                                                                    | 71/500 [04:33<32:07,  4.49s/it]"
     ]
    },
    {
     "name": "stdout",
     "output_type": "stream",
     "text": [
      "70\t60\t60\t2.46326\tTrue\tTrue\t0:00:04.324316\n"
     ]
    },
    {
     "name": "stderr",
     "output_type": "stream",
     "text": [
      " 14%|███████████████████▌                                                                                                                    | 72/500 [04:37<30:56,  4.34s/it]"
     ]
    },
    {
     "name": "stdout",
     "output_type": "stream",
     "text": [
      "71\t29\t85\t0.07488\tFalse\tFalse\t0:00:03.966667\n"
     ]
    },
    {
     "name": "stderr",
     "output_type": "stream",
     "text": [
      " 15%|███████████████████▊                                                                                                                    | 73/500 [04:41<29:26,  4.14s/it]"
     ]
    },
    {
     "name": "stdout",
     "output_type": "stream",
     "text": [
      "72\t16\t-1\t0.00000\tFalse\tFalse\t0:00:03.673290\n"
     ]
    },
    {
     "name": "stderr",
     "output_type": "stream",
     "text": [
      " 15%|████████████████████▏                                                                                                                   | 74/500 [04:45<29:39,  4.18s/it]"
     ]
    },
    {
     "name": "stdout",
     "output_type": "stream",
     "text": [
      "73\t53\t-1\t0.00000\tFalse\tFalse\t0:00:04.267962\n"
     ]
    },
    {
     "name": "stderr",
     "output_type": "stream",
     "text": [
      " 15%|████████████████████▍                                                                                                                   | 75/500 [04:51<32:05,  4.53s/it]"
     ]
    },
    {
     "name": "stdout",
     "output_type": "stream",
     "text": [
      "74\t67\t24\t0.24263\tFalse\tFalse\t0:00:05.351610\n"
     ]
    },
    {
     "name": "stderr",
     "output_type": "stream",
     "text": [
      " 15%|████████████████████▋                                                                                                                   | 76/500 [04:56<33:39,  4.76s/it]"
     ]
    },
    {
     "name": "stdout",
     "output_type": "stream",
     "text": [
      "75\t2\t-1\t0.00000\tFalse\tFalse\t0:00:05.298852\n"
     ]
    },
    {
     "name": "stderr",
     "output_type": "stream",
     "text": [
      " 15%|████████████████████▉                                                                                                                   | 77/500 [05:01<35:16,  5.00s/it]"
     ]
    },
    {
     "name": "stdout",
     "output_type": "stream",
     "text": [
      "76\t63\t-1\t0.00000\tFalse\tFalse\t0:00:05.562020\n"
     ]
    },
    {
     "name": "stderr",
     "output_type": "stream",
     "text": [
      " 16%|█████████████████████▏                                                                                                                  | 78/500 [05:05<32:42,  4.65s/it]"
     ]
    },
    {
     "name": "stdout",
     "output_type": "stream",
     "text": [
      "77\t82\t82\t2.46326\tTrue\tTrue\t0:00:03.823272\n"
     ]
    },
    {
     "name": "stderr",
     "output_type": "stream",
     "text": [
      " 16%|█████████████████████▍                                                                                                                  | 79/500 [05:09<31:00,  4.42s/it]"
     ]
    },
    {
     "name": "stdout",
     "output_type": "stream",
     "text": [
      "78\t79\t79\t0.85842\tTrue\tTrue\t0:00:03.878723\n"
     ]
    },
    {
     "name": "stderr",
     "output_type": "stream",
     "text": [
      " 16%|█████████████████████▊                                                                                                                  | 80/500 [05:13<29:39,  4.24s/it]"
     ]
    },
    {
     "name": "stdout",
     "output_type": "stream",
     "text": [
      "79\t98\t98\t0.45453\tTrue\tTrue\t0:00:03.805719\n"
     ]
    },
    {
     "name": "stderr",
     "output_type": "stream",
     "text": [
      " 16%|██████████████████████                                                                                                                  | 81/500 [05:16<28:01,  4.01s/it]"
     ]
    },
    {
     "name": "stdout",
     "output_type": "stream",
     "text": [
      "80\t3\t21\t0.03947\tFalse\tFalse\t0:00:03.489435\n"
     ]
    },
    {
     "name": "stderr",
     "output_type": "stream",
     "text": [
      " 16%|██████████████████████▎                                                                                                                 | 82/500 [05:20<27:09,  3.90s/it]"
     ]
    },
    {
     "name": "stdout",
     "output_type": "stream",
     "text": [
      "81\t42\t42\t2.46326\tTrue\tTrue\t0:00:03.628221\n"
     ]
    },
    {
     "name": "stderr",
     "output_type": "stream",
     "text": [
      " 17%|██████████████████████▌                                                                                                                 | 83/500 [05:24<26:37,  3.83s/it]"
     ]
    },
    {
     "name": "stdout",
     "output_type": "stream",
     "text": [
      "82\t55\t86\t2.46326\tFalse\tFalse\t0:00:03.671225\n"
     ]
    },
    {
     "name": "stderr",
     "output_type": "stream",
     "text": [
      " 17%|██████████████████████▊                                                                                                                 | 84/500 [05:27<25:43,  3.71s/it]"
     ]
    },
    {
     "name": "stdout",
     "output_type": "stream",
     "text": [
      "83\t48\t48\t2.46326\tTrue\tTrue\t0:00:03.426986\n"
     ]
    },
    {
     "name": "stderr",
     "output_type": "stream",
     "text": [
      " 17%|███████████████████████                                                                                                                 | 85/500 [05:31<24:53,  3.60s/it]"
     ]
    },
    {
     "name": "stdout",
     "output_type": "stream",
     "text": [
      "84\t82\t82\t0.42297\tTrue\tTrue\t0:00:03.334017\n"
     ]
    },
    {
     "name": "stderr",
     "output_type": "stream",
     "text": [
      " 17%|███████████████████████▍                                                                                                                | 86/500 [05:34<24:41,  3.58s/it]"
     ]
    },
    {
     "name": "stdout",
     "output_type": "stream",
     "text": [
      "85\t41\t41\t2.46326\tTrue\tTrue\t0:00:03.534727\n"
     ]
    },
    {
     "name": "stderr",
     "output_type": "stream",
     "text": [
      " 17%|███████████████████████▋                                                                                                                | 87/500 [05:38<24:30,  3.56s/it]"
     ]
    },
    {
     "name": "stdout",
     "output_type": "stream",
     "text": [
      "86\t51\t78\t0.31480\tFalse\tFalse\t0:00:03.510465\n"
     ]
    },
    {
     "name": "stderr",
     "output_type": "stream",
     "text": [
      " 18%|███████████████████████▉                                                                                                                | 88/500 [05:41<24:28,  3.57s/it]"
     ]
    },
    {
     "name": "stdout",
     "output_type": "stream",
     "text": [
      "87\t88\t32\t0.39471\tFalse\tFalse\t0:00:03.577192\n"
     ]
    },
    {
     "name": "stderr",
     "output_type": "stream",
     "text": [
      " 18%|████████████████████████▏                                                                                                               | 89/500 [05:45<25:13,  3.68s/it]"
     ]
    },
    {
     "name": "stdout",
     "output_type": "stream",
     "text": [
      "88\t98\t-1\t0.00000\tFalse\tFalse\t0:00:03.954416\n"
     ]
    },
    {
     "name": "stderr",
     "output_type": "stream",
     "text": [
      " 18%|████████████████████████▍                                                                                                               | 90/500 [05:50<26:47,  3.92s/it]"
     ]
    },
    {
     "name": "stdout",
     "output_type": "stream",
     "text": [
      "89\t24\t28\t0.71162\tFalse\tFalse\t0:00:04.476167\n"
     ]
    },
    {
     "name": "stderr",
     "output_type": "stream",
     "text": [
      " 18%|████████████████████████▊                                                                                                               | 91/500 [05:55<28:59,  4.25s/it]"
     ]
    },
    {
     "name": "stdout",
     "output_type": "stream",
     "text": [
      "90\t52\t52\t1.62766\tTrue\tTrue\t0:00:05.020768\n"
     ]
    },
    {
     "name": "stderr",
     "output_type": "stream",
     "text": [
      " 18%|█████████████████████████                                                                                                               | 92/500 [06:00<32:05,  4.72s/it]"
     ]
    },
    {
     "name": "stdout",
     "output_type": "stream",
     "text": [
      "91\t54\t-1\t0.00000\tFalse\tFalse\t0:00:05.809094\n"
     ]
    },
    {
     "name": "stderr",
     "output_type": "stream",
     "text": [
      " 19%|█████████████████████████▎                                                                                                              | 93/500 [06:06<34:20,  5.06s/it]"
     ]
    },
    {
     "name": "stdout",
     "output_type": "stream",
     "text": [
      "92\t42\t42\t0.24791\tTrue\tTrue\t0:00:05.857730\n"
     ]
    },
    {
     "name": "stderr",
     "output_type": "stream",
     "text": [
      " 19%|█████████████████████████▌                                                                                                              | 94/500 [06:12<35:50,  5.30s/it]"
     ]
    },
    {
     "name": "stdout",
     "output_type": "stream",
     "text": [
      "93\t81\t58\t0.31209\tFalse\tFalse\t0:00:05.841583\n"
     ]
    },
    {
     "name": "stderr",
     "output_type": "stream",
     "text": [
      " 19%|█████████████████████████▊                                                                                                              | 95/500 [06:18<36:09,  5.36s/it]"
     ]
    },
    {
     "name": "stdout",
     "output_type": "stream",
     "text": [
      "94\t52\t-1\t0.00000\tFalse\tFalse\t0:00:05.490952\n"
     ]
    },
    {
     "name": "stderr",
     "output_type": "stream",
     "text": [
      " 19%|██████████████████████████                                                                                                              | 96/500 [06:23<35:41,  5.30s/it]"
     ]
    },
    {
     "name": "stdout",
     "output_type": "stream",
     "text": [
      "95\t94\t94\t2.46326\tTrue\tTrue\t0:00:05.169406\n"
     ]
    },
    {
     "name": "stderr",
     "output_type": "stream",
     "text": [
      " 19%|██████████████████████████▍                                                                                                             | 97/500 [06:27<32:47,  4.88s/it]"
     ]
    },
    {
     "name": "stdout",
     "output_type": "stream",
     "text": [
      "96\t19\t-1\t0.00000\tFalse\tFalse\t0:00:03.897399\n"
     ]
    },
    {
     "name": "stderr",
     "output_type": "stream",
     "text": [
      " 20%|██████████████████████████▋                                                                                                             | 98/500 [06:31<30:47,  4.60s/it]"
     ]
    },
    {
     "name": "stdout",
     "output_type": "stream",
     "text": [
      "97\t70\t70\t0.73950\tTrue\tTrue\t0:00:03.926480\n"
     ]
    },
    {
     "name": "stderr",
     "output_type": "stream",
     "text": [
      " 20%|██████████████████████████▉                                                                                                             | 99/500 [06:34<28:25,  4.25s/it]"
     ]
    },
    {
     "name": "stdout",
     "output_type": "stream",
     "text": [
      "98\t26\t29\t2.46326\tFalse\tFalse\t0:00:03.453614\n"
     ]
    },
    {
     "name": "stderr",
     "output_type": "stream",
     "text": [
      " 20%|███████████████████████████                                                                                                            | 100/500 [06:38<27:48,  4.17s/it]"
     ]
    },
    {
     "name": "stdout",
     "output_type": "stream",
     "text": [
      "99\t46\t46\t1.18572\tTrue\tTrue\t0:00:03.977600\n"
     ]
    },
    {
     "name": "stderr",
     "output_type": "stream",
     "text": [
      " 20%|███████████████████████████▎                                                                                                           | 101/500 [06:42<27:59,  4.21s/it]"
     ]
    },
    {
     "name": "stdout",
     "output_type": "stream",
     "text": [
      "100\t55\t-1\t0.00000\tFalse\tFalse\t0:00:04.291119\n"
     ]
    },
    {
     "name": "stderr",
     "output_type": "stream",
     "text": [
      " 20%|███████████████████████████▌                                                                                                           | 102/500 [06:47<29:27,  4.44s/it]"
     ]
    },
    {
     "name": "stdout",
     "output_type": "stream",
     "text": [
      "101\t47\t47\t0.05463\tFalse\tTrue\t0:00:04.983627\n"
     ]
    },
    {
     "name": "stderr",
     "output_type": "stream",
     "text": [
      " 21%|███████████████████████████▊                                                                                                           | 103/500 [06:52<29:55,  4.52s/it]"
     ]
    },
    {
     "name": "stdout",
     "output_type": "stream",
     "text": [
      "102\t41\t-1\t0.00000\tFalse\tFalse\t0:00:04.711854\n"
     ]
    },
    {
     "name": "stderr",
     "output_type": "stream",
     "text": [
      " 21%|████████████████████████████                                                                                                           | 104/500 [06:56<29:32,  4.48s/it]"
     ]
    },
    {
     "name": "stdout",
     "output_type": "stream",
     "text": [
      "103\t70\t70\t2.46326\tTrue\tTrue\t0:00:04.360907\n"
     ]
    },
    {
     "name": "stderr",
     "output_type": "stream",
     "text": [
      " 21%|████████████████████████████▎                                                                                                          | 105/500 [07:00<27:17,  4.15s/it]"
     ]
    },
    {
     "name": "stdout",
     "output_type": "stream",
     "text": [
      "104\t82\t-1\t0.00000\tFalse\tFalse\t0:00:03.373206\n"
     ]
    },
    {
     "name": "stderr",
     "output_type": "stream",
     "text": [
      " 21%|████████████████████████████▌                                                                                                          | 106/500 [07:03<26:15,  4.00s/it]"
     ]
    },
    {
     "name": "stdout",
     "output_type": "stream",
     "text": [
      "105\t49\t-1\t0.00000\tFalse\tFalse\t0:00:03.656012\n"
     ]
    },
    {
     "name": "stderr",
     "output_type": "stream",
     "text": [
      " 21%|████████████████████████████▉                                                                                                          | 107/500 [07:07<25:03,  3.82s/it]"
     ]
    },
    {
     "name": "stdout",
     "output_type": "stream",
     "text": [
      "106\t94\t94\t0.26914\tTrue\tTrue\t0:00:03.414445\n"
     ]
    },
    {
     "name": "stderr",
     "output_type": "stream",
     "text": [
      " 22%|█████████████████████████████▏                                                                                                         | 108/500 [07:10<24:13,  3.71s/it]"
     ]
    },
    {
     "name": "stdout",
     "output_type": "stream",
     "text": [
      "107\t9\t9\t0.75727\tTrue\tTrue\t0:00:03.435148\n"
     ]
    },
    {
     "name": "stderr",
     "output_type": "stream",
     "text": [
      " 22%|█████████████████████████████▍                                                                                                         | 109/500 [07:14<23:48,  3.65s/it]"
     ]
    },
    {
     "name": "stdout",
     "output_type": "stream",
     "text": [
      "108\t70\t82\t0.25851\tFalse\tFalse\t0:00:03.525220\n"
     ]
    },
    {
     "name": "stderr",
     "output_type": "stream",
     "text": [
      " 22%|█████████████████████████████▋                                                                                                         | 110/500 [07:18<23:43,  3.65s/it]"
     ]
    },
    {
     "name": "stdout",
     "output_type": "stream",
     "text": [
      "109\t97\t-1\t0.00000\tFalse\tFalse\t0:00:03.636846\n"
     ]
    },
    {
     "name": "stderr",
     "output_type": "stream",
     "text": [
      " 22%|█████████████████████████████▉                                                                                                         | 111/500 [07:21<23:12,  3.58s/it]"
     ]
    },
    {
     "name": "stdout",
     "output_type": "stream",
     "text": [
      "110\t16\t-1\t0.00000\tFalse\tFalse\t0:00:03.418875\n"
     ]
    },
    {
     "name": "stderr",
     "output_type": "stream",
     "text": [
      " 22%|██████████████████████████████▏                                                                                                        | 112/500 [07:25<23:18,  3.60s/it]"
     ]
    },
    {
     "name": "stdout",
     "output_type": "stream",
     "text": [
      "111\t41\t81\t0.93180\tFalse\tFalse\t0:00:03.653802\n"
     ]
    },
    {
     "name": "stderr",
     "output_type": "stream",
     "text": [
      " 23%|██████████████████████████████▌                                                                                                        | 113/500 [07:28<22:55,  3.55s/it]"
     ]
    },
    {
     "name": "stdout",
     "output_type": "stream",
     "text": [
      "112\t34\t31\t0.75013\tFalse\tFalse\t0:00:03.438787\n"
     ]
    },
    {
     "name": "stderr",
     "output_type": "stream",
     "text": [
      " 23%|██████████████████████████████▊                                                                                                        | 114/500 [07:32<23:27,  3.65s/it]"
     ]
    },
    {
     "name": "stdout",
     "output_type": "stream",
     "text": [
      "113\t80\t97\t1.35356\tFalse\tFalse\t0:00:03.855134\n"
     ]
    },
    {
     "name": "stderr",
     "output_type": "stream",
     "text": [
      " 23%|███████████████████████████████                                                                                                        | 115/500 [07:36<24:13,  3.77s/it]"
     ]
    },
    {
     "name": "stdout",
     "output_type": "stream",
     "text": [
      "114\t28\t28\t0.80854\tTrue\tTrue\t0:00:04.074583\n"
     ]
    },
    {
     "name": "stderr",
     "output_type": "stream",
     "text": [
      " 23%|███████████████████████████████▎                                                                                                       | 116/500 [07:41<25:59,  4.06s/it]"
     ]
    },
    {
     "name": "stdout",
     "output_type": "stream",
     "text": [
      "115\t34\t77\t0.12582\tFalse\tFalse\t0:00:04.725659\n"
     ]
    },
    {
     "name": "stderr",
     "output_type": "stream",
     "text": [
      " 23%|███████████████████████████████▌                                                                                                       | 117/500 [07:45<27:03,  4.24s/it]"
     ]
    },
    {
     "name": "stdout",
     "output_type": "stream",
     "text": [
      "116\t48\t-1\t0.00000\tFalse\tFalse\t0:00:04.650185\n"
     ]
    },
    {
     "name": "stderr",
     "output_type": "stream",
     "text": [
      " 24%|███████████████████████████████▊                                                                                                       | 118/500 [07:50<27:56,  4.39s/it]"
     ]
    },
    {
     "name": "stdout",
     "output_type": "stream",
     "text": [
      "117\t80\t80\t1.31790\tTrue\tTrue\t0:00:04.734286\n"
     ]
    },
    {
     "name": "stderr",
     "output_type": "stream",
     "text": [
      " 24%|████████████████████████████████▏                                                                                                      | 119/500 [07:55<28:15,  4.45s/it]"
     ]
    },
    {
     "name": "stdout",
     "output_type": "stream",
     "text": [
      "118\t69\t-1\t0.00000\tFalse\tFalse\t0:00:04.588473\n"
     ]
    },
    {
     "name": "stderr",
     "output_type": "stream",
     "text": [
      " 24%|████████████████████████████████▍                                                                                                      | 120/500 [07:59<28:45,  4.54s/it]"
     ]
    },
    {
     "name": "stdout",
     "output_type": "stream",
     "text": [
      "119\t2\t2\t0.78261\tTrue\tTrue\t0:00:04.749480\n"
     ]
    },
    {
     "name": "stderr",
     "output_type": "stream",
     "text": [
      " 24%|████████████████████████████████▋                                                                                                      | 121/500 [08:04<28:43,  4.55s/it]"
     ]
    },
    {
     "name": "stdout",
     "output_type": "stream",
     "text": [
      "120\t38\t36\t0.80480\tFalse\tFalse\t0:00:04.563167\n"
     ]
    },
    {
     "name": "stderr",
     "output_type": "stream",
     "text": [
      " 24%|████████████████████████████████▉                                                                                                      | 122/500 [08:09<28:41,  4.55s/it]"
     ]
    },
    {
     "name": "stdout",
     "output_type": "stream",
     "text": [
      "121\t54\t54\t2.46326\tTrue\tTrue\t0:00:04.566689\n"
     ]
    },
    {
     "name": "stderr",
     "output_type": "stream",
     "text": [
      " 25%|█████████████████████████████████▏                                                                                                     | 123/500 [08:13<28:39,  4.56s/it]"
     ]
    },
    {
     "name": "stdout",
     "output_type": "stream",
     "text": [
      "122\t29\t74\t0.32566\tFalse\tFalse\t0:00:04.569000\n"
     ]
    },
    {
     "name": "stderr",
     "output_type": "stream",
     "text": [
      " 25%|█████████████████████████████████▍                                                                                                     | 124/500 [08:18<28:16,  4.51s/it]"
     ]
    },
    {
     "name": "stdout",
     "output_type": "stream",
     "text": [
      "123\t64\t-1\t0.00000\tFalse\tFalse\t0:00:04.398472\n"
     ]
    },
    {
     "name": "stderr",
     "output_type": "stream",
     "text": [
      " 25%|█████████████████████████████████▊                                                                                                     | 125/500 [08:22<27:50,  4.46s/it]"
     ]
    },
    {
     "name": "stdout",
     "output_type": "stream",
     "text": [
      "124\t9\t87\t1.70392\tFalse\tFalse\t0:00:04.321537\n"
     ]
    },
    {
     "name": "stderr",
     "output_type": "stream",
     "text": [
      " 25%|██████████████████████████████████                                                                                                     | 126/500 [08:26<27:24,  4.40s/it]"
     ]
    },
    {
     "name": "stdout",
     "output_type": "stream",
     "text": [
      "125\t91\t91\t2.06413\tTrue\tTrue\t0:00:04.258004\n"
     ]
    },
    {
     "name": "stderr",
     "output_type": "stream",
     "text": [
      " 25%|██████████████████████████████████▎                                                                                                    | 127/500 [08:30<25:58,  4.18s/it]"
     ]
    },
    {
     "name": "stdout",
     "output_type": "stream",
     "text": [
      "126\t99\t99\t1.61599\tTrue\tTrue\t0:00:03.661439\n"
     ]
    },
    {
     "name": "stderr",
     "output_type": "stream",
     "text": [
      " 26%|██████████████████████████████████▌                                                                                                    | 128/500 [08:33<24:49,  4.01s/it]"
     ]
    },
    {
     "name": "stdout",
     "output_type": "stream",
     "text": [
      "127\t79\t-1\t0.00000\tFalse\tFalse\t0:00:03.601709\n"
     ]
    },
    {
     "name": "stderr",
     "output_type": "stream",
     "text": [
      " 26%|██████████████████████████████████▊                                                                                                    | 129/500 [08:37<24:29,  3.96s/it]"
     ]
    },
    {
     "name": "stdout",
     "output_type": "stream",
     "text": [
      "128\t94\t-1\t0.00000\tFalse\tFalse\t0:00:03.857175\n"
     ]
    },
    {
     "name": "stderr",
     "output_type": "stream",
     "text": [
      " 26%|███████████████████████████████████                                                                                                    | 130/500 [08:41<23:46,  3.86s/it]"
     ]
    },
    {
     "name": "stdout",
     "output_type": "stream",
     "text": [
      "129\t88\t-1\t0.00000\tFalse\tFalse\t0:00:03.609534\n"
     ]
    },
    {
     "name": "stderr",
     "output_type": "stream",
     "text": [
      " 26%|███████████████████████████████████▎                                                                                                   | 131/500 [08:45<24:50,  4.04s/it]"
     ]
    },
    {
     "name": "stdout",
     "output_type": "stream",
     "text": [
      "130\t64\t-1\t0.00000\tFalse\tFalse\t0:00:04.466855\n"
     ]
    },
    {
     "name": "stderr",
     "output_type": "stream",
     "text": [
      " 26%|███████████████████████████████████▋                                                                                                   | 132/500 [08:50<26:19,  4.29s/it]"
     ]
    },
    {
     "name": "stdout",
     "output_type": "stream",
     "text": [
      "131\t9\t9\t0.89036\tTrue\tTrue\t0:00:04.881212\n"
     ]
    },
    {
     "name": "stderr",
     "output_type": "stream",
     "text": [
      " 27%|███████████████████████████████████▉                                                                                                   | 133/500 [08:55<28:02,  4.58s/it]"
     ]
    },
    {
     "name": "stdout",
     "output_type": "stream",
     "text": [
      "132\t68\t68\t1.65182\tTrue\tTrue\t0:00:05.258251\n"
     ]
    },
    {
     "name": "stderr",
     "output_type": "stream",
     "text": [
      " 27%|████████████████████████████████████▏                                                                                                  | 134/500 [09:01<29:30,  4.84s/it]"
     ]
    },
    {
     "name": "stdout",
     "output_type": "stream",
     "text": [
      "133\t31\t31\t0.71162\tTrue\tTrue\t0:00:05.426537\n"
     ]
    },
    {
     "name": "stderr",
     "output_type": "stream",
     "text": [
      " 27%|████████████████████████████████████▍                                                                                                  | 135/500 [09:06<30:30,  5.02s/it]"
     ]
    },
    {
     "name": "stdout",
     "output_type": "stream",
     "text": [
      "134\t43\t15\t1.60457\tFalse\tFalse\t0:00:05.427902\n"
     ]
    },
    {
     "name": "stderr",
     "output_type": "stream",
     "text": [
      " 27%|████████████████████████████████████▋                                                                                                  | 136/500 [09:11<29:34,  4.87s/it]"
     ]
    },
    {
     "name": "stdout",
     "output_type": "stream",
     "text": [
      "135\t26\t-1\t0.00000\tFalse\tFalse\t0:00:04.544013\n"
     ]
    },
    {
     "name": "stderr",
     "output_type": "stream",
     "text": [
      " 27%|████████████████████████████████████▉                                                                                                  | 137/500 [09:15<27:47,  4.59s/it]"
     ]
    },
    {
     "name": "stdout",
     "output_type": "stream",
     "text": [
      "136\t50\t-1\t0.00000\tFalse\tFalse\t0:00:03.935870\n"
     ]
    },
    {
     "name": "stderr",
     "output_type": "stream",
     "text": [
      " 28%|█████████████████████████████████████▎                                                                                                 | 138/500 [09:18<26:00,  4.31s/it]"
     ]
    },
    {
     "name": "stdout",
     "output_type": "stream",
     "text": [
      "137\t51\t-1\t0.00000\tFalse\tFalse\t0:00:03.652383\n"
     ]
    },
    {
     "name": "stderr",
     "output_type": "stream",
     "text": [
      " 28%|█████████████████████████████████████▌                                                                                                 | 139/500 [09:22<25:15,  4.20s/it]"
     ]
    },
    {
     "name": "stdout",
     "output_type": "stream",
     "text": [
      "138\t7\t67\t0.13863\tFalse\tFalse\t0:00:03.931010\n"
     ]
    },
    {
     "name": "stderr",
     "output_type": "stream",
     "text": [
      " 28%|█████████████████████████████████████▊                                                                                                 | 140/500 [09:26<24:45,  4.13s/it]"
     ]
    },
    {
     "name": "stdout",
     "output_type": "stream",
     "text": [
      "139\t70\t70\t1.57173\tTrue\tTrue\t0:00:03.951626\n"
     ]
    },
    {
     "name": "stderr",
     "output_type": "stream",
     "text": [
      " 28%|██████████████████████████████████████                                                                                                 | 141/500 [09:30<23:50,  3.98s/it]"
     ]
    },
    {
     "name": "stdout",
     "output_type": "stream",
     "text": [
      "140\t56\t56\t1.61599\tTrue\tTrue\t0:00:03.653599\n"
     ]
    },
    {
     "name": "stderr",
     "output_type": "stream",
     "text": [
      " 28%|██████████████████████████████████████▎                                                                                                | 142/500 [09:34<23:12,  3.89s/it]"
     ]
    },
    {
     "name": "stdout",
     "output_type": "stream",
     "text": [
      "141\t30\t30\t0.03191\tFalse\tTrue\t0:00:03.669233\n"
     ]
    },
    {
     "name": "stderr",
     "output_type": "stream",
     "text": [
      " 29%|██████████████████████████████████████▌                                                                                                | 143/500 [09:38<23:06,  3.88s/it]"
     ]
    },
    {
     "name": "stdout",
     "output_type": "stream",
     "text": [
      "142\t12\t12\t2.46326\tTrue\tTrue\t0:00:03.868781\n"
     ]
    },
    {
     "name": "stderr",
     "output_type": "stream",
     "text": [
      " 29%|██████████████████████████████████████▉                                                                                                | 144/500 [09:41<22:57,  3.87s/it]"
     ]
    },
    {
     "name": "stdout",
     "output_type": "stream",
     "text": [
      "143\t93\t73\t0.67428\tFalse\tFalse\t0:00:03.829371\n"
     ]
    },
    {
     "name": "stderr",
     "output_type": "stream",
     "text": [
      " 29%|███████████████████████████████████████▏                                                                                               | 145/500 [09:45<23:05,  3.90s/it]"
     ]
    },
    {
     "name": "stdout",
     "output_type": "stream",
     "text": [
      "144\t83\t9\t1.11974\tFalse\tFalse\t0:00:03.978612\n"
     ]
    },
    {
     "name": "stderr",
     "output_type": "stream",
     "text": [
      " 29%|███████████████████████████████████████▍                                                                                               | 146/500 [09:50<23:36,  4.00s/it]"
     ]
    },
    {
     "name": "stdout",
     "output_type": "stream",
     "text": [
      "145\t4\t-1\t0.00000\tFalse\tFalse\t0:00:04.233754\n"
     ]
    },
    {
     "name": "stderr",
     "output_type": "stream",
     "text": [
      " 29%|███████████████████████████████████████▋                                                                                               | 147/500 [09:54<24:20,  4.14s/it]"
     ]
    },
    {
     "name": "stdout",
     "output_type": "stream",
     "text": [
      "146\t1\t-1\t0.00000\tFalse\tFalse\t0:00:04.450791\n"
     ]
    },
    {
     "name": "stderr",
     "output_type": "stream",
     "text": [
      " 30%|███████████████████████████████████████▉                                                                                               | 148/500 [09:59<24:51,  4.24s/it]"
     ]
    },
    {
     "name": "stdout",
     "output_type": "stream",
     "text": [
      "147\t72\t-1\t0.00000\tFalse\tFalse\t0:00:04.470476\n"
     ]
    },
    {
     "name": "stderr",
     "output_type": "stream",
     "text": [
      " 30%|████████████████████████████████████████▏                                                                                              | 149/500 [10:03<25:07,  4.29s/it]"
     ]
    },
    {
     "name": "stdout",
     "output_type": "stream",
     "text": [
      "148\t78\t78\t0.83511\tTrue\tTrue\t0:00:04.419126\n"
     ]
    },
    {
     "name": "stderr",
     "output_type": "stream",
     "text": [
      " 30%|████████████████████████████████████████▌                                                                                              | 150/500 [10:07<25:12,  4.32s/it]"
     ]
    },
    {
     "name": "stdout",
     "output_type": "stream",
     "text": [
      "149\t52\t-1\t0.00000\tFalse\tFalse\t0:00:04.383425\n"
     ]
    },
    {
     "name": "stderr",
     "output_type": "stream",
     "text": [
      " 30%|████████████████████████████████████████▊                                                                                              | 151/500 [10:12<25:11,  4.33s/it]"
     ]
    },
    {
     "name": "stdout",
     "output_type": "stream",
     "text": [
      "150\t47\t81\t2.46326\tFalse\tFalse\t0:00:04.354496\n"
     ]
    },
    {
     "name": "stderr",
     "output_type": "stream",
     "text": [
      " 30%|█████████████████████████████████████████                                                                                              | 152/500 [10:16<25:05,  4.33s/it]"
     ]
    },
    {
     "name": "stdout",
     "output_type": "stream",
     "text": [
      "151\t88\t88\t0.03695\tFalse\tTrue\t0:00:04.305712\n"
     ]
    },
    {
     "name": "stderr",
     "output_type": "stream",
     "text": [
      " 31%|█████████████████████████████████████████▎                                                                                             | 153/500 [10:20<25:04,  4.34s/it]"
     ]
    },
    {
     "name": "stdout",
     "output_type": "stream",
     "text": [
      "152\t97\t-1\t0.00000\tFalse\tFalse\t0:00:04.362805\n"
     ]
    },
    {
     "name": "stderr",
     "output_type": "stream",
     "text": [
      " 31%|█████████████████████████████████████████▌                                                                                             | 154/500 [10:25<25:06,  4.36s/it]"
     ]
    },
    {
     "name": "stdout",
     "output_type": "stream",
     "text": [
      "153\t28\t-1\t0.00000\tFalse\tFalse\t0:00:04.393571\n"
     ]
    },
    {
     "name": "stderr",
     "output_type": "stream",
     "text": [
      " 31%|█████████████████████████████████████████▊                                                                                             | 155/500 [10:29<24:55,  4.33s/it]"
     ]
    },
    {
     "name": "stdout",
     "output_type": "stream",
     "text": [
      "154\t16\t-1\t0.00000\tFalse\tFalse\t0:00:04.282184\n"
     ]
    },
    {
     "name": "stderr",
     "output_type": "stream",
     "text": [
      " 31%|██████████████████████████████████████████                                                                                             | 156/500 [10:33<23:41,  4.13s/it]"
     ]
    },
    {
     "name": "stdout",
     "output_type": "stream",
     "text": [
      "155\t92\t70\t1.14654\tFalse\tFalse\t0:00:03.657030\n"
     ]
    },
    {
     "name": "stderr",
     "output_type": "stream",
     "text": [
      " 31%|██████████████████████████████████████████▍                                                                                            | 157/500 [10:36<22:46,  3.98s/it]"
     ]
    },
    {
     "name": "stdout",
     "output_type": "stream",
     "text": [
      "156\t57\t0\t2.35765\tFalse\tFalse\t0:00:03.639417\n"
     ]
    },
    {
     "name": "stderr",
     "output_type": "stream",
     "text": [
      " 32%|██████████████████████████████████████████▋                                                                                            | 158/500 [10:40<21:39,  3.80s/it]"
     ]
    },
    {
     "name": "stdout",
     "output_type": "stream",
     "text": [
      "157\t61\t-1\t0.00000\tFalse\tFalse\t0:00:03.367362\n"
     ]
    },
    {
     "name": "stderr",
     "output_type": "stream",
     "text": [
      " 32%|██████████████████████████████████████████▉                                                                                            | 159/500 [10:43<21:11,  3.73s/it]"
     ]
    },
    {
     "name": "stdout",
     "output_type": "stream",
     "text": [
      "158\t18\t-1\t0.00000\tFalse\tFalse\t0:00:03.559392\n"
     ]
    },
    {
     "name": "stderr",
     "output_type": "stream",
     "text": [
      " 32%|███████████████████████████████████████████▏                                                                                           | 160/500 [10:47<21:09,  3.73s/it]"
     ]
    },
    {
     "name": "stdout",
     "output_type": "stream",
     "text": [
      "159\t10\t-1\t0.00000\tFalse\tFalse\t0:00:03.741234\n"
     ]
    },
    {
     "name": "stderr",
     "output_type": "stream",
     "text": [
      " 32%|███████████████████████████████████████████▍                                                                                           | 161/500 [10:51<20:55,  3.70s/it]"
     ]
    },
    {
     "name": "stdout",
     "output_type": "stream",
     "text": [
      "160\t70\t11\t1.55089\tFalse\tFalse\t0:00:03.635317\n"
     ]
    },
    {
     "name": "stderr",
     "output_type": "stream",
     "text": [
      " 32%|███████████████████████████████████████████▋                                                                                           | 162/500 [10:54<19:59,  3.55s/it]"
     ]
    },
    {
     "name": "stdout",
     "output_type": "stream",
     "text": [
      "161\t95\t95\t0.97070\tTrue\tTrue\t0:00:03.186617\n"
     ]
    },
    {
     "name": "stderr",
     "output_type": "stream",
     "text": [
      " 33%|████████████████████████████████████████████                                                                                           | 163/500 [10:58<20:34,  3.66s/it]"
     ]
    },
    {
     "name": "stdout",
     "output_type": "stream",
     "text": [
      "162\t89\t-1\t0.00000\tFalse\tFalse\t0:00:03.920747\n"
     ]
    },
    {
     "name": "stderr",
     "output_type": "stream",
     "text": [
      " 33%|████████████████████████████████████████████▎                                                                                          | 164/500 [11:03<22:38,  4.04s/it]"
     ]
    },
    {
     "name": "stdout",
     "output_type": "stream",
     "text": [
      "163\t88\t88\t0.40597\tTrue\tTrue\t0:00:04.927256\n"
     ]
    },
    {
     "name": "stderr",
     "output_type": "stream",
     "text": [
      " 33%|████████████████████████████████████████████▌                                                                                          | 165/500 [11:08<24:10,  4.33s/it]"
     ]
    },
    {
     "name": "stdout",
     "output_type": "stream",
     "text": [
      "164\t79\t79\t0.00169\tFalse\tTrue\t0:00:04.998404\n"
     ]
    },
    {
     "name": "stderr",
     "output_type": "stream",
     "text": [
      " 33%|████████████████████████████████████████████▊                                                                                          | 166/500 [11:13<25:09,  4.52s/it]"
     ]
    },
    {
     "name": "stdout",
     "output_type": "stream",
     "text": [
      "165\t76\t76\t2.46326\tTrue\tTrue\t0:00:04.957075\n"
     ]
    },
    {
     "name": "stderr",
     "output_type": "stream",
     "text": [
      " 33%|█████████████████████████████████████████████                                                                                          | 167/500 [11:17<24:54,  4.49s/it]"
     ]
    },
    {
     "name": "stdout",
     "output_type": "stream",
     "text": [
      "166\t67\t67\t2.46326\tTrue\tTrue\t0:00:04.412717\n"
     ]
    },
    {
     "name": "stderr",
     "output_type": "stream",
     "text": [
      " 34%|█████████████████████████████████████████████▎                                                                                         | 168/500 [11:22<24:50,  4.49s/it]"
     ]
    },
    {
     "name": "stdout",
     "output_type": "stream",
     "text": [
      "167\t38\t-1\t0.00000\tFalse\tFalse\t0:00:04.491532\n"
     ]
    },
    {
     "name": "stderr",
     "output_type": "stream",
     "text": [
      " 34%|█████████████████████████████████████████████▋                                                                                         | 169/500 [11:25<23:47,  4.31s/it]"
     ]
    },
    {
     "name": "stdout",
     "output_type": "stream",
     "text": [
      "168\t54\t54\t0.29322\tTrue\tTrue\t0:00:03.897825\n"
     ]
    },
    {
     "name": "stderr",
     "output_type": "stream",
     "text": [
      " 34%|█████████████████████████████████████████████▉                                                                                         | 170/500 [11:29<22:40,  4.12s/it]"
     ]
    },
    {
     "name": "stdout",
     "output_type": "stream",
     "text": [
      "169\t51\t-1\t0.00000\tFalse\tFalse\t0:00:03.677896\n"
     ]
    },
    {
     "name": "stderr",
     "output_type": "stream",
     "text": [
      " 34%|██████████████████████████████████████████████▏                                                                                        | 171/500 [11:33<22:18,  4.07s/it]"
     ]
    },
    {
     "name": "stdout",
     "output_type": "stream",
     "text": [
      "170\t37\t37\t0.32294\tTrue\tTrue\t0:00:03.934308\n"
     ]
    },
    {
     "name": "stderr",
     "output_type": "stream",
     "text": [
      " 34%|██████████████████████████████████████████████▍                                                                                        | 172/500 [11:37<22:02,  4.03s/it]"
     ]
    },
    {
     "name": "stdout",
     "output_type": "stream",
     "text": [
      "171\t15\t-1\t0.00000\tFalse\tFalse\t0:00:03.949260\n"
     ]
    },
    {
     "name": "stderr",
     "output_type": "stream",
     "text": [
      " 35%|██████████████████████████████████████████████▋                                                                                        | 173/500 [11:41<21:49,  4.00s/it]"
     ]
    },
    {
     "name": "stdout",
     "output_type": "stream",
     "text": [
      "172\t41\t41\t1.57173\tTrue\tTrue\t0:00:03.934651\n"
     ]
    },
    {
     "name": "stderr",
     "output_type": "stream",
     "text": [
      " 35%|██████████████████████████████████████████████▉                                                                                        | 174/500 [11:45<21:40,  3.99s/it]"
     ]
    },
    {
     "name": "stdout",
     "output_type": "stream",
     "text": [
      "173\t4\t-1\t0.00000\tFalse\tFalse\t0:00:03.954593\n"
     ]
    },
    {
     "name": "stderr",
     "output_type": "stream",
     "text": [
      " 35%|███████████████████████████████████████████████▎                                                                                       | 175/500 [11:50<23:18,  4.30s/it]"
     ]
    },
    {
     "name": "stdout",
     "output_type": "stream",
     "text": [
      "174\t64\t-1\t0.00000\tFalse\tFalse\t0:00:05.026870\n"
     ]
    },
    {
     "name": "stderr",
     "output_type": "stream",
     "text": [
      " 35%|███████████████████████████████████████████████▌                                                                                       | 176/500 [11:55<24:48,  4.60s/it]"
     ]
    },
    {
     "name": "stdout",
     "output_type": "stream",
     "text": [
      "175\t86\t-1\t0.00000\tFalse\tFalse\t0:00:05.278380\n"
     ]
    },
    {
     "name": "stderr",
     "output_type": "stream",
     "text": [
      " 35%|███████████████████████████████████████████████▊                                                                                       | 177/500 [12:01<26:15,  4.88s/it]"
     ]
    },
    {
     "name": "stdout",
     "output_type": "stream",
     "text": [
      "176\t39\t39\t2.46326\tTrue\tTrue\t0:00:05.531775\n"
     ]
    },
    {
     "name": "stderr",
     "output_type": "stream",
     "text": [
      " 36%|████████████████████████████████████████████████                                                                                       | 178/500 [12:06<26:58,  5.03s/it]"
     ]
    },
    {
     "name": "stdout",
     "output_type": "stream",
     "text": [
      "177\t29\t-1\t0.00000\tFalse\tFalse\t0:00:05.368855\n"
     ]
    },
    {
     "name": "stderr",
     "output_type": "stream",
     "text": [
      " 36%|████████████████████████████████████████████████▎                                                                                      | 179/500 [12:11<27:01,  5.05s/it]"
     ]
    },
    {
     "name": "stdout",
     "output_type": "stream",
     "text": [
      "178\t29\t29\t2.46326\tTrue\tTrue\t0:00:05.105346\n"
     ]
    },
    {
     "name": "stderr",
     "output_type": "stream",
     "text": [
      " 36%|████████████████████████████████████████████████▌                                                                                      | 180/500 [12:17<27:13,  5.11s/it]"
     ]
    },
    {
     "name": "stdout",
     "output_type": "stream",
     "text": [
      "179\t62\t1\t0.53446\tFalse\tFalse\t0:00:05.230154\n"
     ]
    },
    {
     "name": "stderr",
     "output_type": "stream",
     "text": [
      " 36%|████████████████████████████████████████████████▊                                                                                      | 181/500 [12:22<27:36,  5.19s/it]"
     ]
    },
    {
     "name": "stdout",
     "output_type": "stream",
     "text": [
      "180\t27\t75\t0.29053\tFalse\tFalse\t0:00:05.395294\n"
     ]
    },
    {
     "name": "stderr",
     "output_type": "stream",
     "text": [
      " 36%|█████████████████████████████████████████████████▏                                                                                     | 182/500 [12:28<28:23,  5.36s/it]"
     ]
    },
    {
     "name": "stdout",
     "output_type": "stream",
     "text": [
      "181\t85\t-1\t0.00000\tFalse\tFalse\t0:00:05.737444\n"
     ]
    },
    {
     "name": "stderr",
     "output_type": "stream",
     "text": [
      " 37%|█████████████████████████████████████████████████▍                                                                                     | 183/500 [12:33<28:29,  5.39s/it]"
     ]
    },
    {
     "name": "stdout",
     "output_type": "stream",
     "text": [
      "182\t71\t-1\t0.00000\tFalse\tFalse\t0:00:05.467627\n"
     ]
    },
    {
     "name": "stderr",
     "output_type": "stream",
     "text": [
      " 37%|█████████████████████████████████████████████████▋                                                                                     | 184/500 [12:37<25:44,  4.89s/it]"
     ]
    },
    {
     "name": "stdout",
     "output_type": "stream",
     "text": [
      "183\t7\t79\t0.16695\tFalse\tFalse\t0:00:03.707681\n"
     ]
    },
    {
     "name": "stderr",
     "output_type": "stream",
     "text": [
      " 37%|█████████████████████████████████████████████████▉                                                                                     | 185/500 [12:40<23:37,  4.50s/it]"
     ]
    },
    {
     "name": "stdout",
     "output_type": "stream",
     "text": [
      "184\t9\t9\t1.66435\tTrue\tTrue\t0:00:03.592035\n"
     ]
    },
    {
     "name": "stderr",
     "output_type": "stream",
     "text": [
      " 37%|██████████████████████████████████████████████████▏                                                                                    | 186/500 [12:44<22:13,  4.25s/it]"
     ]
    },
    {
     "name": "stdout",
     "output_type": "stream",
     "text": [
      "185\t1\t1\t2.46326\tTrue\tTrue\t0:00:03.661055\n"
     ]
    },
    {
     "name": "stderr",
     "output_type": "stream",
     "text": [
      " 37%|██████████████████████████████████████████████████▍                                                                                    | 187/500 [12:48<21:15,  4.07s/it]"
     ]
    },
    {
     "name": "stdout",
     "output_type": "stream",
     "text": [
      "186\t39\t39\t0.54053\tTrue\tTrue\t0:00:03.666890\n"
     ]
    },
    {
     "name": "stderr",
     "output_type": "stream",
     "text": [
      " 38%|██████████████████████████████████████████████████▊                                                                                    | 188/500 [12:51<20:33,  3.96s/it]"
     ]
    },
    {
     "name": "stdout",
     "output_type": "stream",
     "text": [
      "187\t65\t-1\t0.00000\tFalse\tFalse\t0:00:03.674147\n"
     ]
    },
    {
     "name": "stderr",
     "output_type": "stream",
     "text": [
      " 38%|███████████████████████████████████████████████████                                                                                    | 189/500 [12:55<20:01,  3.86s/it]"
     ]
    },
    {
     "name": "stdout",
     "output_type": "stream",
     "text": [
      "188\t98\t-1\t0.00000\tFalse\tFalse\t0:00:03.649961\n"
     ]
    },
    {
     "name": "stderr",
     "output_type": "stream",
     "text": [
      " 38%|███████████████████████████████████████████████████▎                                                                                   | 190/500 [12:59<19:43,  3.82s/it]"
     ]
    },
    {
     "name": "stdout",
     "output_type": "stream",
     "text": [
      "189\t1\t1\t1.29740\tTrue\tTrue\t0:00:03.707551\n"
     ]
    },
    {
     "name": "stderr",
     "output_type": "stream",
     "text": [
      " 38%|███████████████████████████████████████████████████▌                                                                                   | 191/500 [13:02<19:05,  3.71s/it]"
     ]
    },
    {
     "name": "stdout",
     "output_type": "stream",
     "text": [
      "190\t63\t74\t0.52840\tFalse\tFalse\t0:00:03.446163\n"
     ]
    },
    {
     "name": "stderr",
     "output_type": "stream",
     "text": [
      " 38%|███████████████████████████████████████████████████▊                                                                                   | 192/500 [13:06<19:16,  3.75s/it]"
     ]
    },
    {
     "name": "stdout",
     "output_type": "stream",
     "text": [
      "191\t37\t58\t0.33657\tFalse\tFalse\t0:00:03.864214\n"
     ]
    },
    {
     "name": "stderr",
     "output_type": "stream",
     "text": [
      " 39%|████████████████████████████████████████████████████                                                                                   | 193/500 [13:11<20:25,  3.99s/it]"
     ]
    },
    {
     "name": "stdout",
     "output_type": "stream",
     "text": [
      "192\t51\t-1\t0.00000\tFalse\tFalse\t0:00:04.541924\n"
     ]
    },
    {
     "name": "stderr",
     "output_type": "stream",
     "text": [
      " 39%|████████████████████████████████████████████████████▍                                                                                  | 194/500 [13:15<21:05,  4.14s/it]"
     ]
    },
    {
     "name": "stdout",
     "output_type": "stream",
     "text": [
      "193\t71\t-1\t0.00000\tFalse\tFalse\t0:00:04.473742\n"
     ]
    },
    {
     "name": "stderr",
     "output_type": "stream",
     "text": [
      " 39%|████████████████████████████████████████████████████▋                                                                                  | 195/500 [13:20<21:24,  4.21s/it]"
     ]
    },
    {
     "name": "stdout",
     "output_type": "stream",
     "text": [
      "194\t88\t34\t1.19148\tFalse\tFalse\t0:00:04.382988\n"
     ]
    },
    {
     "name": "stderr",
     "output_type": "stream",
     "text": [
      " 39%|████████████████████████████████████████████████████▉                                                                                  | 196/500 [13:24<22:03,  4.35s/it]"
     ]
    },
    {
     "name": "stdout",
     "output_type": "stream",
     "text": [
      "195\t88\t88\t0.32022\tTrue\tTrue\t0:00:04.683876\n"
     ]
    },
    {
     "name": "stderr",
     "output_type": "stream",
     "text": [
      " 39%|█████████████████████████████████████████████████████▏                                                                                 | 197/500 [13:28<21:35,  4.27s/it]"
     ]
    },
    {
     "name": "stdout",
     "output_type": "stream",
     "text": [
      "196\t89\t89\t0.85842\tTrue\tTrue\t0:00:04.088020\n"
     ]
    },
    {
     "name": "stderr",
     "output_type": "stream",
     "text": [
      " 40%|█████████████████████████████████████████████████████▍                                                                                 | 198/500 [13:33<21:45,  4.32s/it]"
     ]
    },
    {
     "name": "stdout",
     "output_type": "stream",
     "text": [
      "197\t35\t2\t0.53446\tFalse\tFalse\t0:00:04.428620\n"
     ]
    },
    {
     "name": "stderr",
     "output_type": "stream",
     "text": [
      " 40%|█████████████████████████████████████████████████████▋                                                                                 | 199/500 [13:37<21:39,  4.32s/it]"
     ]
    },
    {
     "name": "stdout",
     "output_type": "stream",
     "text": [
      "198\t60\t60\t2.46326\tTrue\tTrue\t0:00:04.300848\n"
     ]
    },
    {
     "name": "stderr",
     "output_type": "stream",
     "text": [
      " 40%|██████████████████████████████████████████████████████                                                                                 | 200/500 [13:42<21:59,  4.40s/it]"
     ]
    },
    {
     "name": "stdout",
     "output_type": "stream",
     "text": [
      "199\t20\t20\t2.46326\tTrue\tTrue\t0:00:04.588928\n"
     ]
    },
    {
     "name": "stderr",
     "output_type": "stream",
     "text": [
      " 40%|██████████████████████████████████████████████████████▎                                                                                | 201/500 [13:47<23:35,  4.73s/it]"
     ]
    },
    {
     "name": "stdout",
     "output_type": "stream",
     "text": [
      "200\t14\t-1\t0.00000\tFalse\tFalse\t0:00:05.506947\n"
     ]
    },
    {
     "name": "stderr",
     "output_type": "stream",
     "text": [
      " 40%|██████████████████████████████████████████████████████▌                                                                                | 202/500 [13:51<21:53,  4.41s/it]"
     ]
    },
    {
     "name": "stdout",
     "output_type": "stream",
     "text": [
      "201\t95\t95\t2.46326\tTrue\tTrue\t0:00:03.652740\n"
     ]
    },
    {
     "name": "stderr",
     "output_type": "stream",
     "text": [
      " 41%|██████████████████████████████████████████████████████▊                                                                                | 203/500 [13:54<20:37,  4.17s/it]"
     ]
    },
    {
     "name": "stdout",
     "output_type": "stream",
     "text": [
      "202\t42\t-1\t0.00000\tFalse\tFalse\t0:00:03.602962\n"
     ]
    },
    {
     "name": "stderr",
     "output_type": "stream",
     "text": [
      " 41%|███████████████████████████████████████████████████████                                                                                | 204/500 [13:58<19:52,  4.03s/it]"
     ]
    },
    {
     "name": "stdout",
     "output_type": "stream",
     "text": [
      "203\t25\t-1\t0.00000\tFalse\tFalse\t0:00:03.697138\n"
     ]
    },
    {
     "name": "stderr",
     "output_type": "stream",
     "text": [
      " 41%|███████████████████████████████████████████████████████▎                                                                               | 205/500 [14:02<19:31,  3.97s/it]"
     ]
    },
    {
     "name": "stdout",
     "output_type": "stream",
     "text": [
      "204\t91\t54\t0.51337\tFalse\tFalse\t0:00:03.842110\n"
     ]
    },
    {
     "name": "stderr",
     "output_type": "stream",
     "text": [
      " 41%|███████████████████████████████████████████████████████▌                                                                               | 206/500 [14:06<19:00,  3.88s/it]"
     ]
    },
    {
     "name": "stdout",
     "output_type": "stream",
     "text": [
      "205\t87\t87\t0.09775\tTrue\tTrue\t0:00:03.659588\n"
     ]
    },
    {
     "name": "stderr",
     "output_type": "stream",
     "text": [
      " 41%|███████████████████████████████████████████████████████▉                                                                               | 207/500 [14:09<18:30,  3.79s/it]"
     ]
    },
    {
     "name": "stdout",
     "output_type": "stream",
     "text": [
      "206\t25\t-1\t0.00000\tFalse\tFalse\t0:00:03.580191\n"
     ]
    },
    {
     "name": "stderr",
     "output_type": "stream",
     "text": [
      " 42%|████████████████████████████████████████████████████████▏                                                                              | 208/500 [14:13<18:12,  3.74s/it]"
     ]
    },
    {
     "name": "stdout",
     "output_type": "stream",
     "text": [
      "207\t83\t83\t0.46906\tTrue\tTrue\t0:00:03.628482\n"
     ]
    },
    {
     "name": "stderr",
     "output_type": "stream",
     "text": [
      " 42%|████████████████████████████████████████████████████████▍                                                                              | 209/500 [14:16<18:03,  3.72s/it]"
     ]
    },
    {
     "name": "stdout",
     "output_type": "stream",
     "text": [
      "208\t21\t30\t0.38073\tFalse\tFalse\t0:00:03.677685\n"
     ]
    },
    {
     "name": "stderr",
     "output_type": "stream",
     "text": [
      " 42%|████████████████████████████████████████████████████████▋                                                                              | 210/500 [14:20<17:49,  3.69s/it]"
     ]
    },
    {
     "name": "stdout",
     "output_type": "stream",
     "text": [
      "209\t18\t83\t0.85842\tFalse\tFalse\t0:00:03.599900\n"
     ]
    },
    {
     "name": "stderr",
     "output_type": "stream",
     "text": [
      " 42%|████████████████████████████████████████████████████████▉                                                                              | 211/500 [14:24<18:07,  3.76s/it]"
     ]
    },
    {
     "name": "stdout",
     "output_type": "stream",
     "text": [
      "210\t93\t-1\t0.00000\tFalse\tFalse\t0:00:03.932481\n"
     ]
    },
    {
     "name": "stderr",
     "output_type": "stream",
     "text": [
      " 42%|█████████████████████████████████████████████████████████▏                                                                             | 212/500 [14:28<18:21,  3.82s/it]"
     ]
    },
    {
     "name": "stdout",
     "output_type": "stream",
     "text": [
      "211\t3\t-1\t0.00000\tFalse\tFalse\t0:00:03.964664\n"
     ]
    },
    {
     "name": "stderr",
     "output_type": "stream",
     "text": [
      " 43%|█████████████████████████████████████████████████████████▌                                                                             | 213/500 [14:32<18:26,  3.86s/it]"
     ]
    },
    {
     "name": "stdout",
     "output_type": "stream",
     "text": [
      "212\t92\t62\t1.61599\tFalse\tFalse\t0:00:03.928599\n"
     ]
    },
    {
     "name": "stderr",
     "output_type": "stream",
     "text": [
      " 43%|█████████████████████████████████████████████████████████▊                                                                             | 214/500 [14:36<18:14,  3.83s/it]"
     ]
    },
    {
     "name": "stdout",
     "output_type": "stream",
     "text": [
      "213\t64\t-1\t0.00000\tFalse\tFalse\t0:00:03.761626\n"
     ]
    },
    {
     "name": "stderr",
     "output_type": "stream",
     "text": [
      " 43%|██████████████████████████████████████████████████████████                                                                             | 215/500 [14:39<17:44,  3.73s/it]"
     ]
    },
    {
     "name": "stdout",
     "output_type": "stream",
     "text": [
      "214\t35\t98\t1.60457\tFalse\tFalse\t0:00:03.515113\n"
     ]
    },
    {
     "name": "stderr",
     "output_type": "stream",
     "text": [
      " 43%|██████████████████████████████████████████████████████████▎                                                                            | 216/500 [14:43<17:31,  3.70s/it]"
     ]
    },
    {
     "name": "stdout",
     "output_type": "stream",
     "text": [
      "215\t64\t66\t1.71785\tFalse\tFalse\t0:00:03.627028\n"
     ]
    },
    {
     "name": "stderr",
     "output_type": "stream",
     "text": [
      " 43%|██████████████████████████████████████████████████████████▌                                                                            | 217/500 [14:46<17:23,  3.69s/it]"
     ]
    },
    {
     "name": "stdout",
     "output_type": "stream",
     "text": [
      "216\t49\t-1\t0.00000\tFalse\tFalse\t0:00:03.653600\n"
     ]
    },
    {
     "name": "stderr",
     "output_type": "stream",
     "text": [
      " 44%|██████████████████████████████████████████████████████████▊                                                                            | 218/500 [14:50<17:14,  3.67s/it]"
     ]
    },
    {
     "name": "stdout",
     "output_type": "stream",
     "text": [
      "217\t37\t81\t0.13350\tFalse\tFalse\t0:00:03.618178\n"
     ]
    },
    {
     "name": "stderr",
     "output_type": "stream",
     "text": [
      " 44%|███████████████████████████████████████████████████████████▏                                                                           | 219/500 [14:54<17:31,  3.74s/it]"
     ]
    },
    {
     "name": "stdout",
     "output_type": "stream",
     "text": [
      "218\t42\t-1\t0.00000\tFalse\tFalse\t0:00:03.915498\n"
     ]
    },
    {
     "name": "stderr",
     "output_type": "stream",
     "text": [
      " 44%|███████████████████████████████████████████████████████████▍                                                                           | 220/500 [14:58<17:50,  3.82s/it]"
     ]
    },
    {
     "name": "stdout",
     "output_type": "stream",
     "text": [
      "219\t36\t57\t0.35028\tFalse\tFalse\t0:00:04.003057\n"
     ]
    },
    {
     "name": "stderr",
     "output_type": "stream",
     "text": [
      " 44%|███████████████████████████████████████████████████████████▋                                                                           | 221/500 [15:03<20:02,  4.31s/it]"
     ]
    },
    {
     "name": "stdout",
     "output_type": "stream",
     "text": [
      "220\t80\t-1\t0.00000\tFalse\tFalse\t0:00:05.451721\n"
     ]
    },
    {
     "name": "stderr",
     "output_type": "stream",
     "text": [
      " 44%|███████████████████████████████████████████████████████████▉                                                                           | 222/500 [15:07<19:27,  4.20s/it]"
     ]
    },
    {
     "name": "stdout",
     "output_type": "stream",
     "text": [
      "221\t60\t96\t0.02183\tFalse\tFalse\t0:00:03.939918\n"
     ]
    },
    {
     "name": "stderr",
     "output_type": "stream",
     "text": [
      " 45%|████████████████████████████████████████████████████████████▏                                                                          | 223/500 [15:11<18:38,  4.04s/it]"
     ]
    },
    {
     "name": "stdout",
     "output_type": "stream",
     "text": [
      "222\t6\t88\t0.19026\tFalse\tFalse\t0:00:03.661316\n"
     ]
    },
    {
     "name": "stderr",
     "output_type": "stream",
     "text": [
      " 45%|████████████████████████████████████████████████████████████▍                                                                          | 224/500 [15:15<18:11,  3.95s/it]"
     ]
    },
    {
     "name": "stdout",
     "output_type": "stream",
     "text": [
      "223\t76\t-1\t0.00000\tFalse\tFalse\t0:00:03.754194\n"
     ]
    },
    {
     "name": "stderr",
     "output_type": "stream",
     "text": [
      " 45%|████████████████████████████████████████████████████████████▊                                                                          | 225/500 [15:19<18:06,  3.95s/it]"
     ]
    },
    {
     "name": "stdout",
     "output_type": "stream",
     "text": [
      "224\t45\t18\t0.97070\tFalse\tFalse\t0:00:03.941832\n"
     ]
    },
    {
     "name": "stderr",
     "output_type": "stream",
     "text": [
      " 45%|█████████████████████████████████████████████████████████████                                                                          | 226/500 [15:23<18:01,  3.95s/it]"
     ]
    },
    {
     "name": "stdout",
     "output_type": "stream",
     "text": [
      "225\t17\t17\t1.33193\tTrue\tTrue\t0:00:03.938100\n"
     ]
    },
    {
     "name": "stderr",
     "output_type": "stream",
     "text": [
      " 45%|█████████████████████████████████████████████████████████████▎                                                                         | 227/500 [15:27<18:15,  4.01s/it]"
     ]
    },
    {
     "name": "stdout",
     "output_type": "stream",
     "text": [
      "226\t79\t-1\t0.00000\tFalse\tFalse\t0:00:04.162558\n"
     ]
    },
    {
     "name": "stderr",
     "output_type": "stream",
     "text": [
      " 46%|█████████████████████████████████████████████████████████████▌                                                                         | 228/500 [15:31<18:43,  4.13s/it]"
     ]
    },
    {
     "name": "stdout",
     "output_type": "stream",
     "text": [
      "227\t29\t26\t0.29322\tFalse\tFalse\t0:00:04.396343\n"
     ]
    },
    {
     "name": "stderr",
     "output_type": "stream",
     "text": [
      " 46%|█████████████████████████████████████████████████████████████▊                                                                         | 229/500 [15:36<19:18,  4.28s/it]"
     ]
    },
    {
     "name": "stdout",
     "output_type": "stream",
     "text": [
      "228\t26\t8\t0.84282\tFalse\tFalse\t0:00:04.615305\n"
     ]
    },
    {
     "name": "stderr",
     "output_type": "stream",
     "text": [
      " 46%|██████████████████████████████████████████████████████████████                                                                         | 230/500 [15:41<20:52,  4.64s/it]"
     ]
    },
    {
     "name": "stdout",
     "output_type": "stream",
     "text": [
      "229\t31\t-1\t0.00000\tFalse\tFalse\t0:00:05.483444\n"
     ]
    },
    {
     "name": "stderr",
     "output_type": "stream",
     "text": [
      " 46%|██████████████████████████████████████████████████████████████▎                                                                        | 231/500 [15:47<22:03,  4.92s/it]"
     ]
    },
    {
     "name": "stdout",
     "output_type": "stream",
     "text": [
      "230\t55\t30\t1.33906\tFalse\tFalse\t0:00:05.573289\n"
     ]
    },
    {
     "name": "stderr",
     "output_type": "stream",
     "text": [
      " 46%|██████████████████████████████████████████████████████████████▋                                                                        | 232/500 [15:52<22:37,  5.07s/it]"
     ]
    },
    {
     "name": "stdout",
     "output_type": "stream",
     "text": [
      "231\t27\t-1\t0.00000\tFalse\tFalse\t0:00:05.407299\n"
     ]
    },
    {
     "name": "stderr",
     "output_type": "stream",
     "text": [
      " 47%|██████████████████████████████████████████████████████████████▉                                                                        | 233/500 [15:57<22:18,  5.01s/it]"
     ]
    },
    {
     "name": "stdout",
     "output_type": "stream",
     "text": [
      "232\t40\t-1\t0.00000\tFalse\tFalse\t0:00:04.887540\n"
     ]
    },
    {
     "name": "stderr",
     "output_type": "stream",
     "text": [
      " 47%|███████████████████████████████████████████████████████████████▏                                                                       | 234/500 [16:01<20:45,  4.68s/it]"
     ]
    },
    {
     "name": "stdout",
     "output_type": "stream",
     "text": [
      "233\t95\t95\t1.32488\tTrue\tTrue\t0:00:03.910353\n"
     ]
    },
    {
     "name": "stderr",
     "output_type": "stream",
     "text": [
      " 47%|███████████████████████████████████████████████████████████████▍                                                                       | 235/500 [16:05<19:38,  4.45s/it]"
     ]
    },
    {
     "name": "stdout",
     "output_type": "stream",
     "text": [
      "234\t49\t-1\t0.00000\tFalse\tFalse\t0:00:03.895849\n"
     ]
    },
    {
     "name": "stderr",
     "output_type": "stream",
     "text": [
      " 47%|███████████████████████████████████████████████████████████████▋                                                                       | 236/500 [16:09<18:50,  4.28s/it]"
     ]
    },
    {
     "name": "stdout",
     "output_type": "stream",
     "text": [
      "235\t71\t71\t1.33193\tTrue\tTrue\t0:00:03.890716\n"
     ]
    },
    {
     "name": "stderr",
     "output_type": "stream",
     "text": [
      " 47%|███████████████████████████████████████████████████████████████▉                                                                       | 237/500 [16:13<18:13,  4.16s/it]"
     ]
    },
    {
     "name": "stdout",
     "output_type": "stream",
     "text": [
      "236\t77\t-1\t0.00000\tFalse\tFalse\t0:00:03.870995\n"
     ]
    },
    {
     "name": "stderr",
     "output_type": "stream",
     "text": [
      " 48%|████████████████████████████████████████████████████████████████▎                                                                      | 238/500 [16:16<17:26,  3.99s/it]"
     ]
    },
    {
     "name": "stdout",
     "output_type": "stream",
     "text": [
      "237\t91\t91\t2.46326\tTrue\tTrue\t0:00:03.609191\n"
     ]
    },
    {
     "name": "stderr",
     "output_type": "stream",
     "text": [
      " 48%|████████████████████████████████████████████████████████████████▌                                                                      | 239/500 [16:20<16:53,  3.88s/it]"
     ]
    },
    {
     "name": "stdout",
     "output_type": "stream",
     "text": [
      "238\t9\t69\t2.46326\tFalse\tFalse\t0:00:03.626514\n"
     ]
    },
    {
     "name": "stderr",
     "output_type": "stream",
     "text": [
      " 48%|████████████████████████████████████████████████████████████████▊                                                                      | 240/500 [16:24<17:02,  3.93s/it]"
     ]
    },
    {
     "name": "stdout",
     "output_type": "stream",
     "text": [
      "239\t18\t18\t0.36130\tTrue\tTrue\t0:00:04.043531\n"
     ]
    },
    {
     "name": "stderr",
     "output_type": "stream",
     "text": [
      " 48%|█████████████████████████████████████████████████████████████████                                                                      | 241/500 [16:29<18:43,  4.34s/it]"
     ]
    },
    {
     "name": "stdout",
     "output_type": "stream",
     "text": [
      "240\t95\t-1\t0.00000\tFalse\tFalse\t0:00:05.281843\n"
     ]
    },
    {
     "name": "stderr",
     "output_type": "stream",
     "text": [
      " 48%|█████████████████████████████████████████████████████████████████▎                                                                     | 242/500 [16:33<18:11,  4.23s/it]"
     ]
    },
    {
     "name": "stdout",
     "output_type": "stream",
     "text": [
      "241\t44\t5\t0.08757\tFalse\tFalse\t0:00:03.976495\n"
     ]
    },
    {
     "name": "stderr",
     "output_type": "stream",
     "text": [
      " 49%|█████████████████████████████████████████████████████████████████▌                                                                     | 243/500 [16:37<17:17,  4.04s/it]"
     ]
    },
    {
     "name": "stdout",
     "output_type": "stream",
     "text": [
      "242\t71\t71\t0.43152\tTrue\tTrue\t0:00:03.586015\n"
     ]
    },
    {
     "name": "stderr",
     "output_type": "stream",
     "text": [
      " 49%|█████████████████████████████████████████████████████████████████▉                                                                     | 244/500 [16:41<16:47,  3.94s/it]"
     ]
    },
    {
     "name": "stdout",
     "output_type": "stream",
     "text": [
      "243\t92\t0\t1.03955\tFalse\tFalse\t0:00:03.700863\n"
     ]
    },
    {
     "name": "stderr",
     "output_type": "stream",
     "text": [
      " 49%|██████████████████████████████████████████████████████████████████▏                                                                    | 245/500 [16:44<16:28,  3.87s/it]"
     ]
    },
    {
     "name": "stdout",
     "output_type": "stream",
     "text": [
      "244\t0\t0\t1.62766\tTrue\tTrue\t0:00:03.726500\n"
     ]
    },
    {
     "name": "stderr",
     "output_type": "stream",
     "text": [
      " 49%|██████████████████████████████████████████████████████████████████▍                                                                    | 246/500 [16:48<16:24,  3.88s/it]"
     ]
    },
    {
     "name": "stdout",
     "output_type": "stream",
     "text": [
      "245\t29\t15\t0.37794\tFalse\tFalse\t0:00:03.877098\n"
     ]
    },
    {
     "name": "stderr",
     "output_type": "stream",
     "text": [
      " 49%|██████████████████████████████████████████████████████████████████▋                                                                    | 247/500 [16:52<16:19,  3.87s/it]"
     ]
    },
    {
     "name": "stdout",
     "output_type": "stream",
     "text": [
      "246\t44\t-1\t0.00000\tFalse\tFalse\t0:00:03.853514\n"
     ]
    },
    {
     "name": "stderr",
     "output_type": "stream",
     "text": [
      " 50%|██████████████████████████████████████████████████████████████████▉                                                                    | 248/500 [16:56<16:15,  3.87s/it]"
     ]
    },
    {
     "name": "stdout",
     "output_type": "stream",
     "text": [
      "247\t1\t-1\t0.00000\tFalse\tFalse\t0:00:03.874184\n"
     ]
    },
    {
     "name": "stderr",
     "output_type": "stream",
     "text": [
      " 50%|███████████████████████████████████████████████████████████████████▏                                                                   | 249/500 [17:00<16:10,  3.87s/it]"
     ]
    },
    {
     "name": "stdout",
     "output_type": "stream",
     "text": [
      "248\t94\t5\t0.08757\tFalse\tFalse\t0:00:03.850745\n"
     ]
    },
    {
     "name": "stderr",
     "output_type": "stream",
     "text": [
      " 50%|███████████████████████████████████████████████████████████████████▌                                                                   | 250/500 [17:04<16:08,  3.87s/it]"
     ]
    },
    {
     "name": "stdout",
     "output_type": "stream",
     "text": [
      "249\t76\t-1\t0.00000\tFalse\tFalse\t0:00:03.885001\n"
     ]
    },
    {
     "name": "stderr",
     "output_type": "stream",
     "text": [
      " 50%|███████████████████████████████████████████████████████████████████▊                                                                   | 251/500 [17:08<16:04,  3.87s/it]"
     ]
    },
    {
     "name": "stdout",
     "output_type": "stream",
     "text": [
      "250\t61\t99\t0.78996\tFalse\tFalse\t0:00:03.875196\n"
     ]
    },
    {
     "name": "stderr",
     "output_type": "stream",
     "text": [
      " 50%|████████████████████████████████████████████████████████████████████                                                                   | 252/500 [17:12<16:00,  3.87s/it]"
     ]
    },
    {
     "name": "stdout",
     "output_type": "stream",
     "text": [
      "251\t27\t27\t0.75727\tTrue\tTrue\t0:00:03.872890\n"
     ]
    },
    {
     "name": "stderr",
     "output_type": "stream",
     "text": [
      " 51%|████████████████████████████████████████████████████████████████████▎                                                                  | 253/500 [17:15<15:57,  3.88s/it]"
     ]
    },
    {
     "name": "stdout",
     "output_type": "stream",
     "text": [
      "252\t79\t-1\t0.00000\tFalse\tFalse\t0:00:03.883157\n"
     ]
    },
    {
     "name": "stderr",
     "output_type": "stream",
     "text": [
      " 51%|████████████████████████████████████████████████████████████████████▌                                                                  | 254/500 [17:19<15:33,  3.80s/it]"
     ]
    },
    {
     "name": "stdout",
     "output_type": "stream",
     "text": [
      "253\t31\t-1\t0.00000\tFalse\tFalse\t0:00:03.601298\n"
     ]
    },
    {
     "name": "stderr",
     "output_type": "stream",
     "text": [
      " 51%|████████████████████████████████████████████████████████████████████▊                                                                  | 255/500 [17:23<15:36,  3.82s/it]"
     ]
    },
    {
     "name": "stdout",
     "output_type": "stream",
     "text": [
      "254\t74\t-1\t0.00000\tFalse\tFalse\t0:00:03.882074\n"
     ]
    },
    {
     "name": "stderr",
     "output_type": "stream",
     "text": [
      " 51%|█████████████████████████████████████████████████████████████████████                                                                  | 256/500 [17:27<15:38,  3.85s/it]"
     ]
    },
    {
     "name": "stdout",
     "output_type": "stream",
     "text": [
      "255\t7\t7\t0.81607\tTrue\tTrue\t0:00:03.902013\n"
     ]
    },
    {
     "name": "stderr",
     "output_type": "stream",
     "text": [
      " 51%|█████████████████████████████████████████████████████████████████████▍                                                                 | 257/500 [17:31<15:38,  3.86s/it]"
     ]
    },
    {
     "name": "stdout",
     "output_type": "stream",
     "text": [
      "256\t46\t11\t0.34204\tFalse\tFalse\t0:00:03.902005\n"
     ]
    },
    {
     "name": "stderr",
     "output_type": "stream",
     "text": [
      " 52%|█████████████████████████████████████████████████████████████████████▋                                                                 | 258/500 [17:35<15:36,  3.87s/it]"
     ]
    },
    {
     "name": "stdout",
     "output_type": "stream",
     "text": [
      "257\t4\t43\t0.61861\tFalse\tFalse\t0:00:03.881974\n"
     ]
    },
    {
     "name": "stderr",
     "output_type": "stream",
     "text": [
      " 52%|█████████████████████████████████████████████████████████████████████▉                                                                 | 259/500 [17:39<15:44,  3.92s/it]"
     ]
    },
    {
     "name": "stdout",
     "output_type": "stream",
     "text": [
      "258\t22\t29\t0.40033\tFalse\tFalse\t0:00:04.024920\n"
     ]
    },
    {
     "name": "stderr",
     "output_type": "stream",
     "text": [
      " 52%|██████████████████████████████████████████████████████████████████████▏                                                                | 260/500 [17:44<17:01,  4.25s/it]"
     ]
    },
    {
     "name": "stdout",
     "output_type": "stream",
     "text": [
      "259\t98\t87\t0.23472\tFalse\tFalse\t0:00:05.038755\n"
     ]
    },
    {
     "name": "stderr",
     "output_type": "stream",
     "text": [
      " 52%|██████████████████████████████████████████████████████████████████████▍                                                                | 261/500 [17:48<17:21,  4.36s/it]"
     ]
    },
    {
     "name": "stdout",
     "output_type": "stream",
     "text": [
      "260\t14\t-1\t0.00000\tFalse\tFalse\t0:00:04.595334\n"
     ]
    },
    {
     "name": "stderr",
     "output_type": "stream",
     "text": [
      " 52%|██████████████████████████████████████████████████████████████████████▋                                                                | 262/500 [17:52<17:01,  4.29s/it]"
     ]
    },
    {
     "name": "stdout",
     "output_type": "stream",
     "text": [
      "261\t65\t-1\t0.00000\tFalse\tFalse\t0:00:04.131187\n"
     ]
    },
    {
     "name": "stderr",
     "output_type": "stream",
     "text": [
      " 53%|███████████████████████████████████████████████████████████████████████                                                                | 263/500 [17:57<17:43,  4.49s/it]"
     ]
    },
    {
     "name": "stdout",
     "output_type": "stream",
     "text": [
      "262\t76\t-1\t0.00000\tFalse\tFalse\t0:00:04.948745\n"
     ]
    },
    {
     "name": "stderr",
     "output_type": "stream",
     "text": [
      " 53%|███████████████████████████████████████████████████████████████████████▎                                                               | 264/500 [18:02<17:56,  4.56s/it]"
     ]
    },
    {
     "name": "stdout",
     "output_type": "stream",
     "text": [
      "263\t31\t31\t2.35765\tTrue\tTrue\t0:00:04.730229\n"
     ]
    },
    {
     "name": "stderr",
     "output_type": "stream",
     "text": [
      " 53%|███████████████████████████████████████████████████████████████████████▌                                                               | 265/500 [18:06<17:39,  4.51s/it]"
     ]
    },
    {
     "name": "stdout",
     "output_type": "stream",
     "text": [
      "264\t32\t-1\t0.00000\tFalse\tFalse\t0:00:04.384325\n"
     ]
    },
    {
     "name": "stderr",
     "output_type": "stream",
     "text": [
      " 53%|███████████████████████████████████████████████████████████████████████▊                                                               | 266/500 [18:11<17:43,  4.54s/it]"
     ]
    },
    {
     "name": "stdout",
     "output_type": "stream",
     "text": [
      "265\t77\t77\t0.97958\tTrue\tTrue\t0:00:04.624640\n"
     ]
    },
    {
     "name": "stderr",
     "output_type": "stream",
     "text": [
      " 53%|████████████████████████████████████████████████████████████████████████                                                               | 267/500 [18:15<17:29,  4.50s/it]"
     ]
    },
    {
     "name": "stdout",
     "output_type": "stream",
     "text": [
      "266\t22\t24\t2.13548\tFalse\tFalse\t0:00:04.404921\n"
     ]
    },
    {
     "name": "stderr",
     "output_type": "stream",
     "text": [
      " 54%|████████████████████████████████████████████████████████████████████████▎                                                              | 268/500 [18:20<17:22,  4.49s/it]"
     ]
    },
    {
     "name": "stdout",
     "output_type": "stream",
     "text": [
      "267\t25\t-1\t0.00000\tFalse\tFalse\t0:00:04.469894\n"
     ]
    },
    {
     "name": "stderr",
     "output_type": "stream",
     "text": [
      " 54%|████████████████████████████████████████████████████████████████████████▋                                                              | 269/500 [18:24<16:53,  4.39s/it]"
     ]
    },
    {
     "name": "stdout",
     "output_type": "stream",
     "text": [
      "268\t45\t1\t0.03695\tFalse\tFalse\t0:00:04.132210\n"
     ]
    },
    {
     "name": "stderr",
     "output_type": "stream",
     "text": [
      " 54%|████████████████████████████████████████████████████████████████████████▉                                                              | 270/500 [18:28<15:59,  4.17s/it]"
     ]
    },
    {
     "name": "stdout",
     "output_type": "stream",
     "text": [
      "269\t9\t9\t0.05210\tFalse\tTrue\t0:00:03.671808\n"
     ]
    },
    {
     "name": "stderr",
     "output_type": "stream",
     "text": [
      " 54%|█████████████████████████████████████████████████████████████████████████▏                                                             | 271/500 [18:32<15:36,  4.09s/it]"
     ]
    },
    {
     "name": "stdout",
     "output_type": "stream",
     "text": [
      "270\t92\t0\t0.80480\tFalse\tFalse\t0:00:03.890074\n"
     ]
    },
    {
     "name": "stderr",
     "output_type": "stream",
     "text": [
      " 54%|█████████████████████████████████████████████████████████████████████████▍                                                             | 272/500 [18:36<15:21,  4.04s/it]"
     ]
    },
    {
     "name": "stdout",
     "output_type": "stream",
     "text": [
      "271\t71\t71\t0.07996\tTrue\tTrue\t0:00:03.927477\n"
     ]
    },
    {
     "name": "stderr",
     "output_type": "stream",
     "text": [
      " 55%|█████████████████████████████████████████████████████████████████████████▋                                                             | 273/500 [18:40<15:11,  4.02s/it]"
     ]
    },
    {
     "name": "stdout",
     "output_type": "stream",
     "text": [
      "272\t85\t58\t0.14377\tFalse\tFalse\t0:00:03.957940\n"
     ]
    },
    {
     "name": "stderr",
     "output_type": "stream",
     "text": [
      " 55%|█████████████████████████████████████████████████████████████████████████▉                                                             | 274/500 [18:44<15:03,  4.00s/it]"
     ]
    },
    {
     "name": "stdout",
     "output_type": "stream",
     "text": [
      "273\t0\t0\t0.90261\tTrue\tTrue\t0:00:03.949932\n"
     ]
    },
    {
     "name": "stderr",
     "output_type": "stream",
     "text": [
      " 55%|██████████████████████████████████████████████████████████████████████████▎                                                            | 275/500 [18:47<14:36,  3.90s/it]"
     ]
    },
    {
     "name": "stdout",
     "output_type": "stream",
     "text": [
      "274\t40\t-1\t0.00000\tFalse\tFalse\t0:00:03.654481\n"
     ]
    },
    {
     "name": "stderr",
     "output_type": "stream",
     "text": [
      " 55%|██████████████████████████████████████████████████████████████████████████▌                                                            | 276/500 [18:51<14:35,  3.91s/it]"
     ]
    },
    {
     "name": "stdout",
     "output_type": "stream",
     "text": [
      "275\t13\t13\t2.46326\tTrue\tTrue\t0:00:03.934096\n"
     ]
    },
    {
     "name": "stderr",
     "output_type": "stream",
     "text": [
      " 55%|██████████████████████████████████████████████████████████████████████████▊                                                            | 277/500 [18:55<14:15,  3.84s/it]"
     ]
    },
    {
     "name": "stdout",
     "output_type": "stream",
     "text": [
      "276\t75\t75\t2.46326\tTrue\tTrue\t0:00:03.675663\n"
     ]
    },
    {
     "name": "stderr",
     "output_type": "stream",
     "text": [
      " 56%|███████████████████████████████████████████████████████████████████████████                                                            | 278/500 [18:58<13:58,  3.78s/it]"
     ]
    },
    {
     "name": "stdout",
     "output_type": "stream",
     "text": [
      "277\t33\t33\t2.46326\tTrue\tTrue\t0:00:03.635020\n"
     ]
    },
    {
     "name": "stderr",
     "output_type": "stream",
     "text": [
      " 56%|███████████████████████████████████████████████████████████████████████████▎                                                           | 279/500 [19:02<13:48,  3.75s/it]"
     ]
    },
    {
     "name": "stdout",
     "output_type": "stream",
     "text": [
      "278\t42\t42\t0.00924\tFalse\tTrue\t0:00:03.680296\n"
     ]
    },
    {
     "name": "stderr",
     "output_type": "stream",
     "text": [
      " 56%|███████████████████████████████████████████████████████████████████████████▌                                                           | 280/500 [19:06<13:40,  3.73s/it]"
     ]
    },
    {
     "name": "stdout",
     "output_type": "stream",
     "text": [
      "279\t47\t52\t0.50739\tFalse\tFalse\t0:00:03.681347\n"
     ]
    },
    {
     "name": "stderr",
     "output_type": "stream",
     "text": [
      " 56%|███████████████████████████████████████████████████████████████████████████▊                                                           | 281/500 [19:09<13:28,  3.69s/it]"
     ]
    },
    {
     "name": "stdout",
     "output_type": "stream",
     "text": [
      "280\t89\t-1\t0.00000\tFalse\tFalse\t0:00:03.603483\n"
     ]
    },
    {
     "name": "stderr",
     "output_type": "stream",
     "text": [
      " 56%|████████████████████████████████████████████████████████████████████████████▏                                                          | 282/500 [19:13<13:41,  3.77s/it]"
     ]
    },
    {
     "name": "stdout",
     "output_type": "stream",
     "text": [
      "281\t11\t35\t0.68436\tFalse\tFalse\t0:00:03.939014\n"
     ]
    },
    {
     "name": "stderr",
     "output_type": "stream",
     "text": [
      " 57%|████████████████████████████████████████████████████████████████████████████▍                                                          | 283/500 [19:18<14:07,  3.91s/it]"
     ]
    },
    {
     "name": "stdout",
     "output_type": "stream",
     "text": [
      "282\t31\t31\t1.61599\tTrue\tTrue\t0:00:04.228301\n"
     ]
    },
    {
     "name": "stderr",
     "output_type": "stream",
     "text": [
      " 57%|████████████████████████████████████████████████████████████████████████████▋                                                          | 284/500 [19:23<15:29,  4.30s/it]"
     ]
    },
    {
     "name": "stdout",
     "output_type": "stream",
     "text": [
      "283\t10\t-1\t0.00000\tFalse\tFalse\t0:00:05.225336\n"
     ]
    },
    {
     "name": "stderr",
     "output_type": "stream",
     "text": [
      " 57%|████████████████████████████████████████████████████████████████████████████▉                                                          | 285/500 [19:27<15:01,  4.19s/it]"
     ]
    },
    {
     "name": "stdout",
     "output_type": "stream",
     "text": [
      "284\t85\t-1\t0.00000\tFalse\tFalse\t0:00:03.941178\n"
     ]
    },
    {
     "name": "stderr",
     "output_type": "stream",
     "text": [
      " 57%|█████████████████████████████████████████████████████████████████████████████▏                                                         | 286/500 [19:30<14:23,  4.03s/it]"
     ]
    },
    {
     "name": "stdout",
     "output_type": "stream",
     "text": [
      "285\t44\t-1\t0.00000\tFalse\tFalse\t0:00:03.652675\n"
     ]
    },
    {
     "name": "stderr",
     "output_type": "stream",
     "text": [
      " 57%|█████████████████████████████████████████████████████████████████████████████▍                                                         | 287/500 [19:34<14:01,  3.95s/it]"
     ]
    },
    {
     "name": "stdout",
     "output_type": "stream",
     "text": [
      "286\t38\t-1\t0.00000\tFalse\tFalse\t0:00:03.755038\n"
     ]
    },
    {
     "name": "stderr",
     "output_type": "stream",
     "text": [
      " 58%|█████████████████████████████████████████████████████████████████████████████▊                                                         | 288/500 [19:38<13:50,  3.92s/it]"
     ]
    },
    {
     "name": "stdout",
     "output_type": "stream",
     "text": [
      "287\t59\t-1\t0.00000\tFalse\tFalse\t0:00:03.843343\n"
     ]
    },
    {
     "name": "stderr",
     "output_type": "stream",
     "text": [
      " 58%|██████████████████████████████████████████████████████████████████████████████                                                         | 289/500 [19:42<13:28,  3.83s/it]"
     ]
    },
    {
     "name": "stdout",
     "output_type": "stream",
     "text": [
      "288\t20\t12\t0.38631\tFalse\tFalse\t0:00:03.627477\n"
     ]
    },
    {
     "name": "stderr",
     "output_type": "stream",
     "text": [
      " 58%|██████████████████████████████████████████████████████████████████████████████▎                                                        | 290/500 [19:45<13:14,  3.78s/it]"
     ]
    },
    {
     "name": "stdout",
     "output_type": "stream",
     "text": [
      "289\t75\t85\t1.61599\tFalse\tFalse\t0:00:03.665470\n"
     ]
    },
    {
     "name": "stderr",
     "output_type": "stream",
     "text": [
      " 58%|██████████████████████████████████████████████████████████████████████████████▌                                                        | 291/500 [19:49<13:20,  3.83s/it]"
     ]
    },
    {
     "name": "stdout",
     "output_type": "stream",
     "text": [
      "290\t14\t-1\t0.00000\tFalse\tFalse\t0:00:03.942547\n"
     ]
    },
    {
     "name": "stderr",
     "output_type": "stream",
     "text": [
      " 58%|██████████████████████████████████████████████████████████████████████████████▊                                                        | 292/500 [19:53<13:07,  3.79s/it]"
     ]
    },
    {
     "name": "stdout",
     "output_type": "stream",
     "text": [
      "291\t72\t-1\t0.00000\tFalse\tFalse\t0:00:03.681946\n"
     ]
    },
    {
     "name": "stderr",
     "output_type": "stream",
     "text": [
      " 59%|███████████████████████████████████████████████████████████████████████████████                                                        | 293/500 [19:57<12:54,  3.74s/it]"
     ]
    },
    {
     "name": "stdout",
     "output_type": "stream",
     "text": [
      "292\t71\t28\t0.08250\tFalse\tFalse\t0:00:03.637859\n"
     ]
    },
    {
     "name": "stderr",
     "output_type": "stream",
     "text": [
      " 59%|███████████████████████████████████████████████████████████████████████████████▍                                                       | 294/500 [20:00<13:02,  3.80s/it]"
     ]
    },
    {
     "name": "stdout",
     "output_type": "stream",
     "text": [
      "293\t8\t8\t0.24791\tTrue\tTrue\t0:00:03.932364\n"
     ]
    },
    {
     "name": "stderr",
     "output_type": "stream",
     "text": [
      " 59%|███████████████████████████████████████████████████████████████████████████████▋                                                       | 295/500 [20:04<13:08,  3.84s/it]"
     ]
    },
    {
     "name": "stdout",
     "output_type": "stream",
     "text": [
      "294\t2\t-1\t0.00000\tFalse\tFalse\t0:00:03.945209\n"
     ]
    },
    {
     "name": "stderr",
     "output_type": "stream",
     "text": [
      " 59%|███████████████████████████████████████████████████████████████████████████████▉                                                       | 296/500 [20:08<13:11,  3.88s/it]"
     ]
    },
    {
     "name": "stdout",
     "output_type": "stream",
     "text": [
      "295\t45\t45\t2.46326\tTrue\tTrue\t0:00:03.963210\n"
     ]
    },
    {
     "name": "stderr",
     "output_type": "stream",
     "text": [
      " 59%|████████████████████████████████████████████████████████████████████████████████▏                                                      | 297/500 [20:12<12:56,  3.82s/it]"
     ]
    },
    {
     "name": "stdout",
     "output_type": "stream",
     "text": [
      "296\t62\t62\t0.02686\tFalse\tTrue\t0:00:03.688825\n"
     ]
    },
    {
     "name": "stderr",
     "output_type": "stream",
     "text": [
      " 60%|████████████████████████████████████████████████████████████████████████████████▍                                                      | 298/500 [20:16<12:51,  3.82s/it]"
     ]
    },
    {
     "name": "stdout",
     "output_type": "stream",
     "text": [
      "297\t34\t34\t1.30416\tTrue\tTrue\t0:00:03.800421\n"
     ]
    },
    {
     "name": "stderr",
     "output_type": "stream",
     "text": [
      " 60%|████████████████████████████████████████████████████████████████████████████████▋                                                      | 299/500 [20:21<13:39,  4.08s/it]"
     ]
    },
    {
     "name": "stdout",
     "output_type": "stream",
     "text": [
      "298\t70\t0\t2.46326\tFalse\tFalse\t0:00:04.688478\n"
     ]
    },
    {
     "name": "stderr",
     "output_type": "stream",
     "text": [
      " 60%|█████████████████████████████████████████████████████████████████████████████████                                                      | 300/500 [20:26<15:00,  4.50s/it]"
     ]
    },
    {
     "name": "stdout",
     "output_type": "stream",
     "text": [
      "299\t33\t-1\t0.00000\tFalse\tFalse\t0:00:05.478303\n"
     ]
    },
    {
     "name": "stderr",
     "output_type": "stream",
     "text": [
      " 60%|█████████████████████████████████████████████████████████████████████████████████▎                                                     | 301/500 [20:32<16:36,  5.01s/it]"
     ]
    },
    {
     "name": "stdout",
     "output_type": "stream",
     "text": [
      "300\t9\t61\t0.69451\tFalse\tFalse\t0:00:06.187415\n"
     ]
    },
    {
     "name": "stderr",
     "output_type": "stream",
     "text": [
      " 60%|█████████████████████████████████████████████████████████████████████████████████▌                                                     | 302/500 [20:39<18:19,  5.55s/it]"
     ]
    },
    {
     "name": "stdout",
     "output_type": "stream",
     "text": [
      "301\t8\t-1\t0.00000\tFalse\tFalse\t0:00:06.828390\n"
     ]
    },
    {
     "name": "stderr",
     "output_type": "stream",
     "text": [
      " 61%|█████████████████████████████████████████████████████████████████████████████████▊                                                     | 303/500 [20:44<17:51,  5.44s/it]"
     ]
    },
    {
     "name": "stdout",
     "output_type": "stream",
     "text": [
      "302\t55\t55\t0.97070\tTrue\tTrue\t0:00:05.170818\n"
     ]
    },
    {
     "name": "stderr",
     "output_type": "stream",
     "text": [
      " 61%|██████████████████████████████████████████████████████████████████████████████████                                                     | 304/500 [20:49<17:32,  5.37s/it]"
     ]
    },
    {
     "name": "stdout",
     "output_type": "stream",
     "text": [
      "303\t11\t11\t2.46326\tTrue\tTrue\t0:00:05.197675\n"
     ]
    },
    {
     "name": "stderr",
     "output_type": "stream",
     "text": [
      " 61%|██████████████████████████████████████████████████████████████████████████████████▎                                                    | 305/500 [20:54<17:04,  5.25s/it]"
     ]
    },
    {
     "name": "stdout",
     "output_type": "stream",
     "text": [
      "304\t57\t-1\t0.00000\tFalse\tFalse\t0:00:04.972537\n"
     ]
    },
    {
     "name": "stderr",
     "output_type": "stream",
     "text": [
      " 61%|██████████████████████████████████████████████████████████████████████████████████▌                                                    | 306/500 [20:59<16:29,  5.10s/it]"
     ]
    },
    {
     "name": "stdout",
     "output_type": "stream",
     "text": [
      "305\t37\t37\t0.00672\tFalse\tTrue\t0:00:04.742735\n"
     ]
    },
    {
     "name": "stderr",
     "output_type": "stream",
     "text": [
      " 61%|██████████████████████████████████████████████████████████████████████████████████▉                                                    | 307/500 [21:03<14:44,  4.58s/it]"
     ]
    },
    {
     "name": "stdout",
     "output_type": "stream",
     "text": [
      "306\t1\t-1\t0.00000\tFalse\tFalse\t0:00:03.376709\n"
     ]
    },
    {
     "name": "stderr",
     "output_type": "stream",
     "text": [
      " 62%|███████████████████████████████████████████████████████████████████████████████████▏                                                   | 308/500 [21:07<14:02,  4.39s/it]"
     ]
    },
    {
     "name": "stdout",
     "output_type": "stream",
     "text": [
      "307\t4\t-1\t0.00000\tFalse\tFalse\t0:00:03.936308\n"
     ]
    },
    {
     "name": "stderr",
     "output_type": "stream",
     "text": [
      " 62%|███████████████████████████████████████████████████████████████████████████████████▍                                                   | 309/500 [21:10<13:20,  4.19s/it]"
     ]
    },
    {
     "name": "stdout",
     "output_type": "stream",
     "text": [
      "308\t29\t-1\t0.00000\tFalse\tFalse\t0:00:03.715128\n"
     ]
    },
    {
     "name": "stderr",
     "output_type": "stream",
     "text": [
      " 62%|███████████████████████████████████████████████████████████████████████████████████▋                                                   | 310/500 [21:14<12:57,  4.09s/it]"
     ]
    },
    {
     "name": "stdout",
     "output_type": "stream",
     "text": [
      "309\t7\t-1\t0.00000\tFalse\tFalse\t0:00:03.862366\n"
     ]
    },
    {
     "name": "stderr",
     "output_type": "stream",
     "text": [
      " 62%|███████████████████████████████████████████████████████████████████████████████████▉                                                   | 311/500 [21:18<12:44,  4.05s/it]"
     ]
    },
    {
     "name": "stdout",
     "output_type": "stream",
     "text": [
      "310\t52\t52\t0.19286\tTrue\tTrue\t0:00:03.941492\n"
     ]
    },
    {
     "name": "stderr",
     "output_type": "stream",
     "text": [
      " 62%|████████████████████████████████████████████████████████████████████████████████████▏                                                  | 312/500 [21:22<12:18,  3.93s/it]"
     ]
    },
    {
     "name": "stdout",
     "output_type": "stream",
     "text": [
      "311\t79\t-1\t0.00000\tFalse\tFalse\t0:00:03.652935\n"
     ]
    },
    {
     "name": "stderr",
     "output_type": "stream",
     "text": [
      " 63%|████████████████████████████████████████████████████████████████████████████████████▌                                                  | 313/500 [21:26<12:15,  3.93s/it]"
     ]
    },
    {
     "name": "stdout",
     "output_type": "stream",
     "text": [
      "312\t13\t-1\t0.00000\tFalse\tFalse\t0:00:03.931266\n"
     ]
    },
    {
     "name": "stderr",
     "output_type": "stream",
     "text": [
      " 63%|████████████████████████████████████████████████████████████████████████████████████▊                                                  | 314/500 [21:29<12:00,  3.87s/it]"
     ]
    },
    {
     "name": "stdout",
     "output_type": "stream",
     "text": [
      "313\t59\t-1\t0.00000\tFalse\tFalse\t0:00:03.736514\n"
     ]
    },
    {
     "name": "stderr",
     "output_type": "stream",
     "text": [
      " 63%|█████████████████████████████████████████████████████████████████████████████████████                                                  | 315/500 [21:33<11:53,  3.86s/it]"
     ]
    },
    {
     "name": "stdout",
     "output_type": "stream",
     "text": [
      "314\t0\t0\t1.13571\tTrue\tTrue\t0:00:03.811105\n"
     ]
    },
    {
     "name": "stderr",
     "output_type": "stream",
     "text": [
      " 63%|█████████████████████████████████████████████████████████████████████████████████████▎                                                 | 316/500 [21:37<11:53,  3.88s/it]"
     ]
    },
    {
     "name": "stdout",
     "output_type": "stream",
     "text": [
      "315\t60\t60\t2.46326\tTrue\tTrue\t0:00:03.923658\n"
     ]
    },
    {
     "name": "stderr",
     "output_type": "stream",
     "text": [
      " 63%|█████████████████████████████████████████████████████████████████████████████████████▌                                                 | 317/500 [21:41<11:52,  3.90s/it]"
     ]
    },
    {
     "name": "stdout",
     "output_type": "stream",
     "text": [
      "316\t1\t-1\t0.00000\tFalse\tFalse\t0:00:03.936592\n"
     ]
    },
    {
     "name": "stderr",
     "output_type": "stream",
     "text": [
      " 64%|█████████████████████████████████████████████████████████████████████████████████████▊                                                 | 318/500 [21:45<12:01,  3.96s/it]"
     ]
    },
    {
     "name": "stdout",
     "output_type": "stream",
     "text": [
      "317\t97\t74\t0.08503\tFalse\tFalse\t0:00:04.125040\n"
     ]
    },
    {
     "name": "stderr",
     "output_type": "stream",
     "text": [
      " 64%|██████████████████████████████████████████████████████████████████████████████████████▏                                                | 319/500 [21:49<11:46,  3.90s/it]"
     ]
    },
    {
     "name": "stdout",
     "output_type": "stream",
     "text": [
      "318\t64\t-1\t0.00000\tFalse\tFalse\t0:00:03.680616\n"
     ]
    },
    {
     "name": "stderr",
     "output_type": "stream",
     "text": [
      " 64%|██████████████████████████████████████████████████████████████████████████████████████▍                                                | 320/500 [21:56<14:24,  4.80s/it]"
     ]
    },
    {
     "name": "stdout",
     "output_type": "stream",
     "text": [
      "319\t55\t95\t0.75013\tFalse\tFalse\t0:00:06.893311\n"
     ]
    },
    {
     "name": "stderr",
     "output_type": "stream",
     "text": [
      " 64%|██████████████████████████████████████████████████████████████████████████████████████▋                                                | 321/500 [22:02<15:38,  5.25s/it]"
     ]
    },
    {
     "name": "stdout",
     "output_type": "stream",
     "text": [
      "320\t28\t-1\t0.00000\tFalse\tFalse\t0:00:06.275987\n"
     ]
    },
    {
     "name": "stderr",
     "output_type": "stream",
     "text": [
      " 64%|██████████████████████████████████████████████████████████████████████████████████████▉                                                | 322/500 [22:06<14:21,  4.84s/it]"
     ]
    },
    {
     "name": "stdout",
     "output_type": "stream",
     "text": [
      "321\t53\t53\t1.60457\tTrue\tTrue\t0:00:03.893881\n"
     ]
    },
    {
     "name": "stderr",
     "output_type": "stream",
     "text": [
      " 65%|███████████████████████████████████████████████████████████████████████████████████████▏                                               | 323/500 [22:10<13:14,  4.49s/it]"
     ]
    },
    {
     "name": "stdout",
     "output_type": "stream",
     "text": [
      "322\t39\t13\t0.61861\tFalse\tFalse\t0:00:03.659415\n"
     ]
    },
    {
     "name": "stderr",
     "output_type": "stream",
     "text": [
      " 65%|███████████████████████████████████████████████████████████████████████████████████████▍                                               | 324/500 [22:14<12:39,  4.31s/it]"
     ]
    },
    {
     "name": "stdout",
     "output_type": "stream",
     "text": [
      "323\t75\t75\t0.95321\tTrue\tTrue\t0:00:03.909442\n"
     ]
    },
    {
     "name": "stderr",
     "output_type": "stream",
     "text": [
      " 65%|███████████████████████████████████████████████████████████████████████████████████████▊                                               | 325/500 [22:18<12:14,  4.19s/it]"
     ]
    },
    {
     "name": "stdout",
     "output_type": "stream",
     "text": [
      "324\t4\t-1\t0.00000\tFalse\tFalse\t0:00:03.912763\n"
     ]
    },
    {
     "name": "stderr",
     "output_type": "stream",
     "text": [
      " 65%|████████████████████████████████████████████████████████████████████████████████████████                                               | 326/500 [22:21<11:43,  4.04s/it]"
     ]
    },
    {
     "name": "stdout",
     "output_type": "stream",
     "text": [
      "325\t40\t40\t0.27714\tTrue\tTrue\t0:00:03.681246\n"
     ]
    },
    {
     "name": "stderr",
     "output_type": "stream",
     "text": [
      " 65%|████████████████████████████████████████████████████████████████████████████████████████▎                                              | 327/500 [22:25<11:32,  4.00s/it]"
     ]
    },
    {
     "name": "stdout",
     "output_type": "stream",
     "text": [
      "326\t60\t60\t2.46326\tTrue\tTrue\t0:00:03.915160\n"
     ]
    },
    {
     "name": "stderr",
     "output_type": "stream",
     "text": [
      " 66%|████████████████████████████████████████████████████████████████████████████████████████▌                                              | 328/500 [22:29<11:18,  3.95s/it]"
     ]
    },
    {
     "name": "stdout",
     "output_type": "stream",
     "text": [
      "327\t44\t80\t0.21635\tFalse\tFalse\t0:00:03.806725\n"
     ]
    },
    {
     "name": "stderr",
     "output_type": "stream",
     "text": [
      " 66%|████████████████████████████████████████████████████████████████████████████████████████▊                                              | 329/500 [22:33<11:20,  3.98s/it]"
     ]
    },
    {
     "name": "stdout",
     "output_type": "stream",
     "text": [
      "328\t36\t-1\t0.00000\tFalse\tFalse\t0:00:04.051876\n"
     ]
    },
    {
     "name": "stderr",
     "output_type": "stream",
     "text": [
      " 66%|█████████████████████████████████████████████████████████████████████████████████████████                                              | 330/500 [22:37<11:12,  3.96s/it]"
     ]
    },
    {
     "name": "stdout",
     "output_type": "stream",
     "text": [
      "329\t93\t-1\t0.00000\tFalse\tFalse\t0:00:03.898362\n"
     ]
    },
    {
     "name": "stderr",
     "output_type": "stream",
     "text": [
      " 66%|█████████████████████████████████████████████████████████████████████████████████████████▎                                             | 331/500 [22:41<11:08,  3.95s/it]"
     ]
    },
    {
     "name": "stdout",
     "output_type": "stream",
     "text": [
      "330\t53\t53\t0.86236\tTrue\tTrue\t0:00:03.950058\n"
     ]
    },
    {
     "name": "stderr",
     "output_type": "stream",
     "text": [
      " 66%|█████████████████████████████████████████████████████████████████████████████████████████▋                                             | 332/500 [22:46<11:44,  4.19s/it]"
     ]
    },
    {
     "name": "stdout",
     "output_type": "stream",
     "text": [
      "331\t79\t-1\t0.00000\tFalse\tFalse\t0:00:04.739723\n"
     ]
    },
    {
     "name": "stderr",
     "output_type": "stream",
     "text": [
      " 67%|█████████████████████████████████████████████████████████████████████████████████████████▉                                             | 333/500 [22:51<12:40,  4.55s/it]"
     ]
    },
    {
     "name": "stdout",
     "output_type": "stream",
     "text": [
      "332\t17\t-1\t0.00000\tFalse\tFalse\t0:00:05.388263\n"
     ]
    },
    {
     "name": "stderr",
     "output_type": "stream",
     "text": [
      " 67%|██████████████████████████████████████████████████████████████████████████████████████████▏                                            | 334/500 [22:55<11:49,  4.28s/it]"
     ]
    },
    {
     "name": "stdout",
     "output_type": "stream",
     "text": [
      "333\t89\t89\t2.46326\tTrue\tTrue\t0:00:03.631984\n"
     ]
    },
    {
     "name": "stderr",
     "output_type": "stream",
     "text": [
      " 67%|██████████████████████████████████████████████████████████████████████████████████████████▍                                            | 335/500 [22:58<11:13,  4.08s/it]"
     ]
    },
    {
     "name": "stdout",
     "output_type": "stream",
     "text": [
      "334\t77\t79\t0.01176\tFalse\tFalse\t0:00:03.632409\n"
     ]
    },
    {
     "name": "stderr",
     "output_type": "stream",
     "text": [
      " 67%|██████████████████████████████████████████████████████████████████████████████████████████▋                                            | 336/500 [23:02<11:04,  4.05s/it]"
     ]
    },
    {
     "name": "stdout",
     "output_type": "stream",
     "text": [
      "335\t54\t54\t2.46326\tTrue\tTrue\t0:00:03.969622\n"
     ]
    },
    {
     "name": "stderr",
     "output_type": "stream",
     "text": [
      " 67%|██████████████████████████████████████████████████████████████████████████████████████████▉                                            | 337/500 [23:06<10:39,  3.92s/it]"
     ]
    },
    {
     "name": "stdout",
     "output_type": "stream",
     "text": [
      "336\t60\t96\t0.17471\tFalse\tFalse\t0:00:03.629904\n"
     ]
    },
    {
     "name": "stderr",
     "output_type": "stream",
     "text": [
      " 68%|███████████████████████████████████████████████████████████████████████████████████████████▎                                           | 338/500 [23:10<10:25,  3.86s/it]"
     ]
    },
    {
     "name": "stdout",
     "output_type": "stream",
     "text": [
      "337\t13\t58\t0.29322\tFalse\tFalse\t0:00:03.708972\n"
     ]
    },
    {
     "name": "stderr",
     "output_type": "stream",
     "text": [
      " 68%|███████████████████████████████████████████████████████████████████████████████████████████▌                                           | 339/500 [23:14<11:10,  4.16s/it]"
     ]
    },
    {
     "name": "stdout",
     "output_type": "stream",
     "text": [
      "338\t12\t12\t0.12838\tTrue\tTrue\t0:00:04.870836\n"
     ]
    },
    {
     "name": "stderr",
     "output_type": "stream",
     "text": [
      " 68%|███████████████████████████████████████████████████████████████████████████████████████████▊                                           | 340/500 [23:18<10:59,  4.12s/it]"
     ]
    },
    {
     "name": "stdout",
     "output_type": "stream",
     "text": [
      "339\t8\t-1\t0.00000\tFalse\tFalse\t0:00:04.014849\n"
     ]
    },
    {
     "name": "stderr",
     "output_type": "stream",
     "text": [
      " 68%|████████████████████████████████████████████████████████████████████████████████████████████                                           | 341/500 [23:22<10:47,  4.07s/it]"
     ]
    },
    {
     "name": "stdout",
     "output_type": "stream",
     "text": [
      "340\t35\t35\t1.61599\tTrue\tTrue\t0:00:03.950422\n"
     ]
    },
    {
     "name": "stderr",
     "output_type": "stream",
     "text": [
      " 68%|████████████████████████████████████████████████████████████████████████████████████████████▎                                          | 342/500 [23:26<10:37,  4.03s/it]"
     ]
    },
    {
     "name": "stdout",
     "output_type": "stream",
     "text": [
      "341\t84\t-1\t0.00000\tFalse\tFalse\t0:00:03.941446\n"
     ]
    },
    {
     "name": "stderr",
     "output_type": "stream",
     "text": [
      " 69%|████████████████████████████████████████████████████████████████████████████████████████████▌                                          | 343/500 [23:30<10:30,  4.02s/it]"
     ]
    },
    {
     "name": "stdout",
     "output_type": "stream",
     "text": [
      "342\t89\t-1\t0.00000\tFalse\tFalse\t0:00:03.979361\n"
     ]
    },
    {
     "name": "stderr",
     "output_type": "stream",
     "text": [
      " 69%|████████████████████████████████████████████████████████████████████████████████████████████▉                                          | 344/500 [23:34<10:24,  4.00s/it]"
     ]
    },
    {
     "name": "stdout",
     "output_type": "stream",
     "text": [
      "343\t68\t-1\t0.00000\tFalse\tFalse\t0:00:03.962077\n"
     ]
    },
    {
     "name": "stderr",
     "output_type": "stream",
     "text": [
      " 69%|█████████████████████████████████████████████████████████████████████████████████████████████▏                                         | 345/500 [23:40<11:54,  4.61s/it]"
     ]
    },
    {
     "name": "stdout",
     "output_type": "stream",
     "text": [
      "344\t32\t-1\t0.00000\tFalse\tFalse\t0:00:06.017156\n"
     ]
    },
    {
     "name": "stderr",
     "output_type": "stream",
     "text": [
      " 69%|█████████████████████████████████████████████████████████████████████████████████████████████▍                                         | 346/500 [23:44<10:53,  4.24s/it]"
     ]
    },
    {
     "name": "stdout",
     "output_type": "stream",
     "text": [
      "345\t23\t23\t2.46326\tTrue\tTrue\t0:00:03.394380\n"
     ]
    },
    {
     "name": "stderr",
     "output_type": "stream",
     "text": [
      " 69%|█████████████████████████████████████████████████████████████████████████████████████████████▋                                         | 347/500 [23:48<10:35,  4.15s/it]"
     ]
    },
    {
     "name": "stdout",
     "output_type": "stream",
     "text": [
      "346\t84\t84\t1.11448\tTrue\tTrue\t0:00:03.930902\n"
     ]
    },
    {
     "name": "stderr",
     "output_type": "stream",
     "text": [
      " 70%|█████████████████████████████████████████████████████████████████████████████████████████████▉                                         | 348/500 [23:51<10:10,  4.02s/it]"
     ]
    },
    {
     "name": "stdout",
     "output_type": "stream",
     "text": [
      "347\t34\t34\t0.10794\tTrue\tTrue\t0:00:03.696356\n"
     ]
    },
    {
     "name": "stderr",
     "output_type": "stream",
     "text": [
      " 70%|██████████████████████████████████████████████████████████████████████████████████████████████▏                                        | 349/500 [23:55<09:51,  3.92s/it]"
     ]
    },
    {
     "name": "stdout",
     "output_type": "stream",
     "text": [
      "348\t88\t-1\t0.00000\tFalse\tFalse\t0:00:03.680743\n"
     ]
    },
    {
     "name": "stderr",
     "output_type": "stream",
     "text": [
      " 70%|██████████████████████████████████████████████████████████████████████████████████████████████▌                                        | 350/500 [23:59<09:37,  3.85s/it]"
     ]
    },
    {
     "name": "stdout",
     "output_type": "stream",
     "text": [
      "349\t47\t-1\t0.00000\tFalse\tFalse\t0:00:03.688561\n"
     ]
    },
    {
     "name": "stderr",
     "output_type": "stream",
     "text": [
      " 70%|██████████████████████████████████████████████████████████████████████████████████████████████▊                                        | 351/500 [24:02<09:25,  3.80s/it]"
     ]
    },
    {
     "name": "stdout",
     "output_type": "stream",
     "text": [
      "350\t9\t-1\t0.00000\tFalse\tFalse\t0:00:03.674407\n"
     ]
    },
    {
     "name": "stderr",
     "output_type": "stream",
     "text": [
      " 70%|███████████████████████████████████████████████████████████████████████████████████████████████                                        | 352/500 [24:06<09:15,  3.75s/it]"
     ]
    },
    {
     "name": "stdout",
     "output_type": "stream",
     "text": [
      "351\t60\t-1\t0.00000\tFalse\tFalse\t0:00:03.641941\n"
     ]
    },
    {
     "name": "stderr",
     "output_type": "stream",
     "text": [
      " 71%|███████████████████████████████████████████████████████████████████████████████████████████████▎                                       | 353/500 [24:09<08:56,  3.65s/it]"
     ]
    },
    {
     "name": "stdout",
     "output_type": "stream",
     "text": [
      "352\t85\t-1\t0.00000\tFalse\tFalse\t0:00:03.405695\n"
     ]
    },
    {
     "name": "stderr",
     "output_type": "stream",
     "text": [
      " 71%|███████████████████████████████████████████████████████████████████████████████████████████████▌                                       | 354/500 [24:13<08:53,  3.66s/it]"
     ]
    },
    {
     "name": "stdout",
     "output_type": "stream",
     "text": [
      "353\t55\t43\t0.11815\tFalse\tFalse\t0:00:03.668641\n"
     ]
    },
    {
     "name": "stderr",
     "output_type": "stream",
     "text": [
      " 71%|███████████████████████████████████████████████████████████████████████████████████████████████▊                                       | 355/500 [24:17<08:51,  3.67s/it]"
     ]
    },
    {
     "name": "stdout",
     "output_type": "stream",
     "text": [
      "354\t34\t34\t0.94458\tTrue\tTrue\t0:00:03.696890\n"
     ]
    },
    {
     "name": "stderr",
     "output_type": "stream",
     "text": [
      " 71%|████████████████████████████████████████████████████████████████████████████████████████████████                                       | 356/500 [24:20<08:40,  3.61s/it]"
     ]
    },
    {
     "name": "stdout",
     "output_type": "stream",
     "text": [
      "355\t49\t-1\t0.00000\tFalse\tFalse\t0:00:03.485195\n"
     ]
    },
    {
     "name": "stderr",
     "output_type": "stream",
     "text": [
      " 71%|████████████████████████████████████████████████████████████████████████████████████████████████▍                                      | 357/500 [24:24<08:46,  3.68s/it]"
     ]
    },
    {
     "name": "stdout",
     "output_type": "stream",
     "text": [
      "356\t68\t68\t2.46326\tTrue\tTrue\t0:00:03.849613\n"
     ]
    },
    {
     "name": "stderr",
     "output_type": "stream",
     "text": [
      " 72%|████████████████████████████████████████████████████████████████████████████████████████████████▋                                      | 358/500 [24:29<09:14,  3.91s/it]"
     ]
    },
    {
     "name": "stdout",
     "output_type": "stream",
     "text": [
      "357\t39\t-1\t0.00000\tFalse\tFalse\t0:00:04.419732\n"
     ]
    },
    {
     "name": "stderr",
     "output_type": "stream",
     "text": [
      " 72%|████████████████████████████████████████████████████████████████████████████████████████████████▉                                      | 359/500 [24:33<09:13,  3.92s/it]"
     ]
    },
    {
     "name": "stdout",
     "output_type": "stream",
     "text": [
      "358\t94\t94\t2.46326\tTrue\tTrue\t0:00:03.965151\n"
     ]
    },
    {
     "name": "stderr",
     "output_type": "stream",
     "text": [
      " 72%|█████████████████████████████████████████████████████████████████████████████████████████████████▏                                     | 360/500 [24:36<08:59,  3.85s/it]"
     ]
    },
    {
     "name": "stdout",
     "output_type": "stream",
     "text": [
      "359\t84\t87\t0.77531\tFalse\tFalse\t0:00:03.682467\n"
     ]
    },
    {
     "name": "stderr",
     "output_type": "stream",
     "text": [
      " 72%|█████████████████████████████████████████████████████████████████████████████████████████████████▍                                     | 361/500 [24:41<09:35,  4.14s/it]"
     ]
    },
    {
     "name": "stdout",
     "output_type": "stream",
     "text": [
      "360\t89\t-1\t0.00000\tFalse\tFalse\t0:00:04.800658\n"
     ]
    },
    {
     "name": "stderr",
     "output_type": "stream",
     "text": [
      " 72%|█████████████████████████████████████████████████████████████████████████████████████████████████▋                                     | 362/500 [24:45<09:16,  4.03s/it]"
     ]
    },
    {
     "name": "stdout",
     "output_type": "stream",
     "text": [
      "361\t60\t-1\t0.00000\tFalse\tFalse\t0:00:03.786957\n"
     ]
    },
    {
     "name": "stderr",
     "output_type": "stream",
     "text": [
      " 73%|██████████████████████████████████████████████████████████████████████████████████████████████████                                     | 363/500 [24:49<09:07,  4.00s/it]"
     ]
    },
    {
     "name": "stdout",
     "output_type": "stream",
     "text": [
      "362\t11\t-1\t0.00000\tFalse\tFalse\t0:00:03.918914\n"
     ]
    },
    {
     "name": "stderr",
     "output_type": "stream",
     "text": [
      " 73%|██████████████████████████████████████████████████████████████████████████████████████████████████▎                                    | 364/500 [24:53<08:59,  3.97s/it]"
     ]
    },
    {
     "name": "stdout",
     "output_type": "stream",
     "text": [
      "363\t95\t-1\t0.00000\tFalse\tFalse\t0:00:03.891790\n"
     ]
    },
    {
     "name": "stderr",
     "output_type": "stream",
     "text": [
      " 73%|██████████████████████████████████████████████████████████████████████████████████████████████████▌                                    | 365/500 [24:57<08:54,  3.96s/it]"
     ]
    },
    {
     "name": "stdout",
     "output_type": "stream",
     "text": [
      "364\t22\t-1\t0.00000\tFalse\tFalse\t0:00:03.941418\n"
     ]
    },
    {
     "name": "stderr",
     "output_type": "stream",
     "text": [
      " 73%|██████████████████████████████████████████████████████████████████████████████████████████████████▊                                    | 366/500 [25:00<08:48,  3.95s/it]"
     ]
    },
    {
     "name": "stdout",
     "output_type": "stream",
     "text": [
      "365\t80\t55\t0.27714\tFalse\tFalse\t0:00:03.908565\n"
     ]
    },
    {
     "name": "stderr",
     "output_type": "stream",
     "text": [
      " 73%|███████████████████████████████████████████████████████████████████████████████████████████████████                                    | 367/500 [25:04<08:31,  3.85s/it]"
     ]
    },
    {
     "name": "stdout",
     "output_type": "stream",
     "text": [
      "366\t52\t-1\t0.00000\tFalse\tFalse\t0:00:03.620524\n"
     ]
    },
    {
     "name": "stderr",
     "output_type": "stream",
     "text": [
      " 74%|███████████████████████████████████████████████████████████████████████████████████████████████████▎                                   | 368/500 [25:08<08:32,  3.88s/it]"
     ]
    },
    {
     "name": "stdout",
     "output_type": "stream",
     "text": [
      "367\t57\t14\t0.88631\tFalse\tFalse\t0:00:03.948405\n"
     ]
    },
    {
     "name": "stderr",
     "output_type": "stream",
     "text": [
      " 74%|███████████████████████████████████████████████████████████████████████████████████████████████████▋                                   | 369/500 [25:12<08:29,  3.89s/it]"
     ]
    },
    {
     "name": "stdout",
     "output_type": "stream",
     "text": [
      "368\t82\t82\t2.46326\tTrue\tTrue\t0:00:03.916336\n"
     ]
    },
    {
     "name": "stderr",
     "output_type": "stream",
     "text": [
      " 74%|███████████████████████████████████████████████████████████████████████████████████████████████████▉                                   | 370/500 [25:16<08:26,  3.90s/it]"
     ]
    },
    {
     "name": "stdout",
     "output_type": "stream",
     "text": [
      "369\t81\t81\t0.41445\tTrue\tTrue\t0:00:03.913826\n"
     ]
    },
    {
     "name": "stderr",
     "output_type": "stream",
     "text": [
      " 74%|████████████████████████████████████████████████████████████████████████████████████████████████████▏                                  | 371/500 [25:20<08:23,  3.90s/it]"
     ]
    },
    {
     "name": "stdout",
     "output_type": "stream",
     "text": [
      "370\t55\t-1\t0.00000\tFalse\tFalse\t0:00:03.915158\n"
     ]
    },
    {
     "name": "stderr",
     "output_type": "stream",
     "text": [
      " 74%|████████████████████████████████████████████████████████████████████████████████████████████████████▍                                  | 372/500 [25:24<08:43,  4.09s/it]"
     ]
    },
    {
     "name": "stdout",
     "output_type": "stream",
     "text": [
      "371\t89\t-1\t0.00000\tFalse\tFalse\t0:00:04.530854\n"
     ]
    },
    {
     "name": "stderr",
     "output_type": "stream",
     "text": [
      " 75%|████████████████████████████████████████████████████████████████████████████████████████████████████▋                                  | 373/500 [25:29<09:01,  4.26s/it]"
     ]
    },
    {
     "name": "stdout",
     "output_type": "stream",
     "text": [
      "372\t6\t24\t2.46326\tFalse\tFalse\t0:00:04.649729\n"
     ]
    },
    {
     "name": "stderr",
     "output_type": "stream",
     "text": [
      " 75%|████████████████████████████████████████████████████████████████████████████████████████████████████▉                                  | 374/500 [25:33<08:47,  4.18s/it]"
     ]
    },
    {
     "name": "stdout",
     "output_type": "stream",
     "text": [
      "373\t25\t-1\t0.00000\tFalse\tFalse\t0:00:03.997966\n"
     ]
    },
    {
     "name": "stderr",
     "output_type": "stream",
     "text": [
      " 75%|█████████████████████████████████████████████████████████████████████████████████████████████████████▎                                 | 375/500 [25:36<08:13,  3.94s/it]"
     ]
    },
    {
     "name": "stdout",
     "output_type": "stream",
     "text": [
      "374\t98\t35\t0.43439\tFalse\tFalse\t0:00:03.384804\n"
     ]
    },
    {
     "name": "stderr",
     "output_type": "stream",
     "text": [
      " 75%|█████████████████████████████████████████████████████████████████████████████████████████████████████▌                                 | 376/500 [25:40<07:57,  3.85s/it]"
     ]
    },
    {
     "name": "stdout",
     "output_type": "stream",
     "text": [
      "375\t50\t97\t0.05969\tFalse\tFalse\t0:00:03.622246\n"
     ]
    },
    {
     "name": "stderr",
     "output_type": "stream",
     "text": [
      " 75%|█████████████████████████████████████████████████████████████████████████████████████████████████████▊                                 | 377/500 [25:43<07:37,  3.72s/it]"
     ]
    },
    {
     "name": "stdout",
     "output_type": "stream",
     "text": [
      "376\t40\t-1\t0.00000\tFalse\tFalse\t0:00:03.404893\n"
     ]
    },
    {
     "name": "stderr",
     "output_type": "stream",
     "text": [
      " 76%|██████████████████████████████████████████████████████████████████████████████████████████████████████                                 | 378/500 [25:47<07:41,  3.78s/it]"
     ]
    },
    {
     "name": "stdout",
     "output_type": "stream",
     "text": [
      "377\t52\t52\t0.09012\tTrue\tTrue\t0:00:03.923699\n"
     ]
    },
    {
     "name": "stderr",
     "output_type": "stream",
     "text": [
      " 76%|██████████████████████████████████████████████████████████████████████████████████████████████████████▎                                | 379/500 [25:51<07:42,  3.82s/it]"
     ]
    },
    {
     "name": "stdout",
     "output_type": "stream",
     "text": [
      "378\t1\t-1\t0.00000\tFalse\tFalse\t0:00:03.912134\n"
     ]
    },
    {
     "name": "stderr",
     "output_type": "stream",
     "text": [
      " 76%|██████████████████████████████████████████████████████████████████████████████████████████████████████▌                                | 380/500 [25:55<07:42,  3.86s/it]"
     ]
    },
    {
     "name": "stdout",
     "output_type": "stream",
     "text": [
      "379\t56\t56\t2.46326\tTrue\tTrue\t0:00:03.940697\n"
     ]
    },
    {
     "name": "stderr",
     "output_type": "stream",
     "text": [
      " 76%|██████████████████████████████████████████████████████████████████████████████████████████████████████▊                                | 381/500 [25:59<07:41,  3.88s/it]"
     ]
    },
    {
     "name": "stdout",
     "output_type": "stream",
     "text": [
      "380\t13\t87\t1.02534\tFalse\tFalse\t0:00:03.931250\n"
     ]
    },
    {
     "name": "stderr",
     "output_type": "stream",
     "text": [
      " 76%|███████████████████████████████████████████████████████████████████████████████████████████████████████▏                               | 382/500 [26:03<07:45,  3.94s/it]"
     ]
    },
    {
     "name": "stdout",
     "output_type": "stream",
     "text": [
      "381\t27\t8\t0.04200\tFalse\tFalse\t0:00:04.092988\n"
     ]
    },
    {
     "name": "stderr",
     "output_type": "stream",
     "text": [
      " 77%|███████████████████████████████████████████████████████████████████████████████████████████████████████▍                               | 383/500 [26:07<07:52,  4.04s/it]"
     ]
    },
    {
     "name": "stdout",
     "output_type": "stream",
     "text": [
      "382\t95\t-1\t0.00000\tFalse\tFalse\t0:00:04.253128\n"
     ]
    },
    {
     "name": "stderr",
     "output_type": "stream",
     "text": [
      " 77%|███████████████████████████████████████████████████████████████████████████████████████████████████████▋                               | 384/500 [26:12<08:12,  4.25s/it]"
     ]
    },
    {
     "name": "stdout",
     "output_type": "stream",
     "text": [
      "383\t99\t40\t0.09012\tFalse\tFalse\t0:00:04.734231\n"
     ]
    },
    {
     "name": "stderr",
     "output_type": "stream",
     "text": [
      " 77%|███████████████████████████████████████████████████████████████████████████████████████████████████████▉                               | 385/500 [26:16<08:01,  4.18s/it]"
     ]
    },
    {
     "name": "stdout",
     "output_type": "stream",
     "text": [
      "384\t64\t64\t0.34204\tTrue\tTrue\t0:00:04.033375\n"
     ]
    },
    {
     "name": "stderr",
     "output_type": "stream",
     "text": [
      " 77%|████████████████████████████████████████████████████████████████████████████████████████████████████████▏                              | 386/500 [26:21<08:12,  4.32s/it]"
     ]
    },
    {
     "name": "stdout",
     "output_type": "stream",
     "text": [
      "385\t85\t85\t0.20589\tTrue\tTrue\t0:00:04.622843\n"
     ]
    },
    {
     "name": "stderr",
     "output_type": "stream",
     "text": [
      " 77%|████████████████████████████████████████████████████████████████████████████████████████████████████████▍                              | 387/500 [26:25<07:48,  4.15s/it]"
     ]
    },
    {
     "name": "stdout",
     "output_type": "stream",
     "text": [
      "386\t59\t96\t0.53143\tFalse\tFalse\t0:00:03.745527\n"
     ]
    },
    {
     "name": "stderr",
     "output_type": "stream",
     "text": [
      " 78%|████████████████████████████████████████████████████████████████████████████████████████████████████████▊                              | 388/500 [26:29<07:36,  4.07s/it]"
     ]
    },
    {
     "name": "stdout",
     "output_type": "stream",
     "text": [
      "387\t69\t-1\t0.00000\tFalse\tFalse\t0:00:03.897866\n"
     ]
    },
    {
     "name": "stderr",
     "output_type": "stream",
     "text": [
      " 78%|█████████████████████████████████████████████████████████████████████████████████████████████████████████                              | 389/500 [26:32<07:18,  3.95s/it]"
     ]
    },
    {
     "name": "stdout",
     "output_type": "stream",
     "text": [
      "388\t96\t-1\t0.00000\tFalse\tFalse\t0:00:03.663911\n"
     ]
    },
    {
     "name": "stderr",
     "output_type": "stream",
     "text": [
      " 78%|█████████████████████████████████████████████████████████████████████████████████████████████████████████▎                             | 390/500 [26:36<07:15,  3.96s/it]"
     ]
    },
    {
     "name": "stdout",
     "output_type": "stream",
     "text": [
      "389\t23\t23\t2.46326\tTrue\tTrue\t0:00:03.974429\n"
     ]
    },
    {
     "name": "stderr",
     "output_type": "stream",
     "text": [
      " 78%|█████████████████████████████████████████████████████████████████████████████████████████████████████████▌                             | 391/500 [26:40<07:00,  3.85s/it]"
     ]
    },
    {
     "name": "stdout",
     "output_type": "stream",
     "text": [
      "390\t96\t60\t0.46906\tFalse\tFalse\t0:00:03.611966\n"
     ]
    },
    {
     "name": "stderr",
     "output_type": "stream",
     "text": [
      " 78%|█████████████████████████████████████████████████████████████████████████████████████████████████████████▊                             | 392/500 [26:44<06:52,  3.82s/it]"
     ]
    },
    {
     "name": "stdout",
     "output_type": "stream",
     "text": [
      "391\t56\t56\t1.67719\tTrue\tTrue\t0:00:03.747061\n"
     ]
    },
    {
     "name": "stderr",
     "output_type": "stream",
     "text": [
      " 79%|██████████████████████████████████████████████████████████████████████████████████████████████████████████                             | 393/500 [26:47<06:45,  3.79s/it]"
     ]
    },
    {
     "name": "stdout",
     "output_type": "stream",
     "text": [
      "392\t86\t86\t0.04705\tFalse\tTrue\t0:00:03.698347\n"
     ]
    },
    {
     "name": "stderr",
     "output_type": "stream",
     "text": [
      " 79%|██████████████████████████████████████████████████████████████████████████████████████████████████████████▍                            | 394/500 [26:51<06:37,  3.75s/it]"
     ]
    },
    {
     "name": "stdout",
     "output_type": "stream",
     "text": [
      "393\t16\t16\t0.85842\tTrue\tTrue\t0:00:03.662039\n"
     ]
    },
    {
     "name": "stderr",
     "output_type": "stream",
     "text": [
      " 79%|██████████████████████████████████████████████████████████████████████████████████████████████████████████▋                            | 395/500 [26:55<06:31,  3.73s/it]"
     ]
    },
    {
     "name": "stdout",
     "output_type": "stream",
     "text": [
      "394\t86\t-1\t0.00000\tFalse\tFalse\t0:00:03.671709\n"
     ]
    },
    {
     "name": "stderr",
     "output_type": "stream",
     "text": [
      " 79%|██████████████████████████████████████████████████████████████████████████████████████████████████████████▉                            | 396/500 [26:58<06:27,  3.72s/it]"
     ]
    },
    {
     "name": "stdout",
     "output_type": "stream",
     "text": [
      "395\t0\t70\t0.38073\tFalse\tFalse\t0:00:03.707528\n"
     ]
    },
    {
     "name": "stderr",
     "output_type": "stream",
     "text": [
      " 79%|███████████████████████████████████████████████████████████████████████████████████████████████████████████▏                           | 397/500 [27:02<06:21,  3.71s/it]"
     ]
    },
    {
     "name": "stdout",
     "output_type": "stream",
     "text": [
      "396\t66\t-1\t0.00000\tFalse\tFalse\t0:00:03.673048\n"
     ]
    },
    {
     "name": "stderr",
     "output_type": "stream",
     "text": [
      " 80%|███████████████████████████████████████████████████████████████████████████████████████████████████████████▍                           | 398/500 [27:06<06:27,  3.80s/it]"
     ]
    },
    {
     "name": "stdout",
     "output_type": "stream",
     "text": [
      "397\t25\t32\t0.00672\tFalse\tFalse\t0:00:04.017833\n"
     ]
    },
    {
     "name": "stderr",
     "output_type": "stream",
     "text": [
      " 80%|███████████████████████████████████████████████████████████████████████████████████████████████████████████▋                           | 399/500 [27:10<06:43,  4.00s/it]"
     ]
    },
    {
     "name": "stdout",
     "output_type": "stream",
     "text": [
      "398\t57\t0\t0.18767\tFalse\tFalse\t0:00:04.447504\n"
     ]
    },
    {
     "name": "stderr",
     "output_type": "stream",
     "text": [
      " 80%|████████████████████████████████████████████████████████████████████████████████████████████████████████████                           | 400/500 [27:14<06:36,  3.97s/it]"
     ]
    },
    {
     "name": "stdout",
     "output_type": "stream",
     "text": [
      "399\t40\t20\t0.00672\tFalse\tFalse\t0:00:03.898005\n"
     ]
    },
    {
     "name": "stderr",
     "output_type": "stream",
     "text": [
      " 80%|████████████████████████████████████████████████████████████████████████████████████████████████████████████▎                          | 401/500 [27:18<06:23,  3.88s/it]"
     ]
    },
    {
     "name": "stdout",
     "output_type": "stream",
     "text": [
      "400\t55\t27\t0.85450\tFalse\tFalse\t0:00:03.667654\n"
     ]
    },
    {
     "name": "stderr",
     "output_type": "stream",
     "text": [
      " 80%|████████████████████████████████████████████████████████████████████████████████████████████████████████████▌                          | 402/500 [27:22<06:21,  3.89s/it]"
     ]
    },
    {
     "name": "stdout",
     "output_type": "stream",
     "text": [
      "401\t38\t38\t1.01599\tTrue\tTrue\t0:00:03.929165\n"
     ]
    },
    {
     "name": "stderr",
     "output_type": "stream",
     "text": [
      " 81%|████████████████████████████████████████████████████████████████████████████████████████████████████████████▊                          | 403/500 [27:26<06:24,  3.97s/it]"
     ]
    },
    {
     "name": "stdout",
     "output_type": "stream",
     "text": [
      "402\t28\t20\t0.01679\tFalse\tFalse\t0:00:04.131491\n"
     ]
    },
    {
     "name": "stderr",
     "output_type": "stream",
     "text": [
      " 81%|█████████████████████████████████████████████████████████████████████████████████████████████████████████████                          | 404/500 [27:31<06:51,  4.28s/it]"
     ]
    },
    {
     "name": "stdout",
     "output_type": "stream",
     "text": [
      "403\t71\t71\t2.46326\tTrue\tTrue\t0:00:05.026650\n"
     ]
    },
    {
     "name": "stderr",
     "output_type": "stream",
     "text": [
      " 81%|█████████████████████████████████████████████████████████████████████████████████████████████████████████████▎                         | 405/500 [27:35<06:37,  4.18s/it]"
     ]
    },
    {
     "name": "stdout",
     "output_type": "stream",
     "text": [
      "404\t88\t-1\t0.00000\tFalse\tFalse\t0:00:03.930098\n"
     ]
    },
    {
     "name": "stderr",
     "output_type": "stream",
     "text": [
      " 81%|█████████████████████████████████████████████████████████████████████████████████████████████████████████████▌                         | 406/500 [27:39<06:25,  4.11s/it]"
     ]
    },
    {
     "name": "stdout",
     "output_type": "stream",
     "text": [
      "405\t42\t33\t0.17988\tFalse\tFalse\t0:00:03.932789\n"
     ]
    },
    {
     "name": "stderr",
     "output_type": "stream",
     "text": [
      " 81%|█████████████████████████████████████████████████████████████████████████████████████████████████████████████▉                         | 407/500 [27:43<06:17,  4.06s/it]"
     ]
    },
    {
     "name": "stdout",
     "output_type": "stream",
     "text": [
      "406\t91\t27\t0.17471\tFalse\tFalse\t0:00:03.945215\n"
     ]
    },
    {
     "name": "stderr",
     "output_type": "stream",
     "text": [
      " 82%|██████████████████████████████████████████████████████████████████████████████████████████████████████████████▏                        | 408/500 [27:47<06:09,  4.02s/it]"
     ]
    },
    {
     "name": "stdout",
     "output_type": "stream",
     "text": [
      "407\t32\t32\t0.42012\tTrue\tTrue\t0:00:03.925550\n"
     ]
    },
    {
     "name": "stderr",
     "output_type": "stream",
     "text": [
      " 82%|██████████████████████████████████████████████████████████████████████████████████████████████████████████████▍                        | 409/500 [27:51<06:03,  3.99s/it]"
     ]
    },
    {
     "name": "stdout",
     "output_type": "stream",
     "text": [
      "408\t27\t42\t1.61599\tFalse\tFalse\t0:00:03.927532\n"
     ]
    },
    {
     "name": "stderr",
     "output_type": "stream",
     "text": [
      " 82%|██████████████████████████████████████████████████████████████████████████████████████████████████████████████▋                        | 410/500 [27:55<05:58,  3.98s/it]"
     ]
    },
    {
     "name": "stdout",
     "output_type": "stream",
     "text": [
      "409\t62\t62\t1.61599\tTrue\tTrue\t0:00:03.958607\n"
     ]
    },
    {
     "name": "stderr",
     "output_type": "stream",
     "text": [
      " 82%|██████████████████████████████████████████████████████████████████████████████████████████████████████████████▉                        | 411/500 [27:59<06:03,  4.09s/it]"
     ]
    },
    {
     "name": "stdout",
     "output_type": "stream",
     "text": [
      "410\t28\t9\t2.46326\tFalse\tFalse\t0:00:04.337255\n"
     ]
    },
    {
     "name": "stderr",
     "output_type": "stream",
     "text": [
      " 82%|███████████████████████████████████████████████████████████████████████████████████████████████████████████████▏                       | 412/500 [28:04<06:16,  4.28s/it]"
     ]
    },
    {
     "name": "stdout",
     "output_type": "stream",
     "text": [
      "411\t10\t10\t1.13571\tTrue\tTrue\t0:00:04.717292\n"
     ]
    },
    {
     "name": "stderr",
     "output_type": "stream",
     "text": [
      " 83%|███████████████████████████████████████████████████████████████████████████████████████████████████████████████▌                       | 413/500 [28:08<06:03,  4.17s/it]"
     ]
    },
    {
     "name": "stdout",
     "output_type": "stream",
     "text": [
      "412\t24\t55\t0.27447\tFalse\tFalse\t0:00:03.930048\n"
     ]
    },
    {
     "name": "stderr",
     "output_type": "stream",
     "text": [
      " 83%|███████████████████████████████████████████████████████████████████████████████████████████████████████████████▊                       | 414/500 [28:11<05:45,  4.02s/it]"
     ]
    },
    {
     "name": "stdout",
     "output_type": "stream",
     "text": [
      "413\t26\t62\t2.46326\tFalse\tFalse\t0:00:03.646826\n"
     ]
    },
    {
     "name": "stderr",
     "output_type": "stream",
     "text": [
      " 83%|████████████████████████████████████████████████████████████████████████████████████████████████████████████████                       | 415/500 [28:15<05:32,  3.91s/it]"
     ]
    },
    {
     "name": "stdout",
     "output_type": "stream",
     "text": [
      "414\t31\t31\t1.15201\tTrue\tTrue\t0:00:03.666157\n"
     ]
    },
    {
     "name": "stderr",
     "output_type": "stream",
     "text": [
      " 83%|████████████████████████████████████████████████████████████████████████████████████████████████████████████████▎                      | 416/500 [28:19<05:24,  3.86s/it]"
     ]
    },
    {
     "name": "stdout",
     "output_type": "stream",
     "text": [
      "415\t6\t-1\t0.00000\tFalse\tFalse\t0:00:03.743084\n"
     ]
    },
    {
     "name": "stderr",
     "output_type": "stream",
     "text": [
      " 83%|████████████████████████████████████████████████████████████████████████████████████████████████████████████████▌                      | 417/500 [28:23<05:26,  3.93s/it]"
     ]
    },
    {
     "name": "stdout",
     "output_type": "stream",
     "text": [
      "416\t55\t55\t0.64126\tTrue\tTrue\t0:00:04.095515\n"
     ]
    },
    {
     "name": "stderr",
     "output_type": "stream",
     "text": [
      " 84%|████████████████████████████████████████████████████████████████████████████████████████████████████████████████▊                      | 418/500 [28:27<05:23,  3.94s/it]"
     ]
    },
    {
     "name": "stdout",
     "output_type": "stream",
     "text": [
      "417\t32\t89\t0.36407\tFalse\tFalse\t0:00:03.958170\n"
     ]
    },
    {
     "name": "stderr",
     "output_type": "stream",
     "text": [
      " 84%|█████████████████████████████████████████████████████████████████████████████████████████████████████████████████▏                     | 419/500 [28:31<05:31,  4.10s/it]"
     ]
    },
    {
     "name": "stdout",
     "output_type": "stream",
     "text": [
      "418\t67\t29\t2.46326\tFalse\tFalse\t0:00:04.460125\n"
     ]
    },
    {
     "name": "stderr",
     "output_type": "stream",
     "text": [
      " 84%|█████████████████████████████████████████████████████████████████████████████████████████████████████████████████▍                     | 420/500 [28:36<05:35,  4.20s/it]"
     ]
    },
    {
     "name": "stdout",
     "output_type": "stream",
     "text": [
      "419\t15\t-1\t0.00000\tFalse\tFalse\t0:00:04.427171\n"
     ]
    },
    {
     "name": "stderr",
     "output_type": "stream",
     "text": [
      " 84%|█████████████████████████████████████████████████████████████████████████████████████████████████████████████████▋                     | 421/500 [28:41<05:46,  4.38s/it]"
     ]
    },
    {
     "name": "stdout",
     "output_type": "stream",
     "text": [
      "420\t46\t55\t0.38911\tFalse\tFalse\t0:00:04.810575\n"
     ]
    },
    {
     "name": "stderr",
     "output_type": "stream",
     "text": [
      " 84%|█████████████████████████████████████████████████████████████████████████████████████████████████████████████████▉                     | 422/500 [28:46<06:09,  4.73s/it]"
     ]
    },
    {
     "name": "stdout",
     "output_type": "stream",
     "text": [
      "421\t34\t-1\t0.00000\tFalse\tFalse\t0:00:05.546235\n"
     ]
    },
    {
     "name": "stderr",
     "output_type": "stream",
     "text": [
      " 85%|██████████████████████████████████████████████████████████████████████████████████████████████████████████████████▏                    | 423/500 [28:50<05:53,  4.60s/it]"
     ]
    },
    {
     "name": "stdout",
     "output_type": "stream",
     "text": [
      "422\t88\t88\t0.48959\tTrue\tTrue\t0:00:04.276396\n"
     ]
    },
    {
     "name": "stderr",
     "output_type": "stream",
     "text": [
      " 85%|██████████████████████████████████████████████████████████████████████████████████████████████████████████████████▍                    | 424/500 [28:56<06:15,  4.94s/it]"
     ]
    },
    {
     "name": "stdout",
     "output_type": "stream",
     "text": [
      "423\t29\t-1\t0.00000\tFalse\tFalse\t0:00:05.724977\n"
     ]
    },
    {
     "name": "stderr",
     "output_type": "stream",
     "text": [
      " 85%|██████████████████████████████████████████████████████████████████████████████████████████████████████████████████▊                    | 425/500 [29:01<06:07,  4.90s/it]"
     ]
    },
    {
     "name": "stdout",
     "output_type": "stream",
     "text": [
      "424\t96\t37\t0.92757\tFalse\tFalse\t0:00:04.803112\n"
     ]
    },
    {
     "name": "stderr",
     "output_type": "stream",
     "text": [
      " 85%|███████████████████████████████████████████████████████████████████████████████████████████████████████████████████                    | 426/500 [29:05<05:52,  4.76s/it]"
     ]
    },
    {
     "name": "stdout",
     "output_type": "stream",
     "text": [
      "425\t42\t42\t0.53446\tTrue\tTrue\t0:00:04.450446\n"
     ]
    },
    {
     "name": "stderr",
     "output_type": "stream",
     "text": [
      " 85%|███████████████████████████████████████████████████████████████████████████████████████████████████████████████████▎                   | 427/500 [29:10<05:35,  4.60s/it]"
     ]
    },
    {
     "name": "stdout",
     "output_type": "stream",
     "text": [
      "426\t89\t89\t2.46326\tTrue\tTrue\t0:00:04.221928\n"
     ]
    },
    {
     "name": "stderr",
     "output_type": "stream",
     "text": [
      " 86%|███████████████████████████████████████████████████████████████████████████████████████████████████████████████████▌                   | 428/500 [29:14<05:29,  4.57s/it]"
     ]
    },
    {
     "name": "stdout",
     "output_type": "stream",
     "text": [
      "427\t31\t97\t0.36130\tFalse\tFalse\t0:00:04.499216\n"
     ]
    },
    {
     "name": "stderr",
     "output_type": "stream",
     "text": [
      " 86%|███████████████████████████████████████████████████████████████████████████████████████████████████████████████████▊                   | 429/500 [29:18<05:10,  4.37s/it]"
     ]
    },
    {
     "name": "stdout",
     "output_type": "stream",
     "text": [
      "428\t90\t90\t1.02065\tTrue\tTrue\t0:00:03.907420\n"
     ]
    },
    {
     "name": "stderr",
     "output_type": "stream",
     "text": [
      " 86%|████████████████████████████████████████████████████████████████████████████████████████████████████████████████████                   | 430/500 [29:22<04:57,  4.24s/it]"
     ]
    },
    {
     "name": "stdout",
     "output_type": "stream",
     "text": [
      "429\t65\t36\t0.20067\tFalse\tFalse\t0:00:03.941800\n"
     ]
    },
    {
     "name": "stderr",
     "output_type": "stream",
     "text": [
      " 86%|████████████████████████████████████████████████████████████████████████████████████████████████████████████████████▎                  | 431/500 [29:26<04:46,  4.16s/it]"
     ]
    },
    {
     "name": "stdout",
     "output_type": "stream",
     "text": [
      "430\t10\t-1\t0.00000\tFalse\tFalse\t0:00:03.947958\n"
     ]
    },
    {
     "name": "stderr",
     "output_type": "stream",
     "text": [
      " 86%|████████████████████████████████████████████████████████████████████████████████████████████████████████████████████▋                  | 432/500 [29:30<04:43,  4.17s/it]"
     ]
    },
    {
     "name": "stdout",
     "output_type": "stream",
     "text": [
      "431\t94\t94\t0.66761\tTrue\tTrue\t0:00:04.195400\n"
     ]
    },
    {
     "name": "stderr",
     "output_type": "stream",
     "text": [
      " 87%|████████████████████████████████████████████████████████████████████████████████████████████████████████████████████▉                  | 433/500 [29:34<04:41,  4.20s/it]"
     ]
    },
    {
     "name": "stdout",
     "output_type": "stream",
     "text": [
      "432\t92\t54\t1.50199\tFalse\tFalse\t0:00:04.275826\n"
     ]
    },
    {
     "name": "stderr",
     "output_type": "stream",
     "text": [
      " 87%|█████████████████████████████████████████████████████████████████████████████████████████████████████████████████████▏                 | 434/500 [29:39<04:45,  4.33s/it]"
     ]
    },
    {
     "name": "stdout",
     "output_type": "stream",
     "text": [
      "433\t91\t-1\t0.00000\tFalse\tFalse\t0:00:04.638102\n"
     ]
    },
    {
     "name": "stderr",
     "output_type": "stream",
     "text": [
      " 87%|█████████████████████████████████████████████████████████████████████████████████████████████████████████████████████▍                 | 435/500 [29:43<04:33,  4.21s/it]"
     ]
    },
    {
     "name": "stdout",
     "output_type": "stream",
     "text": [
      "434\t60\t60\t1.35356\tTrue\tTrue\t0:00:03.930783\n"
     ]
    },
    {
     "name": "stderr",
     "output_type": "stream",
     "text": [
      " 87%|█████████████████████████████████████████████████████████████████████████████████████████████████████████████████████▋                 | 436/500 [29:48<04:55,  4.61s/it]"
     ]
    },
    {
     "name": "stdout",
     "output_type": "stream",
     "text": [
      "435\t90\t-1\t0.00000\tFalse\tFalse\t0:00:05.546508\n"
     ]
    },
    {
     "name": "stderr",
     "output_type": "stream",
     "text": [
      " 87%|█████████████████████████████████████████████████████████████████████████████████████████████████████████████████████▉                 | 437/500 [29:52<04:37,  4.40s/it]"
     ]
    },
    {
     "name": "stdout",
     "output_type": "stream",
     "text": [
      "436\t81\t12\t1.61599\tFalse\tFalse\t0:00:03.915131\n"
     ]
    },
    {
     "name": "stderr",
     "output_type": "stream",
     "text": [
      " 88%|██████████████████████████████████████████████████████████████████████████████████████████████████████████████████████▎                | 438/500 [29:56<04:27,  4.31s/it]"
     ]
    },
    {
     "name": "stdout",
     "output_type": "stream",
     "text": [
      "437\t23\t-1\t0.00000\tFalse\tFalse\t0:00:04.091349\n"
     ]
    },
    {
     "name": "stderr",
     "output_type": "stream",
     "text": [
      " 88%|██████████████████████████████████████████████████████████████████████████████████████████████████████████████████████▌                | 439/500 [30:02<04:48,  4.72s/it]"
     ]
    },
    {
     "name": "stdout",
     "output_type": "stream",
     "text": [
      "438\t97\t97\t2.35765\tTrue\tTrue\t0:00:05.682794\n"
     ]
    },
    {
     "name": "stderr",
     "output_type": "stream",
     "text": [
      " 88%|██████████████████████████████████████████████████████████████████████████████████████████████████████████████████████▊                | 440/500 [30:06<04:33,  4.56s/it]"
     ]
    },
    {
     "name": "stdout",
     "output_type": "stream",
     "text": [
      "439\t31\t-1\t0.00000\tFalse\tFalse\t0:00:04.161525\n"
     ]
    },
    {
     "name": "stderr",
     "output_type": "stream",
     "text": [
      " 88%|███████████████████████████████████████████████████████████████████████████████████████████████████████████████████████                | 441/500 [30:11<04:26,  4.51s/it]"
     ]
    },
    {
     "name": "stdout",
     "output_type": "stream",
     "text": [
      "440\t74\t-1\t0.00000\tFalse\tFalse\t0:00:04.416433\n"
     ]
    },
    {
     "name": "stderr",
     "output_type": "stream",
     "text": [
      " 88%|███████████████████████████████████████████████████████████████████████████████████████████████████████████████████████▎               | 442/500 [30:15<04:18,  4.45s/it]"
     ]
    },
    {
     "name": "stdout",
     "output_type": "stream",
     "text": [
      "441\t75\t64\t0.22683\tFalse\tFalse\t0:00:04.309889\n"
     ]
    },
    {
     "name": "stderr",
     "output_type": "stream",
     "text": [
      " 89%|███████████████████████████████████████████████████████████████████████████████████████████████████████████████████████▌               | 443/500 [30:20<04:16,  4.50s/it]"
     ]
    },
    {
     "name": "stdout",
     "output_type": "stream",
     "text": [
      "442\t98\t35\t0.05969\tFalse\tFalse\t0:00:04.620944\n"
     ]
    },
    {
     "name": "stderr",
     "output_type": "stream",
     "text": [
      " 89%|███████████████████████████████████████████████████████████████████████████████████████████████████████████████████████▉               | 444/500 [30:24<04:06,  4.41s/it]"
     ]
    },
    {
     "name": "stdout",
     "output_type": "stream",
     "text": [
      "443\t5\t13\t0.58688\tFalse\tFalse\t0:00:04.176431\n"
     ]
    },
    {
     "name": "stderr",
     "output_type": "stream",
     "text": [
      " 89%|████████████████████████████████████████████████████████████████████████████████████████████████████████████████████████▏              | 445/500 [30:28<04:04,  4.44s/it]"
     ]
    },
    {
     "name": "stdout",
     "output_type": "stream",
     "text": [
      "444\t6\t-1\t0.00000\tFalse\tFalse\t0:00:04.516666\n"
     ]
    },
    {
     "name": "stderr",
     "output_type": "stream",
     "text": [
      " 89%|████████████████████████████████████████████████████████████████████████████████████████████████████████████████████████▍              | 446/500 [30:33<04:00,  4.45s/it]"
     ]
    },
    {
     "name": "stdout",
     "output_type": "stream",
     "text": [
      "445\t48\t48\t0.52840\tTrue\tTrue\t0:00:04.462715\n"
     ]
    },
    {
     "name": "stderr",
     "output_type": "stream",
     "text": [
      " 89%|████████████████████████████████████████████████████████████████████████████████████████████████████████████████████████▋              | 447/500 [30:37<03:50,  4.36s/it]"
     ]
    },
    {
     "name": "stdout",
     "output_type": "stream",
     "text": [
      "446\t40\t28\t0.71507\tFalse\tFalse\t0:00:04.144019\n"
     ]
    },
    {
     "name": "stderr",
     "output_type": "stream",
     "text": [
      " 90%|████████████████████████████████████████████████████████████████████████████████████████████████████████████████████████▉              | 448/500 [30:42<03:54,  4.52s/it]"
     ]
    },
    {
     "name": "stdout",
     "output_type": "stream",
     "text": [
      "447\t66\t-1\t0.00000\tFalse\tFalse\t0:00:04.889328\n"
     ]
    },
    {
     "name": "stderr",
     "output_type": "stream",
     "text": [
      " 90%|█████████████████████████████████████████████████████████████████████████████████████████████████████████████████████████▏             | 449/500 [30:47<04:01,  4.73s/it]"
     ]
    },
    {
     "name": "stdout",
     "output_type": "stream",
     "text": [
      "448\t68\t58\t0.38911\tFalse\tFalse\t0:00:05.233995\n"
     ]
    },
    {
     "name": "stderr",
     "output_type": "stream",
     "text": [
      " 90%|█████████████████████████████████████████████████████████████████████████████████████████████████████████████████████████▌             | 450/500 [30:51<03:50,  4.60s/it]"
     ]
    },
    {
     "name": "stdout",
     "output_type": "stream",
     "text": [
      "449\t4\t-1\t0.00000\tFalse\tFalse\t0:00:04.294960\n"
     ]
    },
    {
     "name": "stderr",
     "output_type": "stream",
     "text": [
      " 90%|█████████████████████████████████████████████████████████████████████████████████████████████████████████████████████████▊             | 451/500 [30:56<03:41,  4.52s/it]"
     ]
    },
    {
     "name": "stdout",
     "output_type": "stream",
     "text": [
      "450\t45\t98\t0.08757\tFalse\tFalse\t0:00:04.333574\n"
     ]
    },
    {
     "name": "stderr",
     "output_type": "stream",
     "text": [
      " 90%|██████████████████████████████████████████████████████████████████████████████████████████████████████████████████████████             | 452/500 [31:00<03:31,  4.42s/it]"
     ]
    },
    {
     "name": "stdout",
     "output_type": "stream",
     "text": [
      "451\t42\t-1\t0.00000\tFalse\tFalse\t0:00:04.165648\n"
     ]
    },
    {
     "name": "stderr",
     "output_type": "stream",
     "text": [
      " 91%|██████████████████████████████████████████████████████████████████████████████████████████████████████████████████████████▎            | 453/500 [31:04<03:20,  4.28s/it]"
     ]
    },
    {
     "name": "stdout",
     "output_type": "stream",
     "text": [
      "452\t5\t5\t2.46326\tTrue\tTrue\t0:00:03.945858\n"
     ]
    },
    {
     "name": "stderr",
     "output_type": "stream",
     "text": [
      " 91%|██████████████████████████████████████████████████████████████████████████████████████████████████████████████████████████▌            | 454/500 [31:08<03:13,  4.21s/it]"
     ]
    },
    {
     "name": "stdout",
     "output_type": "stream",
     "text": [
      "453\t14\t-1\t0.00000\tFalse\tFalse\t0:00:04.049142\n"
     ]
    },
    {
     "name": "stderr",
     "output_type": "stream",
     "text": [
      " 91%|██████████████████████████████████████████████████████████████████████████████████████████████████████████████████████████▊            | 455/500 [31:13<03:25,  4.56s/it]"
     ]
    },
    {
     "name": "stdout",
     "output_type": "stream",
     "text": [
      "454\t56\t56\t2.46326\tTrue\tTrue\t0:00:05.367918\n"
     ]
    },
    {
     "name": "stderr",
     "output_type": "stream",
     "text": [
      " 91%|███████████████████████████████████████████████████████████████████████████████████████████████████████████████████████████            | 456/500 [31:18<03:19,  4.53s/it]"
     ]
    },
    {
     "name": "stdout",
     "output_type": "stream",
     "text": [
      "455\t83\t53\t1.59340\tFalse\tFalse\t0:00:04.456738\n"
     ]
    },
    {
     "name": "stderr",
     "output_type": "stream",
     "text": [
      " 91%|███████████████████████████████████████████████████████████████████████████████████████████████████████████████████████████▍           | 457/500 [31:22<03:13,  4.49s/it]"
     ]
    },
    {
     "name": "stdout",
     "output_type": "stream",
     "text": [
      "456\t23\t-1\t0.00000\tFalse\tFalse\t0:00:04.407157\n"
     ]
    },
    {
     "name": "stderr",
     "output_type": "stream",
     "text": [
      " 92%|███████████████████████████████████████████████████████████████████████████████████████████████████████████████████████████▋           | 458/500 [31:27<03:08,  4.49s/it]"
     ]
    },
    {
     "name": "stdout",
     "output_type": "stream",
     "text": [
      "457\t47\t-1\t0.00000\tFalse\tFalse\t0:00:04.487289\n"
     ]
    },
    {
     "name": "stderr",
     "output_type": "stream",
     "text": [
      " 92%|███████████████████████████████████████████████████████████████████████████████████████████████████████████████████████████▉           | 459/500 [31:31<03:01,  4.43s/it]"
     ]
    },
    {
     "name": "stdout",
     "output_type": "stream",
     "text": [
      "458\t7\t-1\t0.00000\tFalse\tFalse\t0:00:04.278500\n"
     ]
    },
    {
     "name": "stderr",
     "output_type": "stream",
     "text": [
      " 92%|████████████████████████████████████████████████████████████████████████████████████████████████████████████████████████████▏          | 460/500 [31:35<02:51,  4.29s/it]"
     ]
    },
    {
     "name": "stdout",
     "output_type": "stream",
     "text": [
      "459\t82\t82\t2.46326\tTrue\tTrue\t0:00:03.967482\n"
     ]
    },
    {
     "name": "stderr",
     "output_type": "stream",
     "text": [
      " 92%|████████████████████████████████████████████████████████████████████████████████████████████████████████████████████████████▍          | 461/500 [31:41<03:04,  4.72s/it]"
     ]
    },
    {
     "name": "stdout",
     "output_type": "stream",
     "text": [
      "460\t54\t70\t2.46326\tFalse\tFalse\t0:00:05.728042\n"
     ]
    },
    {
     "name": "stderr",
     "output_type": "stream",
     "text": [
      " 92%|████████████████████████████████████████████████████████████████████████████████████████████████████████████████████████████▋          | 462/500 [31:45<02:57,  4.66s/it]"
     ]
    },
    {
     "name": "stdout",
     "output_type": "stream",
     "text": [
      "461\t50\t4\t0.60583\tFalse\tFalse\t0:00:04.517596\n"
     ]
    },
    {
     "name": "stderr",
     "output_type": "stream",
     "text": [
      " 93%|█████████████████████████████████████████████████████████████████████████████████████████████████████████████████████████████          | 463/500 [31:49<02:47,  4.52s/it]"
     ]
    },
    {
     "name": "stdout",
     "output_type": "stream",
     "text": [
      "462\t41\t-1\t0.00000\tFalse\tFalse\t0:00:04.186006\n"
     ]
    },
    {
     "name": "stderr",
     "output_type": "stream",
     "text": [
      " 93%|█████████████████████████████████████████████████████████████████████████████████████████████████████████████████████████████▎         | 464/500 [31:54<02:39,  4.44s/it]"
     ]
    },
    {
     "name": "stdout",
     "output_type": "stream",
     "text": [
      "463\t98\t11\t2.46326\tFalse\tFalse\t0:00:04.257059\n"
     ]
    },
    {
     "name": "stderr",
     "output_type": "stream",
     "text": [
      " 93%|█████████████████████████████████████████████████████████████████████████████████████████████████████████████████████████████▌         | 465/500 [31:58<02:36,  4.47s/it]"
     ]
    },
    {
     "name": "stdout",
     "output_type": "stream",
     "text": [
      "464\t18\t-1\t0.00000\tFalse\tFalse\t0:00:04.527801\n"
     ]
    },
    {
     "name": "stderr",
     "output_type": "stream",
     "text": [
      " 93%|█████████████████████████████████████████████████████████████████████████████████████████████████████████████████████████████▊         | 466/500 [32:02<02:29,  4.40s/it]"
     ]
    },
    {
     "name": "stdout",
     "output_type": "stream",
     "text": [
      "465\t58\t68\t0.23999\tFalse\tFalse\t0:00:04.251729\n"
     ]
    },
    {
     "name": "stderr",
     "output_type": "stream",
     "text": [
      " 93%|██████████████████████████████████████████████████████████████████████████████████████████████████████████████████████████████         | 467/500 [32:07<02:23,  4.35s/it]"
     ]
    },
    {
     "name": "stdout",
     "output_type": "stream",
     "text": [
      "466\t46\t-1\t0.00000\tFalse\tFalse\t0:00:04.218983\n"
     ]
    },
    {
     "name": "stderr",
     "output_type": "stream",
     "text": [
      " 94%|██████████████████████████████████████████████████████████████████████████████████████████████████████████████████████████████▎        | 468/500 [32:11<02:17,  4.30s/it]"
     ]
    },
    {
     "name": "stdout",
     "output_type": "stream",
     "text": [
      "467\t8\t-1\t0.00000\tFalse\tFalse\t0:00:04.179118\n"
     ]
    },
    {
     "name": "stderr",
     "output_type": "stream",
     "text": [
      " 94%|██████████████████████████████████████████████████████████████████████████████████████████████████████████████████████████████▋        | 469/500 [32:15<02:10,  4.22s/it]"
     ]
    },
    {
     "name": "stdout",
     "output_type": "stream",
     "text": [
      "468\t3\t-1\t0.00000\tFalse\tFalse\t0:00:04.041861\n"
     ]
    },
    {
     "name": "stderr",
     "output_type": "stream",
     "text": [
      " 94%|██████████████████████████████████████████████████████████████████████████████████████████████████████████████████████████████▉        | 470/500 [32:19<02:06,  4.21s/it]"
     ]
    },
    {
     "name": "stdout",
     "output_type": "stream",
     "text": [
      "469\t41\t-1\t0.00000\tFalse\tFalse\t0:00:04.183882\n"
     ]
    },
    {
     "name": "stderr",
     "output_type": "stream",
     "text": [
      " 94%|███████████████████████████████████████████████████████████████████████████████████████████████████████████████████████████████▏       | 471/500 [32:25<02:14,  4.63s/it]"
     ]
    },
    {
     "name": "stdout",
     "output_type": "stream",
     "text": [
      "470\t22\t22\t2.46326\tTrue\tTrue\t0:00:05.604977\n"
     ]
    },
    {
     "name": "stderr",
     "output_type": "stream",
     "text": [
      " 94%|███████████████████████████████████████████████████████████████████████████████████████████████████████████████████████████████▍       | 472/500 [32:29<02:05,  4.50s/it]"
     ]
    },
    {
     "name": "stdout",
     "output_type": "stream",
     "text": [
      "471\t46\t21\t2.46326\tFalse\tFalse\t0:00:04.178842\n"
     ]
    },
    {
     "name": "stderr",
     "output_type": "stream",
     "text": [
      " 95%|███████████████████████████████████████████████████████████████████████████████████████████████████████████████████████████████▋       | 473/500 [32:34<02:03,  4.57s/it]"
     ]
    },
    {
     "name": "stdout",
     "output_type": "stream",
     "text": [
      "472\t78\t79\t0.12838\tFalse\tFalse\t0:00:04.744534\n"
     ]
    },
    {
     "name": "stderr",
     "output_type": "stream",
     "text": [
      " 95%|███████████████████████████████████████████████████████████████████████████████████████████████████████████████████████████████▉       | 474/500 [32:39<02:07,  4.89s/it]"
     ]
    },
    {
     "name": "stdout",
     "output_type": "stream",
     "text": [
      "473\t61\t-1\t0.00000\tFalse\tFalse\t0:00:05.631381\n"
     ]
    },
    {
     "name": "stderr",
     "output_type": "stream",
     "text": [
      " 95%|████████████████████████████████████████████████████████████████████████████████████████████████████████████████████████████████▎      | 475/500 [32:43<01:57,  4.71s/it]"
     ]
    },
    {
     "name": "stdout",
     "output_type": "stream",
     "text": [
      "474\t70\t70\t0.99306\tTrue\tTrue\t0:00:04.271980\n"
     ]
    },
    {
     "name": "stderr",
     "output_type": "stream",
     "text": [
      " 95%|████████████████████████████████████████████████████████████████████████████████████████████████████████████████████████████████▌      | 476/500 [32:48<01:49,  4.56s/it]"
     ]
    },
    {
     "name": "stdout",
     "output_type": "stream",
     "text": [
      "475\t76\t-1\t0.00000\tFalse\tFalse\t0:00:04.227203\n"
     ]
    },
    {
     "name": "stderr",
     "output_type": "stream",
     "text": [
      " 95%|████████████████████████████████████████████████████████████████████████████████████████████████████████████████████████████████▊      | 477/500 [32:52<01:44,  4.55s/it]"
     ]
    },
    {
     "name": "stdout",
     "output_type": "stream",
     "text": [
      "476\t74\t-1\t0.00000\tFalse\tFalse\t0:00:04.527324\n"
     ]
    },
    {
     "name": "stderr",
     "output_type": "stream",
     "text": [
      " 96%|█████████████████████████████████████████████████████████████████████████████████████████████████████████████████████████████████      | 478/500 [32:56<01:37,  4.45s/it]"
     ]
    },
    {
     "name": "stdout",
     "output_type": "stream",
     "text": [
      "477\t40\t-1\t0.00000\tFalse\tFalse\t0:00:04.210180\n"
     ]
    },
    {
     "name": "stderr",
     "output_type": "stream",
     "text": [
      " 96%|█████████████████████████████████████████████████████████████████████████████████████████████████████████████████████████████████▎     | 479/500 [33:01<01:31,  4.36s/it]"
     ]
    },
    {
     "name": "stdout",
     "output_type": "stream",
     "text": [
      "478\t33\t-1\t0.00000\tFalse\tFalse\t0:00:04.158679\n"
     ]
    },
    {
     "name": "stderr",
     "output_type": "stream",
     "text": [
      " 96%|█████████████████████████████████████████████████████████████████████████████████████████████████████████████████████████████████▌     | 480/500 [33:05<01:25,  4.25s/it]"
     ]
    },
    {
     "name": "stdout",
     "output_type": "stream",
     "text": [
      "479\t83\t-1\t0.00000\tFalse\tFalse\t0:00:03.991782\n"
     ]
    },
    {
     "name": "stderr",
     "output_type": "stream",
     "text": [
      " 96%|█████████████████████████████████████████████████████████████████████████████████████████████████████████████████████████████████▊     | 481/500 [33:09<01:22,  4.34s/it]"
     ]
    },
    {
     "name": "stdout",
     "output_type": "stream",
     "text": [
      "480\t81\t-1\t0.00000\tFalse\tFalse\t0:00:04.527697\n"
     ]
    },
    {
     "name": "stderr",
     "output_type": "stream",
     "text": [
      " 96%|██████████████████████████████████████████████████████████████████████████████████████████████████████████████████████████████████▏    | 482/500 [33:14<01:18,  4.37s/it]"
     ]
    },
    {
     "name": "stdout",
     "output_type": "stream",
     "text": [
      "481\t51\t-1\t0.00000\tFalse\tFalse\t0:00:04.455257\n"
     ]
    },
    {
     "name": "stderr",
     "output_type": "stream",
     "text": [
      " 97%|██████████████████████████████████████████████████████████████████████████████████████████████████████████████████████████████████▍    | 483/500 [33:18<01:13,  4.30s/it]"
     ]
    },
    {
     "name": "stdout",
     "output_type": "stream",
     "text": [
      "482\t22\t-1\t0.00000\tFalse\tFalse\t0:00:04.127794\n"
     ]
    },
    {
     "name": "stderr",
     "output_type": "stream",
     "text": [
      " 97%|██████████████████████████████████████████████████████████████████████████████████████████████████████████████████████████████████▋    | 484/500 [33:22<01:09,  4.35s/it]"
     ]
    },
    {
     "name": "stdout",
     "output_type": "stream",
     "text": [
      "483\t88\t51\t0.41162\tFalse\tFalse\t0:00:04.471741\n"
     ]
    },
    {
     "name": "stderr",
     "output_type": "stream",
     "text": [
      " 97%|██████████████████████████████████████████████████████████████████████████████████████████████████████████████████████████████████▉    | 485/500 [33:27<01:05,  4.37s/it]"
     ]
    },
    {
     "name": "stdout",
     "output_type": "stream",
     "text": [
      "484\t55\t55\t0.05463\tFalse\tTrue\t0:00:04.413165\n"
     ]
    },
    {
     "name": "stderr",
     "output_type": "stream",
     "text": [
      " 97%|███████████████████████████████████████████████████████████████████████████████████████████████████████████████████████████████████▏   | 486/500 [33:32<01:07,  4.81s/it]"
     ]
    },
    {
     "name": "stdout",
     "output_type": "stream",
     "text": [
      "485\t79\t7\t1.59340\tFalse\tFalse\t0:00:05.770384\n"
     ]
    },
    {
     "name": "stderr",
     "output_type": "stream",
     "text": [
      " 97%|███████████████████████████████████████████████████████████████████████████████████████████████████████████████████████████████████▍   | 487/500 [33:37<01:00,  4.62s/it]"
     ]
    },
    {
     "name": "stdout",
     "output_type": "stream",
     "text": [
      "486\t0\t0\t2.46326\tTrue\tTrue\t0:00:04.177691\n"
     ]
    },
    {
     "name": "stderr",
     "output_type": "stream",
     "text": [
      " 98%|███████████████████████████████████████████████████████████████████████████████████████████████████████████████████████████████████▊   | 488/500 [33:41<00:54,  4.55s/it]"
     ]
    },
    {
     "name": "stdout",
     "output_type": "stream",
     "text": [
      "487\t17\t-1\t0.00000\tFalse\tFalse\t0:00:04.351768\n"
     ]
    },
    {
     "name": "stderr",
     "output_type": "stream",
     "text": [
      " 98%|████████████████████████████████████████████████████████████████████████████████████████████████████████████████████████████████████   | 489/500 [33:45<00:49,  4.46s/it]"
     ]
    },
    {
     "name": "stdout",
     "output_type": "stream",
     "text": [
      "488\t27\t27\t0.44587\tTrue\tTrue\t0:00:04.249259\n"
     ]
    },
    {
     "name": "stderr",
     "output_type": "stream",
     "text": [
      " 98%|████████████████████████████████████████████████████████████████████████████████████████████████████████████████████████████████████▎  | 490/500 [33:51<00:48,  4.83s/it]"
     ]
    },
    {
     "name": "stdout",
     "output_type": "stream",
     "text": [
      "489\t83\t92\t1.13571\tFalse\tFalse\t0:00:05.670460\n"
     ]
    },
    {
     "name": "stderr",
     "output_type": "stream",
     "text": [
      " 98%|████████████████████████████████████████████████████████████████████████████████████████████████████████████████████████████████████▌  | 491/500 [33:55<00:41,  4.66s/it]"
     ]
    },
    {
     "name": "stdout",
     "output_type": "stream",
     "text": [
      "490\t99\t22\t0.99306\tFalse\tFalse\t0:00:04.265134\n"
     ]
    },
    {
     "name": "stderr",
     "output_type": "stream",
     "text": [
      " 98%|████████████████████████████████████████████████████████████████████████████████████████████████████████████████████████████████████▊  | 492/500 [33:59<00:36,  4.51s/it]"
     ]
    },
    {
     "name": "stdout",
     "output_type": "stream",
     "text": [
      "491\t24\t63\t0.18507\tFalse\tFalse\t0:00:04.173498\n"
     ]
    },
    {
     "name": "stderr",
     "output_type": "stream",
     "text": [
      " 99%|█████████████████████████████████████████████████████████████████████████████████████████████████████████████████████████████████████  | 493/500 [34:04<00:31,  4.50s/it]"
     ]
    },
    {
     "name": "stdout",
     "output_type": "stream",
     "text": [
      "492\t40\t69\t0.71507\tFalse\tFalse\t0:00:04.449088\n"
     ]
    },
    {
     "name": "stderr",
     "output_type": "stream",
     "text": [
      " 99%|█████████████████████████████████████████████████████████████████████████████████████████████████████████████████████████████████████▍ | 494/500 [34:09<00:27,  4.56s/it]"
     ]
    },
    {
     "name": "stdout",
     "output_type": "stream",
     "text": [
      "493\t40\t87\t2.46326\tFalse\tFalse\t0:00:04.721600\n"
     ]
    },
    {
     "name": "stderr",
     "output_type": "stream",
     "text": [
      " 99%|█████████████████████████████████████████████████████████████████████████████████████████████████████████████████████████████████████▋ | 495/500 [34:13<00:22,  4.49s/it]"
     ]
    },
    {
     "name": "stdout",
     "output_type": "stream",
     "text": [
      "494\t70\t54\t0.85059\tFalse\tFalse\t0:00:04.322355\n"
     ]
    },
    {
     "name": "stderr",
     "output_type": "stream",
     "text": [
      " 99%|█████████████████████████████████████████████████████████████████████████████████████████████████████████████████████████████████████▉ | 496/500 [34:17<00:17,  4.46s/it]"
     ]
    },
    {
     "name": "stdout",
     "output_type": "stream",
     "text": [
      "495\t0\t-1\t0.00000\tFalse\tFalse\t0:00:04.368727\n"
     ]
    },
    {
     "name": "stderr",
     "output_type": "stream",
     "text": [
      " 99%|██████████████████████████████████████████████████████████████████████████████████████████████████████████████████████████████████████▏| 497/500 [34:21<00:13,  4.37s/it]"
     ]
    },
    {
     "name": "stdout",
     "output_type": "stream",
     "text": [
      "496\t27\t-1\t0.00000\tFalse\tFalse\t0:00:04.163285\n"
     ]
    },
    {
     "name": "stderr",
     "output_type": "stream",
     "text": [
      "100%|██████████████████████████████████████████████████████████████████████████████████████████████████████████████████████████████████████▍| 498/500 [34:26<00:08,  4.44s/it]"
     ]
    },
    {
     "name": "stdout",
     "output_type": "stream",
     "text": [
      "497\t67\t67\t0.67094\tTrue\tTrue\t0:00:04.591307\n"
     ]
    },
    {
     "name": "stderr",
     "output_type": "stream",
     "text": [
      "100%|██████████████████████████████████████████████████████████████████████████████████████████████████████████████████████████████████████▋| 499/500 [34:31<00:04,  4.68s/it]"
     ]
    },
    {
     "name": "stdout",
     "output_type": "stream",
     "text": [
      "498\t74\t78\t2.46326\tFalse\tFalse\t0:00:05.248740\n"
     ]
    },
    {
     "name": "stderr",
     "output_type": "stream",
     "text": [
      "100%|███████████████████████████████████████████████████████████████████████████████████████████████████████████████████████████████████████| 500/500 [34:36<00:00,  4.15s/it]"
     ]
    },
    {
     "name": "stdout",
     "output_type": "stream",
     "text": [
      "499\t29\t-1\t0.00000\tFalse\tFalse\t0:00:04.976512\n",
      "Total 500 Certified 141 Certified Acc 0.282 Test Acc 0.302\n"
     ]
    },
    {
     "name": "stderr",
     "output_type": "stream",
     "text": [
      "\n"
     ]
    }
   ],
   "source": [
    "# args.base_classifier = \"../../tss_weights/cifar10/resnet110/brightness-contrast/0.3_0.3/consistency/checkpoint.pth.tar\"\n",
    "# args.base_classifier = \"../../new_results/cifar100_resnet110_cifar100_cb_cifar100_cb_checkpoint.pth.tar\"\n",
    "args.base_classifier = '../../new_results/trcifar100_resnet110_cifar100_tr_cifar100_trans_checkpoint.pth.tar'\n",
    "args.dataset = 'cifar100'\n",
    "dataset = our_cifar100_500\n",
    "\n",
    "\n",
    "\n",
    "device = torch.device('cuda')\n",
    "\n",
    "\n",
    "model = get_architecture(arch=\"cifar100_resnet110\", dataset=\"cifar100\", device=device)\n",
    "checkpoint = torch.load(args.base_classifier, map_location=device)\n",
    "model.load_state_dict(checkpoint['state_dict'])\n",
    "model.eval()\n",
    "model = model.to(device)\n",
    "\n",
    "base_classifier = model\n",
    "\n",
    "\n",
    "img_size, param_size = get_size(args)\n",
    "\n",
    "model_t = img2img_get_model(args, img_size, param_size,parallel=False)\n",
    "\n",
    "trans_path = None\n",
    "if trans_path is not None:\n",
    "    state_dict = torch.load(trans_path)['state_dict']\n",
    "    model_t.load_state_dict(state_dict)\n",
    "# model_t = load_parallel_model(model_t, state_dict)\n",
    "\n",
    "# to device\n",
    "base_classifier.to(device)\n",
    "base_classifier.eval()\n",
    "model_t.to(device)\n",
    "model_t.eval()\n",
    "\n",
    "\n",
    "#load dataset\n",
    "\n",
    "# corruptor\n",
    "corruptor = Corruption(args, co_type=args.corrupt,add_noise=args.add_noise,noise_sd=args.noise_sd,distribution=args.noise_dst)\n",
    "\n",
    "# create the smooothed classifier g\n",
    "smoothed_classifier = TSmooth(base_classifier, None, corruptor, get_num_classes(args.dataset),args.noise_dst,args.noise_sd, args.add_noise)\n",
    "\n",
    "# prepare output file\n",
    "f = open(args.outfile+'_'+args.dataset+'_'+args.corrupt+'_'+str(args.noise_sd), 'w')\n",
    "print(\"idx\\tlabel\\tpredict\\tradius\\tgood\\tcorrect\\ttime\", file=f, flush=True)\n",
    "print(\"idx\\tlabel\\tpredict\\tradius\\tgood\\tcorrect\\ttime\")\n",
    "\n",
    "tot, tot_good, tot_correct = 0, 0, 0\n",
    "\n",
    "# for gaussian smooth\n",
    "attack_radius = args.partial_max\n",
    "\n",
    "\n",
    "\n",
    "\n",
    "for i in tqdm(range(len(dataset))):\n",
    "\n",
    "#     # only certify every args.skip examples, and stop after args.max examples\n",
    "#     if i % args.skip != 0:\n",
    "#         continue\n",
    "#     if i == args.max:\n",
    "#         break\n",
    "\n",
    "    (x, label) = dataset[i]\n",
    "\n",
    "    before_time = time()\n",
    "    x = x.cuda()\n",
    "    prediction, radius = smoothed_classifier.certify(x, args.N0, args.N, args.alpha, args.batch)\n",
    "\n",
    "\n",
    "    correct = (prediction == label).item()\n",
    "    cond1 = radius * args.noise_sd > args.partial_max\n",
    "#     print(cond1.dtype)\n",
    "#     print(correct.dtype)\n",
    "    good = (radius * args.noise_sd > args.partial_max)&correct\n",
    "\n",
    "    tot, tot_good, tot_correct = tot+1, tot_good+good, tot_correct+correct\n",
    "    after_time = time()\n",
    "    time_elapsed = str(datetime.timedelta(seconds=(after_time - before_time)))\n",
    "    print(\"{}\\t{}\\t{}\\t{:.5f}\\t{}\\t{}\\t{}\".format(i, label, prediction, radius, good, correct, time_elapsed))\n",
    "\n",
    "f.close()\n",
    "\n",
    "print(\"Total {} Certified {} Certified Acc {} Test Acc {}\".format(tot, tot_good, tot_good/tot, tot_correct/tot))\n",
    "\n",
    "f = open(args.outfile+'_'+args.dataset+'_'+args.corrupt+'_'+str(args.noise_sd), 'w')\n",
    "print(\"Total {} Certified {} Certified Acc {} Test Acc {}\".format(tot, tot_good, tot_good/tot, tot_correct/tot), file=f, flush=True)\n",
    "f.close()"
   ]
  },
  {
   "cell_type": "code",
   "execution_count": 12,
   "id": "31d34ea8",
   "metadata": {},
   "outputs": [
    {
     "name": "stdout",
     "output_type": "stream",
     "text": [
      "Total 500 Certified 413 Certified Acc 0.826 Test Acc 0.866\n"
     ]
    }
   ],
   "source": [
    "## Gsmooth\n",
    "\n",
    "print(\"Total {} Certified {} Certified Acc {} Test Acc {}\".format(tot, tot_good, tot_good/tot, tot_correct/tot))"
   ]
  },
  {
   "cell_type": "code",
   "execution_count": 15,
   "id": "6109aab3",
   "metadata": {},
   "outputs": [],
   "source": [
    "f = open(args.outfile+'_'+args.corrupt+'_'+str(args.noise_sd), 'w')\n",
    "print(\"Total {} Certified {} Certified Acc {} Test Acc {}\".format(tot, tot_good, tot_good/tot, tot_correct/tot), file=f, flush=True)\n",
    "f.close()"
   ]
  },
  {
   "cell_type": "code",
   "execution_count": null,
   "id": "bd9f6be9",
   "metadata": {},
   "outputs": [],
   "source": []
  }
 ],
 "metadata": {
  "kernelspec": {
   "display_name": "Python 3 (ipykernel)",
   "language": "python",
   "name": "python3"
  },
  "language_info": {
   "codemirror_mode": {
    "name": "ipython",
    "version": 3
   },
   "file_extension": ".py",
   "mimetype": "text/x-python",
   "name": "python",
   "nbconvert_exporter": "python",
   "pygments_lexer": "ipython3",
   "version": "3.8.12"
  }
 },
 "nbformat": 4,
 "nbformat_minor": 5
}
